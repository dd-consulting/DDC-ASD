{
 "cells": [
  {
   "cell_type": "code",
   "execution_count": 2,
   "metadata": {},
   "outputs": [],
   "source": [
    "# < R > #\n",
    "\n",
    "\n",
    "# < PY > #\n"
   ]
  },
  {
   "cell_type": "markdown",
   "metadata": {},
   "source": [
    "<div class=\"alert alert-block alert-info\" style=\"margin-top: 20px\">\n",
    "    <a href=\"https://github.com/dd-consulting\">\n",
    "         <img src=\"../reference/GZ_logo.png\" width=\"60\" align=\"right\">\n",
    "    </a>\n",
    "    <h1>\n",
    "        One-Stop Analytics: Python\n",
    "    </h1>\n",
    "</div>\n"
   ]
  },
  {
   "cell_type": "markdown",
   "metadata": {},
   "source": [
    "# Case Study of Autism Spectrum Disorder (ASD) with Python\n",
    "\n",
    "---\n",
    "\n",
    "![](../reference/CDC_ASD/CDC_ASD_01.jpg)\n",
    "\n",
    "![](../reference/CDC_ASD/CDC_ASD_02.png)\n"
   ]
  },
  {
   "cell_type": "markdown",
   "metadata": {},
   "source": [
    "## <span style=\"color:blue\">[ United States ]</span> \n",
    "\n",
    "## Centers for Disease Control and Prevention (CDC) - Autism Spectrum Disorder (ASD)\n",
    "\n",
    "Autism spectrum disorder (ASD) is a developmental disability that can cause significant social, communication and behavioral challenges. CDC is committed to continuing to provide essential data on ASD, search for factors that put children at risk for ASD and possible causes, and develop resources that help identify children with ASD as early as possible.\n",
    "\n",
    "https://www.cdc.gov/ncbddd/autism/data/index.html\n"
   ]
  },
  {
   "cell_type": "markdown",
   "metadata": {},
   "source": [
    "## <span style=\"color:blue\">[ Singapore ]</span> \n",
    "\n",
    "## TODAY Online - More preschoolers diagnosed with developmental issues\n",
    "\n",
    "Doctors cited better awareness among parents and preschool teachers, leading to early referrals for diagnosis.\n",
    "\n",
    "https://www.gov.sg/news/content/today-online-more-preschoolers-diagnosed-with-developmental-issues\n",
    "\n",
    "![](../reference/SG_ASD/SG_ASD_01.png)\n",
    "\n"
   ]
  },
  {
   "cell_type": "markdown",
   "metadata": {},
   "source": [
    "![](../reference/SG_ASD/SG_ASD_04.png) \n",
    "\n",
    "https://www.pathlight.org.sg/"
   ]
  },
  {
   "cell_type": "markdown",
   "metadata": {},
   "source": [
    "<div class=\"alert alert-block alert-info\" style=\"margin-top: 20px\">\n",
    "    <a href=\"\">\n",
    "    </a>\n",
    "</div>\n"
   ]
  },
  {
   "cell_type": "markdown",
   "metadata": {},
   "source": [
    "# Workshop Objective: \n",
    "\n",
    "## Use Python to analyze Autism Spectrum Disorder (ASD) data from CDC USA. \n",
    "\n",
    "https://www.cdc.gov/ncbddd/autism/data/index.html\n",
    "\n",
    "* ## Python Fundamentals\n",
    "\n",
    "* ## Data Summarization \n",
    "\n",
    "* ## Data Visualisation (Base Graphic)\n",
    "\n",
    "* ## Appendices\n"
   ]
  },
  {
   "cell_type": "markdown",
   "metadata": {},
   "source": [
    "<div class=\"alert alert-block alert-info\" style=\"margin-top: 20px\">\n",
    "    <a href=\"\">\n",
    "    </a>\n",
    "</div>"
   ]
  },
  {
   "cell_type": "markdown",
   "metadata": {},
   "source": [
    "## <span style=\"color:blue\">Python Fundamentals</span>\n"
   ]
  },
  {
   "cell_type": "markdown",
   "metadata": {},
   "source": [
    "<div class=\"alert alert-block alert-info\" style=\"margin-top: 20px\">\n",
    "    <h3>\n",
    "    Python Fundamentals - Get & Set working directory\n",
    "    </h3>\n",
    "</div>\n"
   ]
  },
  {
   "cell_type": "markdown",
   "metadata": {},
   "source": [
    "**Obtain current Python <span style=\"color:blue\">working directory</span>**"
   ]
  },
  {
   "cell_type": "code",
   "execution_count": 30,
   "metadata": {},
   "outputs": [
    {
     "name": "stdout",
     "output_type": "stream",
     "text": [
      "/media/sf_vm_shared_folder/git/DDC-ASD/model_Python\r\n"
     ]
    }
   ],
   "source": [
    "!pwd"
   ]
  },
  {
   "cell_type": "code",
   "execution_count": 31,
   "metadata": {},
   "outputs": [
    {
     "name": "stdout",
     "output_type": "stream",
     "text": [
      "ASD_Python_OSA_1_Python_v001.ipynb\r\n",
      "ASD_Python_OSA_2_EDA_v001.ipynb\r\n",
      "ASD_Python_OSA_3_CLT_CI_v001.ipynb\r\n",
      "ASD_Python_OSA_4_HypothesisTest_v001.ipynb\r\n",
      "ASD_Python_OSA_5_Predictive_Modeling_Regression_v001.ipynb\r\n",
      "ASD_Python_OSA_6_Predictive_Modeling_DeepLearning_v001.ipynb\r\n"
     ]
    }
   ],
   "source": [
    "!ls"
   ]
  },
  {
   "cell_type": "code",
   "execution_count": 32,
   "metadata": {},
   "outputs": [
    {
     "name": "stdout",
     "output_type": "stream",
     "text": [
      "ADV_ASD_National.csv\tADV_ASD_State.csv    source\r\n",
      "ADV_ASD_National_R.csv\tADV_ASD_State_R.csv\r\n"
     ]
    }
   ],
   "source": [
    "!ls ../dataset/"
   ]
  },
  {
   "cell_type": "markdown",
   "metadata": {},
   "source": [
    "**Import Python libraries**"
   ]
  },
  {
   "cell_type": "code",
   "execution_count": 5,
   "metadata": {},
   "outputs": [],
   "source": [
    "# import pandas as pd"
   ]
  },
  {
   "cell_type": "markdown",
   "metadata": {},
   "source": [
    "**Read in CSV data, storing as Python <span style=\"color:blue\">dataframe</span>**"
   ]
  },
  {
   "cell_type": "code",
   "execution_count": 6,
   "metadata": {},
   "outputs": [],
   "source": [
    "# Dataset: US. National Level Children ASD Prevalence\n",
    "\n",
    "# < R > #\n",
    "# ASD_National <- read.csv(\"../dataset/ADV_ASD_National.csv\", stringsAsFactors = FALSE)\n",
    "\n",
    "# < PY > #\n",
    "list_of_lists = []\n",
    "\n",
    "with open(\"../dataset/ADV_ASD_National.csv\", 'r', encoding='utf-8', errors='ignore') as f:\n",
    "    for line in f:\n",
    "        inner_list = [line.strip() for line in line.split(',')] # split character by comma\n",
    "        list_of_lists.append(inner_list)\n"
   ]
  },
  {
   "cell_type": "code",
   "execution_count": 7,
   "metadata": {},
   "outputs": [],
   "source": [
    "# With a list of list you can convert it to dataframe using pandas.\n",
    "import pandas as pd\n",
    "ASD_National = pd.DataFrame(list_of_lists)"
   ]
  },
  {
   "cell_type": "code",
   "execution_count": 8,
   "metadata": {},
   "outputs": [],
   "source": [
    "# Rename dataframe column name based on 1st row\n",
    "ASD_National.columns = ASD_National.iloc[0]\n",
    "# Remove/Drop first row\n",
    "ASD_National = ASD_National.drop(ASD_National.index[0])"
   ]
  },
  {
   "cell_type": "code",
   "execution_count": 9,
   "metadata": {
    "scrolled": true
   },
   "outputs": [
    {
     "data": {
      "text/html": [
       "<div>\n",
       "<style scoped>\n",
       "    .dataframe tbody tr th:only-of-type {\n",
       "        vertical-align: middle;\n",
       "    }\n",
       "\n",
       "    .dataframe tbody tr th {\n",
       "        vertical-align: top;\n",
       "    }\n",
       "\n",
       "    .dataframe thead th {\n",
       "        text-align: right;\n",
       "    }\n",
       "</style>\n",
       "<table border=\"1\" class=\"dataframe\">\n",
       "  <thead>\n",
       "    <tr style=\"text-align: right;\">\n",
       "      <th></th>\n",
       "      <th>Source</th>\n",
       "      <th>Year</th>\n",
       "      <th>Prevalence</th>\n",
       "      <th>Upper CI</th>\n",
       "      <th>Lower CI</th>\n",
       "      <th>Prevalence_dup</th>\n",
       "      <th>Source_Full1</th>\n",
       "      <th>Source_Full2</th>\n",
       "      <th>Male Prevalence</th>\n",
       "      <th>Male Lower CI</th>\n",
       "      <th>...</th>\n",
       "      <th>Non-hispanic white Upper CI</th>\n",
       "      <th>Non-hispanic black Prevalence</th>\n",
       "      <th>Non-hispanic black Lower CI</th>\n",
       "      <th>Non-hispanic black Upper CI</th>\n",
       "      <th>Hispanic Prevalence</th>\n",
       "      <th>Hispanic Lower CI</th>\n",
       "      <th>Hispanic Upper CI</th>\n",
       "      <th>Asian or Pacific Islander Prevalence</th>\n",
       "      <th>Asian or Pacific Islander Lower CI</th>\n",
       "      <th>Asian or Pacific Islander Upper CI</th>\n",
       "    </tr>\n",
       "  </thead>\n",
       "  <tbody>\n",
       "    <tr>\n",
       "      <th>1</th>\n",
       "      <td>addm</td>\n",
       "      <td>2000</td>\n",
       "      <td>6.7</td>\n",
       "      <td>7</td>\n",
       "      <td>6.3</td>\n",
       "      <td>6.7</td>\n",
       "      <td>Autism &amp; Developmental Disabilities Monitoring...</td>\n",
       "      <td>addm-Autism &amp; Developmental Disabilities Monit...</td>\n",
       "      <td>No data</td>\n",
       "      <td>No data</td>\n",
       "      <td>...</td>\n",
       "      <td>No data</td>\n",
       "      <td>No data</td>\n",
       "      <td>No data</td>\n",
       "      <td>No data</td>\n",
       "      <td>No data</td>\n",
       "      <td>No data</td>\n",
       "      <td>No data</td>\n",
       "      <td>No data</td>\n",
       "      <td>No data</td>\n",
       "      <td>No data</td>\n",
       "    </tr>\n",
       "    <tr>\n",
       "      <th>2</th>\n",
       "      <td>addm</td>\n",
       "      <td>2002</td>\n",
       "      <td>6.6</td>\n",
       "      <td>6.8</td>\n",
       "      <td>6.3</td>\n",
       "      <td>6.6</td>\n",
       "      <td>Autism &amp; Developmental Disabilities Monitoring...</td>\n",
       "      <td>addm-Autism &amp; Developmental Disabilities Monit...</td>\n",
       "      <td>11.5</td>\n",
       "      <td>No data</td>\n",
       "      <td>...</td>\n",
       "      <td>No data</td>\n",
       "      <td>6.5</td>\n",
       "      <td>No data</td>\n",
       "      <td>No data</td>\n",
       "      <td>No data</td>\n",
       "      <td>No data</td>\n",
       "      <td>No data</td>\n",
       "      <td>No data</td>\n",
       "      <td>No data</td>\n",
       "      <td>No data</td>\n",
       "    </tr>\n",
       "    <tr>\n",
       "      <th>3</th>\n",
       "      <td>addm</td>\n",
       "      <td>2004</td>\n",
       "      <td>8</td>\n",
       "      <td>8.4</td>\n",
       "      <td>7.6</td>\n",
       "      <td>8</td>\n",
       "      <td>Autism &amp; Developmental Disabilities Monitoring...</td>\n",
       "      <td>addm-Autism &amp; Developmental Disabilities Monit...</td>\n",
       "      <td>12.9</td>\n",
       "      <td>12.2</td>\n",
       "      <td>...</td>\n",
       "      <td>10.4</td>\n",
       "      <td>6.9</td>\n",
       "      <td>6.2</td>\n",
       "      <td>7.6</td>\n",
       "      <td>6.2</td>\n",
       "      <td>5</td>\n",
       "      <td>7.5</td>\n",
       "      <td>No data</td>\n",
       "      <td>No data</td>\n",
       "      <td>No data</td>\n",
       "    </tr>\n",
       "    <tr>\n",
       "      <th>4</th>\n",
       "      <td>addm</td>\n",
       "      <td>2006</td>\n",
       "      <td>9</td>\n",
       "      <td>9.3</td>\n",
       "      <td>8.6</td>\n",
       "      <td>9</td>\n",
       "      <td>Autism &amp; Developmental Disabilities Monitoring...</td>\n",
       "      <td>addm-Autism &amp; Developmental Disabilities Monit...</td>\n",
       "      <td>14.5</td>\n",
       "      <td>13.9</td>\n",
       "      <td>...</td>\n",
       "      <td>10.4</td>\n",
       "      <td>7.2</td>\n",
       "      <td>6.6</td>\n",
       "      <td>7.8</td>\n",
       "      <td>5.9</td>\n",
       "      <td>5.3</td>\n",
       "      <td>6.6</td>\n",
       "      <td>No data</td>\n",
       "      <td>No data</td>\n",
       "      <td>No data</td>\n",
       "    </tr>\n",
       "    <tr>\n",
       "      <th>5</th>\n",
       "      <td>addm</td>\n",
       "      <td>2008</td>\n",
       "      <td>11.3</td>\n",
       "      <td>11.7</td>\n",
       "      <td>11</td>\n",
       "      <td>11.3</td>\n",
       "      <td>Autism &amp; Developmental Disabilities Monitoring...</td>\n",
       "      <td>addm-Autism &amp; Developmental Disabilities Monit...</td>\n",
       "      <td>18.4</td>\n",
       "      <td>17.7</td>\n",
       "      <td>...</td>\n",
       "      <td>12.5</td>\n",
       "      <td>10.2</td>\n",
       "      <td>9.5</td>\n",
       "      <td>10.9</td>\n",
       "      <td>7.9</td>\n",
       "      <td>7.2</td>\n",
       "      <td>8.6</td>\n",
       "      <td>9.7</td>\n",
       "      <td>8.1</td>\n",
       "      <td>11.6</td>\n",
       "    </tr>\n",
       "  </tbody>\n",
       "</table>\n",
       "<p>5 rows × 26 columns</p>\n",
       "</div>"
      ],
      "text/plain": [
       "0 Source  Year Prevalence Upper CI Lower CI Prevalence_dup  \\\n",
       "1   addm  2000        6.7        7      6.3            6.7   \n",
       "2   addm  2002        6.6      6.8      6.3            6.6   \n",
       "3   addm  2004          8      8.4      7.6              8   \n",
       "4   addm  2006          9      9.3      8.6              9   \n",
       "5   addm  2008       11.3     11.7       11           11.3   \n",
       "\n",
       "0                                       Source_Full1  \\\n",
       "1  Autism & Developmental Disabilities Monitoring...   \n",
       "2  Autism & Developmental Disabilities Monitoring...   \n",
       "3  Autism & Developmental Disabilities Monitoring...   \n",
       "4  Autism & Developmental Disabilities Monitoring...   \n",
       "5  Autism & Developmental Disabilities Monitoring...   \n",
       "\n",
       "0                                       Source_Full2 Male Prevalence  \\\n",
       "1  addm-Autism & Developmental Disabilities Monit...         No data   \n",
       "2  addm-Autism & Developmental Disabilities Monit...            11.5   \n",
       "3  addm-Autism & Developmental Disabilities Monit...            12.9   \n",
       "4  addm-Autism & Developmental Disabilities Monit...            14.5   \n",
       "5  addm-Autism & Developmental Disabilities Monit...            18.4   \n",
       "\n",
       "0 Male Lower CI  ... Non-hispanic white Upper CI  \\\n",
       "1       No data  ...                     No data   \n",
       "2       No data  ...                     No data   \n",
       "3          12.2  ...                        10.4   \n",
       "4          13.9  ...                        10.4   \n",
       "5          17.7  ...                        12.5   \n",
       "\n",
       "0 Non-hispanic black Prevalence Non-hispanic black Lower CI  \\\n",
       "1                       No data                     No data   \n",
       "2                           6.5                     No data   \n",
       "3                           6.9                         6.2   \n",
       "4                           7.2                         6.6   \n",
       "5                          10.2                         9.5   \n",
       "\n",
       "0 Non-hispanic black Upper CI Hispanic Prevalence Hispanic Lower CI  \\\n",
       "1                     No data             No data           No data   \n",
       "2                     No data             No data           No data   \n",
       "3                         7.6                 6.2                 5   \n",
       "4                         7.8                 5.9               5.3   \n",
       "5                        10.9                 7.9               7.2   \n",
       "\n",
       "0 Hispanic Upper CI Asian or Pacific Islander Prevalence  \\\n",
       "1           No data                              No data   \n",
       "2           No data                              No data   \n",
       "3               7.5                              No data   \n",
       "4               6.6                              No data   \n",
       "5               8.6                                  9.7   \n",
       "\n",
       "0 Asian or Pacific Islander Lower CI Asian or Pacific Islander Upper CI  \n",
       "1                            No data                            No data  \n",
       "2                            No data                            No data  \n",
       "3                            No data                            No data  \n",
       "4                            No data                            No data  \n",
       "5                                8.1                               11.6  \n",
       "\n",
       "[5 rows x 26 columns]"
      ]
     },
     "execution_count": 9,
     "metadata": {},
     "output_type": "execute_result"
    }
   ],
   "source": [
    "ASD_National.head()"
   ]
  },
  {
   "cell_type": "code",
   "execution_count": 10,
   "metadata": {},
   "outputs": [
    {
     "data": {
      "text/html": [
       "<div>\n",
       "<style scoped>\n",
       "    .dataframe tbody tr th:only-of-type {\n",
       "        vertical-align: middle;\n",
       "    }\n",
       "\n",
       "    .dataframe tbody tr th {\n",
       "        vertical-align: top;\n",
       "    }\n",
       "\n",
       "    .dataframe thead th {\n",
       "        text-align: right;\n",
       "    }\n",
       "</style>\n",
       "<table border=\"1\" class=\"dataframe\">\n",
       "  <thead>\n",
       "    <tr style=\"text-align: right;\">\n",
       "      <th></th>\n",
       "      <th>State</th>\n",
       "      <th>Denominator</th>\n",
       "      <th>Prevalence</th>\n",
       "      <th>Lower CI</th>\n",
       "      <th>Upper CI</th>\n",
       "      <th>Year</th>\n",
       "      <th>Source</th>\n",
       "      <th>Source_Full1</th>\n",
       "      <th>State_Full1</th>\n",
       "      <th>State_Full2</th>\n",
       "      <th>...</th>\n",
       "      <th>Non-hispanic black Prevalence</th>\n",
       "      <th>Non-hispanic black Lower CI</th>\n",
       "      <th>Non-hispanic black Upper CI</th>\n",
       "      <th>Hispanic Prevalence</th>\n",
       "      <th>Hispanic Lower CI</th>\n",
       "      <th>Hispanic Upper CI</th>\n",
       "      <th>Asian or Pacific Islander Prevalence</th>\n",
       "      <th>Asian or Pacific Islander Lower CI</th>\n",
       "      <th>Asian or Pacific Islander Upper CI</th>\n",
       "      <th>State_Region</th>\n",
       "    </tr>\n",
       "  </thead>\n",
       "  <tbody>\n",
       "    <tr>\n",
       "      <th>1</th>\n",
       "      <td>AZ</td>\n",
       "      <td>45322</td>\n",
       "      <td>6.5</td>\n",
       "      <td>5.8</td>\n",
       "      <td>7.3</td>\n",
       "      <td>2000</td>\n",
       "      <td>addm</td>\n",
       "      <td>Autism &amp; Developmental Disabilities Monitoring...</td>\n",
       "      <td>Arizona</td>\n",
       "      <td>AZ-Arizona</td>\n",
       "      <td>...</td>\n",
       "      <td>7.3</td>\n",
       "      <td>4.4</td>\n",
       "      <td>12.2</td>\n",
       "      <td>No data</td>\n",
       "      <td>No data</td>\n",
       "      <td>No data</td>\n",
       "      <td>No data</td>\n",
       "      <td>No data</td>\n",
       "      <td>No data</td>\n",
       "      <td>D8 Mountain</td>\n",
       "    </tr>\n",
       "    <tr>\n",
       "      <th>2</th>\n",
       "      <td>GA</td>\n",
       "      <td>43593</td>\n",
       "      <td>6.5</td>\n",
       "      <td>5.8</td>\n",
       "      <td>7.3</td>\n",
       "      <td>2000</td>\n",
       "      <td>addm</td>\n",
       "      <td>Autism &amp; Developmental Disabilities Monitoring...</td>\n",
       "      <td>Georgia</td>\n",
       "      <td>GA-Georgia</td>\n",
       "      <td>...</td>\n",
       "      <td>5.3</td>\n",
       "      <td>4.4</td>\n",
       "      <td>6.4</td>\n",
       "      <td>No data</td>\n",
       "      <td>No data</td>\n",
       "      <td>No data</td>\n",
       "      <td>No data</td>\n",
       "      <td>No data</td>\n",
       "      <td>No data</td>\n",
       "      <td>D5 South Atlantic</td>\n",
       "    </tr>\n",
       "    <tr>\n",
       "      <th>3</th>\n",
       "      <td>MD</td>\n",
       "      <td>21532</td>\n",
       "      <td>5.5</td>\n",
       "      <td>4.6</td>\n",
       "      <td>6.6</td>\n",
       "      <td>2000</td>\n",
       "      <td>addm</td>\n",
       "      <td>Autism &amp; Developmental Disabilities Monitoring...</td>\n",
       "      <td>Maryland</td>\n",
       "      <td>MD-Maryland</td>\n",
       "      <td>...</td>\n",
       "      <td>6.1</td>\n",
       "      <td>4.7</td>\n",
       "      <td>8</td>\n",
       "      <td>No data</td>\n",
       "      <td>No data</td>\n",
       "      <td>No data</td>\n",
       "      <td>No data</td>\n",
       "      <td>No data</td>\n",
       "      <td>No data</td>\n",
       "      <td>D5 South Atlantic</td>\n",
       "    </tr>\n",
       "    <tr>\n",
       "      <th>4</th>\n",
       "      <td>NJ</td>\n",
       "      <td>29714</td>\n",
       "      <td>9.9</td>\n",
       "      <td>8.9</td>\n",
       "      <td>11.1</td>\n",
       "      <td>2000</td>\n",
       "      <td>addm</td>\n",
       "      <td>Autism &amp; Developmental Disabilities Monitoring...</td>\n",
       "      <td>New Jersey</td>\n",
       "      <td>NJ-New Jersey</td>\n",
       "      <td>...</td>\n",
       "      <td>10.6</td>\n",
       "      <td>8.5</td>\n",
       "      <td>13.1</td>\n",
       "      <td>No data</td>\n",
       "      <td>No data</td>\n",
       "      <td>No data</td>\n",
       "      <td>No data</td>\n",
       "      <td>No data</td>\n",
       "      <td>No data</td>\n",
       "      <td>D2 Middle Atlantic</td>\n",
       "    </tr>\n",
       "    <tr>\n",
       "      <th>5</th>\n",
       "      <td>SC</td>\n",
       "      <td>24535</td>\n",
       "      <td>6.3</td>\n",
       "      <td>5.4</td>\n",
       "      <td>7.4</td>\n",
       "      <td>2000</td>\n",
       "      <td>addm</td>\n",
       "      <td>Autism &amp; Developmental Disabilities Monitoring...</td>\n",
       "      <td>South Carolina</td>\n",
       "      <td>SC-South Carolina</td>\n",
       "      <td>...</td>\n",
       "      <td>5.8</td>\n",
       "      <td>4.5</td>\n",
       "      <td>7.3</td>\n",
       "      <td>No data</td>\n",
       "      <td>No data</td>\n",
       "      <td>No data</td>\n",
       "      <td>No data</td>\n",
       "      <td>No data</td>\n",
       "      <td>No data</td>\n",
       "      <td>D5 South Atlantic</td>\n",
       "    </tr>\n",
       "  </tbody>\n",
       "</table>\n",
       "<p>5 rows × 49 columns</p>\n",
       "</div>"
      ],
      "text/plain": [
       "0 State Denominator Prevalence Lower CI Upper CI  Year Source  \\\n",
       "1    AZ       45322        6.5      5.8      7.3  2000   addm   \n",
       "2    GA       43593        6.5      5.8      7.3  2000   addm   \n",
       "3    MD       21532        5.5      4.6      6.6  2000   addm   \n",
       "4    NJ       29714        9.9      8.9     11.1  2000   addm   \n",
       "5    SC       24535        6.3      5.4      7.4  2000   addm   \n",
       "\n",
       "0                                       Source_Full1     State_Full1  \\\n",
       "1  Autism & Developmental Disabilities Monitoring...         Arizona   \n",
       "2  Autism & Developmental Disabilities Monitoring...         Georgia   \n",
       "3  Autism & Developmental Disabilities Monitoring...        Maryland   \n",
       "4  Autism & Developmental Disabilities Monitoring...      New Jersey   \n",
       "5  Autism & Developmental Disabilities Monitoring...  South Carolina   \n",
       "\n",
       "0        State_Full2  ... Non-hispanic black Prevalence  \\\n",
       "1         AZ-Arizona  ...                           7.3   \n",
       "2         GA-Georgia  ...                           5.3   \n",
       "3        MD-Maryland  ...                           6.1   \n",
       "4      NJ-New Jersey  ...                          10.6   \n",
       "5  SC-South Carolina  ...                           5.8   \n",
       "\n",
       "0 Non-hispanic black Lower CI Non-hispanic black Upper CI Hispanic Prevalence  \\\n",
       "1                         4.4                        12.2             No data   \n",
       "2                         4.4                         6.4             No data   \n",
       "3                         4.7                           8             No data   \n",
       "4                         8.5                        13.1             No data   \n",
       "5                         4.5                         7.3             No data   \n",
       "\n",
       "0 Hispanic Lower CI Hispanic Upper CI Asian or Pacific Islander Prevalence  \\\n",
       "1           No data           No data                              No data   \n",
       "2           No data           No data                              No data   \n",
       "3           No data           No data                              No data   \n",
       "4           No data           No data                              No data   \n",
       "5           No data           No data                              No data   \n",
       "\n",
       "0 Asian or Pacific Islander Lower CI Asian or Pacific Islander Upper CI  \\\n",
       "1                            No data                            No data   \n",
       "2                            No data                            No data   \n",
       "3                            No data                            No data   \n",
       "4                            No data                            No data   \n",
       "5                            No data                            No data   \n",
       "\n",
       "0        State_Region  \n",
       "1         D8 Mountain  \n",
       "2   D5 South Atlantic  \n",
       "3   D5 South Atlantic  \n",
       "4  D2 Middle Atlantic  \n",
       "5   D5 South Atlantic  \n",
       "\n",
       "[5 rows x 49 columns]"
      ]
     },
     "execution_count": 10,
     "metadata": {},
     "output_type": "execute_result"
    }
   ],
   "source": [
    "# Dataset: US. State Level Children ASD Prevalence\n",
    "\n",
    "# < R > #\n",
    "# ASD_State    <- read.csv(\"../dataset/ADV_ASD_State.csv\", stringsAsFactors = FALSE)\n",
    "\n",
    "# < PY > #\n",
    "list_of_lists = []\n",
    "\n",
    "with open(\"../dataset/ADV_ASD_State.csv\", 'r', encoding='utf-8', errors='ignore') as f:\n",
    "    for line in f:\n",
    "        inner_list = [line.strip() for line in line.split(',')] # split character by comma\n",
    "        list_of_lists.append(inner_list)\n",
    "\n",
    "# With a list of list you can convert it to dataframe using pandas.\n",
    "import pandas as pd\n",
    "ASD_State = pd.DataFrame(list_of_lists)\n",
    "\n",
    "# Rename dataframe column name based on 1st row\n",
    "ASD_State.columns = ASD_State.iloc[0]\n",
    "# Remove/Drop first row\n",
    "ASD_State = ASD_State.drop(ASD_State.index[0])\n",
    "\n",
    "ASD_State.head()"
   ]
  },
  {
   "cell_type": "markdown",
   "metadata": {},
   "source": [
    "**Look at first/last few rows of data**"
   ]
  },
  {
   "cell_type": "code",
   "execution_count": 11,
   "metadata": {
    "scrolled": true
   },
   "outputs": [
    {
     "data": {
      "text/html": [
       "<div>\n",
       "<style scoped>\n",
       "    .dataframe tbody tr th:only-of-type {\n",
       "        vertical-align: middle;\n",
       "    }\n",
       "\n",
       "    .dataframe tbody tr th {\n",
       "        vertical-align: top;\n",
       "    }\n",
       "\n",
       "    .dataframe thead th {\n",
       "        text-align: right;\n",
       "    }\n",
       "</style>\n",
       "<table border=\"1\" class=\"dataframe\">\n",
       "  <thead>\n",
       "    <tr style=\"text-align: right;\">\n",
       "      <th></th>\n",
       "      <th>State</th>\n",
       "      <th>Denominator</th>\n",
       "      <th>Prevalence</th>\n",
       "      <th>Lower CI</th>\n",
       "      <th>Upper CI</th>\n",
       "      <th>Year</th>\n",
       "      <th>Source</th>\n",
       "      <th>Source_Full1</th>\n",
       "      <th>State_Full1</th>\n",
       "      <th>State_Full2</th>\n",
       "      <th>...</th>\n",
       "      <th>Non-hispanic black Prevalence</th>\n",
       "      <th>Non-hispanic black Lower CI</th>\n",
       "      <th>Non-hispanic black Upper CI</th>\n",
       "      <th>Hispanic Prevalence</th>\n",
       "      <th>Hispanic Lower CI</th>\n",
       "      <th>Hispanic Upper CI</th>\n",
       "      <th>Asian or Pacific Islander Prevalence</th>\n",
       "      <th>Asian or Pacific Islander Lower CI</th>\n",
       "      <th>Asian or Pacific Islander Upper CI</th>\n",
       "      <th>State_Region</th>\n",
       "    </tr>\n",
       "  </thead>\n",
       "  <tbody>\n",
       "    <tr>\n",
       "      <th>1</th>\n",
       "      <td>AZ</td>\n",
       "      <td>45322</td>\n",
       "      <td>6.5</td>\n",
       "      <td>5.8</td>\n",
       "      <td>7.3</td>\n",
       "      <td>2000</td>\n",
       "      <td>addm</td>\n",
       "      <td>Autism &amp; Developmental Disabilities Monitoring...</td>\n",
       "      <td>Arizona</td>\n",
       "      <td>AZ-Arizona</td>\n",
       "      <td>...</td>\n",
       "      <td>7.3</td>\n",
       "      <td>4.4</td>\n",
       "      <td>12.2</td>\n",
       "      <td>No data</td>\n",
       "      <td>No data</td>\n",
       "      <td>No data</td>\n",
       "      <td>No data</td>\n",
       "      <td>No data</td>\n",
       "      <td>No data</td>\n",
       "      <td>D8 Mountain</td>\n",
       "    </tr>\n",
       "    <tr>\n",
       "      <th>2</th>\n",
       "      <td>GA</td>\n",
       "      <td>43593</td>\n",
       "      <td>6.5</td>\n",
       "      <td>5.8</td>\n",
       "      <td>7.3</td>\n",
       "      <td>2000</td>\n",
       "      <td>addm</td>\n",
       "      <td>Autism &amp; Developmental Disabilities Monitoring...</td>\n",
       "      <td>Georgia</td>\n",
       "      <td>GA-Georgia</td>\n",
       "      <td>...</td>\n",
       "      <td>5.3</td>\n",
       "      <td>4.4</td>\n",
       "      <td>6.4</td>\n",
       "      <td>No data</td>\n",
       "      <td>No data</td>\n",
       "      <td>No data</td>\n",
       "      <td>No data</td>\n",
       "      <td>No data</td>\n",
       "      <td>No data</td>\n",
       "      <td>D5 South Atlantic</td>\n",
       "    </tr>\n",
       "    <tr>\n",
       "      <th>3</th>\n",
       "      <td>MD</td>\n",
       "      <td>21532</td>\n",
       "      <td>5.5</td>\n",
       "      <td>4.6</td>\n",
       "      <td>6.6</td>\n",
       "      <td>2000</td>\n",
       "      <td>addm</td>\n",
       "      <td>Autism &amp; Developmental Disabilities Monitoring...</td>\n",
       "      <td>Maryland</td>\n",
       "      <td>MD-Maryland</td>\n",
       "      <td>...</td>\n",
       "      <td>6.1</td>\n",
       "      <td>4.7</td>\n",
       "      <td>8</td>\n",
       "      <td>No data</td>\n",
       "      <td>No data</td>\n",
       "      <td>No data</td>\n",
       "      <td>No data</td>\n",
       "      <td>No data</td>\n",
       "      <td>No data</td>\n",
       "      <td>D5 South Atlantic</td>\n",
       "    </tr>\n",
       "    <tr>\n",
       "      <th>4</th>\n",
       "      <td>NJ</td>\n",
       "      <td>29714</td>\n",
       "      <td>9.9</td>\n",
       "      <td>8.9</td>\n",
       "      <td>11.1</td>\n",
       "      <td>2000</td>\n",
       "      <td>addm</td>\n",
       "      <td>Autism &amp; Developmental Disabilities Monitoring...</td>\n",
       "      <td>New Jersey</td>\n",
       "      <td>NJ-New Jersey</td>\n",
       "      <td>...</td>\n",
       "      <td>10.6</td>\n",
       "      <td>8.5</td>\n",
       "      <td>13.1</td>\n",
       "      <td>No data</td>\n",
       "      <td>No data</td>\n",
       "      <td>No data</td>\n",
       "      <td>No data</td>\n",
       "      <td>No data</td>\n",
       "      <td>No data</td>\n",
       "      <td>D2 Middle Atlantic</td>\n",
       "    </tr>\n",
       "    <tr>\n",
       "      <th>5</th>\n",
       "      <td>SC</td>\n",
       "      <td>24535</td>\n",
       "      <td>6.3</td>\n",
       "      <td>5.4</td>\n",
       "      <td>7.4</td>\n",
       "      <td>2000</td>\n",
       "      <td>addm</td>\n",
       "      <td>Autism &amp; Developmental Disabilities Monitoring...</td>\n",
       "      <td>South Carolina</td>\n",
       "      <td>SC-South Carolina</td>\n",
       "      <td>...</td>\n",
       "      <td>5.8</td>\n",
       "      <td>4.5</td>\n",
       "      <td>7.3</td>\n",
       "      <td>No data</td>\n",
       "      <td>No data</td>\n",
       "      <td>No data</td>\n",
       "      <td>No data</td>\n",
       "      <td>No data</td>\n",
       "      <td>No data</td>\n",
       "      <td>D5 South Atlantic</td>\n",
       "    </tr>\n",
       "  </tbody>\n",
       "</table>\n",
       "<p>5 rows × 49 columns</p>\n",
       "</div>"
      ],
      "text/plain": [
       "0 State Denominator Prevalence Lower CI Upper CI  Year Source  \\\n",
       "1    AZ       45322        6.5      5.8      7.3  2000   addm   \n",
       "2    GA       43593        6.5      5.8      7.3  2000   addm   \n",
       "3    MD       21532        5.5      4.6      6.6  2000   addm   \n",
       "4    NJ       29714        9.9      8.9     11.1  2000   addm   \n",
       "5    SC       24535        6.3      5.4      7.4  2000   addm   \n",
       "\n",
       "0                                       Source_Full1     State_Full1  \\\n",
       "1  Autism & Developmental Disabilities Monitoring...         Arizona   \n",
       "2  Autism & Developmental Disabilities Monitoring...         Georgia   \n",
       "3  Autism & Developmental Disabilities Monitoring...        Maryland   \n",
       "4  Autism & Developmental Disabilities Monitoring...      New Jersey   \n",
       "5  Autism & Developmental Disabilities Monitoring...  South Carolina   \n",
       "\n",
       "0        State_Full2  ... Non-hispanic black Prevalence  \\\n",
       "1         AZ-Arizona  ...                           7.3   \n",
       "2         GA-Georgia  ...                           5.3   \n",
       "3        MD-Maryland  ...                           6.1   \n",
       "4      NJ-New Jersey  ...                          10.6   \n",
       "5  SC-South Carolina  ...                           5.8   \n",
       "\n",
       "0 Non-hispanic black Lower CI Non-hispanic black Upper CI Hispanic Prevalence  \\\n",
       "1                         4.4                        12.2             No data   \n",
       "2                         4.4                         6.4             No data   \n",
       "3                         4.7                           8             No data   \n",
       "4                         8.5                        13.1             No data   \n",
       "5                         4.5                         7.3             No data   \n",
       "\n",
       "0 Hispanic Lower CI Hispanic Upper CI Asian or Pacific Islander Prevalence  \\\n",
       "1           No data           No data                              No data   \n",
       "2           No data           No data                              No data   \n",
       "3           No data           No data                              No data   \n",
       "4           No data           No data                              No data   \n",
       "5           No data           No data                              No data   \n",
       "\n",
       "0 Asian or Pacific Islander Lower CI Asian or Pacific Islander Upper CI  \\\n",
       "1                            No data                            No data   \n",
       "2                            No data                            No data   \n",
       "3                            No data                            No data   \n",
       "4                            No data                            No data   \n",
       "5                            No data                            No data   \n",
       "\n",
       "0        State_Region  \n",
       "1         D8 Mountain  \n",
       "2   D5 South Atlantic  \n",
       "3   D5 South Atlantic  \n",
       "4  D2 Middle Atlantic  \n",
       "5   D5 South Atlantic  \n",
       "\n",
       "[5 rows x 49 columns]"
      ]
     },
     "execution_count": 11,
     "metadata": {},
     "output_type": "execute_result"
    }
   ],
   "source": [
    "# < R > #\n",
    "# head(ASD_State)\n",
    "\n",
    "# < PY > #\n",
    "ASD_State.head()"
   ]
  },
  {
   "cell_type": "code",
   "execution_count": 12,
   "metadata": {
    "scrolled": true
   },
   "outputs": [
    {
     "data": {
      "text/html": [
       "<div>\n",
       "<style scoped>\n",
       "    .dataframe tbody tr th:only-of-type {\n",
       "        vertical-align: middle;\n",
       "    }\n",
       "\n",
       "    .dataframe tbody tr th {\n",
       "        vertical-align: top;\n",
       "    }\n",
       "\n",
       "    .dataframe thead th {\n",
       "        text-align: right;\n",
       "    }\n",
       "</style>\n",
       "<table border=\"1\" class=\"dataframe\">\n",
       "  <thead>\n",
       "    <tr style=\"text-align: right;\">\n",
       "      <th></th>\n",
       "      <th>State</th>\n",
       "      <th>Denominator</th>\n",
       "      <th>Prevalence</th>\n",
       "      <th>Lower CI</th>\n",
       "      <th>Upper CI</th>\n",
       "      <th>Year</th>\n",
       "      <th>Source</th>\n",
       "      <th>Source_Full1</th>\n",
       "      <th>State_Full1</th>\n",
       "      <th>State_Full2</th>\n",
       "      <th>...</th>\n",
       "      <th>Non-hispanic black Prevalence</th>\n",
       "      <th>Non-hispanic black Lower CI</th>\n",
       "      <th>Non-hispanic black Upper CI</th>\n",
       "      <th>Hispanic Prevalence</th>\n",
       "      <th>Hispanic Lower CI</th>\n",
       "      <th>Hispanic Upper CI</th>\n",
       "      <th>Asian or Pacific Islander Prevalence</th>\n",
       "      <th>Asian or Pacific Islander Lower CI</th>\n",
       "      <th>Asian or Pacific Islander Upper CI</th>\n",
       "      <th>State_Region</th>\n",
       "    </tr>\n",
       "  </thead>\n",
       "  <tbody>\n",
       "    <tr>\n",
       "      <th>1688</th>\n",
       "      <td>VT</td>\n",
       "      <td>74108</td>\n",
       "      <td>12.1</td>\n",
       "      <td>11.3</td>\n",
       "      <td>12.9</td>\n",
       "      <td>2016</td>\n",
       "      <td>sped</td>\n",
       "      <td>Special Education Child Count</td>\n",
       "      <td>Vermont</td>\n",
       "      <td>VT-Vermont</td>\n",
       "      <td>...</td>\n",
       "      <td></td>\n",
       "      <td></td>\n",
       "      <td></td>\n",
       "      <td></td>\n",
       "      <td></td>\n",
       "      <td></td>\n",
       "      <td></td>\n",
       "      <td></td>\n",
       "      <td></td>\n",
       "      <td>D1 New England</td>\n",
       "    </tr>\n",
       "    <tr>\n",
       "      <th>1689</th>\n",
       "      <td>VA</td>\n",
       "      <td>1162945</td>\n",
       "      <td>14.2</td>\n",
       "      <td>14</td>\n",
       "      <td>14.4</td>\n",
       "      <td>2016</td>\n",
       "      <td>sped</td>\n",
       "      <td>Special Education Child Count</td>\n",
       "      <td>Virginia</td>\n",
       "      <td>VA-Virginia</td>\n",
       "      <td>...</td>\n",
       "      <td></td>\n",
       "      <td></td>\n",
       "      <td></td>\n",
       "      <td></td>\n",
       "      <td></td>\n",
       "      <td></td>\n",
       "      <td></td>\n",
       "      <td></td>\n",
       "      <td></td>\n",
       "      <td>D5 South Atlantic</td>\n",
       "    </tr>\n",
       "    <tr>\n",
       "      <th>1690</th>\n",
       "      <td>WA</td>\n",
       "      <td>1006676</td>\n",
       "      <td>11.2</td>\n",
       "      <td>11</td>\n",
       "      <td>11.4</td>\n",
       "      <td>2016</td>\n",
       "      <td>sped</td>\n",
       "      <td>Special Education Child Count</td>\n",
       "      <td>Washington</td>\n",
       "      <td>WA-Washington</td>\n",
       "      <td>...</td>\n",
       "      <td></td>\n",
       "      <td></td>\n",
       "      <td></td>\n",
       "      <td></td>\n",
       "      <td></td>\n",
       "      <td></td>\n",
       "      <td></td>\n",
       "      <td></td>\n",
       "      <td></td>\n",
       "      <td>D9 Pacific</td>\n",
       "    </tr>\n",
       "    <tr>\n",
       "      <th>1691</th>\n",
       "      <td>WV</td>\n",
       "      <td>239037</td>\n",
       "      <td>8.6</td>\n",
       "      <td>8.3</td>\n",
       "      <td>9</td>\n",
       "      <td>2016</td>\n",
       "      <td>sped</td>\n",
       "      <td>Special Education Child Count</td>\n",
       "      <td>West Virginia</td>\n",
       "      <td>WV-West Virginia</td>\n",
       "      <td>...</td>\n",
       "      <td></td>\n",
       "      <td></td>\n",
       "      <td></td>\n",
       "      <td></td>\n",
       "      <td></td>\n",
       "      <td></td>\n",
       "      <td></td>\n",
       "      <td></td>\n",
       "      <td></td>\n",
       "      <td>D5 South Atlantic</td>\n",
       "    </tr>\n",
       "    <tr>\n",
       "      <th>1692</th>\n",
       "      <td>WY</td>\n",
       "      <td>85922</td>\n",
       "      <td>9.3</td>\n",
       "      <td>8.7</td>\n",
       "      <td>10</td>\n",
       "      <td>2016</td>\n",
       "      <td>sped</td>\n",
       "      <td>Special Education Child Count</td>\n",
       "      <td>Wyoming</td>\n",
       "      <td>WY-Wyoming</td>\n",
       "      <td>...</td>\n",
       "      <td></td>\n",
       "      <td></td>\n",
       "      <td></td>\n",
       "      <td></td>\n",
       "      <td></td>\n",
       "      <td></td>\n",
       "      <td></td>\n",
       "      <td></td>\n",
       "      <td></td>\n",
       "      <td>D8 Mountain</td>\n",
       "    </tr>\n",
       "  </tbody>\n",
       "</table>\n",
       "<p>5 rows × 49 columns</p>\n",
       "</div>"
      ],
      "text/plain": [
       "0    State Denominator Prevalence Lower CI Upper CI  Year Source  \\\n",
       "1688    VT       74108       12.1     11.3     12.9  2016   sped   \n",
       "1689    VA     1162945       14.2       14     14.4  2016   sped   \n",
       "1690    WA     1006676       11.2       11     11.4  2016   sped   \n",
       "1691    WV      239037        8.6      8.3        9  2016   sped   \n",
       "1692    WY       85922        9.3      8.7       10  2016   sped   \n",
       "\n",
       "0                      Source_Full1    State_Full1       State_Full2  ...  \\\n",
       "1688  Special Education Child Count        Vermont        VT-Vermont  ...   \n",
       "1689  Special Education Child Count       Virginia       VA-Virginia  ...   \n",
       "1690  Special Education Child Count     Washington     WA-Washington  ...   \n",
       "1691  Special Education Child Count  West Virginia  WV-West Virginia  ...   \n",
       "1692  Special Education Child Count        Wyoming        WY-Wyoming  ...   \n",
       "\n",
       "0    Non-hispanic black Prevalence Non-hispanic black Lower CI  \\\n",
       "1688                                                             \n",
       "1689                                                             \n",
       "1690                                                             \n",
       "1691                                                             \n",
       "1692                                                             \n",
       "\n",
       "0    Non-hispanic black Upper CI Hispanic Prevalence Hispanic Lower CI  \\\n",
       "1688                                                                     \n",
       "1689                                                                     \n",
       "1690                                                                     \n",
       "1691                                                                     \n",
       "1692                                                                     \n",
       "\n",
       "0    Hispanic Upper CI Asian or Pacific Islander Prevalence  \\\n",
       "1688                                                          \n",
       "1689                                                          \n",
       "1690                                                          \n",
       "1691                                                          \n",
       "1692                                                          \n",
       "\n",
       "0    Asian or Pacific Islander Lower CI Asian or Pacific Islander Upper CI  \\\n",
       "1688                                                                         \n",
       "1689                                                                         \n",
       "1690                                                                         \n",
       "1691                                                                         \n",
       "1692                                                                         \n",
       "\n",
       "0          State_Region  \n",
       "1688     D1 New England  \n",
       "1689  D5 South Atlantic  \n",
       "1690         D9 Pacific  \n",
       "1691  D5 South Atlantic  \n",
       "1692        D8 Mountain  \n",
       "\n",
       "[5 rows x 49 columns]"
      ]
     },
     "execution_count": 12,
     "metadata": {},
     "output_type": "execute_result"
    }
   ],
   "source": [
    "# < R > #\n",
    "# tail(ASD_State)\n",
    "\n",
    "# < PY > #\n",
    "ASD_State.tail()"
   ]
  },
  {
   "cell_type": "markdown",
   "metadata": {},
   "source": [
    "**Obtain number of rows and number of columns/features/variables**"
   ]
  },
  {
   "cell_type": "code",
   "execution_count": 14,
   "metadata": {},
   "outputs": [
    {
     "data": {
      "text/plain": [
       "(42, 26)"
      ]
     },
     "execution_count": 14,
     "metadata": {},
     "output_type": "execute_result"
    }
   ],
   "source": [
    "# < R > #\n",
    "# dim(ASD_National)\n",
    "\n",
    "# < PY > #\n",
    "ASD_National.shape"
   ]
  },
  {
   "cell_type": "code",
   "execution_count": 15,
   "metadata": {},
   "outputs": [
    {
     "data": {
      "text/plain": [
       "(1692, 49)"
      ]
     },
     "execution_count": 15,
     "metadata": {},
     "output_type": "execute_result"
    }
   ],
   "source": [
    "# < R > #\n",
    "# dim(ASD_State)\n",
    "\n",
    "# < PY > #\n",
    "ASD_State.shape"
   ]
  },
  {
   "cell_type": "markdown",
   "metadata": {},
   "source": [
    "**Obtain overview (data structure/types)**"
   ]
  },
  {
   "cell_type": "code",
   "execution_count": 16,
   "metadata": {
    "scrolled": true
   },
   "outputs": [
    {
     "name": "stdout",
     "output_type": "stream",
     "text": [
      "<class 'pandas.core.frame.DataFrame'>\n",
      "Int64Index: 42 entries, 1 to 42\n",
      "Data columns (total 26 columns):\n",
      "Source                                  42 non-null object\n",
      "Year                                    42 non-null object\n",
      "Prevalence                              42 non-null object\n",
      "Upper CI                                42 non-null object\n",
      "Lower CI                                42 non-null object\n",
      "Prevalence_dup                          42 non-null object\n",
      "Source_Full1                            42 non-null object\n",
      "Source_Full2                            42 non-null object\n",
      "Male Prevalence                         42 non-null object\n",
      "Male Lower CI                           42 non-null object\n",
      "Male Upper CI                           42 non-null object\n",
      "Female Prevalence                       42 non-null object\n",
      "Female Lower CI                         42 non-null object\n",
      "Female Upper CI                         42 non-null object\n",
      "Non-hispanic white Prevalence           42 non-null object\n",
      "Non-hispanic white Lower CI             42 non-null object\n",
      "Non-hispanic white Upper CI             42 non-null object\n",
      "Non-hispanic black Prevalence           42 non-null object\n",
      "Non-hispanic black Lower CI             42 non-null object\n",
      "Non-hispanic black Upper CI             42 non-null object\n",
      "Hispanic Prevalence                     42 non-null object\n",
      "Hispanic Lower CI                       42 non-null object\n",
      "Hispanic Upper CI                       42 non-null object\n",
      "Asian or Pacific Islander Prevalence    42 non-null object\n",
      "Asian or Pacific Islander Lower CI      42 non-null object\n",
      "Asian or Pacific Islander Upper CI      42 non-null object\n",
      "dtypes: object(26)\n",
      "memory usage: 8.9+ KB\n"
     ]
    }
   ],
   "source": [
    "# < R > #\n",
    "# str(ASD_National)\n",
    "\n",
    "# < PY > #\n",
    "ASD_National.info()"
   ]
  },
  {
   "cell_type": "code",
   "execution_count": 17,
   "metadata": {
    "scrolled": true
   },
   "outputs": [
    {
     "name": "stdout",
     "output_type": "stream",
     "text": [
      "<class 'pandas.core.frame.DataFrame'>\n",
      "Int64Index: 1692 entries, 1 to 1692\n",
      "Data columns (total 49 columns):\n",
      "State                                     1692 non-null object\n",
      "Denominator                               1692 non-null object\n",
      "Prevalence                                1692 non-null object\n",
      "Lower CI                                  1692 non-null object\n",
      "Upper CI                                  1692 non-null object\n",
      "Year                                      1692 non-null object\n",
      "Source                                    1692 non-null object\n",
      "Source_Full1                              1692 non-null object\n",
      "State_Full1                               1692 non-null object\n",
      "State_Full2                               1692 non-null object\n",
      "Numerator_ASD                             1692 non-null object\n",
      "Numerator_NonASD                          1692 non-null object\n",
      "Proportion                                1692 non-null object\n",
      "95_Z_CI                                   1692 non-null object\n",
      "Z_Lower CI                                1692 non-null object\n",
      "Z_Upper CI                                1692 non-null object\n",
      "Z_Lower CI_ABSerror                       1692 non-null object\n",
      "Z_Upper CI_ABSerror                       1692 non-null object\n",
      "Chi_Wilson_P                              1692 non-null object\n",
      "95_Chi_Wilson_CI                          1692 non-null object\n",
      "Chi_Wilson_Lower CI                       1692 non-null object\n",
      "Chi_Wilson_Upper CI                       1692 non-null object\n",
      "Chi_Wilson_Lower CI_ABSerror              1692 non-null object\n",
      "Chi_Wilson_Upper CI_ABSerror              1692 non-null object\n",
      "Chi_Wilson_Corrected_w_minus CI           1692 non-null object\n",
      "Chi_Wilson_Corrected_w_plus CI            1692 non-null object\n",
      "Chi_Wilson_Corrected_Lower CI             1692 non-null object\n",
      "Chi_Wilson_Corrected_Upper CI             1692 non-null object\n",
      "Chi_Wilson_Corrected_Lower CI_ABSerror    1692 non-null object\n",
      "Chi_Wilson_Corrected_Upper CI_ABSerror    1692 non-null object\n",
      "Male Prevalence                           1692 non-null object\n",
      "Male Lower CI                             1692 non-null object\n",
      "Male Upper CI                             1692 non-null object\n",
      "Female Prevalence                         1692 non-null object\n",
      "Female Lower CI                           1692 non-null object\n",
      "Female Upper CI                           1692 non-null object\n",
      "Non-hispanic white Prevalence             1692 non-null object\n",
      "Non-hispanic white Lower CI               1692 non-null object\n",
      "Non-hispanic white Upper CI               1692 non-null object\n",
      "Non-hispanic black Prevalence             1692 non-null object\n",
      "Non-hispanic black Lower CI               1692 non-null object\n",
      "Non-hispanic black Upper CI               1692 non-null object\n",
      "Hispanic Prevalence                       1692 non-null object\n",
      "Hispanic Lower CI                         1692 non-null object\n",
      "Hispanic Upper CI                         1692 non-null object\n",
      "Asian or Pacific Islander Prevalence      1692 non-null object\n",
      "Asian or Pacific Islander Lower CI        1692 non-null object\n",
      "Asian or Pacific Islander Upper CI        1692 non-null object\n",
      "State_Region                              1692 non-null object\n",
      "dtypes: object(49)\n",
      "memory usage: 660.9+ KB\n"
     ]
    }
   ],
   "source": [
    "# < R > #\n",
    "# str(ASD_State)\n",
    "\n",
    "# < PY > #\n",
    "ASD_State.info()"
   ]
  },
  {
   "cell_type": "markdown",
   "metadata": {},
   "source": [
    "**Obtain name of columns**"
   ]
  },
  {
   "cell_type": "code",
   "execution_count": 18,
   "metadata": {},
   "outputs": [
    {
     "data": {
      "text/plain": [
       "Index(['Source', 'Year', 'Prevalence', 'Upper CI', 'Lower CI',\n",
       "       'Prevalence_dup', 'Source_Full1', 'Source_Full2', 'Male Prevalence',\n",
       "       'Male Lower CI', 'Male Upper CI', 'Female Prevalence',\n",
       "       'Female Lower CI', 'Female Upper CI', 'Non-hispanic white Prevalence',\n",
       "       'Non-hispanic white Lower CI', 'Non-hispanic white Upper CI',\n",
       "       'Non-hispanic black Prevalence', 'Non-hispanic black Lower CI',\n",
       "       'Non-hispanic black Upper CI', 'Hispanic Prevalence',\n",
       "       'Hispanic Lower CI', 'Hispanic Upper CI',\n",
       "       'Asian or Pacific Islander Prevalence',\n",
       "       'Asian or Pacific Islander Lower CI',\n",
       "       'Asian or Pacific Islander Upper CI'],\n",
       "      dtype='object', name=0)"
      ]
     },
     "execution_count": 18,
     "metadata": {},
     "output_type": "execute_result"
    }
   ],
   "source": [
    "# < R > #\n",
    "# names(ASD_National)\n",
    "\n",
    "# < PY > #\n",
    "ASD_National.columns"
   ]
  },
  {
   "cell_type": "code",
   "execution_count": 19,
   "metadata": {},
   "outputs": [
    {
     "data": {
      "text/plain": [
       "Index(['State', 'Denominator', 'Prevalence', 'Lower CI', 'Upper CI', 'Year',\n",
       "       'Source', 'Source_Full1', 'State_Full1', 'State_Full2', 'Numerator_ASD',\n",
       "       'Numerator_NonASD', 'Proportion', '95_Z_CI', 'Z_Lower CI', 'Z_Upper CI',\n",
       "       'Z_Lower CI_ABSerror', 'Z_Upper CI_ABSerror', 'Chi_Wilson_P',\n",
       "       '95_Chi_Wilson_CI', 'Chi_Wilson_Lower CI', 'Chi_Wilson_Upper CI',\n",
       "       'Chi_Wilson_Lower CI_ABSerror', 'Chi_Wilson_Upper CI_ABSerror',\n",
       "       'Chi_Wilson_Corrected_w_minus CI', 'Chi_Wilson_Corrected_w_plus CI',\n",
       "       'Chi_Wilson_Corrected_Lower CI', 'Chi_Wilson_Corrected_Upper CI',\n",
       "       'Chi_Wilson_Corrected_Lower CI_ABSerror',\n",
       "       'Chi_Wilson_Corrected_Upper CI_ABSerror', 'Male Prevalence',\n",
       "       'Male Lower CI', 'Male Upper CI', 'Female Prevalence',\n",
       "       'Female Lower CI', 'Female Upper CI', 'Non-hispanic white Prevalence',\n",
       "       'Non-hispanic white Lower CI', 'Non-hispanic white Upper CI',\n",
       "       'Non-hispanic black Prevalence', 'Non-hispanic black Lower CI',\n",
       "       'Non-hispanic black Upper CI', 'Hispanic Prevalence',\n",
       "       'Hispanic Lower CI', 'Hispanic Upper CI',\n",
       "       'Asian or Pacific Islander Prevalence',\n",
       "       'Asian or Pacific Islander Lower CI',\n",
       "       'Asian or Pacific Islander Upper CI', 'State_Region'],\n",
       "      dtype='object', name=0)"
      ]
     },
     "execution_count": 19,
     "metadata": {},
     "output_type": "execute_result"
    }
   ],
   "source": [
    "# < R > #\n",
    "# names(ASD_State)\n",
    "\n",
    "# < PY > #\n",
    "ASD_State.columns"
   ]
  },
  {
   "cell_type": "markdown",
   "metadata": {},
   "source": [
    "**Display column name with its index number**"
   ]
  },
  {
   "cell_type": "code",
   "execution_count": 20,
   "metadata": {
    "scrolled": true
   },
   "outputs": [
    {
     "name": "stdout",
     "output_type": "stream",
     "text": [
      "0 Source\n",
      "1 Year\n",
      "2 Prevalence\n",
      "3 Upper CI\n",
      "4 Lower CI\n",
      "5 Prevalence_dup\n",
      "6 Source_Full1\n",
      "7 Source_Full2\n",
      "8 Male Prevalence\n",
      "9 Male Lower CI\n",
      "10 Male Upper CI\n",
      "11 Female Prevalence\n",
      "12 Female Lower CI\n",
      "13 Female Upper CI\n",
      "14 Non-hispanic white Prevalence\n",
      "15 Non-hispanic white Lower CI\n",
      "16 Non-hispanic white Upper CI\n",
      "17 Non-hispanic black Prevalence\n",
      "18 Non-hispanic black Lower CI\n",
      "19 Non-hispanic black Upper CI\n",
      "20 Hispanic Prevalence\n",
      "21 Hispanic Lower CI\n",
      "22 Hispanic Upper CI\n",
      "23 Asian or Pacific Islander Prevalence\n",
      "24 Asian or Pacific Islander Lower CI\n",
      "25 Asian or Pacific Islander Upper CI\n"
     ]
    }
   ],
   "source": [
    "# < R > #\n",
    "# cbind(names(ASD_National), c(1:length(names(ASD_National))))\n",
    "\n",
    "# < PY > #\n",
    "for i in range(0, len(ASD_National.columns)): print(i, ASD_National.columns[i])"
   ]
  },
  {
   "cell_type": "markdown",
   "metadata": {},
   "source": [
    "**Look at data structure/schema (Selected columns)**"
   ]
  },
  {
   "cell_type": "code",
   "execution_count": 21,
   "metadata": {
    "scrolled": true
   },
   "outputs": [
    {
     "name": "stdout",
     "output_type": "stream",
     "text": [
      "<class 'pandas.core.frame.DataFrame'>\n",
      "Int64Index: 42 entries, 1 to 42\n",
      "Data columns (total 11 columns):\n",
      "Source                                  42 non-null object\n",
      "Year                                    42 non-null object\n",
      "Prevalence                              42 non-null object\n",
      "Upper CI                                42 non-null object\n",
      "Lower CI                                42 non-null object\n",
      "Prevalence_dup                          42 non-null object\n",
      "Source_Full1                            42 non-null object\n",
      "Source_Full2                            42 non-null object\n",
      "Asian or Pacific Islander Prevalence    42 non-null object\n",
      "Asian or Pacific Islander Lower CI      42 non-null object\n",
      "Asian or Pacific Islander Upper CI      42 non-null object\n",
      "dtypes: object(11)\n",
      "memory usage: 3.9+ KB\n"
     ]
    }
   ],
   "source": [
    "# < R > #\n",
    "# str(ASD_National[, c(1:8, 24, 25, 26)])\n",
    "\n",
    "# < PY > #\n",
    "# ASD_National[['Source','Year', 'Asian or Pacific Islander Prevalence']].info()\n",
    "ASD_National.iloc[:,[0,1,2,3,4,5,6,7,23,24,25]].info()"
   ]
  },
  {
   "cell_type": "markdown",
   "metadata": {},
   "source": [
    "<div class=\"alert alert-danger alertdanger\" style=\"margin-top: 20px\">\n",
    "    <h3>\n",
    "        Quiz:\n",
    "    </h3>\n",
    "    <p>\n",
    "        Obtain feature/column names and column index of dataframe: ASD_State\n",
    "    </p>\n",
    "</div>"
   ]
  },
  {
   "cell_type": "code",
   "execution_count": null,
   "metadata": {},
   "outputs": [],
   "source": [
    "# Write your code below and press Shift+Enter to execute \n"
   ]
  },
  {
   "cell_type": "markdown",
   "metadata": {},
   "source": [
    "Double-click <b>here</b> for the solution.\n",
    "\n",
    "<!-- The answer is below:\n",
    "\n",
    "# Write your code below and press Shift+Enter to execute \n",
    "# < R > #\n",
    "# cbind(names(ASD_State), c(1:length(names(ASD_State))))\n",
    "\n",
    "# < PY > #\n",
    "for i in range(0, len(ASD_State.columns)): print(i, ASD_State.columns[i])\n",
    "\n",
    "-->"
   ]
  },
  {
   "cell_type": "markdown",
   "metadata": {},
   "source": [
    "<div class=\"alert alert-block alert-info\" style=\"margin-top: 20px\">\n",
    "    <h3>\n",
    "    Python Fundamentals - Work with dataframe\n",
    "    </h3>\n",
    "</div>\n"
   ]
  },
  {
   "cell_type": "markdown",
   "metadata": {},
   "source": [
    "**Access column 1 as a <span style=\"color:blue\">named list</span>:**"
   ]
  },
  {
   "cell_type": "code",
   "execution_count": null,
   "metadata": {
    "scrolled": true
   },
   "outputs": [],
   "source": [
    "# use column index:\n",
    "ASD_National[1]"
   ]
  },
  {
   "cell_type": "code",
   "execution_count": null,
   "metadata": {},
   "outputs": [],
   "source": [
    "typeof(ASD_National[1])"
   ]
  },
  {
   "cell_type": "code",
   "execution_count": null,
   "metadata": {},
   "outputs": [],
   "source": [
    "ASD_National[1]$Source"
   ]
  },
  {
   "cell_type": "code",
   "execution_count": null,
   "metadata": {},
   "outputs": [],
   "source": [
    "typeof(ASD_National[1]$Source)"
   ]
  },
  {
   "cell_type": "code",
   "execution_count": null,
   "metadata": {
    "scrolled": true
   },
   "outputs": [],
   "source": [
    "# use column name:\n",
    "ASD_National[\"Source\"]"
   ]
  },
  {
   "cell_type": "code",
   "execution_count": null,
   "metadata": {},
   "outputs": [],
   "source": [
    "ASD_National['Source']$Source"
   ]
  },
  {
   "cell_type": "markdown",
   "metadata": {},
   "source": [
    "**Access column 1 as a set of string/chr:**"
   ]
  },
  {
   "cell_type": "code",
   "execution_count": null,
   "metadata": {},
   "outputs": [],
   "source": [
    "ASD_National[, 1]"
   ]
  },
  {
   "cell_type": "code",
   "execution_count": null,
   "metadata": {},
   "outputs": [],
   "source": [
    "# or\n",
    "ASD_National[, \"Source\"]"
   ]
  },
  {
   "cell_type": "code",
   "execution_count": null,
   "metadata": {},
   "outputs": [],
   "source": [
    "# or\n",
    "ASD_National$Source"
   ]
  },
  {
   "cell_type": "code",
   "execution_count": null,
   "metadata": {},
   "outputs": [],
   "source": [
    "typeof(ASD_National$Source)"
   ]
  },
  {
   "cell_type": "markdown",
   "metadata": {},
   "source": [
    "**Count number of elements in a object:**"
   ]
  },
  {
   "cell_type": "code",
   "execution_count": null,
   "metadata": {},
   "outputs": [],
   "source": [
    "length(ASD_National) # number of features/columns"
   ]
  },
  {
   "cell_type": "code",
   "execution_count": null,
   "metadata": {},
   "outputs": [],
   "source": [
    "length(ASD_National[1, ]) # number of elements(columns) in row 1"
   ]
  },
  {
   "cell_type": "code",
   "execution_count": null,
   "metadata": {},
   "outputs": [],
   "source": [
    "length(ASD_National[, 1]) # number of elements(rows) in column 1"
   ]
  },
  {
   "cell_type": "code",
   "execution_count": null,
   "metadata": {},
   "outputs": [],
   "source": [
    "length(ASD_National[, \"Source\"]) # same as above"
   ]
  },
  {
   "cell_type": "code",
   "execution_count": null,
   "metadata": {},
   "outputs": [],
   "source": [
    "length(ASD_National$Source) # number of elements in chr list"
   ]
  },
  {
   "cell_type": "markdown",
   "metadata": {},
   "source": [
    "**Access elements from dataframe**"
   ]
  },
  {
   "cell_type": "code",
   "execution_count": null,
   "metadata": {},
   "outputs": [],
   "source": [
    "# using column index\n",
    "ASD_National[1][1, ]"
   ]
  },
  {
   "cell_type": "code",
   "execution_count": null,
   "metadata": {},
   "outputs": [],
   "source": [
    "ASD_National[1][11, ]"
   ]
  },
  {
   "cell_type": "code",
   "execution_count": null,
   "metadata": {},
   "outputs": [],
   "source": [
    "ASD_National[1][11:20, ]"
   ]
  },
  {
   "cell_type": "code",
   "execution_count": null,
   "metadata": {},
   "outputs": [],
   "source": [
    "# using column name\n",
    "ASD_National[\"Source\"][1, ]"
   ]
  },
  {
   "cell_type": "code",
   "execution_count": null,
   "metadata": {},
   "outputs": [],
   "source": [
    "ASD_National[\"Source\"][11, ]"
   ]
  },
  {
   "cell_type": "code",
   "execution_count": null,
   "metadata": {},
   "outputs": [],
   "source": [
    "ASD_National[\"Source\"][11:20, ]"
   ]
  },
  {
   "cell_type": "markdown",
   "metadata": {},
   "source": [
    "**Access elements from dataframe**"
   ]
  },
  {
   "cell_type": "code",
   "execution_count": null,
   "metadata": {},
   "outputs": [],
   "source": [
    "# using column index\n",
    "ASD_National[, 1][1]"
   ]
  },
  {
   "cell_type": "code",
   "execution_count": null,
   "metadata": {},
   "outputs": [],
   "source": [
    "ASD_National[, 1][11]"
   ]
  },
  {
   "cell_type": "code",
   "execution_count": null,
   "metadata": {},
   "outputs": [],
   "source": [
    "ASD_National[, 1][11:20]"
   ]
  },
  {
   "cell_type": "code",
   "execution_count": null,
   "metadata": {},
   "outputs": [],
   "source": [
    "# using column name\n",
    "ASD_National[, \"Source\"][1]"
   ]
  },
  {
   "cell_type": "code",
   "execution_count": null,
   "metadata": {},
   "outputs": [],
   "source": [
    "# using column name\n",
    "ASD_National[, \"Source\"][11]"
   ]
  },
  {
   "cell_type": "code",
   "execution_count": null,
   "metadata": {},
   "outputs": [],
   "source": [
    "# using column name\n",
    "ASD_National[, \"Source\"][11:20]"
   ]
  },
  {
   "cell_type": "code",
   "execution_count": null,
   "metadata": {},
   "outputs": [],
   "source": [
    "# using $ operator\n",
    "ASD_National$Source[1]"
   ]
  },
  {
   "cell_type": "code",
   "execution_count": null,
   "metadata": {},
   "outputs": [],
   "source": [
    "ASD_National$Source[11]"
   ]
  },
  {
   "cell_type": "code",
   "execution_count": null,
   "metadata": {},
   "outputs": [],
   "source": [
    "ASD_National$Source[11:20]"
   ]
  },
  {
   "cell_type": "markdown",
   "metadata": {},
   "source": [
    "**Access elements of different column:**"
   ]
  },
  {
   "cell_type": "code",
   "execution_count": null,
   "metadata": {
    "scrolled": true
   },
   "outputs": [],
   "source": [
    "cbind(names(ASD_National), c(1:length(names(ASD_National))))"
   ]
  },
  {
   "cell_type": "code",
   "execution_count": null,
   "metadata": {},
   "outputs": [],
   "source": [
    "ASD_National[1, 1] # row 1, column 1: \"Source\" "
   ]
  },
  {
   "cell_type": "code",
   "execution_count": null,
   "metadata": {},
   "outputs": [],
   "source": [
    "ASD_National[10, 1] # row 10, column 1: \"Source\""
   ]
  },
  {
   "cell_type": "code",
   "execution_count": null,
   "metadata": {},
   "outputs": [],
   "source": [
    "ASD_National[1, 3] # row 1, column 3: \"Prevalence\""
   ]
  },
  {
   "cell_type": "code",
   "execution_count": null,
   "metadata": {},
   "outputs": [],
   "source": [
    "ASD_National[10, 3] # row 10, column 3: \"Prevalence\""
   ]
  },
  {
   "cell_type": "code",
   "execution_count": null,
   "metadata": {},
   "outputs": [],
   "source": [
    "ASD_National[1:10, 1:3] # row 1 to 10 from column 1 to 3"
   ]
  },
  {
   "cell_type": "code",
   "execution_count": null,
   "metadata": {},
   "outputs": [],
   "source": [
    "# or using columns names\n",
    "ASD_National[1:10, c('Source', 'Year', 'Prevalence')]"
   ]
  },
  {
   "cell_type": "code",
   "execution_count": null,
   "metadata": {},
   "outputs": [],
   "source": [
    "ASD_National[c(1:10, 20, 30:35), c(1:3, 9, 12)] # row 1 to 10, 20, and 20 to 25 from column 1 to 3, 9, and 12"
   ]
  },
  {
   "cell_type": "markdown",
   "metadata": {},
   "source": [
    "**<span style=\"color:blue\">[ Tips ]</span> We notice missing data from above.**"
   ]
  },
  {
   "cell_type": "markdown",
   "metadata": {},
   "source": [
    "<div class=\"alert alert-block alert-info\" style=\"margin-top: 20px\">\n",
    "    <h3>\n",
    "    Python Fundamentals - Process missing data\n",
    "    </h3>\n",
    "</div>\n"
   ]
  },
  {
   "cell_type": "markdown",
   "metadata": {},
   "source": [
    "**Count missing values in dataframe:**"
   ]
  },
  {
   "cell_type": "code",
   "execution_count": null,
   "metadata": {},
   "outputs": [],
   "source": [
    "sum(is.na(ASD_National)) # No missing data recognised by Python (NA)"
   ]
  },
  {
   "cell_type": "code",
   "execution_count": null,
   "metadata": {},
   "outputs": [],
   "source": [
    "sum(is.na(ASD_State)) # Some missing data recognised by Python (NA)"
   ]
  },
  {
   "cell_type": "markdown",
   "metadata": {},
   "source": [
    "**Empty string, \"No data\" are not considered as missing value by R, thus we need to handle them manually.**"
   ]
  },
  {
   "cell_type": "code",
   "execution_count": null,
   "metadata": {},
   "outputs": [],
   "source": [
    "# Define several offending strings\n",
    "na_strings <- c(\"\", \"No data\", \"NA\", \"N A\", \"N / A\", \"N/A\", \"N/ A\", \"Not Available\", \"NOt available\")"
   ]
  },
  {
   "cell_type": "code",
   "execution_count": null,
   "metadata": {},
   "outputs": [],
   "source": [
    "# Load required function from packages:\n",
    "if(!require(naniar)){install.packages(\"naniar\")}\n",
    "library(naniar)\n",
    "if(!require(dplyr)){install.packages(\"dplyr\")}\n",
    "library(dplyr)"
   ]
  },
  {
   "cell_type": "code",
   "execution_count": null,
   "metadata": {},
   "outputs": [],
   "source": [
    "# Uncomment below to show help\n",
    "# ?replace_with_na_all # Documentation"
   ]
  },
  {
   "cell_type": "markdown",
   "metadata": {},
   "source": [
    "**Replace these defined missing/offending values to R's internal NA**"
   ]
  },
  {
   "cell_type": "code",
   "execution_count": null,
   "metadata": {},
   "outputs": [],
   "source": [
    "# \"~.x\" is a reserved keyword of this function:\n",
    "ASD_National = replace_with_na_all(ASD_National, condition = ~.x %in% na_strings) "
   ]
  },
  {
   "cell_type": "code",
   "execution_count": null,
   "metadata": {},
   "outputs": [],
   "source": [
    "# Count missing values (R's internal NA) in dataframe:\n",
    "sum(is.na(ASD_National))"
   ]
  },
  {
   "cell_type": "markdown",
   "metadata": {},
   "source": [
    "<div class=\"alert alert-block alert-info\" style=\"margin-top: 20px\">\n",
    "    <h3>\n",
    "    Python Fundamentals - Process invalid characters\n",
    "    </h3>\n",
    "</div>\n"
   ]
  },
  {
   "cell_type": "markdown",
   "metadata": {},
   "source": [
    "**Remove invalid unicode char/string: \\x92**"
   ]
  },
  {
   "cell_type": "code",
   "execution_count": null,
   "metadata": {},
   "outputs": [],
   "source": [
    "ASD_National$Source_Full1[ASD_National$Source_Full1 == \"National Survey of Children\\x92s Health\"] <- \n",
    "\"National Survey of Children's Health\""
   ]
  },
  {
   "cell_type": "code",
   "execution_count": null,
   "metadata": {},
   "outputs": [],
   "source": [
    "ASD_National$Source_Full2[ASD_National$Source_Full2 == \"nsch-National Survey of Children\\x92s Health\"] <- \n",
    "\"nsch-National Survey of Children's Health\""
   ]
  },
  {
   "cell_type": "markdown",
   "metadata": {},
   "source": [
    "<div class=\"alert alert-block alert-info\" style=\"margin-top: 20px\">\n",
    "    <h3>\n",
    "    Python Fundamentals - Delete/Drop dataframe variable\n",
    "    </h3>\n",
    "</div>\n"
   ]
  },
  {
   "cell_type": "markdown",
   "metadata": {},
   "source": [
    "**Delete/Drop duplicate variable: Prevalence_dup**"
   ]
  },
  {
   "cell_type": "code",
   "execution_count": null,
   "metadata": {},
   "outputs": [],
   "source": [
    "drop <- c(\"Prevalence_dup\", \"Dummy Variable Name\")"
   ]
  },
  {
   "cell_type": "code",
   "execution_count": null,
   "metadata": {},
   "outputs": [],
   "source": [
    "ASD_National = ASD_National[, !(names(ASD_National) %in% drop)] # Recall Dataframe[rows,columns]"
   ]
  },
  {
   "cell_type": "markdown",
   "metadata": {},
   "source": [
    "<div class=\"alert alert-block alert-info\" style=\"margin-top: 20px\">\n",
    "    <h3>\n",
    "    Python Fundamentals - Create/Add dataframe variable\n",
    "    </h3>\n",
    "</div>\n"
   ]
  },
  {
   "cell_type": "markdown",
   "metadata": {},
   "source": [
    "**Create one new variable: Source_UC by converting to uppercase letters**"
   ]
  },
  {
   "cell_type": "code",
   "execution_count": null,
   "metadata": {},
   "outputs": [],
   "source": [
    "ASD_National$Source_UC <- paste(toupper(ASD_National$Source))"
   ]
  },
  {
   "cell_type": "markdown",
   "metadata": {},
   "source": [
    "**Create one new variable: Source_Full3 by combining Source and Source_Full1**"
   ]
  },
  {
   "cell_type": "code",
   "execution_count": null,
   "metadata": {},
   "outputs": [],
   "source": [
    "ASD_National$Source_Full3 <- paste(toupper(ASD_National$Source), ASD_National$Source_Full1)"
   ]
  },
  {
   "cell_type": "markdown",
   "metadata": {},
   "source": [
    "**Create one new ordinal categorical variable: Prevalence_Rank2 (\"Low\", \"High\") by binning Prevalence**"
   ]
  },
  {
   "cell_type": "code",
   "execution_count": null,
   "metadata": {},
   "outputs": [],
   "source": [
    "# Recode Risk into category from Prevalence\n",
    "\n",
    "# Low [0, 5)\n",
    "# High [5, +oo) \n",
    "\n",
    "ASD_National$Prevalence_Risk2[ASD_National$Prevalence < 5] = \"Low\"\n",
    "ASD_National$Prevalence_Risk2[ASD_National$Prevalence >= 5 ] = \"High\"\n",
    "#\n",
    "head(ASD_National)"
   ]
  },
  {
   "cell_type": "markdown",
   "metadata": {},
   "source": [
    "**Create one new ordinal categorical variable: Prevalence_Rank4 (\"Low\", \"Medium\", \"High\", \"Very High\") by binning Prevalence**"
   ]
  },
  {
   "cell_type": "code",
   "execution_count": null,
   "metadata": {},
   "outputs": [],
   "source": [
    "# Recode Risk into category from Prevalence\n",
    "\n",
    "# Low [0, 5)\n",
    "# Medium [5, 10)\n",
    "# High [10, 20)\n",
    "# Very High [20, +oo) \n",
    "\n",
    "ASD_National$Prevalence_Risk4 = \"Very High\"\n",
    "ASD_National$Prevalence_Risk4[ASD_National$Prevalence < 20 ] = \"High\"\n",
    "ASD_National$Prevalence_Risk4[ASD_National$Prevalence < 10 ] = \"Medium\"\n",
    "ASD_National$Prevalence_Risk4[ASD_National$Prevalence < 5] = \"Low\"\n",
    "#\n",
    "head(ASD_National)"
   ]
  },
  {
   "cell_type": "markdown",
   "metadata": {},
   "source": [
    "<div class=\"alert alert-block alert-info\" style=\"margin-top: 20px\">\n",
    "    <h3>\n",
    "    Python Fundamentals - Convert to correct data types\n",
    "    </h3>\n",
    "</div>\n"
   ]
  },
  {
   "cell_type": "markdown",
   "metadata": {},
   "source": [
    "**Review data structure and variable names:**"
   ]
  },
  {
   "cell_type": "code",
   "execution_count": null,
   "metadata": {},
   "outputs": [],
   "source": [
    "str(ASD_National)\n",
    "cbind(names(ASD_National), c(1:length(names(ASD_National))))"
   ]
  },
  {
   "cell_type": "markdown",
   "metadata": {},
   "source": [
    "**Convert Prevalence and CIs from categorical/chr to numeric, column 8 to 25**"
   ]
  },
  {
   "cell_type": "code",
   "execution_count": null,
   "metadata": {},
   "outputs": [],
   "source": [
    "ix <- 8:25 # define an index\n",
    "# apply()\n",
    "ASD_National[ix] <- apply(ASD_National[ix], 2, as.numeric) # \"2\" meand column-wise; \"1\" means row-wise."
   ]
  },
  {
   "cell_type": "code",
   "execution_count": null,
   "metadata": {},
   "outputs": [],
   "source": [
    "# Uncomment below to show help\n",
    "# ?apply # Documentation"
   ]
  },
  {
   "cell_type": "code",
   "execution_count": null,
   "metadata": {},
   "outputs": [],
   "source": [
    "# or lapply()\n",
    "ASD_National[ix] <- lapply(ASD_National[ix], as.numeric) # column-wise"
   ]
  },
  {
   "cell_type": "code",
   "execution_count": null,
   "metadata": {},
   "outputs": [],
   "source": [
    "# Uncomment below to show help\n",
    "# ?lapply # Documentation"
   ]
  },
  {
   "cell_type": "markdown",
   "metadata": {},
   "source": [
    "**Convert Source from categorical/chr to categorical/factor**"
   ]
  },
  {
   "cell_type": "code",
   "execution_count": null,
   "metadata": {},
   "outputs": [],
   "source": [
    "ix <- c(1, 6, 7, 26, 27) # define an index\n",
    "ASD_National[ix] <- lapply(ASD_National[ix], as.factor)"
   ]
  },
  {
   "cell_type": "markdown",
   "metadata": {},
   "source": [
    "**Create new ordered factor Year_Factor from Year**"
   ]
  },
  {
   "cell_type": "code",
   "execution_count": null,
   "metadata": {},
   "outputs": [],
   "source": [
    "ASD_National$Year_Factor <- factor(ASD_National$Year, ordered = TRUE)"
   ]
  },
  {
   "cell_type": "code",
   "execution_count": null,
   "metadata": {},
   "outputs": [],
   "source": [
    "# Observe the difference of 'Levels' in below two factors\n",
    "ASD_National$Year_Factor # Ordinal categorical variable\n",
    "str(ASD_National$Year_Factor)\n",
    "\n",
    "ASD_National$Source # Nominal categorical variable\n",
    "str(ASD_National$Source)"
   ]
  },
  {
   "cell_type": "markdown",
   "metadata": {},
   "source": [
    "**Convert Prevalence_Rank2 & Prevalence_Rank4 to ordered factor**"
   ]
  },
  {
   "cell_type": "code",
   "execution_count": null,
   "metadata": {},
   "outputs": [],
   "source": [
    "# Convert to factor\n",
    "ASD_National$Prevalence_Risk2 = factor(ASD_National$Prevalence_Risk2, ordered=TRUE,\n",
    "                                           levels=c(\"Low\", \"High\"))\n",
    "# Convert to factor\n",
    "ASD_National$Prevalence_Risk4 = factor(ASD_National$Prevalence_Risk4, ordered=TRUE,\n",
    "                                           levels=c(\"Low\", \"Medium\", \"High\", \"Very High\"))"
   ]
  },
  {
   "cell_type": "code",
   "execution_count": null,
   "metadata": {},
   "outputs": [],
   "source": [
    "# Optionally, below is manual conversion examples:\n",
    "# ASD_National$Male.Prevalence = as.numeric(ASD_National$Male.Prevalence)\n",
    "# ASD_National$Source = as.factor(ASD_National$Source)\n",
    "# ASD_National$Prevalence_Risk2 = factor(ASD_National$Prevalence_Risk2, ordered=TRUE, levels=c(\"Low\", \"High\"))\n",
    "# ASD_National$Prevalence_Risk4 = factor(ASD_National$Prevalence_Risk4, ordered=TRUE, levels=c(\"Low\", \"Medium\", \"High\", \"Very High\"))\n"
   ]
  },
  {
   "cell_type": "markdown",
   "metadata": {},
   "source": [
    "**Optionally, export the processed dataframe data to CSV file.**"
   ]
  },
  {
   "cell_type": "code",
   "execution_count": null,
   "metadata": {},
   "outputs": [],
   "source": [
    "write.csv(ASD_National, file = \"../dataset/ADV_ASD_National_R.csv\", row.names = FALSE)"
   ]
  },
  {
   "cell_type": "code",
   "execution_count": null,
   "metadata": {},
   "outputs": [],
   "source": [
    "# Read back in above saved file:\n",
    "# ASD_National <- read.csv(\"../dataset/ADV_ASD_National_R.csv\")\n",
    "# ASD_National$Year_Factor <- factor(ASD_National$Year_Factor, ordered = TRUE) # Convert Year_Factor to ordered.factor"
   ]
  },
  {
   "cell_type": "markdown",
   "metadata": {},
   "source": [
    "<div class=\"alert alert-block alert-info\" style=\"margin-top: 20px\">\n",
    "</div>\n",
    "\n"
   ]
  },
  {
   "cell_type": "markdown",
   "metadata": {},
   "source": [
    "## <span style=\"color:blue\">Data Summarization </span>\n"
   ]
  },
  {
   "cell_type": "markdown",
   "metadata": {},
   "source": [
    "<div class=\"alert alert-block alert-info\" style=\"margin-top: 20px\">\n",
    "    <h3>\n",
    "    Data Summarization - High Level Data Summary\n",
    "    </h3>\n",
    "</div>\n"
   ]
  },
  {
   "cell_type": "code",
   "execution_count": null,
   "metadata": {},
   "outputs": [],
   "source": [
    "summary(ASD_National)"
   ]
  },
  {
   "cell_type": "markdown",
   "metadata": {},
   "source": [
    "<div class=\"alert alert-block alert-info\" style=\"margin-top: 20px\">\n",
    "    <h3>\n",
    "    Data Summarization - Summary of <span style=\"color:blue\">numeric</span> variables\n",
    "    </h3>\n",
    "</div>\n"
   ]
  },
  {
   "cell_type": "code",
   "execution_count": null,
   "metadata": {},
   "outputs": [],
   "source": [
    "# Filter only numeric variables/columns\n",
    "select_if(ASD_National, is.numeric) # library(dplyr)"
   ]
  },
  {
   "cell_type": "code",
   "execution_count": null,
   "metadata": {},
   "outputs": [],
   "source": [
    "# Data summarization\n",
    "summary(select_if(ASD_National, is.numeric))"
   ]
  },
  {
   "cell_type": "markdown",
   "metadata": {},
   "source": [
    "**<span style=\"color:blue\">[ Tips ]</span> We notice missing data in a few Prevalence variables.**"
   ]
  },
  {
   "cell_type": "code",
   "execution_count": null,
   "metadata": {},
   "outputs": [],
   "source": [
    "# Calculate average Prevalence, no error\n",
    "mean(ASD_National$Prevalence)\n",
    "mean(ASD_National$Prevalence[ASD_National$Source == 'addm'])\n",
    "mean(ASD_National$Prevalence[ASD_National$Source == 'medi'])\n",
    "mean(ASD_National$Prevalence[ASD_National$Source == 'nsch'])\n",
    "mean(ASD_National$Prevalence[ASD_National$Source == 'sped'])"
   ]
  },
  {
   "cell_type": "code",
   "execution_count": null,
   "metadata": {},
   "outputs": [],
   "source": [
    "# Calculate average Male.Prevalence, there is error!\n",
    "mean(ASD_National$Male.Prevalence)"
   ]
  },
  {
   "cell_type": "code",
   "execution_count": null,
   "metadata": {},
   "outputs": [],
   "source": [
    "# Because of NA, mean() cannot process, thus we use na.rm to ignore NAs\n",
    "mean(ASD_National$Male.Prevalence, na.rm = TRUE)"
   ]
  },
  {
   "cell_type": "code",
   "execution_count": null,
   "metadata": {},
   "outputs": [],
   "source": [
    "mean(ASD_National$Female.Prevalence, na.rm = TRUE)"
   ]
  },
  {
   "cell_type": "code",
   "execution_count": null,
   "metadata": {},
   "outputs": [],
   "source": [
    "# Count occurrences of uniques values in a variable/column: number of rows (of data entry) per year\n",
    "table(ASD_National$Year) # ?table"
   ]
  },
  {
   "cell_type": "markdown",
   "metadata": {},
   "source": [
    "<div class=\"alert alert-block alert-info\" style=\"margin-top: 20px\">\n",
    "    <h3>\n",
    "    Data Summarization - Summary of <span style=\"color:blue\">categorical</span> variables\n",
    "    </h3>\n",
    "</div>\n"
   ]
  },
  {
   "cell_type": "code",
   "execution_count": null,
   "metadata": {},
   "outputs": [],
   "source": [
    "# List of categorical variables\n",
    "names(select_if(ASD_National, is.factor)) # All categorical variables are factor data type\n",
    "names(select_if(ASD_National, is.character)) # No categorical variable is character data type"
   ]
  },
  {
   "cell_type": "code",
   "execution_count": null,
   "metadata": {},
   "outputs": [],
   "source": [
    "# Look at summary\n",
    "summary(select_if(ASD_National, is.factor))"
   ]
  },
  {
   "cell_type": "code",
   "execution_count": null,
   "metadata": {},
   "outputs": [],
   "source": [
    "summary(select_if(ASD_National, is.character))"
   ]
  },
  {
   "cell_type": "code",
   "execution_count": null,
   "metadata": {},
   "outputs": [],
   "source": [
    "# Count occurrences of uniques values in a variable/column\n",
    "table(ASD_National$Source)"
   ]
  },
  {
   "cell_type": "code",
   "execution_count": null,
   "metadata": {},
   "outputs": [],
   "source": [
    "table(ASD_National$Source_Full3)"
   ]
  },
  {
   "cell_type": "code",
   "execution_count": null,
   "metadata": {},
   "outputs": [],
   "source": [
    "table(ASD_National$Year_Factor)"
   ]
  },
  {
   "cell_type": "code",
   "execution_count": null,
   "metadata": {},
   "outputs": [],
   "source": [
    "table(ASD_National$Prevalence) # numeric is also possible"
   ]
  },
  {
   "cell_type": "code",
   "execution_count": null,
   "metadata": {},
   "outputs": [],
   "source": [
    "# Display unique values (levels) of a factor categorical \n",
    "lapply(select_if(ASD_National, is.factor), levels)"
   ]
  },
  {
   "cell_type": "code",
   "execution_count": null,
   "metadata": {},
   "outputs": [],
   "source": [
    "# or using variable names\n",
    "lapply(ASD_National[c('Source_UC', 'Year_Factor')], levels)"
   ]
  },
  {
   "cell_type": "code",
   "execution_count": null,
   "metadata": {},
   "outputs": [],
   "source": [
    "# Pivot of counting occurrences\n",
    "table(ASD_National$Source_Full3, ASD_National$Year) # table(ASD_National$Year, ASD_National$Source_Full3)"
   ]
  },
  {
   "cell_type": "code",
   "execution_count": null,
   "metadata": {},
   "outputs": [],
   "source": [
    "# Pivot of counting occurrences\n",
    "table(ASD_National$Prevalence_Risk2, ASD_National$Source)\n",
    "\n",
    "# Pivot of counting occurrences\n",
    "table(ASD_National$Prevalence_Risk4, ASD_National$Source)"
   ]
  },
  {
   "cell_type": "markdown",
   "metadata": {},
   "source": [
    "<div class=\"alert alert-block alert-info\" style=\"margin-top: 20px\">\n",
    "</div>\n",
    "\n"
   ]
  },
  {
   "cell_type": "markdown",
   "metadata": {},
   "source": [
    "## <span style=\"color:blue\">Data Visualisation (Base Graphic)</span>\n"
   ]
  },
  {
   "cell_type": "code",
   "execution_count": null,
   "metadata": {},
   "outputs": [],
   "source": [
    "# library(repr)\n",
    "# Adjust in-line plot size to M x N\n",
    "options(repr.plot.width=8, repr.plot.height=4)"
   ]
  },
  {
   "cell_type": "markdown",
   "metadata": {},
   "source": [
    "<div class=\"alert alert-block alert-info\" style=\"margin-top: 20px\">\n",
    "    <h3>\n",
    "    Data Visualisation (Base Graphic) - Histogram (distribution of binned continuous variable)\n",
    "    </h3>\n",
    "</div>\n"
   ]
  },
  {
   "cell_type": "markdown",
   "metadata": {},
   "source": [
    "https://www.statmethods.net/graphs/density.html"
   ]
  },
  {
   "cell_type": "code",
   "execution_count": null,
   "metadata": {},
   "outputs": [],
   "source": [
    "hist(ASD_National$Prevalence)"
   ]
  },
  {
   "cell_type": "code",
   "execution_count": null,
   "metadata": {},
   "outputs": [],
   "source": [
    "par(mfrow=c(1, 2)) # multiple plots on one page: row split to: 1,column split to: 2\n",
    "hist(ASD_National$Male.Prevalence)\n",
    "hist(ASD_National$Female.Prevalence)\n",
    "par(mfrow=c(1, 1)) # Reset to one plot on one page"
   ]
  },
  {
   "cell_type": "code",
   "execution_count": null,
   "metadata": {},
   "outputs": [],
   "source": [
    "# Histogram with annotations\n",
    "hist(ASD_National$Prevalence,\n",
    "     main = \"Frequency of National ASD Prevalence\", # Chart title\n",
    "     xlab = \"Prevalence per 1,000 Children\", # x axis label\n",
    "     ylab = \"Frequency or Occurrences\",# y axis label\n",
    "     sub  = \"Year 2000 - 2016\", # Chart subtitle at bottom\n",
    "     col.main=\"blue\", col.lab=\"black\", col.sub=\"darkgrey\") # Colours"
   ]
  },
  {
   "cell_type": "markdown",
   "metadata": {},
   "source": [
    "<div class=\"alert alert-block alert-info\" style=\"margin-top: 20px\">\n",
    "    <h3>\n",
    "    Density plot (distribution for continuous variable normalized to 100% area under curve)\n",
    "    </h3>\n",
    "</div>\n"
   ]
  },
  {
   "cell_type": "markdown",
   "metadata": {},
   "source": [
    "https://www.statmethods.net/graphs/density.html"
   ]
  },
  {
   "cell_type": "code",
   "execution_count": null,
   "metadata": {},
   "outputs": [],
   "source": [
    "par(mfrow=c(1, 2)) # multiple plots on one page: row split to: 1,column split to: 2\n",
    "\n",
    "plot(density(ASD_National$Prevalence))\n",
    "\n",
    "# Density plot with annotations\n",
    "plot(density(ASD_National$Prevalence),\n",
    "     main = \"Density of National ASD Prevalence\",\n",
    "     xlab = \"Prevalence per 1,000 Children\",\n",
    "     ylab = \"Frequency or Occurrences\",\n",
    "     sub  = \"Year 2000 - 2016\",\n",
    "     col.main=\"blue\", col.lab=\"black\", col.sub=\"darkgrey\")\n",
    "\n",
    "par(mfrow=c(1, 1))"
   ]
  },
  {
   "cell_type": "markdown",
   "metadata": {},
   "source": [
    "<div class=\"alert alert-block alert-info\" style=\"margin-top: 20px\">\n",
    "    <h3>\n",
    "    Boxplot plot (median, 25% quantile,75% quantile)\n",
    "    </h3>\n",
    "</div>\n"
   ]
  },
  {
   "cell_type": "markdown",
   "metadata": {},
   "source": [
    "https://www.statmethods.net/graphs/boxplot.html\n"
   ]
  },
  {
   "cell_type": "markdown",
   "metadata": {},
   "source": [
    "https://stats.stackexchange.com/questions/156778/percentile-vs-quantile-vs-quartile\n",
    "\n",
    "0 quartile = 0 quantile = 0 percentile\n",
    "\n",
    "1 quartile = 0.25 quantile = 25 percentile\n",
    "\n",
    "2 quartile = .5 quantile = 50 percentile (median)\n",
    "\n",
    "3 quartile = .75 quantile = 75 percentile\n",
    "\n",
    "4 quartile = 1 quantile = 100 percentile"
   ]
  },
  {
   "cell_type": "code",
   "execution_count": null,
   "metadata": {},
   "outputs": [],
   "source": [
    "par(mfrow=c(1, 2)) # multiple plots on one page: row split to: 1,column split to: 2\n",
    "\n",
    "# All children prevalence with and without 95% confidence side by side:\n",
    "boxplot(ASD_National$Prevalence, notch = TRUE) # 95% confidence interval - a notch is drawn in each side of the boxes. If the notches of two plots do not overlap this is ‘strong evidence’ that the two medians differ\n",
    "boxplot(ASD_National$Prevalence) # All children\n",
    "\n",
    "par(mfrow=c(1, 1))"
   ]
  },
  {
   "cell_type": "code",
   "execution_count": null,
   "metadata": {},
   "outputs": [],
   "source": [
    "par(mfrow=c(1, 2)) # multiple plots on one page: row split to: 1,column split to: 2\n",
    "\n",
    "# Male prevalence and Female prevalence side by side:\n",
    "boxplot(ASD_National$Male.Prevalence, ylim = c(0, 35), notch = TRUE) # Male children\n",
    "boxplot(ASD_National$Female.Prevalence, ylim = c(0, 35), notch = TRUE) # Female children\n",
    "\n",
    "par(mfrow=c(1, 1))"
   ]
  },
  {
   "cell_type": "code",
   "execution_count": null,
   "metadata": {},
   "outputs": [],
   "source": [
    "# Display value ranges\n",
    "# numeric:\n",
    "range(ASD_National$Prevalence)"
   ]
  },
  {
   "cell_type": "code",
   "execution_count": null,
   "metadata": {},
   "outputs": [],
   "source": [
    "range(ASD_National$Year)"
   ]
  },
  {
   "cell_type": "code",
   "execution_count": null,
   "metadata": {},
   "outputs": [],
   "source": [
    "# categorical:\n",
    "min(ASD_National$Year_Factor)"
   ]
  },
  {
   "cell_type": "code",
   "execution_count": null,
   "metadata": {},
   "outputs": [],
   "source": [
    "max(ASD_National$Year_Factor)"
   ]
  },
  {
   "cell_type": "code",
   "execution_count": null,
   "metadata": {},
   "outputs": [],
   "source": [
    "# Create 'Prevalence' box plots break by 'Source'\n",
    "boxplot(ASD_National$Prevalence ~ ASD_National$Source,\n",
    "        main = \"National ASD Prevalence by Data Source\",\n",
    "        xlab = \"Data Source\",\n",
    "        ylab = \"Prevalence per 1,000 Children\",\n",
    "        sub  = \"Year 2000 - 2016\",\n",
    "        col.main=\"blue\", col.lab=\"black\", col.sub=\"darkgrey\")"
   ]
  },
  {
   "cell_type": "markdown",
   "metadata": {},
   "source": [
    "<div class=\"alert alert-danger alertdanger\" style=\"margin-top: 20px\">\n",
    "    <h3>\n",
    "        Quiz:\n",
    "    </h3>\n",
    "    <p>\n",
    "        Set noth=TRUE to above boxplot. Are there overlapping among four data sources?\n",
    "    </p>\n",
    "</div>"
   ]
  },
  {
   "cell_type": "code",
   "execution_count": null,
   "metadata": {},
   "outputs": [],
   "source": [
    "# Write your code below and press Shift+Enter to execute \n"
   ]
  },
  {
   "cell_type": "markdown",
   "metadata": {},
   "source": [
    "Double-click <b>here</b> for the solution.\n",
    "\n",
    "<!-- The answer is below:\n",
    "\n",
    "# Write your code below and press Shift+Enter to execute \n",
    "# Create 'Prevalence' box plots break by 'Source'\n",
    "boxplot(ASD_National$Prevalence ~ ASD_National$Source,\n",
    "        main = \"National ASD Prevalence by Data Source\", notch=TRUE,\n",
    "        xlab = \"Data Source\",\n",
    "        ylab = \"Prevalence per 1,000 Children\",\n",
    "        sub  = \"Year 2000 - 2016\",\n",
    "        col.main=\"blue\", col.lab=\"black\", col.sub=\"darkgrey\")\n",
    "\n",
    "-->"
   ]
  },
  {
   "cell_type": "markdown",
   "metadata": {},
   "source": [
    "<div class=\"alert alert-block alert-info\" style=\"margin-top: 20px\">\n",
    "    <h3>\n",
    "    Data Visualisation (Base Graphic) - Bar plot\n",
    "    </h3>\n",
    "</div>\n"
   ]
  },
  {
   "cell_type": "code",
   "execution_count": null,
   "metadata": {},
   "outputs": [],
   "source": [
    "# Adjust in-line plot size to M x N\n",
    "options(repr.plot.width=8, repr.plot.height=4)"
   ]
  },
  {
   "cell_type": "code",
   "execution_count": null,
   "metadata": {},
   "outputs": [],
   "source": [
    "# ----------------------------------\n",
    "# [National] Risk by Data Source\n",
    "# ----------------------------------\n",
    "# Create bar chart using Python graphics\n",
    "counts = table(ASD_National$Prevalence_Risk2, ASD_National$Source)\n",
    "#counts = table(ASD_National$Source, ASD_National$Prevalence_Risk4)\n",
    "barplot(counts,\n",
    "        main=\"Prevalence by Data Sources and Risk Levels\",\n",
    "        xlab=\"Data Sources\", col=c(\"white\", \"lightgrey\"),\n",
    "        ylab=\"Occurrences\",\n",
    "        legend = rownames(counts), \n",
    "        args.legend = list(x=\"topleft\", bty = \"n\", cex = 0.85, y.intersp=2))"
   ]
  },
  {
   "cell_type": "code",
   "execution_count": null,
   "metadata": {},
   "outputs": [],
   "source": [
    "# ----------------------------------\n",
    "# [National] Risk by Data Source\n",
    "# ----------------------------------\n",
    "# Create bar chart using Python graphics\n",
    "counts = table(ASD_National$Prevalence_Risk2, ASD_National$Source) # Count of Risk records, split by Source\n",
    "barplot(counts,\n",
    "        main=\"Prevalence by Data Sources and Risk Levels\",\n",
    "        xlab=\"Data Sources\",\n",
    "        ylab=\"Occurrences\",\n",
    "        col=c(\"white\", \"lightgrey\"),\n",
    "        legend = rownames(counts), \n",
    "        args.legend = list(x = \"topleft\", bty = \"n\", cex = 0.85, y.intersp = 2))"
   ]
  },
  {
   "cell_type": "code",
   "execution_count": null,
   "metadata": {},
   "outputs": [],
   "source": [
    "# ----------------------------------\n",
    "# [National] Risk by Data Source\n",
    "# ----------------------------------\n",
    "# Create bar chart using Python graphics\n",
    "counts = table(ASD_National$Prevalence_Risk4, ASD_National$Source) # Count of Risk records, split by Source\n",
    "barplot(counts,\n",
    "        main=\"Prevalence Occurrence by Source and Risk\",\n",
    "        xlab=\"Data Sources\",\n",
    "        ylab=\"Occurrences\",\n",
    "        col=c(\"lightyellow\", \"orange\", \"red\",\"darkred\"),\n",
    "        legend = rownames(counts), \n",
    "        args.legend = list(x = \"topleft\", bty = \"n\", cex = 0.85, y.intersp = 2))"
   ]
  },
  {
   "cell_type": "markdown",
   "metadata": {},
   "source": [
    "<div class=\"alert alert-block alert-info\" style=\"margin-top: 20px\">\n",
    "    <h3>\n",
    "    Data Visualisation (Base Graphic) - Line chart\n",
    "    </h3>\n",
    "</div>\n"
   ]
  },
  {
   "cell_type": "code",
   "execution_count": null,
   "metadata": {},
   "outputs": [],
   "source": [
    "# Adjust in-line plot size to M x N\n",
    "options(repr.plot.width=8, repr.plot.height=5)"
   ]
  },
  {
   "cell_type": "code",
   "execution_count": null,
   "metadata": {},
   "outputs": [],
   "source": [
    "# ----------------------------------\n",
    "# [National] < Prevalence has changed over Time >\n",
    "# ----------------------------------\n",
    "# Prevalence over Year\n",
    "# Use Year        as x-axis: y value Prevalence is NOT aggregated for different data sources\n",
    "plot(ASD_National$Year, ASD_National$Prevalence) "
   ]
  },
  {
   "cell_type": "code",
   "execution_count": null,
   "metadata": {},
   "outputs": [],
   "source": [
    "# Use Year_factor as x-axis: y value Prevalence is     aggregated for different data sources\n",
    "plot(ASD_National$Year_Factor, ASD_National$Prevalence) "
   ]
  },
  {
   "cell_type": "code",
   "execution_count": null,
   "metadata": {},
   "outputs": [],
   "source": [
    "# table(ASD_National$Source_Full3)"
   ]
  },
  {
   "cell_type": "code",
   "execution_count": null,
   "metadata": {},
   "outputs": [],
   "source": [
    "# Adjust in-line plot size to M x N\n",
    "options(repr.plot.width=8, repr.plot.height=6)\n",
    "\n",
    "par(mfrow=c(2, 2))\n",
    "\n",
    "# Prevalence over Year, from data source: \n",
    "# addm-Autism & Developmental Disabilities Monitoring Network\n",
    "plot(ASD_National$Year[ASD_National$Source == 'addm'], \n",
    "     ASD_National$Prevalence[ASD_National$Source == 'addm'])\n",
    "\n",
    "# Prevalence over Year, from data source: \n",
    "# medi-Medicaid\n",
    "plot(ASD_National$Year[ASD_National$Source == 'medi'], \n",
    "     ASD_National$Prevalence[ASD_National$Source == 'medi'])\n",
    "\n",
    "# Prevalence over Year, from data source: \n",
    "# nsch-National Survey of Children Health\n",
    "plot(ASD_National$Year[ASD_National$Source == 'nsch'], \n",
    "     ASD_National$Prevalence[ASD_National$Source == 'nsch'])\n",
    "\n",
    "# Prevalence over Year, from data source: \n",
    "# sped-Special Education Child Count\n",
    "plot(ASD_National$Year[ASD_National$Source == 'sped'], \n",
    "     ASD_National$Prevalence[ASD_National$Source == 'sped'])\n",
    "\n",
    "par(mfrow=c(1, 1)) # Reset to one plot on one page"
   ]
  },
  {
   "cell_type": "code",
   "execution_count": null,
   "metadata": {},
   "outputs": [],
   "source": [
    "# ----------------------------------\n",
    "# Add more annotations to above plots\n",
    "# ----------------------------------\n",
    "# Color list\n",
    "# addm : darkblue\n",
    "# medi : orange\n",
    "# nsch : darkred\n",
    "# sped : skyblue\n",
    "\n",
    "par(mfrow=c(2, 2))\n",
    "\n",
    "# Prevalence over Year, from data source: \n",
    "# addm-Autism & Developmental Disabilities Monitoring Network\n",
    "plot(ASD_National$Year[ASD_National$Source == 'addm'], \n",
    "     ASD_National$Prevalence[ASD_National$Source == 'addm'],\n",
    "     type=\"l\", # dot/point type\n",
    "     lty=1, # line type\n",
    "     lwd=3, # line width\n",
    "     col=\"darkblue\", # line color\n",
    "     xlab=\"Year\", \n",
    "     ylab=\"Prevalence per 1,000 Children\", \n",
    "     ylim = c(0, 30), # Set value range of y axis\n",
    "     main=\"[addm] Prevalence Estimates Over Time\",\n",
    "     sub  = \"zhan.gu@nus.edu.sg\",\n",
    "     col.main=\"blue\", col.lab=\"black\", col.sub=\"darkgrey\")\n",
    "\n",
    "# Prevalence over Year, from data source: \n",
    "# medi-Medicaid\n",
    "plot(ASD_National$Year[ASD_National$Source == 'medi'], \n",
    "     ASD_National$Prevalence[ASD_National$Source == 'medi'],\n",
    "     type=\"b\", lty=1, lwd=3,  col=\"orange\",\n",
    "     xlab=\"Year\", \n",
    "     ylab=\"Prevalence per 1,000 Children\", \n",
    "     ylim = c(0, 30), # Set value range of y axis\n",
    "     main=\"[medi] Prevalence Estimates Over Time\",\n",
    "     sub  = \"zhan.gu@nus.edu.sg\",\n",
    "     col.main=\"blue\", col.lab=\"black\", col.sub=\"darkgrey\")\n",
    "\n",
    "# Prevalence over Year, from data source: \n",
    "# nsch-National Survey of Children Health\n",
    "plot(ASD_National$Year[ASD_National$Source == 'nsch'], \n",
    "     ASD_National$Prevalence[ASD_National$Source == 'nsch'],\n",
    "     type=\"l\", lty=2, lwd=3,  col=\"darkred\",\n",
    "     xlab=\"Year\", \n",
    "     ylab=\"Prevalence per 1,000 Children\", \n",
    "     ylim = c(0, 30), # Set value range of y axis\n",
    "     main=\"[nsch] Prevalence Estimates Over Time\",\n",
    "     sub  = \"zhan.gu@nus.edu.sg\",\n",
    "     col.main=\"blue\", col.lab=\"black\", col.sub=\"darkgrey\")\n",
    "\n",
    "# Prevalence over Year, from data source: \n",
    "# sped-Special Education Child Count\n",
    "plot(ASD_National$Year[ASD_National$Source == 'sped'], \n",
    "     ASD_National$Prevalence[ASD_National$Source == 'sped'],\n",
    "     type=\"l\", lty=3, lwd=3,  col=\"skyblue\",\n",
    "     xlab=\"Year\", \n",
    "     ylab=\"Prevalence per 1,000 Children\", \n",
    "     ylim = c(0, 30), # Set value range of y axis\n",
    "     main=\"[sped] Prevalence Estimates Over Time\",\n",
    "     sub  = \"zhan.gu@nus.edu.sg\",\n",
    "     col.main=\"blue\", col.lab=\"black\", col.sub=\"darkgrey\")\n",
    "\n",
    "par(mfrow=c(1, 1)) # Reset to one plot on one page"
   ]
  },
  {
   "cell_type": "markdown",
   "metadata": {},
   "source": [
    "<div class=\"alert alert-block alert-info\" style=\"margin-top: 20px\">\n",
    "    <h3>\n",
    "    Data Visualisation (Base Graphic) - <span style=\"color:blue\">[ Python ] REPORTED PREVALENCE HAS CHANGED OVER TIME</span> by [ Data Source ]\n",
    "    </h3>\n",
    "</div>\n"
   ]
  },
  {
   "cell_type": "markdown",
   "metadata": {},
   "source": [
    "**Create multiple lines within a single chart**"
   ]
  },
  {
   "cell_type": "code",
   "execution_count": null,
   "metadata": {},
   "outputs": [],
   "source": [
    "# ----------------------------------\n",
    "# [National] < Prevalence Varies over Time/Year by Data Source >\n",
    "# ----------------------------------\n",
    "# Create a first line\n",
    "plot(ASD_National$Year[ASD_National$Source == 'addm'], \n",
    "     ASD_National$Prevalence[ASD_National$Source == 'addm'], \n",
    "     col = \"darkblue\", lty = 1, lwd = 2,\n",
    "     type = \"b\", # use dot/point\n",
    "     pch = 0, # dot/point type: http://www.endmemo.com/program/R/pchsymbols.php\n",
    "     xlab=\"Year\", \n",
    "     xlim=c(2000, 2016), # Set x axis value range\n",
    "     ylab=\"Prevalence per 1,000 Children\", \n",
    "     ylim=c(0, 30), # Set y axis value range\n",
    "     main=\"Prevalence Estimates Over Time by Data Source\",\n",
    "     col.main=\"black\", col.lab=\"black\", col.sub=\"grey\",\n",
    "     frame = FALSE, # Remove frame\n",
    "     axes=FALSE # Remove x and y axis\n",
    ")\n",
    "axis(1, at=seq(2000, 2016, 1)) # Customize x axis\n",
    "axis(2, at=seq(0, 30, 5)) # Customize y axis\n",
    "\n",
    "# Add another line\n",
    "lines(ASD_National$Year[ASD_National$Source == 'medi'], \n",
    "      ASD_National$Prevalence[ASD_National$Source == 'medi'], \n",
    "      pch = 1, col = \"orange\", type = \"b\", lty = 1, lwd = 2\n",
    ")\n",
    "# Add another line\n",
    "lines(ASD_National$Year[ASD_National$Source == 'nsch'], \n",
    "      ASD_National$Prevalence[ASD_National$Source == 'nsch'], \n",
    "      pch = 2, col = \"darkred\", type = \"b\", lty = 1, lwd = 2\n",
    ")\n",
    "# Add another line\n",
    "lines(ASD_National$Year[ASD_National$Source == 'sped'], \n",
    "      ASD_National$Prevalence[ASD_National$Source == 'sped'], \n",
    "      pch = 5, col = \"skyblue\", type = \"b\", lty = 1, lwd = 2\n",
    ")\n",
    "# Add a legend to the plot\n",
    "legend(\"topleft\", legend=levels(ASD_National$Source),\n",
    "       col=c(\"darkblue\", \"orange\", \"darkred\", \"skyblue\"), \n",
    "       pch = 20, # dot in a line\n",
    "       lty = 1, # line type\n",
    "       lwd = 2, # line width\n",
    "       cex=0.8, # size of text\n",
    "       bty = 'n' # Without frame\n",
    ")\n"
   ]
  },
  {
   "cell_type": "markdown",
   "metadata": {},
   "source": [
    "R pch: dot/point type: http://www.endmemo.com/program/R/pchsymbols.php\n",
    "\n",
    "R plot colour list: https://www.r-graph-gallery.com/42-colors-names.html\n"
   ]
  },
  {
   "cell_type": "markdown",
   "metadata": {},
   "source": [
    "<div class=\"alert alert-block alert-info\" style=\"margin-top: 20px\">\n",
    "    <h3>\n",
    "    Data Visualisation (Base Graphic) - <span style=\"color:blue\">[ Python ] REPORTED PREVALENCE VARIES BY SEX</span> [ Source: ADDM ] over [ Year ]\n",
    "    </h3>\n",
    "</div>\n"
   ]
  },
  {
   "cell_type": "code",
   "execution_count": null,
   "metadata": {},
   "outputs": [],
   "source": [
    "# ----------------------------------\n",
    "# [addm] < Prevalence Varies by Sex >\n",
    "# ----------------------------------\n",
    "# Create a first line\n",
    "plot(ASD_National$Year[ASD_National$Source == 'addm'], \n",
    "     ASD_National$Prevalence[ASD_National$Source == 'addm'], \n",
    "     col = \"grey\", lty = 1, lwd = 2,\n",
    "     type = \"l\", # use dot/point\n",
    "     pch = 0, # dot/point type: http://www.endmemo.com/program/R/pchsymbols.php\n",
    "     xlab=\"Year\", \n",
    "     xlim=c(2000, 2016), # Set x axis value range\n",
    "     ylab=\"Prevalence per 1,000 Children\", \n",
    "     ylim=c(0, 30), # Set y axis value range\n",
    "     main=\"Prevalence Estimates by Sex [ADDM]\",\n",
    "     col.main=\"black\", col.lab=\"black\", col.sub=\"grey\",\n",
    "     frame = FALSE, # Remove frame\n",
    "     axes=FALSE # Remove x and y axis\n",
    ")\n",
    "axis(1, at=seq(2000, 2016, 1)) # Customize x axis\n",
    "axis(2, at=seq(0, 30, 5)) # Customize y axis\n",
    "\n",
    "# Add Female prevalence\n",
    "lines(ASD_National$Year[ASD_National$Source == 'addm'], \n",
    "      ASD_National$Female.Prevalence[ASD_National$Source == 'addm'], \n",
    "      pch = 1, col = \"orange\", type = \"l\", lty = 1, lwd = 2)\n",
    "# Add Female prevalence lower CI\n",
    "lines(ASD_National$Year[ASD_National$Source == 'addm'], \n",
    "      ASD_National$Female.Lower.CI[ASD_National$Source == 'addm'], \n",
    "      pch = 1, col = \"orange\", type = \"l\", lty = 3, lwd = 1)\n",
    "# Add Female prevalence upper CI\n",
    "lines(ASD_National$Year[ASD_National$Source == 'addm'], \n",
    "      ASD_National$Female.Upper.CI[ASD_National$Source == 'addm'], \n",
    "      pch = 1, col = \"orange\", type = \"l\", lty = 3, lwd = 1)\n",
    "\n",
    "# Add Male prevalence\n",
    "lines(ASD_National$Year[ASD_National$Source == 'addm'], \n",
    "      ASD_National$Male.Prevalence[ASD_National$Source == 'addm'], \n",
    "      pch = 1, col = \"blue\", type = \"l\", lty = 1, lwd = 2)\n",
    "# Add Male prevalence lower CI\n",
    "lines(ASD_National$Year[ASD_National$Source == 'addm'], \n",
    "      ASD_National$Male.Lower.CI[ASD_National$Source == 'addm'], \n",
    "      pch = 1, col = \"blue\", type = \"l\", lty = 3, lwd = 1)\n",
    "# Add Male prevalence upper CI\n",
    "lines(ASD_National$Year[ASD_National$Source == 'addm'], \n",
    "      ASD_National$Male.Upper.CI[ASD_National$Source == 'addm'], \n",
    "      pch = 1, col = \"blue\", type = \"l\", lty = 3, lwd = 1)\n",
    "# Add a legend to the plot\n",
    "legend(\"topleft\", legend=c('ADDM Average', 'Female with 95% CI', 'Male with 95% CI'),\n",
    "       col=c(\"grey\", \"orange\", \"blue\"), \n",
    "       #       pch = 20, # dot in a line\n",
    "       lty = 1, # line type\n",
    "       lwd = 2, # line width\n",
    "       cex=0.8, # size of text\n",
    "       bty = 'n' # Without frame\n",
    ")\n"
   ]
  },
  {
   "cell_type": "markdown",
   "metadata": {},
   "source": [
    "<div class=\"alert alert-block alert-info\" style=\"margin-top: 20px\">\n",
    "    <h3>\n",
    "    Data Visualisation (Base Graphic) - <span style=\"color:blue\">[ Python ] REPORTED PREVALENCE VARIES BY RACE AND ETHNICITY</span> [ Source: ADDM ]\n",
    "    </h3>\n",
    "</div>\n"
   ]
  },
  {
   "cell_type": "code",
   "execution_count": null,
   "metadata": {},
   "outputs": [],
   "source": [
    "# ----------------------------------\n",
    "# [addm] < Prevalence Varies by Race and Ethnicity >\n",
    "# ----------------------------------\n",
    "# Create a first line\n",
    "plot(ASD_National$Year[ASD_National$Source == 'addm'], \n",
    "     ASD_National$Prevalence[ASD_National$Source == 'addm'], \n",
    "     col = \"grey\", lty = 1, lwd = 2,\n",
    "     type = \"l\", # use dot/point\n",
    "     pch = 0, # dot/point type: http://www.endmemo.com/program/R/pchsymbols.php\n",
    "     xlab=\"Year\", \n",
    "     xlim=c(2000, 2016), # Set x axis value range\n",
    "     ylab=\"Prevalence per 1,000 Children\", \n",
    "     ylim=c(0, 30), # Set y axis value range\n",
    "     main=\"Prevalence Estimates by Race/Ethnicity [ADDM]\",\n",
    "     col.main=\"black\", col.lab=\"black\", col.sub=\"grey\",\n",
    "     frame = FALSE, # Remove frame\n",
    "     axes=FALSE # Remove x and y axis\n",
    ")\n",
    "axis(1, at=seq(2000, 2016, 1)) # Customize x axis\n",
    "axis(2, at=seq(0, 30, 5)) # Customize y axis\n",
    "\n",
    "# Python plot colour list: https://www.r-graph-gallery.com/42-colors-names.html\n",
    "\n",
    "# Add Asian.or.Pacific.Islander.Prevalence\n",
    "lines(ASD_National$Year[ASD_National$Source == 'addm'], \n",
    "      ASD_National$Asian.or.Pacific.Islander.Prevalence[ASD_National$Source == 'addm'], \n",
    "      pch = 20, col = \"darkred\", type = \"b\", lty = 1, lwd = 2)\n",
    "# Add Hispanic.Prevalence\n",
    "lines(ASD_National$Year[ASD_National$Source == 'addm'], \n",
    "      ASD_National$Hispanic.Prevalence[ASD_National$Source == 'addm'], \n",
    "      pch = 20, col = \"darkorchid3\", type = \"b\", lty = 1, lwd = 2)\n",
    "# Add Non.hispanic.black.Prevalence\n",
    "lines(ASD_National$Year[ASD_National$Source == 'addm'], \n",
    "      ASD_National$Non.hispanic.black.Prevalence[ASD_National$Source == 'addm'], \n",
    "      pch = 20, col = \"deepskyblue3\", type = \"b\", lty = 1, lwd = 2)\n",
    "# Add Non.hispanic.white.Prevalence\n",
    "lines(ASD_National$Year[ASD_National$Source == 'addm'], \n",
    "      ASD_National$Non.hispanic.white.Prevalence[ASD_National$Source == 'addm'], \n",
    "      pch = 20, col = \"chartreuse3\", type = \"b\", lty = 1, lwd = 2)\n",
    "\n",
    "# Add a legend to the plot\n",
    "legend(\"topleft\", legend=c('ADDM Average', \n",
    "                           'Non-Hispanic White',\n",
    "                           'Non-Hispanic Black',\n",
    "                           'Hispanic', \n",
    "                           'Asian/Pacific Islander'),\n",
    "       col=c(\"grey\", \"chartreuse3\", \"deepskyblue3\", \"darkorchid3\", \"darkred\"), \n",
    "       pch = 20, # dot in a line\n",
    "       lty = 1, # line type\n",
    "       lwd = 2, # line width\n",
    "       cex=0.8, # size of text\n",
    "       bty = 'n' # Without frame\n",
    ")\n"
   ]
  },
  {
   "cell_type": "code",
   "execution_count": null,
   "metadata": {},
   "outputs": [],
   "source": [
    "# Adjust in-line plot size to M x N\n",
    "options(repr.plot.width=8, repr.plot.height=4)"
   ]
  },
  {
   "cell_type": "markdown",
   "metadata": {},
   "source": [
    "<div class=\"alert alert-danger alertdanger\" style=\"margin-top: 20px\">\n",
    "    <h3>\n",
    "        Quiz:\n",
    "    </h3>\n",
    "    <p>\n",
    "        Add 95% Confidence Interval to above plot\n",
    "    </p>\n",
    "</div>"
   ]
  },
  {
   "cell_type": "code",
   "execution_count": null,
   "metadata": {},
   "outputs": [],
   "source": [
    "# Write your code below and press Shift+Enter to execute \n"
   ]
  },
  {
   "cell_type": "markdown",
   "metadata": {},
   "source": [
    "Double-click <b>here</b> for the solution.\n",
    "\n",
    "<!-- The answer is below:\n",
    "\n",
    "# Write your code below and press Shift+Enter to execute \n",
    "# TBD\n",
    "\n",
    "-->"
   ]
  },
  {
   "cell_type": "markdown",
   "metadata": {},
   "source": [
    "<div class=\"alert alert-danger alertdanger\" style=\"margin-top: 20px\">\n",
    "    <h3>\n",
    "        Quiz:\n",
    "    </h3>\n",
    "    <p>\n",
    "        Use talbe() to count No. prevalence records for each Data Source. Then use barplot() to visualize.\n",
    "    </p>\n",
    "</div>"
   ]
  },
  {
   "cell_type": "code",
   "execution_count": null,
   "metadata": {},
   "outputs": [],
   "source": [
    "# Write your code below and press Shift+Enter to execute \n"
   ]
  },
  {
   "cell_type": "markdown",
   "metadata": {},
   "source": [
    "Double-click <b>here</b> for the solution.\n",
    "\n",
    "<!-- The answer is below:\n",
    "\n",
    "# Write your code below and press Shift+Enter to execute \n",
    "table(ASD_National$Source)\n",
    "barplot(table(ASD_National$Source))\n",
    "\n",
    "-->"
   ]
  },
  {
   "cell_type": "markdown",
   "metadata": {},
   "source": [
    "<div class=\"alert alert-danger alertdanger\" style=\"margin-top: 20px\">\n",
    "    <h3>\n",
    "        Quiz:\n",
    "    </h3>\n",
    "    <p>\n",
    "        Which Data Sources are available in which years?\n",
    "    </p>\n",
    "</div>"
   ]
  },
  {
   "cell_type": "code",
   "execution_count": null,
   "metadata": {},
   "outputs": [],
   "source": [
    "# Write your code below and press Shift+Enter to execute \n"
   ]
  },
  {
   "cell_type": "markdown",
   "metadata": {},
   "source": [
    "Double-click <b>here</b> for the solution.\n",
    "\n",
    "<!-- The answer is below:\n",
    "\n",
    "# Write your code below and press Shift+Enter to execute \n",
    "table(ASD_National$Year, ASD_National$Source)\n",
    "plot(table(ASD_National$Year, ASD_National$Source))\n",
    "\n",
    "-->"
   ]
  },
  {
   "cell_type": "markdown",
   "metadata": {},
   "source": [
    "<div class=\"alert alert-danger alertdanger\" style=\"margin-top: 20px\">\n",
    "    <h3>\n",
    "        Quiz:\n",
    "    </h3>\n",
    "    <p>\n",
    "        Which Data Source has breakdown Prevalvence data by sex/gender?\n",
    "    </p>\n",
    "</div>"
   ]
  },
  {
   "cell_type": "code",
   "execution_count": null,
   "metadata": {},
   "outputs": [],
   "source": [
    "# Write your code below and press Shift+Enter to execute \n"
   ]
  },
  {
   "cell_type": "markdown",
   "metadata": {},
   "source": [
    "Double-click <b>here</b> for the solution.\n",
    "\n",
    "<!-- The answer is below:\n",
    "\n",
    "# Write your code below and press Shift+Enter to execute \n",
    "table(ASD_National$Source_Full2, ASD_National$Male.Prevalence)\n",
    "plot(table(ASD_National$Source_Full2, ASD_National$Male.Prevalence))\n",
    "\n",
    "-->"
   ]
  },
  {
   "cell_type": "markdown",
   "metadata": {},
   "source": [
    "<div class=\"alert alert-danger alertdanger\" style=\"margin-top: 20px\">\n",
    "    <h3>\n",
    "        Quiz:\n",
    "    </h3>\n",
    "    <p>\n",
    "        Which Data Source has breakdown Prevalvence data by race and ethnicity?\n",
    "    </p>\n",
    "</div>"
   ]
  },
  {
   "cell_type": "code",
   "execution_count": null,
   "metadata": {},
   "outputs": [],
   "source": [
    "# Write your code below and press Shift+Enter to execute \n"
   ]
  },
  {
   "cell_type": "markdown",
   "metadata": {},
   "source": [
    "Double-click <b>here</b> for the solution.\n",
    "\n",
    "<!-- The answer is below:\n",
    "\n",
    "# Write your code below and press Shift+Enter to execute \n",
    "table(ASD_National$Source, ASD_National$Asian.or.Pacific.Islander.Prevalence)\n",
    "plot(table(ASD_National$Source, ASD_National$Asian.or.Pacific.Islander.Prevalence))\n",
    "\n",
    "-->"
   ]
  },
  {
   "cell_type": "markdown",
   "metadata": {},
   "source": [
    "<div class=\"alert alert-block alert-info\" style=\"margin-top: 20px\">\n",
    "</div>\n"
   ]
  },
  {
   "cell_type": "markdown",
   "metadata": {},
   "source": [
    "### Excellent! You have completed the workshop notebook!"
   ]
  },
  {
   "cell_type": "markdown",
   "metadata": {},
   "source": [
    "**Connect with the author:**\n",
    "\n",
    "This notebook was written by [GU Zhan (Sam)](https://sg.linkedin.com/in/zhan-gu-27a82823 \"GU Zhan (Sam)\").\n",
    "\n",
    "[Sam](https://www.iss.nus.edu.sg/about-us/staff/detail/201/GU_Zhan \"GU Zhan (Sam)\") is currently a lecturer in [Institute of Systems Science](https://www.iss.nus.edu.sg/ \"NUS-ISS\") in [National University of Singapore](http://www.nus.edu.sg/ \"NUS\"). He devotes himself into pedagogy & andragogy, and is very passionate in inspiring next generation of artificial intelligence lovers and leaders.\n"
   ]
  },
  {
   "cell_type": "markdown",
   "metadata": {},
   "source": [
    "Copyright &copy; 2020 GU Zhan\n",
    "\n",
    "This notebook and its source code are released under the terms of the [MIT License](https://en.wikipedia.org/wiki/MIT_License \"Copyright (c) 2020 GU ZHAN\").\n",
    "\n",
    "Permission is hereby granted, free of charge, to any person obtaining a copy\n",
    "of this software and associated documentation files (the \"Software\"), to deal\n",
    "in the Software without restriction, including without limitation the rights\n",
    "to use, copy, modify, merge, publish, distribute, sublicense, and/or sell\n",
    "copies of the Software, and to permit persons to whom the Software is\n",
    "furnished to do so, subject to the following conditions:\n",
    "\n",
    "The above copyright notice and this permission notice shall be included in all\n",
    "copies or substantial portions of the Software.\n",
    "\n",
    "THE SOFTWARE IS PROVIDED \"AS IS\", WITHOUT WARRANTY OF ANY KIND, EXPRESS OR\n",
    "IMPLIED, INCLUDING BUT NOT LIMITED TO THE WARRANTIES OF MERCHANTABILITY,\n",
    "FITNESS FOR A PARTICULAR PURPOSE AND NONINFRINGEMENT. IN NO EVENT SHALL THE\n",
    "AUTHORS OR COPYRIGHT HOLDERS BE LIABLE FOR ANY CLAIM, DAMAGES OR OTHER\n",
    "LIABILITY, WHETHER IN AN ACTION OF CONTRACT, TORT OR OTHERWISE, ARISING FROM,\n",
    "OUT OF OR IN CONNECTION WITH THE SOFTWARE OR THE USE OR OTHER DEALINGS IN THE\n",
    "SOFTWARE.\n"
   ]
  },
  {
   "cell_type": "markdown",
   "metadata": {},
   "source": [
    "<div class=\"alert alert-block alert-info\" style=\"margin-top: 20px\">\n",
    "    <a href=\"\">\n",
    "    </a>\n",
    "</div>\n"
   ]
  },
  {
   "cell_type": "markdown",
   "metadata": {},
   "source": [
    "## <span style=\"color:blue\">Appendices</span>\n"
   ]
  },
  {
   "cell_type": "markdown",
   "metadata": {},
   "source": [
    "<div class=\"alert alert-block alert-info\" style=\"margin-top: 20px\">\n",
    "    <h3>\n",
    "    Interactive workshops: < Learning Python inside Python > using swirl() (in R/RStudio)\n",
    "    </h3>\n",
    "</div>\n"
   ]
  },
  {
   "cell_type": "markdown",
   "metadata": {},
   "source": [
    "https://github.com/telescopeuser/S-SB-Workshop\n"
   ]
  },
  {
   "cell_type": "markdown",
   "metadata": {},
   "source": [
    "<div class=\"alert alert-block alert-info\" style=\"margin-top: 20px\">\n",
    "    <h3>\n",
    "    Neural Network 101 using nnet()\n",
    "    </h3>\n",
    "</div>\n"
   ]
  },
  {
   "cell_type": "markdown",
   "metadata": {},
   "source": [
    "**Use nerual net to classify three different species of iris flowers, based on four features/measurements of:**\n",
    "* length of the petals\n",
    "* width of the petals\n",
    "* length of the sepals\n",
    "* width of the sepals"
   ]
  },
  {
   "cell_type": "markdown",
   "metadata": {},
   "source": [
    "![](../reference/Iris/Iris.jpg)\n"
   ]
  },
  {
   "cell_type": "markdown",
   "metadata": {},
   "source": [
    "![](../reference/Iris/Iris_features.png)\n"
   ]
  },
  {
   "cell_type": "code",
   "execution_count": null,
   "metadata": {
    "scrolled": false
   },
   "outputs": [],
   "source": [
    "# ----------------------------------\n",
    "# Neural Network 101 using nnet()\n",
    "# ----------------------------------\n",
    "if(!require(nnet)){install.packages(\"nnet\")}\n",
    "library(\"nnet\")\n",
    "# ?nnet\n",
    " \n",
    "# < Case: predict three different iris flower types >\n",
    "\n",
    "# https://en.wikipedia.org/wiki/Iris_flower_data_set\n",
    "# https://archive.ics.uci.edu/ml/datasets/iris\n",
    "\n",
    "# Data preparation: split iris data in two halves, for training & testing respectively.\n",
    "ir <- rbind(iris3[,,1],iris3[,,2],iris3[,,3])\n",
    "targets <- class.ind( c(rep(\"setosa\", 50), rep(\"versicolor\", 50), rep(\"virginica\", 50)) )\n",
    "samp <- c(sample(1:50,25), sample(51:100,25), sample(101:150,25))\n",
    "# Model training (machine learning / data fitting)\n",
    "ir1 <- nnet(ir[samp,], targets[samp,], size = 2, rang = 0.1,\n",
    "            decay = 5e-4, maxit = 200)\n",
    "# Model evaluation function\n",
    "test.cl <- function(true, pred) {\n",
    "  true <- max.col(true)\n",
    "  cres <- max.col(pred)\n",
    "  table(true, cres)\n",
    "}\n",
    "# Model evaluation\n",
    "test.cl(targets[-samp,], predict(ir1, ir[-samp,]))\n"
   ]
  },
  {
   "cell_type": "markdown",
   "metadata": {},
   "source": [
    "<div class=\"alert alert-block alert-info\" style=\"margin-top: 20px\">\n",
    "    <a href=\"https://github.com/dd-consulting\">\n",
    "         <img src=\"../reference/GZ_logo.png\" width=\"60\" align=\"right\">\n",
    "    </a>\n",
    "</div>\n"
   ]
  },
  {
   "cell_type": "markdown",
   "metadata": {},
   "source": [
    "---"
   ]
  }
 ],
 "metadata": {
  "kernelspec": {
   "display_name": "Python 3",
   "language": "python",
   "name": "python3"
  },
  "language_info": {
   "codemirror_mode": {
    "name": "ipython",
    "version": 3
   },
   "file_extension": ".py",
   "mimetype": "text/x-python",
   "name": "python",
   "nbconvert_exporter": "python",
   "pygments_lexer": "ipython3",
   "version": "3.6.9"
  }
 },
 "nbformat": 4,
 "nbformat_minor": 2
}
