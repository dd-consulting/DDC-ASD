{
 "cells": [
  {
   "cell_type": "markdown",
   "metadata": {},
   "source": [
    "<div class=\"alert alert-block alert-info\" style=\"margin-top: 20px\">\n",
    "    <a href=\"\">\n",
    "         <img src=\"../reference/GZ_logo.png\" width=\"60\" align=\"right\">\n",
    "    </a>\n",
    "    <h1>\n",
    "        One-Stop Analytics: Predictive Modeling\n",
    "    </h1>\n",
    "</div>\n"
   ]
  },
  {
   "cell_type": "markdown",
   "metadata": {},
   "source": [
    "# Case Study of Autism Spectrum Disorder (ASD) with R\n",
    "\n",
    "---\n",
    "\n",
    "<img src=\"../reference/CDC_ASD/CDC_ASD_01.jpg\" align=\"left\">\n",
    "\n",
    "<img src=\"../reference/CDC_ASD/CDC_ASD_02.png\" width=\"700\" align=\"center\">\n"
   ]
  },
  {
   "cell_type": "markdown",
   "metadata": {},
   "source": [
    "## <span style=\"color:blue\">[ United States ]</span> \n",
    "\n",
    "## Centers for Disease Control and Prevention (CDC) - Autism Spectrum Disorder (ASD)\n",
    "\n",
    "Autism spectrum disorder (ASD) is a developmental disability that can cause significant social, communication and behavioral challenges. CDC is committed to continuing to provide essential data on ASD, search for factors that put children at risk for ASD and possible causes, and develop resources that help identify children with ASD as early as possible.\n",
    "\n",
    "https://www.cdc.gov/ncbddd/autism/data/index.html\n"
   ]
  },
  {
   "cell_type": "markdown",
   "metadata": {},
   "source": [
    "## <span style=\"color:blue\">[ Singapore ]</span> \n",
    "\n",
    "## TODAY Online - More preschoolers diagnosed with developmental issues\n",
    "\n",
    "Doctors cited better awareness among parents and preschool teachers, leading to early referrals for diagnosis.\n",
    "\n",
    "https://www.gov.sg/news/content/today-online-more-preschoolers-diagnosed-with-developmental-issues\n",
    "\n",
    "<img src=\"../reference/SG_ASD/SG_ASD_01.png\" width=\"650\" align=\"left\">\n",
    "\n"
   ]
  },
  {
   "cell_type": "markdown",
   "metadata": {},
   "source": [
    "<img src=\"../reference/SG_ASD/SG_ASD_04.png\" align=\"left\"> \n",
    "\n",
    "https://www.pathlight.org.sg/"
   ]
  },
  {
   "cell_type": "markdown",
   "metadata": {},
   "source": [
    "<div class=\"alert alert-block alert-info\" style=\"margin-top: 20px\">\n",
    "    <a href=\"\">\n",
    "         <img src=\"\" width=\"60\" align=\"right\">\n",
    "    </a>\n",
    "</div>\n"
   ]
  },
  {
   "cell_type": "markdown",
   "metadata": {},
   "source": [
    "# Workshop Objective: \n",
    "\n",
    "## Use R to predict Autism Spectrum Disorder (ASD) prevalence. \n",
    "\n",
    "https://www.cdc.gov/ncbddd/autism/data/index.html\n",
    "\n",
    "* ## Linear Model: Simple Linear Regression (SLR)\n",
    "\n",
    "* ## Linear Model: Multiple Linear Regression (MLR)\n",
    "\n",
    "* ## Linear Model: Polynomial Regression (PLR)\n",
    "\n",
    "* ## Linear Model: Logistic Regression (LR)\n",
    "\n",
    "* ## Non-Linear Model: Decision Tree (DT)\n",
    "\n",
    "* ## Non-Linear Model: Neural Network (NN)\n",
    "\n",
    "* ## Non-Linear Model: Random Forest (RF)\n",
    "\n",
    "* ## Non-Linear Model: Support Vector Machines (SVM)\n",
    "\n",
    "* ## Non-Linear Model: Adaptive Boosting (AdaBoost)\n",
    "\n",
    "* ## Workshop Submission\n",
    "\n",
    "* ## Appendices"
   ]
  },
  {
   "cell_type": "markdown",
   "metadata": {},
   "source": [
    "<div class=\"alert alert-block alert-info\" style=\"margin-top: 20px\">\n",
    "    <a href=\"\">\n",
    "         <img src=\"\" width=\"750\" align=\"center\">\n",
    "    </a>\n",
    "</div>\n",
    "\n"
   ]
  },
  {
   "cell_type": "markdown",
   "metadata": {},
   "source": [
    "## <span style=\"color:blue\">Linear Model: Simple Linear Regression (SLR)</span>\n"
   ]
  },
  {
   "cell_type": "markdown",
   "metadata": {},
   "source": [
    "<div class=\"alert alert-block alert-info\" style=\"margin-top: 20px\">\n",
    "    <h3>\n",
    "    Linear Model: Simple Linear Regression (SLR) - Workshop Task\n",
    "    </h3>\n",
    "</div>\n"
   ]
  },
  {
   "cell_type": "markdown",
   "metadata": {},
   "source": [
    "**Workshop Task:**\n",
    "\n",
    "a.\tGraph the data in a scatterplot to determine if there is a possible linear relationship.\n",
    "\n",
    "b.\tCompute and interpret the linear correlation coefficient, r.\n",
    "\n",
    "c.\tDetermine the regression equation for the data.\n",
    "\n",
    "d.\tGraph the regression equation and the data points.\n",
    "\n",
    "e.\tIdentify potential influential observations.\n",
    "\n",
    "f.\tAt the 5% significance level, do the data provide sufficient evidence to conclude that the slope of the \n",
    "population regression line is not 0 and, hence, that age is useful as a predictor of sales price for Toyota Alphard?\n",
    "\n",
    "g.\tObtain the residuals and create a residual plot. Decide whether it is reasonable to consider that the assumptions for regression analysis are met by the variables in questions.\n",
    "\n",
    "h.\tCompute and interpret the coefficient of determination, r^2.\n",
    "\n",
    "i.\tFind the predicted sales price of Jack Smith’s 4-year-old Toyota Alphard.\n",
    "\n",
    "j.\tDetermine a 95% prediction interval for the sales price of Jack Smith’s 4-year-old Toyota Alphard.\n"
   ]
  },
  {
   "cell_type": "markdown",
   "metadata": {},
   "source": [
    "**Obtain current R <span style=\"color:blue\">working directory</span>**"
   ]
  },
  {
   "cell_type": "code",
   "execution_count": null,
   "metadata": {
    "scrolled": true
   },
   "outputs": [],
   "source": [
    "getwd()"
   ]
  },
  {
   "cell_type": "markdown",
   "metadata": {},
   "source": [
    "**Set new R working directory**"
   ]
  },
  {
   "cell_type": "code",
   "execution_count": null,
   "metadata": {
    "scrolled": true
   },
   "outputs": [],
   "source": [
    "# setwd(\"/media/sf_vm_shared_folder/git/DDC/DDC-ASD/model_R\")\n",
    "# setwd('~/Desktop/admin-desktop/vm_shared_folder/git/DDC-ASD/model_R')\n",
    "getwd()"
   ]
  },
  {
   "cell_type": "markdown",
   "metadata": {},
   "source": [
    "**Use Case Data: <span style=\"color:blue\">\"../dataset/ADV_ASD_State_R.csv\"</span>**"
   ]
  },
  {
   "cell_type": "markdown",
   "metadata": {},
   "source": [
    "**Read in CSV data, storing as R <span style=\"color:blue\">dataframe</span>**"
   ]
  },
  {
   "cell_type": "code",
   "execution_count": 1,
   "metadata": {},
   "outputs": [],
   "source": [
    "# Read back in above saved file:\n",
    "ASD_State <- read.csv(\"../dataset/ADV_ASD_State_R.csv\")\n",
    "ASD_State$Year_Factor <- factor(ASD_State$Year_Factor, ordered = TRUE) # Convert Year_Factor to ordered.factor"
   ]
  },
  {
   "cell_type": "code",
   "execution_count": 2,
   "metadata": {
    "scrolled": true
   },
   "outputs": [
    {
     "data": {
      "text/html": [
       "<table>\n",
       "<thead><tr><th scope=col>State</th><th scope=col>Denominator</th><th scope=col>Prevalence</th><th scope=col>Lower.CI</th><th scope=col>Upper.CI</th><th scope=col>Year</th><th scope=col>Source</th><th scope=col>Source_Full1</th><th scope=col>State_Full1</th><th scope=col>State_Full2</th><th scope=col>...</th><th scope=col>Non.hispanic.black.Upper.CI</th><th scope=col>Hispanic.Prevalence</th><th scope=col>Hispanic.Lower.CI</th><th scope=col>Hispanic.Upper.CI</th><th scope=col>Asian.or.Pacific.Islander.Prevalence</th><th scope=col>Asian.or.Pacific.Islander.Lower.CI</th><th scope=col>Asian.or.Pacific.Islander.Upper.CI</th><th scope=col>Source_UC</th><th scope=col>Source_Full3</th><th scope=col>Year_Factor</th></tr></thead>\n",
       "<tbody>\n",
       "\t<tr><td>AZ                                                             </td><td>45322                                                          </td><td>6.5                                                            </td><td>5.8                                                            </td><td> 7.3                                                           </td><td>2000                                                           </td><td>addm                                                           </td><td>Autism &amp; Developmental Disabilities Monitoring Network     </td><td><span style=white-space:pre-wrap>Arizona       </span>         </td><td><span style=white-space:pre-wrap>AZ-Arizona       </span>      </td><td>...                                                            </td><td>12.2                                                           </td><td>NA                                                             </td><td>NA                                                             </td><td>NA                                                             </td><td>NA                                                             </td><td>NA                                                             </td><td>NA                                                             </td><td>ADDM                                                           </td><td>ADDM Autism &amp; Developmental Disabilities Monitoring Network</td><td>2000                                                           </td></tr>\n",
       "\t<tr><td>GA                                                             </td><td>43593                                                          </td><td>6.5                                                            </td><td>5.8                                                            </td><td> 7.3                                                           </td><td>2000                                                           </td><td>addm                                                           </td><td>Autism &amp; Developmental Disabilities Monitoring Network     </td><td><span style=white-space:pre-wrap>Georgia       </span>         </td><td><span style=white-space:pre-wrap>GA-Georgia       </span>      </td><td>...                                                            </td><td> 6.4                                                           </td><td>NA                                                             </td><td>NA                                                             </td><td>NA                                                             </td><td>NA                                                             </td><td>NA                                                             </td><td>NA                                                             </td><td>ADDM                                                           </td><td>ADDM Autism &amp; Developmental Disabilities Monitoring Network</td><td>2000                                                           </td></tr>\n",
       "\t<tr><td>MD                                                             </td><td>21532                                                          </td><td>5.5                                                            </td><td>4.6                                                            </td><td> 6.6                                                           </td><td>2000                                                           </td><td>addm                                                           </td><td>Autism &amp; Developmental Disabilities Monitoring Network     </td><td><span style=white-space:pre-wrap>Maryland      </span>         </td><td><span style=white-space:pre-wrap>MD-Maryland      </span>      </td><td>...                                                            </td><td> 8.0                                                           </td><td>NA                                                             </td><td>NA                                                             </td><td>NA                                                             </td><td>NA                                                             </td><td>NA                                                             </td><td>NA                                                             </td><td>ADDM                                                           </td><td>ADDM Autism &amp; Developmental Disabilities Monitoring Network</td><td>2000                                                           </td></tr>\n",
       "\t<tr><td>NJ                                                             </td><td>29714                                                          </td><td>9.9                                                            </td><td>8.9                                                            </td><td>11.1                                                           </td><td>2000                                                           </td><td>addm                                                           </td><td>Autism &amp; Developmental Disabilities Monitoring Network     </td><td><span style=white-space:pre-wrap>New Jersey    </span>         </td><td><span style=white-space:pre-wrap>NJ-New Jersey    </span>      </td><td>...                                                            </td><td>13.1                                                           </td><td>NA                                                             </td><td>NA                                                             </td><td>NA                                                             </td><td>NA                                                             </td><td>NA                                                             </td><td>NA                                                             </td><td>ADDM                                                           </td><td>ADDM Autism &amp; Developmental Disabilities Monitoring Network</td><td>2000                                                           </td></tr>\n",
       "\t<tr><td>SC                                                             </td><td>24535                                                          </td><td>6.3                                                            </td><td>5.4                                                            </td><td> 7.4                                                           </td><td>2000                                                           </td><td>addm                                                           </td><td>Autism &amp; Developmental Disabilities Monitoring Network     </td><td>South Carolina                                                 </td><td>SC-South Carolina                                              </td><td>...                                                            </td><td> 7.3                                                           </td><td>NA                                                             </td><td>NA                                                             </td><td>NA                                                             </td><td>NA                                                             </td><td>NA                                                             </td><td>NA                                                             </td><td>ADDM                                                           </td><td>ADDM Autism &amp; Developmental Disabilities Monitoring Network</td><td>2000                                                           </td></tr>\n",
       "\t<tr><td>WV                                                             </td><td>23065                                                          </td><td>4.5                                                            </td><td>3.7                                                            </td><td> 5.5                                                           </td><td>2000                                                           </td><td>addm                                                           </td><td>Autism &amp; Developmental Disabilities Monitoring Network     </td><td>West Virginia                                                  </td><td>WV-West Virginia                                               </td><td>...                                                            </td><td><span style=white-space:pre-wrap>  NA</span>                   </td><td>NA                                                             </td><td>NA                                                             </td><td>NA                                                             </td><td>NA                                                             </td><td>NA                                                             </td><td>NA                                                             </td><td>ADDM                                                           </td><td>ADDM Autism &amp; Developmental Disabilities Monitoring Network</td><td>2000                                                           </td></tr>\n",
       "</tbody>\n",
       "</table>\n"
      ],
      "text/latex": [
       "\\begin{tabular}{r|llllllllllllllllllllllllllllllllllll}\n",
       " State & Denominator & Prevalence & Lower.CI & Upper.CI & Year & Source & Source\\_Full1 & State\\_Full1 & State\\_Full2 & ... & Non.hispanic.black.Upper.CI & Hispanic.Prevalence & Hispanic.Lower.CI & Hispanic.Upper.CI & Asian.or.Pacific.Islander.Prevalence & Asian.or.Pacific.Islander.Lower.CI & Asian.or.Pacific.Islander.Upper.CI & Source\\_UC & Source\\_Full3 & Year\\_Factor\\\\\n",
       "\\hline\n",
       "\t AZ                                                            & 45322                                                         & 6.5                                                           & 5.8                                                           &  7.3                                                          & 2000                                                          & addm                                                          & Autism \\& Developmental Disabilities Monitoring Network      & Arizona                                                       & AZ-Arizona                                                    & ...                                                           & 12.2                                                          & NA                                                            & NA                                                            & NA                                                            & NA                                                            & NA                                                            & NA                                                            & ADDM                                                          & ADDM Autism \\& Developmental Disabilities Monitoring Network & 2000                                                         \\\\\n",
       "\t GA                                                            & 43593                                                         & 6.5                                                           & 5.8                                                           &  7.3                                                          & 2000                                                          & addm                                                          & Autism \\& Developmental Disabilities Monitoring Network      & Georgia                                                       & GA-Georgia                                                    & ...                                                           &  6.4                                                          & NA                                                            & NA                                                            & NA                                                            & NA                                                            & NA                                                            & NA                                                            & ADDM                                                          & ADDM Autism \\& Developmental Disabilities Monitoring Network & 2000                                                         \\\\\n",
       "\t MD                                                            & 21532                                                         & 5.5                                                           & 4.6                                                           &  6.6                                                          & 2000                                                          & addm                                                          & Autism \\& Developmental Disabilities Monitoring Network      & Maryland                                                      & MD-Maryland                                                   & ...                                                           &  8.0                                                          & NA                                                            & NA                                                            & NA                                                            & NA                                                            & NA                                                            & NA                                                            & ADDM                                                          & ADDM Autism \\& Developmental Disabilities Monitoring Network & 2000                                                         \\\\\n",
       "\t NJ                                                            & 29714                                                         & 9.9                                                           & 8.9                                                           & 11.1                                                          & 2000                                                          & addm                                                          & Autism \\& Developmental Disabilities Monitoring Network      & New Jersey                                                    & NJ-New Jersey                                                 & ...                                                           & 13.1                                                          & NA                                                            & NA                                                            & NA                                                            & NA                                                            & NA                                                            & NA                                                            & ADDM                                                          & ADDM Autism \\& Developmental Disabilities Monitoring Network & 2000                                                         \\\\\n",
       "\t SC                                                            & 24535                                                         & 6.3                                                           & 5.4                                                           &  7.4                                                          & 2000                                                          & addm                                                          & Autism \\& Developmental Disabilities Monitoring Network      & South Carolina                                                & SC-South Carolina                                             & ...                                                           &  7.3                                                          & NA                                                            & NA                                                            & NA                                                            & NA                                                            & NA                                                            & NA                                                            & ADDM                                                          & ADDM Autism \\& Developmental Disabilities Monitoring Network & 2000                                                         \\\\\n",
       "\t WV                                                            & 23065                                                         & 4.5                                                           & 3.7                                                           &  5.5                                                          & 2000                                                          & addm                                                          & Autism \\& Developmental Disabilities Monitoring Network      & West Virginia                                                 & WV-West Virginia                                              & ...                                                           &   NA                                                          & NA                                                            & NA                                                            & NA                                                            & NA                                                            & NA                                                            & NA                                                            & ADDM                                                          & ADDM Autism \\& Developmental Disabilities Monitoring Network & 2000                                                         \\\\\n",
       "\\end{tabular}\n"
      ],
      "text/markdown": [
       "\n",
       "| State | Denominator | Prevalence | Lower.CI | Upper.CI | Year | Source | Source_Full1 | State_Full1 | State_Full2 | ... | Non.hispanic.black.Upper.CI | Hispanic.Prevalence | Hispanic.Lower.CI | Hispanic.Upper.CI | Asian.or.Pacific.Islander.Prevalence | Asian.or.Pacific.Islander.Lower.CI | Asian.or.Pacific.Islander.Upper.CI | Source_UC | Source_Full3 | Year_Factor |\n",
       "|---|---|---|---|---|---|---|---|---|---|---|---|---|---|---|---|---|---|---|---|---|\n",
       "| AZ                                                          | 45322                                                       | 6.5                                                         | 5.8                                                         |  7.3                                                        | 2000                                                        | addm                                                        | Autism & Developmental Disabilities Monitoring Network      | Arizona                                                     | AZ-Arizona                                                  | ...                                                         | 12.2                                                        | NA                                                          | NA                                                          | NA                                                          | NA                                                          | NA                                                          | NA                                                          | ADDM                                                        | ADDM Autism & Developmental Disabilities Monitoring Network | 2000                                                        |\n",
       "| GA                                                          | 43593                                                       | 6.5                                                         | 5.8                                                         |  7.3                                                        | 2000                                                        | addm                                                        | Autism & Developmental Disabilities Monitoring Network      | Georgia                                                     | GA-Georgia                                                  | ...                                                         |  6.4                                                        | NA                                                          | NA                                                          | NA                                                          | NA                                                          | NA                                                          | NA                                                          | ADDM                                                        | ADDM Autism & Developmental Disabilities Monitoring Network | 2000                                                        |\n",
       "| MD                                                          | 21532                                                       | 5.5                                                         | 4.6                                                         |  6.6                                                        | 2000                                                        | addm                                                        | Autism & Developmental Disabilities Monitoring Network      | Maryland                                                    | MD-Maryland                                                 | ...                                                         |  8.0                                                        | NA                                                          | NA                                                          | NA                                                          | NA                                                          | NA                                                          | NA                                                          | ADDM                                                        | ADDM Autism & Developmental Disabilities Monitoring Network | 2000                                                        |\n",
       "| NJ                                                          | 29714                                                       | 9.9                                                         | 8.9                                                         | 11.1                                                        | 2000                                                        | addm                                                        | Autism & Developmental Disabilities Monitoring Network      | New Jersey                                                  | NJ-New Jersey                                               | ...                                                         | 13.1                                                        | NA                                                          | NA                                                          | NA                                                          | NA                                                          | NA                                                          | NA                                                          | ADDM                                                        | ADDM Autism & Developmental Disabilities Monitoring Network | 2000                                                        |\n",
       "| SC                                                          | 24535                                                       | 6.3                                                         | 5.4                                                         |  7.4                                                        | 2000                                                        | addm                                                        | Autism & Developmental Disabilities Monitoring Network      | South Carolina                                              | SC-South Carolina                                           | ...                                                         |  7.3                                                        | NA                                                          | NA                                                          | NA                                                          | NA                                                          | NA                                                          | NA                                                          | ADDM                                                        | ADDM Autism & Developmental Disabilities Monitoring Network | 2000                                                        |\n",
       "| WV                                                          | 23065                                                       | 4.5                                                         | 3.7                                                         |  5.5                                                        | 2000                                                        | addm                                                        | Autism & Developmental Disabilities Monitoring Network      | West Virginia                                               | WV-West Virginia                                            | ...                                                         |   NA                                                        | NA                                                          | NA                                                          | NA                                                          | NA                                                          | NA                                                          | NA                                                          | ADDM                                                        | ADDM Autism & Developmental Disabilities Monitoring Network | 2000                                                        |\n",
       "\n"
      ],
      "text/plain": [
       "  State Denominator Prevalence Lower.CI Upper.CI Year Source\n",
       "1 AZ    45322       6.5        5.8       7.3     2000 addm  \n",
       "2 GA    43593       6.5        5.8       7.3     2000 addm  \n",
       "3 MD    21532       5.5        4.6       6.6     2000 addm  \n",
       "4 NJ    29714       9.9        8.9      11.1     2000 addm  \n",
       "5 SC    24535       6.3        5.4       7.4     2000 addm  \n",
       "6 WV    23065       4.5        3.7       5.5     2000 addm  \n",
       "  Source_Full1                                           State_Full1   \n",
       "1 Autism & Developmental Disabilities Monitoring Network Arizona       \n",
       "2 Autism & Developmental Disabilities Monitoring Network Georgia       \n",
       "3 Autism & Developmental Disabilities Monitoring Network Maryland      \n",
       "4 Autism & Developmental Disabilities Monitoring Network New Jersey    \n",
       "5 Autism & Developmental Disabilities Monitoring Network South Carolina\n",
       "6 Autism & Developmental Disabilities Monitoring Network West Virginia \n",
       "  State_Full2       ... Non.hispanic.black.Upper.CI Hispanic.Prevalence\n",
       "1 AZ-Arizona        ... 12.2                        NA                 \n",
       "2 GA-Georgia        ...  6.4                        NA                 \n",
       "3 MD-Maryland       ...  8.0                        NA                 \n",
       "4 NJ-New Jersey     ... 13.1                        NA                 \n",
       "5 SC-South Carolina ...  7.3                        NA                 \n",
       "6 WV-West Virginia  ...   NA                        NA                 \n",
       "  Hispanic.Lower.CI Hispanic.Upper.CI Asian.or.Pacific.Islander.Prevalence\n",
       "1 NA                NA                NA                                  \n",
       "2 NA                NA                NA                                  \n",
       "3 NA                NA                NA                                  \n",
       "4 NA                NA                NA                                  \n",
       "5 NA                NA                NA                                  \n",
       "6 NA                NA                NA                                  \n",
       "  Asian.or.Pacific.Islander.Lower.CI Asian.or.Pacific.Islander.Upper.CI\n",
       "1 NA                                 NA                                \n",
       "2 NA                                 NA                                \n",
       "3 NA                                 NA                                \n",
       "4 NA                                 NA                                \n",
       "5 NA                                 NA                                \n",
       "6 NA                                 NA                                \n",
       "  Source_UC Source_Full3                                               \n",
       "1 ADDM      ADDM Autism & Developmental Disabilities Monitoring Network\n",
       "2 ADDM      ADDM Autism & Developmental Disabilities Monitoring Network\n",
       "3 ADDM      ADDM Autism & Developmental Disabilities Monitoring Network\n",
       "4 ADDM      ADDM Autism & Developmental Disabilities Monitoring Network\n",
       "5 ADDM      ADDM Autism & Developmental Disabilities Monitoring Network\n",
       "6 ADDM      ADDM Autism & Developmental Disabilities Monitoring Network\n",
       "  Year_Factor\n",
       "1 2000       \n",
       "2 2000       \n",
       "3 2000       \n",
       "4 2000       \n",
       "5 2000       \n",
       "6 2000       "
      ]
     },
     "metadata": {},
     "output_type": "display_data"
    }
   ],
   "source": [
    "head(ASD_State)"
   ]
  },
  {
   "cell_type": "code",
   "execution_count": 7,
   "metadata": {
    "scrolled": true
   },
   "outputs": [
    {
     "data": {
      "text/html": [
       "<ol class=list-inline>\n",
       "\t<li>86</li>\n",
       "\t<li>2</li>\n",
       "</ol>\n"
      ],
      "text/latex": [
       "\\begin{enumerate*}\n",
       "\\item 86\n",
       "\\item 2\n",
       "\\end{enumerate*}\n"
      ],
      "text/markdown": [
       "1. 86\n",
       "2. 2\n",
       "\n",
       "\n"
      ],
      "text/plain": [
       "[1] 86  2"
      ]
     },
     "metadata": {},
     "output_type": "display_data"
    },
    {
     "data": {
      "text/html": [
       "<table>\n",
       "<thead><tr><th scope=col>Prevalence</th><th scope=col>Year</th></tr></thead>\n",
       "<tbody>\n",
       "\t<tr><td> 6.5</td><td>2000</td></tr>\n",
       "\t<tr><td> 6.5</td><td>2000</td></tr>\n",
       "\t<tr><td> 5.5</td><td>2000</td></tr>\n",
       "\t<tr><td> 9.9</td><td>2000</td></tr>\n",
       "\t<tr><td> 6.3</td><td>2000</td></tr>\n",
       "\t<tr><td> 4.5</td><td>2000</td></tr>\n",
       "\t<tr><td> 3.3</td><td>2002</td></tr>\n",
       "\t<tr><td> 6.2</td><td>2002</td></tr>\n",
       "\t<tr><td> 6.9</td><td>2002</td></tr>\n",
       "\t<tr><td> 5.9</td><td>2002</td></tr>\n",
       "\t<tr><td> 7.6</td><td>2002</td></tr>\n",
       "\t<tr><td> 6.7</td><td>2002</td></tr>\n",
       "\t<tr><td> 7.3</td><td>2002</td></tr>\n",
       "\t<tr><td>10.6</td><td>2002</td></tr>\n",
       "\t<tr><td> 6.5</td><td>2002</td></tr>\n",
       "\t<tr><td> 5.3</td><td>2002</td></tr>\n",
       "\t<tr><td> 6.0</td><td>2002</td></tr>\n",
       "\t<tr><td> 7.5</td><td>2002</td></tr>\n",
       "\t<tr><td> 7.1</td><td>2002</td></tr>\n",
       "\t<tr><td> 5.2</td><td>2002</td></tr>\n",
       "\t<tr><td> 4.6</td><td>2004</td></tr>\n",
       "\t<tr><td> 9.8</td><td>2004</td></tr>\n",
       "\t<tr><td> 8.9</td><td>2004</td></tr>\n",
       "\t<tr><td> 8.8</td><td>2004</td></tr>\n",
       "\t<tr><td> 8.2</td><td>2004</td></tr>\n",
       "\t<tr><td> 8.7</td><td>2004</td></tr>\n",
       "\t<tr><td> 5.3</td><td>2004</td></tr>\n",
       "\t<tr><td> 7.8</td><td>2004</td></tr>\n",
       "\t<tr><td> 6.0</td><td>2006</td></tr>\n",
       "\t<tr><td>12.1</td><td>2006</td></tr>\n",
       "\t<tr><td>...</td><td>...</td></tr>\n",
       "\t<tr><td> 9.9</td><td>2010</td></tr>\n",
       "\t<tr><td>15.5</td><td>2010</td></tr>\n",
       "\t<tr><td>16.6</td><td>2010</td></tr>\n",
       "\t<tr><td>14.2</td><td>2010</td></tr>\n",
       "\t<tr><td>21.9</td><td>2010</td></tr>\n",
       "\t<tr><td>17.3</td><td>2010</td></tr>\n",
       "\t<tr><td>18.6</td><td>2010</td></tr>\n",
       "\t<tr><td> 9.3</td><td>2010</td></tr>\n",
       "\t<tr><td>15.1</td><td>2012</td></tr>\n",
       "\t<tr><td> 8.8</td><td>2012</td></tr>\n",
       "\t<tr><td>10.8</td><td>2012</td></tr>\n",
       "\t<tr><td>15.5</td><td>2012</td></tr>\n",
       "\t<tr><td>18.2</td><td>2012</td></tr>\n",
       "\t<tr><td>11.6</td><td>2012</td></tr>\n",
       "\t<tr><td>24.6</td><td>2012</td></tr>\n",
       "\t<tr><td>16.8</td><td>2012</td></tr>\n",
       "\t<tr><td>12.4</td><td>2012</td></tr>\n",
       "\t<tr><td>17.3</td><td>2012</td></tr>\n",
       "\t<tr><td>10.8</td><td>2012</td></tr>\n",
       "\t<tr><td>14.0</td><td>2014</td></tr>\n",
       "\t<tr><td>13.1</td><td>2014</td></tr>\n",
       "\t<tr><td>13.9</td><td>2014</td></tr>\n",
       "\t<tr><td>17.0</td><td>2014</td></tr>\n",
       "\t<tr><td>20.0</td><td>2014</td></tr>\n",
       "\t<tr><td>24.0</td><td>2014</td></tr>\n",
       "\t<tr><td>14.1</td><td>2014</td></tr>\n",
       "\t<tr><td>29.3</td><td>2014</td></tr>\n",
       "\t<tr><td>17.4</td><td>2014</td></tr>\n",
       "\t<tr><td>15.5</td><td>2014</td></tr>\n",
       "\t<tr><td>14.1</td><td>2014</td></tr>\n",
       "</tbody>\n",
       "</table>\n"
      ],
      "text/latex": [
       "\\begin{tabular}{r|ll}\n",
       " Prevalence & Year\\\\\n",
       "\\hline\n",
       "\t  6.5 & 2000\\\\\n",
       "\t  6.5 & 2000\\\\\n",
       "\t  5.5 & 2000\\\\\n",
       "\t  9.9 & 2000\\\\\n",
       "\t  6.3 & 2000\\\\\n",
       "\t  4.5 & 2000\\\\\n",
       "\t  3.3 & 2002\\\\\n",
       "\t  6.2 & 2002\\\\\n",
       "\t  6.9 & 2002\\\\\n",
       "\t  5.9 & 2002\\\\\n",
       "\t  7.6 & 2002\\\\\n",
       "\t  6.7 & 2002\\\\\n",
       "\t  7.3 & 2002\\\\\n",
       "\t 10.6 & 2002\\\\\n",
       "\t  6.5 & 2002\\\\\n",
       "\t  5.3 & 2002\\\\\n",
       "\t  6.0 & 2002\\\\\n",
       "\t  7.5 & 2002\\\\\n",
       "\t  7.1 & 2002\\\\\n",
       "\t  5.2 & 2002\\\\\n",
       "\t  4.6 & 2004\\\\\n",
       "\t  9.8 & 2004\\\\\n",
       "\t  8.9 & 2004\\\\\n",
       "\t  8.8 & 2004\\\\\n",
       "\t  8.2 & 2004\\\\\n",
       "\t  8.7 & 2004\\\\\n",
       "\t  5.3 & 2004\\\\\n",
       "\t  7.8 & 2004\\\\\n",
       "\t  6.0 & 2006\\\\\n",
       "\t 12.1 & 2006\\\\\n",
       "\t ... & ...\\\\\n",
       "\t  9.9 & 2010\\\\\n",
       "\t 15.5 & 2010\\\\\n",
       "\t 16.6 & 2010\\\\\n",
       "\t 14.2 & 2010\\\\\n",
       "\t 21.9 & 2010\\\\\n",
       "\t 17.3 & 2010\\\\\n",
       "\t 18.6 & 2010\\\\\n",
       "\t  9.3 & 2010\\\\\n",
       "\t 15.1 & 2012\\\\\n",
       "\t  8.8 & 2012\\\\\n",
       "\t 10.8 & 2012\\\\\n",
       "\t 15.5 & 2012\\\\\n",
       "\t 18.2 & 2012\\\\\n",
       "\t 11.6 & 2012\\\\\n",
       "\t 24.6 & 2012\\\\\n",
       "\t 16.8 & 2012\\\\\n",
       "\t 12.4 & 2012\\\\\n",
       "\t 17.3 & 2012\\\\\n",
       "\t 10.8 & 2012\\\\\n",
       "\t 14.0 & 2014\\\\\n",
       "\t 13.1 & 2014\\\\\n",
       "\t 13.9 & 2014\\\\\n",
       "\t 17.0 & 2014\\\\\n",
       "\t 20.0 & 2014\\\\\n",
       "\t 24.0 & 2014\\\\\n",
       "\t 14.1 & 2014\\\\\n",
       "\t 29.3 & 2014\\\\\n",
       "\t 17.4 & 2014\\\\\n",
       "\t 15.5 & 2014\\\\\n",
       "\t 14.1 & 2014\\\\\n",
       "\\end{tabular}\n"
      ],
      "text/markdown": [
       "\n",
       "| Prevalence | Year |\n",
       "|---|---|\n",
       "|  6.5 | 2000 |\n",
       "|  6.5 | 2000 |\n",
       "|  5.5 | 2000 |\n",
       "|  9.9 | 2000 |\n",
       "|  6.3 | 2000 |\n",
       "|  4.5 | 2000 |\n",
       "|  3.3 | 2002 |\n",
       "|  6.2 | 2002 |\n",
       "|  6.9 | 2002 |\n",
       "|  5.9 | 2002 |\n",
       "|  7.6 | 2002 |\n",
       "|  6.7 | 2002 |\n",
       "|  7.3 | 2002 |\n",
       "| 10.6 | 2002 |\n",
       "|  6.5 | 2002 |\n",
       "|  5.3 | 2002 |\n",
       "|  6.0 | 2002 |\n",
       "|  7.5 | 2002 |\n",
       "|  7.1 | 2002 |\n",
       "|  5.2 | 2002 |\n",
       "|  4.6 | 2004 |\n",
       "|  9.8 | 2004 |\n",
       "|  8.9 | 2004 |\n",
       "|  8.8 | 2004 |\n",
       "|  8.2 | 2004 |\n",
       "|  8.7 | 2004 |\n",
       "|  5.3 | 2004 |\n",
       "|  7.8 | 2004 |\n",
       "|  6.0 | 2006 |\n",
       "| 12.1 | 2006 |\n",
       "| ... | ... |\n",
       "|  9.9 | 2010 |\n",
       "| 15.5 | 2010 |\n",
       "| 16.6 | 2010 |\n",
       "| 14.2 | 2010 |\n",
       "| 21.9 | 2010 |\n",
       "| 17.3 | 2010 |\n",
       "| 18.6 | 2010 |\n",
       "|  9.3 | 2010 |\n",
       "| 15.1 | 2012 |\n",
       "|  8.8 | 2012 |\n",
       "| 10.8 | 2012 |\n",
       "| 15.5 | 2012 |\n",
       "| 18.2 | 2012 |\n",
       "| 11.6 | 2012 |\n",
       "| 24.6 | 2012 |\n",
       "| 16.8 | 2012 |\n",
       "| 12.4 | 2012 |\n",
       "| 17.3 | 2012 |\n",
       "| 10.8 | 2012 |\n",
       "| 14.0 | 2014 |\n",
       "| 13.1 | 2014 |\n",
       "| 13.9 | 2014 |\n",
       "| 17.0 | 2014 |\n",
       "| 20.0 | 2014 |\n",
       "| 24.0 | 2014 |\n",
       "| 14.1 | 2014 |\n",
       "| 29.3 | 2014 |\n",
       "| 17.4 | 2014 |\n",
       "| 15.5 | 2014 |\n",
       "| 14.1 | 2014 |\n",
       "\n"
      ],
      "text/plain": [
       "    Prevalence Year\n",
       "1    6.5       2000\n",
       "2    6.5       2000\n",
       "3    5.5       2000\n",
       "4    9.9       2000\n",
       "5    6.3       2000\n",
       "6    4.5       2000\n",
       "7    3.3       2002\n",
       "8    6.2       2002\n",
       "9    6.9       2002\n",
       "10   5.9       2002\n",
       "11   7.6       2002\n",
       "12   6.7       2002\n",
       "13   7.3       2002\n",
       "14  10.6       2002\n",
       "15   6.5       2002\n",
       "16   5.3       2002\n",
       "17   6.0       2002\n",
       "18   7.5       2002\n",
       "19   7.1       2002\n",
       "20   5.2       2002\n",
       "21   4.6       2004\n",
       "22   9.8       2004\n",
       "23   8.9       2004\n",
       "24   8.8       2004\n",
       "25   8.2       2004\n",
       "26   8.7       2004\n",
       "27   5.3       2004\n",
       "28   7.8       2004\n",
       "29   6.0       2006\n",
       "30  12.1       2006\n",
       "... ...        ... \n",
       "57   9.9       2010\n",
       "58  15.5       2010\n",
       "59  16.6       2010\n",
       "60  14.2       2010\n",
       "61  21.9       2010\n",
       "62  17.3       2010\n",
       "63  18.6       2010\n",
       "64   9.3       2010\n",
       "65  15.1       2012\n",
       "66   8.8       2012\n",
       "67  10.8       2012\n",
       "68  15.5       2012\n",
       "69  18.2       2012\n",
       "70  11.6       2012\n",
       "71  24.6       2012\n",
       "72  16.8       2012\n",
       "73  12.4       2012\n",
       "74  17.3       2012\n",
       "75  10.8       2012\n",
       "76  14.0       2014\n",
       "77  13.1       2014\n",
       "78  13.9       2014\n",
       "79  17.0       2014\n",
       "80  20.0       2014\n",
       "81  24.0       2014\n",
       "82  14.1       2014\n",
       "83  29.3       2014\n",
       "84  17.4       2014\n",
       "85  15.5       2014\n",
       "86  14.1       2014"
      ]
     },
     "metadata": {},
     "output_type": "display_data"
    }
   ],
   "source": [
    "# Filter [ Source: ADDM ], including only two clomuns for SLR:\n",
    "# Dependent variable: Prevalence\n",
    "# independent variable: Year\n",
    "ASD_State_4_SLR = subset(ASD_State, Source_UC == 'ADDM', select = c(Prevalence, Year))\n",
    "#\n",
    "dim(ASD_State_4_SLR)\n",
    "ASD_State_4_SLR"
   ]
  },
  {
   "cell_type": "markdown",
   "metadata": {},
   "source": [
    "**SLR Workshop Task: <span style=\"color:blue\">a. Graph the data in a scatterplot to determine if there is a possible linear relationship.</span>**"
   ]
  },
  {
   "cell_type": "code",
   "execution_count": 9,
   "metadata": {},
   "outputs": [],
   "source": [
    "# Adjust in-line plot size to M x N\n",
    "options(repr.plot.width=8, repr.plot.height=4)"
   ]
  },
  {
   "cell_type": "code",
   "execution_count": 10,
   "metadata": {},
   "outputs": [
    {
     "data": {
      "image/png": "[encoded data removed]",
      "text/plain": [
       "plot without title"
      ]
     },
     "metadata": {},
     "output_type": "display_data"
    }
   ],
   "source": [
    "plot(ASD_State_4_SLR$Year, ASD_State_4_SLR$Prevalence)"
   ]
  },
  {
   "cell_type": "markdown",
   "metadata": {},
   "source": [
    "**SLR Workshop Task: <span style=\"color:blue\">b. Compute and interpret the linear correlation coefficient, r.</span>**"
   ]
  },
  {
   "cell_type": "code",
   "execution_count": null,
   "metadata": {},
   "outputs": [],
   "source": []
  },
  {
   "cell_type": "markdown",
   "metadata": {},
   "source": [
    "**SLR Workshop Task: <span style=\"color:blue\"></span>**"
   ]
  },
  {
   "cell_type": "code",
   "execution_count": null,
   "metadata": {},
   "outputs": [],
   "source": []
  },
  {
   "cell_type": "markdown",
   "metadata": {},
   "source": [
    "**SLR Workshop Task: <span style=\"color:blue\"></span>**"
   ]
  },
  {
   "cell_type": "code",
   "execution_count": null,
   "metadata": {},
   "outputs": [],
   "source": []
  },
  {
   "cell_type": "markdown",
   "metadata": {},
   "source": [
    "**SLR Workshop Task: <span style=\"color:blue\"></span>**"
   ]
  },
  {
   "cell_type": "code",
   "execution_count": null,
   "metadata": {},
   "outputs": [],
   "source": []
  },
  {
   "cell_type": "markdown",
   "metadata": {},
   "source": [
    "**SLR Workshop Task: <span style=\"color:blue\"></span>**"
   ]
  },
  {
   "cell_type": "code",
   "execution_count": null,
   "metadata": {},
   "outputs": [],
   "source": []
  },
  {
   "cell_type": "markdown",
   "metadata": {},
   "source": [
    "**SLR Workshop Task: <span style=\"color:blue\"></span>**"
   ]
  },
  {
   "cell_type": "code",
   "execution_count": null,
   "metadata": {},
   "outputs": [],
   "source": []
  },
  {
   "cell_type": "markdown",
   "metadata": {},
   "source": [
    "**SLR Workshop Task: <span style=\"color:blue\"></span>**"
   ]
  },
  {
   "cell_type": "code",
   "execution_count": null,
   "metadata": {},
   "outputs": [],
   "source": []
  },
  {
   "cell_type": "markdown",
   "metadata": {},
   "source": [
    "**SLR Workshop Task: <span style=\"color:blue\"></span>**"
   ]
  },
  {
   "cell_type": "code",
   "execution_count": null,
   "metadata": {},
   "outputs": [],
   "source": []
  },
  {
   "cell_type": "markdown",
   "metadata": {},
   "source": [
    "**SLR Workshop Task: <span style=\"color:blue\"></span>**"
   ]
  },
  {
   "cell_type": "code",
   "execution_count": null,
   "metadata": {},
   "outputs": [],
   "source": []
  },
  {
   "cell_type": "markdown",
   "metadata": {},
   "source": [
    "**SLR Workshop Task: <span style=\"color:blue\"></span>**"
   ]
  },
  {
   "cell_type": "code",
   "execution_count": null,
   "metadata": {},
   "outputs": [],
   "source": []
  },
  {
   "cell_type": "markdown",
   "metadata": {},
   "source": [
    "**SLR Workshop Task: <span style=\"color:blue\"></span>**"
   ]
  },
  {
   "cell_type": "code",
   "execution_count": null,
   "metadata": {},
   "outputs": [],
   "source": []
  },
  {
   "cell_type": "markdown",
   "metadata": {},
   "source": [
    "**SLR Workshop Task: <span style=\"color:blue\"></span>**"
   ]
  },
  {
   "cell_type": "code",
   "execution_count": null,
   "metadata": {},
   "outputs": [],
   "source": []
  },
  {
   "cell_type": "code",
   "execution_count": null,
   "metadata": {},
   "outputs": [],
   "source": []
  },
  {
   "cell_type": "code",
   "execution_count": null,
   "metadata": {},
   "outputs": [],
   "source": []
  },
  {
   "cell_type": "code",
   "execution_count": null,
   "metadata": {},
   "outputs": [],
   "source": []
  },
  {
   "cell_type": "code",
   "execution_count": null,
   "metadata": {},
   "outputs": [],
   "source": [
    "# Dataset: US. National Level Children ASD Prevalence\n",
    "ASD_National <- read.csv(\"../dataset/ADV_ASD_National.csv\", stringsAsFactors = FALSE)"
   ]
  },
  {
   "cell_type": "code",
   "execution_count": null,
   "metadata": {},
   "outputs": [],
   "source": [
    "# Dataset: US. State Level Children ASD Prevalence\n",
    "ASD_State    <- read.csv(\"../dataset/ADV_ASD_State.csv\", stringsAsFactors = FALSE)"
   ]
  },
  {
   "cell_type": "markdown",
   "metadata": {},
   "source": [
    "**Obtain number of rows and number of columns/features/variables**"
   ]
  },
  {
   "cell_type": "code",
   "execution_count": null,
   "metadata": {},
   "outputs": [],
   "source": [
    "dim(ASD_National)"
   ]
  },
  {
   "cell_type": "code",
   "execution_count": null,
   "metadata": {},
   "outputs": [],
   "source": [
    "dim(ASD_State)"
   ]
  },
  {
   "cell_type": "markdown",
   "metadata": {},
   "source": [
    "**Obtain overview (data structure/types)**"
   ]
  },
  {
   "cell_type": "code",
   "execution_count": null,
   "metadata": {
    "scrolled": true
   },
   "outputs": [],
   "source": [
    "str(ASD_National)"
   ]
  },
  {
   "cell_type": "code",
   "execution_count": null,
   "metadata": {
    "scrolled": true
   },
   "outputs": [],
   "source": [
    "str(ASD_State)"
   ]
  },
  {
   "cell_type": "markdown",
   "metadata": {},
   "source": [
    "**Look at first few rows of data**"
   ]
  },
  {
   "cell_type": "code",
   "execution_count": null,
   "metadata": {
    "scrolled": true
   },
   "outputs": [],
   "source": [
    "head(ASD_National)"
   ]
  },
  {
   "cell_type": "code",
   "execution_count": null,
   "metadata": {
    "scrolled": false
   },
   "outputs": [],
   "source": [
    "head(ASD_State)"
   ]
  },
  {
   "cell_type": "markdown",
   "metadata": {},
   "source": [
    "**Obtain name of columns**"
   ]
  },
  {
   "cell_type": "code",
   "execution_count": null,
   "metadata": {},
   "outputs": [],
   "source": [
    "names(ASD_National)"
   ]
  },
  {
   "cell_type": "code",
   "execution_count": null,
   "metadata": {
    "scrolled": true
   },
   "outputs": [],
   "source": [
    "names(ASD_State)"
   ]
  },
  {
   "cell_type": "markdown",
   "metadata": {},
   "source": [
    "**Display column name with its index number**"
   ]
  },
  {
   "cell_type": "code",
   "execution_count": null,
   "metadata": {
    "scrolled": true
   },
   "outputs": [],
   "source": [
    "cbind(names(ASD_National), c(1:length(names(ASD_National))))"
   ]
  },
  {
   "cell_type": "markdown",
   "metadata": {},
   "source": [
    "**Look at data structure/schema (Selected columns)**"
   ]
  },
  {
   "cell_type": "code",
   "execution_count": null,
   "metadata": {},
   "outputs": [],
   "source": [
    "str(ASD_National[, c(1:8, 24, 25, 26)])"
   ]
  },
  {
   "cell_type": "markdown",
   "metadata": {},
   "source": [
    "<div class=\"alert alert-danger alertdanger\" style=\"margin-top: 20px\">\n",
    "    <h3>\n",
    "        Quiz:\n",
    "    </h3>\n",
    "    <p>\n",
    "        Obtain feature/column names and column index of dataframe: ASD_State\n",
    "    </p>\n",
    "</div>"
   ]
  },
  {
   "cell_type": "code",
   "execution_count": null,
   "metadata": {},
   "outputs": [],
   "source": [
    "# Write your code below and press Shift+Enter to execute \n"
   ]
  },
  {
   "cell_type": "markdown",
   "metadata": {},
   "source": [
    "Double-click <b>here</b> for the solution.\n",
    "\n",
    "<!-- The answer is below:\n",
    "\n",
    "# Write your code below and press Shift+Enter to execute \n",
    "cbind(names(ASD_State), c(1:length(names(ASD_State))))\n",
    "\n",
    "-->"
   ]
  },
  {
   "cell_type": "markdown",
   "metadata": {},
   "source": [
    "<div class=\"alert alert-block alert-info\" style=\"margin-top: 20px\">\n",
    "    <h3>\n",
    "    R Fundamentals - Work with dataframe\n",
    "    </h3>\n",
    "</div>\n"
   ]
  },
  {
   "cell_type": "markdown",
   "metadata": {},
   "source": [
    "**Access column 1 as a <span style=\"color:blue\">named list</span> of string/chr (dataframe alike):**"
   ]
  },
  {
   "cell_type": "code",
   "execution_count": null,
   "metadata": {
    "scrolled": true
   },
   "outputs": [],
   "source": [
    "# use column index:\n",
    "ASD_National[1]"
   ]
  },
  {
   "cell_type": "code",
   "execution_count": null,
   "metadata": {},
   "outputs": [],
   "source": [
    "typeof(ASD_National[1])"
   ]
  },
  {
   "cell_type": "code",
   "execution_count": null,
   "metadata": {},
   "outputs": [],
   "source": [
    "ASD_National[1]$Source"
   ]
  },
  {
   "cell_type": "code",
   "execution_count": null,
   "metadata": {
    "scrolled": true
   },
   "outputs": [],
   "source": [
    "# use column name:\n",
    "ASD_National[\"Source\"]"
   ]
  },
  {
   "cell_type": "code",
   "execution_count": null,
   "metadata": {},
   "outputs": [],
   "source": [
    "typeof(ASD_National['Source'])"
   ]
  },
  {
   "cell_type": "code",
   "execution_count": null,
   "metadata": {},
   "outputs": [],
   "source": [
    "ASD_National['Source']$Source"
   ]
  },
  {
   "cell_type": "markdown",
   "metadata": {},
   "source": [
    "**Access column 1 as a set of string/chr:**"
   ]
  },
  {
   "cell_type": "code",
   "execution_count": null,
   "metadata": {},
   "outputs": [],
   "source": [
    "ASD_National[, 1]"
   ]
  },
  {
   "cell_type": "code",
   "execution_count": null,
   "metadata": {},
   "outputs": [],
   "source": [
    "typeof(ASD_National[, 1])"
   ]
  },
  {
   "cell_type": "code",
   "execution_count": null,
   "metadata": {},
   "outputs": [],
   "source": [
    "ASD_National[, 1]"
   ]
  },
  {
   "cell_type": "code",
   "execution_count": null,
   "metadata": {},
   "outputs": [],
   "source": [
    "# or\n",
    "ASD_National[, \"Source\"]"
   ]
  },
  {
   "cell_type": "code",
   "execution_count": null,
   "metadata": {},
   "outputs": [],
   "source": [
    "# or\n",
    "ASD_National$Source"
   ]
  },
  {
   "cell_type": "markdown",
   "metadata": {},
   "source": [
    "**Count number of elements in a object:**"
   ]
  },
  {
   "cell_type": "code",
   "execution_count": null,
   "metadata": {},
   "outputs": [],
   "source": [
    "length(ASD_National) # number of features/columns"
   ]
  },
  {
   "cell_type": "code",
   "execution_count": null,
   "metadata": {},
   "outputs": [],
   "source": [
    "length(ASD_National[1, ]) # number of features/columns"
   ]
  },
  {
   "cell_type": "code",
   "execution_count": null,
   "metadata": {},
   "outputs": [],
   "source": [
    "length(ASD_National[, 1]) # number of elements(rows) in column 1"
   ]
  },
  {
   "cell_type": "code",
   "execution_count": null,
   "metadata": {},
   "outputs": [],
   "source": [
    "length(ASD_National[, \"Source\"]) # same as above"
   ]
  },
  {
   "cell_type": "code",
   "execution_count": null,
   "metadata": {
    "scrolled": true
   },
   "outputs": [],
   "source": [
    "length(ASD_National$Source) # number of elements in chr list"
   ]
  },
  {
   "cell_type": "markdown",
   "metadata": {},
   "source": [
    "**Access elements from column 1, which is a list:**"
   ]
  },
  {
   "cell_type": "code",
   "execution_count": null,
   "metadata": {},
   "outputs": [],
   "source": [
    "# using column index\n",
    "ASD_National[1][1, ]"
   ]
  },
  {
   "cell_type": "code",
   "execution_count": null,
   "metadata": {},
   "outputs": [],
   "source": [
    "ASD_National[1][11, ]"
   ]
  },
  {
   "cell_type": "code",
   "execution_count": null,
   "metadata": {},
   "outputs": [],
   "source": [
    "ASD_National[1][11:20, ]"
   ]
  },
  {
   "cell_type": "code",
   "execution_count": null,
   "metadata": {},
   "outputs": [],
   "source": [
    "# using column name\n",
    "ASD_National[\"Source\"][1, ]"
   ]
  },
  {
   "cell_type": "code",
   "execution_count": null,
   "metadata": {},
   "outputs": [],
   "source": [
    "ASD_National[\"Source\"][11, ]"
   ]
  },
  {
   "cell_type": "code",
   "execution_count": null,
   "metadata": {},
   "outputs": [],
   "source": [
    "ASD_National[\"Source\"][11:20, ]"
   ]
  },
  {
   "cell_type": "markdown",
   "metadata": {},
   "source": [
    "**Access elements from column 1, which is a set of string/chr:**"
   ]
  },
  {
   "cell_type": "code",
   "execution_count": null,
   "metadata": {},
   "outputs": [],
   "source": [
    "# using column index\n",
    "ASD_National[, 1][1]"
   ]
  },
  {
   "cell_type": "code",
   "execution_count": null,
   "metadata": {},
   "outputs": [],
   "source": [
    "ASD_National[, 1][11]"
   ]
  },
  {
   "cell_type": "code",
   "execution_count": null,
   "metadata": {},
   "outputs": [],
   "source": [
    "ASD_National[, 1][11:20]"
   ]
  },
  {
   "cell_type": "code",
   "execution_count": null,
   "metadata": {},
   "outputs": [],
   "source": [
    "# using column name\n",
    "ASD_National[, \"Source\"][1]"
   ]
  },
  {
   "cell_type": "code",
   "execution_count": null,
   "metadata": {},
   "outputs": [],
   "source": [
    "# using column name\n",
    "ASD_National[, \"Source\"][11]"
   ]
  },
  {
   "cell_type": "code",
   "execution_count": null,
   "metadata": {},
   "outputs": [],
   "source": [
    "# using column name\n",
    "ASD_National[, \"Source\"][11:20]"
   ]
  },
  {
   "cell_type": "code",
   "execution_count": null,
   "metadata": {},
   "outputs": [],
   "source": [
    "# using $ operator\n",
    "ASD_National$Source[1]"
   ]
  },
  {
   "cell_type": "code",
   "execution_count": null,
   "metadata": {},
   "outputs": [],
   "source": [
    "ASD_National$Source[11]"
   ]
  },
  {
   "cell_type": "code",
   "execution_count": null,
   "metadata": {},
   "outputs": [],
   "source": [
    "ASD_National$Source[11:20]"
   ]
  },
  {
   "cell_type": "markdown",
   "metadata": {},
   "source": [
    "**Access elements of different column:**"
   ]
  },
  {
   "cell_type": "code",
   "execution_count": null,
   "metadata": {
    "scrolled": true
   },
   "outputs": [],
   "source": [
    "cbind(names(ASD_National), c(1:length(names(ASD_National))))"
   ]
  },
  {
   "cell_type": "code",
   "execution_count": null,
   "metadata": {},
   "outputs": [],
   "source": [
    "ASD_National[1, 1] # row 1, column 1: \"Source\" "
   ]
  },
  {
   "cell_type": "code",
   "execution_count": null,
   "metadata": {},
   "outputs": [],
   "source": [
    "ASD_National[10, 1] # row 10, column 1: \"Source\""
   ]
  },
  {
   "cell_type": "code",
   "execution_count": null,
   "metadata": {},
   "outputs": [],
   "source": [
    "ASD_National[1, 3] # row 1, column 3: \"Prevalence\""
   ]
  },
  {
   "cell_type": "code",
   "execution_count": null,
   "metadata": {},
   "outputs": [],
   "source": [
    "ASD_National[10, 3] # row 10, column 3: \"Prevalence\""
   ]
  },
  {
   "cell_type": "code",
   "execution_count": null,
   "metadata": {
    "scrolled": true
   },
   "outputs": [],
   "source": [
    "ASD_National[1:10, 1:3] # row 1 to 10 from column 1 to 3"
   ]
  },
  {
   "cell_type": "code",
   "execution_count": null,
   "metadata": {
    "scrolled": true
   },
   "outputs": [],
   "source": [
    "# or using columns names\n",
    "ASD_National[1:10, c('Source', 'Year', 'Prevalence')]"
   ]
  },
  {
   "cell_type": "code",
   "execution_count": null,
   "metadata": {},
   "outputs": [],
   "source": [
    "ASD_National[c(1:10, 20, 30:35), c(1:3, 9, 12)] # row 1 to 10, 20, and 20 to 25 from column 1 to 3, 9, and 12"
   ]
  },
  {
   "cell_type": "markdown",
   "metadata": {},
   "source": [
    "**<span style=\"color:blue\">[ Tips ]</span> We notice missing data from above.**"
   ]
  },
  {
   "cell_type": "markdown",
   "metadata": {},
   "source": [
    "<div class=\"alert alert-block alert-info\" style=\"margin-top: 20px\">\n",
    "    <h3>\n",
    "    R Fundamentals - Process missing data\n",
    "    </h3>\n",
    "</div>\n"
   ]
  },
  {
   "cell_type": "markdown",
   "metadata": {},
   "source": [
    "**Count missing values in dataframe:**"
   ]
  },
  {
   "cell_type": "code",
   "execution_count": null,
   "metadata": {},
   "outputs": [],
   "source": [
    "sum(is.na(ASD_National)) # No missing data recognised by R (NA)"
   ]
  },
  {
   "cell_type": "code",
   "execution_count": null,
   "metadata": {},
   "outputs": [],
   "source": [
    "sum(is.na(ASD_State)) # Some missing data recognised by R (NA)"
   ]
  },
  {
   "cell_type": "markdown",
   "metadata": {},
   "source": [
    "**Empty string, \"No data\" arenot considered as missing value by R, thus we need to handle them manually.**"
   ]
  },
  {
   "cell_type": "code",
   "execution_count": null,
   "metadata": {},
   "outputs": [],
   "source": [
    "# Define several offending strings\n",
    "na_strings <- c(\"\", \"No data\", \"NA\", \"N A\", \"N / A\", \"N/A\", \"N/ A\", \"Not Available\", \"NOt available\")"
   ]
  },
  {
   "cell_type": "code",
   "execution_count": null,
   "metadata": {
    "scrolled": false
   },
   "outputs": [],
   "source": [
    "# Load required function from packages:\n",
    "if(!require(naniar)){install.packages(\"naniar\")}\n",
    "library(naniar)\n",
    "if(!require(dplyr)){install.packages(\"dplyr\")}\n",
    "library(dplyr)"
   ]
  },
  {
   "cell_type": "code",
   "execution_count": null,
   "metadata": {},
   "outputs": [],
   "source": [
    "# Uncomment below to show help\n",
    "# ?replace_with_na_all # Documentation"
   ]
  },
  {
   "cell_type": "markdown",
   "metadata": {},
   "source": [
    "**Replace these defined missing/offending values to R's internal NA**"
   ]
  },
  {
   "cell_type": "code",
   "execution_count": null,
   "metadata": {},
   "outputs": [],
   "source": [
    "# \"~.x\" is a reserved keyword of this function:\n",
    "ASD_National = replace_with_na_all(ASD_National, condition = ~.x %in% na_strings) "
   ]
  },
  {
   "cell_type": "code",
   "execution_count": null,
   "metadata": {},
   "outputs": [],
   "source": [
    "# Count missing values (R's internal NA) in dataframe:\n",
    "sum(is.na(ASD_National))"
   ]
  },
  {
   "cell_type": "markdown",
   "metadata": {},
   "source": [
    "<div class=\"alert alert-block alert-info\" style=\"margin-top: 20px\">\n",
    "    <h3>\n",
    "    R Fundamentals - Process invalid characters\n",
    "    </h3>\n",
    "</div>\n"
   ]
  },
  {
   "cell_type": "markdown",
   "metadata": {},
   "source": [
    "**Remove invalid unicode char/string: \\x92**"
   ]
  },
  {
   "cell_type": "code",
   "execution_count": null,
   "metadata": {},
   "outputs": [],
   "source": [
    "ASD_National$Source_Full1[ASD_National$Source_Full1 == \"National Survey of Children\\x92s Health\"] <- \n",
    "\"National Survey of Children's Health\""
   ]
  },
  {
   "cell_type": "code",
   "execution_count": null,
   "metadata": {},
   "outputs": [],
   "source": [
    "ASD_National$Source_Full2[ASD_National$Source_Full2 == \"nsch-National Survey of Children\\x92s Health\"] <- \n",
    "\"nsch-National Survey of Children's Health\""
   ]
  },
  {
   "cell_type": "markdown",
   "metadata": {},
   "source": [
    "<div class=\"alert alert-block alert-info\" style=\"margin-top: 20px\">\n",
    "    <h3>\n",
    "    R Fundamentals - Delete/Drop dataframe variable\n",
    "    </h3>\n",
    "</div>\n"
   ]
  },
  {
   "cell_type": "markdown",
   "metadata": {},
   "source": [
    "**Delete/Drop duplicate variable: Prevalence_dup**"
   ]
  },
  {
   "cell_type": "code",
   "execution_count": null,
   "metadata": {},
   "outputs": [],
   "source": [
    "drop <- c(\"Prevalence_dup\", \"Dummy Variable Name\")"
   ]
  },
  {
   "cell_type": "code",
   "execution_count": null,
   "metadata": {},
   "outputs": [],
   "source": [
    "ASD_National = ASD_National[, !(names(ASD_National) %in% drop)] # Recall Dataframe[rows,columns]"
   ]
  },
  {
   "cell_type": "markdown",
   "metadata": {},
   "source": [
    "<div class=\"alert alert-block alert-info\" style=\"margin-top: 20px\">\n",
    "    <h3>\n",
    "    R Fundamentals - Create/Add dataframe variable\n",
    "    </h3>\n",
    "</div>\n"
   ]
  },
  {
   "cell_type": "markdown",
   "metadata": {},
   "source": [
    "**Create one new variable: Source_UC by converting to uppercase letters**"
   ]
  },
  {
   "cell_type": "code",
   "execution_count": null,
   "metadata": {},
   "outputs": [],
   "source": [
    "ASD_National$Source_UC <- paste(toupper(ASD_National$Source))"
   ]
  },
  {
   "cell_type": "markdown",
   "metadata": {},
   "source": [
    "**Create one new variable: Source_Full3 by combining Source and Source_Full1**"
   ]
  },
  {
   "cell_type": "code",
   "execution_count": null,
   "metadata": {},
   "outputs": [],
   "source": [
    "ASD_National$Source_Full3 <- paste(toupper(ASD_National$Source), ASD_National$Source_Full1)"
   ]
  },
  {
   "cell_type": "markdown",
   "metadata": {},
   "source": [
    "<div class=\"alert alert-block alert-info\" style=\"margin-top: 20px\">\n",
    "    <h3>\n",
    "    R Fundamentals - Convert to correct data types\n",
    "    </h3>\n",
    "</div>\n"
   ]
  },
  {
   "cell_type": "markdown",
   "metadata": {},
   "source": [
    "**Review data structure and variable names:**"
   ]
  },
  {
   "cell_type": "code",
   "execution_count": null,
   "metadata": {
    "scrolled": true
   },
   "outputs": [],
   "source": [
    "str(ASD_National)\n",
    "cbind(names(ASD_National), c(1:length(names(ASD_National))))"
   ]
  },
  {
   "cell_type": "markdown",
   "metadata": {},
   "source": [
    "**Convert Prevalence and CIs from categorical/chr to numeric, column 8 to 25**"
   ]
  },
  {
   "cell_type": "code",
   "execution_count": null,
   "metadata": {},
   "outputs": [],
   "source": [
    "ix <- 8:25 # define an index\n",
    "# apply()\n",
    "ASD_National[ix] <- apply(ASD_National[ix], 2, as.numeric) # \"2\" meand column-wise; \"1\" means row-wise."
   ]
  },
  {
   "cell_type": "code",
   "execution_count": null,
   "metadata": {},
   "outputs": [],
   "source": [
    "# Uncomment below to show help\n",
    "# ?apply # Documentation"
   ]
  },
  {
   "cell_type": "code",
   "execution_count": null,
   "metadata": {},
   "outputs": [],
   "source": [
    "# or lapply()\n",
    "ASD_National[ix] <- lapply(ASD_National[ix], as.numeric) # column-wise"
   ]
  },
  {
   "cell_type": "code",
   "execution_count": null,
   "metadata": {},
   "outputs": [],
   "source": [
    "# Uncomment below to show help\n",
    "# ?lapply # Documentation"
   ]
  },
  {
   "cell_type": "markdown",
   "metadata": {},
   "source": [
    "**Convert Source from categorical/chr to categorical/factor**"
   ]
  },
  {
   "cell_type": "code",
   "execution_count": null,
   "metadata": {},
   "outputs": [],
   "source": [
    "ix <- c(1, 6, 7, 26, 27) # define an index\n",
    "ASD_National[ix] <- lapply(ASD_National[ix], as.factor)"
   ]
  },
  {
   "cell_type": "markdown",
   "metadata": {},
   "source": [
    "**Create new ordered factor Year_Factor from Year**"
   ]
  },
  {
   "cell_type": "code",
   "execution_count": null,
   "metadata": {},
   "outputs": [],
   "source": [
    "ASD_National$Year_Factor <- factor(ASD_National$Year, ordered = TRUE)"
   ]
  },
  {
   "cell_type": "code",
   "execution_count": null,
   "metadata": {},
   "outputs": [],
   "source": [
    "# Observe the difference of 'Levels' in below two factors\n",
    "ASD_National$Year_Factor # Ordinal categorical variable\n",
    "str(ASD_National$Year_Factor)\n",
    "\n",
    "ASD_National$Source # Nominal categorical variable\n",
    "str(ASD_National$Source)"
   ]
  },
  {
   "cell_type": "code",
   "execution_count": null,
   "metadata": {},
   "outputs": [],
   "source": [
    "# Optionally, below is manual conversion examples:\n",
    "# ASD_National$Male.Prevalence = as.numeric(ASD_National$Male.Prevalence)\n",
    "# ASD_National$Source = as.factor(ASD_National$Source)"
   ]
  },
  {
   "cell_type": "markdown",
   "metadata": {},
   "source": [
    "**Optionally, export the processed dataframe data to CSV file.**"
   ]
  },
  {
   "cell_type": "code",
   "execution_count": null,
   "metadata": {},
   "outputs": [],
   "source": [
    "write.csv(ASD_National, file = \"../dataset/ADV_ASD_National_R.csv\", row.names = FALSE)"
   ]
  },
  {
   "cell_type": "code",
   "execution_count": null,
   "metadata": {},
   "outputs": [],
   "source": [
    "# Read back in above saved file:\n",
    "# ASD_National <- read.csv(\"../dataset/ADV_ASD_National_R.csv\")\n",
    "# ASD_National$Year_Factor <- factor(ASD_National$Year_Factor, ordered = TRUE) # Convert Year_Factor to ordered.factor"
   ]
  },
  {
   "cell_type": "markdown",
   "metadata": {},
   "source": [
    "<div class=\"alert alert-block alert-info\" style=\"margin-top: 20px\">\n",
    "</div>\n",
    "\n"
   ]
  },
  {
   "cell_type": "markdown",
   "metadata": {},
   "source": [
    "## <span style=\"color:blue\">Data Summarization </span>\n"
   ]
  },
  {
   "cell_type": "markdown",
   "metadata": {},
   "source": [
    "<div class=\"alert alert-block alert-info\" style=\"margin-top: 20px\">\n",
    "    <h3>\n",
    "    Data Summarization - High Level Data Summary\n",
    "    </h3>\n",
    "</div>\n"
   ]
  },
  {
   "cell_type": "code",
   "execution_count": null,
   "metadata": {
    "scrolled": true
   },
   "outputs": [],
   "source": [
    "summary(ASD_National)"
   ]
  },
  {
   "cell_type": "markdown",
   "metadata": {},
   "source": [
    "<div class=\"alert alert-block alert-info\" style=\"margin-top: 20px\">\n",
    "    <h3>\n",
    "    Data Summarization - Summary of <span style=\"color:blue\">numeric</span> variables\n",
    "    </h3>\n",
    "</div>\n"
   ]
  },
  {
   "cell_type": "code",
   "execution_count": null,
   "metadata": {
    "scrolled": true
   },
   "outputs": [],
   "source": [
    "# Filter only numeric variables/columns\n",
    "select_if(ASD_National, is.numeric) # library(dplyr)"
   ]
  },
  {
   "cell_type": "code",
   "execution_count": null,
   "metadata": {
    "scrolled": true
   },
   "outputs": [],
   "source": [
    "# Data summarization\n",
    "summary(select_if(ASD_National, is.numeric))"
   ]
  },
  {
   "cell_type": "markdown",
   "metadata": {},
   "source": [
    "**<span style=\"color:blue\">[ Tips ]</span> We notice missing data in a few Prevalence variables.**"
   ]
  },
  {
   "cell_type": "code",
   "execution_count": null,
   "metadata": {},
   "outputs": [],
   "source": [
    "# Calculate average Prevalence, no error\n",
    "mean(ASD_National$Prevalence)\n",
    "mean(ASD_National$Prevalence[ASD_National$Source == 'addm'])\n",
    "mean(ASD_National$Prevalence[ASD_National$Source == 'medi'])\n",
    "mean(ASD_National$Prevalence[ASD_National$Source == 'nsch'])\n",
    "mean(ASD_National$Prevalence[ASD_National$Source == 'sped'])"
   ]
  },
  {
   "cell_type": "code",
   "execution_count": null,
   "metadata": {},
   "outputs": [],
   "source": [
    "# Calculate average Male.Prevalence, there is error!\n",
    "mean(ASD_National$Male.Prevalence)"
   ]
  },
  {
   "cell_type": "code",
   "execution_count": null,
   "metadata": {},
   "outputs": [],
   "source": [
    "# Because of NA, mean() cannot process, thus we use na.rm to ignore NAs\n",
    "mean(ASD_National$Male.Prevalence, na.rm = TRUE)"
   ]
  },
  {
   "cell_type": "code",
   "execution_count": null,
   "metadata": {},
   "outputs": [],
   "source": [
    "mean(ASD_National$Female.Prevalence, na.rm = TRUE)"
   ]
  },
  {
   "cell_type": "code",
   "execution_count": null,
   "metadata": {},
   "outputs": [],
   "source": [
    "# Count occurrences of uniques values in a variable/column: number of rows (of data entry) per year\n",
    "table(ASD_National$Year) # ?table"
   ]
  },
  {
   "cell_type": "markdown",
   "metadata": {},
   "source": [
    "<div class=\"alert alert-block alert-info\" style=\"margin-top: 20px\">\n",
    "    <h3>\n",
    "    Data Summarization - Summary of <span style=\"color:blue\">categorical</span> variables\n",
    "    </h3>\n",
    "</div>\n"
   ]
  },
  {
   "cell_type": "code",
   "execution_count": null,
   "metadata": {},
   "outputs": [],
   "source": [
    "# List of categorical variables\n",
    "names(select_if(ASD_National, is.factor)) # All categorical variables are factor data type\n",
    "names(select_if(ASD_National, is.character)) # No categorical variable is character data type"
   ]
  },
  {
   "cell_type": "code",
   "execution_count": null,
   "metadata": {},
   "outputs": [],
   "source": [
    "# Look at summary\n",
    "summary(select_if(ASD_National, is.factor))"
   ]
  },
  {
   "cell_type": "code",
   "execution_count": null,
   "metadata": {},
   "outputs": [],
   "source": [
    "summary(select_if(ASD_National, is.character))"
   ]
  },
  {
   "cell_type": "code",
   "execution_count": null,
   "metadata": {},
   "outputs": [],
   "source": [
    "# Count occurrences of uniques values in a variable/column\n",
    "table(ASD_National$Source)"
   ]
  },
  {
   "cell_type": "code",
   "execution_count": null,
   "metadata": {},
   "outputs": [],
   "source": [
    "table(ASD_National$Source_Full3)"
   ]
  },
  {
   "cell_type": "code",
   "execution_count": null,
   "metadata": {},
   "outputs": [],
   "source": [
    "table(ASD_National$Year_Factor)"
   ]
  },
  {
   "cell_type": "code",
   "execution_count": null,
   "metadata": {},
   "outputs": [],
   "source": [
    "table(ASD_National$Prevalence) # numeric is also possible"
   ]
  },
  {
   "cell_type": "code",
   "execution_count": null,
   "metadata": {},
   "outputs": [],
   "source": [
    "# Display unique values (levels) of a factor categorical \n",
    "lapply(select_if(ASD_National, is.factor), levels)"
   ]
  },
  {
   "cell_type": "code",
   "execution_count": null,
   "metadata": {},
   "outputs": [],
   "source": [
    "# or using variable names\n",
    "lapply(ASD_National[c('Source_UC', 'Year_Factor')], levels)"
   ]
  },
  {
   "cell_type": "code",
   "execution_count": null,
   "metadata": {
    "scrolled": true
   },
   "outputs": [],
   "source": [
    "# Pivot of counting occurrences\n",
    "table(ASD_National$Source_Full3, ASD_National$Year) # table(ASD_National$Year, ASD_National$Source_Full3)"
   ]
  },
  {
   "cell_type": "markdown",
   "metadata": {},
   "source": [
    "<div class=\"alert alert-block alert-info\" style=\"margin-top: 20px\">\n",
    "</div>\n",
    "\n"
   ]
  },
  {
   "cell_type": "markdown",
   "metadata": {},
   "source": [
    "## <span style=\"color:blue\">Data Visualisation (Base Graphic)</span>\n"
   ]
  },
  {
   "cell_type": "code",
   "execution_count": null,
   "metadata": {},
   "outputs": [],
   "source": [
    "# library(repr)\n",
    "# Adjust in-line plot size to M x N\n",
    "options(repr.plot.width=8, repr.plot.height=4)"
   ]
  },
  {
   "cell_type": "markdown",
   "metadata": {},
   "source": [
    "<div class=\"alert alert-block alert-info\" style=\"margin-top: 20px\">\n",
    "    <h3>\n",
    "    Data Visualisation (Base Graphic) - Histogram (distribution of binned continuous variable)\n",
    "    </h3>\n",
    "</div>\n"
   ]
  },
  {
   "cell_type": "markdown",
   "metadata": {},
   "source": [
    "https://www.statmethods.net/graphs/density.html"
   ]
  },
  {
   "cell_type": "code",
   "execution_count": null,
   "metadata": {},
   "outputs": [],
   "source": [
    "hist(ASD_National$Prevalence)"
   ]
  },
  {
   "cell_type": "code",
   "execution_count": null,
   "metadata": {},
   "outputs": [],
   "source": [
    "par(mfrow=c(1, 2)) # multiple plots on one page: row split to: 1,column split to: 2\n",
    "hist(ASD_National$Male.Prevalence)\n",
    "hist(ASD_National$Female.Prevalence)\n",
    "par(mfrow=c(1, 1)) # Reset to one plot on one page"
   ]
  },
  {
   "cell_type": "code",
   "execution_count": null,
   "metadata": {
    "scrolled": false
   },
   "outputs": [],
   "source": [
    "# Histogram with annotations\n",
    "hist(ASD_National$Prevalence,\n",
    "     main = \"Frequency of National ASD Prevalence\", # Chart title\n",
    "     xlab = \"Prevalence per 1,000 Children\", # x axis label\n",
    "     ylab = \"Frequency or Occurrences\",# y axis label\n",
    "     sub  = \"Year 2000 - 2016\", # Chart subtitle at bottom\n",
    "     col.main=\"blue\", col.lab=\"black\", col.sub=\"darkgrey\") # Colours"
   ]
  },
  {
   "cell_type": "markdown",
   "metadata": {},
   "source": [
    "<div class=\"alert alert-block alert-info\" style=\"margin-top: 20px\">\n",
    "    <h3>\n",
    "    Density plot (distribution for continuous variable normalized to 100% area under curve)\n",
    "    </h3>\n",
    "</div>\n"
   ]
  },
  {
   "cell_type": "markdown",
   "metadata": {},
   "source": [
    "https://www.statmethods.net/graphs/density.html"
   ]
  },
  {
   "cell_type": "code",
   "execution_count": null,
   "metadata": {},
   "outputs": [],
   "source": [
    "par(mfrow=c(1, 2)) # multiple plots on one page: row split to: 1,column split to: 2\n",
    "\n",
    "plot(density(ASD_National$Prevalence))\n",
    "\n",
    "# Density plot with annotations\n",
    "plot(density(ASD_National$Prevalence),\n",
    "     main = \"Density of National ASD Prevalence\",\n",
    "     xlab = \"Prevalence per 1,000 Children\",\n",
    "     ylab = \"Frequency or Occurrences\",\n",
    "     sub  = \"Year 2000 - 2016\",\n",
    "     col.main=\"blue\", col.lab=\"black\", col.sub=\"darkgrey\")\n",
    "\n",
    "par(mfrow=c(1, 1))"
   ]
  },
  {
   "cell_type": "markdown",
   "metadata": {},
   "source": [
    "<div class=\"alert alert-block alert-info\" style=\"margin-top: 20px\">\n",
    "    <h3>\n",
    "    Boxplot plot (median, 25% quantile,75% quantile)\n",
    "    </h3>\n",
    "</div>\n"
   ]
  },
  {
   "cell_type": "markdown",
   "metadata": {},
   "source": [
    "https://www.statmethods.net/graphs/boxplot.html\n"
   ]
  },
  {
   "cell_type": "markdown",
   "metadata": {},
   "source": [
    "https://stats.stackexchange.com/questions/156778/percentile-vs-quantile-vs-quartile\n",
    "\n",
    "0 quartile = 0 quantile = 0 percentile\n",
    "\n",
    "1 quartile = 0.25 quantile = 25 percentile\n",
    "\n",
    "2 quartile = .5 quantile = 50 percentile (median)\n",
    "\n",
    "3 quartile = .75 quantile = 75 percentile\n",
    "\n",
    "4 quartile = 1 quantile = 100 percentile"
   ]
  },
  {
   "cell_type": "code",
   "execution_count": null,
   "metadata": {},
   "outputs": [],
   "source": [
    "par(mfrow=c(1, 2)) # multiple plots on one page: row split to: 1,column split to: 2\n",
    "\n",
    "# All children prevalence with and without 95% confidence side by side:\n",
    "boxplot(ASD_National$Prevalence, notch = TRUE) # 95% confidence interval - a notch is drawn in each side of the boxes. If the notches of two plots do not overlap this is ‘strong evidence’ that the two medians differ\n",
    "boxplot(ASD_National$Prevalence) # All children\n",
    "\n",
    "par(mfrow=c(1, 1))"
   ]
  },
  {
   "cell_type": "code",
   "execution_count": null,
   "metadata": {},
   "outputs": [],
   "source": [
    "par(mfrow=c(1, 2)) # multiple plots on one page: row split to: 1,column split to: 2\n",
    "\n",
    "# Male prevalence and Female prevalence side by side:\n",
    "boxplot(ASD_National$Male.Prevalence, ylim = c(0, 35), notch = TRUE) # Male children\n",
    "boxplot(ASD_National$Female.Prevalence, ylim = c(0, 35), notch = TRUE) # Female children\n",
    "\n",
    "par(mfrow=c(1, 1))"
   ]
  },
  {
   "cell_type": "code",
   "execution_count": null,
   "metadata": {},
   "outputs": [],
   "source": [
    "# Display value ranges\n",
    "# numeric:\n",
    "range(ASD_National$Prevalence)"
   ]
  },
  {
   "cell_type": "code",
   "execution_count": null,
   "metadata": {},
   "outputs": [],
   "source": [
    "range(ASD_National$Year)"
   ]
  },
  {
   "cell_type": "code",
   "execution_count": null,
   "metadata": {},
   "outputs": [],
   "source": [
    "# categorical:\n",
    "min(ASD_National$Year_Factor)"
   ]
  },
  {
   "cell_type": "code",
   "execution_count": null,
   "metadata": {},
   "outputs": [],
   "source": [
    "max(ASD_National$Year_Factor)"
   ]
  },
  {
   "cell_type": "code",
   "execution_count": null,
   "metadata": {
    "scrolled": false
   },
   "outputs": [],
   "source": [
    "# Create 'Prevalence' box plots break by 'Source'\n",
    "boxplot(ASD_National$Prevalence ~ ASD_National$Source,\n",
    "        main = \"National ASD Prevalence by Data Source\",\n",
    "        xlab = \"Data Source\",\n",
    "        ylab = \"Prevalence per 1,000 Children\",\n",
    "        sub  = \"Year 2000 - 2016\",\n",
    "        col.main=\"blue\", col.lab=\"black\", col.sub=\"darkgrey\")"
   ]
  },
  {
   "cell_type": "markdown",
   "metadata": {},
   "source": [
    "<div class=\"alert alert-danger alertdanger\" style=\"margin-top: 20px\">\n",
    "    <h3>\n",
    "        Quiz:\n",
    "    </h3>\n",
    "    <p>\n",
    "        Set noth=TRUE to above boxplot. Are there overlapping among four data sources?\n",
    "    </p>\n",
    "</div>"
   ]
  },
  {
   "cell_type": "code",
   "execution_count": null,
   "metadata": {},
   "outputs": [],
   "source": [
    "# Write your code below and press Shift+Enter to execute \n"
   ]
  },
  {
   "cell_type": "markdown",
   "metadata": {},
   "source": [
    "Double-click <b>here</b> for the solution.\n",
    "\n",
    "<!-- The answer is below:\n",
    "\n",
    "# Write your code below and press Shift+Enter to execute \n",
    "# Create 'Prevalence' box plots break by 'Source'\n",
    "boxplot(ASD_National$Prevalence ~ ASD_National$Source,\n",
    "        main = \"National ASD Prevalence by Data Source\", notch=TRUE,\n",
    "        xlab = \"Data Source\",\n",
    "        ylab = \"Prevalence per 1,000 Children\",\n",
    "        sub  = \"Year 2000 - 2016\",\n",
    "        col.main=\"blue\", col.lab=\"black\", col.sub=\"darkgrey\")\n",
    "\n",
    "-->"
   ]
  },
  {
   "cell_type": "markdown",
   "metadata": {},
   "source": [
    "<div class=\"alert alert-block alert-info\" style=\"margin-top: 20px\">\n",
    "    <h3>\n",
    "    Data Visualisation (Base Graphic) - Line chart\n",
    "    </h3>\n",
    "</div>\n"
   ]
  },
  {
   "cell_type": "code",
   "execution_count": null,
   "metadata": {},
   "outputs": [],
   "source": [
    "# Adjust in-line plot size to M x N\n",
    "options(repr.plot.width=8, repr.plot.height=6)"
   ]
  },
  {
   "cell_type": "code",
   "execution_count": null,
   "metadata": {},
   "outputs": [],
   "source": [
    "# ----------------------------------\n",
    "# [National] < Prevalence has changed over Time >\n",
    "# ----------------------------------\n",
    "# Prevalence over Year\n",
    "# Use Year        as x-axis: y value Prevalence is NOT aggregated for different data sources\n",
    "plot(ASD_National$Year, ASD_National$Prevalence) "
   ]
  },
  {
   "cell_type": "code",
   "execution_count": null,
   "metadata": {},
   "outputs": [],
   "source": [
    "# Use Year_factor as x-axis: y value Prevalence is     aggregated for different data sources\n",
    "plot(ASD_National$Year_Factor, ASD_National$Prevalence) "
   ]
  },
  {
   "cell_type": "code",
   "execution_count": null,
   "metadata": {},
   "outputs": [],
   "source": [
    "# table(ASD_National$Source_Full3)"
   ]
  },
  {
   "cell_type": "code",
   "execution_count": null,
   "metadata": {},
   "outputs": [],
   "source": [
    "par(mfrow=c(2, 2))\n",
    "\n",
    "# Prevalence over Year, from data source: \n",
    "# addm-Autism & Developmental Disabilities Monitoring Network\n",
    "plot(ASD_National$Year[ASD_National$Source == 'addm'], \n",
    "     ASD_National$Prevalence[ASD_National$Source == 'addm'])\n",
    "\n",
    "# Prevalence over Year, from data source: \n",
    "# medi-Medicaid\n",
    "plot(ASD_National$Year[ASD_National$Source == 'medi'], \n",
    "     ASD_National$Prevalence[ASD_National$Source == 'medi'])\n",
    "\n",
    "# Prevalence over Year, from data source: \n",
    "# nsch-National Survey of Children Health\n",
    "plot(ASD_National$Year[ASD_National$Source == 'nsch'], \n",
    "     ASD_National$Prevalence[ASD_National$Source == 'nsch'])\n",
    "\n",
    "# Prevalence over Year, from data source: \n",
    "# sped-Special Education Child Count\n",
    "plot(ASD_National$Year[ASD_National$Source == 'sped'], \n",
    "     ASD_National$Prevalence[ASD_National$Source == 'sped'])\n",
    "\n",
    "par(mfrow=c(1, 1)) # Reset to one plot on one page"
   ]
  },
  {
   "cell_type": "code",
   "execution_count": null,
   "metadata": {
    "scrolled": false
   },
   "outputs": [],
   "source": [
    "# ----------------------------------\n",
    "# Add more annotations to above plots\n",
    "# ----------------------------------\n",
    "# Color list\n",
    "# addm : darkblue\n",
    "# medi : orange\n",
    "# nsch : darkred\n",
    "# sped : skyblue\n",
    "\n",
    "par(mfrow=c(2, 2))\n",
    "\n",
    "# Prevalence over Year, from data source: \n",
    "# addm-Autism & Developmental Disabilities Monitoring Network\n",
    "plot(ASD_National$Year[ASD_National$Source == 'addm'], \n",
    "     ASD_National$Prevalence[ASD_National$Source == 'addm'],\n",
    "     type=\"l\", # dot/point type\n",
    "     lty=1, # line type\n",
    "     lwd=3, # line width\n",
    "     col=\"darkblue\", # line color\n",
    "     xlab=\"Year\", \n",
    "     ylab=\"Prevalence per 1,000 Children\", \n",
    "     ylim = c(0, 30), # Set value range of y axis\n",
    "     main=\"[addm] Prevalence Estimates Over Time\",\n",
    "     sub  = \"zhan.gu@nus.edu.sg\",\n",
    "     col.main=\"blue\", col.lab=\"black\", col.sub=\"darkgrey\")\n",
    "\n",
    "# Prevalence over Year, from data source: \n",
    "# medi-Medicaid\n",
    "plot(ASD_National$Year[ASD_National$Source == 'medi'], \n",
    "     ASD_National$Prevalence[ASD_National$Source == 'medi'],\n",
    "     type=\"b\", lty=1, lwd=3,  col=\"orange\",\n",
    "     xlab=\"Year\", \n",
    "     ylab=\"Prevalence per 1,000 Children\", \n",
    "     ylim = c(0, 30), # Set value range of y axis\n",
    "     main=\"[medi] Prevalence Estimates Over Time\",\n",
    "     sub  = \"zhan.gu@nus.edu.sg\",\n",
    "     col.main=\"blue\", col.lab=\"black\", col.sub=\"darkgrey\")\n",
    "\n",
    "# Prevalence over Year, from data source: \n",
    "# nsch-National Survey of Children Health\n",
    "plot(ASD_National$Year[ASD_National$Source == 'nsch'], \n",
    "     ASD_National$Prevalence[ASD_National$Source == 'nsch'],\n",
    "     type=\"l\", lty=2, lwd=3,  col=\"darkred\",\n",
    "     xlab=\"Year\", \n",
    "     ylab=\"Prevalence per 1,000 Children\", \n",
    "     ylim = c(0, 30), # Set value range of y axis\n",
    "     main=\"[nsch] Prevalence Estimates Over Time\",\n",
    "     sub  = \"zhan.gu@nus.edu.sg\",\n",
    "     col.main=\"blue\", col.lab=\"black\", col.sub=\"darkgrey\")\n",
    "\n",
    "# Prevalence over Year, from data source: \n",
    "# sped-Special Education Child Count\n",
    "plot(ASD_National$Year[ASD_National$Source == 'sped'], \n",
    "     ASD_National$Prevalence[ASD_National$Source == 'sped'],\n",
    "     type=\"l\", lty=3, lwd=3,  col=\"skyblue\",\n",
    "     xlab=\"Year\", \n",
    "     ylab=\"Prevalence per 1,000 Children\", \n",
    "     ylim = c(0, 30), # Set value range of y axis\n",
    "     main=\"[sped] Prevalence Estimates Over Time\",\n",
    "     sub  = \"zhan.gu@nus.edu.sg\",\n",
    "     col.main=\"blue\", col.lab=\"black\", col.sub=\"darkgrey\")\n",
    "\n",
    "par(mfrow=c(1, 1)) # Reset to one plot on one page"
   ]
  },
  {
   "cell_type": "markdown",
   "metadata": {},
   "source": [
    "<div class=\"alert alert-block alert-info\" style=\"margin-top: 20px\">\n",
    "    <h3>\n",
    "    Data Visualisation (Base Graphic) - <span style=\"color:blue\">[ R ] REPORTED PREVALENCE HAS CHANGED OVER TIME</span> by [ Data Source ]\n",
    "    </h3>\n",
    "</div>\n"
   ]
  },
  {
   "cell_type": "markdown",
   "metadata": {},
   "source": [
    "**Create multiple lines within a single chart**"
   ]
  },
  {
   "cell_type": "code",
   "execution_count": null,
   "metadata": {
    "scrolled": false
   },
   "outputs": [],
   "source": [
    "# ----------------------------------\n",
    "# [National] < Prevalence Varies over Time/Year by Data Source >\n",
    "# ----------------------------------\n",
    "# Create a first line\n",
    "plot(ASD_National$Year[ASD_National$Source == 'addm'], \n",
    "     ASD_National$Prevalence[ASD_National$Source == 'addm'], \n",
    "     col = \"darkblue\", lty = 1, lwd = 2,\n",
    "     type = \"b\", # use dot/point\n",
    "     pch = 0, # dot/point type: http://www.endmemo.com/program/R/pchsymbols.php\n",
    "     xlab=\"Year\", \n",
    "     xlim=c(2000, 2016), # Set x axis value range\n",
    "     ylab=\"Prevalence per 1,000 Children\", \n",
    "     ylim=c(0, 30), # Set y axis value range\n",
    "     main=\"Prevalence Estimates Over Time by Data Source\",\n",
    "     col.main=\"black\", col.lab=\"black\", col.sub=\"grey\",\n",
    "     frame = FALSE, # Remove frame\n",
    "     axes=FALSE # Remove x and y axis\n",
    ")\n",
    "axis(1, at=seq(2000, 2016, 1)) # Customize x axis\n",
    "axis(2, at=seq(0, 30, 5)) # Customize y axis\n",
    "\n",
    "# Add another line\n",
    "lines(ASD_National$Year[ASD_National$Source == 'medi'], \n",
    "      ASD_National$Prevalence[ASD_National$Source == 'medi'], \n",
    "      pch = 1, col = \"orange\", type = \"b\", lty = 1, lwd = 2\n",
    ")\n",
    "# Add another line\n",
    "lines(ASD_National$Year[ASD_National$Source == 'nsch'], \n",
    "      ASD_National$Prevalence[ASD_National$Source == 'nsch'], \n",
    "      pch = 2, col = \"darkred\", type = \"b\", lty = 1, lwd = 2\n",
    ")\n",
    "# Add another line\n",
    "lines(ASD_National$Year[ASD_National$Source == 'sped'], \n",
    "      ASD_National$Prevalence[ASD_National$Source == 'sped'], \n",
    "      pch = 5, col = \"skyblue\", type = \"b\", lty = 1, lwd = 2\n",
    ")\n",
    "# Add a legend to the plot\n",
    "legend(\"topleft\", legend=levels(ASD_National$Source),\n",
    "       col=c(\"darkblue\", \"orange\", \"darkred\", \"skyblue\"), \n",
    "       pch = 20, # dot in a line\n",
    "       lty = 1, # line type\n",
    "       lwd = 2, # line width\n",
    "       cex=0.8, # size of text\n",
    "       bty = 'n' # Without frame\n",
    ")\n"
   ]
  },
  {
   "cell_type": "markdown",
   "metadata": {},
   "source": [
    "R pch: dot/point type: http://www.endmemo.com/program/R/pchsymbols.php\n",
    "\n",
    "R plot colour list: https://www.r-graph-gallery.com/42-colors-names.html\n"
   ]
  },
  {
   "cell_type": "markdown",
   "metadata": {},
   "source": [
    "<div class=\"alert alert-block alert-info\" style=\"margin-top: 20px\">\n",
    "    <h3>\n",
    "    Data Visualisation (Base Graphic) - <span style=\"color:blue\">[ R ] REPORTED PREVALENCE VARIES BY SEX</span> [ Source: ADDM ] over [ Year ]\n",
    "    </h3>\n",
    "</div>\n"
   ]
  },
  {
   "cell_type": "code",
   "execution_count": null,
   "metadata": {},
   "outputs": [],
   "source": [
    "# ----------------------------------\n",
    "# [addm] < Prevalence Varies by Sex >\n",
    "# ----------------------------------\n",
    "# Create a first line\n",
    "plot(ASD_National$Year[ASD_National$Source == 'addm'], \n",
    "     ASD_National$Prevalence[ASD_National$Source == 'addm'], \n",
    "     col = \"grey\", lty = 1, lwd = 2,\n",
    "     type = \"l\", # use dot/point\n",
    "     pch = 0, # dot/point type: http://www.endmemo.com/program/R/pchsymbols.php\n",
    "     xlab=\"Year\", \n",
    "     xlim=c(2000, 2016), # Set x axis value range\n",
    "     ylab=\"Prevalence per 1,000 Children\", \n",
    "     ylim=c(0, 30), # Set y axis value range\n",
    "     main=\"Prevalence Estimates by Sex [ADDM]\",\n",
    "     col.main=\"black\", col.lab=\"black\", col.sub=\"grey\",\n",
    "     frame = FALSE, # Remove frame\n",
    "     axes=FALSE # Remove x and y axis\n",
    ")\n",
    "axis(1, at=seq(2000, 2016, 1)) # Customize x axis\n",
    "axis(2, at=seq(0, 30, 5)) # Customize y axis\n",
    "\n",
    "# Add Female prevalence\n",
    "lines(ASD_National$Year[ASD_National$Source == 'addm'], \n",
    "      ASD_National$Female.Prevalence[ASD_National$Source == 'addm'], \n",
    "      pch = 1, col = \"orange\", type = \"l\", lty = 1, lwd = 2)\n",
    "# Add Female prevalence lower CI\n",
    "lines(ASD_National$Year[ASD_National$Source == 'addm'], \n",
    "      ASD_National$Female.Lower.CI[ASD_National$Source == 'addm'], \n",
    "      pch = 1, col = \"orange\", type = \"l\", lty = 3, lwd = 1)\n",
    "# Add Female prevalence upper CI\n",
    "lines(ASD_National$Year[ASD_National$Source == 'addm'], \n",
    "      ASD_National$Female.Upper.CI[ASD_National$Source == 'addm'], \n",
    "      pch = 1, col = \"orange\", type = \"l\", lty = 3, lwd = 1)\n",
    "\n",
    "# Add Male prevalence\n",
    "lines(ASD_National$Year[ASD_National$Source == 'addm'], \n",
    "      ASD_National$Male.Prevalence[ASD_National$Source == 'addm'], \n",
    "      pch = 1, col = \"blue\", type = \"l\", lty = 1, lwd = 2)\n",
    "# Add Male prevalence lower CI\n",
    "lines(ASD_National$Year[ASD_National$Source == 'addm'], \n",
    "      ASD_National$Male.Lower.CI[ASD_National$Source == 'addm'], \n",
    "      pch = 1, col = \"blue\", type = \"l\", lty = 3, lwd = 1)\n",
    "# Add Male prevalence upper CI\n",
    "lines(ASD_National$Year[ASD_National$Source == 'addm'], \n",
    "      ASD_National$Male.Upper.CI[ASD_National$Source == 'addm'], \n",
    "      pch = 1, col = \"blue\", type = \"l\", lty = 3, lwd = 1)\n",
    "# Add a legend to the plot\n",
    "legend(\"topleft\", legend=c('ADDM Average', 'Female with 95% CI', 'Male with 95% CI'),\n",
    "       col=c(\"grey\", \"orange\", \"blue\"), \n",
    "       #       pch = 20, # dot in a line\n",
    "       lty = 1, # line type\n",
    "       lwd = 2, # line width\n",
    "       cex=0.8, # size of text\n",
    "       bty = 'n' # Without frame\n",
    ")\n"
   ]
  },
  {
   "cell_type": "markdown",
   "metadata": {},
   "source": [
    "<div class=\"alert alert-block alert-info\" style=\"margin-top: 20px\">\n",
    "    <h3>\n",
    "    Data Visualisation (Base Graphic) - <span style=\"color:blue\">[ R ] REPORTED PREVALENCE VARIES BY RACE AND ETHNICITY</span> [ Source: ADDM ]\n",
    "    </h3>\n",
    "</div>\n"
   ]
  },
  {
   "cell_type": "code",
   "execution_count": null,
   "metadata": {},
   "outputs": [],
   "source": [
    "# ----------------------------------\n",
    "# [addm] < Prevalence Varies by Race and Ethnicity >\n",
    "# ----------------------------------\n",
    "# Create a first line\n",
    "plot(ASD_National$Year[ASD_National$Source == 'addm'], \n",
    "     ASD_National$Prevalence[ASD_National$Source == 'addm'], \n",
    "     col = \"grey\", lty = 1, lwd = 2,\n",
    "     type = \"l\", # use dot/point\n",
    "     pch = 0, # dot/point type: http://www.endmemo.com/program/R/pchsymbols.php\n",
    "     xlab=\"Year\", \n",
    "     xlim=c(2000, 2016), # Set x axis value range\n",
    "     ylab=\"Prevalence per 1,000 Children\", \n",
    "     ylim=c(0, 30), # Set y axis value range\n",
    "     main=\"Prevalence Estimates by Race/Ethnicity [ADDM]\",\n",
    "     col.main=\"black\", col.lab=\"black\", col.sub=\"grey\",\n",
    "     frame = FALSE, # Remove frame\n",
    "     axes=FALSE # Remove x and y axis\n",
    ")\n",
    "axis(1, at=seq(2000, 2016, 1)) # Customize x axis\n",
    "axis(2, at=seq(0, 30, 5)) # Customize y axis\n",
    "\n",
    "# R plot colour list: https://www.r-graph-gallery.com/42-colors-names.html\n",
    "\n",
    "# Add Asian.or.Pacific.Islander.Prevalence\n",
    "lines(ASD_National$Year[ASD_National$Source == 'addm'], \n",
    "      ASD_National$Asian.or.Pacific.Islander.Prevalence[ASD_National$Source == 'addm'], \n",
    "      pch = 20, col = \"darkred\", type = \"b\", lty = 1, lwd = 2)\n",
    "# Add Hispanic.Prevalence\n",
    "lines(ASD_National$Year[ASD_National$Source == 'addm'], \n",
    "      ASD_National$Hispanic.Prevalence[ASD_National$Source == 'addm'], \n",
    "      pch = 20, col = \"darkorchid3\", type = \"b\", lty = 1, lwd = 2)\n",
    "# Add Non.hispanic.black.Prevalence\n",
    "lines(ASD_National$Year[ASD_National$Source == 'addm'], \n",
    "      ASD_National$Non.hispanic.black.Prevalence[ASD_National$Source == 'addm'], \n",
    "      pch = 20, col = \"deepskyblue3\", type = \"b\", lty = 1, lwd = 2)\n",
    "# Add Non.hispanic.white.Prevalence\n",
    "lines(ASD_National$Year[ASD_National$Source == 'addm'], \n",
    "      ASD_National$Non.hispanic.white.Prevalence[ASD_National$Source == 'addm'], \n",
    "      pch = 20, col = \"chartreuse3\", type = \"b\", lty = 1, lwd = 2)\n",
    "\n",
    "# Add a legend to the plot\n",
    "legend(\"topleft\", legend=c('ADDM Average', \n",
    "                           'Non-Hispanic White',\n",
    "                           'Non-Hispanic Black',\n",
    "                           'Hispanic', \n",
    "                           'Asian/Pacific Islander'),\n",
    "       col=c(\"grey\", \"chartreuse3\", \"deepskyblue3\", \"darkorchid3\", \"darkred\"), \n",
    "       pch = 20, # dot in a line\n",
    "       lty = 1, # line type\n",
    "       lwd = 2, # line width\n",
    "       cex=0.8, # size of text\n",
    "       bty = 'n' # Without frame\n",
    ")\n"
   ]
  },
  {
   "cell_type": "code",
   "execution_count": null,
   "metadata": {},
   "outputs": [],
   "source": [
    "# Adjust in-line plot size to M x N\n",
    "options(repr.plot.width=8, repr.plot.height=4)"
   ]
  },
  {
   "cell_type": "markdown",
   "metadata": {},
   "source": [
    "<div class=\"alert alert-danger alertdanger\" style=\"margin-top: 20px\">\n",
    "    <h3>\n",
    "        Quiz:\n",
    "    </h3>\n",
    "    <p>\n",
    "        Add 95% Confidence Interval to above plot\n",
    "    </p>\n",
    "</div>"
   ]
  },
  {
   "cell_type": "code",
   "execution_count": null,
   "metadata": {},
   "outputs": [],
   "source": [
    "# Write your code below and press Shift+Enter to execute \n"
   ]
  },
  {
   "cell_type": "markdown",
   "metadata": {},
   "source": [
    "Double-click <b>here</b> for the solution.\n",
    "\n",
    "<!-- The answer is below:\n",
    "\n",
    "# Write your code below and press Shift+Enter to execute \n",
    "# TBD\n",
    "\n",
    "-->"
   ]
  },
  {
   "cell_type": "markdown",
   "metadata": {},
   "source": [
    "<div class=\"alert alert-danger alertdanger\" style=\"margin-top: 20px\">\n",
    "    <h3>\n",
    "        Quiz:\n",
    "    </h3>\n",
    "    <p>\n",
    "        Use talbe() to count No. prevalence records for each Data Source. Then use barplot() to visualize.\n",
    "    </p>\n",
    "</div>"
   ]
  },
  {
   "cell_type": "code",
   "execution_count": null,
   "metadata": {},
   "outputs": [],
   "source": [
    "# Write your code below and press Shift+Enter to execute \n"
   ]
  },
  {
   "cell_type": "markdown",
   "metadata": {},
   "source": [
    "Double-click <b>here</b> for the solution.\n",
    "\n",
    "<!-- The answer is below:\n",
    "\n",
    "# Write your code below and press Shift+Enter to execute \n",
    "table(ASD_National$Source)\n",
    "barplot(table(ASD_National$Source))\n",
    "\n",
    "-->"
   ]
  },
  {
   "cell_type": "code",
   "execution_count": null,
   "metadata": {},
   "outputs": [],
   "source": []
  },
  {
   "cell_type": "markdown",
   "metadata": {},
   "source": [
    "<div class=\"alert alert-danger alertdanger\" style=\"margin-top: 20px\">\n",
    "    <h3>\n",
    "        Quiz:\n",
    "    </h3>\n",
    "    <p>\n",
    "        Which Data Sources are available in which years?\n",
    "    </p>\n",
    "</div>"
   ]
  },
  {
   "cell_type": "code",
   "execution_count": null,
   "metadata": {},
   "outputs": [],
   "source": [
    "# Write your code below and press Shift+Enter to execute \n"
   ]
  },
  {
   "cell_type": "markdown",
   "metadata": {},
   "source": [
    "Double-click <b>here</b> for the solution.\n",
    "\n",
    "<!-- The answer is below:\n",
    "\n",
    "# Write your code below and press Shift+Enter to execute \n",
    "table(ASD_National$Year, ASD_National$Source)\n",
    "plot(table(ASD_National$Year, ASD_National$Source))\n",
    "\n",
    "-->"
   ]
  },
  {
   "cell_type": "markdown",
   "metadata": {},
   "source": [
    "<div class=\"alert alert-danger alertdanger\" style=\"margin-top: 20px\">\n",
    "    <h3>\n",
    "        Quiz:\n",
    "    </h3>\n",
    "    <p>\n",
    "        Which Data Source has breakdown Prevalvence data by sex/gender?\n",
    "    </p>\n",
    "</div>"
   ]
  },
  {
   "cell_type": "code",
   "execution_count": null,
   "metadata": {},
   "outputs": [],
   "source": [
    "# Write your code below and press Shift+Enter to execute \n"
   ]
  },
  {
   "cell_type": "markdown",
   "metadata": {},
   "source": [
    "Double-click <b>here</b> for the solution.\n",
    "\n",
    "<!-- The answer is below:\n",
    "\n",
    "# Write your code below and press Shift+Enter to execute \n",
    "table(ASD_National$Source_Full2, ASD_National$Male.Prevalence)\n",
    "plot(table(ASD_National$Source_Full2, ASD_National$Male.Prevalence))\n",
    "\n",
    "-->"
   ]
  },
  {
   "cell_type": "markdown",
   "metadata": {},
   "source": [
    "<div class=\"alert alert-danger alertdanger\" style=\"margin-top: 20px\">\n",
    "    <h3>\n",
    "        Quiz:\n",
    "    </h3>\n",
    "    <p>\n",
    "        Which Data Source has breakdown Prevalvence data by race and ethnicity?\n",
    "    </p>\n",
    "</div>"
   ]
  },
  {
   "cell_type": "code",
   "execution_count": null,
   "metadata": {},
   "outputs": [],
   "source": [
    "# Write your code below and press Shift+Enter to execute \n"
   ]
  },
  {
   "cell_type": "markdown",
   "metadata": {},
   "source": [
    "Double-click <b>here</b> for the solution.\n",
    "\n",
    "<!-- The answer is below:\n",
    "\n",
    "# Write your code below and press Shift+Enter to execute \n",
    "table(ASD_National$Source, ASD_National$Asian.or.Pacific.Islander.Prevalence)\n",
    "plot(table(ASD_National$Source, ASD_National$Asian.or.Pacific.Islander.Prevalence))\n",
    "\n",
    "-->"
   ]
  },
  {
   "cell_type": "markdown",
   "metadata": {},
   "source": [
    "<div class=\"alert alert-block alert-info\" style=\"margin-top: 20px\">\n",
    "</div>\n",
    "\n"
   ]
  },
  {
   "cell_type": "markdown",
   "metadata": {},
   "source": [
    "## <span style=\"color:blue\">Data Visualisation (Enhanced)</span>\n"
   ]
  },
  {
   "cell_type": "code",
   "execution_count": null,
   "metadata": {},
   "outputs": [],
   "source": [
    "if(!require(ggplot2)){install.packages(\"ggplot2\")}\n",
    "library(ggplot2)"
   ]
  },
  {
   "cell_type": "code",
   "execution_count": null,
   "metadata": {},
   "outputs": [],
   "source": [
    "# Adjust in-line plot size to M x N\n",
    "options(repr.plot.width=8, repr.plot.height=4)"
   ]
  },
  {
   "cell_type": "markdown",
   "metadata": {},
   "source": [
    "<div class=\"alert alert-block alert-info\" style=\"margin-top: 20px\">\n",
    "    <h3>\n",
    "    Data Visualisation (Enhanced) - <span style=\"color:blue\">[ CDC ] Explore the Data</span>\n",
    "    </h3>\n",
    "</div>\n",
    "\n"
   ]
  },
  {
   "cell_type": "markdown",
   "metadata": {},
   "source": [
    "<img src=\"../reference/CDC_ASD/ADV Years Data Available.png\" align=\"left\">\n"
   ]
  },
  {
   "cell_type": "markdown",
   "metadata": {},
   "source": [
    "<div class=\"alert alert-block alert-info\" style=\"margin-top: 20px\">\n",
    "    <h3>\n",
    "    Data Visualisation (Enhanced) - <span style=\"color:blue\">[ R ] Explore the Data</span>\n",
    "    </h3>\n",
    "</div>\n"
   ]
  },
  {
   "cell_type": "code",
   "execution_count": null,
   "metadata": {},
   "outputs": [],
   "source": [
    "# ----------------------------------\n",
    "# [National] < Years Data Available >\n",
    "# ----------------------------------\n",
    "p = ggplot(ASD_National, aes(x = 1, fill = Source)) + \n",
    "  geom_bar() + theme(axis.text.x=element_blank(),  # Hide axis\n",
    "                     axis.ticks.x=element_blank(), # Hide axis\n",
    "                     axis.text.y=element_blank(),  # Hide axis\n",
    "                     axis.ticks.y=element_blank(), # Hide axis\n",
    "                     panel.background = element_blank(), # Remove panel background\n",
    "                     legend.position=\"top\"\n",
    "  ) + \n",
    "  scale_fill_manual(\"Data Source:\", values = c(\"addm\" = \"darkblue\", \n",
    "                                               \"medi\" = \"orange\", \n",
    "                                               \"nsch\" = \"darkred\",\n",
    "                                               \"sped\" = \"skyblue\")) +\n",
    "  labs(x=\"\", y=\"\", title=\"Years Data Available\") + # layers of graphics\n",
    "  facet_grid(facets = Source~Year)\n",
    "# Show plot\n",
    "p"
   ]
  },
  {
   "cell_type": "markdown",
   "metadata": {},
   "source": [
    "<div class=\"alert alert-block alert-info\" style=\"margin-top: 20px\">\n",
    "    <h3>\n",
    "    Data Visualisation (Enhanced) - Barplot\n",
    "    </h3>\n",
    "</div>\n"
   ]
  },
  {
   "cell_type": "code",
   "execution_count": null,
   "metadata": {
    "scrolled": false
   },
   "outputs": [],
   "source": [
    "# Create bar chart using R graphics\n",
    "barplot(table(ASD_National$Source))"
   ]
  },
  {
   "cell_type": "code",
   "execution_count": null,
   "metadata": {},
   "outputs": [],
   "source": [
    "# Create bar chart using ggplot2\n",
    "ggplot(ASD_National, aes(x = Source)) + geom_bar(fill = \"blue\", alpha=0.5)"
   ]
  },
  {
   "cell_type": "code",
   "execution_count": null,
   "metadata": {},
   "outputs": [],
   "source": [
    "# Use color to differentiate sub-group data (Year)\n",
    "ggplot(ASD_National, aes(x = Source, fill = factor(Year))) + geom_bar() + \n",
    "  theme(legend.position=\"top\") + labs(fill = \"Legend: Year\")"
   ]
  },
  {
   "cell_type": "code",
   "execution_count": null,
   "metadata": {},
   "outputs": [],
   "source": [
    "# Split chart to mutiple columns by using: facets = . ~ Year\n",
    "ggplot(ASD_National, aes(x = Source, fill = Source)) + geom_bar() + \n",
    "  theme(legend.position=\"top\") + \n",
    "  scale_fill_manual(\"Data Source:\", values = c(\"addm\" = \"darkblue\", \n",
    "                                               \"medi\" = \"orange\", \n",
    "                                               \"nsch\" = \"darkred\",\n",
    "                                               \"sped\" = \"skyblue\")) +\n",
    "  facet_grid(facets = . ~ Year)"
   ]
  },
  {
   "cell_type": "code",
   "execution_count": null,
   "metadata": {
    "scrolled": false
   },
   "outputs": [],
   "source": [
    "# Split chart to mutiple rows and columns by using: facets = Source ~ Year\n",
    "ggplot(ASD_National, aes(x = Source, fill = Source)) + geom_bar() + \n",
    "  theme(legend.position=\"top\") + \n",
    "  scale_fill_manual(\"Data Source:\", values = c(\"addm\" = \"darkblue\", \n",
    "                                               \"medi\" = \"orange\", \n",
    "                                               \"nsch\" = \"darkred\",\n",
    "                                               \"sped\" = \"skyblue\")) +\n",
    "  facet_grid(facets = Source~Year)"
   ]
  },
  {
   "cell_type": "markdown",
   "metadata": {},
   "source": [
    "**Barplot / Column plot**"
   ]
  },
  {
   "cell_type": "markdown",
   "metadata": {},
   "source": [
    "<div class=\"alert alert-block alert-info\" style=\"margin-top: 20px\">\n",
    "    <h3>\n",
    "    Data Visualisation (Enhanced) - <span style=\"color:blue\">[ CDC ] REPORTED PREVALENCE VARIES BY SEX</span>\n",
    "    </h3>\n",
    "</div>\n",
    "\n"
   ]
  },
  {
   "cell_type": "markdown",
   "metadata": {},
   "source": [
    "<img src=\"../reference/CDC_ASD/ADV [addm] [2014] Prevalence Estimates by Sex.png\" align=\"left\">\n"
   ]
  },
  {
   "cell_type": "markdown",
   "metadata": {},
   "source": [
    "<div class=\"alert alert-block alert-info\" style=\"margin-top: 20px\">\n",
    "    <h3>\n",
    "    Data Visualisation (Enhanced) - <span style=\"color:blue\">[ R ] REPORTED PREVALENCE VARIES BY SEX</span> [ Source: ADDM ] [ Year: 2014 ]\n",
    "    </h3>\n",
    "</div>\n"
   ]
  },
  {
   "cell_type": "code",
   "execution_count": null,
   "metadata": {
    "scrolled": true
   },
   "outputs": [],
   "source": [
    "# Filter only data of ADDM\n",
    "ASD_National_ADDM <- subset(ASD_National, Source == 'addm')\n",
    "#\n",
    "ASD_National_ADDM"
   ]
  },
  {
   "cell_type": "code",
   "execution_count": null,
   "metadata": {},
   "outputs": [],
   "source": [
    "# Construct a new re-shaped dataframe of [ Source: ADDM ] [Year: 2014]\n",
    "#\n",
    "Process_Source = 'addm'\n",
    "Process_Year = 2014"
   ]
  },
  {
   "cell_type": "markdown",
   "metadata": {},
   "source": [
    "**Define a function to create a re-shaped dataframe:**"
   ]
  },
  {
   "cell_type": "code",
   "execution_count": null,
   "metadata": {},
   "outputs": [],
   "source": [
    "Function_Reshape_ASD_National_ADDM <- function(Process_Source, Process_Year) {\n",
    "    # Create the vectors:\n",
    "    Sex.Group  = c('Overall', \n",
    "                   'Boys', \n",
    "                   'Girls')\n",
    "    Sex.Group\n",
    "\n",
    "    Prevalence = c(ASD_National_ADDM$Prevalence[ASD_National_ADDM$Year == Process_Year],\n",
    "                   ASD_National_ADDM$Male.Prevalence[ASD_National_ADDM$Year == Process_Year],\n",
    "                   ASD_National_ADDM$Female.Prevalence[ASD_National_ADDM$Year == Process_Year])\n",
    "    Prevalence\n",
    "\n",
    "    # Combine all the vectors into a data frame:\n",
    "    ASD_National_ADDM_Reshaped_DF = data.frame(Sex.Group, Prevalence, stringsAsFactors=T)\n",
    "\n",
    "    # Add new columns:\n",
    "    ASD_National_ADDM_Reshaped_DF$Source = Process_Source\n",
    "    ASD_National_ADDM_Reshaped_DF$Year = Process_Year\n",
    "    return(ASD_National_ADDM_Reshaped_DF) # Return a dataframe\n",
    "}"
   ]
  },
  {
   "cell_type": "markdown",
   "metadata": {},
   "source": [
    "**Use defined function <span style=\"color:blue\">Function_Reshape_ASD_National_ADDM( )</span> for a specific year:**"
   ]
  },
  {
   "cell_type": "code",
   "execution_count": null,
   "metadata": {
    "scrolled": false
   },
   "outputs": [],
   "source": [
    "ASD_National_ADDM_Reshaped_DF <- Function_Reshape_ASD_National_ADDM(Process_Source = 'addm', Process_Year = 2014)\n",
    "ASD_National_ADDM_Reshaped_DF"
   ]
  },
  {
   "cell_type": "markdown",
   "metadata": {},
   "source": [
    "Visualise: **Prevalence Estimates by Sex [ Source: ADDM ] [ Year: 2014 ]**"
   ]
  },
  {
   "cell_type": "code",
   "execution_count": null,
   "metadata": {},
   "outputs": [],
   "source": [
    "# Adjust in-line plot size to M x N\n",
    "options(repr.plot.width=8, repr.plot.height=3)"
   ]
  },
  {
   "cell_type": "code",
   "execution_count": null,
   "metadata": {},
   "outputs": [],
   "source": [
    "ggplot(ASD_National_ADDM_Reshaped_DF, aes(Sex.Group, Prevalence)) +\n",
    "  geom_col(aes(fill = Sex.Group, colours = )) + # Use column chart\n",
    "  geom_text(aes(label = Prevalence), vjust = +0.5, hjust = -0.2, size = 3) +\n",
    "  scale_y_continuous(name = \"Prevalence per 1,000 Children\",\n",
    "                     breaks = seq(0, 30, 5),\n",
    "                     limits=c(0, 30)) +\n",
    "  scale_x_discrete(name = \"\") +\n",
    "  scale_fill_manual(\"Sex Group:\", values = c(\"Overall\" = \"purple\", \n",
    "                                             \"Boys\" = \"blue\",\n",
    "                                             \"Girls\" = \"orange\")) + \n",
    "  ggtitle(\"Prevalence Estimates by Sex [ Source: ADDM ] [ Year: 2014 ]\") +\n",
    "  theme(title = element_text(face = 'bold.italic', color = \"darkslategrey\"), \n",
    "        axis.title = element_text(face = 'plain', color = \"darkslategrey\"),\n",
    "        legend.position = 'none') + \n",
    "  coord_flip()  # Rotate chart\n",
    "#  facet_grid(facets = Year ~ .)"
   ]
  },
  {
   "cell_type": "markdown",
   "metadata": {},
   "source": [
    "<div class=\"alert alert-block alert-info\" style=\"margin-top: 20px\">\n",
    "    <h3>\n",
    "    Data Visualisation (Enhanced) - <span style=\"color:blue\">[ R ] REPORTED PREVALENCE VARIES BY SEX</span> [ Source: ADDM ] [ Year: ALL ]\n",
    "    </h3>\n",
    "</div>\n"
   ]
  },
  {
   "cell_type": "code",
   "execution_count": null,
   "metadata": {},
   "outputs": [],
   "source": [
    "# Create a new datafarme to hold re-shaped data for all years.\n",
    "ASD_National_ADDM_Reshaped_DF_All = ASD_National_ADDM_Reshaped_DF # Loaded with initial [ Year: 2014 ] data"
   ]
  },
  {
   "cell_type": "code",
   "execution_count": null,
   "metadata": {
    "scrolled": true
   },
   "outputs": [],
   "source": [
    "Process_Source = 'addm'\n",
    "unique(ASD_National_ADDM$Year)"
   ]
  },
  {
   "cell_type": "markdown",
   "metadata": {},
   "source": [
    "**Use defined function <span style=\"color:blue\">Function_Reshape_ASD_National_ADDM( )</span> for <span style=\"color:blue\">ALL remaining</span> years:**"
   ]
  },
  {
   "cell_type": "code",
   "execution_count": null,
   "metadata": {
    "scrolled": false
   },
   "outputs": [],
   "source": [
    "ASD_National_ADDM_Reshaped_DF <- Function_Reshape_ASD_National_ADDM(Process_Source = 'addm', Process_Year = 2012)\n",
    "ASD_National_ADDM_Reshaped_DF\n",
    "# Append rows to existing dataframe, using Row Bind function: rbind()\n",
    "ASD_National_ADDM_Reshaped_DF_All = rbind(ASD_National_ADDM_Reshaped_DF_All, ASD_National_ADDM_Reshaped_DF)"
   ]
  },
  {
   "cell_type": "code",
   "execution_count": null,
   "metadata": {
    "scrolled": false
   },
   "outputs": [],
   "source": [
    "ASD_National_ADDM_Reshaped_DF <- Function_Reshape_ASD_National_ADDM(Process_Source = 'addm', Process_Year = 2010)\n",
    "ASD_National_ADDM_Reshaped_DF\n",
    "# Append rows to existing dataframe, using Row Bind function: rbind()\n",
    "ASD_National_ADDM_Reshaped_DF_All = rbind(ASD_National_ADDM_Reshaped_DF_All, ASD_National_ADDM_Reshaped_DF)"
   ]
  },
  {
   "cell_type": "code",
   "execution_count": null,
   "metadata": {
    "scrolled": false
   },
   "outputs": [],
   "source": [
    "ASD_National_ADDM_Reshaped_DF <- Function_Reshape_ASD_National_ADDM(Process_Source = 'addm', Process_Year = 2008)\n",
    "ASD_National_ADDM_Reshaped_DF\n",
    "# Append rows to existing dataframe, using Row Bind function: rbind()\n",
    "ASD_National_ADDM_Reshaped_DF_All = rbind(ASD_National_ADDM_Reshaped_DF_All, ASD_National_ADDM_Reshaped_DF)"
   ]
  },
  {
   "cell_type": "code",
   "execution_count": null,
   "metadata": {
    "scrolled": false
   },
   "outputs": [],
   "source": [
    "ASD_National_ADDM_Reshaped_DF <- Function_Reshape_ASD_National_ADDM(Process_Source = 'addm', Process_Year = 2006)\n",
    "ASD_National_ADDM_Reshaped_DF\n",
    "# Append rows to existing dataframe, using Row Bind function: rbind()\n",
    "ASD_National_ADDM_Reshaped_DF_All = rbind(ASD_National_ADDM_Reshaped_DF_All, ASD_National_ADDM_Reshaped_DF)"
   ]
  },
  {
   "cell_type": "code",
   "execution_count": null,
   "metadata": {
    "scrolled": false
   },
   "outputs": [],
   "source": [
    "ASD_National_ADDM_Reshaped_DF <- Function_Reshape_ASD_National_ADDM(Process_Source = 'addm', Process_Year = 2004)\n",
    "ASD_National_ADDM_Reshaped_DF\n",
    "# Append rows to existing dataframe, using Row Bind function: rbind()\n",
    "ASD_National_ADDM_Reshaped_DF_All = rbind(ASD_National_ADDM_Reshaped_DF_All, ASD_National_ADDM_Reshaped_DF)"
   ]
  },
  {
   "cell_type": "code",
   "execution_count": null,
   "metadata": {
    "scrolled": false
   },
   "outputs": [],
   "source": [
    "ASD_National_ADDM_Reshaped_DF <- Function_Reshape_ASD_National_ADDM(Process_Source = 'addm', Process_Year = 2002)\n",
    "ASD_National_ADDM_Reshaped_DF\n",
    "# Append rows to existing dataframe, using Row Bind function: rbind()\n",
    "ASD_National_ADDM_Reshaped_DF_All = rbind(ASD_National_ADDM_Reshaped_DF_All, ASD_National_ADDM_Reshaped_DF)"
   ]
  },
  {
   "cell_type": "code",
   "execution_count": null,
   "metadata": {
    "scrolled": false
   },
   "outputs": [],
   "source": [
    "ASD_National_ADDM_Reshaped_DF <- Function_Reshape_ASD_National_ADDM(Process_Source = 'addm', Process_Year = 2000)\n",
    "ASD_National_ADDM_Reshaped_DF\n",
    "# Append rows to existing dataframe, using Row Bind function: rbind()\n",
    "ASD_National_ADDM_Reshaped_DF_All = rbind(ASD_National_ADDM_Reshaped_DF_All, ASD_National_ADDM_Reshaped_DF)"
   ]
  },
  {
   "cell_type": "code",
   "execution_count": null,
   "metadata": {
    "scrolled": true
   },
   "outputs": [],
   "source": [
    "# Re-shaped ADDM data for ALL years:\n",
    "ASD_National_ADDM_Reshaped_DF_All"
   ]
  },
  {
   "cell_type": "markdown",
   "metadata": {},
   "source": [
    "Visualise: **Prevalence Estimates by Sex [ Source: ADDM ] [ Year: ALL ]**"
   ]
  },
  {
   "cell_type": "code",
   "execution_count": null,
   "metadata": {},
   "outputs": [],
   "source": [
    "# Adjust in-line plot size to M x N\n",
    "options(repr.plot.width=8, repr.plot.height=6)"
   ]
  },
  {
   "cell_type": "code",
   "execution_count": null,
   "metadata": {},
   "outputs": [],
   "source": [
    "ggplot(ASD_National_ADDM_Reshaped_DF_All, aes(Sex.Group, Prevalence)) +\n",
    "  geom_col(aes(fill = Sex.Group, colours = )) + # Use column chart\n",
    "  geom_text(aes(label = Prevalence), vjust = +0.5, hjust = -0.2, size = 2.5) +\n",
    "  scale_y_continuous(name = \"Prevalence per 1,000 Children\",\n",
    "                     breaks = seq(0, 30, 5),\n",
    "                     limits=c(0, 30)) +\n",
    "  scale_x_discrete(name = \"\") +\n",
    "  scale_fill_manual(\"Sex Group:\", values = c(\"Overall\" = \"purple\", \n",
    "                                             \"Boys\" = \"blue\",\n",
    "                                             \"Girls\" = \"orange\")) + \n",
    "  ggtitle(\"Prevalence Estimates by Sex [ Source: ADDM ] [ Year: ALL ]\") +\n",
    "  theme(title = element_text(face = 'bold.italic', color = \"darkslategrey\"), \n",
    "        axis.title = element_text(face = 'plain', color = \"darkslategrey\"),\n",
    "        legend.position = 'none') + \n",
    "  coord_flip() + # Rotate chart\n",
    "  facet_grid(facets = Year ~ .)\n"
   ]
  },
  {
   "cell_type": "markdown",
   "metadata": {},
   "source": [
    "<div class=\"alert alert-block alert-info\" style=\"margin-top: 20px\">\n",
    "    <h3>\n",
    "    Data Visualisation (Enhanced) - Histogram (distribution of binned continuous variable)\n",
    "    </h3>\n",
    "</div>\n"
   ]
  },
  {
   "cell_type": "code",
   "execution_count": null,
   "metadata": {},
   "outputs": [],
   "source": [
    "# Adjust in-line plot size to M x N\n",
    "options(repr.plot.width=8, repr.plot.height=4)"
   ]
  },
  {
   "cell_type": "code",
   "execution_count": null,
   "metadata": {
    "scrolled": false
   },
   "outputs": [],
   "source": [
    "# Create histogram using R graphics\n",
    "hist(ASD_National$Prevalence)"
   ]
  },
  {
   "cell_type": "code",
   "execution_count": null,
   "metadata": {},
   "outputs": [],
   "source": [
    "# Create histogram using ggplot2\n",
    "ggplot(ASD_National, aes(x=Prevalence)) + \n",
    "  geom_histogram(binwidth = 5, fill = \"blue\", color = \"lightgrey\", alpha=0.5)"
   ]
  },
  {
   "cell_type": "code",
   "execution_count": null,
   "metadata": {},
   "outputs": [],
   "source": [
    "# Use color to differentiate sub-group data (Data Source)\n",
    "ggplot(ASD_National, aes(x=Prevalence, fill = Source)) +\n",
    "  geom_histogram(binwidth = 5) +\n",
    "  theme_bw() + theme(legend.position=\"right\") +\n",
    "  scale_fill_manual(\"Data Source:\", values = c(\"addm\" = \"darkblue\", \n",
    "                                               \"medi\" = \"orange\", \n",
    "                                               \"nsch\" = \"darkred\",\n",
    "                                               \"sped\" = \"skyblue\"))"
   ]
  },
  {
   "cell_type": "code",
   "execution_count": null,
   "metadata": {},
   "outputs": [],
   "source": [
    "# Plot sub-group data side by side, using position=\"dodge\"\n",
    "ggplot(ASD_National, aes(x=Prevalence, fill = Source)) +\n",
    "  geom_histogram(binwidth = 5, position=\"dodge\") +\n",
    "  theme_bw() + theme(legend.position=\"right\") +\n",
    "  scale_fill_manual(\"Data Source:\", values = c(\"addm\" = \"darkblue\", \n",
    "                                               \"medi\" = \"orange\", \n",
    "                                               \"nsch\" = \"darkred\",\n",
    "                                               \"sped\" = \"skyblue\"))"
   ]
  },
  {
   "cell_type": "code",
   "execution_count": null,
   "metadata": {},
   "outputs": [],
   "source": [
    "# Split plots using facet_grid()\n",
    "ggplot(ASD_National, aes(x=Prevalence, fill = Source)) +\n",
    "  geom_histogram(binwidth = 5) +\n",
    "  theme(legend.position=\"right\") + \n",
    "  scale_fill_manual(\"Data Source:\", values = c(\"addm\" = \"darkblue\", \n",
    "                                               \"medi\" = \"orange\", \n",
    "                                               \"nsch\" = \"darkred\",\n",
    "                                               \"sped\" = \"skyblue\")) +\n",
    "  facet_grid(facets = Source ~ .)"
   ]
  },
  {
   "cell_type": "code",
   "execution_count": null,
   "metadata": {},
   "outputs": [],
   "source": [
    "# Add title and caption using ggplot2\n",
    "ggplot(ASD_National, aes(x=Prevalence, fill = Source)) +\n",
    "  geom_histogram(binwidth = 5) +\n",
    "  theme(legend.position=\"top\") + \n",
    "  scale_fill_manual(\"Data Source:\", values = c(\"addm\" = \"darkblue\", \n",
    "                                               \"medi\" = \"orange\", \n",
    "                                               \"nsch\" = \"darkred\",\n",
    "                                               \"sped\" = \"skyblue\")) + \n",
    "  labs(x=\"Prevalence per 1,000 Children\",\n",
    "       y=\"Frequency\",\n",
    "       title=\"Distribution of Prevalence by Data Source\") +\n",
    "  facet_grid(facets = Source ~ .)"
   ]
  },
  {
   "cell_type": "markdown",
   "metadata": {},
   "source": [
    "<div class=\"alert alert-block alert-info\" style=\"margin-top: 20px\">\n",
    "    <h3>\n",
    "    Data Visualisation (Enhanced) - Density plot (distribution for continuous variable normalized to 100% area under curve)\n",
    "    </h3>\n",
    "</div>\n"
   ]
  },
  {
   "cell_type": "code",
   "execution_count": null,
   "metadata": {},
   "outputs": [],
   "source": [
    "# Adjust in-line plot size to M x N\n",
    "# options(repr.plot.width=8, repr.plot.height=4)"
   ]
  },
  {
   "cell_type": "code",
   "execution_count": null,
   "metadata": {
    "scrolled": false
   },
   "outputs": [],
   "source": [
    "# Create plot using R graphics\n",
    "plot(density(ASD_National$Prevalence))\n",
    "# Optionally, overlay histogram\n",
    "hist(ASD_National$Prevalence, probability = TRUE, add = TRUE)"
   ]
  },
  {
   "cell_type": "code",
   "execution_count": null,
   "metadata": {},
   "outputs": [],
   "source": [
    "# Create plot using ggplot2\n",
    "p <- ggplot(ASD_National) +\n",
    "  geom_density(aes(x=Prevalence), fill = \"grey\", color = \"white\", alpha=0.75) \n",
    "p # Show"
   ]
  },
  {
   "cell_type": "code",
   "execution_count": null,
   "metadata": {},
   "outputs": [],
   "source": [
    "# Optionally, overlay histogram\n",
    "p <- p + geom_histogram(aes(x = Prevalence, y = ..density..), binwidth = 1, fill = \"blue\", colour = \"lightgrey\", alpha=0.4) \n",
    "p # Show"
   ]
  },
  {
   "cell_type": "code",
   "execution_count": null,
   "metadata": {},
   "outputs": [],
   "source": [
    "# Optionally, overlay Prevalence mean\n",
    "p <- p + geom_vline(aes(xintercept = mean(ASD_National$Prevalence)), colour=\"darkorange\")\n",
    "p # Show"
   ]
  },
  {
   "cell_type": "code",
   "execution_count": null,
   "metadata": {},
   "outputs": [],
   "source": [
    "# Lastly, add other captions\n",
    "p <- p + coord_cartesian(xlim=c(0, 35), ylim=c(0, 0.2)) +\n",
    "  labs(x=\"Prevalence per 1,000 Children\", y=\"Density\", \n",
    "       title=paste(\"Density of Prevalence ( mean =\", mean(ASD_National$Prevalence), \")\")) +\n",
    "  theme(title = element_text(face = 'bold.italic', color = \"darkslategrey\"), \n",
    "        axis.title = element_text(face = 'plain', color = \"darkslategrey\"))\n",
    "p # Show"
   ]
  },
  {
   "cell_type": "markdown",
   "metadata": {},
   "source": [
    "**< Prevelance distribution by Data Source >**"
   ]
  },
  {
   "cell_type": "code",
   "execution_count": null,
   "metadata": {},
   "outputs": [],
   "source": [
    "# Prevelance distribution by Data Source\n",
    "ggplot(ASD_National) + geom_density(aes(x = Prevalence, fill = Source), alpha = 0.5) + \n",
    "  scale_fill_manual(\"Data Source:\", values = c(\"addm\" = \"darkblue\", \n",
    "                                               \"medi\" = \"orange\", \n",
    "                                               \"nsch\" = \"darkred\",\n",
    "                                               \"sped\" = \"skyblue\")) +\n",
    "  labs(x=\"Prevalence per 1,000 Children\",\n",
    "       y=\"Density\",\n",
    "       title=\"Density of Prevalence by Data Source\") +\n",
    "  theme(title = element_text(face = 'bold.italic', color = \"darkslategrey\"), \n",
    "        axis.title = element_text(face = 'plain', color = \"darkslategrey\"))"
   ]
  },
  {
   "cell_type": "markdown",
   "metadata": {},
   "source": [
    "**< Prevelance distribution by Data Source with split >**"
   ]
  },
  {
   "cell_type": "code",
   "execution_count": null,
   "metadata": {},
   "outputs": [],
   "source": [
    "# Prevelance distribution by Data Source with split\n",
    "ggplot(ASD_National) + geom_density(aes(x = Prevalence, fill = Source), colour = 'lightgrey', alpha = 0.75) + \n",
    "  scale_fill_manual(\"Data Source:\", values = c(\"addm\" = \"darkblue\", \n",
    "                                               \"medi\" = \"orange\", \n",
    "                                               \"nsch\" = \"darkred\",\n",
    "                                               \"sped\" = \"skyblue\")) + \n",
    "  labs(x=\"Prevalence per 1,000 Children\",\n",
    "       y=\"Density\",\n",
    "       title=\"Density of Prevalence by Data Source\") +\n",
    "  theme(title = element_text(face = 'bold.italic', color = \"darkslategrey\"), \n",
    "        axis.title = element_text(face = 'plain', color = \"darkslategrey\")) + \n",
    "  facet_wrap(~Source)"
   ]
  },
  {
   "cell_type": "markdown",
   "metadata": {},
   "source": [
    "<div class=\"alert alert-block alert-info\" style=\"margin-top: 20px\">\n",
    "    <h3>\n",
    "    Data Visualisation (Enhanced) - Box plot\n",
    "    </h3>\n",
    "</div>\n"
   ]
  },
  {
   "cell_type": "code",
   "execution_count": null,
   "metadata": {},
   "outputs": [],
   "source": [
    "# Adjust in-line plot size to M x N\n",
    "# options(repr.plot.width=8, repr.plot.height=4)"
   ]
  },
  {
   "cell_type": "code",
   "execution_count": null,
   "metadata": {
    "scrolled": false
   },
   "outputs": [],
   "source": [
    "# Create plot using R graphics\n",
    "# Create 'Prevalence' box plots break by 'Source'\n",
    "boxplot(ASD_National$Prevalence ~ ASD_National$Source,\n",
    "        main = \"National ASD Prevalence by Data Source\",\n",
    "        xlab = \"Data Source\",\n",
    "        ylab = \"Prevalence per 1,000 Children\",\n",
    "        sub  = \"Year 2000 - 2016\",\n",
    "        col.main=\"blue\", col.lab=\"black\", col.sub=\"darkgrey\")"
   ]
  },
  {
   "cell_type": "code",
   "execution_count": null,
   "metadata": {
    "scrolled": false
   },
   "outputs": [],
   "source": [
    "# Create box plot using ggplot2\n",
    "ggplot(ASD_National, aes(x = Source, y = Prevalence, fill = Source)) + \n",
    "  geom_boxplot(alpha = 0.5) + \n",
    "  scale_y_continuous(name = \"Prevalence per 1,000 Children\",\n",
    "                     breaks = seq(0, 30, 5),\n",
    "                     limits=c(0, 30)) +\n",
    "  scale_x_discrete(name = \"Data Source (Year 2000 - 2016)\") +\n",
    "  ggtitle(\"National ASD Prevalence by Data Source\") +\n",
    "  theme(title = element_text(face = 'bold.italic', color = \"darkslategrey\"), \n",
    "        axis.title = element_text(face = 'plain', color = \"darkslategrey\"))\n"
   ]
  },
  {
   "cell_type": "markdown",
   "metadata": {},
   "source": [
    "<div class=\"alert alert-block alert-info\" style=\"margin-top: 20px\">\n",
    "    <h3>\n",
    "    Data Visualisation (Enhanced) - Line chart\n",
    "    </h3>\n",
    "</div>\n"
   ]
  },
  {
   "cell_type": "markdown",
   "metadata": {},
   "source": [
    "<div class=\"alert alert-block alert-info\" style=\"margin-top: 20px\">\n",
    "    <h3>\n",
    "    Data Visualisation (Enhanced) - <span style=\"color:blue\">[ CDC ] REPORTED PREVALENCE HAS CHANGED OVER TIME</span>\n",
    "    </h3>\n",
    "</div>\n",
    "\n"
   ]
  },
  {
   "cell_type": "markdown",
   "metadata": {},
   "source": [
    "<img src=\"../reference/CDC_ASD/ADV [addm] Prevalence Estimates Over Time.png\" align=\"left\">\n"
   ]
  },
  {
   "cell_type": "markdown",
   "metadata": {},
   "source": [
    "<div class=\"alert alert-block alert-info\" style=\"margin-top: 20px\">\n",
    "    <h3>\n",
    "    Data Visualisation (Enhanced) - <span style=\"color:blue\">[ R ] REPORTED PREVALENCE HAS CHANGED OVER TIME</span> [Source: ALL]\n",
    "    </h3>\n",
    "</div>\n"
   ]
  },
  {
   "cell_type": "code",
   "execution_count": null,
   "metadata": {},
   "outputs": [],
   "source": [
    "# Adjust in-line plot size to M x N\n",
    "# options(repr.plot.width=8, repr.plot.height=4)"
   ]
  },
  {
   "cell_type": "code",
   "execution_count": null,
   "metadata": {},
   "outputs": [],
   "source": [
    "# ----------------------------------\n",
    "# Build chart/plot layer by layer\n",
    "# ----------------------------------\n",
    "\n",
    "# Define a ggplot graphic object; provide data and x y for use\n",
    "p <- ggplot(ASD_National, aes(x = Year, y = Prevalence))\n",
    "# Show plot\n",
    "p\n"
   ]
  },
  {
   "cell_type": "code",
   "execution_count": null,
   "metadata": {},
   "outputs": [],
   "source": [
    "# Select (add) line chart type:\n",
    "p <- p + geom_line(aes(color = Source),\n",
    "                   linetype = \"solid\",  # http://sape.inf.usi.ch/quick-reference/ggplot2/linetype\n",
    "                   size=1,\n",
    "                   alpha=0.5) \n",
    "# Show plot\n",
    "p"
   ]
  },
  {
   "cell_type": "code",
   "execution_count": null,
   "metadata": {},
   "outputs": [],
   "source": [
    "# Select (add) points to chart:\n",
    "p <- p + geom_point(aes(color = Source),\n",
    "                    size=2, \n",
    "                    shape=20,\n",
    "                    alpha=0.5) \n",
    "# Show plot\n",
    "p"
   ]
  },
  {
   "cell_type": "code",
   "execution_count": null,
   "metadata": {},
   "outputs": [],
   "source": [
    "# Customize line color and legend name:\n",
    "p <- p + scale_color_manual(\"Data Source:\", \n",
    "                            labels = c('ADDM', 'MEDI', 'NSCH', 'SPED'),\n",
    "                            values = c(\"addm\" = \"darkblue\", \n",
    "                                       \"medi\" = \"orange\", \n",
    "                                       \"nsch\" = \"darkred\",\n",
    "                                       \"sped\" = \"skyblue\"))\n",
    "# Show plot\n",
    "p"
   ]
  },
  {
   "cell_type": "code",
   "execution_count": null,
   "metadata": {},
   "outputs": [],
   "source": [
    "# Adjust x and y axis, scale, limit and labels:\n",
    "p <- p + scale_y_continuous(name = \"Prevalence per 1,000 Children\",\n",
    "                            breaks = seq(0, 30, 5),\n",
    "                            limits=c(0, 30)) +\n",
    "  scale_x_continuous(name = \"Year\", \n",
    "                     breaks = seq(2000, 2016, 1), \n",
    "                     limits = c(2000, 2016)) \n",
    "# Show plot\n",
    "p"
   ]
  },
  {
   "cell_type": "code",
   "execution_count": null,
   "metadata": {},
   "outputs": [],
   "source": [
    "# Customise chart title:\n",
    "p <- p + ggtitle(\"Prevalence Estimates Over Time [ Source: ALL ]\") \n",
    "# Show plot\n",
    "p"
   ]
  },
  {
   "cell_type": "code",
   "execution_count": null,
   "metadata": {},
   "outputs": [],
   "source": [
    "# Customise chart title and axis labels:\n",
    "p <- p + theme(title = element_text(face = 'bold.italic', color = \"darkslategrey\"), \n",
    "               axis.title = element_text(face = 'plain', color = \"darkslategrey\")) \n",
    "# Show plot\n",
    "p"
   ]
  },
  {
   "cell_type": "markdown",
   "metadata": {},
   "source": [
    "**Consolidate above code into one chunk:**"
   ]
  },
  {
   "cell_type": "code",
   "execution_count": null,
   "metadata": {},
   "outputs": [],
   "source": [
    "# ----------------------------------\n",
    "# Consolidate above code into one chunk\n",
    "# ----------------------------------\n",
    "p <- ggplot(ASD_National, aes(x = Year, y = Prevalence)) +\n",
    "  geom_line(aes(color = Source),\n",
    "            linetype = \"solid\",  # http://sape.inf.usi.ch/quick-reference/ggplot2/linetype\n",
    "            size=1,\n",
    "            alpha=0.5) +\n",
    "  geom_point(aes(color = Source),\n",
    "             size=2, \n",
    "             shape=20,\n",
    "             alpha=0.5) + \n",
    "  scale_color_manual(\"Data Source:\", \n",
    "                     labels = c('ADDM', 'MEDI', 'NSCH', 'SPED'),\n",
    "                     values = c(\"addm\" = \"darkblue\", \n",
    "                                \"medi\" = \"orange\", \n",
    "                                \"nsch\" = \"darkred\",\n",
    "                                \"sped\" = \"skyblue\")) +\n",
    "  scale_y_continuous(name = \"Prevalence per 1,000 Children\",\n",
    "                     breaks = seq(0, 30, 5),\n",
    "                     limits=c(0, 30)) +\n",
    "  scale_x_continuous(name = \"Year\", \n",
    "                     breaks = seq(2000, 2016, 1), \n",
    "                     limits = c(2000, 2016)) +\n",
    "  ggtitle(\"Prevalence Estimates Over Time [ Source: ALL ]\") +\n",
    "  theme(title = element_text(face = 'bold.italic', color = \"darkslategrey\"), \n",
    "        axis.title = element_text(face = 'plain', color = \"darkslategrey\"))\n",
    "# Show plot\n",
    "p"
   ]
  },
  {
   "cell_type": "markdown",
   "metadata": {},
   "source": [
    "**Optionally, display data values/labels:**"
   ]
  },
  {
   "cell_type": "code",
   "execution_count": null,
   "metadata": {
    "scrolled": false
   },
   "outputs": [],
   "source": [
    "# Optionally, displaydata values/labels\n",
    "p + geom_text(aes(label = round(Prevalence, 1)), # Values are rounded for display\n",
    "              vjust = \"outward\", \n",
    "              #          nudge_y = 0.2, # optionally life the text\n",
    "              hjust = \"outward\", \n",
    "              check_overlap = TRUE,\n",
    "              size = 3, # size of textual data label\n",
    "              col = 'darkslategrey')"
   ]
  },
  {
   "cell_type": "markdown",
   "metadata": {},
   "source": [
    "<div class=\"alert alert-block alert-info\" style=\"margin-top: 20px\">\n",
    "    <h3>\n",
    "    Data Visualisation (Enhanced) - Dynamic Visualisation with plotly\n",
    "    </h3>\n",
    "</div>\n"
   ]
  },
  {
   "cell_type": "code",
   "execution_count": null,
   "metadata": {
    "scrolled": false
   },
   "outputs": [],
   "source": [
    "if(!require(plotly)){install.packages(\"plotly\")}\n",
    "library(plotly)"
   ]
  },
  {
   "cell_type": "markdown",
   "metadata": {},
   "source": [
    "**Create ployly graph object from ggplot graph object:**"
   ]
  },
  {
   "cell_type": "code",
   "execution_count": null,
   "metadata": {},
   "outputs": [],
   "source": [
    "p_dynamic <- p\n",
    "p_dynamic <- ggplotly(p_dynamic)\n",
    "p_dynamic"
   ]
  },
  {
   "cell_type": "code",
   "execution_count": null,
   "metadata": {},
   "outputs": [],
   "source": [
    "p_dynamic"
   ]
  },
  {
   "cell_type": "markdown",
   "metadata": {},
   "source": [
    "<div class=\"alert alert-block alert-info\" style=\"margin-top: 20px\">\n",
    "    <h3>\n",
    "    Data Visualisation (Enhanced) - Use themes as aesthetic template\n",
    "    </h3>\n",
    "</div>\n"
   ]
  },
  {
   "cell_type": "code",
   "execution_count": null,
   "metadata": {},
   "outputs": [],
   "source": [
    "if(!require(ggthemes)){install.packages(\"ggthemes\")}\n",
    "library('ggthemes')"
   ]
  },
  {
   "cell_type": "markdown",
   "metadata": {},
   "source": [
    "**Theme of the Economist magazine:**"
   ]
  },
  {
   "cell_type": "code",
   "execution_count": null,
   "metadata": {},
   "outputs": [],
   "source": [
    "# Theme of the economist magazine:\n",
    "p + theme_economist() + scale_colour_economist()"
   ]
  },
  {
   "cell_type": "markdown",
   "metadata": {},
   "source": [
    "**Theme of the Wall Street Journal:**"
   ]
  },
  {
   "cell_type": "code",
   "execution_count": null,
   "metadata": {},
   "outputs": [],
   "source": [
    "# Theme of the Wall Street Journal:\n",
    "p + theme_wsj() + scale_colour_wsj(\"colors6\")"
   ]
  },
  {
   "cell_type": "markdown",
   "metadata": {},
   "source": [
    "**Dynamic chart with theme of the economist magazine:**"
   ]
  },
  {
   "cell_type": "code",
   "execution_count": null,
   "metadata": {
    "scrolled": false
   },
   "outputs": [],
   "source": [
    "# Dynamic chart with theme of the economist magazine:\n",
    "p_dynamic <- p + theme_economist() + scale_colour_economist()\n",
    "p_dynamic <- ggplotly(p_dynamic)\n",
    "p_dynamic"
   ]
  },
  {
   "cell_type": "markdown",
   "metadata": {},
   "source": [
    "<div class=\"alert alert-block alert-info\" style=\"margin-top: 20px\">\n",
    "    <h3>\n",
    "    Data Visualisation (Enhanced) - <span style=\"color:blue\">[ CDC ] ADDM Network estimates for overall ASD prevalence in US over time</span> [ Source: ADDM ] over [ Year ]\n",
    "    </h3>\n",
    "</div>\n",
    "\n"
   ]
  },
  {
   "cell_type": "markdown",
   "metadata": {},
   "source": [
    "<img src=\"../reference/CDC_ASD/ADV [addm] [2014] ADDM Network estimates for overall ASD prevalence in US over time (with CI).png\" align=\"left\">\n"
   ]
  },
  {
   "cell_type": "markdown",
   "metadata": {},
   "source": [
    "<div class=\"alert alert-block alert-info\" style=\"margin-top: 20px\">\n",
    "    <h3>\n",
    "    Data Visualisation (Enhanced) - <span style=\"color:blue\">[ R ] ADDM Network estimates for overall ASD prevalence in US over time</span> [ Source: ADDM ] over [ Year ]\n",
    "    </h3>\n",
    "</div>\n"
   ]
  },
  {
   "cell_type": "code",
   "execution_count": null,
   "metadata": {},
   "outputs": [],
   "source": [
    "# Adjust in-line plot size to M x N\n",
    "# options(repr.plot.width=8, repr.plot.height=4)"
   ]
  },
  {
   "cell_type": "code",
   "execution_count": null,
   "metadata": {},
   "outputs": [],
   "source": [
    "# Filter only data of ADDM\n",
    "ASD_National_ADDM <- subset(ASD_National, Source == 'addm')"
   ]
  },
  {
   "cell_type": "code",
   "execution_count": null,
   "metadata": {},
   "outputs": [],
   "source": [
    "# ----------------------------------\n",
    "# [addm] ADDM Network estimates for overall ASD prevalence in US over time\n",
    "# ----------------------------------\n",
    "\n",
    "#  Color:\n",
    "# 'ADDM_Average' \"purple\"\n",
    "\n",
    "p <- ggplot(ASD_National_ADDM, aes(x = Year, y = Prevalence)) +\n",
    "  geom_point(aes(y = Prevalence, color = 'ADDM_Average'), # Name for manual colour mapping\n",
    "             size=2, \n",
    "             shape=20,\n",
    "             alpha=0.95) +\n",
    "  # Add point for Upper.CI\n",
    "  geom_point(aes(y = Upper.CI, color = 'ADDM_U_CI'), # Name for manual colour mapping\n",
    "             size=0.1, \n",
    "             shape=20,\n",
    "             alpha=0.95) +\n",
    "  # Add point for Upper.CI\n",
    "  geom_point(aes(y = Lower.CI, color = 'ADDM_L_CI'), # Name for manual colour mapping\n",
    "             size=0.1, \n",
    "             shape=20,\n",
    "             alpha=0.95) +\n",
    "  scale_colour_manual(name=\"\",\n",
    "                      labels = c(\"US (ADDM)\", \"Upper CI\", \"Lower CI\"), # Names shown in legend \n",
    "                      values = c(ADDM_Average=\"purple\", ADDM_U_CI=\"red\", ADDM_L_CI=\"red\")) # Manual colour mapping\n",
    "# Add title, axis label, and axis scale\n",
    "p <- p + scale_y_continuous(name = \"Prevalence per 1,000 Children\",\n",
    "                            breaks = seq(0, 18, 2),\n",
    "                            limits=c(0, 18)) +\n",
    "  scale_x_continuous(name = \"Year\", \n",
    "                     breaks = seq(2000, 2014, 2), \n",
    "                     limits = c(2000, 2014)) +\n",
    "  ggtitle(\"ADDM Network estimates for overall ASD prevalence in US over time\\nwith confidence interval\") +\n",
    "  theme(title = element_text(face = 'bold.italic', color = \"darkslategrey\"), \n",
    "        axis.title = element_text(face = 'plain', color = \"darkslategrey\"),\n",
    "        panel.background = element_blank(), # Remove chart backgroun colour\n",
    "        legend.position = 'top',\n",
    "        panel.grid.major = element_line(size = 0.2, linetype = 'solid', colour = \"lightgrey\") # grid colour et al\n",
    "       )\n",
    "# Show plot\n",
    "p"
   ]
  },
  {
   "cell_type": "code",
   "execution_count": null,
   "metadata": {},
   "outputs": [],
   "source": [
    "# Add smooth curve to go through date points, using interpolation with splines:\n",
    "# https://stackoverflow.com/questions/35205795/plotting-smooth-line-through-all-data-points\n",
    "spline_ADDM_Prevalence <- as.data.frame(spline(ASD_National_ADDM$Year, ASD_National_ADDM$Prevalence))\n",
    "spline_ADDM_Prevalence_U_CI <- as.data.frame(spline(ASD_National_ADDM$Year, ASD_National_ADDM$Upper.CI))\n",
    "spline_ADDM_Prevalence_L_CI <- as.data.frame(spline(ASD_National_ADDM$Year, ASD_National_ADDM$Lower.CI))\n",
    "# Show plot\n",
    "p + geom_line(data = spline_ADDM_Prevalence, aes(x = x, y = y, color = 'ADDM_Average'), linetype = \"solid\", size=0.6) + \n",
    "  geom_line(data = spline_ADDM_Prevalence_U_CI, aes(x = x, y = y, color = 'ADDM_U_CI'), linetype = 2, size=0.3) +\n",
    "  geom_line(data = spline_ADDM_Prevalence_L_CI, aes(x = x, y = y, color = 'ADDM_L_CI'), linetype = 2, size=0.3)"
   ]
  },
  {
   "cell_type": "markdown",
   "metadata": {},
   "source": [
    "<div class=\"alert alert-block alert-info\" style=\"margin-top: 20px\">\n",
    "    <h3>\n",
    "    Data Visualisation (Enhanced) - <span style=\"color:blue\">[ R ] REPORTED PREVALENCE VARIES BY SEX</span> [ Source: ADDM ] over [ Year ]\n",
    "    </h3>\n",
    "</div>\n"
   ]
  },
  {
   "cell_type": "code",
   "execution_count": null,
   "metadata": {},
   "outputs": [],
   "source": [
    "# Adjust in-line plot size to M x N\n",
    "# options(repr.plot.width=8, repr.plot.height=4)"
   ]
  },
  {
   "cell_type": "code",
   "execution_count": null,
   "metadata": {},
   "outputs": [],
   "source": [
    "# ----------------------------------\n",
    "# [addm] < Prevalence Varies by Sex >\n",
    "# ----------------------------------\n",
    "\n",
    "#  Color:\n",
    "# 'ADDM_Average' \"darkslategrey\"\n",
    "# 'Female_Prevalence' \"orange\"\n",
    "# 'Male_Prevalence' \"blue\"\n",
    "\n",
    "p <- ggplot(ASD_National_ADDM, aes(x = Year, y = Prevalence)) +\n",
    "  geom_line(aes(y = Prevalence, colour = 'ADDM_Average'),\n",
    "            linetype = \"solid\",  # http://sape.inf.usi.ch/quick-reference/ggplot2/linetype\n",
    "            size=1,\n",
    "            alpha=0.5) +\n",
    "  geom_point(aes(y = Prevalence, color = 'ADDM_Average'),\n",
    "             size=2, \n",
    "             shape=20,\n",
    "             alpha=0.5) +\n",
    "  # Add line for Female\n",
    "  geom_line(aes(y = Female.Prevalence, colour = 'Female_Prevalence'),\n",
    "            linetype = \"solid\",  # http://sape.inf.usi.ch/quick-reference/ggplot2/linetype\n",
    "            size=1,\n",
    "            alpha=0.5) +\n",
    "  geom_point(aes(y = Female.Prevalence, color = 'Female_Prevalence'),\n",
    "             size=2, \n",
    "             shape=20,\n",
    "             alpha=0.5) +\n",
    "  # Add line for Male\n",
    "  geom_line(aes(y = Male.Prevalence, colour = 'Male_Prevalence'),\n",
    "            linetype = \"solid\",  # http://sape.inf.usi.ch/quick-reference/ggplot2/linetype\n",
    "            size=1,\n",
    "            alpha=0.5) +\n",
    "  geom_point(aes(y = Male.Prevalence, color = 'Male_Prevalence'),\n",
    "             size=2, \n",
    "             shape=20,\n",
    "             alpha=0.5) +\n",
    "  scale_colour_manual(name=\"\",\n",
    "                      labels = c(\"ADDM Average\", \"Female Prevalence\", \"Male Prevalence\"),\n",
    "                      values = c(ADDM_Average=\"darkslategrey\", Female_Prevalence=\"orange\", Male_Prevalence=\"blue\"))\n",
    "# Add title, axis label, and axis scale\n",
    "p <- p + scale_y_continuous(name = \"Prevalence per 1,000 Children\",\n",
    "                            breaks = seq(0, 30, 5),\n",
    "                            limits=c(0, 30)) +\n",
    "  scale_x_continuous(name = \"Year\", \n",
    "                     breaks = seq(2000, 2016, 1), \n",
    "                     limits = c(2000, 2016)) +\n",
    "  ggtitle(\"Prevalence Estimates by Sex [ Source: ADDM ]\") +\n",
    "  theme(title = element_text(face = 'bold.italic', color = \"darkslategrey\"), \n",
    "        axis.title = element_text(face = 'plain', color = \"darkslategrey\")) \n",
    "# Show plot\n",
    "p"
   ]
  },
  {
   "cell_type": "code",
   "execution_count": null,
   "metadata": {},
   "outputs": [],
   "source": [
    "# Apply theme\n",
    "p + theme_economist() + scale_colour_economist() # p + theme_wsj() + scale_colour_wsj(\"colors6\")"
   ]
  },
  {
   "cell_type": "code",
   "execution_count": null,
   "metadata": {
    "scrolled": false
   },
   "outputs": [],
   "source": [
    "# Dynamic chart:\n",
    "p_dynamic <- p + theme_economist() + scale_colour_economist()\n",
    "p_dynamic <- ggplotly(p_dynamic)\n",
    "p_dynamic"
   ]
  },
  {
   "cell_type": "markdown",
   "metadata": {},
   "source": [
    "<div class=\"alert alert-danger alertdanger\" style=\"margin-top: 20px\">\n",
    "    <h3>\n",
    "        Quiz:\n",
    "    </h3>\n",
    "    <p>\n",
    "        Add 95% Confidence Interval to above plot (Use ggplot)\n",
    "    </p>\n",
    "</div>"
   ]
  },
  {
   "cell_type": "code",
   "execution_count": null,
   "metadata": {},
   "outputs": [],
   "source": [
    "# Write your code below and press Shift+Enter to execute \n"
   ]
  },
  {
   "cell_type": "markdown",
   "metadata": {},
   "source": [
    "Double-click <b>here</b> for the solution.\n",
    "\n",
    "<!-- The answer is below:\n",
    "\n",
    "# Write your code below and press Shift+Enter to execute \n",
    "# TBD\n",
    "\n",
    "-->"
   ]
  },
  {
   "cell_type": "markdown",
   "metadata": {},
   "source": [
    "<div class=\"alert alert-block alert-info\" style=\"margin-top: 20px\">\n",
    "    <h3>\n",
    "    Data Visualisation (Enhanced) - <span style=\"color:blue\">[ CDC ] REPORTED PREVALENCE VARIES BY RACE AND ETHNICITY</span>\n",
    "    </h3>\n",
    "</div>\n",
    "\n"
   ]
  },
  {
   "cell_type": "markdown",
   "metadata": {},
   "source": [
    "<img src=\"../reference/CDC_ASD/ADV [addm] Prevalence Estimates by Race Ethnicity.png\" align=\"left\">\n"
   ]
  },
  {
   "cell_type": "markdown",
   "metadata": {},
   "source": [
    "<div class=\"alert alert-block alert-info\" style=\"margin-top: 20px\">\n",
    "    <h3>\n",
    "    Data Visualisation (Enhanced) - <span style=\"color:blue\">[ R ] REPORTED PREVALENCE VARIES BY RACE AND ETHNICITY</span> [ Source: ADDM ] With Average\n",
    "    </h3>\n",
    "</div>\n"
   ]
  },
  {
   "cell_type": "code",
   "execution_count": null,
   "metadata": {},
   "outputs": [],
   "source": [
    "# Adjust in-line plot size to M x N\n",
    "# options(repr.plot.width=8, repr.plot.height=4)"
   ]
  },
  {
   "cell_type": "code",
   "execution_count": null,
   "metadata": {},
   "outputs": [],
   "source": [
    "# ----------------------------------\n",
    "# [addm] < Prevalence Varies by Race and Ethnicity >\n",
    "# ----------------------------------\n",
    "\n",
    "#  Color:\n",
    "# 'ADDM_Average' \"darkslategrey\"\n",
    "# 'Asian_Pacific_Islander' \"darkred\"\n",
    "# 'Hispanic' \"darkorchid3\"\n",
    "# 'Non_Hispanic_Black' \"deepskyblue3\"\n",
    "# 'Non_Hispanic_White' \"chartreuse3\"\n",
    "\n",
    "p <- ggplot(ASD_National_ADDM, aes(x = Year, y = Prevalence)) +\n",
    "  geom_line(aes(y = Prevalence, colour = 'ADDM_Average'),\n",
    "            linetype = \"dotted\",  # http://sape.inf.usi.ch/quick-reference/ggplot2/linetype\n",
    "            size=1,\n",
    "            alpha=0.5) +\n",
    "  geom_point(aes(y = Prevalence, color = 'ADDM_Average'),\n",
    "             size=2, \n",
    "             shape=20,\n",
    "             alpha=0) +\n",
    "  # Add line for Asian.or.Pacific.Islander.Prevalence\n",
    "  geom_line(aes(y = Asian.or.Pacific.Islander.Prevalence, colour = 'Asian_Pacific_Islander'),\n",
    "            linetype = \"solid\",  # http://sape.inf.usi.ch/quick-reference/ggplot2/linetype\n",
    "            size=1,\n",
    "            alpha=0.5) +\n",
    "  geom_point(aes(y = Asian.or.Pacific.Islander.Prevalence, colour = 'Asian_Pacific_Islander'),\n",
    "             size=2, \n",
    "             shape=20,\n",
    "             alpha=0.5) +\n",
    "  # Add line for Hispanic.Prevalence\n",
    "  geom_line(aes(y = Hispanic.Prevalence, colour = 'Hispanic'),\n",
    "            linetype = \"solid\",  # http://sape.inf.usi.ch/quick-reference/ggplot2/linetype\n",
    "            size=1,\n",
    "            alpha=0.5) +\n",
    "  geom_point(aes(y = Hispanic.Prevalence, colour = 'Hispanic'),\n",
    "             size=2, \n",
    "             shape=20,\n",
    "             alpha=0.5) +\n",
    "  # Add line for Non.hispanic.black.Prevalence\n",
    "  geom_line(aes(y = Non.hispanic.black.Prevalence, colour = 'Non_Hispanic_Black'),\n",
    "            linetype = \"solid\",  # http://sape.inf.usi.ch/quick-reference/ggplot2/linetype\n",
    "            size=1,\n",
    "            alpha=0.5) +\n",
    "  geom_point(aes(y = Non.hispanic.black.Prevalence, colour = 'Non_Hispanic_Black'),\n",
    "             size=2, \n",
    "             shape=20,\n",
    "             alpha=0.5) +\n",
    "  # Add line for Non.hispanic.white.Prevalence\n",
    "  geom_line(aes(y = Non.hispanic.white.Prevalence, colour = 'Non_Hispanic_White'),\n",
    "            linetype = \"solid\",  # http://sape.inf.usi.ch/quick-reference/ggplot2/linetype\n",
    "            size=1,\n",
    "            alpha=0.5) +\n",
    "  geom_point(aes(y = Non.hispanic.white.Prevalence, colour = 'Non_Hispanic_White'),\n",
    "             size=2, \n",
    "             shape=20,\n",
    "             alpha=0.5) +\n",
    "  scale_colour_manual(name=\"\",\n",
    "                      labels = c(\"ADDM Average\", \n",
    "                                 \"Asian/Pacific Islander\", \n",
    "                                 \"Hispanic\", \n",
    "                                 \"Non-Hispanic Black\", \n",
    "                                 \"Non-Hispanic White\"),\n",
    "                      values = c(ADDM_Average=\"darkslategrey\", \n",
    "                                 Asian_Pacific_Islander =\"darkred\", \n",
    "                                 Hispanic =\"darkorchid3\", \n",
    "                                 Non_Hispanic_Black =\"deepskyblue3\", \n",
    "                                 Non_Hispanic_White =\"chartreuse3\"))\n",
    "# Add title, axis label, and axis scale\n",
    "p <- p + scale_y_continuous(name = \"Prevalence per 1,000 Children\",\n",
    "                            breaks = seq(5, 20, 5),\n",
    "                            limits=c(5, 20)) +\n",
    "  scale_x_continuous(name = \"Year\", \n",
    "                     breaks = seq(2000, 2016, 1), \n",
    "                     limits = c(2000, 2016)) +\n",
    "  ggtitle(\"Prevalence Estimates by Race/Ethnicity [ Source: ADDM ]\") +\n",
    "  theme(title = element_text(face = 'bold.italic', color = \"darkslategrey\"), \n",
    "        axis.title = element_text(face = 'plain', color = \"darkslategrey\")) \n",
    "# Show plot\n",
    "p"
   ]
  },
  {
   "cell_type": "code",
   "execution_count": null,
   "metadata": {},
   "outputs": [],
   "source": [
    "# Apply theme\n",
    "# p + theme_economist() + scale_colour_economist() # p + theme_wsj() + scale_colour_wsj(\"colors6\")"
   ]
  },
  {
   "cell_type": "code",
   "execution_count": null,
   "metadata": {
    "scrolled": false
   },
   "outputs": [],
   "source": [
    "# Dynamic chart:\n",
    "p_dynamic <- p + theme_economist() + scale_colour_economist()\n",
    "p_dynamic <- ggplotly(p_dynamic)\n",
    "p_dynamic"
   ]
  },
  {
   "cell_type": "markdown",
   "metadata": {},
   "source": [
    "<div class=\"alert alert-danger alertdanger\" style=\"margin-top: 20px\">\n",
    "    <h3>\n",
    "        Quiz:\n",
    "    </h3>\n",
    "    <p>\n",
    "        Change above zig-zag lines to spline/smooth lines.\n",
    "    </p>\n",
    "    <p>\n",
    "        Hints: Refer to <span style=\"color:blue\">ADDM Network estimates for overall ASD prevalence in US over time</span>.\n",
    "    </p>\n",
    "</div>"
   ]
  },
  {
   "cell_type": "code",
   "execution_count": null,
   "metadata": {},
   "outputs": [],
   "source": [
    "# Write your code below and press Shift+Enter to execute \n"
   ]
  },
  {
   "cell_type": "markdown",
   "metadata": {},
   "source": [
    "Double-click <b>here</b> for the solution.\n",
    "\n",
    "<!-- The answer is below:\n",
    "\n",
    "# Write your code below and press Shift+Enter to execute \n",
    "# TBD\n",
    "\n",
    "-->"
   ]
  },
  {
   "cell_type": "markdown",
   "metadata": {},
   "source": [
    "<div class=\"alert alert-block alert-info\" style=\"margin-top: 20px\">\n",
    "    <a href=\"\">\n",
    "         <img src=\"\" width=\"750\" align=\"center\">\n",
    "    </a>\n",
    "</div>\n"
   ]
  },
  {
   "cell_type": "markdown",
   "metadata": {},
   "source": [
    "<div class=\"alert alert-block alert-info\" style=\"margin-top: 20px\">\n",
    "    <h3>\n",
    "    Data Visualisation (Enhanced) - <span style=\"color:blue\">US. State Level Data Processing</span>\n",
    "    </h3>\n",
    "</div>\n"
   ]
  },
  {
   "cell_type": "code",
   "execution_count": null,
   "metadata": {
    "scrolled": true
   },
   "outputs": [],
   "source": [
    "# ----------------------------------\n",
    "# Dataset: US. State Level Children ASD Prevalence\n",
    "# ----------------------------------\n",
    "\n",
    "ASD_State    <- read.csv(\"../dataset/ADV_ASD_State.csv\", stringsAsFactors = FALSE)\n",
    "\n",
    "# Obtain number of rows and number of columns/features/variables\n",
    "dim(ASD_State)\n",
    "# Obtain overview (data structure/types)\n",
    "str(ASD_State)"
   ]
  },
  {
   "cell_type": "markdown",
   "metadata": {},
   "source": [
    "<div class=\"alert alert-block alert-info\" style=\"margin-top: 20px\">\n",
    "    <h3>\n",
    "    Data Visualisation (Enhanced) - <span style=\"color:blue\">US. State Level Data</span> Pre-Process data\n",
    "    </h3>\n",
    "</div>\n"
   ]
  },
  {
   "cell_type": "markdown",
   "metadata": {},
   "source": [
    "**Pre-Process data: Missing data**"
   ]
  },
  {
   "cell_type": "code",
   "execution_count": null,
   "metadata": {},
   "outputs": [],
   "source": [
    "# Count missing values in dataframe:\n",
    "sum(is.na(ASD_State)) # No missing data recognised by R (NA)\n",
    "# Define several offending strings\n",
    "na_strings <- c(\"\", \"No data\", \"NA\", \"N A\", \"N / A\", \"N/A\", \"N/ A\", \"Not Available\", \"NOt available\")\n",
    "# Replace these defined missing values to R's internal NA\n",
    "ASD_State = replace_with_na_all(ASD_State, condition = ~.x %in% na_strings)\n",
    "# Count missing values in dataframe:\n",
    "sum(is.na(ASD_State))"
   ]
  },
  {
   "cell_type": "markdown",
   "metadata": {},
   "source": [
    "**Remove invalid unicode char/string: \\x92**"
   ]
  },
  {
   "cell_type": "code",
   "execution_count": null,
   "metadata": {},
   "outputs": [],
   "source": [
    "# Remove invalid unicode char/string: \\x92\n",
    "ASD_State$Source_Full1[ASD_State$Source_Full1 == \"National Survey of Children\\x92s Health\"] <- \"National Survey of Children's Health\""
   ]
  },
  {
   "cell_type": "markdown",
   "metadata": {},
   "source": [
    "**Delete/Drop variable by index: column from 14 to 26, 29, and 30**"
   ]
  },
  {
   "cell_type": "code",
   "execution_count": null,
   "metadata": {
    "scrolled": true
   },
   "outputs": [],
   "source": [
    "cbind(names(ASD_State), c(1:length(names(ASD_State))))"
   ]
  },
  {
   "cell_type": "code",
   "execution_count": null,
   "metadata": {},
   "outputs": [],
   "source": [
    "# Delete/Drop variable by index: column from 14 to 26, 29, and 30\n",
    "# names(ASD_State)\n",
    "ASD_State <- ASD_State[ -c(14:26, 29, 30) ]"
   ]
  },
  {
   "cell_type": "markdown",
   "metadata": {},
   "source": [
    "**Create new variables**"
   ]
  },
  {
   "cell_type": "code",
   "execution_count": null,
   "metadata": {},
   "outputs": [],
   "source": [
    "# Create one new variable: Source_UC as uppercase of Source\n",
    "ASD_State$Source_UC <- paste(toupper(ASD_State$Source))\n",
    "# Create one new variable: Source_Full3 by combining Source_UC and Source_Full1\n",
    "ASD_State$Source_Full3 <- paste(ASD_State$Source_UC, ASD_State$Source_Full1)"
   ]
  },
  {
   "cell_type": "markdown",
   "metadata": {},
   "source": [
    "**Convert to correct data types**"
   ]
  },
  {
   "cell_type": "code",
   "execution_count": null,
   "metadata": {
    "scrolled": true
   },
   "outputs": [],
   "source": [
    "str(ASD_State)"
   ]
  },
  {
   "cell_type": "code",
   "execution_count": null,
   "metadata": {},
   "outputs": [],
   "source": [
    "# cbind(names(ASD_State), c(1:length(names(ASD_State))))"
   ]
  },
  {
   "cell_type": "markdown",
   "metadata": {},
   "source": [
    "**Convert variables to numeric**"
   ]
  },
  {
   "cell_type": "code",
   "execution_count": null,
   "metadata": {},
   "outputs": [],
   "source": [
    "# Convert Prevalence and CIs from categorical/chr to numeric\n",
    "ix <- 13:33 # define an index\n",
    "ASD_State[ix] <- lapply(ASD_State[ix], as.numeric)"
   ]
  },
  {
   "cell_type": "markdown",
   "metadata": {},
   "source": [
    "**Convert variables to categorical/factor**"
   ]
  },
  {
   "cell_type": "code",
   "execution_count": null,
   "metadata": {},
   "outputs": [],
   "source": [
    "# Convert Source from categorical/chr to categorical/factor\n",
    "ix <- c(1, 7, 8, 9, 10, 34, 35) # define an index\n",
    "ASD_State[ix] <- lapply(ASD_State[ix], as.factor)\n",
    "\n",
    "# Create new ordered factor Year_Factor from Year\n",
    "ASD_State$Year_Factor <- factor(ASD_State$Year, ordered = TRUE)"
   ]
  },
  {
   "cell_type": "code",
   "execution_count": null,
   "metadata": {
    "scrolled": true
   },
   "outputs": [],
   "source": [
    "# Display unique values (levels) of a factor categrotical \n",
    "lapply(select_if(ASD_State, is.factor), levels)"
   ]
  },
  {
   "cell_type": "markdown",
   "metadata": {},
   "source": [
    "**Optionally, export the processed dataframe data to CSV file.**"
   ]
  },
  {
   "cell_type": "code",
   "execution_count": null,
   "metadata": {},
   "outputs": [],
   "source": [
    "write.csv(ASD_State, file = \"../dataset/ADV_ASD_State_R.csv\", row.names = FALSE)"
   ]
  },
  {
   "cell_type": "code",
   "execution_count": null,
   "metadata": {},
   "outputs": [],
   "source": [
    "# Read back in above saved file:\n",
    "# ASD_State <- read.csv(\"../dataset/ADV_ASD_State_R.csv\")\n",
    "# ASD_State$Year_Factor <- factor(ASD_State$Year_Factor, ordered = TRUE) # Convert Year_Factor to ordered.factor"
   ]
  },
  {
   "cell_type": "markdown",
   "metadata": {},
   "source": [
    "<div class=\"alert alert-block alert-info\" style=\"margin-top: 20px\">\n",
    "    <h3>\n",
    "    Data Visualisation (Enhanced) - <span style=\"color:blue\">US. State Level Data Visualisation</span>\n",
    "    </h3>\n",
    "</div>\n",
    "\n"
   ]
  },
  {
   "cell_type": "markdown",
   "metadata": {},
   "source": [
    "<img src=\"../reference/CDC_ASD/ADV Years Data Available.png\" align=\"left\">\n"
   ]
  },
  {
   "cell_type": "markdown",
   "metadata": {},
   "source": [
    "<div class=\"alert alert-block alert-info\" style=\"margin-top: 20px\">\n",
    "    <h3>\n",
    "    <span style=\"color:blue\">Above chat shows at data source level, we'd also like to know State level data availbility. How?</span>\n",
    "    </h3>\n",
    "    <h3>\n",
    "    Data Visualisation (Enhanced) - <span style=\"color:blue\">[ R ] Explore the Data</span> [ Years Data Available by State ]\n",
    "    </h3>\n",
    "</div>\n"
   ]
  },
  {
   "cell_type": "code",
   "execution_count": null,
   "metadata": {},
   "outputs": [],
   "source": [
    "# Adjust in-line plot size to M x N\n",
    "options(repr.plot.width=8, repr.plot.height=12)"
   ]
  },
  {
   "cell_type": "code",
   "execution_count": null,
   "metadata": {
    "scrolled": false
   },
   "outputs": [],
   "source": [
    "# ----------------------------------\n",
    "# [State] < Years Data Available by State >\n",
    "# ----------------------------------\n",
    "p <- ggplot(ASD_State, aes(x = Source, fill = Source)) + \n",
    "  geom_bar() + theme(axis.text.x=element_blank(),  # Hide axis\n",
    "                     axis.ticks.x=element_blank(), # Hide axis\n",
    "                     axis.text.y=element_blank(),  # Hide axis\n",
    "                     axis.ticks.y=element_blank(), # Hide axis\n",
    "                     panel.background = element_blank(), # Remove panel background\n",
    "                     legend.position=\"top\",\n",
    "                     strip.text.y = element_text(angle=0) # Rotate text to horizontal\n",
    "  ) + \n",
    "  scale_fill_manual(\"Data Source:\", values = c(\"addm\" = \"darkblue\", \n",
    "                                               \"medi\" = \"orange\", \n",
    "                                               \"nsch\" = \"darkred\",\n",
    "                                               \"sped\" = \"skyblue\")) +\n",
    "  facet_grid(facets = State_Full2 ~ Year) +\n",
    "  labs(x=\"\", y=\"\", title=\"Years Data Available by State\") # layers of graphics"
   ]
  },
  {
   "cell_type": "code",
   "execution_count": null,
   "metadata": {
    "scrolled": false
   },
   "outputs": [],
   "source": [
    "# Below plot may run for a while\n",
    "# Show plot\n",
    "p"
   ]
  },
  {
   "cell_type": "markdown",
   "metadata": {},
   "source": [
    "**Filter and create dataframe of different data sources, for easy data access**"
   ]
  },
  {
   "cell_type": "code",
   "execution_count": null,
   "metadata": {},
   "outputs": [],
   "source": [
    "# Filter and create dataframe of different data sources, for easy data access\n",
    "ASD_State_ADDM <- subset(ASD_State, Source == 'addm')\n",
    "ASD_State_MEDI <- subset(ASD_State, Source == 'medi')\n",
    "ASD_State_NSCH <- subset(ASD_State, Source == 'nsch')\n",
    "ASD_State_SPED <- subset(ASD_State, Source == 'sped')"
   ]
  },
  {
   "cell_type": "markdown",
   "metadata": {},
   "source": [
    "<div class=\"alert alert-block alert-info\" style=\"margin-top: 20px\">\n",
    "    <h3>\n",
    "    Data Visualisation (Enhanced) - <span style=\"color:blue\">[ R ] Explore the Data</span> Years Data Available by State [ Source: ADDM ]\n",
    "    </h3>\n",
    "</div>\n"
   ]
  },
  {
   "cell_type": "code",
   "execution_count": null,
   "metadata": {},
   "outputs": [],
   "source": [
    "# Adjust in-line plot size to M x N\n",
    "options(repr.plot.width=8, repr.plot.height=6)"
   ]
  },
  {
   "cell_type": "markdown",
   "metadata": {},
   "source": [
    "**Years Data Available by State [ Source: ADDM ]**"
   ]
  },
  {
   "cell_type": "code",
   "execution_count": null,
   "metadata": {
    "scrolled": true
   },
   "outputs": [],
   "source": [
    "# Years Data Available by State [ Source: ADDM ]\n",
    "p <- ggplot(ASD_State_ADDM, aes(x = 1, fill = State_Full2)) + \n",
    "  geom_bar() + theme(axis.text.x=element_blank(),  # Hide axis\n",
    "                     axis.ticks.x=element_blank(), # Hide axis\n",
    "                     axis.text.y=element_blank(),  # Hide axis\n",
    "                     axis.ticks.y=element_blank(), # Hide axis\n",
    "                     panel.background = element_blank(), # Remove panel background\n",
    "                     legend.position=\"none\",\n",
    "                     strip.text.y = element_text(angle=0) # Rotate text to horizontal\n",
    "  ) +\n",
    "  facet_grid(facets = State_Full2 ~ Year_Factor) +\n",
    "  labs(x=\"\", y=\"\", title=\"Years Data Available by State [ Source: ADDM ]\") # layers of graphics"
   ]
  },
  {
   "cell_type": "code",
   "execution_count": null,
   "metadata": {},
   "outputs": [],
   "source": [
    "# Show plot\n",
    "p"
   ]
  },
  {
   "cell_type": "markdown",
   "metadata": {},
   "source": [
    "<div class=\"alert alert-danger alertdanger\" style=\"margin-top: 20px\">\n",
    "    <h3>\n",
    "        Quiz:\n",
    "    </h3>\n",
    "    <p>\n",
    "        Create <span style=\"color:blue\">Years Data Available by State [ Source: XXXX ]</span> for other three data sources:\n",
    "    </p>\n",
    "</div>"
   ]
  },
  {
   "cell_type": "code",
   "execution_count": null,
   "metadata": {},
   "outputs": [],
   "source": [
    "# Write your code below and press Shift+Enter to execute \n"
   ]
  },
  {
   "cell_type": "markdown",
   "metadata": {},
   "source": [
    "Double-click <b>here</b> for the solution.\n",
    "\n",
    "<!-- The answer is below:\n",
    "\n",
    "# Write your code below and press Shift+Enter to execute \n",
    "# TBD\n",
    "\n",
    "-->"
   ]
  },
  {
   "cell_type": "markdown",
   "metadata": {},
   "source": [
    "<div class=\"alert alert-block alert-info\" style=\"margin-top: 20px\">\n",
    "    <h3>\n",
    "    Data Visualisation (Enhanced) - <span style=\"color:blue\">[ R ] REPORTED PREVALENCE VARIES BY GEOGRAPHIC LOCATION (States)</span> Prevalence Estimates by State [ Source: ADDM ]\n",
    "    </h3>\n",
    "</div>\n"
   ]
  },
  {
   "cell_type": "code",
   "execution_count": null,
   "metadata": {},
   "outputs": [],
   "source": [
    "# Adjust in-line plot size to M x N\n",
    "options(repr.plot.width=8, repr.plot.height=4)"
   ]
  },
  {
   "cell_type": "markdown",
   "metadata": {},
   "source": [
    "Visualise: **Prevalence Estimates by State [ Source: ADDM ]**"
   ]
  },
  {
   "cell_type": "code",
   "execution_count": null,
   "metadata": {},
   "outputs": [],
   "source": [
    "# Prevalence Estimates by State [ Source: ADDM ] , aggregated for different years\n",
    "p <- ggplot(ASD_State_ADDM, aes(x = reorder(State_Full2, Prevalence, FUN = median), # Order States by median of Prevalence  \n",
    "                                y = Prevalence)) + \n",
    "  geom_boxplot(aes(fill = reorder(State_Full2, Prevalence, FUN = median))) + # fill color by State\n",
    "  scale_fill_discrete(guide = guide_legend(title = \"US. States\")) + # Legend Name\n",
    "  #  geom_boxplot(fill = 'darkslategrey', alpha = 0.2) + \n",
    "  scale_y_continuous(name = \"Prevalence per 1,000 Children\",\n",
    "                     breaks = seq(0, 30, 5),\n",
    "                     limits=c(0, 30)) +\n",
    "  scale_x_discrete(name = \"\") +\n",
    "  ggtitle(\"Prevalence Estimates by State [ Source: ADDM ]\") +\n",
    "  theme(title = element_text(face = 'bold.italic', color = \"darkslategrey\"), \n",
    "        axis.title = element_text(face = 'plain', color = \"darkslategrey\"),\n",
    "        legend.position = 'none') + \n",
    "  coord_flip() + # Rotate chart\n",
    "  geom_jitter(position=position_jitter(0.1)) # Add actual data points"
   ]
  },
  {
   "cell_type": "code",
   "execution_count": null,
   "metadata": {},
   "outputs": [],
   "source": [
    "# Show plot\n",
    "p"
   ]
  },
  {
   "cell_type": "code",
   "execution_count": null,
   "metadata": {},
   "outputs": [],
   "source": [
    "# Theme of the economist magazine:\n",
    "# p + theme_economist() + scale_colour_economist() + theme(legend.position = 'none')"
   ]
  },
  {
   "cell_type": "code",
   "execution_count": null,
   "metadata": {},
   "outputs": [],
   "source": [
    "# Dynamic chart\n",
    "p_dynamic <- p + theme_economist() + scale_colour_economist() + theme(legend.position = 'none')\n",
    "p_dynamic <- ggplotly(p_dynamic)\n",
    "p_dynamic"
   ]
  },
  {
   "cell_type": "markdown",
   "metadata": {},
   "source": [
    "<div class=\"alert alert-danger alertdanger\" style=\"margin-top: 20px\">\n",
    "    <h3>\n",
    "        Quiz:\n",
    "    </h3>\n",
    "    <p>\n",
    "        Create <span style=\"color:blue\">Prevalence Estimates by State [ Source: XXXX ]</span> for other three data sources:\n",
    "    </p>\n",
    "</div>"
   ]
  },
  {
   "cell_type": "code",
   "execution_count": null,
   "metadata": {},
   "outputs": [],
   "source": [
    "# Write your code below and press Shift+Enter to execute \n"
   ]
  },
  {
   "cell_type": "markdown",
   "metadata": {},
   "source": [
    "Double-click <b>here</b> for the solution.\n",
    "\n",
    "<!-- The answer is below:\n",
    "\n",
    "# Write your code below and press Shift+Enter to execute \n",
    "# TBD\n",
    "\n",
    "-->"
   ]
  },
  {
   "cell_type": "markdown",
   "metadata": {},
   "source": [
    "<div class=\"alert alert-block alert-info\" style=\"margin-top: 20px\">\n",
    "    <h3>\n",
    "    Data Visualisation (Enhanced) - <span style=\"color:blue\">[ R ] US. State Level</span> No. Children Surveyed by State [ Source: ADDM ] [Year 2014]\n",
    "    </h3>\n",
    "</div>\n"
   ]
  },
  {
   "cell_type": "code",
   "execution_count": null,
   "metadata": {},
   "outputs": [],
   "source": [
    "# Adjust in-line plot size to M x N\n",
    "options(repr.plot.width=8, repr.plot.height=4)"
   ]
  },
  {
   "cell_type": "markdown",
   "metadata": {},
   "source": [
    "Visualise: **No. Children Surveyed by State [ Source: ADDM ] [Year 2014]**"
   ]
  },
  {
   "cell_type": "code",
   "execution_count": null,
   "metadata": {},
   "outputs": [],
   "source": [
    "# All State Prevalence data with: Source == 'addm' & Year == 2014\n",
    "# filter using dataframe: ASD_State_ADDM\n",
    "ASD_State_Subset <- subset(ASD_State_ADDM, Year == 2014)\n",
    "# or filer using dataframe: ASD_State\n",
    "ASD_State_Subset <- subset(ASD_State, Source == 'addm' & Year == 2014)"
   ]
  },
  {
   "cell_type": "code",
   "execution_count": null,
   "metadata": {},
   "outputs": [],
   "source": [
    "# Bar plot/chart for < No. Children surveyed by State [ADDM] [Year 2014] >\n",
    "p <- ggplot(ASD_State_Subset, aes(x = reorder(State_Full1, Denominator, FUN = median), # Order States by median of Denominator  \n",
    "                                  y = Denominator)) + \n",
    "  geom_bar(stat=\"identity\", aes(fill = reorder(State_Full1, Denominator, FUN = median))) + # fill color by State\n",
    "  scale_fill_discrete(guide = guide_legend(title = \"US. States\")) + # Legend Name\n",
    "  scale_x_discrete(name = \"US. States\") +\n",
    "  scale_y_continuous(name = \"No. Children (Denominator)\") +\n",
    "  ggtitle(\"No. Children Surveyed by State [ Source: ADDM ] [Year 2014]\") +\n",
    "  #  geom_text(aes(label=Denominator), vjust=1.6, color=\"darkslategrey\", size=3.5) + # Show data label inside bars\n",
    "  theme(title = element_text(face = 'bold.italic', color = \"darkslategrey\"), \n",
    "        axis.title = element_text(face = 'plain', color = \"darkslategrey\"),\n",
    "        legend.position=\"none\") "
   ]
  },
  {
   "cell_type": "code",
   "execution_count": null,
   "metadata": {},
   "outputs": [],
   "source": [
    "# Show plot\n",
    "p"
   ]
  },
  {
   "cell_type": "code",
   "execution_count": null,
   "metadata": {},
   "outputs": [],
   "source": [
    "# Theme of the economist magazine:\n",
    "# p + theme_economist() + scale_colour_economist() + theme(legend.position = 'none')"
   ]
  },
  {
   "cell_type": "code",
   "execution_count": null,
   "metadata": {},
   "outputs": [],
   "source": [
    "# Dynamic chart\n",
    "p_dynamic <- p + theme_economist() + scale_colour_economist() + theme(legend.position = 'none')\n",
    "p_dynamic <- ggplotly(p_dynamic)\n",
    "p_dynamic"
   ]
  },
  {
   "cell_type": "markdown",
   "metadata": {},
   "source": [
    "<div class=\"alert alert-danger alertdanger\" style=\"margin-top: 20px\">\n",
    "    <h3>\n",
    "        Quiz:\n",
    "    </h3>\n",
    "    <p>\n",
    "        Create <span style=\"color:blue\">No. Children Surveyed by State [ Source: XXXX ] [Year CCYY]</span> for other data sources & years:\n",
    "    </p>\n",
    "</div>"
   ]
  },
  {
   "cell_type": "code",
   "execution_count": null,
   "metadata": {},
   "outputs": [],
   "source": [
    "# Write your code below and press Shift+Enter to execute \n"
   ]
  },
  {
   "cell_type": "markdown",
   "metadata": {},
   "source": [
    "Double-click <b>here</b> for the solution.\n",
    "\n",
    "<!-- The answer is below:\n",
    "\n",
    "# Write your code below and press Shift+Enter to execute \n",
    "# TBD\n",
    "\n",
    "-->"
   ]
  },
  {
   "cell_type": "markdown",
   "metadata": {},
   "source": [
    "<div class=\"alert alert-danger alertdanger\" style=\"margin-top: 20px\">\n",
    "    <h3>\n",
    "        Quiz:\n",
    "    </h3>\n",
    "    <p>\n",
    "        Create <span style=\"color:blue\">No. ASD Children by State [ Source: XXXX ] [Year CCYY]</span> for other data sources & years:\n",
    "    </p>\n",
    "    <p>\n",
    "        Hint: Use variable: ASD_State_ADDM$Numerator_ASD\n",
    "    </p>\n",
    "</div>"
   ]
  },
  {
   "cell_type": "code",
   "execution_count": null,
   "metadata": {},
   "outputs": [],
   "source": [
    "# Write your code below and press Shift+Enter to execute \n"
   ]
  },
  {
   "cell_type": "markdown",
   "metadata": {},
   "source": [
    "Double-click <b>here</b> for the solution.\n",
    "\n",
    "<!-- The answer is below:\n",
    "\n",
    "# Write your code below and press Shift+Enter to execute \n",
    "# TBD\n",
    "\n",
    "-->"
   ]
  },
  {
   "cell_type": "markdown",
   "metadata": {},
   "source": [
    "<div class=\"alert alert-block alert-info\" style=\"margin-top: 20px\">\n",
    "    <h3>\n",
    "    Data Visualisation (Enhanced) - <span style=\"color:blue\">[ R ] US. State Level</span> Prevalence Estimates with 95% CI by State [ Source: ADDM ] [ Year 2014 ]\n",
    "    </h3>\n",
    "</div>\n"
   ]
  },
  {
   "cell_type": "code",
   "execution_count": null,
   "metadata": {},
   "outputs": [],
   "source": [
    "# Adjust in-line plot size to M x N\n",
    "# options(repr.plot.width=8, repr.plot.height=4)"
   ]
  },
  {
   "cell_type": "markdown",
   "metadata": {},
   "source": [
    "Visualise: **Prevalence Estimates with 95% CI by State [ Source: ADDM ] [ Year 2014 ]**"
   ]
  },
  {
   "cell_type": "code",
   "execution_count": null,
   "metadata": {},
   "outputs": [],
   "source": [
    "# ASD_State_Subset <- subset(ASD_State_ADDM, Year == 2014)\n",
    "# or\n",
    "# ASD_State_Subset <- subset(ASD_State, Source == 'addm' & Year == 2014)\n",
    "\n",
    "# Point plot/chart \n",
    "p = ggplot(ASD_State_Subset, aes(x = reorder(State_Full1, Prevalence, median), # Order States by median of Prevalence  \n",
    "                                 y = Prevalence)) + \n",
    "  geom_point(stat=\"identity\", aes(colour = reorder(State_Full1, Prevalence, median)), size = 10, alpha = 0.1, pch = 15) + # fill color by State\n",
    "  scale_colour_discrete(guide = guide_legend(title = \"US. States\")) + # Legend Name\n",
    "  scale_y_continuous(name = \"Prevalence per 1,000 Children\",\n",
    "                     breaks = seq(10, 35, 5),\n",
    "                     limits=c(10, 35)) +\n",
    "  scale_x_discrete(name = \"US. States\") +\n",
    "  ggtitle(\"Prevalence Estimates with 95% CI by State [ Source: ADDM ] [ Year 2014 ]\") +\n",
    "  theme(title = element_text(face = 'bold.italic', color = \"darkslategrey\"), \n",
    "        axis.title = element_text(face = 'plain', color = \"darkslategrey\"),\n",
    "        legend.position = 'none') +\n",
    "  geom_text(aes(label=Prevalence), hjust=0.5, color=\"black\", size=3.5)  # Show data label inside bars"
   ]
  },
  {
   "cell_type": "code",
   "execution_count": null,
   "metadata": {},
   "outputs": [],
   "source": [
    "# Show plot\n",
    "p"
   ]
  },
  {
   "cell_type": "code",
   "execution_count": null,
   "metadata": {},
   "outputs": [],
   "source": [
    "# Add Lower.CI\n",
    "p = p + geom_point(data = ASD_State_Subset, aes(x = reorder(State_Full1, Prevalence, median), y = Lower.CI,\n",
    "                                                shape=Source # point shape\n",
    "), \n",
    "size = 2 # point size\n",
    ") +\n",
    "  #  geom_text(aes(label=Lower.CI), hjust=-0.1, vjust=3, color=\"darkslategrey\", size=2.5) + # Show data label inside bars \n",
    "  scale_shape_manual(values=3)  # manual define point shape\n",
    "# Show plot\n",
    "p"
   ]
  },
  {
   "cell_type": "code",
   "execution_count": null,
   "metadata": {},
   "outputs": [],
   "source": [
    "# Add Upper.CI\n",
    "p = p + geom_point(data = ASD_State_Subset, aes(x = reorder(State_Full1, Prevalence, median), y = Upper.CI, \n",
    "                                                shape=Source # point shape\n",
    "), \n",
    "size = 2 # point size\n",
    ") \n",
    "#  geom_text(aes(label=Upper.CI), hjust=-0.1, vjust=-3, color=\"darkslategrey\", size=2.5) # Show data label inside bars \n",
    "# Show plot\n",
    "p"
   ]
  },
  {
   "cell_type": "code",
   "execution_count": null,
   "metadata": {},
   "outputs": [],
   "source": [
    "# theme of the economist magazine:\n",
    "# p + theme_economist() + scale_colour_economist() + scale_colour_discrete(guide = guide_legend(title = \"US. States\")) + theme(legend.position = 'none')"
   ]
  },
  {
   "cell_type": "code",
   "execution_count": null,
   "metadata": {},
   "outputs": [],
   "source": [
    "# Dynamic chart\n",
    "p_dynamic <- p + theme_economist() + scale_colour_economist() + scale_colour_discrete(guide = guide_legend(title = \"US. States\")) + theme(legend.position = 'none')\n",
    "p_dynamic <- ggplotly(p_dynamic)\n",
    "p_dynamic"
   ]
  },
  {
   "cell_type": "markdown",
   "metadata": {},
   "source": [
    "<div class=\"alert alert-danger alertdanger\" style=\"margin-top: 20px\">\n",
    "    <h3>\n",
    "        Quiz:\n",
    "    </h3>\n",
    "    <p>\n",
    "        Create <span style=\"color:blue\">Prevalence Estimates with 95% CI by State [ Source: ADDM ] [Year CCYY]</span> for other data sources & years:\n",
    "    </p>\n",
    "</div>"
   ]
  },
  {
   "cell_type": "code",
   "execution_count": null,
   "metadata": {},
   "outputs": [],
   "source": [
    "# Write your code below and press Shift+Enter to execute \n"
   ]
  },
  {
   "cell_type": "markdown",
   "metadata": {},
   "source": [
    "Double-click <b>here</b> for the solution.\n",
    "\n",
    "<!-- The answer is below:\n",
    "\n",
    "# Write your code below and press Shift+Enter to execute \n",
    "# TBD\n",
    "\n",
    "-->"
   ]
  },
  {
   "cell_type": "markdown",
   "metadata": {},
   "source": [
    "<div class=\"alert alert-block alert-info\" style=\"margin-top: 20px\">\n",
    "    <h3>\n",
    "    Data Visualisation (Enhanced) - <span style=\"color:blue\">[ R ] US. State Level</span> Prevalence Estimates over Year [ Source: ADDM ] [ State: AZ-Arizona ]\n",
    "    </h3>\n",
    "</div>\n"
   ]
  },
  {
   "cell_type": "code",
   "execution_count": null,
   "metadata": {},
   "outputs": [],
   "source": [
    "# Adjust in-line plot size to M x N\n",
    "# options(repr.plot.width=8, repr.plot.height=4)"
   ]
  },
  {
   "cell_type": "markdown",
   "metadata": {},
   "source": [
    "Visualise: **Prevalence Estimates over Year [ Source: ADDM ] [ State: AZ-Arizona ]**"
   ]
  },
  {
   "cell_type": "code",
   "execution_count": null,
   "metadata": {},
   "outputs": [],
   "source": [
    "# All year/time Prevalence data with: Source_UC == 'ADDM' & State_Full2 == 'AZ-Arizona'\n",
    "ASD_State_Subset <- subset(ASD_State, Source_UC == 'ADDM' & State_Full2 == 'AZ-Arizona')\n",
    "\n",
    "# Line plot/chart for < State ASD Prevalence [ADDM] [AZ-Arizona] >\n",
    "p <- ggplot(ASD_State_Subset, aes(x = Year, y = Prevalence))\n",
    "# Select (add) line chart type:\n",
    "p <- p + geom_line(aes(color = State_Full2),\n",
    "                   linetype = \"solid\",  # http://sape.inf.usi.ch/quick-reference/ggplot2/linetype\n",
    "                   size=1,\n",
    "                   alpha=0.5) \n",
    "# Select (add) points to chart:\n",
    "p <- p + geom_point(aes(color = State_Full2),\n",
    "                    size=3, \n",
    "                    shape=20,\n",
    "                    alpha=0.5) \n",
    "# Customize legend name:\n",
    "p <- p + labs(color = \"US. State\")\n",
    "# Adjust x and y axis, scale, limit and labels:\n",
    "p <- p + scale_y_continuous(name = \"Prevalence per 1,000 Children\",\n",
    "                            breaks = seq(0, 30, 5),\n",
    "                            limits=c(0, 30)) +\n",
    "  scale_x_continuous(name = \"Year\", \n",
    "                     breaks = seq(2000, 2016, 1), \n",
    "                     limits = c(2000, 2016)) \n",
    "# Customize chart title:\n",
    "p <- p + ggtitle(\"Prevalence Estimates over Year [ Source: ADDM ] [ State: AZ-Arizona ]\") \n",
    "# Customize chart title and axis labels:\n",
    "p <- p + theme(title = element_text(face = 'bold.italic', color = \"darkslategrey\"), \n",
    "               axis.title = element_text(face = 'plain', color = \"darkslategrey\")) "
   ]
  },
  {
   "cell_type": "code",
   "execution_count": null,
   "metadata": {},
   "outputs": [],
   "source": [
    "# Show plot\n",
    "p"
   ]
  },
  {
   "cell_type": "code",
   "execution_count": null,
   "metadata": {},
   "outputs": [],
   "source": [
    "# Theme of the economist magazine:\n",
    "p + theme_economist() + scale_colour_economist()"
   ]
  },
  {
   "cell_type": "markdown",
   "metadata": {},
   "source": [
    "<div class=\"alert alert-block alert-info\" style=\"margin-top: 20px\">\n",
    "    <h3>\n",
    "    Data Visualisation (Enhanced) - <span style=\"color:blue\">[ R ] US. State Level</span> Prevalence Estimates over Year [ Source: ADDM ] [ State: ALL ]\n",
    "    </h3>\n",
    "</div>\n"
   ]
  },
  {
   "cell_type": "code",
   "execution_count": null,
   "metadata": {},
   "outputs": [],
   "source": [
    "# Adjust in-line plot size to M x N\n",
    "# options(repr.plot.width=8, repr.plot.height=4)"
   ]
  },
  {
   "cell_type": "markdown",
   "metadata": {},
   "source": [
    "Visualise: **Prevalence Estimates over Year [ Source: ADDM ] [ State: ALL ]**"
   ]
  },
  {
   "cell_type": "code",
   "execution_count": null,
   "metadata": {},
   "outputs": [],
   "source": [
    "p <- ggplot(ASD_State_ADDM, aes(x = Year, y = Prevalence))\n",
    "# Select (add) line chart type:\n",
    "p <- p + geom_line(aes(color = State_Full2),\n",
    "                   linetype = \"solid\",  # http://sape.inf.usi.ch/quick-reference/ggplot2/linetype\n",
    "                   size=1,\n",
    "                   alpha=0.5) \n",
    "# Select (add) points to chart:\n",
    "p <- p + geom_point(aes(color = State_Full2),\n",
    "                    size=3, \n",
    "                    shape=20,\n",
    "                    alpha=0.5) \n",
    "# Show plot\n",
    "# p\n",
    "# Customize line color and legend name:\n",
    "p <- p + labs(color = \"US. State\")\n",
    "# Adjust x and y axis, scale, limit and labels:\n",
    "p <- p + scale_y_continuous(name = \"Prevalence per 1,000 Children\",\n",
    "                            breaks = seq(0, 30, 5),\n",
    "                            limits=c(0, 30)) +\n",
    "  scale_x_continuous(name = \"Year (2000 - 2016)\", \n",
    "                     breaks = seq(2000, 2016, 1), \n",
    "                     limits = c(2000, 2016)) \n",
    "# Customize chart title:\n",
    "p <- p + ggtitle(\"Prevalence Estimates over Year [ Source: ADDM ] [ State: ALL ]\") \n",
    "# Customize chart title and axis labels:\n",
    "p <- p + theme(title = element_text(face = 'bold.italic', color = \"darkslategrey\"), \n",
    "               axis.title = element_text(face = 'plain', color = \"darkslategrey\"),\n",
    "               legend.position=\"right\")\n"
   ]
  },
  {
   "cell_type": "code",
   "execution_count": null,
   "metadata": {},
   "outputs": [],
   "source": [
    "# Show plot\n",
    "p"
   ]
  },
  {
   "cell_type": "code",
   "execution_count": null,
   "metadata": {},
   "outputs": [],
   "source": [
    "# Dynamic chart\n",
    "p_dynamic <- p + theme_economist() + scale_colour_economist() + scale_colour_discrete(guide = guide_legend(title = \"US. States\"))\n",
    "p_dynamic <- ggplotly(p_dynamic)\n",
    "p_dynamic"
   ]
  },
  {
   "cell_type": "markdown",
   "metadata": {},
   "source": [
    "**Split chart by state**"
   ]
  },
  {
   "cell_type": "code",
   "execution_count": null,
   "metadata": {},
   "outputs": [],
   "source": [
    "# Show plot in facet_grid\n",
    "p + facet_grid(facets = . ~ State) + \n",
    "  theme(legend.position = \"none\", # Hide legend\n",
    "        axis.text.x=element_blank(),  # Hide axis\n",
    "        axis.ticks.x=element_blank(), # Hide axis\n",
    "        panel.background = element_blank(), # Remove panel background\n",
    "        panel.grid.major = element_line(size = 0.1, linetype = 1, colour = \"lightgrey\")\n",
    "  ) "
   ]
  },
  {
   "cell_type": "markdown",
   "metadata": {},
   "source": [
    "<div class=\"alert alert-block alert-info\" style=\"margin-top: 20px\">\n",
    "    <h3>\n",
    "    Data Visualisation (Enhanced) - Plotting on Map\n",
    "    </h3>\n",
    "</div>\n"
   ]
  },
  {
   "cell_type": "code",
   "execution_count": null,
   "metadata": {},
   "outputs": [],
   "source": [
    "# ----------------------------------\n",
    "# EDA - Visualisation on map\n",
    "# ----------------------------------\n",
    "if(!require(usmap)){install.packages(\"usmap\")}\n",
    "library(usmap) # usmap: Mapping the US"
   ]
  },
  {
   "cell_type": "markdown",
   "metadata": {},
   "source": [
    "<div class=\"alert alert-block alert-info\" style=\"margin-top: 20px\">\n",
    "    <h3>\n",
    "    Data Visualisation (Enhanced) - Plotting on Map <span style=\"color:blue\">[ CDC ] REPORTED PREVALENCE VARIES BY GEOGRAPHIC LOCATION</span>\n",
    "    </h3>\n",
    "</div>\n",
    "\n"
   ]
  },
  {
   "cell_type": "markdown",
   "metadata": {},
   "source": [
    "<img src=\"../reference/CDC_ASD/ADV [addm] [2014] Prevalence Estimates by Geographic Area.png\" align=\"left\">\n"
   ]
  },
  {
   "cell_type": "markdown",
   "metadata": {},
   "source": [
    "<div class=\"alert alert-block alert-info\" style=\"margin-top: 20px\">\n",
    "    <h3>\n",
    "    Data Visualisation (Enhanced) - Plotting on Map <span style=\"color:blue\">[ R ] REPORTED PREVALENCE VARIES BY GEOGRAPHIC LOCATION</span>\n",
    "    </h3>\n",
    "</div>\n"
   ]
  },
  {
   "cell_type": "markdown",
   "metadata": {},
   "source": [
    "**Let's review data availability by data Sources & Years:**\n",
    "\n",
    "* ASD_State_ADDM in Years: 2000, 2002, 2004, 2006, 2008, 2010, 2012, 2014\n",
    "\n",
    "* ASD_State_MEDI in Years: 2000 ~ 2012\n",
    "\n",
    "* ASD_State_NSCH in Years: 2004, 2008, 2012, 2016\n",
    "\n",
    "* ASD_State_SPED in Years: 2000 ~ 2016\n"
   ]
  },
  {
   "cell_type": "markdown",
   "metadata": {},
   "source": [
    "<img src=\"../reference/R/plot Barplot Years Data Available.png\" align=\"left\">\n",
    "\n"
   ]
  },
  {
   "cell_type": "markdown",
   "metadata": {},
   "source": [
    "<img src=\"../reference/R/plot Barplot Years Data Available by State.png\" align=\"left\">\n"
   ]
  },
  {
   "cell_type": "markdown",
   "metadata": {},
   "source": [
    "<div class=\"alert alert-block alert-info\" style=\"margin-top: 20px\">\n",
    "    <h3>\n",
    "    Data Visualisation (Enhanced) - Plotting on Map <span style=\"color:blue\">[ R ] REPORTED PREVALENCE VARIES BY GEOGRAPHIC LOCATION</span> [ Source: ADDM ] [ Year: 2014 ]\n",
    "    </h3>\n",
    "</div>\n"
   ]
  },
  {
   "cell_type": "code",
   "execution_count": null,
   "metadata": {},
   "outputs": [],
   "source": [
    "# Adjust in-line plot size to M x N\n",
    "# options(repr.plot.width=8, repr.plot.height=4)"
   ]
  },
  {
   "cell_type": "markdown",
   "metadata": {},
   "source": [
    "**Prepare US State level data:** [ Source: ADDM ] [ Year: 2014 ]"
   ]
  },
  {
   "cell_type": "code",
   "execution_count": null,
   "metadata": {},
   "outputs": [],
   "source": [
    "# Prepare data - addm 2014\n",
    "Map_Data_Source = 'addm' # Available values lowercase: 'addm', 'medi', 'nsch', 'sped'.\n",
    "Map_Data_Value = 'Prevalence' # variable must be numeric, variable name in 'quotation'. Or else Error: Discrete value supplied to continuous scale\n",
    "\n",
    "# Uncomment below to use Prevalence of different groups:\n",
    "# Map_Data_Value = 'Male.Prevalence' # variable must be numeric, variable name in 'quotation'. Or else Error: Discrete value supplied to continuous scale\n",
    "# Map_Data_Value = 'Female.Prevalence' # variable must be numeric, variable name in 'quotation'. Or else Error: Discrete value supplied to continuous scale\n",
    "# Map_Data_Value = 'Asian.or.Pacific.Islander.Prevalence' # variable must be numeric, variable name in 'quotation'. Or else Error: Discrete value supplied to continuous scale\n",
    "\n",
    "Map_Data_Year = 2014 # must be integer\n",
    "ASD_State_Subset = subset(ASD_State, Source == Map_Data_Source & Year == Map_Data_Year)"
   ]
  },
  {
   "cell_type": "markdown",
   "metadata": {},
   "source": [
    "**The usmap package/function requires input data to have a column of  <span style=\"color:blue\">state</span>, or  <span style=\"color:blue\">fips</span>.** (case sensitive)\n",
    "\n",
    "* state: Name of US state\n",
    "\n",
    "* fips: FIPS code for either a US state\n",
    "\n",
    "https://cran.r-project.org/web/packages/usmap/vignettes/mapping.html\n",
    "\n",
    "https://cran.r-project.org/web/packages/usmap/usmap.pdf"
   ]
  },
  {
   "cell_type": "code",
   "execution_count": null,
   "metadata": {
    "scrolled": true
   },
   "outputs": [],
   "source": [
    "# The usmap package/function requires input data to have a column of 'state', or 'fips'. (case sensitive)\n",
    "ASD_State_Subset$state = ASD_State_Subset$State \n",
    "# Glance\n",
    "head(ASD_State_Subset)"
   ]
  },
  {
   "cell_type": "markdown",
   "metadata": {},
   "source": [
    "Visualise: **Prevalence Estimates by Geographic Area** [ Source: ADDM ] [ Year: 2014 ]"
   ]
  },
  {
   "cell_type": "code",
   "execution_count": null,
   "metadata": {
    "scrolled": false
   },
   "outputs": [],
   "source": [
    "# Show data on map\n",
    "p_map_addm_2014 <- plot_usmap(data = ASD_State_Subset, values = Map_Data_Value, \n",
    "                              color = \"white\", # map line colour\n",
    "                              labels = TRUE,  # State name shown\n",
    "                              label_color = 'white' # State name colour\n",
    ") + \n",
    "  scale_fill_continuous(\n",
    "    na.value = \"lightgrey\", # Set colour with no State data\n",
    "    low=\"lightblue1\", high = \"darkblue\", \n",
    "    name = \"Prevalence\\nper 1,000\\nChildren\", \n",
    "    limits=c(0, 40) #same colour levels/limits for plots\n",
    "  ) +\n",
    "  labs(title = paste(\"Prevalence Estimates by Geographic Area\", '\\n[ Measure :', Map_Data_Value, \"] [ Source :\", Map_Data_Source, \"] [ Year :\", Map_Data_Year, \"]\"),\n",
    "       subtitle = 'https://www.cdc.gov/ncbddd/autism'\n",
    "  ) + \n",
    "  theme(panel.background = element_rect(color = \"white\", fill = \"white\"),\n",
    "        legend.position = \"right\")\n",
    "# Show map\n",
    "p_map_addm_2014"
   ]
  },
  {
   "cell_type": "code",
   "execution_count": null,
   "metadata": {},
   "outputs": [],
   "source": [
    "# Dynamic map\n",
    "p_dynamic <- p_map_addm_2014\n",
    "p_dynamic <- ggplotly(p_dynamic)\n",
    "p_dynamic"
   ]
  },
  {
   "cell_type": "markdown",
   "metadata": {},
   "source": [
    "<div class=\"alert alert-block alert-info\" style=\"margin-top: 20px\">\n",
    "    <h3>\n",
    "    Data Visualisation (Enhanced) - Plotting on Map <span style=\"color:blue\">[ R ] REPORTED PREVALENCE VARIES BY GEOGRAPHIC LOCATION</span> [ Source: NSCH] [ Year: 2004, 2008, 2012, 2016 ]\n",
    "    </h3>\n",
    "</div>\n"
   ]
  },
  {
   "cell_type": "markdown",
   "metadata": {},
   "source": [
    "**Prepare US State level data:** [ Source: NSCH ] [ Year: ALL ]"
   ]
  },
  {
   "cell_type": "code",
   "execution_count": null,
   "metadata": {},
   "outputs": [],
   "source": [
    "Map_Data_Source = 'nsch' # Available values lowercase: 'addm', 'medi', 'nsch', 'sped'.\n",
    "Map_Data_Value = 'Prevalence' # variable must be numeric, variable name in 'quotation'. Or else Error: Discrete value supplied to continuous scale"
   ]
  },
  {
   "cell_type": "markdown",
   "metadata": {},
   "source": [
    "Visualise: **Prevalence Estimates by Geographic Area** [ Source: NSCH ] [ Year: 2004 ]"
   ]
  },
  {
   "cell_type": "code",
   "execution_count": null,
   "metadata": {
    "scrolled": false
   },
   "outputs": [],
   "source": [
    "# Prepare data - nsch 2004\n",
    "Map_Data_Year = 2004 # must be integer\n",
    "ASD_State_Subset = subset(ASD_State, Source == Map_Data_Source & Year == Map_Data_Year)\n",
    "ASD_State_Subset$state = ASD_State_Subset$State\n",
    "# Plot on map\n",
    "p_map_nsch_2004 <- plot_usmap(data = ASD_State_Subset, values = Map_Data_Value, color = \"white\", labels = F, label_color = 'white' ) + scale_fill_continuous(na.value = \"lightgrey\", low=\"lightblue1\", high = \"darkblue\", name = \"Prevalence\\nper 1,000\\nChildren\", limits=c(0, 40) ) + labs(title = paste(\"Prevalence Estimates by Geographic Area\", '\\n[ Measure :', Map_Data_Value, \"] [ Source :\", Map_Data_Source, \"] [ Year :\", Map_Data_Year, \"]\"), subtitle = 'https://www.cdc.gov/ncbddd/autism' ) + theme(panel.background = element_rect(color = \"white\", fill = \"white\"), legend.position = \"right\")\n",
    "p_map_nsch_2004"
   ]
  },
  {
   "cell_type": "markdown",
   "metadata": {},
   "source": [
    "Visualise: **Prevalence Estimates by Geographic Area** [ Source: NSCH ] [ Year: 2008 ]"
   ]
  },
  {
   "cell_type": "code",
   "execution_count": null,
   "metadata": {},
   "outputs": [],
   "source": [
    "# Prepare data - nsch 2008\n",
    "Map_Data_Year = 2008 # must be integer\n",
    "ASD_State_Subset = subset(ASD_State, Source == Map_Data_Source & Year == Map_Data_Year)\n",
    "ASD_State_Subset$state = ASD_State_Subset$State\n",
    "p_map_nsch_2008 <- plot_usmap(data = ASD_State_Subset, values = Map_Data_Value, color = \"white\", labels = F, label_color = 'white' ) + scale_fill_continuous(na.value = \"lightgrey\", low=\"lightblue1\", high = \"darkblue\", name = \"Prevalence\\nper 1,000\\nChildren\", limits=c(0, 40) ) + labs(title = paste(\"Prevalence Estimates by Geographic Area\", '\\n[ Measure :', Map_Data_Value, \"] [ Source :\", Map_Data_Source, \"] [ Year :\", Map_Data_Year, \"]\"), subtitle = 'https://www.cdc.gov/ncbddd/autism' ) + theme(panel.background = element_rect(color = \"white\", fill = \"white\"), legend.position = \"right\")\n",
    "p_map_nsch_2008"
   ]
  },
  {
   "cell_type": "markdown",
   "metadata": {},
   "source": [
    "Visualise: **Prevalence Estimates by Geographic Area** [ Source: NSCH ] [ Year: 2012 ]"
   ]
  },
  {
   "cell_type": "code",
   "execution_count": null,
   "metadata": {},
   "outputs": [],
   "source": [
    "# Prepare data - nsch 2012\n",
    "Map_Data_Year = 2012 # must be integer\n",
    "ASD_State_Subset = subset(ASD_State, Source == Map_Data_Source & Year == Map_Data_Year)\n",
    "ASD_State_Subset$state = ASD_State_Subset$State\n",
    "p_map_nsch_2012 <- plot_usmap(data = ASD_State_Subset, values = Map_Data_Value, color = \"white\", labels = F, label_color = 'white' ) + scale_fill_continuous(na.value = \"lightgrey\", low=\"lightblue1\", high = \"darkblue\", name = \"Prevalence\\nper 1,000\\nChildren\", limits=c(0, 40) ) + labs(title = paste(\"Prevalence Estimates by Geographic Area\", '\\n[ Measure :', Map_Data_Value, \"] [ Source :\", Map_Data_Source, \"] [ Year :\", Map_Data_Year, \"]\"), subtitle = 'https://www.cdc.gov/ncbddd/autism' ) + theme(panel.background = element_rect(color = \"white\", fill = \"white\"), legend.position = \"right\")\n",
    "p_map_nsch_2012"
   ]
  },
  {
   "cell_type": "markdown",
   "metadata": {},
   "source": [
    "Visualise: **Prevalence Estimates by Geographic Area** [ Source: NSCH ] [ Year: 2016 ]"
   ]
  },
  {
   "cell_type": "code",
   "execution_count": null,
   "metadata": {},
   "outputs": [],
   "source": [
    "# Prepare data - nsch 2016\n",
    "Map_Data_Year = 2016 # must be integer\n",
    "ASD_State_Subset = subset(ASD_State, Source == Map_Data_Source & Year == Map_Data_Year)\n",
    "ASD_State_Subset$state = ASD_State_Subset$State\n",
    "p_map_nsch_2016 <- plot_usmap(data = ASD_State_Subset, values = Map_Data_Value, color = \"white\", labels = F, label_color = 'white' ) + scale_fill_continuous(na.value = \"lightgrey\", low=\"lightblue1\", high = \"darkblue\", name = \"Prevalence\\nper 1,000\\nChildren\", limits=c(0, 40) ) + labs(title = paste(\"Prevalence Estimates by Geographic Area\", '\\n[ Measure :', Map_Data_Value, \"] [ Source :\", Map_Data_Source, \"] [ Year :\", Map_Data_Year, \"]\"), subtitle = 'https://www.cdc.gov/ncbddd/autism' ) + theme(panel.background = element_rect(color = \"white\", fill = \"white\"), legend.position = \"right\")\n",
    "p_map_nsch_2016"
   ]
  },
  {
   "cell_type": "code",
   "execution_count": null,
   "metadata": {
    "scrolled": false
   },
   "outputs": [],
   "source": [
    "# Dynamic map\n",
    "p_dynamic <- p_map_nsch_2016 # [ Source: NSCH ] [ Year: 2016 ]\n",
    "p_dynamic <- ggplotly(p_dynamic)\n",
    "p_dynamic"
   ]
  },
  {
   "cell_type": "markdown",
   "metadata": {},
   "source": [
    "**Combine multiple plots to show in one page/screen:**"
   ]
  },
  {
   "cell_type": "code",
   "execution_count": null,
   "metadata": {},
   "outputs": [],
   "source": [
    "# Adjust in-line plot size to M x N\n",
    "options(repr.plot.width=8, repr.plot.height=6)"
   ]
  },
  {
   "cell_type": "code",
   "execution_count": null,
   "metadata": {},
   "outputs": [],
   "source": [
    "# ----------------------------------\n",
    "# Combine multiple plots \n",
    "# ----------------------------------\n",
    "if(!require(cowplot)){install.packages(\"cowplot\")}\n",
    "library('cowplot')\n",
    "cowplot::plot_grid(\n",
    "  p_map_nsch_2004,\n",
    "  p_map_nsch_2008,\n",
    "  p_map_nsch_2012,\n",
    "  p_map_nsch_2016,\n",
    "  nrow = 2)"
   ]
  },
  {
   "cell_type": "markdown",
   "metadata": {},
   "source": [
    "**Export current plot as image file:**"
   ]
  },
  {
   "cell_type": "code",
   "execution_count": null,
   "metadata": {},
   "outputs": [],
   "source": [
    "# ----------------------------------\n",
    "# Export current plot as image file\n",
    "# ----------------------------------\n",
    "ggsave(\"plot Map Prevalence Estimates by Geographic Area [NSCH] [2004-2016].png\", \n",
    "       width = 60, height = 30, units = 'cm')"
   ]
  },
  {
   "cell_type": "markdown",
   "metadata": {},
   "source": [
    "<div class=\"alert alert-block alert-info\" style=\"margin-top: 20px\">\n",
    "    <a href=\"\">\n",
    "         <img src=\"\" width=\"750\" align=\"center\">\n",
    "    </a>\n",
    "</div>\n",
    "\n"
   ]
  },
  {
   "cell_type": "markdown",
   "metadata": {},
   "source": [
    "## <span style=\"color:blue\">Sampling & Normality</span>\n"
   ]
  },
  {
   "cell_type": "markdown",
   "metadata": {},
   "source": [
    "<div class=\"alert alert-block alert-info\" style=\"margin-top: 20px\">\n",
    "    <h3>\n",
    "    Sampling & Normality - Population & Sample\n",
    "    </h3>\n",
    "</div>\n"
   ]
  },
  {
   "cell_type": "code",
   "execution_count": null,
   "metadata": {},
   "outputs": [],
   "source": [
    "# Adjust in-line plot size to M x N\n",
    "# options(repr.plot.width=8, repr.plot.height=4)"
   ]
  },
  {
   "cell_type": "markdown",
   "metadata": {},
   "source": [
    "**Create a  <span style=\"color:blue\">Population</span> of US. State level ASD Prevalence from Source SPED in Year 2016**"
   ]
  },
  {
   "cell_type": "code",
   "execution_count": null,
   "metadata": {},
   "outputs": [],
   "source": [
    "# ----------------------------------\n",
    "# Create a *Population* of US. State level ASD Prevalence from Source SPED in Year 2016 \n",
    "# ----------------------------------\n",
    "ASD_State_SPED_2016 <- subset(ASD_State, Source == 'sped' & Year == 2016, select=c('State', 'Prevalence'))\n",
    "#\n",
    "head(ASD_State_SPED_2016)"
   ]
  },
  {
   "cell_type": "code",
   "execution_count": null,
   "metadata": {},
   "outputs": [],
   "source": [
    "dim(ASD_State_SPED_2016)\n",
    "# *Population* mean Prevalence\n",
    "mean(ASD_State_SPED_2016$Prevalence)"
   ]
  },
  {
   "cell_type": "markdown",
   "metadata": {},
   "source": [
    "**Define a function to calculate population std-dev (Omega):**"
   ]
  },
  {
   "cell_type": "code",
   "execution_count": null,
   "metadata": {},
   "outputs": [],
   "source": [
    "# Use sd()   to calculate *sample*     std-dev (S)\n",
    "# Use sd.p() to calculate *population* std-dev (Omega)\n",
    "\n",
    "# Define a function sd.p() to calculate *population* std-dev (Omega)\n",
    "# https://www.dummies.com/education/math/statistics/standard-deviation-r/\n",
    "\n",
    "sd.p = function(x) {sd(x) * sqrt((length(x)-1)/length(x))}\n",
    "\n",
    "# Treat as sample:\n",
    "cat('sd()   of ASD_State_SPED_2016$Prevalence : ', sd(ASD_State_SPED_2016$Prevalence) )\n",
    "\n",
    "# Treat as population:\n",
    "cat('\\nsd.p() of ASD_State_SPED_2016$Prevalence : ', sd.p(ASD_State_SPED_2016$Prevalence) )"
   ]
  },
  {
   "cell_type": "markdown",
   "metadata": {},
   "source": [
    "<div class=\"alert alert-block alert-info\" style=\"margin-top: 20px\">\n",
    "    <h3>\n",
    "    Sampling & Normality - Central Limit Theorem (CLT)\n",
    "    </h3>\n",
    "</div>\n"
   ]
  },
  {
   "cell_type": "markdown",
   "metadata": {},
   "source": [
    "**Create a  <span style=\"color:blue\">Sample</span> of US. State level ASD Prevalence from Source SPED in Year 2016**"
   ]
  },
  {
   "cell_type": "code",
   "execution_count": null,
   "metadata": {},
   "outputs": [],
   "source": [
    "# Create a *Sample* from ASD_State_SPED_2016$Prevalence,\n",
    "# with sample size n =\n",
    "clt_n = 20\n",
    "# clt_n = 40\n",
    "\n",
    "set.seed(88)\n",
    "clt_sample_1 = sample(x = ASD_State_SPED_2016$Prevalence, size = clt_n, replace = TRUE)\n",
    "clt_sample_1"
   ]
  },
  {
   "cell_type": "code",
   "execution_count": null,
   "metadata": {},
   "outputs": [],
   "source": [
    "# Adjust in-line plot size to M x N\n",
    "options(repr.plot.width=8, repr.plot.height=4)"
   ]
  },
  {
   "cell_type": "code",
   "execution_count": null,
   "metadata": {},
   "outputs": [],
   "source": [
    "plot(density(clt_sample_1), col=\"darkgrey\", lwd=2) \n",
    "hist(clt_sample_1, probability = T, add = T)"
   ]
  },
  {
   "cell_type": "markdown",
   "metadata": {},
   "source": [
    "**Draw a large k number of samples, with sample size = n**:"
   ]
  },
  {
   "cell_type": "code",
   "execution_count": null,
   "metadata": {
    "scrolled": true
   },
   "outputs": [],
   "source": [
    "# Repeatedly sample for k times, create a matrix/array to store these samples\n",
    "clt_k = 10000 # or called 'N', but this can be confusing due to N can also be population size. Thus we use 'k' here.\n",
    "\n",
    "set.seed(88) # Repeatable sampling using pseudo random methold\n",
    "clt_sample_k <- (replicate(clt_k, sample(x = ASD_State_SPED_2016$Prevalence, size = clt_n, replace = TRUE)))\n",
    "\n",
    "# first few samples\n",
    "clt_sample_k[, 1:6]"
   ]
  },
  {
   "cell_type": "code",
   "execution_count": null,
   "metadata": {},
   "outputs": [],
   "source": [
    "# last sample\n",
    "clt_sample_k[, clt_k]"
   ]
  },
  {
   "cell_type": "code",
   "execution_count": null,
   "metadata": {},
   "outputs": [],
   "source": [
    "# mean values of first few samples\n",
    "mean(clt_sample_k[, 1])\n",
    "mean(clt_sample_k[, 2])\n",
    "mean(clt_sample_k[, 3])\n",
    "mean(clt_sample_k[, 4])\n",
    "mean(clt_sample_k[, 5])\n",
    "mean(clt_sample_k[, 6])\n",
    "\n",
    "# or use apply() function to loop\n",
    "apply(clt_sample_k[, 1:6], 2, mean)"
   ]
  },
  {
   "cell_type": "code",
   "execution_count": null,
   "metadata": {},
   "outputs": [],
   "source": [
    "# std-dev values of first few samples\n",
    "sd(clt_sample_k[, 1])\n",
    "sd(clt_sample_k[, 2])\n",
    "sd(clt_sample_k[, 3])\n",
    "sd(clt_sample_k[, 4])\n",
    "sd(clt_sample_k[, 5])\n",
    "sd(clt_sample_k[, 6])\n",
    "\n",
    "# or use apply() function to loop\n",
    "apply(clt_sample_k[, 1:6], 2, sd)"
   ]
  },
  {
   "cell_type": "markdown",
   "metadata": {},
   "source": [
    "**k sample's distributions (k many)**"
   ]
  },
  {
   "cell_type": "code",
   "execution_count": null,
   "metadata": {
    "scrolled": true
   },
   "outputs": [],
   "source": [
    "# ----------------------------------\n",
    "# k sample's distributions (k many)\n",
    "# ----------------------------------\n",
    "# Show the first few sample's histogram\n",
    "par(mfrow=c(2, 3))\n",
    "apply(clt_sample_k[, 1:6], 2, FUN=hist)\n",
    "# Reset\n",
    "par(mfrow=c(1, 1))"
   ]
  },
  {
   "cell_type": "markdown",
   "metadata": {},
   "source": [
    "**Show the first few sample's density, together with Population**"
   ]
  },
  {
   "cell_type": "code",
   "execution_count": null,
   "metadata": {},
   "outputs": [],
   "source": [
    "# Show the first few sample's density, together with Population\n",
    "# Population (Prevalence) histogram in probablity\n",
    "hist(ASD_State_SPED_2016$Prevalence, probability = T, \n",
    "     col=rgb(0.75,0.75,0.75,0.5), breaks = 50,\n",
    "     xlab = 'Prevalvence', xlim = (c(0, 25)),\n",
    "     ylab = 'Probability Density', \n",
    "     ylim = (c(0, 0.6)),\n",
    "     main = 'Visualize Population & Samples')\n",
    "\n",
    "# Overlay curve:\n",
    "# Population (Prevalence) density\n",
    "lines(density(ASD_State_SPED_2016$Prevalence), col=\"grey4\", lwd=2) \n",
    "\n",
    "# Overlay line:\n",
    "# mean = mean of Population (Prevalence)\n",
    "abline(v=mean(ASD_State_SPED_2016$Prevalence), col=\"grey4\", lwd=2) "
   ]
  },
  {
   "cell_type": "code",
   "execution_count": null,
   "metadata": {},
   "outputs": [],
   "source": [
    "# Show the first few sample's density, together with Population\n",
    "# Population (Prevalence) histogram in probablity\n",
    "hist(ASD_State_SPED_2016$Prevalence, probability = T, \n",
    "     col=rgb(0.75,0.75,0.75,0.5), breaks = 50,\n",
    "     xlab = 'Prevalvence', xlim = (c(0, 25)),\n",
    "     ylab = 'Probability Density', \n",
    "     ylim = (c(0, 0.6)),\n",
    "     main = 'Visualize Population & Samples')\n",
    "\n",
    "# Overlay curve:\n",
    "# Population (Prevalence) density\n",
    "lines(density(ASD_State_SPED_2016$Prevalence), col=\"grey4\", lwd=2) \n",
    "\n",
    "# Overlay line:\n",
    "# mean = mean of Population (Prevalence)\n",
    "abline(v=mean(ASD_State_SPED_2016$Prevalence), col=\"grey4\", lwd=2) \n",
    "\n",
    "# Overlay:\n",
    "# First few sample's density & mean\n",
    "lines(density(clt_sample_k[, 1]), col=\"blue\", lwd=1) \n",
    "abline(v=mean(clt_sample_k[, 1]), col=\"blue\", lwd=1) \n",
    "\n",
    "lines(density(clt_sample_k[, 2]), col=\"blue\", lwd=1) \n",
    "abline(v=mean(clt_sample_k[, 2]), col=\"blue\", lwd=1) \n",
    "\n",
    "lines(density(clt_sample_k[, 3]), col=\"blue\", lwd=1) \n",
    "abline(v=mean(clt_sample_k[, 3]), col=\"blue\", lwd=1) \n",
    "\n",
    "lines(density(clt_sample_k[, 4]), col=\"blue\", lwd=1) \n",
    "abline(v=mean(clt_sample_k[, 4]), col=\"blue\", lwd=1) \n",
    "\n",
    "lines(density(clt_sample_k[, 5]), col=\"blue\", lwd=1) \n",
    "abline(v=mean(clt_sample_k[, 5]), col=\"blue\", lwd=1) \n",
    "\n",
    "lines(density(clt_sample_k[, 6]), col=\"blue\", lwd=1) \n",
    "abline(v=mean(clt_sample_k[, 6]), col=\"blue\", lwd=1) \n",
    "\n",
    "lines(density(clt_sample_k[, clt_k]), col=\"blue\", lwd=1) \n",
    "abline(v=mean(clt_sample_k[, clt_k]), col=\"blue\", lwd=1) \n",
    "\n",
    "# We can see that sample's distributions are all different."
   ]
  },
  {
   "cell_type": "markdown",
   "metadata": {},
   "source": [
    "**<span style=\"color:blue\">[ Tips ]</span> We notice that sample's distributions are all different.**"
   ]
  },
  {
   "cell_type": "markdown",
   "metadata": {},
   "source": [
    "**Create <span style=\"color:blue\">Sampling Distribution</span> (only one):**"
   ]
  },
  {
   "cell_type": "code",
   "execution_count": null,
   "metadata": {},
   "outputs": [],
   "source": [
    "# ----------------------------------\n",
    "# Sampling distribution (only one)\n",
    "# ----------------------------------\n",
    "# Calculate sample mean value for k samples\n",
    "clt_sample_k_mean <- apply(clt_sample_k, 2, mean)\n",
    "# Show first few sample means\n",
    "clt_sample_k_mean[1:6]"
   ]
  },
  {
   "cell_type": "code",
   "execution_count": null,
   "metadata": {},
   "outputs": [],
   "source": [
    "# Calculate sample std-dev value for each individual sample (totally k std-dev)\n",
    "clt_sample_k_sd <- apply(clt_sample_k, 2, sd)\n",
    "# Show first few samples' std-dev\n",
    "clt_sample_k_sd[1:6]"
   ]
  },
  {
   "cell_type": "code",
   "execution_count": null,
   "metadata": {},
   "outputs": [],
   "source": [
    "# Calculate std-dev value for Sampling DIsdtribution (only one std-dev)\n",
    "sd(clt_sample_k_mean)"
   ]
  },
  {
   "cell_type": "code",
   "execution_count": null,
   "metadata": {},
   "outputs": [],
   "source": [
    "# histogram of sample means (Sampling distribution of the mean)\n",
    "hist(clt_sample_k_mean, probability = T, breaks = 100)\n",
    "lines(density(clt_sample_k_mean), col=\"cyan2\", lwd=2) "
   ]
  },
  {
   "cell_type": "code",
   "execution_count": null,
   "metadata": {},
   "outputs": [],
   "source": [
    "# histogram of sample std-dev\n",
    "hist(clt_sample_k_sd, probability = T, breaks = 100)\n",
    "lines(density(clt_sample_k_sd), col=\"orange2\", lwd=2) "
   ]
  },
  {
   "cell_type": "code",
   "execution_count": null,
   "metadata": {},
   "outputs": [],
   "source": [
    "# k *Sample* (sample size = n) mean Prevalence\n",
    "mean(clt_sample_k_mean)"
   ]
  },
  {
   "cell_type": "code",
   "execution_count": null,
   "metadata": {},
   "outputs": [],
   "source": [
    "# *Population* mean Prevalence\n",
    "mean(ASD_State_SPED_2016$Prevalence)"
   ]
  },
  {
   "cell_type": "markdown",
   "metadata": {},
   "source": [
    "**<span style=\"color:blue\">[ Tips ]</span> We notice that the above two means are close.**"
   ]
  },
  {
   "cell_type": "markdown",
   "metadata": {},
   "source": [
    "**Visualise: Central Limit Theorem (CLT)**"
   ]
  },
  {
   "cell_type": "code",
   "execution_count": null,
   "metadata": {},
   "outputs": [],
   "source": [
    "# ----------------------------------\n",
    "# Sampling distribution vs. Population distribution vs. Z-Norm\n",
    "# ----------------------------------\n",
    "# Create:\n",
    "# Population (Prevalence) histogram in probablity\n",
    "hist(ASD_State_SPED_2016$Prevalence, probability = T, \n",
    "     col=rgb(0.75,0.75,0.75,0.5), breaks = 50,\n",
    "     xlab = 'Prevalvence', xlim = (c(0, 25)),\n",
    "     ylab = 'Probability Density', ylim = (c(0, 0.6)),\n",
    "     main = 'Visualize Central Limit Theorem (CLT)')\n",
    "\n",
    "# Overlay curve:\n",
    "# Population (Prevalence) density\n",
    "lines(density(ASD_State_SPED_2016$Prevalence), col=\"grey4\", lwd=2) \n",
    "\n",
    "# Overlay line:\n",
    "# mean = mean of Population (Prevalence)\n",
    "abline(v=mean(ASD_State_SPED_2016$Prevalence), col=\"black\", lwd=2) "
   ]
  },
  {
   "cell_type": "markdown",
   "metadata": {},
   "source": [
    "**Overlay: Sample means histogram in probability (Sampling disribution)**"
   ]
  },
  {
   "cell_type": "code",
   "execution_count": null,
   "metadata": {},
   "outputs": [],
   "source": [
    "# ----------------------------------\n",
    "# Sampling distribution vs. Population distribution vs. Z-Norm\n",
    "# ----------------------------------\n",
    "# Create:\n",
    "# Population (Prevalence) histogram in probablity\n",
    "hist(ASD_State_SPED_2016$Prevalence, probability = T, \n",
    "     col=rgb(0.75,0.75,0.75,0.5), breaks = 50,\n",
    "     xlab = 'Prevalvence', xlim = (c(0, 25)),\n",
    "     ylab = 'Probability Density', ylim = (c(0, 0.6)),\n",
    "     main = 'Visualize Central Limit Theorem (CLT)')\n",
    "\n",
    "# Overlay curve:\n",
    "# Population (Prevalence) density\n",
    "lines(density(ASD_State_SPED_2016$Prevalence), col=\"grey4\", lwd=2) \n",
    "\n",
    "# Overlay line:\n",
    "# mean = mean of Population (Prevalence)\n",
    "abline(v=mean(ASD_State_SPED_2016$Prevalence), col=\"black\", lwd=2) \n",
    "\n",
    "# Overlay line:\n",
    "# Sample means histogram in probability (Sampling disribution)\n",
    "hist(clt_sample_k_mean, probability = T, \n",
    "     col=rgb(0,1,1,0.3), # https://www.dataanalytics.org.uk/make-transparent-colors-in-r/\n",
    "     add=T)\n",
    "\n",
    "# Overlay curve:\n",
    "# Sample (Prevalence) density (Sampling disribution)\n",
    "lines(density(clt_sample_k_mean), col=\"cyan2\", lwd=2) \n",
    "# Overlay line:\n",
    "# mean of Sampling distribution (of Prevelance, sample size n) \n",
    "abline(v=mean(clt_sample_k_mean), col=\"cyan2\", lwd=2, lty=3) "
   ]
  },
  {
   "cell_type": "markdown",
   "metadata": {},
   "source": [
    "< How to make transparent colors in R >\n",
    "\n",
    "https://www.dataanalytics.org.uk/make-transparent-colors-in-r/\n",
    "\n",
    "col2rgb(c(\"cyan\", \"grey\", \"red\")) / 255\n"
   ]
  },
  {
   "cell_type": "code",
   "execution_count": null,
   "metadata": {},
   "outputs": [],
   "source": [
    "col2rgb(c(\"cyan\", \"grey\", \"purple\", \"orange\")) / 255"
   ]
  },
  {
   "cell_type": "code",
   "execution_count": null,
   "metadata": {},
   "outputs": [],
   "source": [
    "# Recall:\n",
    "# k *Sample* (sample size = n) mean Prevalence\n",
    "mean(clt_sample_k_mean)\n",
    "# *Population* mean Prevalence\n",
    "mean(ASD_State_SPED_2016$Prevalence)\n",
    "# We see that the above two means are close. Good estimation!"
   ]
  },
  {
   "cell_type": "markdown",
   "metadata": {},
   "source": [
    "**<span style=\"color:blue\">[ Tips ]</span> We notice that the above two means are close. <span style=\"color:blue\">Good estimation!</span>**"
   ]
  },
  {
   "cell_type": "markdown",
   "metadata": {},
   "source": [
    "**Standard Error (SE) (of mean prevalence), can be estimated as: std-dev of the Sampling distribution (of mean prevalence):**"
   ]
  },
  {
   "cell_type": "code",
   "execution_count": null,
   "metadata": {},
   "outputs": [],
   "source": [
    "# ----------------------------------\n",
    "# Standard Error (SE) (of mean prevalence), can be estimated as:\n",
    "# std-dev of the Sampling distribution (of mean prevalence)\n",
    "# ----------------------------------\n",
    "# https://en.wikipedia.org/wiki/Sampling_distribution\n",
    "\n",
    "# [1] Actual SE: When Population std-dev is known, SE using Population standard deviation:\n",
    "sd.p(ASD_State_SPED_2016$Prevalence) / sqrt(clt_n)\n",
    "\n",
    "# [2] Estimated SE with k samples: When Population std-dev is NOT known, but many sample means are known, SE using standard deviation of Sampling distribution\n",
    "sd(clt_sample_k_mean)\n",
    "\n",
    "# [3] Estimated SE with only one sample: When Population std-dev is NOT known, and only one sample obtained, SE using Sample's standard deviation: (std-dev of 1 Sample)\n",
    "clt_sample_k_sd[1] / sqrt(clt_n)"
   ]
  },
  {
   "cell_type": "markdown",
   "metadata": {},
   "source": [
    "**Overlay: <span style=\"color:blue\">Theoretic Sampling Distribution</span> with population mean & std-dev = Actual SE:**"
   ]
  },
  {
   "cell_type": "code",
   "execution_count": null,
   "metadata": {},
   "outputs": [],
   "source": [
    "# ----------------------------------\n",
    "# Sampling distribution vs. Population distribution vs. Z-Norm\n",
    "# ----------------------------------\n",
    "# Create:\n",
    "# Population (Prevalence) histogram in probablity\n",
    "hist(ASD_State_SPED_2016$Prevalence, probability = T, \n",
    "     col=rgb(0.75,0.75,0.75,0.5), breaks = 50,\n",
    "     xlab = 'Prevalvence', xlim = (c(0, 25)),\n",
    "     ylab = 'Probability Density', ylim = (c(0, 0.6)),\n",
    "     main = 'Visualize Central Limit Theorem (CLT)')\n",
    "\n",
    "# Overlay curve:\n",
    "# Population (Prevalence) density\n",
    "lines(density(ASD_State_SPED_2016$Prevalence), col=\"grey4\", lwd=2) \n",
    "\n",
    "# Overlay line:\n",
    "# mean = mean of Population (Prevalence)\n",
    "abline(v=mean(ASD_State_SPED_2016$Prevalence), col=\"black\", lwd=2) \n",
    "\n",
    "# Overlay line:\n",
    "# Sample means histogram in probability (Sampling disribution)\n",
    "hist(clt_sample_k_mean, probability = T, \n",
    "     col=rgb(0,1,1,0.3), # https://www.dataanalytics.org.uk/make-transparent-colors-in-r/\n",
    "     add=T)\n",
    "\n",
    "# Overlay curve:\n",
    "# Sample (Prevalence) density (Sampling disribution)\n",
    "lines(density(clt_sample_k_mean), col=\"cyan2\", lwd=2) \n",
    "# Overlay line:\n",
    "# mean of Sampling distribution (of Prevelance, sample size n) \n",
    "abline(v=mean(clt_sample_k_mean), col=\"cyan2\", lwd=2, lty=3) \n",
    "\n",
    "# Overlay curve:\n",
    "# *Theoretic Sampling Distribution* with population mean & std-dev = Actual SE\n",
    "# mean = mean of Population (Prevalence) & std-dev = std-dev of Population (Prevalence) / square root of sample size n\n",
    "curve(dnorm(x, \n",
    "            mean(ASD_State_SPED_2016$Prevalence), # Actual Population mean\n",
    "            sd.p(ASD_State_SPED_2016$Prevalence) / sqrt(clt_n)), # Actual SE (for mean prevalence) = Population standard deviation / square root of sample size\n",
    "      add=TRUE, col=\"red\", lwd=2, lty=3)"
   ]
  },
  {
   "cell_type": "markdown",
   "metadata": {},
   "source": [
    "<div class=\"alert alert-block alert-info\" style=\"margin-top: 20px\">\n",
    "    <h3>\n",
    "    Sampling & Normality - Evaluate Normality\n",
    "    </h3>\n",
    "</div>\n"
   ]
  },
  {
   "cell_type": "markdown",
   "metadata": {},
   "source": [
    "**Use QQ Plot**\n",
    "\n",
    "< Construct a Quantile-Quantile Plot (QQ plot) > https://youtu.be/okjYjClSjOg\n"
   ]
  },
  {
   "cell_type": "code",
   "execution_count": null,
   "metadata": {},
   "outputs": [],
   "source": [
    "# ----------------------------------\n",
    "# Evaluate normality\n",
    "# ----------------------------------\n",
    "# Construct a Quantile-Quantile Plot (QQ plot)\n",
    "# https://youtu.be/okjYjClSjOg\n",
    "\n",
    "par(mfrow=c(1, 2))\n",
    "# Sample means\n",
    "qqnorm(clt_sample_k_mean, col=\"darkgrey\", \n",
    "#       xlim=(c(-4, 4)), ylim=(c(0, 20)),\n",
    "       xlab=\"z Value\", ylab=\"Prevalence\")\n",
    "qqline(clt_sample_k_mean, col=\"red\", lwd=2, lty=3)\n",
    "# Population\n",
    "qqnorm(ASD_State_SPED_2016$Prevalence, col=\"darkgrey\", \n",
    "       xlim=(c(-4, 4)),\n",
    "       xlab=\"z Value\", ylab=\"Prevalence\")\n",
    "qqline(ASD_State_SPED_2016$Prevalence, col=\"red\", lwd=2, lty=3)\n",
    "# Reset\n",
    "par(mfrow=c(1, 1))\n"
   ]
  },
  {
   "cell_type": "markdown",
   "metadata": {},
   "source": [
    "**<span style=\"color:blue\">[ Tips ]</span> If most/all data points are aligned with the red straight line, then the underlying data points are normally distributed.**"
   ]
  },
  {
   "cell_type": "code",
   "execution_count": null,
   "metadata": {},
   "outputs": [],
   "source": [
    "# Alternatively, use shapiro.test() to test Normality\n",
    "set.seed(88)\n",
    "\n",
    "# Test data of k smaple's means (Sampling Distribution data):\n",
    "shapiro.test(sample(x = clt_sample_k_mean, size = 1000))\n",
    "\n",
    "# Test data of population's Prevalence values (Population Distribution data):\n",
    "shapiro.test(ASD_State_SPED_2016$Prevalence)"
   ]
  },
  {
   "cell_type": "markdown",
   "metadata": {},
   "source": [
    "**<span style=\"color:blue\">[ Tips ]</span> General speaking, if <span style=\"color:blue\">p-value</span> is greater than <span style=\"color:blue\">0.05 (meaning more than 5% chance of being normally distributed)</span>, then the underlying data points are normally distributed.**"
   ]
  },
  {
   "cell_type": "markdown",
   "metadata": {},
   "source": [
    "<div class=\"alert alert-block alert-info\" style=\"margin-top: 20px\">\n",
    "</div>\n",
    "\n"
   ]
  },
  {
   "cell_type": "markdown",
   "metadata": {},
   "source": [
    "## <span style=\"color:blue\">Confidence Interval (CI)</span>\n"
   ]
  },
  {
   "cell_type": "markdown",
   "metadata": {},
   "source": [
    "<div class=\"alert alert-block alert-info\" style=\"margin-top: 20px\">\n",
    "    <h3>\n",
    "    Confidence Interval (CI) - Mean Estimation & Its CI\n",
    "    </h3>\n",
    "</div>\n"
   ]
  },
  {
   "cell_type": "markdown",
   "metadata": {},
   "source": [
    "**Use a <span style=\"color:blue\">Sample statistic (e.g. mean)</span> to estimate a <span style=\"color:blue\">population statistic (e.g. mean)</span>. And quantitatively calculate the confidence of the estimation.**"
   ]
  },
  {
   "cell_type": "code",
   "execution_count": null,
   "metadata": {
    "scrolled": true
   },
   "outputs": [],
   "source": [
    "# ----------------------------------\n",
    "# Use a sample of a few US. State's ASD prevalence (mean) to estimate:\n",
    "# Average prevalence of ALL US. States (the *Population*) [Source SPED, Year 2016]\n",
    "# ----------------------------------\n",
    "dim(ASD_State_SPED_2016)\n",
    "#\n",
    "ASD_State_SPED_2016 # This is considered as a population now."
   ]
  },
  {
   "cell_type": "markdown",
   "metadata": {},
   "source": [
    "**Draw a  <span style=\"color:blue\">Sample</span> from ASD_State_SPED_2016$Prevalence**"
   ]
  },
  {
   "cell_type": "code",
   "execution_count": null,
   "metadata": {},
   "outputs": [],
   "source": [
    "# Create a *Sample* from ASD_State_SPED_2016$Prevalence,\n",
    "# with sample size n =\n",
    "clt_n = 10\n",
    "# Try 20 or 40, larger sample size, narrower the CI (more confident at xx% level)\n",
    "# clt_n = 20 \n",
    "\n",
    "set.seed(88)\n",
    "clt_sample_1 = sample(x = ASD_State_SPED_2016$Prevalence, size = clt_n, replace = FALSE)\n",
    "clt_sample_1"
   ]
  },
  {
   "cell_type": "code",
   "execution_count": null,
   "metadata": {},
   "outputs": [],
   "source": [
    "plot(density(clt_sample_1), col=\"darkgrey\", lwd=2) \n",
    "hist(clt_sample_1, probability = T, add = T)"
   ]
  },
  {
   "cell_type": "code",
   "execution_count": null,
   "metadata": {},
   "outputs": [],
   "source": [
    "# Sample mean Prevalence\n",
    "mean(clt_sample_1)\n",
    "\n",
    "# *Population* mean Prevalence\n",
    "mean(ASD_State_SPED_2016$Prevalence)"
   ]
  },
  {
   "cell_type": "markdown",
   "metadata": {},
   "source": [
    "**1. Calculate Confidence Interval of mean estimation: <span style=\"color:blue\">CI using Z (Standard Normal) distribution</span>**"
   ]
  },
  {
   "cell_type": "code",
   "execution_count": null,
   "metadata": {},
   "outputs": [],
   "source": [
    "# ----------------------------------\n",
    "# CI using Z (Standard Normal) distribution\n",
    "# ----------------------------------\n",
    "# sample mean\n",
    "sample_mean = mean(clt_sample_1)\n",
    "sample_mean"
   ]
  },
  {
   "cell_type": "code",
   "execution_count": null,
   "metadata": {},
   "outputs": [],
   "source": [
    "# sample size n\n",
    "sample_size_n = length(clt_sample_1)\n",
    "sample_size_n"
   ]
  },
  {
   "cell_type": "code",
   "execution_count": null,
   "metadata": {},
   "outputs": [],
   "source": [
    "# sample standard deviation\n",
    "sample_sd = sd(clt_sample_1)\n",
    "sample_sd"
   ]
  },
  {
   "cell_type": "code",
   "execution_count": null,
   "metadata": {},
   "outputs": [],
   "source": [
    "# sample standard error\n",
    "sample_se = sample_sd / sqrt(sample_size_n)\n",
    "sample_se"
   ]
  },
  {
   "cell_type": "code",
   "execution_count": null,
   "metadata": {},
   "outputs": [],
   "source": [
    "# 95% quantile (z score)\n",
    "z_score = qnorm(p = 0.975)\n",
    "z_score"
   ]
  },
  {
   "cell_type": "code",
   "execution_count": null,
   "metadata": {},
   "outputs": [],
   "source": [
    "# ?qnorm"
   ]
  },
  {
   "cell_type": "code",
   "execution_count": null,
   "metadata": {},
   "outputs": [],
   "source": [
    "# CI using Z distribution\n",
    "sample_ci = z_score * sample_se\n",
    "sample_ci"
   ]
  },
  {
   "cell_type": "code",
   "execution_count": null,
   "metadata": {},
   "outputs": [],
   "source": [
    "# Lower CI: mean + CI\n",
    "sample_mean - sample_ci\n",
    "\n",
    "# Upper CI: mean + CI\n",
    "sample_mean + sample_ci\n",
    "\n",
    "# Display\n",
    "cat('\\t< Confidence Interval (Prevalence) >\\n',  '\\tLower CI : ',  sample_mean - sample_ci, '\\tMean : ', sample_mean, '\\tUpper CI : ',  sample_mean + sample_ci)"
   ]
  },
  {
   "cell_type": "markdown",
   "metadata": {},
   "source": [
    "**<span style=\"color:blue\">[ ? ]</span> Is the population mean in this CI range?**"
   ]
  },
  {
   "cell_type": "markdown",
   "metadata": {},
   "source": [
    "**2. Calculate Confidence Interval of mean estimation: <span style=\"color:blue\">CI using T distribution</span>**"
   ]
  },
  {
   "cell_type": "code",
   "execution_count": null,
   "metadata": {},
   "outputs": [],
   "source": [
    "# ----------------------------------\n",
    "# CI using T distribution\n",
    "# ----------------------------------\n",
    "# sample mean\n",
    "sample_mean = mean(clt_sample_1)\n",
    "sample_mean\n",
    "# sample size n\n",
    "sample_size_n = length(clt_sample_1)\n",
    "sample_size_n\n",
    "# sample standard deviation\n",
    "sample_sd = sd(clt_sample_1)\n",
    "sample_sd\n",
    "# sample standard error\n",
    "sample_se = sample_sd / sqrt(sample_size_n)\n",
    "sample_se"
   ]
  },
  {
   "cell_type": "code",
   "execution_count": null,
   "metadata": {},
   "outputs": [],
   "source": [
    "# 95% quantile (t score)\n",
    "t_score = qt(p = 0.975, df = sample_size_n - 1)\n",
    "t_score"
   ]
  },
  {
   "cell_type": "code",
   "execution_count": null,
   "metadata": {},
   "outputs": [],
   "source": [
    "# ?qt"
   ]
  },
  {
   "cell_type": "code",
   "execution_count": null,
   "metadata": {},
   "outputs": [],
   "source": [
    "# CI using T distribution\n",
    "sample_ci = t_score * sample_se\n",
    "sample_ci\n",
    "\n",
    "# Lower CI: mean + CI\n",
    "sample_mean - sample_ci\n",
    "\n",
    "# Upper CI: mean + CI\n",
    "sample_mean + sample_ci\n",
    "\n",
    "# Display\n",
    "cat('\\t< Confidence Interval (Prevalence) >\\n',  '\\tLower CI : ',  sample_mean - sample_ci, '\\tMean : ', sample_mean, '\\tUpper CI : ',  sample_mean + sample_ci)"
   ]
  },
  {
   "cell_type": "markdown",
   "metadata": {},
   "source": [
    "**<span style=\"color:blue\">[ ? ]</span> Is the population mean in this CI range?**"
   ]
  },
  {
   "cell_type": "markdown",
   "metadata": {},
   "source": [
    "**<span style=\"color:blue\">[ ? ]</span> Compare CIs of Z and T distribution, which CI has wider range? Is it reasonable?**"
   ]
  },
  {
   "cell_type": "code",
   "execution_count": null,
   "metadata": {},
   "outputs": [],
   "source": [
    "# Alternatively, calculate CI using t.test() function\n",
    "t.test(clt_sample_1, conf.level = 0.95)"
   ]
  },
  {
   "cell_type": "code",
   "execution_count": null,
   "metadata": {},
   "outputs": [],
   "source": [
    "# Two group hypothesis test : sample mean vs. population mean\n",
    "t.test(clt_sample_1, conf.level = 0.95, mu = mean(ASD_State_SPED_2016$Prevalence))"
   ]
  },
  {
   "cell_type": "markdown",
   "metadata": {},
   "source": [
    "<div class=\"alert alert-danger alertdanger\" style=\"margin-top: 20px\">\n",
    "    <h3>\n",
    "        Quiz:\n",
    "    </h3>\n",
    "    <p>\n",
    "        Obtain CI using smaller/larger sample size (clt_n) at 99% confidence. Compare CI width.\n",
    "    </p>\n",
    "    <p>\n",
    "        Observe: larger sample size, narrower the CI (more confident at xx% level)\n",
    "    </p>\n",
    "</div>"
   ]
  },
  {
   "cell_type": "code",
   "execution_count": null,
   "metadata": {},
   "outputs": [],
   "source": [
    "# Write your code below and press Shift+Enter to execute \n"
   ]
  },
  {
   "cell_type": "markdown",
   "metadata": {},
   "source": [
    "Double-click <b>here</b> for the solution.\n",
    "\n",
    "<!-- The answer is below:\n",
    "\n",
    "# Write your code below and press Shift+Enter to execute \n",
    "# Try 5, 20, 40, larger sample size, narrower the CI (more confident at xx% level)\n",
    "# clt_n = 20\n",
    "\n",
    "\n",
    "-->"
   ]
  },
  {
   "cell_type": "markdown",
   "metadata": {},
   "source": [
    "<div class=\"alert alert-block alert-info\" style=\"margin-top: 20px\">\n",
    "    <h3>\n",
    "    Confidence Interval (CI) - Proportion Estimation & Its CI\n",
    "    </h3>\n",
    "</div>\n"
   ]
  },
  {
   "cell_type": "markdown",
   "metadata": {},
   "source": [
    "**Use a <span style=\"color:blue\">Sample statistic (e.g. proportioin)</span> to estimate a <span style=\"color:blue\">population statistic (e.g. proportioin)</span>. And quantitatively calculate the confidence of the estimation.**"
   ]
  },
  {
   "cell_type": "code",
   "execution_count": null,
   "metadata": {
    "scrolled": true
   },
   "outputs": [],
   "source": [
    "# ----------------------------------\n",
    "# Use a sample of one US. State's ASD prevalence (proportion) to estimate:\n",
    "# Prevalence of THAT US. State's ALL Children (the *Population*) [Source SPED, Year 2016] \n",
    "# ----------------------------------\n",
    "\n",
    "# No. Children with ASD\n",
    "ASD  <- ASD_State_SPED$Numerator_ASD[ASD_State_SPED$Year == 2016]\n",
    "#\n",
    "str(ASD)"
   ]
  },
  {
   "cell_type": "code",
   "execution_count": null,
   "metadata": {},
   "outputs": [],
   "source": [
    "# No. Children with ASD of first US. State (AL-Alabama)\n",
    "ASD[1]"
   ]
  },
  {
   "cell_type": "code",
   "execution_count": null,
   "metadata": {},
   "outputs": [],
   "source": [
    "# No. Children surveyed\n",
    "Children  <- ASD_State_SPED$Denominator[ASD_State_SPED$Year == 2016]\n",
    "#\n",
    "str(Children)"
   ]
  },
  {
   "cell_type": "code",
   "execution_count": null,
   "metadata": {},
   "outputs": [],
   "source": [
    "# No. Children surveyed of first US. State (AL-Alabama)\n",
    "Children[1]"
   ]
  },
  {
   "cell_type": "markdown",
   "metadata": {},
   "source": [
    "**1. Calculate Confidence Interval of proportion estimation: <span style=\"color:blue\">CI using Z score interval  (standard normal distribution)</span>**"
   ]
  },
  {
   "cell_type": "code",
   "execution_count": null,
   "metadata": {},
   "outputs": [],
   "source": [
    "# ----------------------------------\n",
    "# CI using Z score interval  (standard normal distribution)\n",
    "# https://en.wikipedia.org/wiki/Binomial_proportion_confidence_interval\n",
    "# ----------------------------------\n",
    "\n",
    "# sample proportion of first US. State (AL-Alabama) in year 2016 of source SPED\n",
    "sample_proportion = ASD[1] / Children[1]\n",
    "sample_proportion"
   ]
  },
  {
   "cell_type": "code",
   "execution_count": null,
   "metadata": {},
   "outputs": [],
   "source": [
    "# sample size n\n",
    "sample_size_n = Children[1]\n",
    "sample_size_n"
   ]
  },
  {
   "cell_type": "code",
   "execution_count": null,
   "metadata": {},
   "outputs": [],
   "source": [
    "# 95% quantile (z score)\n",
    "z_score = qnorm(p = 0.975)\n",
    "z_score"
   ]
  },
  {
   "cell_type": "code",
   "execution_count": null,
   "metadata": {},
   "outputs": [],
   "source": [
    "sample_ci = z_score * sqrt(sample_proportion * (1 - sample_proportion) / sample_size_n)\n",
    "sample_ci"
   ]
  },
  {
   "cell_type": "code",
   "execution_count": null,
   "metadata": {},
   "outputs": [],
   "source": [
    "# Lower CI: mean + CI\n",
    "sample_proportion - sample_ci\n",
    "\n",
    "# Upper CI: mean + CI\n",
    "sample_proportion + sample_ci\n",
    "\n",
    "# Display\n",
    "cat('\\t< Confidence Interval >\\n',  '\\tLower CI : ',  sample_proportion - sample_ci, '\\tMean : ', sample_proportion, '\\tUpper CI : ',  sample_proportion + sample_ci)\n"
   ]
  },
  {
   "cell_type": "code",
   "execution_count": null,
   "metadata": {},
   "outputs": [],
   "source": [
    "# Display * 1000 -> Prevalence\n",
    "cat('\\t< Confidence Interval (Prevalence) >\\n',  '\\tLower CI : ',  1000*(sample_proportion - sample_ci), '\\tMean : ', 1000*sample_proportion, '\\tUpper CI : ',  1000*(sample_proportion + sample_ci))\n"
   ]
  },
  {
   "cell_type": "markdown",
   "metadata": {},
   "source": [
    "**<span style=\"color:blue\">[ Tips ]</span> Based above calculation upon [ Source: SPED ] [ Year: 2016 ] data, we have 95% confidence that: The actual AL-Alabama state level ASD prevalence (if ALL childrens in Alabama state were surveyed) would be in the above calculated CI range 95% times.** \n",
    "\n",
    "Or, asumming there are 100 independently different Alabama states exist in 100 parallel universe, we obtained 100 actual prevelance proportions. 95 of them will likely fall into the CI value range."
   ]
  },
  {
   "cell_type": "markdown",
   "metadata": {},
   "source": [
    "**2. Calculate Confidence Interval of proportion estimation: <span style=\"color:blue\">CI using Wilson score interval</span>**"
   ]
  },
  {
   "cell_type": "code",
   "execution_count": null,
   "metadata": {},
   "outputs": [],
   "source": [
    "# ----------------------------------\n",
    "# CI using Wilson score interval\n",
    "# https://en.wikipedia.org/wiki/Binomial_proportion_confidence_interval\n",
    "# ----------------------------------\n",
    "\n",
    "sample_proportion # = ASD[1] / Children[1]\n",
    "\n",
    "# Yates' chi-squared test = Wilson score interval with continuity correction - prop.test\n",
    "prop.test(ASD[1], Children[1], conf.level = 0.95) \n",
    "\n",
    "# Pearson's chi-squared test = Wilson score interval - wilson\n",
    "prop.test(ASD[1], Children[1], conf.level = 0.95, correct = FALSE) "
   ]
  },
  {
   "cell_type": "markdown",
   "metadata": {},
   "source": [
    "<div class=\"alert alert-danger alertdanger\" style=\"margin-top: 20px\">\n",
    "    <h3>\n",
    "        Quiz:\n",
    "    </h3>\n",
    "    <p>\n",
    "        Obtain CI of Male.Prevalence propotion [ Source: ADDM] [ Year: 2014 ] at 99% confidence.\n",
    "    </p>\n",
    "</div>"
   ]
  },
  {
   "cell_type": "code",
   "execution_count": null,
   "metadata": {},
   "outputs": [],
   "source": [
    "# Write your code below and press Shift+Enter to execute \n"
   ]
  },
  {
   "cell_type": "markdown",
   "metadata": {},
   "source": [
    "Double-click <b>here</b> for the solution.\n",
    "\n",
    "<!-- The answer is below:\n",
    "\n",
    "# Write your code below and press Shift+Enter to execute \n",
    "#\n",
    "# ------------------------------------\n",
    "# In order to calculate proportion CI, we need to know below four numbers of difference children group:\n",
    "# ------------------------------------\n",
    "# ASD_Male_numb\n",
    "# Children_Male_numb\n",
    "# ASD_Female_numb\n",
    "# Children_Female_numb\n",
    "\n",
    "# ------------------------------------\n",
    "# Known facts:\n",
    "# ------------------------------------\n",
    "\n",
    "cat('# ------------------------------------\n",
    "# Known facts:\n",
    "# ------------------------------------\\n')\n",
    "\n",
    "# ADDM 2014 National level\n",
    "ASD_National_ADDM$Prevalence[ASD_National_ADDM$Year == 2014]\n",
    "ASD_National_ADDM$Male.Prevalence[ASD_National_ADDM$Year == 2014]\n",
    "ASD_National_ADDM$Female.Prevalence[ASD_National_ADDM$Year == 2014]\n",
    "\n",
    "# ADDM 2014 State level\n",
    "ASD_State_ADDM$Denominator[ASD_State_ADDM$Year == 2014]\n",
    "ASD_State_ADDM$Numerator_ASD[ASD_State_ADDM$Year == 2014]\n",
    "ASD_State_ADDM$Numerator_NonASD[ASD_State_ADDM$Year == 2014]\n",
    "\n",
    "# ADDM 2014 National level (sum up state level numbers)\n",
    "sum(ASD_State_ADDM$Denominator[ASD_State_ADDM$Year == 2014])\n",
    "sum(ASD_State_ADDM$Numerator_ASD[ASD_State_ADDM$Year == 2014])\n",
    "sum(ASD_State_ADDM$Numerator_NonASD[ASD_State_ADDM$Year == 2014])\n",
    "\n",
    "# Tally health check for Prevalence proportion\n",
    "ASD_National_ADDM$Prevalence[ASD_National_ADDM$Year == 2014] == round(1000 * sum(ASD_State_ADDM$Numerator_ASD[ASD_State_ADDM$Year == 2014]) / sum(ASD_State_ADDM$Denominator[ASD_State_ADDM$Year == 2014]), 1)\n",
    "\n",
    "# ------------------------------------\n",
    "# Establish relationships/formulas\n",
    "# ------------------------------------\n",
    "# Formula 1:\n",
    "# ASD_Male_numb + ASD_Female_numb = sum(ASD_State_ADDM$Numerator_ASD[ASD_State_ADDM$Year == 2014]) = 5478\n",
    "\n",
    "# Formula 2:\n",
    "# ASD_Male_numb / Children_Male_numb = ASD_National_ADDM$Male.Prevalence[ASD_National_ADDM$Year == 2014]/1000 = 26.6/1000\n",
    "\n",
    "# Formula 3:\n",
    "# ASD_Female_numb / Children_Female_numb = ASD_National_ADDM$Female.Prevalence[ASD_National_ADDM$Year == 2014]/1000 = 6.6/1000\n",
    "\n",
    "# Formula 4:\n",
    "# Children_Male_numb + Children_Female_numb = sum(ASD_State_ADDM$Denominator[ASD_State_ADDM$Year == 2014]) = 325483\n",
    "\n",
    "# ------------------------------------\n",
    "# Results\n",
    "# ------------------------------------\n",
    "Children_Female_numb = 153843.195876288659794\n",
    "ASD_Female_numb = 6.6 * Children_Female_numb / 1000\n",
    "Children_Male_numb = sum(ASD_State_ADDM$Denominator[ASD_State_ADDM$Year == 2014]) - Children_Female_numb\n",
    "ASD_Male_numb = sum(ASD_State_ADDM$Numerator_ASD[ASD_State_ADDM$Year == 2014]) - ASD_Female_numb\n",
    "\n",
    "# Rounding to integer\n",
    "ASD_Male_numb = round(ASD_Male_numb, 0)\n",
    "ASD_Female_numb = round(ASD_Female_numb, 0)\n",
    "Children_Male_numb = round(Children_Male_numb, 0)\n",
    "Children_Female_numb = round(Children_Female_numb, 0)\n",
    "\n",
    "# Tally health check:\n",
    "ASD_Male_numb + ASD_Female_numb == sum(ASD_State_ADDM$Numerator_ASD[ASD_State_ADDM$Year == 2014])\n",
    "Children_Male_numb + Children_Female_numb == sum(ASD_State_ADDM$Denominator[ASD_State_ADDM$Year == 2014])\n",
    "round(1000 * ASD_Male_numb / Children_Male_numb, 1) == ASD_National_ADDM$Male.Prevalence[ASD_National_ADDM$Year == 2014]\n",
    "round(1000 * ASD_Female_numb / Children_Female_numb, 1) == ASD_National_ADDM$Female.Prevalence[ASD_National_ADDM$Year == 2014]\n",
    "\n",
    "cat('# ------------------------------------\n",
    "# Results:\n",
    "# ------------------------------------\\n')\n",
    "\n",
    "# There is a slight discrepancy in Male.Prevalence. \n",
    "# This is likely due to the 'rounding to one decimal' of: National level Prevalence, State level Male and Female Prevalence in two original ASD data set.\n",
    "cat('\\nRe-calculated Male.Prevalvence  : ', round(1000 * ASD_Male_numb / Children_Male_numb, 1)) # Male.Prevalvence is under valued: 26\n",
    "cat('\\nRe-calculated Female.Prevalence : ', round(1000 * ASD_Female_numb / Children_Female_numb, 1)) # Female.Prevalence is correct: 6.6\n",
    "\n",
    "# We would accept above calculation and tally check, to proceed below CI calculation.\n",
    "\n",
    "# Display\n",
    "cat('\\nASD_Male_numb        : ', ASD_Male_numb)\n",
    "cat('\\nASD_Female_numb      : ', ASD_Female_numb)\n",
    "cat('\\nChildren_Male_numb   : ', Children_Male_numb)\n",
    "cat('\\nChildren_Female_numb : ', Children_Female_numb)\n",
    "\n",
    "# ------------------------------------\n",
    "# proportion test (with continuity correction) to obtain CI for Male.Prevalence propotion at 99% confidence:\n",
    "# ------------------------------------\n",
    "# Yates' chi-squared test = Wilson score interval with continuity correction - prop.test\n",
    "prop.test(ASD_Male_numb, Children_Male_numb, conf.level = 0.99) \n",
    "\n",
    "-->"
   ]
  },
  {
   "cell_type": "markdown",
   "metadata": {},
   "source": [
    "<div class=\"alert alert-danger alertdanger\" style=\"margin-top: 20px\">\n",
    "    <h3>\n",
    "        Quiz:\n",
    "    </h3>\n",
    "    <p>\n",
    "        Obtain CI of Female.Prevalence propotion [ Source: ADDM] [ Year: 2014 ] at 99% confidence.\n",
    "    </p>\n",
    "    <p>\n",
    "        Then Compare CI range with Male children's CI range. Which gender has statistically higer ASD prevalence/proportion?\n",
    "    </p>\n",
    "</div>"
   ]
  },
  {
   "cell_type": "code",
   "execution_count": null,
   "metadata": {},
   "outputs": [],
   "source": [
    "# Write your code below and press Shift+Enter to execute \n"
   ]
  },
  {
   "cell_type": "markdown",
   "metadata": {},
   "source": [
    "Double-click <b>here</b> for the solution.\n",
    "\n",
    "<!-- The answer is below:\n",
    "\n",
    "# Write your code below and press Shift+Enter to execute \n",
    "#\n",
    "ASD_Female_numb\n",
    "Children_Female_numb\n",
    "ASD_Female_numb / Children_Female_numb\n",
    "#\n",
    "# ------------------------------------\n",
    "# proportion test (with continuity correction) to obtain CI for Female.Prevalence propotion at 99% confidence:\n",
    "# ------------------------------------\n",
    "# Yates' chi-squared test = Wilson score interval with continuity correction - prop.test\n",
    "prop.test(ASD_Female_numb, Children_Female_numb, conf.level = 0.99) \n",
    "\n",
    "# ------------------------------------\n",
    "# Two group proportion test (with continuity correction)\n",
    "# ------------------------------------\n",
    "# Yates' chi-squared test = Wilson score interval with continuity correction - prop.test\n",
    "prop.test(c(ASD_Male_numb, ASD_Female_numb), c(Children_Male_numb, Children_Female_numb), conf.level = 0.99) \n",
    "\n",
    "-->"
   ]
  },
  {
   "cell_type": "markdown",
   "metadata": {},
   "source": [
    "<div class=\"alert alert-block alert-info\" style=\"margin-top: 20px\">\n",
    "    <a href=\"\">\n",
    "         <img src=\"\" width=\"750\" align=\"center\">\n",
    "    </a>\n",
    "</div>\n",
    "\n"
   ]
  },
  {
   "cell_type": "markdown",
   "metadata": {},
   "source": [
    "## <span style=\"color:blue\">Workshop Submission</span>\n"
   ]
  },
  {
   "cell_type": "markdown",
   "metadata": {},
   "source": [
    "<div class=\"alert alert-danger alertdanger\" style=\"margin-top: 20px\">\n",
    "    <h3>\n",
    "        What to submit?\n",
    "    </h3>\n",
    "    <p>\n",
    "        Choose one of below visualisations/charts, use R to construct the chart nicely.\n",
    "    </p>\n",
    "    <p>\n",
    "        Optionally, enhance it with additional data dimensions to be better than original chart.\n",
    "    </p>\n",
    "</div>"
   ]
  },
  {
   "cell_type": "markdown",
   "metadata": {},
   "source": [
    "https://www.cdc.gov/ncbddd/autism/data/index.html\n"
   ]
  },
  {
   "cell_type": "markdown",
   "metadata": {},
   "source": [
    "<img src=\"../reference/CDC_ASD/ADV ASD Data Collection Locations (US States).png\" width=600 align=\"center\">\n",
    "\n"
   ]
  },
  {
   "cell_type": "markdown",
   "metadata": {},
   "source": [
    "<img src=\"../reference/CDC_ASD/ADV [addm] [2014] 2014 ADDM NETWORK DATA.png\" width=600 align=\"center\">\n",
    "\n"
   ]
  },
  {
   "cell_type": "markdown",
   "metadata": {},
   "source": [
    "<img src=\"../reference/CDC_ASD/ADV [addm] Prevalence Estimates by Race Ethnicity.png\" width=600 align=\"center\">\n",
    "\n"
   ]
  },
  {
   "cell_type": "markdown",
   "metadata": {},
   "source": [
    "<img src=\"../reference/CDC_ASD/ADV [addm] [2012] Confidence Intervals by Data Set Location.png\" width=600 align=\"center\">\n"
   ]
  },
  {
   "cell_type": "code",
   "execution_count": null,
   "metadata": {},
   "outputs": [],
   "source": [
    "# Write your code below and press Shift+Enter to execute \n"
   ]
  },
  {
   "cell_type": "markdown",
   "metadata": {},
   "source": [
    "<div class=\"alert alert-block alert-info\" style=\"margin-top: 20px\">\n",
    "</div>\n"
   ]
  },
  {
   "cell_type": "markdown",
   "metadata": {},
   "source": [
    "### Excellent! You have completed the workshop notebook!"
   ]
  },
  {
   "cell_type": "markdown",
   "metadata": {},
   "source": [
    "**Connect with the author:**\n",
    "\n",
    "This notebook was written by [GU Zhan (Sam)](https://sg.linkedin.com/in/zhan-gu-27a82823 \"GU Zhan (Sam)\").\n",
    "\n",
    "[Sam](https://www.iss.nus.edu.sg/about-us/staff/detail/201/GU%20Zhan \"GU Zhan (Sam)\") is currently a lecturer in [Institute of Systems Science](https://www.iss.nus.edu.sg/ \"NUS-ISS\") in [National University of Singapore](http://www.nus.edu.sg/ \"NUS\"). He devotes himself into pedagogy & andragogy, and is very passionate in inspiring next generation of artificial intelligence lovers and leaders.\n"
   ]
  },
  {
   "cell_type": "markdown",
   "metadata": {},
   "source": [
    "Copyright &copy; 2020 GU Zhan\n",
    "\n",
    "This notebook and its source code are released under the terms of the [MIT License](https://en.wikipedia.org/wiki/MIT_License \"Copyright (c) 2020 GU ZHAN\").\n",
    "\n",
    "Permission is hereby granted, free of charge, to any person obtaining a copy\n",
    "of this software and associated documentation files (the \"Software\"), to deal\n",
    "in the Software without restriction, including without limitation the rights\n",
    "to use, copy, modify, merge, publish, distribute, sublicense, and/or sell\n",
    "copies of the Software, and to permit persons to whom the Software is\n",
    "furnished to do so, subject to the following conditions:\n",
    "\n",
    "The above copyright notice and this permission notice shall be included in all\n",
    "copies or substantial portions of the Software.\n",
    "\n",
    "THE SOFTWARE IS PROVIDED \"AS IS\", WITHOUT WARRANTY OF ANY KIND, EXPRESS OR\n",
    "IMPLIED, INCLUDING BUT NOT LIMITED TO THE WARRANTIES OF MERCHANTABILITY,\n",
    "FITNESS FOR A PARTICULAR PURPOSE AND NONINFRINGEMENT. IN NO EVENT SHALL THE\n",
    "AUTHORS OR COPYRIGHT HOLDERS BE LIABLE FOR ANY CLAIM, DAMAGES OR OTHER\n",
    "LIABILITY, WHETHER IN AN ACTION OF CONTRACT, TORT OR OTHERWISE, ARISING FROM,\n",
    "OUT OF OR IN CONNECTION WITH THE SOFTWARE OR THE USE OR OTHER DEALINGS IN THE\n",
    "SOFTWARE.\n"
   ]
  },
  {
   "cell_type": "markdown",
   "metadata": {},
   "source": [
    "<div class=\"alert alert-block alert-info\" style=\"margin-top: 20px\">\n",
    "    <a href=\"\">\n",
    "         <img src=\"\" width=\"750\" align=\"center\">\n",
    "    </a>\n",
    "</div>\n",
    "\n"
   ]
  },
  {
   "cell_type": "markdown",
   "metadata": {},
   "source": [
    "## <span style=\"color:blue\">Appendices</span>\n"
   ]
  },
  {
   "cell_type": "markdown",
   "metadata": {},
   "source": [
    "<div class=\"alert alert-block alert-info\" style=\"margin-top: 20px\">\n",
    "    <h3>\n",
    "    Interactive workshops: < Learning R inside R > using swirl() (in R/RStudio)\n",
    "    </h3>\n",
    "</div>\n"
   ]
  },
  {
   "cell_type": "code",
   "execution_count": null,
   "metadata": {
    "scrolled": true
   },
   "outputs": [],
   "source": [
    "# ----------------------------------\n",
    "# Interactive workshops: < Learning R inside R > using swirl() (in R/RStudio)\n",
    "# ----------------------------------\n",
    "\n",
    "# https://github.com/telescopeuser/S-SB-Workshop\n",
    "\n",
    "# Restart R to install to install \"swirl\" package:\n",
    "\n",
    "# if(!require(swirl)){install.packages(\"swirl\")}\n",
    "# library(\"swirl\")\n",
    "# install_course(\"R Programming\")\n",
    "# install_course(\"Exploratory Data Analysis\")\n",
    "# install_course(\"Regression Models\")\n",
    "# install_course(\"Statistical Inference\")\n",
    "# swirl()"
   ]
  },
  {
   "cell_type": "markdown",
   "metadata": {},
   "source": [
    "<div class=\"alert alert-block alert-info\" style=\"margin-top: 20px\">\n",
    "    <h3>\n",
    "    Neural Network 101 using nnet()\n",
    "    </h3>\n",
    "</div>\n"
   ]
  },
  {
   "cell_type": "code",
   "execution_count": null,
   "metadata": {},
   "outputs": [],
   "source": [
    "# ----------------------------------\n",
    "# Neural Network 101 using nnet()\n",
    "# ----------------------------------\n",
    "if(!require(nnet)){install.packages(\"nnet\")}\n",
    "library(\"nnet\")\n",
    "# ?nnet\n",
    " \n",
    "# < Case: predict three different iris flower types >\n",
    "\n",
    "# https://en.wikipedia.org/wiki/Iris_flower_data_set\n",
    "# https://archive.ics.uci.edu/ml/datasets/iris\n",
    "\n",
    "# Data preparation: split iris data in two halves, for training & testing respectively.\n",
    "ir <- rbind(iris3[,,1],iris3[,,2],iris3[,,3])\n",
    "targets <- class.ind( c(rep(\"s\", 50), rep(\"c\", 50), rep(\"v\", 50)) )\n",
    "samp <- c(sample(1:50,25), sample(51:100,25), sample(101:150,25))\n",
    "# Model training (machine learning / data fitting)\n",
    "ir1 <- nnet(ir[samp,], targets[samp,], size = 2, rang = 0.1,\n",
    "            decay = 5e-4, maxit = 200)\n",
    "# Model prediciton\n",
    "test.cl <- function(true, pred) {\n",
    "  true <- max.col(true)\n",
    "  cres <- max.col(pred)\n",
    "  table(true, cres)\n",
    "}\n",
    "\n",
    "# Model evaluation\n",
    "test.cl(targets[-samp,], predict(ir1, ir[-samp,]))\n"
   ]
  },
  {
   "cell_type": "markdown",
   "metadata": {},
   "source": [
    "<div class=\"alert alert-block alert-info\" style=\"margin-top: 20px\">\n",
    "    <h3>\n",
    "    Hypothesis Test - Mean - Z Test & t.test()\n",
    "    </h3>\n",
    "</div>\n"
   ]
  },
  {
   "cell_type": "code",
   "execution_count": null,
   "metadata": {},
   "outputs": [],
   "source": [
    "# ----------------------------------\n",
    "# Hypothesis Test - Mean - Z Test & t.test()\n",
    "# ----------------------------------\n",
    "\n",
    "# Create sample 1\n",
    "set.seed(88)\n",
    "sample_1 = rnorm(n = 10)\n",
    "# sample_1 = rnorm(n = 1000)\n",
    "\n",
    "# Create sample 2\n",
    "set.seed(88)\n",
    "sample_2 = rchisq(n = 10, df = 30) - 29\n",
    "# sample_2 = rchisq(n = 1000, df = 30) - 29\n",
    "\n",
    "mean(sample_1)\n",
    "mean(sample_2)\n",
    "\n",
    "par(mfrow=c(1, 2))\n",
    "hist(sample_1)\n",
    "hist(sample_2)\n",
    "par(mfrow=c(1, 1))\n",
    "\n",
    "t.test(sample_1, sample_2)"
   ]
  },
  {
   "cell_type": "markdown",
   "metadata": {},
   "source": [
    "<div class=\"alert alert-block alert-info\" style=\"margin-top: 20px\">\n",
    "    <h3>\n",
    "    Hypothesis Test - Proportion - prop.test()\n",
    "    </h3>\n",
    "</div>\n"
   ]
  },
  {
   "cell_type": "code",
   "execution_count": null,
   "metadata": {
    "scrolled": false
   },
   "outputs": [],
   "source": [
    "# ----------------------------------\n",
    "# Hypothesis Test - Proportion - prop.test()\n",
    "# ----------------------------------\n",
    "if(!require(binom)){install.packages(\"binom\")}\n",
    "library('binom')\n",
    "\n",
    "# Different flavours of proportion test:\n",
    "binom.confint (x=ASD[1], n=Children[1], conf.level =0.95, method=\"all\")\n",
    "\n",
    "# Multiple group hypothesis test : proportions (Prevalvence) among all US. States\n",
    "prop.test(ASD, Children)"
   ]
  },
  {
   "cell_type": "markdown",
   "metadata": {},
   "source": [
    "<div class=\"alert alert-block alert-info\" style=\"margin-top: 20px\">\n",
    "    <a href=\"\">\n",
    "         <img src=\"../reference/GZ_logo.png\" width=\"60\" align=\"right\">\n",
    "    </a>\n",
    "</div>\n"
   ]
  }
 ],
 "metadata": {
  "jupytext": {
   "formats": "ipynb,Rmd"
  },
  "kernelspec": {
   "display_name": "R",
   "language": "R",
   "name": "ir"
  },
  "language_info": {
   "codemirror_mode": "r",
   "file_extension": ".r",
   "mimetype": "text/x-r-source",
   "name": "R",
   "pygments_lexer": "r",
   "version": "3.6.1"
  }
 },
 "nbformat": 4,
 "nbformat_minor": 2
}
