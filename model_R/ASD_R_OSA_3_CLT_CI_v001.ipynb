{
 "cells": [
  {
   "cell_type": "markdown",
   "metadata": {},
   "source": [
    "<div class=\"alert alert-block alert-info\" style=\"margin-top: 20px\">\n",
    "    <a href=\"https://github.com/dd-consulting\">\n",
    "         <img src=\"../reference/GZ_logo.png\" width=\"60\" align=\"right\">\n",
    "    </a>\n",
    "    <h1>\n",
    "        One-Stop Analytics: Central Limit Theorem (CLT) & Confidence Interval (CI)\n",
    "    </h1>\n",
    "</div>\n"
   ]
  },
  {
   "cell_type": "markdown",
   "metadata": {},
   "source": [
    "# Case Study of Autism Spectrum Disorder (ASD) with R\n",
    "\n",
    "---\n",
    "\n",
    "![](../reference/CDC_ASD/CDC_ASD_01.jpg)\n",
    "\n",
    "![](../reference/CDC_ASD/CDC_ASD_02.png)\n"
   ]
  },
  {
   "cell_type": "markdown",
   "metadata": {},
   "source": [
    "## <span style=\"color:blue\">[ United States ]</span> \n",
    "\n",
    "## Centers for Disease Control and Prevention (CDC) - Autism Spectrum Disorder (ASD)\n",
    "\n",
    "Autism spectrum disorder (ASD) is a developmental disability that can cause significant social, communication and behavioral challenges. CDC is committed to continuing to provide essential data on ASD, search for factors that put children at risk for ASD and possible causes, and develop resources that help identify children with ASD as early as possible.\n",
    "\n",
    "https://www.cdc.gov/ncbddd/autism/data/index.html\n"
   ]
  },
  {
   "cell_type": "markdown",
   "metadata": {},
   "source": [
    "## <span style=\"color:blue\">[ Singapore ]</span> \n",
    "\n",
    "## TODAY Online - More preschoolers diagnosed with developmental issues\n",
    "\n",
    "Doctors cited better awareness among parents and preschool teachers, leading to early referrals for diagnosis.\n",
    "\n",
    "https://www.gov.sg/news/content/today-online-more-preschoolers-diagnosed-with-developmental-issues\n",
    "\n",
    "![](../reference/SG_ASD/SG_ASD_01.png)\n",
    "\n"
   ]
  },
  {
   "cell_type": "markdown",
   "metadata": {},
   "source": [
    "![](../reference/SG_ASD/SG_ASD_04.png) \n",
    "\n",
    "https://www.pathlight.org.sg/"
   ]
  },
  {
   "cell_type": "markdown",
   "metadata": {},
   "source": [
    "<div class=\"alert alert-block alert-info\" style=\"margin-top: 20px\">\n",
    "    <a href=\"\">\n",
    "    </a>\n",
    "</div>\n"
   ]
  },
  {
   "cell_type": "markdown",
   "metadata": {},
   "source": [
    "# Workshop Objective: \n",
    "\n",
    "## Use R to analyze Autism Spectrum Disorder (ASD) data from CDC USA. \n",
    "\n",
    "https://www.cdc.gov/ncbddd/autism/data/index.html\n",
    "\n",
    "* ## Data\n",
    "\n",
    "* ## Sampling & Normality (CLT)\n",
    "\n",
    "* ## Confidence Interval (CI)\n",
    "\n",
    "* ## Appendices\n"
   ]
  },
  {
   "cell_type": "markdown",
   "metadata": {},
   "source": [
    "<div class=\"alert alert-block alert-info\" style=\"margin-top: 20px\">\n",
    "    <a href=\"\">\n",
    "    </a>\n",
    "</div>"
   ]
  },
  {
   "cell_type": "markdown",
   "metadata": {},
   "source": [
    "## <span style=\"color:blue\">Data</span>\n"
   ]
  },
  {
   "cell_type": "markdown",
   "metadata": {},
   "source": [
    "<div class=\"alert alert-block alert-info\" style=\"margin-top: 20px\">\n",
    "    <h3>\n",
    "    Data - Get & Set working directory\n",
    "    </h3>\n",
    "</div>\n"
   ]
  },
  {
   "cell_type": "markdown",
   "metadata": {},
   "source": [
    "**Obtain current R <span style=\"color:blue\">working directory</span>**"
   ]
  },
  {
   "cell_type": "code",
   "execution_count": 1,
   "metadata": {},
   "outputs": [
    {
     "data": {
      "text/html": [
       "'/media/sf_vm_shared_folder/git/DDC-ASD/model_R'"
      ],
      "text/latex": [
       "'/media/sf\\_vm\\_shared\\_folder/git/DDC-ASD/model\\_R'"
      ],
      "text/markdown": [
       "'/media/sf_vm_shared_folder/git/DDC-ASD/model_R'"
      ],
      "text/plain": [
       "[1] \"/media/sf_vm_shared_folder/git/DDC-ASD/model_R\""
      ]
     },
     "metadata": {},
     "output_type": "display_data"
    }
   ],
   "source": [
    "getwd()"
   ]
  },
  {
   "cell_type": "markdown",
   "metadata": {},
   "source": [
    "**Set new R working directory**"
   ]
  },
  {
   "cell_type": "code",
   "execution_count": 2,
   "metadata": {},
   "outputs": [
    {
     "data": {
      "text/html": [
       "'/media/sf_vm_shared_folder/git/DDC-ASD/model_R'"
      ],
      "text/latex": [
       "'/media/sf\\_vm\\_shared\\_folder/git/DDC-ASD/model\\_R'"
      ],
      "text/markdown": [
       "'/media/sf_vm_shared_folder/git/DDC-ASD/model_R'"
      ],
      "text/plain": [
       "[1] \"/media/sf_vm_shared_folder/git/DDC-ASD/model_R\""
      ]
     },
     "metadata": {},
     "output_type": "display_data"
    }
   ],
   "source": [
    "# setwd(\"/media/sf_vm_shared_folder/git/DDC/DDC-ASD/model_R\")\n",
    "# setwd('~/Desktop/admin-desktop/vm_shared_folder/git/DDC-ASD/model_R')\n",
    "getwd()"
   ]
  },
  {
   "cell_type": "markdown",
   "metadata": {},
   "source": [
    "**Read in CSV data, storing as R <span style=\"color:blue\">dataframe</span>**"
   ]
  },
  {
   "cell_type": "code",
   "execution_count": 3,
   "metadata": {},
   "outputs": [],
   "source": [
    "# Read back in above saved file:\n",
    "ASD_State <- read.csv(\"../dataset/ADV_ASD_State_R.csv\")\n",
    "# Convert Year_Factor to ordered.factor\n",
    "ASD_State$Year_Factor <- factor(ASD_State$Year_Factor, ordered = TRUE) \n",
    "ASD_State$Prevalence_Risk2 = factor(ASD_State$Prevalence_Risk2, ordered=TRUE, \n",
    "                                    levels=c(\"Low\", \"High\"))\n",
    "ASD_State$Prevalence_Risk4 = factor(ASD_State$Prevalence_Risk4, ordered=TRUE, \n",
    "                                    levels=c(\"Low\", \"Medium\", \"High\", \"Very High\"))\n"
   ]
  },
  {
   "cell_type": "code",
   "execution_count": 4,
   "metadata": {},
   "outputs": [],
   "source": [
    "# Filter and create dataframe of different data sources, for easy data access\n",
    "ASD_State_ADDM <- subset(ASD_State, Source == 'addm')\n",
    "ASD_State_MEDI <- subset(ASD_State, Source == 'medi')\n",
    "ASD_State_NSCH <- subset(ASD_State, Source == 'nsch')\n",
    "ASD_State_SPED <- subset(ASD_State, Source == 'sped')\n"
   ]
  },
  {
   "cell_type": "code",
   "execution_count": 5,
   "metadata": {},
   "outputs": [],
   "source": [
    "# Adjust in-line plot size to M x N\n",
    "options(repr.plot.width=8, repr.plot.height=4)"
   ]
  },
  {
   "cell_type": "markdown",
   "metadata": {},
   "source": [
    "<div class=\"alert alert-block alert-info\" style=\"margin-top: 20px\">\n",
    "    <a href=\"\">\n",
    "    </a>\n",
    "</div>\n",
    "\n"
   ]
  },
  {
   "cell_type": "markdown",
   "metadata": {},
   "source": [
    "## <span style=\"color:blue\">Sampling & Normality</span>\n"
   ]
  },
  {
   "cell_type": "markdown",
   "metadata": {},
   "source": [
    "<div class=\"alert alert-block alert-info\" style=\"margin-top: 20px\">\n",
    "    <h3>\n",
    "    Sampling & Normality - Population & Sample\n",
    "    </h3>\n",
    "</div>\n"
   ]
  },
  {
   "cell_type": "markdown",
   "metadata": {},
   "source": [
    "**Create a  <span style=\"color:blue\">Population</span> of US. State level ASD Prevalence from Source SPED in Year 2016**"
   ]
  },
  {
   "cell_type": "code",
   "execution_count": 6,
   "metadata": {},
   "outputs": [
    {
     "data": {
      "text/html": [
       "<table>\n",
       "<thead><tr><th></th><th scope=col>State</th><th scope=col>Prevalence</th></tr></thead>\n",
       "<tbody>\n",
       "\t<tr><th scope=row>1643</th><td>AL  </td><td> 9.1</td></tr>\n",
       "\t<tr><th scope=row>1644</th><td>AK  </td><td>10.1</td></tr>\n",
       "\t<tr><th scope=row>1645</th><td>AZ  </td><td>10.4</td></tr>\n",
       "\t<tr><th scope=row>1646</th><td>AR  </td><td> 9.5</td></tr>\n",
       "\t<tr><th scope=row>1647</th><td>CA  </td><td>13.9</td></tr>\n",
       "\t<tr><th scope=row>1648</th><td>CO  </td><td> 7.3</td></tr>\n",
       "</tbody>\n",
       "</table>\n"
      ],
      "text/latex": [
       "\\begin{tabular}{r|ll}\n",
       "  & State & Prevalence\\\\\n",
       "\\hline\n",
       "\t1643 & AL   &  9.1\\\\\n",
       "\t1644 & AK   & 10.1\\\\\n",
       "\t1645 & AZ   & 10.4\\\\\n",
       "\t1646 & AR   &  9.5\\\\\n",
       "\t1647 & CA   & 13.9\\\\\n",
       "\t1648 & CO   &  7.3\\\\\n",
       "\\end{tabular}\n"
      ],
      "text/markdown": [
       "\n",
       "| <!--/--> | State | Prevalence |\n",
       "|---|---|---|\n",
       "| 1643 | AL   |  9.1 |\n",
       "| 1644 | AK   | 10.1 |\n",
       "| 1645 | AZ   | 10.4 |\n",
       "| 1646 | AR   |  9.5 |\n",
       "| 1647 | CA   | 13.9 |\n",
       "| 1648 | CO   |  7.3 |\n",
       "\n"
      ],
      "text/plain": [
       "     State Prevalence\n",
       "1643 AL     9.1      \n",
       "1644 AK    10.1      \n",
       "1645 AZ    10.4      \n",
       "1646 AR     9.5      \n",
       "1647 CA    13.9      \n",
       "1648 CO     7.3      "
      ]
     },
     "metadata": {},
     "output_type": "display_data"
    }
   ],
   "source": [
    "# ----------------------------------\n",
    "# Create a *Population* of US. State level ASD Prevalence from Source SPED in Year 2016 \n",
    "# ----------------------------------\n",
    "ASD_State_SPED_2016 <- subset(ASD_State, \n",
    "                              Source == 'sped' & Year == 2016, # conditions\n",
    "                              select=c('State', 'Prevalence')) # selection\n",
    "#\n",
    "head(ASD_State_SPED_2016)"
   ]
  },
  {
   "cell_type": "code",
   "execution_count": 7,
   "metadata": {},
   "outputs": [
    {
     "data": {
      "text/html": [
       "<ol class=list-inline>\n",
       "\t<li>50</li>\n",
       "\t<li>2</li>\n",
       "</ol>\n"
      ],
      "text/latex": [
       "\\begin{enumerate*}\n",
       "\\item 50\n",
       "\\item 2\n",
       "\\end{enumerate*}\n"
      ],
      "text/markdown": [
       "1. 50\n",
       "2. 2\n",
       "\n",
       "\n"
      ],
      "text/plain": [
       "[1] 50  2"
      ]
     },
     "metadata": {},
     "output_type": "display_data"
    },
    {
     "data": {
      "text/html": [
       "11.182"
      ],
      "text/latex": [
       "11.182"
      ],
      "text/markdown": [
       "11.182"
      ],
      "text/plain": [
       "[1] 11.182"
      ]
     },
     "metadata": {},
     "output_type": "display_data"
    }
   ],
   "source": [
    "dim(ASD_State_SPED_2016)\n",
    "# *Population* mean Prevalence\n",
    "mean(ASD_State_SPED_2016$Prevalence)"
   ]
  },
  {
   "cell_type": "markdown",
   "metadata": {},
   "source": [
    "**Define a function to calculate population std-dev (Omega):**"
   ]
  },
  {
   "cell_type": "code",
   "execution_count": 8,
   "metadata": {},
   "outputs": [
    {
     "name": "stdout",
     "output_type": "stream",
     "text": [
      "sd()   of ASD_State_SPED_2016$Prevalence :  3.233226\n",
      "sd.p() of ASD_State_SPED_2016$Prevalence :  3.200731"
     ]
    }
   ],
   "source": [
    "# Use sd()   to calculate *sample*     std-dev (S)\n",
    "# Use sd.p() to calculate *population* std-dev (Omega)\n",
    "\n",
    "# Define a function sd.p() to calculate *population* std-dev (Omega)\n",
    "# https://www.dummies.com/education/math/statistics/standard-deviation-r/\n",
    "\n",
    "sd.p = function(x) {sd(x) * sqrt((length(x)-1)/length(x))}\n",
    "\n",
    "# Treat as sample:\n",
    "cat('sd()   of ASD_State_SPED_2016$Prevalence : ', sd(ASD_State_SPED_2016$Prevalence) )\n",
    "\n",
    "# Treat as population:\n",
    "cat('\\nsd.p() of ASD_State_SPED_2016$Prevalence : ', sd.p(ASD_State_SPED_2016$Prevalence) )"
   ]
  },
  {
   "cell_type": "markdown",
   "metadata": {},
   "source": [
    "<div class=\"alert alert-block alert-info\" style=\"margin-top: 20px\">\n",
    "    <h3>\n",
    "    Sampling & Normality - Central Limit Theorem (CLT)\n",
    "    </h3>\n",
    "</div>\n"
   ]
  },
  {
   "cell_type": "markdown",
   "metadata": {},
   "source": [
    "**Create a  <span style=\"color:blue\">Sample</span> of US. State level ASD Prevalence from Source SPED in Year 2016**"
   ]
  },
  {
   "cell_type": "code",
   "execution_count": 9,
   "metadata": {},
   "outputs": [
    {
     "data": {
      "text/html": [
       "<ol class=list-inline>\n",
       "\t<li>11.2</li>\n",
       "\t<li>9.5</li>\n",
       "\t<li>16.9</li>\n",
       "\t<li>6.9</li>\n",
       "\t<li>11.2</li>\n",
       "\t<li>8.2</li>\n",
       "\t<li>12.7</li>\n",
       "\t<li>9.5</li>\n",
       "\t<li>1.4</li>\n",
       "\t<li>12.7</li>\n",
       "\t<li>10.1</li>\n",
       "\t<li>14.2</li>\n",
       "\t<li>11.9</li>\n",
       "\t<li>11.9</li>\n",
       "\t<li>8.5</li>\n",
       "\t<li>12.1</li>\n",
       "\t<li>12.1</li>\n",
       "\t<li>15.4</li>\n",
       "\t<li>13</li>\n",
       "\t<li>5.5</li>\n",
       "</ol>\n"
      ],
      "text/latex": [
       "\\begin{enumerate*}\n",
       "\\item 11.2\n",
       "\\item 9.5\n",
       "\\item 16.9\n",
       "\\item 6.9\n",
       "\\item 11.2\n",
       "\\item 8.2\n",
       "\\item 12.7\n",
       "\\item 9.5\n",
       "\\item 1.4\n",
       "\\item 12.7\n",
       "\\item 10.1\n",
       "\\item 14.2\n",
       "\\item 11.9\n",
       "\\item 11.9\n",
       "\\item 8.5\n",
       "\\item 12.1\n",
       "\\item 12.1\n",
       "\\item 15.4\n",
       "\\item 13\n",
       "\\item 5.5\n",
       "\\end{enumerate*}\n"
      ],
      "text/markdown": [
       "1. 11.2\n",
       "2. 9.5\n",
       "3. 16.9\n",
       "4. 6.9\n",
       "5. 11.2\n",
       "6. 8.2\n",
       "7. 12.7\n",
       "8. 9.5\n",
       "9. 1.4\n",
       "10. 12.7\n",
       "11. 10.1\n",
       "12. 14.2\n",
       "13. 11.9\n",
       "14. 11.9\n",
       "15. 8.5\n",
       "16. 12.1\n",
       "17. 12.1\n",
       "18. 15.4\n",
       "19. 13\n",
       "20. 5.5\n",
       "\n",
       "\n"
      ],
      "text/plain": [
       " [1] 11.2  9.5 16.9  6.9 11.2  8.2 12.7  9.5  1.4 12.7 10.1 14.2 11.9 11.9  8.5\n",
       "[16] 12.1 12.1 15.4 13.0  5.5"
      ]
     },
     "metadata": {},
     "output_type": "display_data"
    }
   ],
   "source": [
    "# Create a *Sample* from ASD_State_SPED_2016$Prevalence,\n",
    "# with sample size n =\n",
    "clt_n = 20\n",
    "# clt_n = 40\n",
    "\n",
    "set.seed(88)\n",
    "clt_sample_1 = sample(x = ASD_State_SPED_2016$Prevalence, size = clt_n, replace = TRUE)\n",
    "clt_sample_1"
   ]
  },
  {
   "cell_type": "code",
   "execution_count": 10,
   "metadata": {},
   "outputs": [],
   "source": [
    "# Adjust in-line plot size to M x N\n",
    "options(repr.plot.width=8, repr.plot.height=4)"
   ]
  },
  {
   "cell_type": "code",
   "execution_count": 11,
   "metadata": {},
   "outputs": [
    {
     "data": {
      "image/png": "[encoded data removed]",
      "text/plain": [
       "Plot with title “density.default(x = clt_sample_1)”"
      ]
     },
     "metadata": {},
     "output_type": "display_data"
    }
   ],
   "source": [
    "plot(density(clt_sample_1), col=\"darkgrey\", lwd=2) \n",
    "hist(clt_sample_1, probability = T, add = T)"
   ]
  },
  {
   "cell_type": "markdown",
   "metadata": {},
   "source": [
    "**Draw a large k number of samples, with sample size = n**:"
   ]
  },
  {
   "cell_type": "code",
   "execution_count": 12,
   "metadata": {},
   "outputs": [
    {
     "data": {
      "text/html": [
       "<table>\n",
       "<tbody>\n",
       "\t<tr><td>11.2</td><td> 9.5</td><td>11.2</td><td> 8.3</td><td> 8.3</td><td> 6.9</td></tr>\n",
       "\t<tr><td> 9.5</td><td>11.9</td><td>10.4</td><td>11.9</td><td>11.9</td><td>15.2</td></tr>\n",
       "\t<tr><td>16.9</td><td> 6.9</td><td> 9.3</td><td> 1.4</td><td>15.4</td><td>19.4</td></tr>\n",
       "\t<tr><td> 6.9</td><td>13.0</td><td>19.4</td><td>12.7</td><td> 8.5</td><td>15.1</td></tr>\n",
       "\t<tr><td>11.2</td><td> 8.3</td><td>12.1</td><td> 9.1</td><td>11.2</td><td>12.1</td></tr>\n",
       "\t<tr><td> 8.2</td><td>12.1</td><td>10.1</td><td>14.2</td><td>10.2</td><td> 1.4</td></tr>\n",
       "\t<tr><td>12.7</td><td>10.8</td><td>12.1</td><td> 8.6</td><td> 9.5</td><td>15.1</td></tr>\n",
       "\t<tr><td> 9.5</td><td>15.2</td><td>14.1</td><td>14.1</td><td>10.8</td><td> 6.9</td></tr>\n",
       "\t<tr><td> 1.4</td><td> 8.7</td><td>12.5</td><td>16.7</td><td> 9.8</td><td> 9.5</td></tr>\n",
       "\t<tr><td>12.7</td><td> 9.0</td><td> 5.5</td><td>13.9</td><td>19.4</td><td>14.2</td></tr>\n",
       "\t<tr><td>10.1</td><td> 9.3</td><td> 9.5</td><td> 9.5</td><td>14.2</td><td>19.4</td></tr>\n",
       "\t<tr><td>14.2</td><td>12.1</td><td>16.7</td><td>12.5</td><td>14.1</td><td>16.9</td></tr>\n",
       "\t<tr><td>11.9</td><td> 1.4</td><td> 9.6</td><td>10.8</td><td>11.9</td><td> 9.6</td></tr>\n",
       "\t<tr><td>11.9</td><td>11.9</td><td>10.2</td><td>10.3</td><td> 5.5</td><td>14.1</td></tr>\n",
       "\t<tr><td> 8.5</td><td>10.8</td><td>15.2</td><td> 6.9</td><td>10.3</td><td>14.2</td></tr>\n",
       "\t<tr><td>12.1</td><td>14.1</td><td>15.1</td><td> 1.4</td><td>15.4</td><td>19.4</td></tr>\n",
       "\t<tr><td>12.1</td><td>15.4</td><td>16.9</td><td>14.1</td><td>14.2</td><td> 8.6</td></tr>\n",
       "\t<tr><td>15.4</td><td> 8.5</td><td>12.1</td><td>14.1</td><td>13.0</td><td> 9.5</td></tr>\n",
       "\t<tr><td>13.0</td><td> 1.4</td><td>19.4</td><td>12.1</td><td>15.4</td><td> 9.0</td></tr>\n",
       "\t<tr><td> 5.5</td><td> 8.5</td><td>12.7</td><td>10.8</td><td>11.9</td><td>19.4</td></tr>\n",
       "</tbody>\n",
       "</table>\n"
      ],
      "text/latex": [
       "\\begin{tabular}{llllll}\n",
       "\t 11.2 &  9.5 & 11.2 &  8.3 &  8.3 &  6.9\\\\\n",
       "\t  9.5 & 11.9 & 10.4 & 11.9 & 11.9 & 15.2\\\\\n",
       "\t 16.9 &  6.9 &  9.3 &  1.4 & 15.4 & 19.4\\\\\n",
       "\t  6.9 & 13.0 & 19.4 & 12.7 &  8.5 & 15.1\\\\\n",
       "\t 11.2 &  8.3 & 12.1 &  9.1 & 11.2 & 12.1\\\\\n",
       "\t  8.2 & 12.1 & 10.1 & 14.2 & 10.2 &  1.4\\\\\n",
       "\t 12.7 & 10.8 & 12.1 &  8.6 &  9.5 & 15.1\\\\\n",
       "\t  9.5 & 15.2 & 14.1 & 14.1 & 10.8 &  6.9\\\\\n",
       "\t  1.4 &  8.7 & 12.5 & 16.7 &  9.8 &  9.5\\\\\n",
       "\t 12.7 &  9.0 &  5.5 & 13.9 & 19.4 & 14.2\\\\\n",
       "\t 10.1 &  9.3 &  9.5 &  9.5 & 14.2 & 19.4\\\\\n",
       "\t 14.2 & 12.1 & 16.7 & 12.5 & 14.1 & 16.9\\\\\n",
       "\t 11.9 &  1.4 &  9.6 & 10.8 & 11.9 &  9.6\\\\\n",
       "\t 11.9 & 11.9 & 10.2 & 10.3 &  5.5 & 14.1\\\\\n",
       "\t  8.5 & 10.8 & 15.2 &  6.9 & 10.3 & 14.2\\\\\n",
       "\t 12.1 & 14.1 & 15.1 &  1.4 & 15.4 & 19.4\\\\\n",
       "\t 12.1 & 15.4 & 16.9 & 14.1 & 14.2 &  8.6\\\\\n",
       "\t 15.4 &  8.5 & 12.1 & 14.1 & 13.0 &  9.5\\\\\n",
       "\t 13.0 &  1.4 & 19.4 & 12.1 & 15.4 &  9.0\\\\\n",
       "\t  5.5 &  8.5 & 12.7 & 10.8 & 11.9 & 19.4\\\\\n",
       "\\end{tabular}\n"
      ],
      "text/markdown": [
       "\n",
       "| 11.2 |  9.5 | 11.2 |  8.3 |  8.3 |  6.9 |\n",
       "|  9.5 | 11.9 | 10.4 | 11.9 | 11.9 | 15.2 |\n",
       "| 16.9 |  6.9 |  9.3 |  1.4 | 15.4 | 19.4 |\n",
       "|  6.9 | 13.0 | 19.4 | 12.7 |  8.5 | 15.1 |\n",
       "| 11.2 |  8.3 | 12.1 |  9.1 | 11.2 | 12.1 |\n",
       "|  8.2 | 12.1 | 10.1 | 14.2 | 10.2 |  1.4 |\n",
       "| 12.7 | 10.8 | 12.1 |  8.6 |  9.5 | 15.1 |\n",
       "|  9.5 | 15.2 | 14.1 | 14.1 | 10.8 |  6.9 |\n",
       "|  1.4 |  8.7 | 12.5 | 16.7 |  9.8 |  9.5 |\n",
       "| 12.7 |  9.0 |  5.5 | 13.9 | 19.4 | 14.2 |\n",
       "| 10.1 |  9.3 |  9.5 |  9.5 | 14.2 | 19.4 |\n",
       "| 14.2 | 12.1 | 16.7 | 12.5 | 14.1 | 16.9 |\n",
       "| 11.9 |  1.4 |  9.6 | 10.8 | 11.9 |  9.6 |\n",
       "| 11.9 | 11.9 | 10.2 | 10.3 |  5.5 | 14.1 |\n",
       "|  8.5 | 10.8 | 15.2 |  6.9 | 10.3 | 14.2 |\n",
       "| 12.1 | 14.1 | 15.1 |  1.4 | 15.4 | 19.4 |\n",
       "| 12.1 | 15.4 | 16.9 | 14.1 | 14.2 |  8.6 |\n",
       "| 15.4 |  8.5 | 12.1 | 14.1 | 13.0 |  9.5 |\n",
       "| 13.0 |  1.4 | 19.4 | 12.1 | 15.4 |  9.0 |\n",
       "|  5.5 |  8.5 | 12.7 | 10.8 | 11.9 | 19.4 |\n",
       "\n"
      ],
      "text/plain": [
       "      [,1] [,2] [,3] [,4] [,5] [,6]\n",
       " [1,] 11.2  9.5 11.2  8.3  8.3  6.9\n",
       " [2,]  9.5 11.9 10.4 11.9 11.9 15.2\n",
       " [3,] 16.9  6.9  9.3  1.4 15.4 19.4\n",
       " [4,]  6.9 13.0 19.4 12.7  8.5 15.1\n",
       " [5,] 11.2  8.3 12.1  9.1 11.2 12.1\n",
       " [6,]  8.2 12.1 10.1 14.2 10.2  1.4\n",
       " [7,] 12.7 10.8 12.1  8.6  9.5 15.1\n",
       " [8,]  9.5 15.2 14.1 14.1 10.8  6.9\n",
       " [9,]  1.4  8.7 12.5 16.7  9.8  9.5\n",
       "[10,] 12.7  9.0  5.5 13.9 19.4 14.2\n",
       "[11,] 10.1  9.3  9.5  9.5 14.2 19.4\n",
       "[12,] 14.2 12.1 16.7 12.5 14.1 16.9\n",
       "[13,] 11.9  1.4  9.6 10.8 11.9  9.6\n",
       "[14,] 11.9 11.9 10.2 10.3  5.5 14.1\n",
       "[15,]  8.5 10.8 15.2  6.9 10.3 14.2\n",
       "[16,] 12.1 14.1 15.1  1.4 15.4 19.4\n",
       "[17,] 12.1 15.4 16.9 14.1 14.2  8.6\n",
       "[18,] 15.4  8.5 12.1 14.1 13.0  9.5\n",
       "[19,] 13.0  1.4 19.4 12.1 15.4  9.0\n",
       "[20,]  5.5  8.5 12.7 10.8 11.9 19.4"
      ]
     },
     "metadata": {},
     "output_type": "display_data"
    }
   ],
   "source": [
    "# Repeatedly sample for k times, create a matrix/array to store these samples\n",
    "clt_k = 10000 # or called 'N', but this can be confusing due to N can also be population size. Thus we use 'k' here.\n",
    "\n",
    "set.seed(88) # Repeatable sampling using pseudo random methold\n",
    "clt_sample_k <- (replicate(clt_k, sample(x = ASD_State_SPED_2016$Prevalence, size = clt_n, replace = TRUE)))\n",
    "\n",
    "# first few samples\n",
    "clt_sample_k[, 1:6]"
   ]
  },
  {
   "cell_type": "code",
   "execution_count": 13,
   "metadata": {},
   "outputs": [
    {
     "data": {
      "text/html": [
       "<ol class=list-inline>\n",
       "\t<li>8.6</li>\n",
       "\t<li>14.1</li>\n",
       "\t<li>12.1</li>\n",
       "\t<li>19.4</li>\n",
       "\t<li>12.7</li>\n",
       "\t<li>10.3</li>\n",
       "\t<li>10.3</li>\n",
       "\t<li>11.2</li>\n",
       "\t<li>10.4</li>\n",
       "\t<li>9</li>\n",
       "\t<li>10.4</li>\n",
       "\t<li>13.9</li>\n",
       "\t<li>9.3</li>\n",
       "\t<li>14.2</li>\n",
       "\t<li>11</li>\n",
       "\t<li>12.1</li>\n",
       "\t<li>9.5</li>\n",
       "\t<li>10.1</li>\n",
       "\t<li>13</li>\n",
       "\t<li>15.2</li>\n",
       "</ol>\n"
      ],
      "text/latex": [
       "\\begin{enumerate*}\n",
       "\\item 8.6\n",
       "\\item 14.1\n",
       "\\item 12.1\n",
       "\\item 19.4\n",
       "\\item 12.7\n",
       "\\item 10.3\n",
       "\\item 10.3\n",
       "\\item 11.2\n",
       "\\item 10.4\n",
       "\\item 9\n",
       "\\item 10.4\n",
       "\\item 13.9\n",
       "\\item 9.3\n",
       "\\item 14.2\n",
       "\\item 11\n",
       "\\item 12.1\n",
       "\\item 9.5\n",
       "\\item 10.1\n",
       "\\item 13\n",
       "\\item 15.2\n",
       "\\end{enumerate*}\n"
      ],
      "text/markdown": [
       "1. 8.6\n",
       "2. 14.1\n",
       "3. 12.1\n",
       "4. 19.4\n",
       "5. 12.7\n",
       "6. 10.3\n",
       "7. 10.3\n",
       "8. 11.2\n",
       "9. 10.4\n",
       "10. 9\n",
       "11. 10.4\n",
       "12. 13.9\n",
       "13. 9.3\n",
       "14. 14.2\n",
       "15. 11\n",
       "16. 12.1\n",
       "17. 9.5\n",
       "18. 10.1\n",
       "19. 13\n",
       "20. 15.2\n",
       "\n",
       "\n"
      ],
      "text/plain": [
       " [1]  8.6 14.1 12.1 19.4 12.7 10.3 10.3 11.2 10.4  9.0 10.4 13.9  9.3 14.2 11.0\n",
       "[16] 12.1  9.5 10.1 13.0 15.2"
      ]
     },
     "metadata": {},
     "output_type": "display_data"
    }
   ],
   "source": [
    "# last sample\n",
    "clt_sample_k[, clt_k]"
   ]
  },
  {
   "cell_type": "code",
   "execution_count": 14,
   "metadata": {},
   "outputs": [
    {
     "data": {
      "text/html": [
       "10.745"
      ],
      "text/latex": [
       "10.745"
      ],
      "text/markdown": [
       "10.745"
      ],
      "text/plain": [
       "[1] 10.745"
      ]
     },
     "metadata": {},
     "output_type": "display_data"
    },
    {
     "data": {
      "text/html": [
       "9.94"
      ],
      "text/latex": [
       "9.94"
      ],
      "text/markdown": [
       "9.94"
      ],
      "text/plain": [
       "[1] 9.94"
      ]
     },
     "metadata": {},
     "output_type": "display_data"
    },
    {
     "data": {
      "text/html": [
       "12.705"
      ],
      "text/latex": [
       "12.705"
      ],
      "text/markdown": [
       "12.705"
      ],
      "text/plain": [
       "[1] 12.705"
      ]
     },
     "metadata": {},
     "output_type": "display_data"
    },
    {
     "data": {
      "text/html": [
       "10.67"
      ],
      "text/latex": [
       "10.67"
      ],
      "text/markdown": [
       "10.67"
      ],
      "text/plain": [
       "[1] 10.67"
      ]
     },
     "metadata": {},
     "output_type": "display_data"
    },
    {
     "data": {
      "text/html": [
       "12.045"
      ],
      "text/latex": [
       "12.045"
      ],
      "text/markdown": [
       "12.045"
      ],
      "text/plain": [
       "[1] 12.045"
      ]
     },
     "metadata": {},
     "output_type": "display_data"
    },
    {
     "data": {
      "text/html": [
       "12.795"
      ],
      "text/latex": [
       "12.795"
      ],
      "text/markdown": [
       "12.795"
      ],
      "text/plain": [
       "[1] 12.795"
      ]
     },
     "metadata": {},
     "output_type": "display_data"
    },
    {
     "data": {
      "text/html": [
       "<ol class=list-inline>\n",
       "\t<li>10.745</li>\n",
       "\t<li>9.94</li>\n",
       "\t<li>12.705</li>\n",
       "\t<li>10.67</li>\n",
       "\t<li>12.045</li>\n",
       "\t<li>12.795</li>\n",
       "</ol>\n"
      ],
      "text/latex": [
       "\\begin{enumerate*}\n",
       "\\item 10.745\n",
       "\\item 9.94\n",
       "\\item 12.705\n",
       "\\item 10.67\n",
       "\\item 12.045\n",
       "\\item 12.795\n",
       "\\end{enumerate*}\n"
      ],
      "text/markdown": [
       "1. 10.745\n",
       "2. 9.94\n",
       "3. 12.705\n",
       "4. 10.67\n",
       "5. 12.045\n",
       "6. 12.795\n",
       "\n",
       "\n"
      ],
      "text/plain": [
       "[1] 10.745  9.940 12.705 10.670 12.045 12.795"
      ]
     },
     "metadata": {},
     "output_type": "display_data"
    }
   ],
   "source": [
    "# mean values of first few samples\n",
    "mean(clt_sample_k[, 1])\n",
    "mean(clt_sample_k[, 2])\n",
    "mean(clt_sample_k[, 3])\n",
    "mean(clt_sample_k[, 4])\n",
    "mean(clt_sample_k[, 5])\n",
    "mean(clt_sample_k[, 6])\n",
    "\n",
    "# or use apply() function to loop\n",
    "apply(clt_sample_k[, 1:6], 2, mean)"
   ]
  },
  {
   "cell_type": "code",
   "execution_count": 15,
   "metadata": {},
   "outputs": [
    {
     "data": {
      "text/html": [
       "3.52158382430107"
      ],
      "text/latex": [
       "3.52158382430107"
      ],
      "text/markdown": [
       "3.52158382430107"
      ],
      "text/plain": [
       "[1] 3.521584"
      ]
     },
     "metadata": {},
     "output_type": "display_data"
    },
    {
     "data": {
      "text/html": [
       "3.7529497170822"
      ],
      "text/latex": [
       "3.7529497170822"
      ],
      "text/markdown": [
       "3.7529497170822"
      ],
      "text/plain": [
       "[1] 3.75295"
      ]
     },
     "metadata": {},
     "output_type": "display_data"
    },
    {
     "data": {
      "text/html": [
       "3.57115269611191"
      ],
      "text/latex": [
       "3.57115269611191"
      ],
      "text/markdown": [
       "3.57115269611191"
      ],
      "text/plain": [
       "[1] 3.571153"
      ]
     },
     "metadata": {},
     "output_type": "display_data"
    },
    {
     "data": {
      "text/html": [
       "4.01026314926038"
      ],
      "text/latex": [
       "4.01026314926038"
      ],
      "text/markdown": [
       "4.01026314926038"
      ],
      "text/plain": [
       "[1] 4.010263"
      ]
     },
     "metadata": {},
     "output_type": "display_data"
    },
    {
     "data": {
      "text/html": [
       "3.17895630009202"
      ],
      "text/latex": [
       "3.17895630009202"
      ],
      "text/markdown": [
       "3.17895630009202"
      ],
      "text/plain": [
       "[1] 3.178956"
      ]
     },
     "metadata": {},
     "output_type": "display_data"
    },
    {
     "data": {
      "text/html": [
       "5.01140541270873"
      ],
      "text/latex": [
       "5.01140541270873"
      ],
      "text/markdown": [
       "5.01140541270873"
      ],
      "text/plain": [
       "[1] 5.011405"
      ]
     },
     "metadata": {},
     "output_type": "display_data"
    },
    {
     "data": {
      "text/html": [
       "<ol class=list-inline>\n",
       "\t<li>3.52158382430107</li>\n",
       "\t<li>3.7529497170822</li>\n",
       "\t<li>3.57115269611191</li>\n",
       "\t<li>4.01026314926038</li>\n",
       "\t<li>3.17895630009202</li>\n",
       "\t<li>5.01140541270873</li>\n",
       "</ol>\n"
      ],
      "text/latex": [
       "\\begin{enumerate*}\n",
       "\\item 3.52158382430107\n",
       "\\item 3.7529497170822\n",
       "\\item 3.57115269611191\n",
       "\\item 4.01026314926038\n",
       "\\item 3.17895630009202\n",
       "\\item 5.01140541270873\n",
       "\\end{enumerate*}\n"
      ],
      "text/markdown": [
       "1. 3.52158382430107\n",
       "2. 3.7529497170822\n",
       "3. 3.57115269611191\n",
       "4. 4.01026314926038\n",
       "5. 3.17895630009202\n",
       "6. 5.01140541270873\n",
       "\n",
       "\n"
      ],
      "text/plain": [
       "[1] 3.521584 3.752950 3.571153 4.010263 3.178956 5.011405"
      ]
     },
     "metadata": {},
     "output_type": "display_data"
    }
   ],
   "source": [
    "# std-dev values of first few samples\n",
    "sd(clt_sample_k[, 1])\n",
    "sd(clt_sample_k[, 2])\n",
    "sd(clt_sample_k[, 3])\n",
    "sd(clt_sample_k[, 4])\n",
    "sd(clt_sample_k[, 5])\n",
    "sd(clt_sample_k[, 6])\n",
    "\n",
    "# or use apply() function to loop\n",
    "apply(clt_sample_k[, 1:6], 2, sd)"
   ]
  },
  {
   "cell_type": "markdown",
   "metadata": {},
   "source": [
    "**k sample's distributions (k many)**"
   ]
  },
  {
   "cell_type": "code",
   "execution_count": 16,
   "metadata": {},
   "outputs": [
    {
     "data": {
      "text/plain": [
       "[[1]]\n",
       "$breaks\n",
       " [1]  0  2  4  6  8 10 12 14 16 18\n",
       "\n",
       "$counts\n",
       "[1] 1 0 1 1 4 5 5 2 1\n",
       "\n",
       "$density\n",
       "[1] 0.025 0.000 0.025 0.025 0.100 0.125 0.125 0.050 0.025\n",
       "\n",
       "$mids\n",
       "[1]  1  3  5  7  9 11 13 15 17\n",
       "\n",
       "$xname\n",
       "[1] \"newX[, i]\"\n",
       "\n",
       "$equidist\n",
       "[1] TRUE\n",
       "\n",
       "attr(,\"class\")\n",
       "[1] \"histogram\"\n",
       "\n",
       "[[2]]\n",
       "$breaks\n",
       "[1]  0  2  4  6  8 10 12 14 16\n",
       "\n",
       "$counts\n",
       "[1] 2 0 0 1 7 4 3 3\n",
       "\n",
       "$density\n",
       "[1] 0.050 0.000 0.000 0.025 0.175 0.100 0.075 0.075\n",
       "\n",
       "$mids\n",
       "[1]  1  3  5  7  9 11 13 15\n",
       "\n",
       "$xname\n",
       "[1] \"newX[, i]\"\n",
       "\n",
       "$equidist\n",
       "[1] TRUE\n",
       "\n",
       "attr(,\"class\")\n",
       "[1] \"histogram\"\n",
       "\n",
       "[[3]]\n",
       "$breaks\n",
       "[1]  4  6  8 10 12 14 16 18 20\n",
       "\n",
       "$counts\n",
       "[1] 1 0 3 4 5 3 2 2\n",
       "\n",
       "$density\n",
       "[1] 0.025 0.000 0.075 0.100 0.125 0.075 0.050 0.050\n",
       "\n",
       "$mids\n",
       "[1]  5  7  9 11 13 15 17 19\n",
       "\n",
       "$xname\n",
       "[1] \"newX[, i]\"\n",
       "\n",
       "$equidist\n",
       "[1] TRUE\n",
       "\n",
       "attr(,\"class\")\n",
       "[1] \"histogram\"\n",
       "\n",
       "[[4]]\n",
       "$breaks\n",
       " [1]  0  2  4  6  8 10 12 14 16 18\n",
       "\n",
       "$counts\n",
       "[1] 2 0 0 1 4 4 4 4 1\n",
       "\n",
       "$density\n",
       "[1] 0.050 0.000 0.000 0.025 0.100 0.100 0.100 0.100 0.025\n",
       "\n",
       "$mids\n",
       "[1]  1  3  5  7  9 11 13 15 17\n",
       "\n",
       "$xname\n",
       "[1] \"newX[, i]\"\n",
       "\n",
       "$equidist\n",
       "[1] TRUE\n",
       "\n",
       "attr(,\"class\")\n",
       "[1] \"histogram\"\n",
       "\n",
       "[[5]]\n",
       "$breaks\n",
       "[1]  4  6  8 10 12 14 16 18 20\n",
       "\n",
       "$counts\n",
       "[1] 1 0 4 7 1 6 0 1\n",
       "\n",
       "$density\n",
       "[1] 0.025 0.000 0.100 0.175 0.025 0.150 0.000 0.025\n",
       "\n",
       "$mids\n",
       "[1]  5  7  9 11 13 15 17 19\n",
       "\n",
       "$xname\n",
       "[1] \"newX[, i]\"\n",
       "\n",
       "$equidist\n",
       "[1] TRUE\n",
       "\n",
       "attr(,\"class\")\n",
       "[1] \"histogram\"\n",
       "\n",
       "[[6]]\n",
       "$breaks\n",
       "[1]  0  5 10 15 20\n",
       "\n",
       "$counts\n",
       "[1] 1 7 4 8\n",
       "\n",
       "$density\n",
       "[1] 0.01 0.07 0.04 0.08\n",
       "\n",
       "$mids\n",
       "[1]  2.5  7.5 12.5 17.5\n",
       "\n",
       "$xname\n",
       "[1] \"newX[, i]\"\n",
       "\n",
       "$equidist\n",
       "[1] TRUE\n",
       "\n",
       "attr(,\"class\")\n",
       "[1] \"histogram\"\n"
      ]
     },
     "metadata": {},
     "output_type": "display_data"
    },
    {
     "data": {
      "image/png": "[encoded data removed]",
      "text/plain": [
       "Plot with title “Histogram of newX[, i]”"
      ]
     },
     "metadata": {},
     "output_type": "display_data"
    }
   ],
   "source": [
    "# ----------------------------------\n",
    "# k sample's distributions (k many)\n",
    "# ----------------------------------\n",
    "# Show the first few sample's histogram\n",
    "par(mfrow=c(2, 3))\n",
    "apply(clt_sample_k[, 1:6], 2, FUN=hist)\n",
    "# Reset\n",
    "par(mfrow=c(1, 1))"
   ]
  },
  {
   "cell_type": "markdown",
   "metadata": {},
   "source": [
    "**Show the first few sample's density, together with Population**"
   ]
  },
  {
   "cell_type": "code",
   "execution_count": 17,
   "metadata": {},
   "outputs": [
    {
     "data": {
      "image/png": "[encoded data removed]",
      "text/plain": [
       "Plot with title “Visualize Population & Samples”"
      ]
     },
     "metadata": {},
     "output_type": "display_data"
    }
   ],
   "source": [
    "# Show the first few sample's density, together with Population\n",
    "# Population (Prevalence) histogram in probablity\n",
    "hist(ASD_State_SPED_2016$Prevalence, probability = T, \n",
    "     col=rgb(0.75,0.75,0.75,0.5), breaks = 50,\n",
    "     xlab = 'Prevalvence', xlim = (c(0, 25)),\n",
    "     ylab = 'Probability Density', \n",
    "     ylim = (c(0, 0.6)),\n",
    "     main = 'Visualize Population & Samples')\n",
    "\n",
    "# Overlay curve:\n",
    "# Population (Prevalence) density\n",
    "lines(density(ASD_State_SPED_2016$Prevalence), col=\"grey4\", lwd=2) \n",
    "\n",
    "# Overlay line:\n",
    "# mean = mean of Population (Prevalence)\n",
    "abline(v=mean(ASD_State_SPED_2016$Prevalence), col=\"grey4\", lwd=2) "
   ]
  },
  {
   "cell_type": "code",
   "execution_count": 18,
   "metadata": {},
   "outputs": [
    {
     "data": {
      "image/png": "[encoded data removed]",
      "text/plain": [
       "Plot with title “Visualize Population & Samples”"
      ]
     },
     "metadata": {},
     "output_type": "display_data"
    }
   ],
   "source": [
    "# Show the first few sample's density, together with Population\n",
    "# Population (Prevalence) histogram in probablity\n",
    "hist(ASD_State_SPED_2016$Prevalence, probability = T, \n",
    "     col=rgb(0.75,0.75,0.75,0.5), breaks = 50,\n",
    "     xlab = 'Prevalvence', xlim = (c(0, 25)),\n",
    "     ylab = 'Probability Density', \n",
    "     ylim = (c(0, 0.6)),\n",
    "     main = 'Visualize Population & Samples')\n",
    "\n",
    "# Overlay curve:\n",
    "# Population (Prevalence) density\n",
    "lines(density(ASD_State_SPED_2016$Prevalence), col=\"grey4\", lwd=2) \n",
    "\n",
    "# Overlay line:\n",
    "# mean = mean of Population (Prevalence)\n",
    "abline(v=mean(ASD_State_SPED_2016$Prevalence), col=\"grey4\", lwd=2) \n",
    "\n",
    "# Overlay:\n",
    "# First few sample's density & mean\n",
    "lines(density(clt_sample_k[, 1]), col=\"blue\", lwd=1) \n",
    "abline(v=mean(clt_sample_k[, 1]), col=\"blue\", lwd=1) \n",
    "\n",
    "lines(density(clt_sample_k[, 2]), col=\"blue\", lwd=1) \n",
    "abline(v=mean(clt_sample_k[, 2]), col=\"blue\", lwd=1) \n",
    "\n",
    "lines(density(clt_sample_k[, 3]), col=\"blue\", lwd=1) \n",
    "abline(v=mean(clt_sample_k[, 3]), col=\"blue\", lwd=1) \n",
    "\n",
    "lines(density(clt_sample_k[, 4]), col=\"blue\", lwd=1) \n",
    "abline(v=mean(clt_sample_k[, 4]), col=\"blue\", lwd=1) \n",
    "\n",
    "lines(density(clt_sample_k[, 5]), col=\"blue\", lwd=1) \n",
    "abline(v=mean(clt_sample_k[, 5]), col=\"blue\", lwd=1) \n",
    "\n",
    "lines(density(clt_sample_k[, 6]), col=\"blue\", lwd=1) \n",
    "abline(v=mean(clt_sample_k[, 6]), col=\"blue\", lwd=1) \n",
    "\n",
    "lines(density(clt_sample_k[, clt_k]), col=\"blue\", lwd=1) \n",
    "abline(v=mean(clt_sample_k[, clt_k]), col=\"blue\", lwd=1) \n",
    "\n",
    "# We can see that sample's distributions are all different."
   ]
  },
  {
   "cell_type": "markdown",
   "metadata": {},
   "source": [
    "**<span style=\"color:blue\">[ Tips ]</span> We notice that sample's distributions are all different.**"
   ]
  },
  {
   "cell_type": "markdown",
   "metadata": {},
   "source": [
    "**Create <span style=\"color:blue\">Sampling Distribution</span> (only one):**"
   ]
  },
  {
   "cell_type": "code",
   "execution_count": 19,
   "metadata": {},
   "outputs": [
    {
     "data": {
      "text/html": [
       "<ol class=list-inline>\n",
       "\t<li>10.745</li>\n",
       "\t<li>9.94</li>\n",
       "\t<li>12.705</li>\n",
       "\t<li>10.67</li>\n",
       "\t<li>12.045</li>\n",
       "\t<li>12.795</li>\n",
       "</ol>\n"
      ],
      "text/latex": [
       "\\begin{enumerate*}\n",
       "\\item 10.745\n",
       "\\item 9.94\n",
       "\\item 12.705\n",
       "\\item 10.67\n",
       "\\item 12.045\n",
       "\\item 12.795\n",
       "\\end{enumerate*}\n"
      ],
      "text/markdown": [
       "1. 10.745\n",
       "2. 9.94\n",
       "3. 12.705\n",
       "4. 10.67\n",
       "5. 12.045\n",
       "6. 12.795\n",
       "\n",
       "\n"
      ],
      "text/plain": [
       "[1] 10.745  9.940 12.705 10.670 12.045 12.795"
      ]
     },
     "metadata": {},
     "output_type": "display_data"
    }
   ],
   "source": [
    "# ----------------------------------\n",
    "# Sampling distribution (only one)\n",
    "# ----------------------------------\n",
    "# Calculate sample mean value for k samples\n",
    "clt_sample_k_mean <- apply(clt_sample_k, 2, mean)\n",
    "# Show first few sample means\n",
    "clt_sample_k_mean[1:6]"
   ]
  },
  {
   "cell_type": "code",
   "execution_count": 20,
   "metadata": {},
   "outputs": [
    {
     "data": {
      "text/html": [
       "<ol class=list-inline>\n",
       "\t<li>3.52158382430107</li>\n",
       "\t<li>3.7529497170822</li>\n",
       "\t<li>3.57115269611191</li>\n",
       "\t<li>4.01026314926038</li>\n",
       "\t<li>3.17895630009202</li>\n",
       "\t<li>5.01140541270873</li>\n",
       "</ol>\n"
      ],
      "text/latex": [
       "\\begin{enumerate*}\n",
       "\\item 3.52158382430107\n",
       "\\item 3.7529497170822\n",
       "\\item 3.57115269611191\n",
       "\\item 4.01026314926038\n",
       "\\item 3.17895630009202\n",
       "\\item 5.01140541270873\n",
       "\\end{enumerate*}\n"
      ],
      "text/markdown": [
       "1. 3.52158382430107\n",
       "2. 3.7529497170822\n",
       "3. 3.57115269611191\n",
       "4. 4.01026314926038\n",
       "5. 3.17895630009202\n",
       "6. 5.01140541270873\n",
       "\n",
       "\n"
      ],
      "text/plain": [
       "[1] 3.521584 3.752950 3.571153 4.010263 3.178956 5.011405"
      ]
     },
     "metadata": {},
     "output_type": "display_data"
    }
   ],
   "source": [
    "# Calculate sample std-dev value for each individual sample (totally k std-dev)\n",
    "clt_sample_k_sd <- apply(clt_sample_k, 2, sd)\n",
    "# Show first few samples' std-dev\n",
    "clt_sample_k_sd[1:6]"
   ]
  },
  {
   "cell_type": "code",
   "execution_count": 21,
   "metadata": {},
   "outputs": [
    {
     "data": {
      "text/html": [
       "0.713336703117785"
      ],
      "text/latex": [
       "0.713336703117785"
      ],
      "text/markdown": [
       "0.713336703117785"
      ],
      "text/plain": [
       "[1] 0.7133367"
      ]
     },
     "metadata": {},
     "output_type": "display_data"
    }
   ],
   "source": [
    "# Calculate std-dev value for Sampling DIsdtribution (only one std-dev)\n",
    "sd(clt_sample_k_mean)"
   ]
  },
  {
   "cell_type": "code",
   "execution_count": 22,
   "metadata": {},
   "outputs": [
    {
     "data": {
      "image/png": "[encoded data removed]",
      "text/plain": [
       "Plot with title “Histogram of clt_sample_k_mean”"
      ]
     },
     "metadata": {},
     "output_type": "display_data"
    }
   ],
   "source": [
    "# histogram of sample means (Sampling distribution of the mean)\n",
    "hist(clt_sample_k_mean, probability = T, breaks = 100)\n",
    "lines(density(clt_sample_k_mean), col=\"cyan2\", lwd=2) "
   ]
  },
  {
   "cell_type": "code",
   "execution_count": 23,
   "metadata": {},
   "outputs": [
    {
     "data": {
      "image/png": "[encoded data removed]",
      "text/plain": [
       "Plot with title “Histogram of clt_sample_k_sd”"
      ]
     },
     "metadata": {},
     "output_type": "display_data"
    }
   ],
   "source": [
    "# histogram of sample std-dev\n",
    "hist(clt_sample_k_sd, probability = T, breaks = 100)\n",
    "lines(density(clt_sample_k_sd), col=\"orange2\", lwd=2) "
   ]
  },
  {
   "cell_type": "code",
   "execution_count": 24,
   "metadata": {},
   "outputs": [
    {
     "data": {
      "text/html": [
       "11.1788145"
      ],
      "text/latex": [
       "11.1788145"
      ],
      "text/markdown": [
       "11.1788145"
      ],
      "text/plain": [
       "[1] 11.17881"
      ]
     },
     "metadata": {},
     "output_type": "display_data"
    }
   ],
   "source": [
    "# k *Sample* (sample size = n) mean Prevalence\n",
    "mean(clt_sample_k_mean)"
   ]
  },
  {
   "cell_type": "code",
   "execution_count": 25,
   "metadata": {},
   "outputs": [
    {
     "data": {
      "text/html": [
       "11.182"
      ],
      "text/latex": [
       "11.182"
      ],
      "text/markdown": [
       "11.182"
      ],
      "text/plain": [
       "[1] 11.182"
      ]
     },
     "metadata": {},
     "output_type": "display_data"
    }
   ],
   "source": [
    "# *Population* mean Prevalence\n",
    "mean(ASD_State_SPED_2016$Prevalence)"
   ]
  },
  {
   "cell_type": "markdown",
   "metadata": {},
   "source": [
    "**<span style=\"color:blue\">[ Tips ]</span> We notice that the above two means are close.**"
   ]
  },
  {
   "cell_type": "markdown",
   "metadata": {},
   "source": [
    "**Visualise: Central Limit Theorem (CLT)**"
   ]
  },
  {
   "cell_type": "code",
   "execution_count": 26,
   "metadata": {},
   "outputs": [
    {
     "data": {
      "image/png": "[encoded data removed]",
      "text/plain": [
       "Plot with title “Visualize Central Limit Theorem (CLT)”"
      ]
     },
     "metadata": {},
     "output_type": "display_data"
    }
   ],
   "source": [
    "# ----------------------------------\n",
    "# Sampling distribution vs. Population distribution vs. Z-Norm\n",
    "# ----------------------------------\n",
    "# Create:\n",
    "# Population (Prevalence) histogram in probablity\n",
    "hist(ASD_State_SPED_2016$Prevalence, probability = T, \n",
    "     col=rgb(0.75,0.75,0.75,0.5), breaks = 50,\n",
    "     xlab = 'Prevalvence', xlim = (c(0, 25)),\n",
    "     ylab = 'Probability Density', ylim = (c(0, 0.6)),\n",
    "     main = 'Visualize Central Limit Theorem (CLT)')\n",
    "\n",
    "# Overlay curve:\n",
    "# Population (Prevalence) density\n",
    "lines(density(ASD_State_SPED_2016$Prevalence), col=\"grey4\", lwd=2) \n",
    "\n",
    "# Overlay line:\n",
    "# mean = mean of Population (Prevalence)\n",
    "abline(v=mean(ASD_State_SPED_2016$Prevalence), col=\"black\", lwd=2) "
   ]
  },
  {
   "cell_type": "markdown",
   "metadata": {},
   "source": [
    "**Overlay: Sample means histogram in probability (Sampling disribution)**"
   ]
  },
  {
   "cell_type": "code",
   "execution_count": 27,
   "metadata": {},
   "outputs": [
    {
     "data": {
      "image/png": "[encoded data removed]",
      "text/plain": [
       "Plot with title “Visualize Central Limit Theorem (CLT)”"
      ]
     },
     "metadata": {},
     "output_type": "display_data"
    }
   ],
   "source": [
    "# ----------------------------------\n",
    "# Sampling distribution vs. Population distribution vs. Z-Norm\n",
    "# ----------------------------------\n",
    "# Create:\n",
    "# Population (Prevalence) histogram in probablity\n",
    "hist(ASD_State_SPED_2016$Prevalence, probability = T, \n",
    "     col=rgb(0.75,0.75,0.75,0.5), breaks = 50,\n",
    "     xlab = 'Prevalvence', xlim = (c(0, 25)),\n",
    "     ylab = 'Probability Density', ylim = (c(0, 0.6)),\n",
    "     main = 'Visualize Central Limit Theorem (CLT)')\n",
    "\n",
    "# Overlay curve:\n",
    "# Population (Prevalence) density\n",
    "lines(density(ASD_State_SPED_2016$Prevalence), col=\"grey4\", lwd=2) \n",
    "\n",
    "# Overlay line:\n",
    "# mean = mean of Population (Prevalence)\n",
    "abline(v=mean(ASD_State_SPED_2016$Prevalence), col=\"black\", lwd=2) \n",
    "\n",
    "# Overlay line:\n",
    "# Sample means histogram in probability (Sampling disribution)\n",
    "hist(clt_sample_k_mean, probability = T, \n",
    "     col=rgb(0,1,1,0.3), # https://www.dataanalytics.org.uk/make-transparent-colors-in-r/\n",
    "     add=T)\n",
    "\n",
    "# Overlay curve:\n",
    "# Sample (Prevalence) density (Sampling disribution)\n",
    "lines(density(clt_sample_k_mean), col=\"cyan2\", lwd=2) \n",
    "# Overlay line:\n",
    "# mean of Sampling distribution (of Prevelance, sample size n) \n",
    "abline(v=mean(clt_sample_k_mean), col=\"cyan2\", lwd=2, lty=3) "
   ]
  },
  {
   "cell_type": "markdown",
   "metadata": {},
   "source": [
    "< How to make transparent colors in R > https://www.dataanalytics.org.uk/make-transparent-colors-in-r/\n"
   ]
  },
  {
   "cell_type": "code",
   "execution_count": 28,
   "metadata": {},
   "outputs": [
    {
     "data": {
      "text/html": [
       "<table>\n",
       "<tbody>\n",
       "\t<tr><th scope=row>red</th><td>0        </td><td>0.745098 </td><td>0.6274510</td><td>1.0000000</td></tr>\n",
       "\t<tr><th scope=row>green</th><td>1        </td><td>0.745098 </td><td>0.1254902</td><td>0.6470588</td></tr>\n",
       "\t<tr><th scope=row>blue</th><td>1        </td><td>0.745098 </td><td>0.9411765</td><td>0.0000000</td></tr>\n",
       "</tbody>\n",
       "</table>\n"
      ],
      "text/latex": [
       "\\begin{tabular}{r|llll}\n",
       "\tred & 0         & 0.745098  & 0.6274510 & 1.0000000\\\\\n",
       "\tgreen & 1         & 0.745098  & 0.1254902 & 0.6470588\\\\\n",
       "\tblue & 1         & 0.745098  & 0.9411765 & 0.0000000\\\\\n",
       "\\end{tabular}\n"
      ],
      "text/markdown": [
       "\n",
       "| red | 0         | 0.745098  | 0.6274510 | 1.0000000 |\n",
       "| green | 1         | 0.745098  | 0.1254902 | 0.6470588 |\n",
       "| blue | 1         | 0.745098  | 0.9411765 | 0.0000000 |\n",
       "\n"
      ],
      "text/plain": [
       "      [,1] [,2]     [,3]      [,4]     \n",
       "red   0    0.745098 0.6274510 1.0000000\n",
       "green 1    0.745098 0.1254902 0.6470588\n",
       "blue  1    0.745098 0.9411765 0.0000000"
      ]
     },
     "metadata": {},
     "output_type": "display_data"
    }
   ],
   "source": [
    "col2rgb(c(\"cyan\", \"grey\", \"purple\", \"orange\")) / 255"
   ]
  },
  {
   "cell_type": "code",
   "execution_count": 29,
   "metadata": {},
   "outputs": [
    {
     "data": {
      "text/html": [
       "11.1788145"
      ],
      "text/latex": [
       "11.1788145"
      ],
      "text/markdown": [
       "11.1788145"
      ],
      "text/plain": [
       "[1] 11.17881"
      ]
     },
     "metadata": {},
     "output_type": "display_data"
    },
    {
     "data": {
      "text/html": [
       "11.182"
      ],
      "text/latex": [
       "11.182"
      ],
      "text/markdown": [
       "11.182"
      ],
      "text/plain": [
       "[1] 11.182"
      ]
     },
     "metadata": {},
     "output_type": "display_data"
    }
   ],
   "source": [
    "# Recall:\n",
    "# k *Sample* (sample size = n) mean Prevalence\n",
    "mean(clt_sample_k_mean)\n",
    "# *Population* mean Prevalence\n",
    "mean(ASD_State_SPED_2016$Prevalence)\n",
    "# We see that the above two means are close. Good estimation!"
   ]
  },
  {
   "cell_type": "markdown",
   "metadata": {},
   "source": [
    "**<span style=\"color:blue\">[ Tips ]</span> We notice that the above two means are close. <span style=\"color:blue\">Good estimation!</span>**"
   ]
  },
  {
   "cell_type": "markdown",
   "metadata": {},
   "source": [
    "**Standard Error (SE) (of mean prevalence), can be estimated as: std-dev of the Sampling distribution (of mean prevalence):**"
   ]
  },
  {
   "cell_type": "code",
   "execution_count": 30,
   "metadata": {},
   "outputs": [
    {
     "data": {
      "text/html": [
       "0.715705106870141"
      ],
      "text/latex": [
       "0.715705106870141"
      ],
      "text/markdown": [
       "0.715705106870141"
      ],
      "text/plain": [
       "[1] 0.7157051"
      ]
     },
     "metadata": {},
     "output_type": "display_data"
    },
    {
     "data": {
      "text/html": [
       "0.713336703117785"
      ],
      "text/latex": [
       "0.713336703117785"
      ],
      "text/markdown": [
       "0.713336703117785"
      ],
      "text/plain": [
       "[1] 0.7133367"
      ]
     },
     "metadata": {},
     "output_type": "display_data"
    },
    {
     "data": {
      "text/html": [
       "0.787450081960087"
      ],
      "text/latex": [
       "0.787450081960087"
      ],
      "text/markdown": [
       "0.787450081960087"
      ],
      "text/plain": [
       "[1] 0.7874501"
      ]
     },
     "metadata": {},
     "output_type": "display_data"
    }
   ],
   "source": [
    "# ----------------------------------\n",
    "# Standard Error (SE) (of mean prevalence), can be estimated as:\n",
    "# std-dev of the Sampling distribution (of mean prevalence)\n",
    "# ----------------------------------\n",
    "# https://en.wikipedia.org/wiki/Sampling_distribution\n",
    "\n",
    "# [1] Actual SE: When Population std-dev is known, SE using Population standard deviation:\n",
    "sd.p(ASD_State_SPED_2016$Prevalence) / sqrt(clt_n)\n",
    "\n",
    "# [2] Estimated SE with k samples: When Population std-dev is NOT known, but many sample means are known, SE using standard deviation of Sampling distribution\n",
    "sd(clt_sample_k_mean)\n",
    "\n",
    "# [3] Estimated SE with only one sample: When Population std-dev is NOT known, and only one sample obtained, SE using Sample's standard deviation: (std-dev of 1 Sample)\n",
    "clt_sample_k_sd[1] / sqrt(clt_n)"
   ]
  },
  {
   "cell_type": "markdown",
   "metadata": {},
   "source": [
    "**Overlay: <span style=\"color:blue\">Theoretic Sampling Distribution</span> with population mean & std-dev = Actual SE:**"
   ]
  },
  {
   "cell_type": "code",
   "execution_count": 31,
   "metadata": {},
   "outputs": [
    {
     "data": {
      "image/png": "[encoded data removed]",
      "text/plain": [
       "Plot with title “Visualize Central Limit Theorem (CLT)”"
      ]
     },
     "metadata": {},
     "output_type": "display_data"
    }
   ],
   "source": [
    "# ----------------------------------\n",
    "# Sampling distribution vs. Population distribution vs. Z-Norm\n",
    "# ----------------------------------\n",
    "# Create:\n",
    "# Population (Prevalence) histogram in probablity\n",
    "hist(ASD_State_SPED_2016$Prevalence, probability = T, \n",
    "     col=rgb(0.75,0.75,0.75,0.5), breaks = 50,\n",
    "     xlab = 'Prevalvence', xlim = (c(0, 25)),\n",
    "     ylab = 'Probability Density', ylim = (c(0, 0.6)),\n",
    "     main = 'Visualize Central Limit Theorem (CLT)')\n",
    "\n",
    "# Overlay curve:\n",
    "# Population (Prevalence) density\n",
    "lines(density(ASD_State_SPED_2016$Prevalence), col=\"grey4\", lwd=2) \n",
    "\n",
    "# Overlay line:\n",
    "# mean = mean of Population (Prevalence)\n",
    "abline(v=mean(ASD_State_SPED_2016$Prevalence), col=\"black\", lwd=2) \n",
    "\n",
    "# Overlay line:\n",
    "# Sample means histogram in probability (Sampling disribution)\n",
    "hist(clt_sample_k_mean, probability = T, \n",
    "     col=rgb(0,1,1,0.3), # https://www.dataanalytics.org.uk/make-transparent-colors-in-r/\n",
    "     add=T)\n",
    "\n",
    "# Overlay curve:\n",
    "# Sample (Prevalence) density (Sampling disribution)\n",
    "lines(density(clt_sample_k_mean), col=\"cyan2\", lwd=2) \n",
    "# Overlay line:\n",
    "# mean of Sampling distribution (of Prevelance, sample size n) \n",
    "abline(v=mean(clt_sample_k_mean), col=\"cyan2\", lwd=2, lty=3) \n",
    "\n",
    "# Overlay curve:\n",
    "# *Theoretic Sampling Distribution* with population mean & std-dev = Actual SE\n",
    "# mean = mean of Population (Prevalence) & std-dev = std-dev of Population (Prevalence) / square root of sample size n\n",
    "curve(dnorm(x, \n",
    "            mean(ASD_State_SPED_2016$Prevalence), # Actual Population mean\n",
    "            sd.p(ASD_State_SPED_2016$Prevalence) / sqrt(clt_n)), # Actual SE (for mean prevalence) = Population standard deviation / square root of sample size\n",
    "      add=TRUE, col=\"red\", lwd=2, lty=3)"
   ]
  },
  {
   "cell_type": "markdown",
   "metadata": {},
   "source": [
    "<div class=\"alert alert-block alert-info\" style=\"margin-top: 20px\">\n",
    "    <h3>\n",
    "    Sampling & Normality - Evaluate Normality\n",
    "    </h3>\n",
    "</div>\n"
   ]
  },
  {
   "cell_type": "markdown",
   "metadata": {},
   "source": [
    "**Use QQ Plot**\n",
    "\n",
    "< Construct a Quantile-Quantile Plot (QQ plot) > https://youtu.be/okjYjClSjOg\n"
   ]
  },
  {
   "cell_type": "code",
   "execution_count": 32,
   "metadata": {},
   "outputs": [
    {
     "data": {
      "image/png": "[encoded data removed]",
      "text/plain": [
       "Plot with title “Normal Q-Q Plot”"
      ]
     },
     "metadata": {},
     "output_type": "display_data"
    }
   ],
   "source": [
    "# ----------------------------------\n",
    "# Evaluate normality\n",
    "# ----------------------------------\n",
    "# Construct a Quantile-Quantile Plot (QQ plot)\n",
    "# https://youtu.be/okjYjClSjOg\n",
    "\n",
    "par(mfrow=c(1, 2))\n",
    "# Sample means\n",
    "qqnorm(clt_sample_k_mean, col=\"darkgrey\", \n",
    "#       xlim=(c(-4, 4)), ylim=(c(0, 20)),\n",
    "       xlab=\"z Value\", ylab=\"Prevalence\")\n",
    "qqline(clt_sample_k_mean, col=\"red\", lwd=2, lty=3)\n",
    "# Population\n",
    "qqnorm(ASD_State_SPED_2016$Prevalence, col=\"darkgrey\", \n",
    "       xlim=(c(-4, 4)),\n",
    "       xlab=\"z Value\", ylab=\"Prevalence\")\n",
    "qqline(ASD_State_SPED_2016$Prevalence, col=\"red\", lwd=2, lty=3)\n",
    "# Reset\n",
    "par(mfrow=c(1, 1))\n"
   ]
  },
  {
   "cell_type": "markdown",
   "metadata": {},
   "source": [
    "**<span style=\"color:blue\">[ Tips ]</span> If most/all data points are aligned with the red straight line, then the underlying data points are normally distributed.**"
   ]
  },
  {
   "cell_type": "code",
   "execution_count": 33,
   "metadata": {},
   "outputs": [
    {
     "data": {
      "image/png": "[encoded data removed]",
      "text/plain": [
       "Plot with title “Normal Q-Q Plot”"
      ]
     },
     "metadata": {},
     "output_type": "display_data"
    },
    {
     "data": {
      "image/png": "[encoded data removed]",
      "text/plain": [
       "Plot with title “Normal Q-Q Plot”"
      ]
     },
     "metadata": {},
     "output_type": "display_data"
    }
   ],
   "source": [
    "# ----------------------------------\n",
    "# Evaluate normality\n",
    "# ----------------------------------\n",
    "par(mfrow=c(1, 2))\n",
    "\n",
    "# ASD_State_ADDM$Prevalence\n",
    "qqnorm(ASD_State_ADDM$Prevalence, col=\"darkgrey\", \n",
    "#       xlim=(c(-4, 4)), ylim=(c(0, 20)),\n",
    "       xlab=\"z Value\", ylab=\"ASD_State_ADDM Prevalence\")\n",
    "qqline(ASD_State_ADDM$Prevalence, col=\"red\", lwd=2, lty=3)\n",
    "# plot(density(ASD_State_ADDM$Prevalence))\n",
    "\n",
    "# ASD_State_MEDI$Prevalence\n",
    "qqnorm(ASD_State_MEDI$Prevalence, col=\"darkgrey\", \n",
    "#       xlim=(c(-4, 4)), ylim=(c(0, 20)),\n",
    "       xlab=\"z Value\", ylab=\"ASD_State_MEDI Prevalence\")\n",
    "qqline(ASD_State_MEDI$Prevalence, col=\"red\", lwd=2, lty=3)\n",
    "\n",
    "# ASD_State_NSCH$Prevalence\n",
    "qqnorm(ASD_State_NSCH$Prevalence, col=\"darkgrey\", \n",
    "#       xlim=(c(-4, 4)), ylim=(c(0, 20)),\n",
    "       xlab=\"z Value\", ylab=\"ASD_State_NSCH Prevalence\")\n",
    "qqline(ASD_State_NSCH$Prevalence, col=\"red\", lwd=2, lty=3)\n",
    "\n",
    "# ASD_State_SPED$Prevalence\n",
    "qqnorm(ASD_State_SPED$Prevalence, col=\"darkgrey\", \n",
    "#       xlim=(c(-4, 4)), ylim=(c(0, 20)),\n",
    "       xlab=\"z Value\", ylab=\"ASD_State_SPED Prevalence\")\n",
    "qqline(ASD_State_SPED$Prevalence, col=\"red\", lwd=2, lty=3)\n",
    "\n",
    "# Reset\n",
    "par(mfrow=c(1, 1))\n"
   ]
  },
  {
   "cell_type": "code",
   "execution_count": 34,
   "metadata": {},
   "outputs": [
    {
     "data": {
      "image/png": "[encoded data removed]",
      "text/plain": [
       "Plot with title “density.default(x = ASD_State_MEDI$Prevalence)”"
      ]
     },
     "metadata": {},
     "output_type": "display_data"
    },
    {
     "data": {
      "image/png": "[encoded data removed]",
      "text/plain": [
       "Plot with title “density.default(x = ASD_State_SPED$Prevalence)”"
      ]
     },
     "metadata": {},
     "output_type": "display_data"
    }
   ],
   "source": [
    "# ----------------------------------\n",
    "# Evaluate normality\n",
    "# ----------------------------------\n",
    "par(mfrow=c(1, 2))\n",
    "plot(density(ASD_State_ADDM$Prevalence))\n",
    "plot(density(ASD_State_MEDI$Prevalence))\n",
    "plot(density(ASD_State_NSCH$Prevalence))\n",
    "plot(density(ASD_State_SPED$Prevalence))\n",
    "# Reset\n",
    "par(mfrow=c(1, 1))"
   ]
  },
  {
   "cell_type": "code",
   "execution_count": 35,
   "metadata": {},
   "outputs": [
    {
     "data": {
      "text/plain": [
       "\n",
       "\tShapiro-Wilk normality test\n",
       "\n",
       "data:  sample(x = clt_sample_k_mean, size = 1000)\n",
       "W = 0.99904, p-value = 0.8907\n"
      ]
     },
     "metadata": {},
     "output_type": "display_data"
    },
    {
     "data": {
      "text/plain": [
       "\n",
       "\tShapiro-Wilk normality test\n",
       "\n",
       "data:  ASD_State_SPED_2016$Prevalence\n",
       "W = 0.96985, p-value = 0.2282\n"
      ]
     },
     "metadata": {},
     "output_type": "display_data"
    }
   ],
   "source": [
    "# Alternatively, use shapiro.test() to test Normality\n",
    "set.seed(88)\n",
    "\n",
    "# Test data of k smaple's means (Sampling Distribution data):\n",
    "shapiro.test(sample(x = clt_sample_k_mean, size = 1000))\n",
    "\n",
    "# Test data of population's Prevalence values (Population Distribution data):\n",
    "shapiro.test(ASD_State_SPED_2016$Prevalence)"
   ]
  },
  {
   "cell_type": "markdown",
   "metadata": {},
   "source": [
    "**<span style=\"color:blue\">[ Tips ]</span> General speaking, if <span style=\"color:blue\">p-value</span> is greater than <span style=\"color:blue\">0.05 (meaning more than 5% chance of being normally distributed)</span>, then the underlying data points are normally distributed.**"
   ]
  },
  {
   "cell_type": "markdown",
   "metadata": {},
   "source": [
    "<div class=\"alert alert-block alert-info\" style=\"margin-top: 20px\">\n",
    "</div>\n",
    "\n"
   ]
  },
  {
   "cell_type": "markdown",
   "metadata": {},
   "source": [
    "## <span style=\"color:blue\">Confidence Interval (CI)</span>\n"
   ]
  },
  {
   "cell_type": "markdown",
   "metadata": {},
   "source": [
    "<div class=\"alert alert-block alert-info\" style=\"margin-top: 20px\">\n",
    "    <h3>\n",
    "    Confidence Interval (CI) - Mean Estimation & Its CI\n",
    "    </h3>\n",
    "</div>\n"
   ]
  },
  {
   "cell_type": "markdown",
   "metadata": {},
   "source": [
    "**Use a <span style=\"color:blue\">Sample statistic (e.g. mean)</span> to estimate a <span style=\"color:blue\">population statistic (e.g. mean)</span>. And quantitatively calculate the confidence of the estimation.**"
   ]
  },
  {
   "cell_type": "code",
   "execution_count": 36,
   "metadata": {},
   "outputs": [
    {
     "data": {
      "text/html": [
       "<ol class=list-inline>\n",
       "\t<li>50</li>\n",
       "\t<li>2</li>\n",
       "</ol>\n"
      ],
      "text/latex": [
       "\\begin{enumerate*}\n",
       "\\item 50\n",
       "\\item 2\n",
       "\\end{enumerate*}\n"
      ],
      "text/markdown": [
       "1. 50\n",
       "2. 2\n",
       "\n",
       "\n"
      ],
      "text/plain": [
       "[1] 50  2"
      ]
     },
     "metadata": {},
     "output_type": "display_data"
    },
    {
     "data": {
      "text/html": [
       "<table>\n",
       "<thead><tr><th></th><th scope=col>State</th><th scope=col>Prevalence</th></tr></thead>\n",
       "<tbody>\n",
       "\t<tr><th scope=row>1643</th><td>AL  </td><td> 9.1</td></tr>\n",
       "\t<tr><th scope=row>1644</th><td>AK  </td><td>10.1</td></tr>\n",
       "\t<tr><th scope=row>1645</th><td>AZ  </td><td>10.4</td></tr>\n",
       "\t<tr><th scope=row>1646</th><td>AR  </td><td> 9.5</td></tr>\n",
       "\t<tr><th scope=row>1647</th><td>CA  </td><td>13.9</td></tr>\n",
       "\t<tr><th scope=row>1648</th><td>CO  </td><td> 7.3</td></tr>\n",
       "\t<tr><th scope=row>1649</th><td>CT  </td><td>15.4</td></tr>\n",
       "\t<tr><th scope=row>1650</th><td>DE  </td><td>11.1</td></tr>\n",
       "\t<tr><th scope=row>1651</th><td>DC  </td><td>11.9</td></tr>\n",
       "\t<tr><th scope=row>1652</th><td>FL  </td><td>12.1</td></tr>\n",
       "\t<tr><th scope=row>1653</th><td>GA  </td><td>10.3</td></tr>\n",
       "\t<tr><th scope=row>1654</th><td>HI  </td><td> 8.3</td></tr>\n",
       "\t<tr><th scope=row>1655</th><td>ID  </td><td> 9.5</td></tr>\n",
       "\t<tr><th scope=row>1656</th><td>IL  </td><td>11.0</td></tr>\n",
       "\t<tr><th scope=row>1657</th><td>IN  </td><td>14.2</td></tr>\n",
       "\t<tr><th scope=row>1658</th><td>IA  </td><td> 1.4</td></tr>\n",
       "\t<tr><th scope=row>1659</th><td>KS  </td><td> 8.2</td></tr>\n",
       "\t<tr><th scope=row>1660</th><td>KY  </td><td> 9.3</td></tr>\n",
       "\t<tr><th scope=row>1661</th><td>LA  </td><td> 6.9</td></tr>\n",
       "\t<tr><th scope=row>1662</th><td>ME  </td><td>16.7</td></tr>\n",
       "\t<tr><th scope=row>1663</th><td>MD  </td><td>11.9</td></tr>\n",
       "\t<tr><th scope=row>1664</th><td>MA  </td><td>17.4</td></tr>\n",
       "\t<tr><th scope=row>1665</th><td>MI  </td><td>11.2</td></tr>\n",
       "\t<tr><th scope=row>1666</th><td>MN  </td><td>19.4</td></tr>\n",
       "\t<tr><th scope=row>1667</th><td>MS  </td><td> 9.5</td></tr>\n",
       "\t<tr><th scope=row>1668</th><td>MO  </td><td>12.4</td></tr>\n",
       "\t<tr><th scope=row>1669</th><td>MT  </td><td> 5.5</td></tr>\n",
       "\t<tr><th scope=row>1670</th><td>NE  </td><td>10.8</td></tr>\n",
       "\t<tr><th scope=row>1671</th><td>NV  </td><td>12.7</td></tr>\n",
       "\t<tr><th scope=row>1672</th><td>NH  </td><td>14.1</td></tr>\n",
       "\t<tr><th scope=row>1673</th><td>NJ  </td><td>14.1</td></tr>\n",
       "\t<tr><th scope=row>1674</th><td>NM  </td><td> 8.5</td></tr>\n",
       "\t<tr><th scope=row>1675</th><td>NY  </td><td>13.0</td></tr>\n",
       "\t<tr><th scope=row>1676</th><td>NC  </td><td>11.2</td></tr>\n",
       "\t<tr><th scope=row>1677</th><td>ND  </td><td> 9.8</td></tr>\n",
       "\t<tr><th scope=row>1678</th><td>OH  </td><td>12.5</td></tr>\n",
       "\t<tr><th scope=row>1679</th><td>OK  </td><td> 8.9</td></tr>\n",
       "\t<tr><th scope=row>1680</th><td>OR  </td><td>15.1</td></tr>\n",
       "\t<tr><th scope=row>1681</th><td>PA  </td><td>16.9</td></tr>\n",
       "\t<tr><th scope=row>1682</th><td>RI  </td><td>15.2</td></tr>\n",
       "\t<tr><th scope=row>1683</th><td>SC  </td><td> 9.6</td></tr>\n",
       "\t<tr><th scope=row>1684</th><td>SD  </td><td> 9.0</td></tr>\n",
       "\t<tr><th scope=row>1685</th><td>TN  </td><td> 9.5</td></tr>\n",
       "\t<tr><th scope=row>1686</th><td>TX  </td><td>10.2</td></tr>\n",
       "\t<tr><th scope=row>1687</th><td>UT  </td><td> 8.7</td></tr>\n",
       "\t<tr><th scope=row>1688</th><td>VT  </td><td>12.1</td></tr>\n",
       "\t<tr><th scope=row>1689</th><td>VA  </td><td>14.2</td></tr>\n",
       "\t<tr><th scope=row>1690</th><td>WA  </td><td>11.2</td></tr>\n",
       "\t<tr><th scope=row>1691</th><td>WV  </td><td> 8.6</td></tr>\n",
       "\t<tr><th scope=row>1692</th><td>WY  </td><td> 9.3</td></tr>\n",
       "</tbody>\n",
       "</table>\n"
      ],
      "text/latex": [
       "\\begin{tabular}{r|ll}\n",
       "  & State & Prevalence\\\\\n",
       "\\hline\n",
       "\t1643 & AL   &  9.1\\\\\n",
       "\t1644 & AK   & 10.1\\\\\n",
       "\t1645 & AZ   & 10.4\\\\\n",
       "\t1646 & AR   &  9.5\\\\\n",
       "\t1647 & CA   & 13.9\\\\\n",
       "\t1648 & CO   &  7.3\\\\\n",
       "\t1649 & CT   & 15.4\\\\\n",
       "\t1650 & DE   & 11.1\\\\\n",
       "\t1651 & DC   & 11.9\\\\\n",
       "\t1652 & FL   & 12.1\\\\\n",
       "\t1653 & GA   & 10.3\\\\\n",
       "\t1654 & HI   &  8.3\\\\\n",
       "\t1655 & ID   &  9.5\\\\\n",
       "\t1656 & IL   & 11.0\\\\\n",
       "\t1657 & IN   & 14.2\\\\\n",
       "\t1658 & IA   &  1.4\\\\\n",
       "\t1659 & KS   &  8.2\\\\\n",
       "\t1660 & KY   &  9.3\\\\\n",
       "\t1661 & LA   &  6.9\\\\\n",
       "\t1662 & ME   & 16.7\\\\\n",
       "\t1663 & MD   & 11.9\\\\\n",
       "\t1664 & MA   & 17.4\\\\\n",
       "\t1665 & MI   & 11.2\\\\\n",
       "\t1666 & MN   & 19.4\\\\\n",
       "\t1667 & MS   &  9.5\\\\\n",
       "\t1668 & MO   & 12.4\\\\\n",
       "\t1669 & MT   &  5.5\\\\\n",
       "\t1670 & NE   & 10.8\\\\\n",
       "\t1671 & NV   & 12.7\\\\\n",
       "\t1672 & NH   & 14.1\\\\\n",
       "\t1673 & NJ   & 14.1\\\\\n",
       "\t1674 & NM   &  8.5\\\\\n",
       "\t1675 & NY   & 13.0\\\\\n",
       "\t1676 & NC   & 11.2\\\\\n",
       "\t1677 & ND   &  9.8\\\\\n",
       "\t1678 & OH   & 12.5\\\\\n",
       "\t1679 & OK   &  8.9\\\\\n",
       "\t1680 & OR   & 15.1\\\\\n",
       "\t1681 & PA   & 16.9\\\\\n",
       "\t1682 & RI   & 15.2\\\\\n",
       "\t1683 & SC   &  9.6\\\\\n",
       "\t1684 & SD   &  9.0\\\\\n",
       "\t1685 & TN   &  9.5\\\\\n",
       "\t1686 & TX   & 10.2\\\\\n",
       "\t1687 & UT   &  8.7\\\\\n",
       "\t1688 & VT   & 12.1\\\\\n",
       "\t1689 & VA   & 14.2\\\\\n",
       "\t1690 & WA   & 11.2\\\\\n",
       "\t1691 & WV   &  8.6\\\\\n",
       "\t1692 & WY   &  9.3\\\\\n",
       "\\end{tabular}\n"
      ],
      "text/markdown": [
       "\n",
       "| <!--/--> | State | Prevalence |\n",
       "|---|---|---|\n",
       "| 1643 | AL   |  9.1 |\n",
       "| 1644 | AK   | 10.1 |\n",
       "| 1645 | AZ   | 10.4 |\n",
       "| 1646 | AR   |  9.5 |\n",
       "| 1647 | CA   | 13.9 |\n",
       "| 1648 | CO   |  7.3 |\n",
       "| 1649 | CT   | 15.4 |\n",
       "| 1650 | DE   | 11.1 |\n",
       "| 1651 | DC   | 11.9 |\n",
       "| 1652 | FL   | 12.1 |\n",
       "| 1653 | GA   | 10.3 |\n",
       "| 1654 | HI   |  8.3 |\n",
       "| 1655 | ID   |  9.5 |\n",
       "| 1656 | IL   | 11.0 |\n",
       "| 1657 | IN   | 14.2 |\n",
       "| 1658 | IA   |  1.4 |\n",
       "| 1659 | KS   |  8.2 |\n",
       "| 1660 | KY   |  9.3 |\n",
       "| 1661 | LA   |  6.9 |\n",
       "| 1662 | ME   | 16.7 |\n",
       "| 1663 | MD   | 11.9 |\n",
       "| 1664 | MA   | 17.4 |\n",
       "| 1665 | MI   | 11.2 |\n",
       "| 1666 | MN   | 19.4 |\n",
       "| 1667 | MS   |  9.5 |\n",
       "| 1668 | MO   | 12.4 |\n",
       "| 1669 | MT   |  5.5 |\n",
       "| 1670 | NE   | 10.8 |\n",
       "| 1671 | NV   | 12.7 |\n",
       "| 1672 | NH   | 14.1 |\n",
       "| 1673 | NJ   | 14.1 |\n",
       "| 1674 | NM   |  8.5 |\n",
       "| 1675 | NY   | 13.0 |\n",
       "| 1676 | NC   | 11.2 |\n",
       "| 1677 | ND   |  9.8 |\n",
       "| 1678 | OH   | 12.5 |\n",
       "| 1679 | OK   |  8.9 |\n",
       "| 1680 | OR   | 15.1 |\n",
       "| 1681 | PA   | 16.9 |\n",
       "| 1682 | RI   | 15.2 |\n",
       "| 1683 | SC   |  9.6 |\n",
       "| 1684 | SD   |  9.0 |\n",
       "| 1685 | TN   |  9.5 |\n",
       "| 1686 | TX   | 10.2 |\n",
       "| 1687 | UT   |  8.7 |\n",
       "| 1688 | VT   | 12.1 |\n",
       "| 1689 | VA   | 14.2 |\n",
       "| 1690 | WA   | 11.2 |\n",
       "| 1691 | WV   |  8.6 |\n",
       "| 1692 | WY   |  9.3 |\n",
       "\n"
      ],
      "text/plain": [
       "     State Prevalence\n",
       "1643 AL     9.1      \n",
       "1644 AK    10.1      \n",
       "1645 AZ    10.4      \n",
       "1646 AR     9.5      \n",
       "1647 CA    13.9      \n",
       "1648 CO     7.3      \n",
       "1649 CT    15.4      \n",
       "1650 DE    11.1      \n",
       "1651 DC    11.9      \n",
       "1652 FL    12.1      \n",
       "1653 GA    10.3      \n",
       "1654 HI     8.3      \n",
       "1655 ID     9.5      \n",
       "1656 IL    11.0      \n",
       "1657 IN    14.2      \n",
       "1658 IA     1.4      \n",
       "1659 KS     8.2      \n",
       "1660 KY     9.3      \n",
       "1661 LA     6.9      \n",
       "1662 ME    16.7      \n",
       "1663 MD    11.9      \n",
       "1664 MA    17.4      \n",
       "1665 MI    11.2      \n",
       "1666 MN    19.4      \n",
       "1667 MS     9.5      \n",
       "1668 MO    12.4      \n",
       "1669 MT     5.5      \n",
       "1670 NE    10.8      \n",
       "1671 NV    12.7      \n",
       "1672 NH    14.1      \n",
       "1673 NJ    14.1      \n",
       "1674 NM     8.5      \n",
       "1675 NY    13.0      \n",
       "1676 NC    11.2      \n",
       "1677 ND     9.8      \n",
       "1678 OH    12.5      \n",
       "1679 OK     8.9      \n",
       "1680 OR    15.1      \n",
       "1681 PA    16.9      \n",
       "1682 RI    15.2      \n",
       "1683 SC     9.6      \n",
       "1684 SD     9.0      \n",
       "1685 TN     9.5      \n",
       "1686 TX    10.2      \n",
       "1687 UT     8.7      \n",
       "1688 VT    12.1      \n",
       "1689 VA    14.2      \n",
       "1690 WA    11.2      \n",
       "1691 WV     8.6      \n",
       "1692 WY     9.3      "
      ]
     },
     "metadata": {},
     "output_type": "display_data"
    }
   ],
   "source": [
    "# ----------------------------------\n",
    "# Use a sample of a few US. State's ASD prevalence (mean) to estimate:\n",
    "# Average prevalence of ALL US. States (the *Population*) [Source SPED, Year 2016]\n",
    "# ----------------------------------\n",
    "dim(ASD_State_SPED_2016)\n",
    "#\n",
    "ASD_State_SPED_2016 # This is considered as a population now."
   ]
  },
  {
   "cell_type": "markdown",
   "metadata": {},
   "source": [
    "**Draw a  <span style=\"color:blue\">Sample</span> from ASD_State_SPED_2016$Prevalence**"
   ]
  },
  {
   "cell_type": "code",
   "execution_count": 37,
   "metadata": {},
   "outputs": [
    {
     "data": {
      "text/html": [
       "<ol class=list-inline>\n",
       "\t<li>11.2</li>\n",
       "\t<li>9.5</li>\n",
       "\t<li>16.9</li>\n",
       "\t<li>6.9</li>\n",
       "\t<li>11.2</li>\n",
       "\t<li>8.2</li>\n",
       "\t<li>12.7</li>\n",
       "\t<li>9.5</li>\n",
       "\t<li>1.4</li>\n",
       "\t<li>10.2</li>\n",
       "</ol>\n"
      ],
      "text/latex": [
       "\\begin{enumerate*}\n",
       "\\item 11.2\n",
       "\\item 9.5\n",
       "\\item 16.9\n",
       "\\item 6.9\n",
       "\\item 11.2\n",
       "\\item 8.2\n",
       "\\item 12.7\n",
       "\\item 9.5\n",
       "\\item 1.4\n",
       "\\item 10.2\n",
       "\\end{enumerate*}\n"
      ],
      "text/markdown": [
       "1. 11.2\n",
       "2. 9.5\n",
       "3. 16.9\n",
       "4. 6.9\n",
       "5. 11.2\n",
       "6. 8.2\n",
       "7. 12.7\n",
       "8. 9.5\n",
       "9. 1.4\n",
       "10. 10.2\n",
       "\n",
       "\n"
      ],
      "text/plain": [
       " [1] 11.2  9.5 16.9  6.9 11.2  8.2 12.7  9.5  1.4 10.2"
      ]
     },
     "metadata": {},
     "output_type": "display_data"
    }
   ],
   "source": [
    "# Create a *Sample* from ASD_State_SPED_2016$Prevalence,\n",
    "# with sample size n =\n",
    "clt_n = 10\n",
    "# Try 20 or 40, larger sample size, narrower the CI (more confident at xx% level)\n",
    "# clt_n = 20 \n",
    "\n",
    "set.seed(88)\n",
    "clt_sample_1 = sample(x = ASD_State_SPED_2016$Prevalence, size = clt_n, replace = FALSE)\n",
    "clt_sample_1"
   ]
  },
  {
   "cell_type": "code",
   "execution_count": 38,
   "metadata": {},
   "outputs": [
    {
     "data": {
      "image/png": "[encoded data removed]",
      "text/plain": [
       "Plot with title “density.default(x = clt_sample_1)”"
      ]
     },
     "metadata": {},
     "output_type": "display_data"
    }
   ],
   "source": [
    "plot(density(clt_sample_1), col=\"darkgrey\", lwd=2) \n",
    "hist(clt_sample_1, probability = T, add = T)"
   ]
  },
  {
   "cell_type": "code",
   "execution_count": 39,
   "metadata": {},
   "outputs": [
    {
     "data": {
      "text/html": [
       "9.77"
      ],
      "text/latex": [
       "9.77"
      ],
      "text/markdown": [
       "9.77"
      ],
      "text/plain": [
       "[1] 9.77"
      ]
     },
     "metadata": {},
     "output_type": "display_data"
    },
    {
     "data": {
      "text/html": [
       "11.182"
      ],
      "text/latex": [
       "11.182"
      ],
      "text/markdown": [
       "11.182"
      ],
      "text/plain": [
       "[1] 11.182"
      ]
     },
     "metadata": {},
     "output_type": "display_data"
    }
   ],
   "source": [
    "# Sample mean Prevalence\n",
    "mean(clt_sample_1)\n",
    "\n",
    "# *Population* mean Prevalence\n",
    "mean(ASD_State_SPED_2016$Prevalence)"
   ]
  },
  {
   "cell_type": "markdown",
   "metadata": {},
   "source": [
    "**1. Calculate Confidence Interval of mean estimation: <span style=\"color:blue\">CI using Z (Standard Normal) distribution</span>**"
   ]
  },
  {
   "cell_type": "code",
   "execution_count": 40,
   "metadata": {},
   "outputs": [
    {
     "data": {
      "text/html": [
       "9.77"
      ],
      "text/latex": [
       "9.77"
      ],
      "text/markdown": [
       "9.77"
      ],
      "text/plain": [
       "[1] 9.77"
      ]
     },
     "metadata": {},
     "output_type": "display_data"
    }
   ],
   "source": [
    "# ----------------------------------\n",
    "# CI using Z (Standard Normal) distribution\n",
    "# ----------------------------------\n",
    "# sample mean\n",
    "sample_mean = mean(clt_sample_1)\n",
    "sample_mean"
   ]
  },
  {
   "cell_type": "code",
   "execution_count": 41,
   "metadata": {},
   "outputs": [
    {
     "data": {
      "text/html": [
       "10"
      ],
      "text/latex": [
       "10"
      ],
      "text/markdown": [
       "10"
      ],
      "text/plain": [
       "[1] 10"
      ]
     },
     "metadata": {},
     "output_type": "display_data"
    }
   ],
   "source": [
    "# sample size n\n",
    "sample_size_n = length(clt_sample_1)\n",
    "sample_size_n"
   ]
  },
  {
   "cell_type": "code",
   "execution_count": 42,
   "metadata": {},
   "outputs": [
    {
     "data": {
      "text/html": [
       "4.00833853083516"
      ],
      "text/latex": [
       "4.00833853083516"
      ],
      "text/markdown": [
       "4.00833853083516"
      ],
      "text/plain": [
       "[1] 4.008339"
      ]
     },
     "metadata": {},
     "output_type": "display_data"
    }
   ],
   "source": [
    "# sample standard deviation\n",
    "sample_sd = sd(clt_sample_1)\n",
    "sample_sd"
   ]
  },
  {
   "cell_type": "code",
   "execution_count": 43,
   "metadata": {},
   "outputs": [
    {
     "data": {
      "text/html": [
       "1.26754793904522"
      ],
      "text/latex": [
       "1.26754793904522"
      ],
      "text/markdown": [
       "1.26754793904522"
      ],
      "text/plain": [
       "[1] 1.267548"
      ]
     },
     "metadata": {},
     "output_type": "display_data"
    }
   ],
   "source": [
    "# sample standard error\n",
    "sample_se = sample_sd / sqrt(sample_size_n)\n",
    "sample_se"
   ]
  },
  {
   "cell_type": "code",
   "execution_count": 44,
   "metadata": {},
   "outputs": [
    {
     "data": {
      "text/html": [
       "1.95996398454005"
      ],
      "text/latex": [
       "1.95996398454005"
      ],
      "text/markdown": [
       "1.95996398454005"
      ],
      "text/plain": [
       "[1] 1.959964"
      ]
     },
     "metadata": {},
     "output_type": "display_data"
    }
   ],
   "source": [
    "# 95% quantile (z score)\n",
    "z_score = qnorm(p = 0.975)\n",
    "z_score"
   ]
  },
  {
   "cell_type": "code",
   "execution_count": 45,
   "metadata": {},
   "outputs": [],
   "source": [
    "# ?qnorm"
   ]
  },
  {
   "cell_type": "code",
   "execution_count": 46,
   "metadata": {},
   "outputs": [
    {
     "data": {
      "text/html": [
       "2.4843483092066"
      ],
      "text/latex": [
       "2.4843483092066"
      ],
      "text/markdown": [
       "2.4843483092066"
      ],
      "text/plain": [
       "[1] 2.484348"
      ]
     },
     "metadata": {},
     "output_type": "display_data"
    }
   ],
   "source": [
    "# CI using Z distribution\n",
    "sample_ci = z_score * sample_se\n",
    "sample_ci"
   ]
  },
  {
   "cell_type": "code",
   "execution_count": 47,
   "metadata": {},
   "outputs": [
    {
     "data": {
      "text/html": [
       "7.2856516907934"
      ],
      "text/latex": [
       "7.2856516907934"
      ],
      "text/markdown": [
       "7.2856516907934"
      ],
      "text/plain": [
       "[1] 7.285652"
      ]
     },
     "metadata": {},
     "output_type": "display_data"
    },
    {
     "data": {
      "text/html": [
       "12.2543483092066"
      ],
      "text/latex": [
       "12.2543483092066"
      ],
      "text/markdown": [
       "12.2543483092066"
      ],
      "text/plain": [
       "[1] 12.25435"
      ]
     },
     "metadata": {},
     "output_type": "display_data"
    },
    {
     "name": "stdout",
     "output_type": "stream",
     "text": [
      "\t< Confidence Interval (Prevalence) >\n",
      " \tLower CI :  7.285652 \tMean :  9.77 \tUpper CI :  12.25435"
     ]
    }
   ],
   "source": [
    "# Lower CI: mean + CI\n",
    "sample_mean - sample_ci\n",
    "\n",
    "# Upper CI: mean + CI\n",
    "sample_mean + sample_ci\n",
    "\n",
    "# Display\n",
    "cat('\\t< Confidence Interval (Prevalence) >\\n',  '\\tLower CI : ',  \n",
    "    sample_mean - sample_ci, '\\tMean : ', \n",
    "    sample_mean, '\\tUpper CI : ',  \n",
    "    sample_mean + sample_ci)"
   ]
  },
  {
   "cell_type": "markdown",
   "metadata": {},
   "source": [
    "**<span style=\"color:blue\">[ ? ]</span> Is the population mean in this CI range?**"
   ]
  },
  {
   "cell_type": "markdown",
   "metadata": {},
   "source": [
    "**2. Calculate Confidence Interval of mean estimation: <span style=\"color:blue\">CI using T distribution</span>**"
   ]
  },
  {
   "cell_type": "code",
   "execution_count": 48,
   "metadata": {},
   "outputs": [
    {
     "data": {
      "text/html": [
       "9.77"
      ],
      "text/latex": [
       "9.77"
      ],
      "text/markdown": [
       "9.77"
      ],
      "text/plain": [
       "[1] 9.77"
      ]
     },
     "metadata": {},
     "output_type": "display_data"
    },
    {
     "data": {
      "text/html": [
       "10"
      ],
      "text/latex": [
       "10"
      ],
      "text/markdown": [
       "10"
      ],
      "text/plain": [
       "[1] 10"
      ]
     },
     "metadata": {},
     "output_type": "display_data"
    },
    {
     "data": {
      "text/html": [
       "4.00833853083516"
      ],
      "text/latex": [
       "4.00833853083516"
      ],
      "text/markdown": [
       "4.00833853083516"
      ],
      "text/plain": [
       "[1] 4.008339"
      ]
     },
     "metadata": {},
     "output_type": "display_data"
    },
    {
     "data": {
      "text/html": [
       "1.26754793904522"
      ],
      "text/latex": [
       "1.26754793904522"
      ],
      "text/markdown": [
       "1.26754793904522"
      ],
      "text/plain": [
       "[1] 1.267548"
      ]
     },
     "metadata": {},
     "output_type": "display_data"
    }
   ],
   "source": [
    "# ----------------------------------\n",
    "# CI using T distribution\n",
    "# ----------------------------------\n",
    "# sample mean\n",
    "sample_mean = mean(clt_sample_1)\n",
    "sample_mean\n",
    "# sample size n\n",
    "sample_size_n = length(clt_sample_1)\n",
    "sample_size_n\n",
    "# sample standard deviation\n",
    "sample_sd = sd(clt_sample_1)\n",
    "sample_sd\n",
    "# sample standard error\n",
    "sample_se = sample_sd / sqrt(sample_size_n)\n",
    "sample_se"
   ]
  },
  {
   "cell_type": "code",
   "execution_count": 49,
   "metadata": {},
   "outputs": [
    {
     "data": {
      "text/html": [
       "2.2621571627982"
      ],
      "text/latex": [
       "2.2621571627982"
      ],
      "text/markdown": [
       "2.2621571627982"
      ],
      "text/plain": [
       "[1] 2.262157"
      ]
     },
     "metadata": {},
     "output_type": "display_data"
    }
   ],
   "source": [
    "# 95% quantile (t score)\n",
    "t_score = qt(p = 0.975, df = sample_size_n - 1)\n",
    "t_score"
   ]
  },
  {
   "cell_type": "code",
   "execution_count": 50,
   "metadata": {},
   "outputs": [],
   "source": [
    "# ?qt"
   ]
  },
  {
   "cell_type": "code",
   "execution_count": 51,
   "metadata": {},
   "outputs": [
    {
     "data": {
      "text/html": [
       "2.86739264950124"
      ],
      "text/latex": [
       "2.86739264950124"
      ],
      "text/markdown": [
       "2.86739264950124"
      ],
      "text/plain": [
       "[1] 2.867393"
      ]
     },
     "metadata": {},
     "output_type": "display_data"
    },
    {
     "data": {
      "text/html": [
       "6.90260735049876"
      ],
      "text/latex": [
       "6.90260735049876"
      ],
      "text/markdown": [
       "6.90260735049876"
      ],
      "text/plain": [
       "[1] 6.902607"
      ]
     },
     "metadata": {},
     "output_type": "display_data"
    },
    {
     "data": {
      "text/html": [
       "12.6373926495012"
      ],
      "text/latex": [
       "12.6373926495012"
      ],
      "text/markdown": [
       "12.6373926495012"
      ],
      "text/plain": [
       "[1] 12.63739"
      ]
     },
     "metadata": {},
     "output_type": "display_data"
    },
    {
     "name": "stdout",
     "output_type": "stream",
     "text": [
      "\t< Confidence Interval (Prevalence) >\n",
      " \tLower CI :  6.902607 \tMean :  9.77 \tUpper CI :  12.63739"
     ]
    }
   ],
   "source": [
    "# CI using T distribution\n",
    "sample_ci = t_score * sample_se\n",
    "sample_ci\n",
    "\n",
    "# Lower CI: mean + CI\n",
    "sample_mean - sample_ci\n",
    "\n",
    "# Upper CI: mean + CI\n",
    "sample_mean + sample_ci\n",
    "\n",
    "# Display\n",
    "cat('\\t< Confidence Interval (Prevalence) >\\n',  '\\tLower CI : ',  \n",
    "    sample_mean - sample_ci, '\\tMean : ', \n",
    "    sample_mean, '\\tUpper CI : ',  \n",
    "    sample_mean + sample_ci)"
   ]
  },
  {
   "cell_type": "markdown",
   "metadata": {},
   "source": [
    "**<span style=\"color:blue\">[ ? ]</span> Is the population mean in this CI range?**"
   ]
  },
  {
   "cell_type": "markdown",
   "metadata": {},
   "source": [
    "**<span style=\"color:blue\">[ ? ]</span> Compare CIs of Z and T distribution, which CI has wider range? Is it reasonable?**"
   ]
  },
  {
   "cell_type": "code",
   "execution_count": 52,
   "metadata": {},
   "outputs": [
    {
     "data": {
      "text/plain": [
       "\n",
       "\tOne Sample t-test\n",
       "\n",
       "data:  clt_sample_1\n",
       "t = 7.7078, df = 9, p-value = 2.976e-05\n",
       "alternative hypothesis: true mean is not equal to 0\n",
       "95 percent confidence interval:\n",
       "  6.902607 12.637393\n",
       "sample estimates:\n",
       "mean of x \n",
       "     9.77 \n"
      ]
     },
     "metadata": {},
     "output_type": "display_data"
    }
   ],
   "source": [
    "# Alternatively, calculate CI using t.test() function\n",
    "t.test(clt_sample_1, conf.level = 0.95)"
   ]
  },
  {
   "cell_type": "code",
   "execution_count": 53,
   "metadata": {},
   "outputs": [
    {
     "data": {
      "text/plain": [
       "\n",
       "\tOne Sample t-test\n",
       "\n",
       "data:  clt_sample_1\n",
       "t = -1.114, df = 9, p-value = 0.2942\n",
       "alternative hypothesis: true mean is not equal to 11.182\n",
       "95 percent confidence interval:\n",
       "  6.902607 12.637393\n",
       "sample estimates:\n",
       "mean of x \n",
       "     9.77 \n"
      ]
     },
     "metadata": {},
     "output_type": "display_data"
    }
   ],
   "source": [
    "# Two group hypothesis test : sample mean vs. population mean\n",
    "t.test(clt_sample_1, conf.level = 0.95, mu = mean(ASD_State_SPED_2016$Prevalence))"
   ]
  },
  {
   "cell_type": "markdown",
   "metadata": {},
   "source": [
    "<div class=\"alert alert-danger alertdanger\" style=\"margin-top: 20px\">\n",
    "    <h3>\n",
    "        Quiz:\n",
    "    </h3>\n",
    "    <p>\n",
    "        Obtain CI using smaller/larger sample size (clt_n) at 99% confidence. Compare CI width.\n",
    "    </p>\n",
    "    <p>\n",
    "        Observe: larger sample size, narrower the CI (more confident at xx% level)\n",
    "    </p>\n",
    "</div>"
   ]
  },
  {
   "cell_type": "code",
   "execution_count": 54,
   "metadata": {},
   "outputs": [],
   "source": [
    "# Write your code below and press Shift+Enter to execute \n"
   ]
  },
  {
   "cell_type": "markdown",
   "metadata": {},
   "source": [
    "Double-click <b>here</b> for the solution.\n",
    "\n",
    "<!-- The answer is below:\n",
    "\n",
    "# Write your code below and press Shift+Enter to execute \n",
    "# Try 5, 20, 40, larger sample size, narrower the CI (more confident at xx% level)\n",
    "# clt_n = 20\n",
    "\n",
    "\n",
    "-->"
   ]
  },
  {
   "cell_type": "markdown",
   "metadata": {},
   "source": [
    "<div class=\"alert alert-block alert-info\" style=\"margin-top: 20px\">\n",
    "    <h3>\n",
    "    Confidence Interval (CI) - Proportion Estimation & Its CI\n",
    "    </h3>\n",
    "</div>\n"
   ]
  },
  {
   "cell_type": "markdown",
   "metadata": {},
   "source": [
    "**Use a <span style=\"color:blue\">Sample statistic (e.g. proportioin)</span> to estimate a <span style=\"color:blue\">population statistic (e.g. proportioin)</span>. And quantitatively calculate the confidence of the estimation.**"
   ]
  },
  {
   "cell_type": "code",
   "execution_count": 55,
   "metadata": {},
   "outputs": [
    {
     "name": "stdout",
     "output_type": "stream",
     "text": [
      " int [1:50] 6140 1204 10746 4181 79041 5902 7391 1383 782 30920 ...\n"
     ]
    }
   ],
   "source": [
    "# ----------------------------------\n",
    "# Use a sample of one US. State's ASD prevalence (proportion) to estimate:\n",
    "# Prevalence of THAT US. State's ALL Children (the *Population*) [Source SPED, Year 2016] \n",
    "# ----------------------------------\n",
    "\n",
    "# No. Children with ASD\n",
    "ASD  <- ASD_State_SPED$Numerator_ASD[ASD_State_SPED$Year == 2016]\n",
    "#\n",
    "str(ASD)"
   ]
  },
  {
   "cell_type": "code",
   "execution_count": 56,
   "metadata": {},
   "outputs": [
    {
     "data": {
      "text/html": [
       "6140"
      ],
      "text/latex": [
       "6140"
      ],
      "text/markdown": [
       "6140"
      ],
      "text/plain": [
       "[1] 6140"
      ]
     },
     "metadata": {},
     "output_type": "display_data"
    }
   ],
   "source": [
    "# No. Children with ASD of first US. State (AL-Alabama)\n",
    "ASD[1]"
   ]
  },
  {
   "cell_type": "code",
   "execution_count": 57,
   "metadata": {},
   "outputs": [
    {
     "name": "stdout",
     "output_type": "stream",
     "text": [
      " int [1:50] 674701 119217 1033241 440130 5686400 808556 479961 124609 65732 2555399 ...\n"
     ]
    }
   ],
   "source": [
    "# No. Children surveyed\n",
    "Children  <- ASD_State_SPED$Denominator[ASD_State_SPED$Year == 2016]\n",
    "#\n",
    "str(Children)"
   ]
  },
  {
   "cell_type": "code",
   "execution_count": 58,
   "metadata": {},
   "outputs": [
    {
     "data": {
      "text/html": [
       "674701"
      ],
      "text/latex": [
       "674701"
      ],
      "text/markdown": [
       "674701"
      ],
      "text/plain": [
       "[1] 674701"
      ]
     },
     "metadata": {},
     "output_type": "display_data"
    }
   ],
   "source": [
    "# No. Children surveyed of first US. State (AL-Alabama)\n",
    "Children[1]"
   ]
  },
  {
   "cell_type": "markdown",
   "metadata": {},
   "source": [
    "**1. Calculate Confidence Interval of proportion estimation: <span style=\"color:blue\">CI using Z score interval  (standard normal distribution)</span>**"
   ]
  },
  {
   "cell_type": "code",
   "execution_count": 59,
   "metadata": {},
   "outputs": [
    {
     "data": {
      "text/html": [
       "0.00910032740428723"
      ],
      "text/latex": [
       "0.00910032740428723"
      ],
      "text/markdown": [
       "0.00910032740428723"
      ],
      "text/plain": [
       "[1] 0.009100327"
      ]
     },
     "metadata": {},
     "output_type": "display_data"
    },
    {
     "data": {
      "text/html": [
       "0.990899672595713"
      ],
      "text/latex": [
       "0.990899672595713"
      ],
      "text/markdown": [
       "0.990899672595713"
      ],
      "text/plain": [
       "[1] 0.9908997"
      ]
     },
     "metadata": {},
     "output_type": "display_data"
    }
   ],
   "source": [
    "# ----------------------------------\n",
    "# CI using Z score interval  (standard normal distribution)\n",
    "# https://en.wikipedia.org/wiki/Binomial_proportion_confidence_interval\n",
    "# ----------------------------------\n",
    "\n",
    "# sample proportion of first US. State (AL-Alabama) in year 2016 of source SPED\n",
    "sample_proportion = ASD[1] / Children[1]\n",
    "sample_proportion # p\n",
    "1- sample_proportion # q = 1 - p"
   ]
  },
  {
   "cell_type": "code",
   "execution_count": 60,
   "metadata": {},
   "outputs": [
    {
     "data": {
      "text/html": [
       "674701"
      ],
      "text/latex": [
       "674701"
      ],
      "text/markdown": [
       "674701"
      ],
      "text/plain": [
       "[1] 674701"
      ]
     },
     "metadata": {},
     "output_type": "display_data"
    }
   ],
   "source": [
    "# sample size n\n",
    "sample_size_n = Children[1]\n",
    "sample_size_n"
   ]
  },
  {
   "cell_type": "code",
   "execution_count": 61,
   "metadata": {},
   "outputs": [
    {
     "data": {
      "text/html": [
       "1.95996398454005"
      ],
      "text/latex": [
       "1.95996398454005"
      ],
      "text/markdown": [
       "1.95996398454005"
      ],
      "text/plain": [
       "[1] 1.959964"
      ]
     },
     "metadata": {},
     "output_type": "display_data"
    }
   ],
   "source": [
    "# 95% quantile (z score)\n",
    "z_score = qnorm(p = 0.975)\n",
    "z_score"
   ]
  },
  {
   "cell_type": "code",
   "execution_count": 62,
   "metadata": {},
   "outputs": [
    {
     "data": {
      "text/html": [
       "0.000226587404757579"
      ],
      "text/latex": [
       "0.000226587404757579"
      ],
      "text/markdown": [
       "0.000226587404757579"
      ],
      "text/plain": [
       "[1] 0.0002265874"
      ]
     },
     "metadata": {},
     "output_type": "display_data"
    }
   ],
   "source": [
    "sample_ci = z_score * sqrt(sample_proportion * (1 - sample_proportion) / sample_size_n)\n",
    "sample_ci"
   ]
  },
  {
   "cell_type": "code",
   "execution_count": 63,
   "metadata": {},
   "outputs": [
    {
     "data": {
      "text/html": [
       "0.00887373999952965"
      ],
      "text/latex": [
       "0.00887373999952965"
      ],
      "text/markdown": [
       "0.00887373999952965"
      ],
      "text/plain": [
       "[1] 0.00887374"
      ]
     },
     "metadata": {},
     "output_type": "display_data"
    },
    {
     "data": {
      "text/html": [
       "0.00932691480904481"
      ],
      "text/latex": [
       "0.00932691480904481"
      ],
      "text/markdown": [
       "0.00932691480904481"
      ],
      "text/plain": [
       "[1] 0.009326915"
      ]
     },
     "metadata": {},
     "output_type": "display_data"
    },
    {
     "name": "stdout",
     "output_type": "stream",
     "text": [
      "\t< Confidence Interval >\n",
      " \tLower CI :  0.00887374 \tMean :  0.009100327 \tUpper CI :  0.009326915"
     ]
    }
   ],
   "source": [
    "# Lower CI: mean + CI\n",
    "sample_proportion - sample_ci\n",
    "\n",
    "# Upper CI: mean + CI\n",
    "sample_proportion + sample_ci\n",
    "\n",
    "# Display\n",
    "cat('\\t< Confidence Interval >\\n',  '\\tLower CI : ',  \n",
    "    sample_proportion - sample_ci, '\\tMean : ', \n",
    "    sample_proportion, '\\tUpper CI : ',  \n",
    "    sample_proportion + sample_ci)\n"
   ]
  },
  {
   "cell_type": "code",
   "execution_count": 64,
   "metadata": {},
   "outputs": [
    {
     "name": "stdout",
     "output_type": "stream",
     "text": [
      "\t< Confidence Interval (Prevalence) >\n",
      " \tLower CI :  8.87374 \tMean :  9.100327 \tUpper CI :  9.326915"
     ]
    }
   ],
   "source": [
    "# Display * 1000 -> Prevalence\n",
    "cat('\\t< Confidence Interval (Prevalence) >\\n',  '\\tLower CI : ',  \n",
    "    1000*(sample_proportion - sample_ci), '\\tMean : ', \n",
    "    1000*sample_proportion, '\\tUpper CI : ',  \n",
    "    1000*(sample_proportion + sample_ci))\n"
   ]
  },
  {
   "cell_type": "markdown",
   "metadata": {},
   "source": [
    "**<span style=\"color:blue\">[ Tips ]</span> Based above calculation upon [ Source: SPED ] [ Year: 2016 ] data, we have 95% confidence that: The actual AL-Alabama state level ASD prevalence (if ALL childrens in Alabama state were surveyed) would be in the above calculated CI range 95% times.** \n",
    "\n",
    "Or, asumming there are 100 different Alabama states exist in 100 parallel universes, we obtained 100 actual prevelance proportions. 95 of them will likely fall into the CI range."
   ]
  },
  {
   "cell_type": "markdown",
   "metadata": {},
   "source": [
    "**2. Calculate Confidence Interval of proportion estimation: <span style=\"color:blue\">CI using Wilson score interval</span>**"
   ]
  },
  {
   "cell_type": "code",
   "execution_count": 65,
   "metadata": {},
   "outputs": [
    {
     "data": {
      "text/html": [
       "0.00910032740428723"
      ],
      "text/latex": [
       "0.00910032740428723"
      ],
      "text/markdown": [
       "0.00910032740428723"
      ],
      "text/plain": [
       "[1] 0.009100327"
      ]
     },
     "metadata": {},
     "output_type": "display_data"
    },
    {
     "data": {
      "text/plain": [
       "\n",
       "\t1-sample proportions test with continuity correction\n",
       "\n",
       "data:  ASD[1] out of Children[1], null probability 0.5\n",
       "X-squared = 650363, df = 1, p-value < 2.2e-16\n",
       "alternative hypothesis: true p is not equal to 0.5\n",
       "95 percent confidence interval:\n",
       " 0.008875786 0.009330477\n",
       "sample estimates:\n",
       "          p \n",
       "0.009100327 \n"
      ]
     },
     "metadata": {},
     "output_type": "display_data"
    },
    {
     "data": {
      "text/plain": [
       "\n",
       "\t1-sample proportions test without continuity correction\n",
       "\n",
       "data:  ASD[1] out of Children[1], null probability 0.5\n",
       "X-squared = 650365, df = 1, p-value < 2.2e-16\n",
       "alternative hypothesis: true p is not equal to 0.5\n",
       "95 percent confidence interval:\n",
       " 0.008876518 0.009329726\n",
       "sample estimates:\n",
       "          p \n",
       "0.009100327 \n"
      ]
     },
     "metadata": {},
     "output_type": "display_data"
    }
   ],
   "source": [
    "# ----------------------------------\n",
    "# CI using Wilson score interval\n",
    "# https://en.wikipedia.org/wiki/Binomial_proportion_confidence_interval\n",
    "# ----------------------------------\n",
    "\n",
    "sample_proportion # = ASD[1] / Children[1]\n",
    "\n",
    "# Yates' chi-squared test = Wilson score interval with continuity correction - prop.test\n",
    "prop.test(ASD[1], Children[1], conf.level = 0.95) \n",
    "\n",
    "# Pearson's chi-squared test = Wilson score interval - wilson\n",
    "prop.test(ASD[1], Children[1], conf.level = 0.95, correct = FALSE) "
   ]
  },
  {
   "cell_type": "markdown",
   "metadata": {},
   "source": [
    "<div class=\"alert alert-danger alertdanger\" style=\"margin-top: 20px\">\n",
    "    <h3>\n",
    "        Quiz:\n",
    "    </h3>\n",
    "    <p>\n",
    "        Obtain CI of Male.Prevalence propotion [ Source: ADDM] [ Year: 2014 ] at 99% confidence.\n",
    "    </p>\n",
    "</div>"
   ]
  },
  {
   "cell_type": "code",
   "execution_count": 66,
   "metadata": {},
   "outputs": [],
   "source": [
    "# Write your code below and press Shift+Enter to execute \n"
   ]
  },
  {
   "cell_type": "markdown",
   "metadata": {},
   "source": [
    "Double-click <b>here</b> for the solution.\n",
    "\n",
    "<!-- The answer is below:\n",
    "\n",
    "# Write your code below and press Shift+Enter to execute \n",
    "#\n",
    "# ------------------------------------\n",
    "# In order to calculate proportion CI, we need to know below four numbers of difference children group:\n",
    "# ------------------------------------\n",
    "# ASD_Male_numb\n",
    "# Children_Male_numb\n",
    "# ASD_Female_numb\n",
    "# Children_Female_numb\n",
    "\n",
    "# ------------------------------------\n",
    "# Known facts:\n",
    "# ------------------------------------\n",
    "\n",
    "cat('# ------------------------------------\n",
    "# Known facts:\n",
    "# ------------------------------------\\n')\n",
    "\n",
    "# ADDM 2014 National level\n",
    "ASD_National_ADDM$Prevalence[ASD_National_ADDM$Year == 2014]\n",
    "ASD_National_ADDM$Male.Prevalence[ASD_National_ADDM$Year == 2014]\n",
    "ASD_National_ADDM$Female.Prevalence[ASD_National_ADDM$Year == 2014]\n",
    "\n",
    "# ADDM 2014 State level\n",
    "ASD_State_ADDM$Denominator[ASD_State_ADDM$Year == 2014]\n",
    "ASD_State_ADDM$Numerator_ASD[ASD_State_ADDM$Year == 2014]\n",
    "ASD_State_ADDM$Numerator_NonASD[ASD_State_ADDM$Year == 2014]\n",
    "\n",
    "# ADDM 2014 National level (sum up state level numbers)\n",
    "sum(ASD_State_ADDM$Denominator[ASD_State_ADDM$Year == 2014])\n",
    "sum(ASD_State_ADDM$Numerator_ASD[ASD_State_ADDM$Year == 2014])\n",
    "sum(ASD_State_ADDM$Numerator_NonASD[ASD_State_ADDM$Year == 2014])\n",
    "\n",
    "# Tally health check for Prevalence proportion\n",
    "ASD_National_ADDM$Prevalence[ASD_National_ADDM$Year == 2014] == round(1000 * sum(ASD_State_ADDM$Numerator_ASD[ASD_State_ADDM$Year == 2014]) / sum(ASD_State_ADDM$Denominator[ASD_State_ADDM$Year == 2014]), 1)\n",
    "\n",
    "# ------------------------------------\n",
    "# Establish relationships/formulas\n",
    "# ------------------------------------\n",
    "# Formula 1:\n",
    "# ASD_Male_numb + ASD_Female_numb = sum(ASD_State_ADDM$Numerator_ASD[ASD_State_ADDM$Year == 2014]) = 5478\n",
    "\n",
    "# Formula 2:\n",
    "# ASD_Male_numb / Children_Male_numb = ASD_National_ADDM$Male.Prevalence[ASD_National_ADDM$Year == 2014]/1000 = 26.6/1000\n",
    "\n",
    "# Formula 3:\n",
    "# ASD_Female_numb / Children_Female_numb = ASD_National_ADDM$Female.Prevalence[ASD_National_ADDM$Year == 2014]/1000 = 6.6/1000\n",
    "\n",
    "# Formula 4:\n",
    "# Children_Male_numb + Children_Female_numb = sum(ASD_State_ADDM$Denominator[ASD_State_ADDM$Year == 2014]) = 325483\n",
    "\n",
    "# ------------------------------------\n",
    "# Results\n",
    "# ------------------------------------\n",
    "Children_Female_numb = 153843.195876288659794\n",
    "ASD_Female_numb = 6.6 * Children_Female_numb / 1000\n",
    "Children_Male_numb = sum(ASD_State_ADDM$Denominator[ASD_State_ADDM$Year == 2014]) - Children_Female_numb\n",
    "ASD_Male_numb = sum(ASD_State_ADDM$Numerator_ASD[ASD_State_ADDM$Year == 2014]) - ASD_Female_numb\n",
    "\n",
    "# Rounding to integer\n",
    "ASD_Male_numb = round(ASD_Male_numb, 0)\n",
    "ASD_Female_numb = round(ASD_Female_numb, 0)\n",
    "Children_Male_numb = round(Children_Male_numb, 0)\n",
    "Children_Female_numb = round(Children_Female_numb, 0)\n",
    "\n",
    "# Tally health check:\n",
    "ASD_Male_numb + ASD_Female_numb == sum(ASD_State_ADDM$Numerator_ASD[ASD_State_ADDM$Year == 2014])\n",
    "Children_Male_numb + Children_Female_numb == sum(ASD_State_ADDM$Denominator[ASD_State_ADDM$Year == 2014])\n",
    "round(1000 * ASD_Male_numb / Children_Male_numb, 1) == ASD_National_ADDM$Male.Prevalence[ASD_National_ADDM$Year == 2014]\n",
    "round(1000 * ASD_Female_numb / Children_Female_numb, 1) == ASD_National_ADDM$Female.Prevalence[ASD_National_ADDM$Year == 2014]\n",
    "\n",
    "cat('# ------------------------------------\n",
    "# Results:\n",
    "# ------------------------------------\\n')\n",
    "\n",
    "# There is a slight discrepancy in Male.Prevalence. \n",
    "# This is likely due to the 'rounding to one decimal' of: National level Prevalence, State level Male and Female Prevalence in two original ASD data set.\n",
    "cat('\\nRe-calculated Male.Prevalvence  : ', round(1000 * ASD_Male_numb / Children_Male_numb, 1)) # Male.Prevalvence is under valued: 26\n",
    "cat('\\nRe-calculated Female.Prevalence : ', round(1000 * ASD_Female_numb / Children_Female_numb, 1)) # Female.Prevalence is correct: 6.6\n",
    "\n",
    "# We would accept above calculation and tally check, to proceed below CI calculation.\n",
    "\n",
    "# Display\n",
    "cat('\\nASD_Male_numb        : ', ASD_Male_numb)\n",
    "cat('\\nASD_Female_numb      : ', ASD_Female_numb)\n",
    "cat('\\nChildren_Male_numb   : ', Children_Male_numb)\n",
    "cat('\\nChildren_Female_numb : ', Children_Female_numb)\n",
    "\n",
    "# ------------------------------------\n",
    "# proportion test (with continuity correction) to obtain CI for Male.Prevalence propotion at 99% confidence:\n",
    "# ------------------------------------\n",
    "# Yates' chi-squared test = Wilson score interval with continuity correction - prop.test\n",
    "prop.test(ASD_Male_numb, Children_Male_numb, conf.level = 0.99) \n",
    "\n",
    "-->"
   ]
  },
  {
   "cell_type": "markdown",
   "metadata": {},
   "source": [
    "<div class=\"alert alert-danger alertdanger\" style=\"margin-top: 20px\">\n",
    "    <h3>\n",
    "        Quiz:\n",
    "    </h3>\n",
    "    <p>\n",
    "        Obtain CI of Female.Prevalence propotion [ Source: ADDM] [ Year: 2014 ] at 99% confidence.\n",
    "    </p>\n",
    "    <p>\n",
    "        Then Compare CI range with Male children's CI range. Which gender has statistically higer ASD prevalence/proportion?\n",
    "    </p>\n",
    "</div>"
   ]
  },
  {
   "cell_type": "code",
   "execution_count": 67,
   "metadata": {},
   "outputs": [],
   "source": [
    "# Write your code below and press Shift+Enter to execute \n"
   ]
  },
  {
   "cell_type": "markdown",
   "metadata": {},
   "source": [
    "Double-click <b>here</b> for the solution.\n",
    "\n",
    "<!-- The answer is below:\n",
    "\n",
    "# Write your code below and press Shift+Enter to execute \n",
    "#\n",
    "ASD_Female_numb\n",
    "Children_Female_numb\n",
    "ASD_Female_numb / Children_Female_numb\n",
    "#\n",
    "# ------------------------------------\n",
    "# proportion test (with continuity correction) to obtain CI for Female.Prevalence propotion at 99% confidence:\n",
    "# ------------------------------------\n",
    "# Yates' chi-squared test = Wilson score interval with continuity correction - prop.test\n",
    "prop.test(ASD_Female_numb, Children_Female_numb, conf.level = 0.99) \n",
    "\n",
    "# ------------------------------------\n",
    "# Two group proportion test (with continuity correction)\n",
    "# ------------------------------------\n",
    "# Yates' chi-squared test = Wilson score interval with continuity correction - prop.test\n",
    "prop.test(c(ASD_Male_numb, ASD_Female_numb), c(Children_Male_numb, Children_Female_numb), conf.level = 0.99) \n",
    "\n",
    "-->"
   ]
  },
  {
   "cell_type": "markdown",
   "metadata": {},
   "source": [
    "<div class=\"alert alert-block alert-info\" style=\"margin-top: 20px\">\n",
    "    <a href=\"\">\n",
    "    </a>\n",
    "</div>\n"
   ]
  },
  {
   "cell_type": "markdown",
   "metadata": {},
   "source": [
    "### Excellent! You have completed the workshop notebook!"
   ]
  },
  {
   "cell_type": "markdown",
   "metadata": {},
   "source": [
    "**Connect with the author:**\n",
    "\n",
    "This notebook was written by [GU Zhan (Sam)](https://sg.linkedin.com/in/zhan-gu-27a82823 \"GU Zhan (Sam)\").\n",
    "\n",
    "[Sam](https://www.iss.nus.edu.sg/about-us/staff/detail/201/GU_Zhan \"GU Zhan (Sam)\") is currently a lecturer in [Institute of Systems Science](https://www.iss.nus.edu.sg/ \"NUS-ISS\") in [National University of Singapore](http://www.nus.edu.sg/ \"NUS\"). He devotes himself into pedagogy & andragogy, and is very passionate in inspiring next generation of artificial intelligence lovers and leaders.\n"
   ]
  },
  {
   "cell_type": "markdown",
   "metadata": {},
   "source": [
    "Copyright &copy; 2020 GU Zhan\n",
    "\n",
    "This notebook and its source code are released under the terms of the [MIT License](https://en.wikipedia.org/wiki/MIT_License \"Copyright (c) 2020 GU ZHAN\").\n",
    "\n",
    "Permission is hereby granted, free of charge, to any person obtaining a copy\n",
    "of this software and associated documentation files (the \"Software\"), to deal\n",
    "in the Software without restriction, including without limitation the rights\n",
    "to use, copy, modify, merge, publish, distribute, sublicense, and/or sell\n",
    "copies of the Software, and to permit persons to whom the Software is\n",
    "furnished to do so, subject to the following conditions:\n",
    "\n",
    "The above copyright notice and this permission notice shall be included in all\n",
    "copies or substantial portions of the Software.\n",
    "\n",
    "THE SOFTWARE IS PROVIDED \"AS IS\", WITHOUT WARRANTY OF ANY KIND, EXPRESS OR\n",
    "IMPLIED, INCLUDING BUT NOT LIMITED TO THE WARRANTIES OF MERCHANTABILITY,\n",
    "FITNESS FOR A PARTICULAR PURPOSE AND NONINFRINGEMENT. IN NO EVENT SHALL THE\n",
    "AUTHORS OR COPYRIGHT HOLDERS BE LIABLE FOR ANY CLAIM, DAMAGES OR OTHER\n",
    "LIABILITY, WHETHER IN AN ACTION OF CONTRACT, TORT OR OTHERWISE, ARISING FROM,\n",
    "OUT OF OR IN CONNECTION WITH THE SOFTWARE OR THE USE OR OTHER DEALINGS IN THE\n",
    "SOFTWARE.\n"
   ]
  },
  {
   "cell_type": "markdown",
   "metadata": {},
   "source": [
    "<div class=\"alert alert-block alert-info\" style=\"margin-top: 20px\">\n",
    "    <a href=\"\">\n",
    "    </a>\n",
    "</div>\n"
   ]
  },
  {
   "cell_type": "markdown",
   "metadata": {},
   "source": [
    "## <span style=\"color:blue\">Appendices</span>\n"
   ]
  },
  {
   "cell_type": "markdown",
   "metadata": {},
   "source": [
    "<div class=\"alert alert-block alert-info\" style=\"margin-top: 20px\">\n",
    "    <h3>\n",
    "    Interactive workshops: < Learning R inside R > using swirl() (in R/RStudio)\n",
    "    </h3>\n",
    "</div>\n"
   ]
  },
  {
   "cell_type": "markdown",
   "metadata": {},
   "source": [
    "https://github.com/telescopeuser/S-SB-Workshop\n"
   ]
  },
  {
   "cell_type": "markdown",
   "metadata": {},
   "source": [
    "<div class=\"alert alert-block alert-info\" style=\"margin-top: 20px\">\n",
    "    <a href=\"https://github.com/dd-consulting\">\n",
    "         <img src=\"../reference/GZ_logo.png\" width=\"60\" align=\"right\">\n",
    "    </a>\n",
    "</div>\n"
   ]
  },
  {
   "cell_type": "markdown",
   "metadata": {},
   "source": [
    "---"
   ]
  }
 ],
 "metadata": {
  "jupytext": {
   "formats": "ipynb,Rmd"
  },
  "kernelspec": {
   "display_name": "R",
   "language": "R",
   "name": "ir"
  },
  "language_info": {
   "codemirror_mode": "r",
   "file_extension": ".r",
   "mimetype": "text/x-r-source",
   "name": "R",
   "pygments_lexer": "r",
   "version": "3.6.1"
  }
 },
 "nbformat": 4,
 "nbformat_minor": 2
}
