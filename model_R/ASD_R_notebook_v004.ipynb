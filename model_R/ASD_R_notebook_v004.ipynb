{
 "cells": [
  {
   "cell_type": "markdown",
   "metadata": {},
   "source": [
    "<div class=\"alert alert-block alert-info\" style=\"margin-top: 20px\">\n",
    "    <a href=\"\">\n",
    "         <img src=\"../reference/GZ_logo.png\" width=\"60\" align=\"right\">\n",
    "    </a>\n",
    "</div>\n"
   ]
  },
  {
   "cell_type": "markdown",
   "metadata": {},
   "source": [
    "# Case Study of Autism Spectrum Disorder (ASD) with R\n",
    "\n",
    "<img src=\"../reference/CDC_ASD/CDC_ASD_01.jpg\" align=\"left\">\n",
    "\n",
    "<img src=\"../reference/CDC_ASD/CDC_ASD_02.png\" width=\"700\" align=\"center\">\n"
   ]
  },
  {
   "cell_type": "markdown",
   "metadata": {},
   "source": [
    "## <span style=\"color:blue\">[ United States ]</span> \n",
    "\n",
    "## Centers for Disease Control and Prevention (CDC) - Autism Spectrum Disorder (ASD)\n",
    "\n",
    "Autism spectrum disorder (ASD) is a developmental disability that can cause significant social, communication and behavioral challenges. CDC is committed to continuing to provide essential data on ASD, search for factors that put children at risk for ASD and possible causes, and develop resources that help identify children with ASD as early as possible.\n",
    "\n",
    "https://www.cdc.gov/ncbddd/autism/data/index.html\n"
   ]
  },
  {
   "cell_type": "markdown",
   "metadata": {},
   "source": [
    "## <span style=\"color:blue\">[ Singapore ]</span> \n",
    "\n",
    "## TODAY Online - More preschoolers diagnosed with developmental issues\n",
    "\n",
    "Doctors cited better awareness among parents and preschool teachers, leading to early referrals for diagnosis.\n",
    "\n",
    "https://www.gov.sg/news/content/today-online-more-preschoolers-diagnosed-with-developmental-issues\n",
    "\n",
    "<img src=\"../reference/SG_ASD/SG_ASD_01.png\" width=\"650\" align=\"left\">\n"
   ]
  },
  {
   "cell_type": "markdown",
   "metadata": {},
   "source": [
    "\n",
    "<img src=\"../reference/SG_ASD/SG_ASD_04.png\" align=\"left\"> \n",
    "\n",
    "https://www.pathlight.org.sg/"
   ]
  },
  {
   "cell_type": "markdown",
   "metadata": {},
   "source": [
    "<div class=\"alert alert-block alert-info\" style=\"margin-top: 20px\">\n",
    "    <a href=\"\">\n",
    "         <img src=\"\" width=\"60\" align=\"right\">\n",
    "    </a>\n",
    "</div>\n"
   ]
  },
  {
   "cell_type": "markdown",
   "metadata": {},
   "source": [
    "# Workshop Objective: \n",
    "\n",
    "## Use R to analyze Autism Spectrum Disorder (ASD) data from CDC USA. \n",
    "\n",
    "https://www.cdc.gov/ncbddd/autism/data/index.html\n",
    "\n",
    "* ## R Fundamentals\n",
    "\n",
    "* ## Data Summarization \n",
    "\n",
    "* ## Data Visualisation\n",
    "\n",
    "* ## Sampling & Nomality\n",
    "\n",
    "* ## Confidence Interval\n"
   ]
  },
  {
   "cell_type": "markdown",
   "metadata": {},
   "source": [
    "<div class=\"alert alert-block alert-info\" style=\"margin-top: 20px\">\n",
    "    <a href=\"\">\n",
    "         <img src=\"\" width=\"750\" align=\"center\">\n",
    "    </a>\n",
    "</div>\n"
   ]
  },
  {
   "cell_type": "markdown",
   "metadata": {},
   "source": [
    "\n",
    "## <span style=\"color:blue\">R Fundamentals</span>\n"
   ]
  },
  {
   "cell_type": "raw",
   "metadata": {},
   "source": [
    "if(!require(naniar)){install.packages(\"naniar\")}\n",
    "library(naniar)\n",
    "\n",
    "if(!require(dplyr)){install.packages(\"dplyr\")}\n",
    "library(dplyr)\n",
    "\n",
    "if(!require(ggplot2)){install.packages(\"ggplot2\")}\n",
    "library(ggplot2)\n",
    "\n",
    "if(!require(plotly)){install.packages(\"plotly\")}\n",
    "library(plotly)\n",
    "\n",
    "if(!require(ggthemes)){install.packages(\"ggthemes\")}\n",
    "library(ggthemes)\n",
    "\n",
    "if(!require(usmap)){install.packages(\"usmap\")}\n",
    "library(usmap) # usmap: Mapping the US\n",
    "\n",
    "if(!require(cowplot)){install.packages(\"cowplot\")}\n",
    "library('cowplot')\n",
    "\n",
    "if(!require(binom)){install.packages(\"binom\")}\n",
    "library('binom')"
   ]
  },
  {
   "cell_type": "markdown",
   "metadata": {},
   "source": [
    "<div class=\"alert alert-block alert-info\" style=\"margin-top: 20px\">\n",
    "    <h3>\n",
    "    R Fundamentals - Get & Set working directory\n",
    "    </h3>\n",
    "</div>\n"
   ]
  },
  {
   "cell_type": "markdown",
   "metadata": {},
   "source": [
    "**Obtain current R <span style=\"color:blue\">working directory</span>**"
   ]
  },
  {
   "cell_type": "code",
   "execution_count": 1,
   "metadata": {
    "scrolled": true
   },
   "outputs": [
    {
     "data": {
      "text/html": [
       "'/media/sf_vm_shared_folder/git/DDC/DDC-ASD/model_R'"
      ],
      "text/latex": [
       "'/media/sf\\_vm\\_shared\\_folder/git/DDC/DDC-ASD/model\\_R'"
      ],
      "text/markdown": [
       "'/media/sf_vm_shared_folder/git/DDC/DDC-ASD/model_R'"
      ],
      "text/plain": [
       "[1] \"/media/sf_vm_shared_folder/git/DDC/DDC-ASD/model_R\""
      ]
     },
     "metadata": {},
     "output_type": "display_data"
    }
   ],
   "source": [
    "getwd()"
   ]
  },
  {
   "cell_type": "markdown",
   "metadata": {},
   "source": [
    "**Set new R working directory**"
   ]
  },
  {
   "cell_type": "code",
   "execution_count": 2,
   "metadata": {
    "scrolled": true
   },
   "outputs": [
    {
     "data": {
      "text/html": [
       "'/media/sf_vm_shared_folder/git/DDC/DDC-ASD/model_R'"
      ],
      "text/latex": [
       "'/media/sf\\_vm\\_shared\\_folder/git/DDC/DDC-ASD/model\\_R'"
      ],
      "text/markdown": [
       "'/media/sf_vm_shared_folder/git/DDC/DDC-ASD/model_R'"
      ],
      "text/plain": [
       "[1] \"/media/sf_vm_shared_folder/git/DDC/DDC-ASD/model_R\""
      ]
     },
     "metadata": {},
     "output_type": "display_data"
    }
   ],
   "source": [
    "setwd(\"/media/sf_vm_shared_folder/git/DDC/DDC-ASD/model_R\")\n",
    "getwd()"
   ]
  },
  {
   "cell_type": "markdown",
   "metadata": {},
   "source": [
    "**Read in CSV data, storing as R <span style=\"color:blue\">dataframe</span>**"
   ]
  },
  {
   "cell_type": "code",
   "execution_count": 3,
   "metadata": {},
   "outputs": [],
   "source": [
    "# Dataset: US. National Level Children ASD Prevalence\n",
    "ASD_National <- read.csv(\"../dataset/ADV_ASD_National.csv\", stringsAsFactors = FALSE)"
   ]
  },
  {
   "cell_type": "code",
   "execution_count": 4,
   "metadata": {},
   "outputs": [],
   "source": [
    "# Dataset: US. State Level Children ASD Prevalence\n",
    "ASD_State    <- read.csv(\"../dataset/ADV_ASD_State.csv\", stringsAsFactors = FALSE)"
   ]
  },
  {
   "cell_type": "markdown",
   "metadata": {},
   "source": [
    "**Obtain number of rows and number of columns/features/variables**"
   ]
  },
  {
   "cell_type": "code",
   "execution_count": 5,
   "metadata": {},
   "outputs": [
    {
     "data": {
      "text/html": [
       "<ol class=list-inline>\n",
       "\t<li>42</li>\n",
       "\t<li>26</li>\n",
       "</ol>\n"
      ],
      "text/latex": [
       "\\begin{enumerate*}\n",
       "\\item 42\n",
       "\\item 26\n",
       "\\end{enumerate*}\n"
      ],
      "text/markdown": [
       "1. 42\n",
       "2. 26\n",
       "\n",
       "\n"
      ],
      "text/plain": [
       "[1] 42 26"
      ]
     },
     "metadata": {},
     "output_type": "display_data"
    }
   ],
   "source": [
    "dim(ASD_National)"
   ]
  },
  {
   "cell_type": "code",
   "execution_count": 6,
   "metadata": {},
   "outputs": [
    {
     "data": {
      "text/html": [
       "<ol class=list-inline>\n",
       "\t<li>1692</li>\n",
       "\t<li>48</li>\n",
       "</ol>\n"
      ],
      "text/latex": [
       "\\begin{enumerate*}\n",
       "\\item 1692\n",
       "\\item 48\n",
       "\\end{enumerate*}\n"
      ],
      "text/markdown": [
       "1. 1692\n",
       "2. 48\n",
       "\n",
       "\n"
      ],
      "text/plain": [
       "[1] 1692   48"
      ]
     },
     "metadata": {},
     "output_type": "display_data"
    }
   ],
   "source": [
    "dim(ASD_State)"
   ]
  },
  {
   "cell_type": "markdown",
   "metadata": {},
   "source": [
    "**Obtain name of columns**"
   ]
  },
  {
   "cell_type": "code",
   "execution_count": 7,
   "metadata": {},
   "outputs": [
    {
     "data": {
      "text/html": [
       "<ol class=list-inline>\n",
       "\t<li>'Source'</li>\n",
       "\t<li>'Year'</li>\n",
       "\t<li>'Prevalence'</li>\n",
       "\t<li>'Upper.CI'</li>\n",
       "\t<li>'Lower.CI'</li>\n",
       "\t<li>'Prevalence_dup'</li>\n",
       "\t<li>'Source_Full1'</li>\n",
       "\t<li>'Source_Full2'</li>\n",
       "\t<li>'Male.Prevalence'</li>\n",
       "\t<li>'Male.Lower.CI'</li>\n",
       "\t<li>'Male.Upper.CI'</li>\n",
       "\t<li>'Female.Prevalence'</li>\n",
       "\t<li>'Female.Lower.CI'</li>\n",
       "\t<li>'Female.Upper.CI'</li>\n",
       "\t<li>'Non.hispanic.white.Prevalence'</li>\n",
       "\t<li>'Non.hispanic.white.Lower.CI'</li>\n",
       "\t<li>'Non.hispanic.white.Upper.CI'</li>\n",
       "\t<li>'Non.hispanic.black.Prevalence'</li>\n",
       "\t<li>'Non.hispanic.black.Lower.CI'</li>\n",
       "\t<li>'Non.hispanic.black.Upper.CI'</li>\n",
       "\t<li>'Hispanic.Prevalence'</li>\n",
       "\t<li>'Hispanic.Lower.CI'</li>\n",
       "\t<li>'Hispanic.Upper.CI'</li>\n",
       "\t<li>'Asian.or.Pacific.Islander.Prevalence'</li>\n",
       "\t<li>'Asian.or.Pacific.Islander.Lower.CI'</li>\n",
       "\t<li>'Asian.or.Pacific.Islander.Upper.CI'</li>\n",
       "</ol>\n"
      ],
      "text/latex": [
       "\\begin{enumerate*}\n",
       "\\item 'Source'\n",
       "\\item 'Year'\n",
       "\\item 'Prevalence'\n",
       "\\item 'Upper.CI'\n",
       "\\item 'Lower.CI'\n",
       "\\item 'Prevalence\\_dup'\n",
       "\\item 'Source\\_Full1'\n",
       "\\item 'Source\\_Full2'\n",
       "\\item 'Male.Prevalence'\n",
       "\\item 'Male.Lower.CI'\n",
       "\\item 'Male.Upper.CI'\n",
       "\\item 'Female.Prevalence'\n",
       "\\item 'Female.Lower.CI'\n",
       "\\item 'Female.Upper.CI'\n",
       "\\item 'Non.hispanic.white.Prevalence'\n",
       "\\item 'Non.hispanic.white.Lower.CI'\n",
       "\\item 'Non.hispanic.white.Upper.CI'\n",
       "\\item 'Non.hispanic.black.Prevalence'\n",
       "\\item 'Non.hispanic.black.Lower.CI'\n",
       "\\item 'Non.hispanic.black.Upper.CI'\n",
       "\\item 'Hispanic.Prevalence'\n",
       "\\item 'Hispanic.Lower.CI'\n",
       "\\item 'Hispanic.Upper.CI'\n",
       "\\item 'Asian.or.Pacific.Islander.Prevalence'\n",
       "\\item 'Asian.or.Pacific.Islander.Lower.CI'\n",
       "\\item 'Asian.or.Pacific.Islander.Upper.CI'\n",
       "\\end{enumerate*}\n"
      ],
      "text/markdown": [
       "1. 'Source'\n",
       "2. 'Year'\n",
       "3. 'Prevalence'\n",
       "4. 'Upper.CI'\n",
       "5. 'Lower.CI'\n",
       "6. 'Prevalence_dup'\n",
       "7. 'Source_Full1'\n",
       "8. 'Source_Full2'\n",
       "9. 'Male.Prevalence'\n",
       "10. 'Male.Lower.CI'\n",
       "11. 'Male.Upper.CI'\n",
       "12. 'Female.Prevalence'\n",
       "13. 'Female.Lower.CI'\n",
       "14. 'Female.Upper.CI'\n",
       "15. 'Non.hispanic.white.Prevalence'\n",
       "16. 'Non.hispanic.white.Lower.CI'\n",
       "17. 'Non.hispanic.white.Upper.CI'\n",
       "18. 'Non.hispanic.black.Prevalence'\n",
       "19. 'Non.hispanic.black.Lower.CI'\n",
       "20. 'Non.hispanic.black.Upper.CI'\n",
       "21. 'Hispanic.Prevalence'\n",
       "22. 'Hispanic.Lower.CI'\n",
       "23. 'Hispanic.Upper.CI'\n",
       "24. 'Asian.or.Pacific.Islander.Prevalence'\n",
       "25. 'Asian.or.Pacific.Islander.Lower.CI'\n",
       "26. 'Asian.or.Pacific.Islander.Upper.CI'\n",
       "\n",
       "\n"
      ],
      "text/plain": [
       " [1] \"Source\"                              \n",
       " [2] \"Year\"                                \n",
       " [3] \"Prevalence\"                          \n",
       " [4] \"Upper.CI\"                            \n",
       " [5] \"Lower.CI\"                            \n",
       " [6] \"Prevalence_dup\"                      \n",
       " [7] \"Source_Full1\"                        \n",
       " [8] \"Source_Full2\"                        \n",
       " [9] \"Male.Prevalence\"                     \n",
       "[10] \"Male.Lower.CI\"                       \n",
       "[11] \"Male.Upper.CI\"                       \n",
       "[12] \"Female.Prevalence\"                   \n",
       "[13] \"Female.Lower.CI\"                     \n",
       "[14] \"Female.Upper.CI\"                     \n",
       "[15] \"Non.hispanic.white.Prevalence\"       \n",
       "[16] \"Non.hispanic.white.Lower.CI\"         \n",
       "[17] \"Non.hispanic.white.Upper.CI\"         \n",
       "[18] \"Non.hispanic.black.Prevalence\"       \n",
       "[19] \"Non.hispanic.black.Lower.CI\"         \n",
       "[20] \"Non.hispanic.black.Upper.CI\"         \n",
       "[21] \"Hispanic.Prevalence\"                 \n",
       "[22] \"Hispanic.Lower.CI\"                   \n",
       "[23] \"Hispanic.Upper.CI\"                   \n",
       "[24] \"Asian.or.Pacific.Islander.Prevalence\"\n",
       "[25] \"Asian.or.Pacific.Islander.Lower.CI\"  \n",
       "[26] \"Asian.or.Pacific.Islander.Upper.CI\"  "
      ]
     },
     "metadata": {},
     "output_type": "display_data"
    }
   ],
   "source": [
    "names(ASD_National)"
   ]
  },
  {
   "cell_type": "code",
   "execution_count": 8,
   "metadata": {},
   "outputs": [
    {
     "data": {
      "text/html": [
       "<ol class=list-inline>\n",
       "\t<li>'State'</li>\n",
       "\t<li>'Denominator'</li>\n",
       "\t<li>'Prevalence'</li>\n",
       "\t<li>'Lower.CI'</li>\n",
       "\t<li>'Upper.CI'</li>\n",
       "\t<li>'Year'</li>\n",
       "\t<li>'Source'</li>\n",
       "\t<li>'Source_Full1'</li>\n",
       "\t<li>'State_Full1'</li>\n",
       "\t<li>'State_Full2'</li>\n",
       "\t<li>'Numerator_ASD'</li>\n",
       "\t<li>'Numerator_NonASD'</li>\n",
       "\t<li>'Proportion'</li>\n",
       "\t<li>'X95_Z_CI'</li>\n",
       "\t<li>'Z_Lower.CI'</li>\n",
       "\t<li>'Z_Upper.CI'</li>\n",
       "\t<li>'Z_Lower.CI_ABSerror'</li>\n",
       "\t<li>'Z_Upper.CI_ABSerror'</li>\n",
       "\t<li>'Chi_Wilson_P'</li>\n",
       "\t<li>'X95_Chi_Wilson_CI'</li>\n",
       "\t<li>'Chi_Wilson_Lower.CI'</li>\n",
       "\t<li>'Chi_Wilson_Upper.CI'</li>\n",
       "\t<li>'Chi_Wilson_Lower.CI_ABSerror'</li>\n",
       "\t<li>'Chi_Wilson_Upper.CI_ABSerror'</li>\n",
       "\t<li>'Chi_Wilson_Corrected_w_minus.CI'</li>\n",
       "\t<li>'Chi_Wilson_Corrected_w_plus.CI'</li>\n",
       "\t<li>'Chi_Wilson_Corrected_Lower.CI'</li>\n",
       "\t<li>'Chi_Wilson_Corrected_Upper.CI'</li>\n",
       "\t<li>'Chi_Wilson_Corrected_Lower.CI_ABSerror'</li>\n",
       "\t<li>'Chi_Wilson_Corrected_Upper.CI_ABSerror'</li>\n",
       "\t<li>'Male.Prevalence'</li>\n",
       "\t<li>'Male.Lower.CI'</li>\n",
       "\t<li>'Male.Upper.CI'</li>\n",
       "\t<li>'Female.Prevalence'</li>\n",
       "\t<li>'Female.Lower.CI'</li>\n",
       "\t<li>'Female.Upper.CI'</li>\n",
       "\t<li>'Non.hispanic.white.Prevalence'</li>\n",
       "\t<li>'Non.hispanic.white.Lower.CI'</li>\n",
       "\t<li>'Non.hispanic.white.Upper.CI'</li>\n",
       "\t<li>'Non.hispanic.black.Prevalence'</li>\n",
       "\t<li>'Non.hispanic.black.Lower.CI'</li>\n",
       "\t<li>'Non.hispanic.black.Upper.CI'</li>\n",
       "\t<li>'Hispanic.Prevalence'</li>\n",
       "\t<li>'Hispanic.Lower.CI'</li>\n",
       "\t<li>'Hispanic.Upper.CI'</li>\n",
       "\t<li>'Asian.or.Pacific.Islander.Prevalence'</li>\n",
       "\t<li>'Asian.or.Pacific.Islander.Lower.CI'</li>\n",
       "\t<li>'Asian.or.Pacific.Islander.Upper.CI'</li>\n",
       "</ol>\n"
      ],
      "text/latex": [
       "\\begin{enumerate*}\n",
       "\\item 'State'\n",
       "\\item 'Denominator'\n",
       "\\item 'Prevalence'\n",
       "\\item 'Lower.CI'\n",
       "\\item 'Upper.CI'\n",
       "\\item 'Year'\n",
       "\\item 'Source'\n",
       "\\item 'Source\\_Full1'\n",
       "\\item 'State\\_Full1'\n",
       "\\item 'State\\_Full2'\n",
       "\\item 'Numerator\\_ASD'\n",
       "\\item 'Numerator\\_NonASD'\n",
       "\\item 'Proportion'\n",
       "\\item 'X95\\_Z\\_CI'\n",
       "\\item 'Z\\_Lower.CI'\n",
       "\\item 'Z\\_Upper.CI'\n",
       "\\item 'Z\\_Lower.CI\\_ABSerror'\n",
       "\\item 'Z\\_Upper.CI\\_ABSerror'\n",
       "\\item 'Chi\\_Wilson\\_P'\n",
       "\\item 'X95\\_Chi\\_Wilson\\_CI'\n",
       "\\item 'Chi\\_Wilson\\_Lower.CI'\n",
       "\\item 'Chi\\_Wilson\\_Upper.CI'\n",
       "\\item 'Chi\\_Wilson\\_Lower.CI\\_ABSerror'\n",
       "\\item 'Chi\\_Wilson\\_Upper.CI\\_ABSerror'\n",
       "\\item 'Chi\\_Wilson\\_Corrected\\_w\\_minus.CI'\n",
       "\\item 'Chi\\_Wilson\\_Corrected\\_w\\_plus.CI'\n",
       "\\item 'Chi\\_Wilson\\_Corrected\\_Lower.CI'\n",
       "\\item 'Chi\\_Wilson\\_Corrected\\_Upper.CI'\n",
       "\\item 'Chi\\_Wilson\\_Corrected\\_Lower.CI\\_ABSerror'\n",
       "\\item 'Chi\\_Wilson\\_Corrected\\_Upper.CI\\_ABSerror'\n",
       "\\item 'Male.Prevalence'\n",
       "\\item 'Male.Lower.CI'\n",
       "\\item 'Male.Upper.CI'\n",
       "\\item 'Female.Prevalence'\n",
       "\\item 'Female.Lower.CI'\n",
       "\\item 'Female.Upper.CI'\n",
       "\\item 'Non.hispanic.white.Prevalence'\n",
       "\\item 'Non.hispanic.white.Lower.CI'\n",
       "\\item 'Non.hispanic.white.Upper.CI'\n",
       "\\item 'Non.hispanic.black.Prevalence'\n",
       "\\item 'Non.hispanic.black.Lower.CI'\n",
       "\\item 'Non.hispanic.black.Upper.CI'\n",
       "\\item 'Hispanic.Prevalence'\n",
       "\\item 'Hispanic.Lower.CI'\n",
       "\\item 'Hispanic.Upper.CI'\n",
       "\\item 'Asian.or.Pacific.Islander.Prevalence'\n",
       "\\item 'Asian.or.Pacific.Islander.Lower.CI'\n",
       "\\item 'Asian.or.Pacific.Islander.Upper.CI'\n",
       "\\end{enumerate*}\n"
      ],
      "text/markdown": [
       "1. 'State'\n",
       "2. 'Denominator'\n",
       "3. 'Prevalence'\n",
       "4. 'Lower.CI'\n",
       "5. 'Upper.CI'\n",
       "6. 'Year'\n",
       "7. 'Source'\n",
       "8. 'Source_Full1'\n",
       "9. 'State_Full1'\n",
       "10. 'State_Full2'\n",
       "11. 'Numerator_ASD'\n",
       "12. 'Numerator_NonASD'\n",
       "13. 'Proportion'\n",
       "14. 'X95_Z_CI'\n",
       "15. 'Z_Lower.CI'\n",
       "16. 'Z_Upper.CI'\n",
       "17. 'Z_Lower.CI_ABSerror'\n",
       "18. 'Z_Upper.CI_ABSerror'\n",
       "19. 'Chi_Wilson_P'\n",
       "20. 'X95_Chi_Wilson_CI'\n",
       "21. 'Chi_Wilson_Lower.CI'\n",
       "22. 'Chi_Wilson_Upper.CI'\n",
       "23. 'Chi_Wilson_Lower.CI_ABSerror'\n",
       "24. 'Chi_Wilson_Upper.CI_ABSerror'\n",
       "25. 'Chi_Wilson_Corrected_w_minus.CI'\n",
       "26. 'Chi_Wilson_Corrected_w_plus.CI'\n",
       "27. 'Chi_Wilson_Corrected_Lower.CI'\n",
       "28. 'Chi_Wilson_Corrected_Upper.CI'\n",
       "29. 'Chi_Wilson_Corrected_Lower.CI_ABSerror'\n",
       "30. 'Chi_Wilson_Corrected_Upper.CI_ABSerror'\n",
       "31. 'Male.Prevalence'\n",
       "32. 'Male.Lower.CI'\n",
       "33. 'Male.Upper.CI'\n",
       "34. 'Female.Prevalence'\n",
       "35. 'Female.Lower.CI'\n",
       "36. 'Female.Upper.CI'\n",
       "37. 'Non.hispanic.white.Prevalence'\n",
       "38. 'Non.hispanic.white.Lower.CI'\n",
       "39. 'Non.hispanic.white.Upper.CI'\n",
       "40. 'Non.hispanic.black.Prevalence'\n",
       "41. 'Non.hispanic.black.Lower.CI'\n",
       "42. 'Non.hispanic.black.Upper.CI'\n",
       "43. 'Hispanic.Prevalence'\n",
       "44. 'Hispanic.Lower.CI'\n",
       "45. 'Hispanic.Upper.CI'\n",
       "46. 'Asian.or.Pacific.Islander.Prevalence'\n",
       "47. 'Asian.or.Pacific.Islander.Lower.CI'\n",
       "48. 'Asian.or.Pacific.Islander.Upper.CI'\n",
       "\n",
       "\n"
      ],
      "text/plain": [
       " [1] \"State\"                                 \n",
       " [2] \"Denominator\"                           \n",
       " [3] \"Prevalence\"                            \n",
       " [4] \"Lower.CI\"                              \n",
       " [5] \"Upper.CI\"                              \n",
       " [6] \"Year\"                                  \n",
       " [7] \"Source\"                                \n",
       " [8] \"Source_Full1\"                          \n",
       " [9] \"State_Full1\"                           \n",
       "[10] \"State_Full2\"                           \n",
       "[11] \"Numerator_ASD\"                         \n",
       "[12] \"Numerator_NonASD\"                      \n",
       "[13] \"Proportion\"                            \n",
       "[14] \"X95_Z_CI\"                              \n",
       "[15] \"Z_Lower.CI\"                            \n",
       "[16] \"Z_Upper.CI\"                            \n",
       "[17] \"Z_Lower.CI_ABSerror\"                   \n",
       "[18] \"Z_Upper.CI_ABSerror\"                   \n",
       "[19] \"Chi_Wilson_P\"                          \n",
       "[20] \"X95_Chi_Wilson_CI\"                     \n",
       "[21] \"Chi_Wilson_Lower.CI\"                   \n",
       "[22] \"Chi_Wilson_Upper.CI\"                   \n",
       "[23] \"Chi_Wilson_Lower.CI_ABSerror\"          \n",
       "[24] \"Chi_Wilson_Upper.CI_ABSerror\"          \n",
       "[25] \"Chi_Wilson_Corrected_w_minus.CI\"       \n",
       "[26] \"Chi_Wilson_Corrected_w_plus.CI\"        \n",
       "[27] \"Chi_Wilson_Corrected_Lower.CI\"         \n",
       "[28] \"Chi_Wilson_Corrected_Upper.CI\"         \n",
       "[29] \"Chi_Wilson_Corrected_Lower.CI_ABSerror\"\n",
       "[30] \"Chi_Wilson_Corrected_Upper.CI_ABSerror\"\n",
       "[31] \"Male.Prevalence\"                       \n",
       "[32] \"Male.Lower.CI\"                         \n",
       "[33] \"Male.Upper.CI\"                         \n",
       "[34] \"Female.Prevalence\"                     \n",
       "[35] \"Female.Lower.CI\"                       \n",
       "[36] \"Female.Upper.CI\"                       \n",
       "[37] \"Non.hispanic.white.Prevalence\"         \n",
       "[38] \"Non.hispanic.white.Lower.CI\"           \n",
       "[39] \"Non.hispanic.white.Upper.CI\"           \n",
       "[40] \"Non.hispanic.black.Prevalence\"         \n",
       "[41] \"Non.hispanic.black.Lower.CI\"           \n",
       "[42] \"Non.hispanic.black.Upper.CI\"           \n",
       "[43] \"Hispanic.Prevalence\"                   \n",
       "[44] \"Hispanic.Lower.CI\"                     \n",
       "[45] \"Hispanic.Upper.CI\"                     \n",
       "[46] \"Asian.or.Pacific.Islander.Prevalence\"  \n",
       "[47] \"Asian.or.Pacific.Islander.Lower.CI\"    \n",
       "[48] \"Asian.or.Pacific.Islander.Upper.CI\"    "
      ]
     },
     "metadata": {},
     "output_type": "display_data"
    }
   ],
   "source": [
    "names(ASD_State)"
   ]
  },
  {
   "cell_type": "markdown",
   "metadata": {},
   "source": [
    "**Obtain overview (data structure/types)**"
   ]
  },
  {
   "cell_type": "code",
   "execution_count": 9,
   "metadata": {
    "scrolled": true
   },
   "outputs": [
    {
     "name": "stdout",
     "output_type": "stream",
     "text": [
      "'data.frame':\t42 obs. of  26 variables:\n",
      " $ Source                              : chr  \"addm\" \"addm\" \"addm\" \"addm\" ...\n",
      " $ Year                                : int  2000 2002 2004 2006 2008 2010 2012 2014 2004 2008 ...\n",
      " $ Prevalence                          : num  6.7 6.6 8 9 11.3 14.7 14.8 16.8 9.5 16.2 ...\n",
      " $ Upper.CI                            : num  7 6.8 8.4 9.3 11.7 15.1 15.2 17.3 12 18.1 ...\n",
      " $ Lower.CI                            : num  6.3 6.3 7.6 8.6 11 14.3 14.4 16.4 7.4 14.5 ...\n",
      " $ Prevalence_dup                      : num  6.7 6.6 8 9 11.3 14.7 14.8 16.8 9.5 16.2 ...\n",
      " $ Source_Full1                        : chr  \"Autism & Developmental Disabilities Monitoring Network\" \"Autism & Developmental Disabilities Monitoring Network\" \"Autism & Developmental Disabilities Monitoring Network\" \"Autism & Developmental Disabilities Monitoring Network\" ...\n",
      " $ Source_Full2                        : chr  \"addm-Autism & Developmental Disabilities Monitoring Network\" \"addm-Autism & Developmental Disabilities Monitoring Network\" \"addm-Autism & Developmental Disabilities Monitoring Network\" \"addm-Autism & Developmental Disabilities Monitoring Network\" ...\n",
      " $ Male.Prevalence                     : chr  \"No data\" \"11.5\" \"12.9\" \"14.5\" ...\n",
      " $ Male.Lower.CI                       : chr  \"No data\" \"No data\" \"12.2\" \"13.9\" ...\n",
      " $ Male.Upper.CI                       : chr  \"No data\" \"No data\" \"13.7\" \"15.1\" ...\n",
      " $ Female.Prevalence                   : chr  \"No data\" \"2.7\" \"2.9\" \"3.2\" ...\n",
      " $ Female.Lower.CI                     : chr  \"No data\" \"No data\" \"2.6\" \"2.9\" ...\n",
      " $ Female.Upper.CI                     : chr  \"No data\" \"No data\" \"3.3\" \"3.5\" ...\n",
      " $ Non.hispanic.white.Prevalence       : chr  \"No data\" \"7.7\" \"9.7\" \"9.9\" ...\n",
      " $ Non.hispanic.white.Lower.CI         : chr  \"No data\" \"No data\" \"9.1\" \"9.4\" ...\n",
      " $ Non.hispanic.white.Upper.CI         : chr  \"No data\" \"No data\" \"10.4\" \"10.4\" ...\n",
      " $ Non.hispanic.black.Prevalence       : chr  \"No data\" \"6.5\" \"6.9\" \"7.2\" ...\n",
      " $ Non.hispanic.black.Lower.CI         : chr  \"No data\" \"No data\" \"6.2\" \"6.6\" ...\n",
      " $ Non.hispanic.black.Upper.CI         : chr  \"No data\" \"No data\" \"7.6\" \"7.8\" ...\n",
      " $ Hispanic.Prevalence                 : chr  \"No data\" \"No data\" \"6.2\" \"5.9\" ...\n",
      " $ Hispanic.Lower.CI                   : chr  \"No data\" \"No data\" \"5\" \"5.3\" ...\n",
      " $ Hispanic.Upper.CI                   : chr  \"No data\" \"No data\" \"7.5\" \"6.6\" ...\n",
      " $ Asian.or.Pacific.Islander.Prevalence: chr  \"No data\" \"No data\" \"No data\" \"No data\" ...\n",
      " $ Asian.or.Pacific.Islander.Lower.CI  : chr  \"No data\" \"No data\" \"No data\" \"No data\" ...\n",
      " $ Asian.or.Pacific.Islander.Upper.CI  : chr  \"No data\" \"No data\" \"No data\" \"No data\" ...\n"
     ]
    }
   ],
   "source": [
    "str(ASD_National)"
   ]
  },
  {
   "cell_type": "code",
   "execution_count": 10,
   "metadata": {
    "scrolled": true
   },
   "outputs": [
    {
     "name": "stdout",
     "output_type": "stream",
     "text": [
      "'data.frame':\t1692 obs. of  48 variables:\n",
      " $ State                                 : chr  \"AZ\" \"GA\" \"MD\" \"NJ\" ...\n",
      " $ Denominator                           : int  45322 43593 21532 29714 24535 23065 35472 45113 36472 11020 ...\n",
      " $ Prevalence                            : num  6.5 6.5 5.5 9.9 6.3 4.5 3.3 6.2 6.9 5.9 ...\n",
      " $ Lower.CI                              : num  5.8 5.8 4.6 8.9 5.4 3.7 2.7 5.5 6.1 4.6 ...\n",
      " $ Upper.CI                              : num  7.3 7.3 6.6 11.1 7.4 5.5 3.9 7 7.8 7.5 ...\n",
      " $ Year                                  : int  2000 2000 2000 2000 2000 2000 2002 2002 2002 2002 ...\n",
      " $ Source                                : chr  \"addm\" \"addm\" \"addm\" \"addm\" ...\n",
      " $ Source_Full1                          : chr  \"Autism & Developmental Disabilities Monitoring Network\" \"Autism & Developmental Disabilities Monitoring Network\" \"Autism & Developmental Disabilities Monitoring Network\" \"Autism & Developmental Disabilities Monitoring Network\" ...\n",
      " $ State_Full1                           : chr  \"Arizona\" \"Georgia\" \"Maryland\" \"New Jersey\" ...\n",
      " $ State_Full2                           : chr  \"AZ-Arizona\" \"GA-Georgia\" \"MD-Maryland\" \"NJ-New Jersey\" ...\n",
      " $ Numerator_ASD                         : int  295 283 118 294 155 104 117 280 252 65 ...\n",
      " $ Numerator_NonASD                      : int  45027 43310 21414 29420 24380 22961 35355 44833 36220 10955 ...\n",
      " $ Proportion                            : num  0.00651 0.00649 0.00548 0.00989 0.00632 ...\n",
      " $ X95_Z_CI                              : num  0.00074 0.000754 0.000986 0.001125 0.000991 ...\n",
      " $ Z_Lower.CI                            : num  5.77 5.74 4.49 8.77 5.33 ...\n",
      " $ Z_Upper.CI                            : num  7.25 7.25 6.47 11.02 7.31 ...\n",
      " $ Z_Lower.CI_ABSerror                   : num  0.0314 0.062 0.1059 0.1311 0.0739 ...\n",
      " $ Z_Upper.CI_ABSerror                   : num  0.0507 0.0542 0.1337 0.0803 0.0911 ...\n",
      " $ Chi_Wilson_P                          : num  0.00655 0.00654 0.00557 0.00996 0.00639 ...\n",
      " $ X95_Chi_Wilson_CI                     : num  0.000741 0.000755 0.00099 0.001127 0.000994 ...\n",
      " $ Chi_Wilson_Lower.CI                   : num  5.81 5.78 4.58 8.83 5.4 ...\n",
      " $ Chi_Wilson_Upper.CI                   : num  7.29 7.29 6.56 11.08 7.39 ...\n",
      " $ Chi_Wilson_Lower.CI_ABSerror          : num  0.009314 0.019761 0.021503 0.069416 0.000453 ...\n",
      " $ Chi_Wilson_Upper.CI_ABSerror          : num  0.0077 0.00953 0.04165 0.01523 0.01087 ...\n",
      " $ Chi_Wilson_Corrected_w_minus.CI       : num  0.0058 0.00577 0.00456 0.00881 0.00538 ...\n",
      " $ Chi_Wilson_Corrected_w_plus.CI        : num  0.0073 0.0073 0.00658 0.0111 0.00741 ...\n",
      " $ Chi_Wilson_Corrected_Lower.CI         : num  5.8 5.77 4.56 8.81 5.38 ...\n",
      " $ Chi_Wilson_Corrected_Upper.CI         : num  7.3 7.3 6.58 11.1 7.41 ...\n",
      " $ Chi_Wilson_Corrected_Lower.CI_ABSerror: num  0.00109 0.03057 0.04265 0.08529 0.01834 ...\n",
      " $ Chi_Wilson_Corrected_Upper.CI_ABSerror: num  0.00395 0.0026 0.01636 0.00254 0.01108 ...\n",
      " $ Male.Prevalence                       : num  9.7 11 8.6 14.8 9.3 6.6 5 10.1 10.7 9.9 ...\n",
      " $ Male.Lower.CI                         : num  8.5 9.7 7.1 13 7.8 5.2 4.1 8.8 9.3 7.6 ...\n",
      " $ Male.Upper.CI                         : num  11.1 12.4 10.6 16.8 11.2 8.2 6.2 11.4 12.3 12.9 ...\n",
      " $ Female.Prevalence                     : num  3.2 2 2.2 4.3 3.3 2.4 1.4 2.2 2.9 1.7 ...\n",
      " $ Female.Lower.CI                       : num  2.5 1.5 1.5 3.3 2.4 1.6 0.9 1.7 2.2 0.9 ...\n",
      " $ Female.Upper.CI                       : num  4 2.7 2.7 5.5 4.5 3.5 2.1 2.9 3.8 3.2 ...\n",
      " $ Non.hispanic.white.Prevalence         : num  8.6 7.9 4.9 11.3 6.5 4.5 3.3 7.7 7.4 6.4 ...\n",
      " $ Non.hispanic.white.Lower.CI           : num  7.5 6.7 3.8 9.5 5.2 3.7 2.6 6.7 6.5 4.8 ...\n",
      " $ Non.hispanic.white.Upper.CI           : num  9.8 9.3 6.4 13.3 8.2 5.5 4.1 8.9 8.6 8.5 ...\n",
      " $ Non.hispanic.black.Prevalence         : chr  \"7.3\" \"5.3\" \"6.1\" \"10.6\" ...\n",
      " $ Non.hispanic.black.Lower.CI           : chr  \"4.4\" \"4.4\" \"4.7\" \"8.5\" ...\n",
      " $ Non.hispanic.black.Upper.CI           : chr  \"12.2\" \"6.4\" \"8\" \"13.1\" ...\n",
      " $ Hispanic.Prevalence                   : chr  \"No data\" \"No data\" \"No data\" \"No data\" ...\n",
      " $ Hispanic.Lower.CI                     : chr  \"No data\" \"No data\" \"No data\" \"No data\" ...\n",
      " $ Hispanic.Upper.CI                     : chr  \"No data\" \"No data\" \"No data\" \"No data\" ...\n",
      " $ Asian.or.Pacific.Islander.Prevalence  : chr  \"No data\" \"No data\" \"No data\" \"No data\" ...\n",
      " $ Asian.or.Pacific.Islander.Lower.CI    : chr  \"No data\" \"No data\" \"No data\" \"No data\" ...\n",
      " $ Asian.or.Pacific.Islander.Upper.CI    : chr  \"No data\" \"No data\" \"No data\" \"No data\" ...\n"
     ]
    }
   ],
   "source": [
    "str(ASD_State)"
   ]
  },
  {
   "cell_type": "markdown",
   "metadata": {},
   "source": [
    "**Look at first few rows of data**"
   ]
  },
  {
   "cell_type": "code",
   "execution_count": 11,
   "metadata": {
    "scrolled": true
   },
   "outputs": [
    {
     "data": {
      "text/html": [
       "<table>\n",
       "<caption>A data.frame: 6 × 26</caption>\n",
       "<thead>\n",
       "\t<tr><th scope=col>Source</th><th scope=col>Year</th><th scope=col>Prevalence</th><th scope=col>Upper.CI</th><th scope=col>Lower.CI</th><th scope=col>Prevalence_dup</th><th scope=col>Source_Full1</th><th scope=col>Source_Full2</th><th scope=col>Male.Prevalence</th><th scope=col>Male.Lower.CI</th><th scope=col>⋯</th><th scope=col>Non.hispanic.white.Upper.CI</th><th scope=col>Non.hispanic.black.Prevalence</th><th scope=col>Non.hispanic.black.Lower.CI</th><th scope=col>Non.hispanic.black.Upper.CI</th><th scope=col>Hispanic.Prevalence</th><th scope=col>Hispanic.Lower.CI</th><th scope=col>Hispanic.Upper.CI</th><th scope=col>Asian.or.Pacific.Islander.Prevalence</th><th scope=col>Asian.or.Pacific.Islander.Lower.CI</th><th scope=col>Asian.or.Pacific.Islander.Upper.CI</th></tr>\n",
       "\t<tr><th scope=col>&lt;chr&gt;</th><th scope=col>&lt;int&gt;</th><th scope=col>&lt;dbl&gt;</th><th scope=col>&lt;dbl&gt;</th><th scope=col>&lt;dbl&gt;</th><th scope=col>&lt;dbl&gt;</th><th scope=col>&lt;chr&gt;</th><th scope=col>&lt;chr&gt;</th><th scope=col>&lt;chr&gt;</th><th scope=col>&lt;chr&gt;</th><th scope=col>⋯</th><th scope=col>&lt;chr&gt;</th><th scope=col>&lt;chr&gt;</th><th scope=col>&lt;chr&gt;</th><th scope=col>&lt;chr&gt;</th><th scope=col>&lt;chr&gt;</th><th scope=col>&lt;chr&gt;</th><th scope=col>&lt;chr&gt;</th><th scope=col>&lt;chr&gt;</th><th scope=col>&lt;chr&gt;</th><th scope=col>&lt;chr&gt;</th></tr>\n",
       "</thead>\n",
       "<tbody>\n",
       "\t<tr><td>addm</td><td>2000</td><td> 6.7</td><td> 7.0</td><td> 6.3</td><td> 6.7</td><td>Autism &amp; Developmental Disabilities Monitoring Network</td><td>addm-Autism &amp; Developmental Disabilities Monitoring Network</td><td>No data</td><td>No data</td><td>⋯</td><td>No data</td><td>No data</td><td>No data</td><td>No data</td><td>No data</td><td>No data</td><td>No data</td><td>No data</td><td>No data</td><td>No data</td></tr>\n",
       "\t<tr><td>addm</td><td>2002</td><td> 6.6</td><td> 6.8</td><td> 6.3</td><td> 6.6</td><td>Autism &amp; Developmental Disabilities Monitoring Network</td><td>addm-Autism &amp; Developmental Disabilities Monitoring Network</td><td><span style=white-space:pre-wrap>11.5   </span></td><td>No data</td><td>⋯</td><td>No data</td><td><span style=white-space:pre-wrap>6.5    </span></td><td>No data</td><td>No data</td><td>No data</td><td>No data</td><td>No data</td><td>No data</td><td>No data</td><td>No data</td></tr>\n",
       "\t<tr><td>addm</td><td>2004</td><td> 8.0</td><td> 8.4</td><td> 7.6</td><td> 8.0</td><td>Autism &amp; Developmental Disabilities Monitoring Network</td><td>addm-Autism &amp; Developmental Disabilities Monitoring Network</td><td><span style=white-space:pre-wrap>12.9   </span></td><td><span style=white-space:pre-wrap>12.2   </span></td><td>⋯</td><td><span style=white-space:pre-wrap>10.4   </span></td><td><span style=white-space:pre-wrap>6.9    </span></td><td><span style=white-space:pre-wrap>6.2    </span></td><td><span style=white-space:pre-wrap>7.6    </span></td><td><span style=white-space:pre-wrap>6.2    </span></td><td><span style=white-space:pre-wrap>5      </span></td><td><span style=white-space:pre-wrap>7.5    </span></td><td>No data</td><td>No data</td><td>No data</td></tr>\n",
       "\t<tr><td>addm</td><td>2006</td><td> 9.0</td><td> 9.3</td><td> 8.6</td><td> 9.0</td><td>Autism &amp; Developmental Disabilities Monitoring Network</td><td>addm-Autism &amp; Developmental Disabilities Monitoring Network</td><td><span style=white-space:pre-wrap>14.5   </span></td><td><span style=white-space:pre-wrap>13.9   </span></td><td>⋯</td><td><span style=white-space:pre-wrap>10.4   </span></td><td><span style=white-space:pre-wrap>7.2    </span></td><td><span style=white-space:pre-wrap>6.6    </span></td><td><span style=white-space:pre-wrap>7.8    </span></td><td><span style=white-space:pre-wrap>5.9    </span></td><td><span style=white-space:pre-wrap>5.3    </span></td><td><span style=white-space:pre-wrap>6.6    </span></td><td>No data</td><td>No data</td><td>No data</td></tr>\n",
       "\t<tr><td>addm</td><td>2008</td><td>11.3</td><td>11.7</td><td>11.0</td><td>11.3</td><td>Autism &amp; Developmental Disabilities Monitoring Network</td><td>addm-Autism &amp; Developmental Disabilities Monitoring Network</td><td><span style=white-space:pre-wrap>18.4   </span></td><td><span style=white-space:pre-wrap>17.7   </span></td><td>⋯</td><td><span style=white-space:pre-wrap>12.5   </span></td><td><span style=white-space:pre-wrap>10.2   </span></td><td><span style=white-space:pre-wrap>9.5    </span></td><td><span style=white-space:pre-wrap>10.9   </span></td><td><span style=white-space:pre-wrap>7.9    </span></td><td><span style=white-space:pre-wrap>7.2    </span></td><td><span style=white-space:pre-wrap>8.6    </span></td><td><span style=white-space:pre-wrap>9.7    </span></td><td><span style=white-space:pre-wrap>8.1    </span></td><td><span style=white-space:pre-wrap>11.6   </span></td></tr>\n",
       "\t<tr><td>addm</td><td>2010</td><td>14.7</td><td>15.1</td><td>14.3</td><td>14.7</td><td>Autism &amp; Developmental Disabilities Monitoring Network</td><td>addm-Autism &amp; Developmental Disabilities Monitoring Network</td><td><span style=white-space:pre-wrap>23.7   </span></td><td><span style=white-space:pre-wrap>23     </span></td><td>⋯</td><td><span style=white-space:pre-wrap>16.3   </span></td><td><span style=white-space:pre-wrap>12.3   </span></td><td><span style=white-space:pre-wrap>11.5   </span></td><td><span style=white-space:pre-wrap>13.1   </span></td><td><span style=white-space:pre-wrap>10.8   </span></td><td><span style=white-space:pre-wrap>10     </span></td><td><span style=white-space:pre-wrap>11.6   </span></td><td><span style=white-space:pre-wrap>12.3   </span></td><td><span style=white-space:pre-wrap>10.7   </span></td><td><span style=white-space:pre-wrap>14.2   </span></td></tr>\n",
       "</tbody>\n",
       "</table>\n"
      ],
      "text/latex": [
       "A data.frame: 6 × 26\n",
       "\\begin{tabular}{r|llllllllllllllllllllllllll}\n",
       " Source & Year & Prevalence & Upper.CI & Lower.CI & Prevalence\\_dup & Source\\_Full1 & Source\\_Full2 & Male.Prevalence & Male.Lower.CI & Male.Upper.CI & Female.Prevalence & Female.Lower.CI & Female.Upper.CI & Non.hispanic.white.Prevalence & Non.hispanic.white.Lower.CI & Non.hispanic.white.Upper.CI & Non.hispanic.black.Prevalence & Non.hispanic.black.Lower.CI & Non.hispanic.black.Upper.CI & Hispanic.Prevalence & Hispanic.Lower.CI & Hispanic.Upper.CI & Asian.or.Pacific.Islander.Prevalence & Asian.or.Pacific.Islander.Lower.CI & Asian.or.Pacific.Islander.Upper.CI\\\\\n",
       " <chr> & <int> & <dbl> & <dbl> & <dbl> & <dbl> & <chr> & <chr> & <chr> & <chr> & <chr> & <chr> & <chr> & <chr> & <chr> & <chr> & <chr> & <chr> & <chr> & <chr> & <chr> & <chr> & <chr> & <chr> & <chr> & <chr>\\\\\n",
       "\\hline\n",
       "\t addm & 2000 &  6.7 &  7.0 &  6.3 &  6.7 & Autism \\& Developmental Disabilities Monitoring Network & addm-Autism \\& Developmental Disabilities Monitoring Network & No data & No data & No data & No data & No data & No data & No data & No data & No data & No data & No data & No data & No data & No data & No data & No data & No data & No data\\\\\n",
       "\t addm & 2002 &  6.6 &  6.8 &  6.3 &  6.6 & Autism \\& Developmental Disabilities Monitoring Network & addm-Autism \\& Developmental Disabilities Monitoring Network & 11.5    & No data & No data & 2.7     & No data & No data & 7.7     & No data & No data & 6.5     & No data & No data & No data & No data & No data & No data & No data & No data\\\\\n",
       "\t addm & 2004 &  8.0 &  8.4 &  7.6 &  8.0 & Autism \\& Developmental Disabilities Monitoring Network & addm-Autism \\& Developmental Disabilities Monitoring Network & 12.9    & 12.2    & 13.7    & 2.9     & 2.6     & 3.3     & 9.7     & 9.1     & 10.4    & 6.9     & 6.2     & 7.6     & 6.2     & 5       & 7.5     & No data & No data & No data\\\\\n",
       "\t addm & 2006 &  9.0 &  9.3 &  8.6 &  9.0 & Autism \\& Developmental Disabilities Monitoring Network & addm-Autism \\& Developmental Disabilities Monitoring Network & 14.5    & 13.9    & 15.1    & 3.2     & 2.9     & 3.5     & 9.9     & 9.4     & 10.4    & 7.2     & 6.6     & 7.8     & 5.9     & 5.3     & 6.6     & No data & No data & No data\\\\\n",
       "\t addm & 2008 & 11.3 & 11.7 & 11.0 & 11.3 & Autism \\& Developmental Disabilities Monitoring Network & addm-Autism \\& Developmental Disabilities Monitoring Network & 18.4    & 17.7    & 19      & 4       & 3.7     & 4.3     & 12      & 11.5    & 12.5    & 10.2    & 9.5     & 10.9    & 7.9     & 7.2     & 8.6     & 9.7     & 8.1     & 11.6   \\\\\n",
       "\t addm & 2010 & 14.7 & 15.1 & 14.3 & 14.7 & Autism \\& Developmental Disabilities Monitoring Network & addm-Autism \\& Developmental Disabilities Monitoring Network & 23.7    & 23      & 24.4    & 5.3     & 5       & 5.7     & 15.8    & 15.2    & 16.3    & 12.3    & 11.5    & 13.1    & 10.8    & 10      & 11.6    & 12.3    & 10.7    & 14.2   \\\\\n",
       "\\end{tabular}\n"
      ],
      "text/markdown": [
       "\n",
       "A data.frame: 6 × 26\n",
       "\n",
       "| Source &lt;chr&gt; | Year &lt;int&gt; | Prevalence &lt;dbl&gt; | Upper.CI &lt;dbl&gt; | Lower.CI &lt;dbl&gt; | Prevalence_dup &lt;dbl&gt; | Source_Full1 &lt;chr&gt; | Source_Full2 &lt;chr&gt; | Male.Prevalence &lt;chr&gt; | Male.Lower.CI &lt;chr&gt; | ⋯ ⋯ | Non.hispanic.white.Upper.CI &lt;chr&gt; | Non.hispanic.black.Prevalence &lt;chr&gt; | Non.hispanic.black.Lower.CI &lt;chr&gt; | Non.hispanic.black.Upper.CI &lt;chr&gt; | Hispanic.Prevalence &lt;chr&gt; | Hispanic.Lower.CI &lt;chr&gt; | Hispanic.Upper.CI &lt;chr&gt; | Asian.or.Pacific.Islander.Prevalence &lt;chr&gt; | Asian.or.Pacific.Islander.Lower.CI &lt;chr&gt; | Asian.or.Pacific.Islander.Upper.CI &lt;chr&gt; |\n",
       "|---|---|---|---|---|---|---|---|---|---|---|---|---|---|---|---|---|---|---|---|---|\n",
       "| addm | 2000 |  6.7 |  7.0 |  6.3 |  6.7 | Autism &amp; Developmental Disabilities Monitoring Network | addm-Autism &amp; Developmental Disabilities Monitoring Network | No data | No data | ⋯ | No data | No data | No data | No data | No data | No data | No data | No data | No data | No data |\n",
       "| addm | 2002 |  6.6 |  6.8 |  6.3 |  6.6 | Autism &amp; Developmental Disabilities Monitoring Network | addm-Autism &amp; Developmental Disabilities Monitoring Network | 11.5    | No data | ⋯ | No data | 6.5     | No data | No data | No data | No data | No data | No data | No data | No data |\n",
       "| addm | 2004 |  8.0 |  8.4 |  7.6 |  8.0 | Autism &amp; Developmental Disabilities Monitoring Network | addm-Autism &amp; Developmental Disabilities Monitoring Network | 12.9    | 12.2    | ⋯ | 10.4    | 6.9     | 6.2     | 7.6     | 6.2     | 5       | 7.5     | No data | No data | No data |\n",
       "| addm | 2006 |  9.0 |  9.3 |  8.6 |  9.0 | Autism &amp; Developmental Disabilities Monitoring Network | addm-Autism &amp; Developmental Disabilities Monitoring Network | 14.5    | 13.9    | ⋯ | 10.4    | 7.2     | 6.6     | 7.8     | 5.9     | 5.3     | 6.6     | No data | No data | No data |\n",
       "| addm | 2008 | 11.3 | 11.7 | 11.0 | 11.3 | Autism &amp; Developmental Disabilities Monitoring Network | addm-Autism &amp; Developmental Disabilities Monitoring Network | 18.4    | 17.7    | ⋯ | 12.5    | 10.2    | 9.5     | 10.9    | 7.9     | 7.2     | 8.6     | 9.7     | 8.1     | 11.6    |\n",
       "| addm | 2010 | 14.7 | 15.1 | 14.3 | 14.7 | Autism &amp; Developmental Disabilities Monitoring Network | addm-Autism &amp; Developmental Disabilities Monitoring Network | 23.7    | 23      | ⋯ | 16.3    | 12.3    | 11.5    | 13.1    | 10.8    | 10      | 11.6    | 12.3    | 10.7    | 14.2    |\n",
       "\n"
      ],
      "text/plain": [
       "  Source Year Prevalence Upper.CI Lower.CI Prevalence_dup\n",
       "1 addm   2000  6.7        7.0      6.3      6.7          \n",
       "2 addm   2002  6.6        6.8      6.3      6.6          \n",
       "3 addm   2004  8.0        8.4      7.6      8.0          \n",
       "4 addm   2006  9.0        9.3      8.6      9.0          \n",
       "5 addm   2008 11.3       11.7     11.0     11.3          \n",
       "6 addm   2010 14.7       15.1     14.3     14.7          \n",
       "  Source_Full1                                          \n",
       "1 Autism & Developmental Disabilities Monitoring Network\n",
       "2 Autism & Developmental Disabilities Monitoring Network\n",
       "3 Autism & Developmental Disabilities Monitoring Network\n",
       "4 Autism & Developmental Disabilities Monitoring Network\n",
       "5 Autism & Developmental Disabilities Monitoring Network\n",
       "6 Autism & Developmental Disabilities Monitoring Network\n",
       "  Source_Full2                                                Male.Prevalence\n",
       "1 addm-Autism & Developmental Disabilities Monitoring Network No data        \n",
       "2 addm-Autism & Developmental Disabilities Monitoring Network 11.5           \n",
       "3 addm-Autism & Developmental Disabilities Monitoring Network 12.9           \n",
       "4 addm-Autism & Developmental Disabilities Monitoring Network 14.5           \n",
       "5 addm-Autism & Developmental Disabilities Monitoring Network 18.4           \n",
       "6 addm-Autism & Developmental Disabilities Monitoring Network 23.7           \n",
       "  Male.Lower.CI ⋯ Non.hispanic.white.Upper.CI Non.hispanic.black.Prevalence\n",
       "1 No data       ⋯ No data                     No data                      \n",
       "2 No data       ⋯ No data                     6.5                          \n",
       "3 12.2          ⋯ 10.4                        6.9                          \n",
       "4 13.9          ⋯ 10.4                        7.2                          \n",
       "5 17.7          ⋯ 12.5                        10.2                         \n",
       "6 23            ⋯ 16.3                        12.3                         \n",
       "  Non.hispanic.black.Lower.CI Non.hispanic.black.Upper.CI Hispanic.Prevalence\n",
       "1 No data                     No data                     No data            \n",
       "2 No data                     No data                     No data            \n",
       "3 6.2                         7.6                         6.2                \n",
       "4 6.6                         7.8                         5.9                \n",
       "5 9.5                         10.9                        7.9                \n",
       "6 11.5                        13.1                        10.8               \n",
       "  Hispanic.Lower.CI Hispanic.Upper.CI Asian.or.Pacific.Islander.Prevalence\n",
       "1 No data           No data           No data                             \n",
       "2 No data           No data           No data                             \n",
       "3 5                 7.5               No data                             \n",
       "4 5.3               6.6               No data                             \n",
       "5 7.2               8.6               9.7                                 \n",
       "6 10                11.6              12.3                                \n",
       "  Asian.or.Pacific.Islander.Lower.CI Asian.or.Pacific.Islander.Upper.CI\n",
       "1 No data                            No data                           \n",
       "2 No data                            No data                           \n",
       "3 No data                            No data                           \n",
       "4 No data                            No data                           \n",
       "5 8.1                                11.6                              \n",
       "6 10.7                               14.2                              "
      ]
     },
     "metadata": {},
     "output_type": "display_data"
    }
   ],
   "source": [
    "head(ASD_National)"
   ]
  },
  {
   "cell_type": "code",
   "execution_count": 12,
   "metadata": {
    "scrolled": true
   },
   "outputs": [
    {
     "data": {
      "text/html": [
       "<table>\n",
       "<caption>A data.frame: 6 × 48</caption>\n",
       "<thead>\n",
       "\t<tr><th scope=col>State</th><th scope=col>Denominator</th><th scope=col>Prevalence</th><th scope=col>Lower.CI</th><th scope=col>Upper.CI</th><th scope=col>Year</th><th scope=col>Source</th><th scope=col>Source_Full1</th><th scope=col>State_Full1</th><th scope=col>State_Full2</th><th scope=col>⋯</th><th scope=col>Non.hispanic.white.Upper.CI</th><th scope=col>Non.hispanic.black.Prevalence</th><th scope=col>Non.hispanic.black.Lower.CI</th><th scope=col>Non.hispanic.black.Upper.CI</th><th scope=col>Hispanic.Prevalence</th><th scope=col>Hispanic.Lower.CI</th><th scope=col>Hispanic.Upper.CI</th><th scope=col>Asian.or.Pacific.Islander.Prevalence</th><th scope=col>Asian.or.Pacific.Islander.Lower.CI</th><th scope=col>Asian.or.Pacific.Islander.Upper.CI</th></tr>\n",
       "\t<tr><th scope=col>&lt;chr&gt;</th><th scope=col>&lt;int&gt;</th><th scope=col>&lt;dbl&gt;</th><th scope=col>&lt;dbl&gt;</th><th scope=col>&lt;dbl&gt;</th><th scope=col>&lt;int&gt;</th><th scope=col>&lt;chr&gt;</th><th scope=col>&lt;chr&gt;</th><th scope=col>&lt;chr&gt;</th><th scope=col>&lt;chr&gt;</th><th scope=col>⋯</th><th scope=col>&lt;dbl&gt;</th><th scope=col>&lt;chr&gt;</th><th scope=col>&lt;chr&gt;</th><th scope=col>&lt;chr&gt;</th><th scope=col>&lt;chr&gt;</th><th scope=col>&lt;chr&gt;</th><th scope=col>&lt;chr&gt;</th><th scope=col>&lt;chr&gt;</th><th scope=col>&lt;chr&gt;</th><th scope=col>&lt;chr&gt;</th></tr>\n",
       "</thead>\n",
       "<tbody>\n",
       "\t<tr><td>AZ</td><td>45322</td><td>6.5</td><td>5.8</td><td> 7.3</td><td>2000</td><td>addm</td><td>Autism &amp; Developmental Disabilities Monitoring Network</td><td><span style=white-space:pre-wrap>Arizona       </span></td><td><span style=white-space:pre-wrap>AZ-Arizona       </span></td><td>⋯</td><td> 9.8</td><td><span style=white-space:pre-wrap>7.3    </span></td><td><span style=white-space:pre-wrap>4.4    </span></td><td><span style=white-space:pre-wrap>12.2   </span></td><td>No data</td><td>No data</td><td>No data</td><td>No data</td><td>No data</td><td>No data</td></tr>\n",
       "\t<tr><td>GA</td><td>43593</td><td>6.5</td><td>5.8</td><td> 7.3</td><td>2000</td><td>addm</td><td>Autism &amp; Developmental Disabilities Monitoring Network</td><td><span style=white-space:pre-wrap>Georgia       </span></td><td><span style=white-space:pre-wrap>GA-Georgia       </span></td><td>⋯</td><td> 9.3</td><td><span style=white-space:pre-wrap>5.3    </span></td><td><span style=white-space:pre-wrap>4.4    </span></td><td><span style=white-space:pre-wrap>6.4    </span></td><td>No data</td><td>No data</td><td>No data</td><td>No data</td><td>No data</td><td>No data</td></tr>\n",
       "\t<tr><td>MD</td><td>21532</td><td>5.5</td><td>4.6</td><td> 6.6</td><td>2000</td><td>addm</td><td>Autism &amp; Developmental Disabilities Monitoring Network</td><td><span style=white-space:pre-wrap>Maryland      </span></td><td><span style=white-space:pre-wrap>MD-Maryland      </span></td><td>⋯</td><td> 6.4</td><td><span style=white-space:pre-wrap>6.1    </span></td><td><span style=white-space:pre-wrap>4.7    </span></td><td><span style=white-space:pre-wrap>8      </span></td><td>No data</td><td>No data</td><td>No data</td><td>No data</td><td>No data</td><td>No data</td></tr>\n",
       "\t<tr><td>NJ</td><td>29714</td><td>9.9</td><td>8.9</td><td>11.1</td><td>2000</td><td>addm</td><td>Autism &amp; Developmental Disabilities Monitoring Network</td><td><span style=white-space:pre-wrap>New Jersey    </span></td><td><span style=white-space:pre-wrap>NJ-New Jersey    </span></td><td>⋯</td><td>13.3</td><td><span style=white-space:pre-wrap>10.6   </span></td><td><span style=white-space:pre-wrap>8.5    </span></td><td><span style=white-space:pre-wrap>13.1   </span></td><td>No data</td><td>No data</td><td>No data</td><td>No data</td><td>No data</td><td>No data</td></tr>\n",
       "\t<tr><td>SC</td><td>24535</td><td>6.3</td><td>5.4</td><td> 7.4</td><td>2000</td><td>addm</td><td>Autism &amp; Developmental Disabilities Monitoring Network</td><td>South Carolina</td><td>SC-South Carolina</td><td>⋯</td><td> 8.2</td><td><span style=white-space:pre-wrap>5.8    </span></td><td><span style=white-space:pre-wrap>4.5    </span></td><td><span style=white-space:pre-wrap>7.3    </span></td><td>No data</td><td>No data</td><td>No data</td><td>No data</td><td>No data</td><td>No data</td></tr>\n",
       "\t<tr><td>WV</td><td>23065</td><td>4.5</td><td>3.7</td><td> 5.5</td><td>2000</td><td>addm</td><td>Autism &amp; Developmental Disabilities Monitoring Network</td><td>West Virginia </td><td>WV-West Virginia </td><td>⋯</td><td> 5.5</td><td>No data</td><td>No data</td><td>No data</td><td>No data</td><td>No data</td><td>No data</td><td>No data</td><td>No data</td><td>No data</td></tr>\n",
       "</tbody>\n",
       "</table>\n"
      ],
      "text/latex": [
       "A data.frame: 6 × 48\n",
       "\\begin{tabular}{r|llllllllllllllllllllllllllllllllllllllllllllllll}\n",
       " State & Denominator & Prevalence & Lower.CI & Upper.CI & Year & Source & Source\\_Full1 & State\\_Full1 & State\\_Full2 & Numerator\\_ASD & Numerator\\_NonASD & Proportion & X95\\_Z\\_CI & Z\\_Lower.CI & Z\\_Upper.CI & Z\\_Lower.CI\\_ABSerror & Z\\_Upper.CI\\_ABSerror & Chi\\_Wilson\\_P & X95\\_Chi\\_Wilson\\_CI & Chi\\_Wilson\\_Lower.CI & Chi\\_Wilson\\_Upper.CI & Chi\\_Wilson\\_Lower.CI\\_ABSerror & Chi\\_Wilson\\_Upper.CI\\_ABSerror & Chi\\_Wilson\\_Corrected\\_w\\_minus.CI & Chi\\_Wilson\\_Corrected\\_w\\_plus.CI & Chi\\_Wilson\\_Corrected\\_Lower.CI & Chi\\_Wilson\\_Corrected\\_Upper.CI & Chi\\_Wilson\\_Corrected\\_Lower.CI\\_ABSerror & Chi\\_Wilson\\_Corrected\\_Upper.CI\\_ABSerror & Male.Prevalence & Male.Lower.CI & Male.Upper.CI & Female.Prevalence & Female.Lower.CI & Female.Upper.CI & Non.hispanic.white.Prevalence & Non.hispanic.white.Lower.CI & Non.hispanic.white.Upper.CI & Non.hispanic.black.Prevalence & Non.hispanic.black.Lower.CI & Non.hispanic.black.Upper.CI & Hispanic.Prevalence & Hispanic.Lower.CI & Hispanic.Upper.CI & Asian.or.Pacific.Islander.Prevalence & Asian.or.Pacific.Islander.Lower.CI & Asian.or.Pacific.Islander.Upper.CI\\\\\n",
       " <chr> & <int> & <dbl> & <dbl> & <dbl> & <int> & <chr> & <chr> & <chr> & <chr> & <int> & <int> & <dbl> & <dbl> & <dbl> & <dbl> & <dbl> & <dbl> & <dbl> & <dbl> & <dbl> & <dbl> & <dbl> & <dbl> & <dbl> & <dbl> & <dbl> & <dbl> & <dbl> & <dbl> & <dbl> & <dbl> & <dbl> & <dbl> & <dbl> & <dbl> & <dbl> & <dbl> & <dbl> & <chr> & <chr> & <chr> & <chr> & <chr> & <chr> & <chr> & <chr> & <chr>\\\\\n",
       "\\hline\n",
       "\t AZ & 45322 & 6.5 & 5.8 &  7.3 & 2000 & addm & Autism \\& Developmental Disabilities Monitoring Network & Arizona        & AZ-Arizona        & 295 & 45027 & 0.006508980 & 0.000740341 & 5.768639 &  7.249322 & 0.03136116 & 0.05067847 & 0.006550805 & 0.000741490 & 5.809314 &  7.292295 & 0.009314087 & 0.007704945 & 0.005798905 & 0.007303948 & 5.798905 &  7.303948 & 0.001094654 & 0.003948248 &  9.7 &  8.5 & 11.1 & 3.2 & 2.5 & 4.0 &  8.6 & 7.5 &  9.8 & 7.3     & 4.4     & 12.2    & No data & No data & No data & No data & No data & No data\\\\\n",
       "\t GA & 43593 & 6.5 & 5.8 &  7.3 & 2000 & addm & Autism \\& Developmental Disabilities Monitoring Network & Georgia        & GA-Georgia        & 283 & 43310 & 0.006491868 & 0.000753894 & 5.737974 &  7.245762 & 0.06202600 & 0.05423808 & 0.006535353 & 0.000755114 & 5.780239 &  7.290466 & 0.019761296 & 0.009533585 & 0.005769431 & 0.007302595 & 5.769431 &  7.302595 & 0.030569273 & 0.002595287 & 11.0 &  9.7 & 12.4 & 2.0 & 1.5 & 2.7 &  7.9 & 6.7 &  9.3 & 5.3     & 4.4     & 6.4     & No data & No data & No data & No data & No data & No data\\\\\n",
       "\t MD & 21532 & 5.5 & 4.6 &  6.6 & 2000 & addm & Autism \\& Developmental Disabilities Monitoring Network & Maryland       & MD-Maryland       & 118 & 21414 & 0.005480215 & 0.000986078 & 4.494137 &  6.466294 & 0.10586289 & 0.13370613 & 0.005568426 & 0.000989928 & 4.578497 &  6.558354 & 0.021502820 & 0.041646118 & 0.004557351 & 0.006583638 & 4.557351 &  6.583638 & 0.042648896 & 0.016362395 &  8.6 &  7.1 & 10.6 & 2.2 & 1.5 & 2.7 &  4.9 & 3.8 &  6.4 & 6.1     & 4.7     & 8       & No data & No data & No data & No data & No data & No data\\\\\n",
       "\t NJ & 29714 & 9.9 & 8.9 & 11.1 & 2000 & addm & Autism \\& Developmental Disabilities Monitoring Network & New Jersey     & NJ-New Jersey     & 294 & 29420 & 0.009894326 & 0.001125386 & 8.768940 & 11.019712 & 0.13105984 & 0.08028834 & 0.009957679 & 0.001127095 & 8.830584 & 11.084774 & 0.069415820 & 0.015225939 & 0.008814705 & 0.011102544 & 8.814705 & 11.102544 & 0.085294600 & 0.002544275 & 14.8 & 13.0 & 16.8 & 4.3 & 3.3 & 5.5 & 11.3 & 9.5 & 13.3 & 10.6    & 8.5     & 13.1    & No data & No data & No data & No data & No data & No data\\\\\n",
       "\t SC & 24535 & 6.3 & 5.4 &  7.4 & 2000 & addm & Autism \\& Developmental Disabilities Monitoring Network & South Carolina & SC-South Carolina & 155 & 24380 & 0.006317506 & 0.000991406 & 5.326099 &  7.308912 & 0.07390075 & 0.09108804 & 0.006394790 & 0.000994337 & 5.400453 &  7.389126 & 0.000452931 & 0.010873629 & 0.005381662 & 0.007411085 & 5.381662 &  7.411085 & 0.018337935 & 0.011084637 &  9.3 &  7.8 & 11.2 & 3.3 & 2.4 & 4.5 &  6.5 & 5.2 &  8.2 & 5.8     & 4.5     & 7.3     & No data & No data & No data & No data & No data & No data\\\\\n",
       "\t WV & 23065 & 4.5 & 3.7 &  5.5 & 2000 & addm & Autism \\& Developmental Disabilities Monitoring Network & West Virginia  & WV-West Virginia  & 104 & 22961 & 0.004508996 & 0.000864629 & 3.644367 &  5.373626 & 0.05563303 & 0.12637434 & 0.004591506 & 0.000868486 & 3.723021 &  5.459992 & 0.023020598 & 0.040008126 & 0.003703408 & 0.005483723 & 3.703408 &  5.483723 & 0.003407981 & 0.016277200 &  6.6 &  5.2 &  8.2 & 2.4 & 1.6 & 3.5 &  4.5 & 3.7 &  5.5 & No data & No data & No data & No data & No data & No data & No data & No data & No data\\\\\n",
       "\\end{tabular}\n"
      ],
      "text/markdown": [
       "\n",
       "A data.frame: 6 × 48\n",
       "\n",
       "| State &lt;chr&gt; | Denominator &lt;int&gt; | Prevalence &lt;dbl&gt; | Lower.CI &lt;dbl&gt; | Upper.CI &lt;dbl&gt; | Year &lt;int&gt; | Source &lt;chr&gt; | Source_Full1 &lt;chr&gt; | State_Full1 &lt;chr&gt; | State_Full2 &lt;chr&gt; | ⋯ ⋯ | Non.hispanic.white.Upper.CI &lt;dbl&gt; | Non.hispanic.black.Prevalence &lt;chr&gt; | Non.hispanic.black.Lower.CI &lt;chr&gt; | Non.hispanic.black.Upper.CI &lt;chr&gt; | Hispanic.Prevalence &lt;chr&gt; | Hispanic.Lower.CI &lt;chr&gt; | Hispanic.Upper.CI &lt;chr&gt; | Asian.or.Pacific.Islander.Prevalence &lt;chr&gt; | Asian.or.Pacific.Islander.Lower.CI &lt;chr&gt; | Asian.or.Pacific.Islander.Upper.CI &lt;chr&gt; |\n",
       "|---|---|---|---|---|---|---|---|---|---|---|---|---|---|---|---|---|---|---|---|---|\n",
       "| AZ | 45322 | 6.5 | 5.8 |  7.3 | 2000 | addm | Autism &amp; Developmental Disabilities Monitoring Network | Arizona        | AZ-Arizona        | ⋯ |  9.8 | 7.3     | 4.4     | 12.2    | No data | No data | No data | No data | No data | No data |\n",
       "| GA | 43593 | 6.5 | 5.8 |  7.3 | 2000 | addm | Autism &amp; Developmental Disabilities Monitoring Network | Georgia        | GA-Georgia        | ⋯ |  9.3 | 5.3     | 4.4     | 6.4     | No data | No data | No data | No data | No data | No data |\n",
       "| MD | 21532 | 5.5 | 4.6 |  6.6 | 2000 | addm | Autism &amp; Developmental Disabilities Monitoring Network | Maryland       | MD-Maryland       | ⋯ |  6.4 | 6.1     | 4.7     | 8       | No data | No data | No data | No data | No data | No data |\n",
       "| NJ | 29714 | 9.9 | 8.9 | 11.1 | 2000 | addm | Autism &amp; Developmental Disabilities Monitoring Network | New Jersey     | NJ-New Jersey     | ⋯ | 13.3 | 10.6    | 8.5     | 13.1    | No data | No data | No data | No data | No data | No data |\n",
       "| SC | 24535 | 6.3 | 5.4 |  7.4 | 2000 | addm | Autism &amp; Developmental Disabilities Monitoring Network | South Carolina | SC-South Carolina | ⋯ |  8.2 | 5.8     | 4.5     | 7.3     | No data | No data | No data | No data | No data | No data |\n",
       "| WV | 23065 | 4.5 | 3.7 |  5.5 | 2000 | addm | Autism &amp; Developmental Disabilities Monitoring Network | West Virginia  | WV-West Virginia  | ⋯ |  5.5 | No data | No data | No data | No data | No data | No data | No data | No data | No data |\n",
       "\n"
      ],
      "text/plain": [
       "  State Denominator Prevalence Lower.CI Upper.CI Year Source\n",
       "1 AZ    45322       6.5        5.8       7.3     2000 addm  \n",
       "2 GA    43593       6.5        5.8       7.3     2000 addm  \n",
       "3 MD    21532       5.5        4.6       6.6     2000 addm  \n",
       "4 NJ    29714       9.9        8.9      11.1     2000 addm  \n",
       "5 SC    24535       6.3        5.4       7.4     2000 addm  \n",
       "6 WV    23065       4.5        3.7       5.5     2000 addm  \n",
       "  Source_Full1                                           State_Full1   \n",
       "1 Autism & Developmental Disabilities Monitoring Network Arizona       \n",
       "2 Autism & Developmental Disabilities Monitoring Network Georgia       \n",
       "3 Autism & Developmental Disabilities Monitoring Network Maryland      \n",
       "4 Autism & Developmental Disabilities Monitoring Network New Jersey    \n",
       "5 Autism & Developmental Disabilities Monitoring Network South Carolina\n",
       "6 Autism & Developmental Disabilities Monitoring Network West Virginia \n",
       "  State_Full2       ⋯ Non.hispanic.white.Upper.CI Non.hispanic.black.Prevalence\n",
       "1 AZ-Arizona        ⋯  9.8                        7.3                          \n",
       "2 GA-Georgia        ⋯  9.3                        5.3                          \n",
       "3 MD-Maryland       ⋯  6.4                        6.1                          \n",
       "4 NJ-New Jersey     ⋯ 13.3                        10.6                         \n",
       "5 SC-South Carolina ⋯  8.2                        5.8                          \n",
       "6 WV-West Virginia  ⋯  5.5                        No data                      \n",
       "  Non.hispanic.black.Lower.CI Non.hispanic.black.Upper.CI Hispanic.Prevalence\n",
       "1 4.4                         12.2                        No data            \n",
       "2 4.4                         6.4                         No data            \n",
       "3 4.7                         8                           No data            \n",
       "4 8.5                         13.1                        No data            \n",
       "5 4.5                         7.3                         No data            \n",
       "6 No data                     No data                     No data            \n",
       "  Hispanic.Lower.CI Hispanic.Upper.CI Asian.or.Pacific.Islander.Prevalence\n",
       "1 No data           No data           No data                             \n",
       "2 No data           No data           No data                             \n",
       "3 No data           No data           No data                             \n",
       "4 No data           No data           No data                             \n",
       "5 No data           No data           No data                             \n",
       "6 No data           No data           No data                             \n",
       "  Asian.or.Pacific.Islander.Lower.CI Asian.or.Pacific.Islander.Upper.CI\n",
       "1 No data                            No data                           \n",
       "2 No data                            No data                           \n",
       "3 No data                            No data                           \n",
       "4 No data                            No data                           \n",
       "5 No data                            No data                           \n",
       "6 No data                            No data                           "
      ]
     },
     "metadata": {},
     "output_type": "display_data"
    }
   ],
   "source": [
    "head(ASD_State)"
   ]
  },
  {
   "cell_type": "markdown",
   "metadata": {},
   "source": [
    "**Display column and its index number**"
   ]
  },
  {
   "cell_type": "code",
   "execution_count": 13,
   "metadata": {
    "scrolled": true
   },
   "outputs": [
    {
     "data": {
      "text/html": [
       "<table>\n",
       "<caption>A matrix: 26 × 2 of type chr</caption>\n",
       "<tbody>\n",
       "\t<tr><td>Source                              </td><td>1 </td></tr>\n",
       "\t<tr><td>Year                                </td><td>2 </td></tr>\n",
       "\t<tr><td>Prevalence                          </td><td>3 </td></tr>\n",
       "\t<tr><td>Upper.CI                            </td><td>4 </td></tr>\n",
       "\t<tr><td>Lower.CI                            </td><td>5 </td></tr>\n",
       "\t<tr><td>Prevalence_dup                      </td><td>6 </td></tr>\n",
       "\t<tr><td>Source_Full1                        </td><td>7 </td></tr>\n",
       "\t<tr><td>Source_Full2                        </td><td>8 </td></tr>\n",
       "\t<tr><td>Male.Prevalence                     </td><td>9 </td></tr>\n",
       "\t<tr><td>Male.Lower.CI                       </td><td>10</td></tr>\n",
       "\t<tr><td>Male.Upper.CI                       </td><td>11</td></tr>\n",
       "\t<tr><td>Female.Prevalence                   </td><td>12</td></tr>\n",
       "\t<tr><td>Female.Lower.CI                     </td><td>13</td></tr>\n",
       "\t<tr><td>Female.Upper.CI                     </td><td>14</td></tr>\n",
       "\t<tr><td>Non.hispanic.white.Prevalence       </td><td>15</td></tr>\n",
       "\t<tr><td>Non.hispanic.white.Lower.CI         </td><td>16</td></tr>\n",
       "\t<tr><td>Non.hispanic.white.Upper.CI         </td><td>17</td></tr>\n",
       "\t<tr><td>Non.hispanic.black.Prevalence       </td><td>18</td></tr>\n",
       "\t<tr><td>Non.hispanic.black.Lower.CI         </td><td>19</td></tr>\n",
       "\t<tr><td>Non.hispanic.black.Upper.CI         </td><td>20</td></tr>\n",
       "\t<tr><td>Hispanic.Prevalence                 </td><td>21</td></tr>\n",
       "\t<tr><td>Hispanic.Lower.CI                   </td><td>22</td></tr>\n",
       "\t<tr><td>Hispanic.Upper.CI                   </td><td>23</td></tr>\n",
       "\t<tr><td>Asian.or.Pacific.Islander.Prevalence</td><td>24</td></tr>\n",
       "\t<tr><td>Asian.or.Pacific.Islander.Lower.CI  </td><td>25</td></tr>\n",
       "\t<tr><td>Asian.or.Pacific.Islander.Upper.CI  </td><td>26</td></tr>\n",
       "</tbody>\n",
       "</table>\n"
      ],
      "text/latex": [
       "A matrix: 26 × 2 of type chr\n",
       "\\begin{tabular}{ll}\n",
       "\t Source                               & 1 \\\\\n",
       "\t Year                                 & 2 \\\\\n",
       "\t Prevalence                           & 3 \\\\\n",
       "\t Upper.CI                             & 4 \\\\\n",
       "\t Lower.CI                             & 5 \\\\\n",
       "\t Prevalence\\_dup                       & 6 \\\\\n",
       "\t Source\\_Full1                         & 7 \\\\\n",
       "\t Source\\_Full2                         & 8 \\\\\n",
       "\t Male.Prevalence                      & 9 \\\\\n",
       "\t Male.Lower.CI                        & 10\\\\\n",
       "\t Male.Upper.CI                        & 11\\\\\n",
       "\t Female.Prevalence                    & 12\\\\\n",
       "\t Female.Lower.CI                      & 13\\\\\n",
       "\t Female.Upper.CI                      & 14\\\\\n",
       "\t Non.hispanic.white.Prevalence        & 15\\\\\n",
       "\t Non.hispanic.white.Lower.CI          & 16\\\\\n",
       "\t Non.hispanic.white.Upper.CI          & 17\\\\\n",
       "\t Non.hispanic.black.Prevalence        & 18\\\\\n",
       "\t Non.hispanic.black.Lower.CI          & 19\\\\\n",
       "\t Non.hispanic.black.Upper.CI          & 20\\\\\n",
       "\t Hispanic.Prevalence                  & 21\\\\\n",
       "\t Hispanic.Lower.CI                    & 22\\\\\n",
       "\t Hispanic.Upper.CI                    & 23\\\\\n",
       "\t Asian.or.Pacific.Islander.Prevalence & 24\\\\\n",
       "\t Asian.or.Pacific.Islander.Lower.CI   & 25\\\\\n",
       "\t Asian.or.Pacific.Islander.Upper.CI   & 26\\\\\n",
       "\\end{tabular}\n"
      ],
      "text/markdown": [
       "\n",
       "A matrix: 26 × 2 of type chr\n",
       "\n",
       "| Source                               | 1  |\n",
       "| Year                                 | 2  |\n",
       "| Prevalence                           | 3  |\n",
       "| Upper.CI                             | 4  |\n",
       "| Lower.CI                             | 5  |\n",
       "| Prevalence_dup                       | 6  |\n",
       "| Source_Full1                         | 7  |\n",
       "| Source_Full2                         | 8  |\n",
       "| Male.Prevalence                      | 9  |\n",
       "| Male.Lower.CI                        | 10 |\n",
       "| Male.Upper.CI                        | 11 |\n",
       "| Female.Prevalence                    | 12 |\n",
       "| Female.Lower.CI                      | 13 |\n",
       "| Female.Upper.CI                      | 14 |\n",
       "| Non.hispanic.white.Prevalence        | 15 |\n",
       "| Non.hispanic.white.Lower.CI          | 16 |\n",
       "| Non.hispanic.white.Upper.CI          | 17 |\n",
       "| Non.hispanic.black.Prevalence        | 18 |\n",
       "| Non.hispanic.black.Lower.CI          | 19 |\n",
       "| Non.hispanic.black.Upper.CI          | 20 |\n",
       "| Hispanic.Prevalence                  | 21 |\n",
       "| Hispanic.Lower.CI                    | 22 |\n",
       "| Hispanic.Upper.CI                    | 23 |\n",
       "| Asian.or.Pacific.Islander.Prevalence | 24 |\n",
       "| Asian.or.Pacific.Islander.Lower.CI   | 25 |\n",
       "| Asian.or.Pacific.Islander.Upper.CI   | 26 |\n",
       "\n"
      ],
      "text/plain": [
       "      [,1]                                 [,2]\n",
       " [1,] Source                               1   \n",
       " [2,] Year                                 2   \n",
       " [3,] Prevalence                           3   \n",
       " [4,] Upper.CI                             4   \n",
       " [5,] Lower.CI                             5   \n",
       " [6,] Prevalence_dup                       6   \n",
       " [7,] Source_Full1                         7   \n",
       " [8,] Source_Full2                         8   \n",
       " [9,] Male.Prevalence                      9   \n",
       "[10,] Male.Lower.CI                        10  \n",
       "[11,] Male.Upper.CI                        11  \n",
       "[12,] Female.Prevalence                    12  \n",
       "[13,] Female.Lower.CI                      13  \n",
       "[14,] Female.Upper.CI                      14  \n",
       "[15,] Non.hispanic.white.Prevalence        15  \n",
       "[16,] Non.hispanic.white.Lower.CI          16  \n",
       "[17,] Non.hispanic.white.Upper.CI          17  \n",
       "[18,] Non.hispanic.black.Prevalence        18  \n",
       "[19,] Non.hispanic.black.Lower.CI          19  \n",
       "[20,] Non.hispanic.black.Upper.CI          20  \n",
       "[21,] Hispanic.Prevalence                  21  \n",
       "[22,] Hispanic.Lower.CI                    22  \n",
       "[23,] Hispanic.Upper.CI                    23  \n",
       "[24,] Asian.or.Pacific.Islander.Prevalence 24  \n",
       "[25,] Asian.or.Pacific.Islander.Lower.CI   25  \n",
       "[26,] Asian.or.Pacific.Islander.Upper.CI   26  "
      ]
     },
     "metadata": {},
     "output_type": "display_data"
    }
   ],
   "source": [
    "cbind(names(ASD_National), c(1:length(names(ASD_National))))"
   ]
  },
  {
   "cell_type": "markdown",
   "metadata": {},
   "source": [
    "**Look at data structure/schema (Selected columns)**"
   ]
  },
  {
   "cell_type": "code",
   "execution_count": 14,
   "metadata": {},
   "outputs": [
    {
     "name": "stdout",
     "output_type": "stream",
     "text": [
      "'data.frame':\t42 obs. of  11 variables:\n",
      " $ Source                              : chr  \"addm\" \"addm\" \"addm\" \"addm\" ...\n",
      " $ Year                                : int  2000 2002 2004 2006 2008 2010 2012 2014 2004 2008 ...\n",
      " $ Prevalence                          : num  6.7 6.6 8 9 11.3 14.7 14.8 16.8 9.5 16.2 ...\n",
      " $ Upper.CI                            : num  7 6.8 8.4 9.3 11.7 15.1 15.2 17.3 12 18.1 ...\n",
      " $ Lower.CI                            : num  6.3 6.3 7.6 8.6 11 14.3 14.4 16.4 7.4 14.5 ...\n",
      " $ Prevalence_dup                      : num  6.7 6.6 8 9 11.3 14.7 14.8 16.8 9.5 16.2 ...\n",
      " $ Source_Full1                        : chr  \"Autism & Developmental Disabilities Monitoring Network\" \"Autism & Developmental Disabilities Monitoring Network\" \"Autism & Developmental Disabilities Monitoring Network\" \"Autism & Developmental Disabilities Monitoring Network\" ...\n",
      " $ Source_Full2                        : chr  \"addm-Autism & Developmental Disabilities Monitoring Network\" \"addm-Autism & Developmental Disabilities Monitoring Network\" \"addm-Autism & Developmental Disabilities Monitoring Network\" \"addm-Autism & Developmental Disabilities Monitoring Network\" ...\n",
      " $ Asian.or.Pacific.Islander.Prevalence: chr  \"No data\" \"No data\" \"No data\" \"No data\" ...\n",
      " $ Asian.or.Pacific.Islander.Lower.CI  : chr  \"No data\" \"No data\" \"No data\" \"No data\" ...\n",
      " $ Asian.or.Pacific.Islander.Upper.CI  : chr  \"No data\" \"No data\" \"No data\" \"No data\" ...\n"
     ]
    }
   ],
   "source": [
    "str(ASD_National[, c(1:8, 24, 25, 26)])"
   ]
  },
  {
   "cell_type": "markdown",
   "metadata": {},
   "source": [
    "<div class=\"alert alert-danger alertdanger\" style=\"margin-top: 20px\">\n",
    "    <h3>\n",
    "        Quiz:\n",
    "    </h3>\n",
    "    <p>\n",
    "        Obtain feature/column names and column index of dataframe: ASD_State\n",
    "    </p>\n",
    "</div>"
   ]
  },
  {
   "cell_type": "code",
   "execution_count": 15,
   "metadata": {},
   "outputs": [],
   "source": [
    "# Write your code below and press Shift+Enter to execute \n"
   ]
  },
  {
   "cell_type": "markdown",
   "metadata": {},
   "source": [
    "Double-click <b>here</b> for the solution.\n",
    "\n",
    "<!-- The answer is below:\n",
    "\n",
    "# Write your code below and press Shift+Enter to execute \n",
    "cbind(names(ASD_State), c(1:length(names(ASD_State))))\n",
    "\n",
    "-->"
   ]
  },
  {
   "cell_type": "markdown",
   "metadata": {},
   "source": [
    "<div class=\"alert alert-block alert-info\" style=\"margin-top: 20px\">\n",
    "    <h3>\n",
    "    R Fundamentals - Work with dataframe\n",
    "    </h3>\n",
    "</div>\n"
   ]
  },
  {
   "cell_type": "markdown",
   "metadata": {},
   "source": [
    "**Access column 1 as a <span style=\"color:blue\">named list</span> of string/chr (dataframe alike):**"
   ]
  },
  {
   "cell_type": "code",
   "execution_count": 16,
   "metadata": {
    "scrolled": true
   },
   "outputs": [
    {
     "data": {
      "text/html": [
       "<table>\n",
       "<caption>A data.frame: 42 × 1</caption>\n",
       "<thead>\n",
       "\t<tr><th scope=col>Source</th></tr>\n",
       "\t<tr><th scope=col>&lt;chr&gt;</th></tr>\n",
       "</thead>\n",
       "<tbody>\n",
       "\t<tr><td>addm</td></tr>\n",
       "\t<tr><td>addm</td></tr>\n",
       "\t<tr><td>addm</td></tr>\n",
       "\t<tr><td>addm</td></tr>\n",
       "\t<tr><td>addm</td></tr>\n",
       "\t<tr><td>addm</td></tr>\n",
       "\t<tr><td>addm</td></tr>\n",
       "\t<tr><td>addm</td></tr>\n",
       "\t<tr><td>nsch</td></tr>\n",
       "\t<tr><td>nsch</td></tr>\n",
       "\t<tr><td>nsch</td></tr>\n",
       "\t<tr><td>nsch</td></tr>\n",
       "\t<tr><td>sped</td></tr>\n",
       "\t<tr><td>sped</td></tr>\n",
       "\t<tr><td>sped</td></tr>\n",
       "\t<tr><td>sped</td></tr>\n",
       "\t<tr><td>sped</td></tr>\n",
       "\t<tr><td>sped</td></tr>\n",
       "\t<tr><td>sped</td></tr>\n",
       "\t<tr><td>sped</td></tr>\n",
       "\t<tr><td>sped</td></tr>\n",
       "\t<tr><td>sped</td></tr>\n",
       "\t<tr><td>sped</td></tr>\n",
       "\t<tr><td>sped</td></tr>\n",
       "\t<tr><td>sped</td></tr>\n",
       "\t<tr><td>sped</td></tr>\n",
       "\t<tr><td>sped</td></tr>\n",
       "\t<tr><td>sped</td></tr>\n",
       "\t<tr><td>sped</td></tr>\n",
       "\t<tr><td>medi</td></tr>\n",
       "\t<tr><td>medi</td></tr>\n",
       "\t<tr><td>medi</td></tr>\n",
       "\t<tr><td>medi</td></tr>\n",
       "\t<tr><td>medi</td></tr>\n",
       "\t<tr><td>medi</td></tr>\n",
       "\t<tr><td>medi</td></tr>\n",
       "\t<tr><td>medi</td></tr>\n",
       "\t<tr><td>medi</td></tr>\n",
       "\t<tr><td>medi</td></tr>\n",
       "\t<tr><td>medi</td></tr>\n",
       "\t<tr><td>medi</td></tr>\n",
       "\t<tr><td>medi</td></tr>\n",
       "</tbody>\n",
       "</table>\n"
      ],
      "text/latex": [
       "A data.frame: 42 × 1\n",
       "\\begin{tabular}{r|l}\n",
       " Source\\\\\n",
       " <chr>\\\\\n",
       "\\hline\n",
       "\t addm\\\\\n",
       "\t addm\\\\\n",
       "\t addm\\\\\n",
       "\t addm\\\\\n",
       "\t addm\\\\\n",
       "\t addm\\\\\n",
       "\t addm\\\\\n",
       "\t addm\\\\\n",
       "\t nsch\\\\\n",
       "\t nsch\\\\\n",
       "\t nsch\\\\\n",
       "\t nsch\\\\\n",
       "\t sped\\\\\n",
       "\t sped\\\\\n",
       "\t sped\\\\\n",
       "\t sped\\\\\n",
       "\t sped\\\\\n",
       "\t sped\\\\\n",
       "\t sped\\\\\n",
       "\t sped\\\\\n",
       "\t sped\\\\\n",
       "\t sped\\\\\n",
       "\t sped\\\\\n",
       "\t sped\\\\\n",
       "\t sped\\\\\n",
       "\t sped\\\\\n",
       "\t sped\\\\\n",
       "\t sped\\\\\n",
       "\t sped\\\\\n",
       "\t medi\\\\\n",
       "\t medi\\\\\n",
       "\t medi\\\\\n",
       "\t medi\\\\\n",
       "\t medi\\\\\n",
       "\t medi\\\\\n",
       "\t medi\\\\\n",
       "\t medi\\\\\n",
       "\t medi\\\\\n",
       "\t medi\\\\\n",
       "\t medi\\\\\n",
       "\t medi\\\\\n",
       "\t medi\\\\\n",
       "\\end{tabular}\n"
      ],
      "text/markdown": [
       "\n",
       "A data.frame: 42 × 1\n",
       "\n",
       "| Source &lt;chr&gt; |\n",
       "|---|\n",
       "| addm |\n",
       "| addm |\n",
       "| addm |\n",
       "| addm |\n",
       "| addm |\n",
       "| addm |\n",
       "| addm |\n",
       "| addm |\n",
       "| nsch |\n",
       "| nsch |\n",
       "| nsch |\n",
       "| nsch |\n",
       "| sped |\n",
       "| sped |\n",
       "| sped |\n",
       "| sped |\n",
       "| sped |\n",
       "| sped |\n",
       "| sped |\n",
       "| sped |\n",
       "| sped |\n",
       "| sped |\n",
       "| sped |\n",
       "| sped |\n",
       "| sped |\n",
       "| sped |\n",
       "| sped |\n",
       "| sped |\n",
       "| sped |\n",
       "| medi |\n",
       "| medi |\n",
       "| medi |\n",
       "| medi |\n",
       "| medi |\n",
       "| medi |\n",
       "| medi |\n",
       "| medi |\n",
       "| medi |\n",
       "| medi |\n",
       "| medi |\n",
       "| medi |\n",
       "| medi |\n",
       "\n"
      ],
      "text/plain": [
       "   Source\n",
       "1  addm  \n",
       "2  addm  \n",
       "3  addm  \n",
       "4  addm  \n",
       "5  addm  \n",
       "6  addm  \n",
       "7  addm  \n",
       "8  addm  \n",
       "9  nsch  \n",
       "10 nsch  \n",
       "11 nsch  \n",
       "12 nsch  \n",
       "13 sped  \n",
       "14 sped  \n",
       "15 sped  \n",
       "16 sped  \n",
       "17 sped  \n",
       "18 sped  \n",
       "19 sped  \n",
       "20 sped  \n",
       "21 sped  \n",
       "22 sped  \n",
       "23 sped  \n",
       "24 sped  \n",
       "25 sped  \n",
       "26 sped  \n",
       "27 sped  \n",
       "28 sped  \n",
       "29 sped  \n",
       "30 medi  \n",
       "31 medi  \n",
       "32 medi  \n",
       "33 medi  \n",
       "34 medi  \n",
       "35 medi  \n",
       "36 medi  \n",
       "37 medi  \n",
       "38 medi  \n",
       "39 medi  \n",
       "40 medi  \n",
       "41 medi  \n",
       "42 medi  "
      ]
     },
     "metadata": {},
     "output_type": "display_data"
    }
   ],
   "source": [
    "# use column index:\n",
    "ASD_National[1]"
   ]
  },
  {
   "cell_type": "code",
   "execution_count": 17,
   "metadata": {},
   "outputs": [
    {
     "data": {
      "text/html": [
       "'list'"
      ],
      "text/latex": [
       "'list'"
      ],
      "text/markdown": [
       "'list'"
      ],
      "text/plain": [
       "[1] \"list\""
      ]
     },
     "metadata": {},
     "output_type": "display_data"
    }
   ],
   "source": [
    "typeof(ASD_National[1])"
   ]
  },
  {
   "cell_type": "code",
   "execution_count": 18,
   "metadata": {},
   "outputs": [
    {
     "data": {
      "text/html": [
       "<ol class=list-inline>\n",
       "\t<li>'addm'</li>\n",
       "\t<li>'addm'</li>\n",
       "\t<li>'addm'</li>\n",
       "\t<li>'addm'</li>\n",
       "\t<li>'addm'</li>\n",
       "\t<li>'addm'</li>\n",
       "\t<li>'addm'</li>\n",
       "\t<li>'addm'</li>\n",
       "\t<li>'nsch'</li>\n",
       "\t<li>'nsch'</li>\n",
       "\t<li>'nsch'</li>\n",
       "\t<li>'nsch'</li>\n",
       "\t<li>'sped'</li>\n",
       "\t<li>'sped'</li>\n",
       "\t<li>'sped'</li>\n",
       "\t<li>'sped'</li>\n",
       "\t<li>'sped'</li>\n",
       "\t<li>'sped'</li>\n",
       "\t<li>'sped'</li>\n",
       "\t<li>'sped'</li>\n",
       "\t<li>'sped'</li>\n",
       "\t<li>'sped'</li>\n",
       "\t<li>'sped'</li>\n",
       "\t<li>'sped'</li>\n",
       "\t<li>'sped'</li>\n",
       "\t<li>'sped'</li>\n",
       "\t<li>'sped'</li>\n",
       "\t<li>'sped'</li>\n",
       "\t<li>'sped'</li>\n",
       "\t<li>'medi'</li>\n",
       "\t<li>'medi'</li>\n",
       "\t<li>'medi'</li>\n",
       "\t<li>'medi'</li>\n",
       "\t<li>'medi'</li>\n",
       "\t<li>'medi'</li>\n",
       "\t<li>'medi'</li>\n",
       "\t<li>'medi'</li>\n",
       "\t<li>'medi'</li>\n",
       "\t<li>'medi'</li>\n",
       "\t<li>'medi'</li>\n",
       "\t<li>'medi'</li>\n",
       "\t<li>'medi'</li>\n",
       "</ol>\n"
      ],
      "text/latex": [
       "\\begin{enumerate*}\n",
       "\\item 'addm'\n",
       "\\item 'addm'\n",
       "\\item 'addm'\n",
       "\\item 'addm'\n",
       "\\item 'addm'\n",
       "\\item 'addm'\n",
       "\\item 'addm'\n",
       "\\item 'addm'\n",
       "\\item 'nsch'\n",
       "\\item 'nsch'\n",
       "\\item 'nsch'\n",
       "\\item 'nsch'\n",
       "\\item 'sped'\n",
       "\\item 'sped'\n",
       "\\item 'sped'\n",
       "\\item 'sped'\n",
       "\\item 'sped'\n",
       "\\item 'sped'\n",
       "\\item 'sped'\n",
       "\\item 'sped'\n",
       "\\item 'sped'\n",
       "\\item 'sped'\n",
       "\\item 'sped'\n",
       "\\item 'sped'\n",
       "\\item 'sped'\n",
       "\\item 'sped'\n",
       "\\item 'sped'\n",
       "\\item 'sped'\n",
       "\\item 'sped'\n",
       "\\item 'medi'\n",
       "\\item 'medi'\n",
       "\\item 'medi'\n",
       "\\item 'medi'\n",
       "\\item 'medi'\n",
       "\\item 'medi'\n",
       "\\item 'medi'\n",
       "\\item 'medi'\n",
       "\\item 'medi'\n",
       "\\item 'medi'\n",
       "\\item 'medi'\n",
       "\\item 'medi'\n",
       "\\item 'medi'\n",
       "\\end{enumerate*}\n"
      ],
      "text/markdown": [
       "1. 'addm'\n",
       "2. 'addm'\n",
       "3. 'addm'\n",
       "4. 'addm'\n",
       "5. 'addm'\n",
       "6. 'addm'\n",
       "7. 'addm'\n",
       "8. 'addm'\n",
       "9. 'nsch'\n",
       "10. 'nsch'\n",
       "11. 'nsch'\n",
       "12. 'nsch'\n",
       "13. 'sped'\n",
       "14. 'sped'\n",
       "15. 'sped'\n",
       "16. 'sped'\n",
       "17. 'sped'\n",
       "18. 'sped'\n",
       "19. 'sped'\n",
       "20. 'sped'\n",
       "21. 'sped'\n",
       "22. 'sped'\n",
       "23. 'sped'\n",
       "24. 'sped'\n",
       "25. 'sped'\n",
       "26. 'sped'\n",
       "27. 'sped'\n",
       "28. 'sped'\n",
       "29. 'sped'\n",
       "30. 'medi'\n",
       "31. 'medi'\n",
       "32. 'medi'\n",
       "33. 'medi'\n",
       "34. 'medi'\n",
       "35. 'medi'\n",
       "36. 'medi'\n",
       "37. 'medi'\n",
       "38. 'medi'\n",
       "39. 'medi'\n",
       "40. 'medi'\n",
       "41. 'medi'\n",
       "42. 'medi'\n",
       "\n",
       "\n"
      ],
      "text/plain": [
       " [1] \"addm\" \"addm\" \"addm\" \"addm\" \"addm\" \"addm\" \"addm\" \"addm\" \"nsch\" \"nsch\"\n",
       "[11] \"nsch\" \"nsch\" \"sped\" \"sped\" \"sped\" \"sped\" \"sped\" \"sped\" \"sped\" \"sped\"\n",
       "[21] \"sped\" \"sped\" \"sped\" \"sped\" \"sped\" \"sped\" \"sped\" \"sped\" \"sped\" \"medi\"\n",
       "[31] \"medi\" \"medi\" \"medi\" \"medi\" \"medi\" \"medi\" \"medi\" \"medi\" \"medi\" \"medi\"\n",
       "[41] \"medi\" \"medi\""
      ]
     },
     "metadata": {},
     "output_type": "display_data"
    }
   ],
   "source": [
    "ASD_National[1]$Source"
   ]
  },
  {
   "cell_type": "code",
   "execution_count": 19,
   "metadata": {
    "scrolled": true
   },
   "outputs": [
    {
     "data": {
      "text/html": [
       "<table>\n",
       "<caption>A data.frame: 42 × 1</caption>\n",
       "<thead>\n",
       "\t<tr><th scope=col>Source</th></tr>\n",
       "\t<tr><th scope=col>&lt;chr&gt;</th></tr>\n",
       "</thead>\n",
       "<tbody>\n",
       "\t<tr><td>addm</td></tr>\n",
       "\t<tr><td>addm</td></tr>\n",
       "\t<tr><td>addm</td></tr>\n",
       "\t<tr><td>addm</td></tr>\n",
       "\t<tr><td>addm</td></tr>\n",
       "\t<tr><td>addm</td></tr>\n",
       "\t<tr><td>addm</td></tr>\n",
       "\t<tr><td>addm</td></tr>\n",
       "\t<tr><td>nsch</td></tr>\n",
       "\t<tr><td>nsch</td></tr>\n",
       "\t<tr><td>nsch</td></tr>\n",
       "\t<tr><td>nsch</td></tr>\n",
       "\t<tr><td>sped</td></tr>\n",
       "\t<tr><td>sped</td></tr>\n",
       "\t<tr><td>sped</td></tr>\n",
       "\t<tr><td>sped</td></tr>\n",
       "\t<tr><td>sped</td></tr>\n",
       "\t<tr><td>sped</td></tr>\n",
       "\t<tr><td>sped</td></tr>\n",
       "\t<tr><td>sped</td></tr>\n",
       "\t<tr><td>sped</td></tr>\n",
       "\t<tr><td>sped</td></tr>\n",
       "\t<tr><td>sped</td></tr>\n",
       "\t<tr><td>sped</td></tr>\n",
       "\t<tr><td>sped</td></tr>\n",
       "\t<tr><td>sped</td></tr>\n",
       "\t<tr><td>sped</td></tr>\n",
       "\t<tr><td>sped</td></tr>\n",
       "\t<tr><td>sped</td></tr>\n",
       "\t<tr><td>medi</td></tr>\n",
       "\t<tr><td>medi</td></tr>\n",
       "\t<tr><td>medi</td></tr>\n",
       "\t<tr><td>medi</td></tr>\n",
       "\t<tr><td>medi</td></tr>\n",
       "\t<tr><td>medi</td></tr>\n",
       "\t<tr><td>medi</td></tr>\n",
       "\t<tr><td>medi</td></tr>\n",
       "\t<tr><td>medi</td></tr>\n",
       "\t<tr><td>medi</td></tr>\n",
       "\t<tr><td>medi</td></tr>\n",
       "\t<tr><td>medi</td></tr>\n",
       "\t<tr><td>medi</td></tr>\n",
       "</tbody>\n",
       "</table>\n"
      ],
      "text/latex": [
       "A data.frame: 42 × 1\n",
       "\\begin{tabular}{r|l}\n",
       " Source\\\\\n",
       " <chr>\\\\\n",
       "\\hline\n",
       "\t addm\\\\\n",
       "\t addm\\\\\n",
       "\t addm\\\\\n",
       "\t addm\\\\\n",
       "\t addm\\\\\n",
       "\t addm\\\\\n",
       "\t addm\\\\\n",
       "\t addm\\\\\n",
       "\t nsch\\\\\n",
       "\t nsch\\\\\n",
       "\t nsch\\\\\n",
       "\t nsch\\\\\n",
       "\t sped\\\\\n",
       "\t sped\\\\\n",
       "\t sped\\\\\n",
       "\t sped\\\\\n",
       "\t sped\\\\\n",
       "\t sped\\\\\n",
       "\t sped\\\\\n",
       "\t sped\\\\\n",
       "\t sped\\\\\n",
       "\t sped\\\\\n",
       "\t sped\\\\\n",
       "\t sped\\\\\n",
       "\t sped\\\\\n",
       "\t sped\\\\\n",
       "\t sped\\\\\n",
       "\t sped\\\\\n",
       "\t sped\\\\\n",
       "\t medi\\\\\n",
       "\t medi\\\\\n",
       "\t medi\\\\\n",
       "\t medi\\\\\n",
       "\t medi\\\\\n",
       "\t medi\\\\\n",
       "\t medi\\\\\n",
       "\t medi\\\\\n",
       "\t medi\\\\\n",
       "\t medi\\\\\n",
       "\t medi\\\\\n",
       "\t medi\\\\\n",
       "\t medi\\\\\n",
       "\\end{tabular}\n"
      ],
      "text/markdown": [
       "\n",
       "A data.frame: 42 × 1\n",
       "\n",
       "| Source &lt;chr&gt; |\n",
       "|---|\n",
       "| addm |\n",
       "| addm |\n",
       "| addm |\n",
       "| addm |\n",
       "| addm |\n",
       "| addm |\n",
       "| addm |\n",
       "| addm |\n",
       "| nsch |\n",
       "| nsch |\n",
       "| nsch |\n",
       "| nsch |\n",
       "| sped |\n",
       "| sped |\n",
       "| sped |\n",
       "| sped |\n",
       "| sped |\n",
       "| sped |\n",
       "| sped |\n",
       "| sped |\n",
       "| sped |\n",
       "| sped |\n",
       "| sped |\n",
       "| sped |\n",
       "| sped |\n",
       "| sped |\n",
       "| sped |\n",
       "| sped |\n",
       "| sped |\n",
       "| medi |\n",
       "| medi |\n",
       "| medi |\n",
       "| medi |\n",
       "| medi |\n",
       "| medi |\n",
       "| medi |\n",
       "| medi |\n",
       "| medi |\n",
       "| medi |\n",
       "| medi |\n",
       "| medi |\n",
       "| medi |\n",
       "\n"
      ],
      "text/plain": [
       "   Source\n",
       "1  addm  \n",
       "2  addm  \n",
       "3  addm  \n",
       "4  addm  \n",
       "5  addm  \n",
       "6  addm  \n",
       "7  addm  \n",
       "8  addm  \n",
       "9  nsch  \n",
       "10 nsch  \n",
       "11 nsch  \n",
       "12 nsch  \n",
       "13 sped  \n",
       "14 sped  \n",
       "15 sped  \n",
       "16 sped  \n",
       "17 sped  \n",
       "18 sped  \n",
       "19 sped  \n",
       "20 sped  \n",
       "21 sped  \n",
       "22 sped  \n",
       "23 sped  \n",
       "24 sped  \n",
       "25 sped  \n",
       "26 sped  \n",
       "27 sped  \n",
       "28 sped  \n",
       "29 sped  \n",
       "30 medi  \n",
       "31 medi  \n",
       "32 medi  \n",
       "33 medi  \n",
       "34 medi  \n",
       "35 medi  \n",
       "36 medi  \n",
       "37 medi  \n",
       "38 medi  \n",
       "39 medi  \n",
       "40 medi  \n",
       "41 medi  \n",
       "42 medi  "
      ]
     },
     "metadata": {},
     "output_type": "display_data"
    }
   ],
   "source": [
    "# use column name:\n",
    "ASD_National[\"Source\"]"
   ]
  },
  {
   "cell_type": "code",
   "execution_count": 20,
   "metadata": {},
   "outputs": [
    {
     "data": {
      "text/html": [
       "'list'"
      ],
      "text/latex": [
       "'list'"
      ],
      "text/markdown": [
       "'list'"
      ],
      "text/plain": [
       "[1] \"list\""
      ]
     },
     "metadata": {},
     "output_type": "display_data"
    }
   ],
   "source": [
    "typeof(ASD_National['Source'])"
   ]
  },
  {
   "cell_type": "code",
   "execution_count": 21,
   "metadata": {},
   "outputs": [
    {
     "data": {
      "text/html": [
       "<ol class=list-inline>\n",
       "\t<li>'addm'</li>\n",
       "\t<li>'addm'</li>\n",
       "\t<li>'addm'</li>\n",
       "\t<li>'addm'</li>\n",
       "\t<li>'addm'</li>\n",
       "\t<li>'addm'</li>\n",
       "\t<li>'addm'</li>\n",
       "\t<li>'addm'</li>\n",
       "\t<li>'nsch'</li>\n",
       "\t<li>'nsch'</li>\n",
       "\t<li>'nsch'</li>\n",
       "\t<li>'nsch'</li>\n",
       "\t<li>'sped'</li>\n",
       "\t<li>'sped'</li>\n",
       "\t<li>'sped'</li>\n",
       "\t<li>'sped'</li>\n",
       "\t<li>'sped'</li>\n",
       "\t<li>'sped'</li>\n",
       "\t<li>'sped'</li>\n",
       "\t<li>'sped'</li>\n",
       "\t<li>'sped'</li>\n",
       "\t<li>'sped'</li>\n",
       "\t<li>'sped'</li>\n",
       "\t<li>'sped'</li>\n",
       "\t<li>'sped'</li>\n",
       "\t<li>'sped'</li>\n",
       "\t<li>'sped'</li>\n",
       "\t<li>'sped'</li>\n",
       "\t<li>'sped'</li>\n",
       "\t<li>'medi'</li>\n",
       "\t<li>'medi'</li>\n",
       "\t<li>'medi'</li>\n",
       "\t<li>'medi'</li>\n",
       "\t<li>'medi'</li>\n",
       "\t<li>'medi'</li>\n",
       "\t<li>'medi'</li>\n",
       "\t<li>'medi'</li>\n",
       "\t<li>'medi'</li>\n",
       "\t<li>'medi'</li>\n",
       "\t<li>'medi'</li>\n",
       "\t<li>'medi'</li>\n",
       "\t<li>'medi'</li>\n",
       "</ol>\n"
      ],
      "text/latex": [
       "\\begin{enumerate*}\n",
       "\\item 'addm'\n",
       "\\item 'addm'\n",
       "\\item 'addm'\n",
       "\\item 'addm'\n",
       "\\item 'addm'\n",
       "\\item 'addm'\n",
       "\\item 'addm'\n",
       "\\item 'addm'\n",
       "\\item 'nsch'\n",
       "\\item 'nsch'\n",
       "\\item 'nsch'\n",
       "\\item 'nsch'\n",
       "\\item 'sped'\n",
       "\\item 'sped'\n",
       "\\item 'sped'\n",
       "\\item 'sped'\n",
       "\\item 'sped'\n",
       "\\item 'sped'\n",
       "\\item 'sped'\n",
       "\\item 'sped'\n",
       "\\item 'sped'\n",
       "\\item 'sped'\n",
       "\\item 'sped'\n",
       "\\item 'sped'\n",
       "\\item 'sped'\n",
       "\\item 'sped'\n",
       "\\item 'sped'\n",
       "\\item 'sped'\n",
       "\\item 'sped'\n",
       "\\item 'medi'\n",
       "\\item 'medi'\n",
       "\\item 'medi'\n",
       "\\item 'medi'\n",
       "\\item 'medi'\n",
       "\\item 'medi'\n",
       "\\item 'medi'\n",
       "\\item 'medi'\n",
       "\\item 'medi'\n",
       "\\item 'medi'\n",
       "\\item 'medi'\n",
       "\\item 'medi'\n",
       "\\item 'medi'\n",
       "\\end{enumerate*}\n"
      ],
      "text/markdown": [
       "1. 'addm'\n",
       "2. 'addm'\n",
       "3. 'addm'\n",
       "4. 'addm'\n",
       "5. 'addm'\n",
       "6. 'addm'\n",
       "7. 'addm'\n",
       "8. 'addm'\n",
       "9. 'nsch'\n",
       "10. 'nsch'\n",
       "11. 'nsch'\n",
       "12. 'nsch'\n",
       "13. 'sped'\n",
       "14. 'sped'\n",
       "15. 'sped'\n",
       "16. 'sped'\n",
       "17. 'sped'\n",
       "18. 'sped'\n",
       "19. 'sped'\n",
       "20. 'sped'\n",
       "21. 'sped'\n",
       "22. 'sped'\n",
       "23. 'sped'\n",
       "24. 'sped'\n",
       "25. 'sped'\n",
       "26. 'sped'\n",
       "27. 'sped'\n",
       "28. 'sped'\n",
       "29. 'sped'\n",
       "30. 'medi'\n",
       "31. 'medi'\n",
       "32. 'medi'\n",
       "33. 'medi'\n",
       "34. 'medi'\n",
       "35. 'medi'\n",
       "36. 'medi'\n",
       "37. 'medi'\n",
       "38. 'medi'\n",
       "39. 'medi'\n",
       "40. 'medi'\n",
       "41. 'medi'\n",
       "42. 'medi'\n",
       "\n",
       "\n"
      ],
      "text/plain": [
       " [1] \"addm\" \"addm\" \"addm\" \"addm\" \"addm\" \"addm\" \"addm\" \"addm\" \"nsch\" \"nsch\"\n",
       "[11] \"nsch\" \"nsch\" \"sped\" \"sped\" \"sped\" \"sped\" \"sped\" \"sped\" \"sped\" \"sped\"\n",
       "[21] \"sped\" \"sped\" \"sped\" \"sped\" \"sped\" \"sped\" \"sped\" \"sped\" \"sped\" \"medi\"\n",
       "[31] \"medi\" \"medi\" \"medi\" \"medi\" \"medi\" \"medi\" \"medi\" \"medi\" \"medi\" \"medi\"\n",
       "[41] \"medi\" \"medi\""
      ]
     },
     "metadata": {},
     "output_type": "display_data"
    }
   ],
   "source": [
    "ASD_National['Source']$Source"
   ]
  },
  {
   "cell_type": "markdown",
   "metadata": {},
   "source": [
    "**Access column 1 as a set of string/chr:**"
   ]
  },
  {
   "cell_type": "code",
   "execution_count": 22,
   "metadata": {},
   "outputs": [
    {
     "data": {
      "text/html": [
       "<ol class=list-inline>\n",
       "\t<li>'addm'</li>\n",
       "\t<li>'addm'</li>\n",
       "\t<li>'addm'</li>\n",
       "\t<li>'addm'</li>\n",
       "\t<li>'addm'</li>\n",
       "\t<li>'addm'</li>\n",
       "\t<li>'addm'</li>\n",
       "\t<li>'addm'</li>\n",
       "\t<li>'nsch'</li>\n",
       "\t<li>'nsch'</li>\n",
       "\t<li>'nsch'</li>\n",
       "\t<li>'nsch'</li>\n",
       "\t<li>'sped'</li>\n",
       "\t<li>'sped'</li>\n",
       "\t<li>'sped'</li>\n",
       "\t<li>'sped'</li>\n",
       "\t<li>'sped'</li>\n",
       "\t<li>'sped'</li>\n",
       "\t<li>'sped'</li>\n",
       "\t<li>'sped'</li>\n",
       "\t<li>'sped'</li>\n",
       "\t<li>'sped'</li>\n",
       "\t<li>'sped'</li>\n",
       "\t<li>'sped'</li>\n",
       "\t<li>'sped'</li>\n",
       "\t<li>'sped'</li>\n",
       "\t<li>'sped'</li>\n",
       "\t<li>'sped'</li>\n",
       "\t<li>'sped'</li>\n",
       "\t<li>'medi'</li>\n",
       "\t<li>'medi'</li>\n",
       "\t<li>'medi'</li>\n",
       "\t<li>'medi'</li>\n",
       "\t<li>'medi'</li>\n",
       "\t<li>'medi'</li>\n",
       "\t<li>'medi'</li>\n",
       "\t<li>'medi'</li>\n",
       "\t<li>'medi'</li>\n",
       "\t<li>'medi'</li>\n",
       "\t<li>'medi'</li>\n",
       "\t<li>'medi'</li>\n",
       "\t<li>'medi'</li>\n",
       "</ol>\n"
      ],
      "text/latex": [
       "\\begin{enumerate*}\n",
       "\\item 'addm'\n",
       "\\item 'addm'\n",
       "\\item 'addm'\n",
       "\\item 'addm'\n",
       "\\item 'addm'\n",
       "\\item 'addm'\n",
       "\\item 'addm'\n",
       "\\item 'addm'\n",
       "\\item 'nsch'\n",
       "\\item 'nsch'\n",
       "\\item 'nsch'\n",
       "\\item 'nsch'\n",
       "\\item 'sped'\n",
       "\\item 'sped'\n",
       "\\item 'sped'\n",
       "\\item 'sped'\n",
       "\\item 'sped'\n",
       "\\item 'sped'\n",
       "\\item 'sped'\n",
       "\\item 'sped'\n",
       "\\item 'sped'\n",
       "\\item 'sped'\n",
       "\\item 'sped'\n",
       "\\item 'sped'\n",
       "\\item 'sped'\n",
       "\\item 'sped'\n",
       "\\item 'sped'\n",
       "\\item 'sped'\n",
       "\\item 'sped'\n",
       "\\item 'medi'\n",
       "\\item 'medi'\n",
       "\\item 'medi'\n",
       "\\item 'medi'\n",
       "\\item 'medi'\n",
       "\\item 'medi'\n",
       "\\item 'medi'\n",
       "\\item 'medi'\n",
       "\\item 'medi'\n",
       "\\item 'medi'\n",
       "\\item 'medi'\n",
       "\\item 'medi'\n",
       "\\item 'medi'\n",
       "\\end{enumerate*}\n"
      ],
      "text/markdown": [
       "1. 'addm'\n",
       "2. 'addm'\n",
       "3. 'addm'\n",
       "4. 'addm'\n",
       "5. 'addm'\n",
       "6. 'addm'\n",
       "7. 'addm'\n",
       "8. 'addm'\n",
       "9. 'nsch'\n",
       "10. 'nsch'\n",
       "11. 'nsch'\n",
       "12. 'nsch'\n",
       "13. 'sped'\n",
       "14. 'sped'\n",
       "15. 'sped'\n",
       "16. 'sped'\n",
       "17. 'sped'\n",
       "18. 'sped'\n",
       "19. 'sped'\n",
       "20. 'sped'\n",
       "21. 'sped'\n",
       "22. 'sped'\n",
       "23. 'sped'\n",
       "24. 'sped'\n",
       "25. 'sped'\n",
       "26. 'sped'\n",
       "27. 'sped'\n",
       "28. 'sped'\n",
       "29. 'sped'\n",
       "30. 'medi'\n",
       "31. 'medi'\n",
       "32. 'medi'\n",
       "33. 'medi'\n",
       "34. 'medi'\n",
       "35. 'medi'\n",
       "36. 'medi'\n",
       "37. 'medi'\n",
       "38. 'medi'\n",
       "39. 'medi'\n",
       "40. 'medi'\n",
       "41. 'medi'\n",
       "42. 'medi'\n",
       "\n",
       "\n"
      ],
      "text/plain": [
       " [1] \"addm\" \"addm\" \"addm\" \"addm\" \"addm\" \"addm\" \"addm\" \"addm\" \"nsch\" \"nsch\"\n",
       "[11] \"nsch\" \"nsch\" \"sped\" \"sped\" \"sped\" \"sped\" \"sped\" \"sped\" \"sped\" \"sped\"\n",
       "[21] \"sped\" \"sped\" \"sped\" \"sped\" \"sped\" \"sped\" \"sped\" \"sped\" \"sped\" \"medi\"\n",
       "[31] \"medi\" \"medi\" \"medi\" \"medi\" \"medi\" \"medi\" \"medi\" \"medi\" \"medi\" \"medi\"\n",
       "[41] \"medi\" \"medi\""
      ]
     },
     "metadata": {},
     "output_type": "display_data"
    }
   ],
   "source": [
    "ASD_National[, 1]"
   ]
  },
  {
   "cell_type": "code",
   "execution_count": 23,
   "metadata": {},
   "outputs": [
    {
     "data": {
      "text/html": [
       "'character'"
      ],
      "text/latex": [
       "'character'"
      ],
      "text/markdown": [
       "'character'"
      ],
      "text/plain": [
       "[1] \"character\""
      ]
     },
     "metadata": {},
     "output_type": "display_data"
    }
   ],
   "source": [
    "typeof(ASD_National[, 1])"
   ]
  },
  {
   "cell_type": "code",
   "execution_count": 24,
   "metadata": {},
   "outputs": [
    {
     "data": {
      "text/html": [
       "<ol class=list-inline>\n",
       "\t<li>'addm'</li>\n",
       "\t<li>'addm'</li>\n",
       "\t<li>'addm'</li>\n",
       "\t<li>'addm'</li>\n",
       "\t<li>'addm'</li>\n",
       "\t<li>'addm'</li>\n",
       "\t<li>'addm'</li>\n",
       "\t<li>'addm'</li>\n",
       "\t<li>'nsch'</li>\n",
       "\t<li>'nsch'</li>\n",
       "\t<li>'nsch'</li>\n",
       "\t<li>'nsch'</li>\n",
       "\t<li>'sped'</li>\n",
       "\t<li>'sped'</li>\n",
       "\t<li>'sped'</li>\n",
       "\t<li>'sped'</li>\n",
       "\t<li>'sped'</li>\n",
       "\t<li>'sped'</li>\n",
       "\t<li>'sped'</li>\n",
       "\t<li>'sped'</li>\n",
       "\t<li>'sped'</li>\n",
       "\t<li>'sped'</li>\n",
       "\t<li>'sped'</li>\n",
       "\t<li>'sped'</li>\n",
       "\t<li>'sped'</li>\n",
       "\t<li>'sped'</li>\n",
       "\t<li>'sped'</li>\n",
       "\t<li>'sped'</li>\n",
       "\t<li>'sped'</li>\n",
       "\t<li>'medi'</li>\n",
       "\t<li>'medi'</li>\n",
       "\t<li>'medi'</li>\n",
       "\t<li>'medi'</li>\n",
       "\t<li>'medi'</li>\n",
       "\t<li>'medi'</li>\n",
       "\t<li>'medi'</li>\n",
       "\t<li>'medi'</li>\n",
       "\t<li>'medi'</li>\n",
       "\t<li>'medi'</li>\n",
       "\t<li>'medi'</li>\n",
       "\t<li>'medi'</li>\n",
       "\t<li>'medi'</li>\n",
       "</ol>\n"
      ],
      "text/latex": [
       "\\begin{enumerate*}\n",
       "\\item 'addm'\n",
       "\\item 'addm'\n",
       "\\item 'addm'\n",
       "\\item 'addm'\n",
       "\\item 'addm'\n",
       "\\item 'addm'\n",
       "\\item 'addm'\n",
       "\\item 'addm'\n",
       "\\item 'nsch'\n",
       "\\item 'nsch'\n",
       "\\item 'nsch'\n",
       "\\item 'nsch'\n",
       "\\item 'sped'\n",
       "\\item 'sped'\n",
       "\\item 'sped'\n",
       "\\item 'sped'\n",
       "\\item 'sped'\n",
       "\\item 'sped'\n",
       "\\item 'sped'\n",
       "\\item 'sped'\n",
       "\\item 'sped'\n",
       "\\item 'sped'\n",
       "\\item 'sped'\n",
       "\\item 'sped'\n",
       "\\item 'sped'\n",
       "\\item 'sped'\n",
       "\\item 'sped'\n",
       "\\item 'sped'\n",
       "\\item 'sped'\n",
       "\\item 'medi'\n",
       "\\item 'medi'\n",
       "\\item 'medi'\n",
       "\\item 'medi'\n",
       "\\item 'medi'\n",
       "\\item 'medi'\n",
       "\\item 'medi'\n",
       "\\item 'medi'\n",
       "\\item 'medi'\n",
       "\\item 'medi'\n",
       "\\item 'medi'\n",
       "\\item 'medi'\n",
       "\\item 'medi'\n",
       "\\end{enumerate*}\n"
      ],
      "text/markdown": [
       "1. 'addm'\n",
       "2. 'addm'\n",
       "3. 'addm'\n",
       "4. 'addm'\n",
       "5. 'addm'\n",
       "6. 'addm'\n",
       "7. 'addm'\n",
       "8. 'addm'\n",
       "9. 'nsch'\n",
       "10. 'nsch'\n",
       "11. 'nsch'\n",
       "12. 'nsch'\n",
       "13. 'sped'\n",
       "14. 'sped'\n",
       "15. 'sped'\n",
       "16. 'sped'\n",
       "17. 'sped'\n",
       "18. 'sped'\n",
       "19. 'sped'\n",
       "20. 'sped'\n",
       "21. 'sped'\n",
       "22. 'sped'\n",
       "23. 'sped'\n",
       "24. 'sped'\n",
       "25. 'sped'\n",
       "26. 'sped'\n",
       "27. 'sped'\n",
       "28. 'sped'\n",
       "29. 'sped'\n",
       "30. 'medi'\n",
       "31. 'medi'\n",
       "32. 'medi'\n",
       "33. 'medi'\n",
       "34. 'medi'\n",
       "35. 'medi'\n",
       "36. 'medi'\n",
       "37. 'medi'\n",
       "38. 'medi'\n",
       "39. 'medi'\n",
       "40. 'medi'\n",
       "41. 'medi'\n",
       "42. 'medi'\n",
       "\n",
       "\n"
      ],
      "text/plain": [
       " [1] \"addm\" \"addm\" \"addm\" \"addm\" \"addm\" \"addm\" \"addm\" \"addm\" \"nsch\" \"nsch\"\n",
       "[11] \"nsch\" \"nsch\" \"sped\" \"sped\" \"sped\" \"sped\" \"sped\" \"sped\" \"sped\" \"sped\"\n",
       "[21] \"sped\" \"sped\" \"sped\" \"sped\" \"sped\" \"sped\" \"sped\" \"sped\" \"sped\" \"medi\"\n",
       "[31] \"medi\" \"medi\" \"medi\" \"medi\" \"medi\" \"medi\" \"medi\" \"medi\" \"medi\" \"medi\"\n",
       "[41] \"medi\" \"medi\""
      ]
     },
     "metadata": {},
     "output_type": "display_data"
    }
   ],
   "source": [
    "ASD_National[, 1]"
   ]
  },
  {
   "cell_type": "code",
   "execution_count": 25,
   "metadata": {},
   "outputs": [
    {
     "data": {
      "text/html": [
       "<ol class=list-inline>\n",
       "\t<li>'addm'</li>\n",
       "\t<li>'addm'</li>\n",
       "\t<li>'addm'</li>\n",
       "\t<li>'addm'</li>\n",
       "\t<li>'addm'</li>\n",
       "\t<li>'addm'</li>\n",
       "\t<li>'addm'</li>\n",
       "\t<li>'addm'</li>\n",
       "\t<li>'nsch'</li>\n",
       "\t<li>'nsch'</li>\n",
       "\t<li>'nsch'</li>\n",
       "\t<li>'nsch'</li>\n",
       "\t<li>'sped'</li>\n",
       "\t<li>'sped'</li>\n",
       "\t<li>'sped'</li>\n",
       "\t<li>'sped'</li>\n",
       "\t<li>'sped'</li>\n",
       "\t<li>'sped'</li>\n",
       "\t<li>'sped'</li>\n",
       "\t<li>'sped'</li>\n",
       "\t<li>'sped'</li>\n",
       "\t<li>'sped'</li>\n",
       "\t<li>'sped'</li>\n",
       "\t<li>'sped'</li>\n",
       "\t<li>'sped'</li>\n",
       "\t<li>'sped'</li>\n",
       "\t<li>'sped'</li>\n",
       "\t<li>'sped'</li>\n",
       "\t<li>'sped'</li>\n",
       "\t<li>'medi'</li>\n",
       "\t<li>'medi'</li>\n",
       "\t<li>'medi'</li>\n",
       "\t<li>'medi'</li>\n",
       "\t<li>'medi'</li>\n",
       "\t<li>'medi'</li>\n",
       "\t<li>'medi'</li>\n",
       "\t<li>'medi'</li>\n",
       "\t<li>'medi'</li>\n",
       "\t<li>'medi'</li>\n",
       "\t<li>'medi'</li>\n",
       "\t<li>'medi'</li>\n",
       "\t<li>'medi'</li>\n",
       "</ol>\n"
      ],
      "text/latex": [
       "\\begin{enumerate*}\n",
       "\\item 'addm'\n",
       "\\item 'addm'\n",
       "\\item 'addm'\n",
       "\\item 'addm'\n",
       "\\item 'addm'\n",
       "\\item 'addm'\n",
       "\\item 'addm'\n",
       "\\item 'addm'\n",
       "\\item 'nsch'\n",
       "\\item 'nsch'\n",
       "\\item 'nsch'\n",
       "\\item 'nsch'\n",
       "\\item 'sped'\n",
       "\\item 'sped'\n",
       "\\item 'sped'\n",
       "\\item 'sped'\n",
       "\\item 'sped'\n",
       "\\item 'sped'\n",
       "\\item 'sped'\n",
       "\\item 'sped'\n",
       "\\item 'sped'\n",
       "\\item 'sped'\n",
       "\\item 'sped'\n",
       "\\item 'sped'\n",
       "\\item 'sped'\n",
       "\\item 'sped'\n",
       "\\item 'sped'\n",
       "\\item 'sped'\n",
       "\\item 'sped'\n",
       "\\item 'medi'\n",
       "\\item 'medi'\n",
       "\\item 'medi'\n",
       "\\item 'medi'\n",
       "\\item 'medi'\n",
       "\\item 'medi'\n",
       "\\item 'medi'\n",
       "\\item 'medi'\n",
       "\\item 'medi'\n",
       "\\item 'medi'\n",
       "\\item 'medi'\n",
       "\\item 'medi'\n",
       "\\item 'medi'\n",
       "\\end{enumerate*}\n"
      ],
      "text/markdown": [
       "1. 'addm'\n",
       "2. 'addm'\n",
       "3. 'addm'\n",
       "4. 'addm'\n",
       "5. 'addm'\n",
       "6. 'addm'\n",
       "7. 'addm'\n",
       "8. 'addm'\n",
       "9. 'nsch'\n",
       "10. 'nsch'\n",
       "11. 'nsch'\n",
       "12. 'nsch'\n",
       "13. 'sped'\n",
       "14. 'sped'\n",
       "15. 'sped'\n",
       "16. 'sped'\n",
       "17. 'sped'\n",
       "18. 'sped'\n",
       "19. 'sped'\n",
       "20. 'sped'\n",
       "21. 'sped'\n",
       "22. 'sped'\n",
       "23. 'sped'\n",
       "24. 'sped'\n",
       "25. 'sped'\n",
       "26. 'sped'\n",
       "27. 'sped'\n",
       "28. 'sped'\n",
       "29. 'sped'\n",
       "30. 'medi'\n",
       "31. 'medi'\n",
       "32. 'medi'\n",
       "33. 'medi'\n",
       "34. 'medi'\n",
       "35. 'medi'\n",
       "36. 'medi'\n",
       "37. 'medi'\n",
       "38. 'medi'\n",
       "39. 'medi'\n",
       "40. 'medi'\n",
       "41. 'medi'\n",
       "42. 'medi'\n",
       "\n",
       "\n"
      ],
      "text/plain": [
       " [1] \"addm\" \"addm\" \"addm\" \"addm\" \"addm\" \"addm\" \"addm\" \"addm\" \"nsch\" \"nsch\"\n",
       "[11] \"nsch\" \"nsch\" \"sped\" \"sped\" \"sped\" \"sped\" \"sped\" \"sped\" \"sped\" \"sped\"\n",
       "[21] \"sped\" \"sped\" \"sped\" \"sped\" \"sped\" \"sped\" \"sped\" \"sped\" \"sped\" \"medi\"\n",
       "[31] \"medi\" \"medi\" \"medi\" \"medi\" \"medi\" \"medi\" \"medi\" \"medi\" \"medi\" \"medi\"\n",
       "[41] \"medi\" \"medi\""
      ]
     },
     "metadata": {},
     "output_type": "display_data"
    }
   ],
   "source": [
    "# or\n",
    "ASD_National[, \"Source\"]"
   ]
  },
  {
   "cell_type": "code",
   "execution_count": 26,
   "metadata": {},
   "outputs": [
    {
     "data": {
      "text/html": [
       "<ol class=list-inline>\n",
       "\t<li>'addm'</li>\n",
       "\t<li>'addm'</li>\n",
       "\t<li>'addm'</li>\n",
       "\t<li>'addm'</li>\n",
       "\t<li>'addm'</li>\n",
       "\t<li>'addm'</li>\n",
       "\t<li>'addm'</li>\n",
       "\t<li>'addm'</li>\n",
       "\t<li>'nsch'</li>\n",
       "\t<li>'nsch'</li>\n",
       "\t<li>'nsch'</li>\n",
       "\t<li>'nsch'</li>\n",
       "\t<li>'sped'</li>\n",
       "\t<li>'sped'</li>\n",
       "\t<li>'sped'</li>\n",
       "\t<li>'sped'</li>\n",
       "\t<li>'sped'</li>\n",
       "\t<li>'sped'</li>\n",
       "\t<li>'sped'</li>\n",
       "\t<li>'sped'</li>\n",
       "\t<li>'sped'</li>\n",
       "\t<li>'sped'</li>\n",
       "\t<li>'sped'</li>\n",
       "\t<li>'sped'</li>\n",
       "\t<li>'sped'</li>\n",
       "\t<li>'sped'</li>\n",
       "\t<li>'sped'</li>\n",
       "\t<li>'sped'</li>\n",
       "\t<li>'sped'</li>\n",
       "\t<li>'medi'</li>\n",
       "\t<li>'medi'</li>\n",
       "\t<li>'medi'</li>\n",
       "\t<li>'medi'</li>\n",
       "\t<li>'medi'</li>\n",
       "\t<li>'medi'</li>\n",
       "\t<li>'medi'</li>\n",
       "\t<li>'medi'</li>\n",
       "\t<li>'medi'</li>\n",
       "\t<li>'medi'</li>\n",
       "\t<li>'medi'</li>\n",
       "\t<li>'medi'</li>\n",
       "\t<li>'medi'</li>\n",
       "</ol>\n"
      ],
      "text/latex": [
       "\\begin{enumerate*}\n",
       "\\item 'addm'\n",
       "\\item 'addm'\n",
       "\\item 'addm'\n",
       "\\item 'addm'\n",
       "\\item 'addm'\n",
       "\\item 'addm'\n",
       "\\item 'addm'\n",
       "\\item 'addm'\n",
       "\\item 'nsch'\n",
       "\\item 'nsch'\n",
       "\\item 'nsch'\n",
       "\\item 'nsch'\n",
       "\\item 'sped'\n",
       "\\item 'sped'\n",
       "\\item 'sped'\n",
       "\\item 'sped'\n",
       "\\item 'sped'\n",
       "\\item 'sped'\n",
       "\\item 'sped'\n",
       "\\item 'sped'\n",
       "\\item 'sped'\n",
       "\\item 'sped'\n",
       "\\item 'sped'\n",
       "\\item 'sped'\n",
       "\\item 'sped'\n",
       "\\item 'sped'\n",
       "\\item 'sped'\n",
       "\\item 'sped'\n",
       "\\item 'sped'\n",
       "\\item 'medi'\n",
       "\\item 'medi'\n",
       "\\item 'medi'\n",
       "\\item 'medi'\n",
       "\\item 'medi'\n",
       "\\item 'medi'\n",
       "\\item 'medi'\n",
       "\\item 'medi'\n",
       "\\item 'medi'\n",
       "\\item 'medi'\n",
       "\\item 'medi'\n",
       "\\item 'medi'\n",
       "\\item 'medi'\n",
       "\\end{enumerate*}\n"
      ],
      "text/markdown": [
       "1. 'addm'\n",
       "2. 'addm'\n",
       "3. 'addm'\n",
       "4. 'addm'\n",
       "5. 'addm'\n",
       "6. 'addm'\n",
       "7. 'addm'\n",
       "8. 'addm'\n",
       "9. 'nsch'\n",
       "10. 'nsch'\n",
       "11. 'nsch'\n",
       "12. 'nsch'\n",
       "13. 'sped'\n",
       "14. 'sped'\n",
       "15. 'sped'\n",
       "16. 'sped'\n",
       "17. 'sped'\n",
       "18. 'sped'\n",
       "19. 'sped'\n",
       "20. 'sped'\n",
       "21. 'sped'\n",
       "22. 'sped'\n",
       "23. 'sped'\n",
       "24. 'sped'\n",
       "25. 'sped'\n",
       "26. 'sped'\n",
       "27. 'sped'\n",
       "28. 'sped'\n",
       "29. 'sped'\n",
       "30. 'medi'\n",
       "31. 'medi'\n",
       "32. 'medi'\n",
       "33. 'medi'\n",
       "34. 'medi'\n",
       "35. 'medi'\n",
       "36. 'medi'\n",
       "37. 'medi'\n",
       "38. 'medi'\n",
       "39. 'medi'\n",
       "40. 'medi'\n",
       "41. 'medi'\n",
       "42. 'medi'\n",
       "\n",
       "\n"
      ],
      "text/plain": [
       " [1] \"addm\" \"addm\" \"addm\" \"addm\" \"addm\" \"addm\" \"addm\" \"addm\" \"nsch\" \"nsch\"\n",
       "[11] \"nsch\" \"nsch\" \"sped\" \"sped\" \"sped\" \"sped\" \"sped\" \"sped\" \"sped\" \"sped\"\n",
       "[21] \"sped\" \"sped\" \"sped\" \"sped\" \"sped\" \"sped\" \"sped\" \"sped\" \"sped\" \"medi\"\n",
       "[31] \"medi\" \"medi\" \"medi\" \"medi\" \"medi\" \"medi\" \"medi\" \"medi\" \"medi\" \"medi\"\n",
       "[41] \"medi\" \"medi\""
      ]
     },
     "metadata": {},
     "output_type": "display_data"
    }
   ],
   "source": [
    "# or\n",
    "ASD_National$Source"
   ]
  },
  {
   "cell_type": "markdown",
   "metadata": {},
   "source": [
    "**Count number of elements in a object:**"
   ]
  },
  {
   "cell_type": "code",
   "execution_count": 27,
   "metadata": {},
   "outputs": [
    {
     "data": {
      "text/html": [
       "26"
      ],
      "text/latex": [
       "26"
      ],
      "text/markdown": [
       "26"
      ],
      "text/plain": [
       "[1] 26"
      ]
     },
     "metadata": {},
     "output_type": "display_data"
    }
   ],
   "source": [
    "length(ASD_National) # number of features/columns"
   ]
  },
  {
   "cell_type": "code",
   "execution_count": 28,
   "metadata": {},
   "outputs": [
    {
     "data": {
      "text/html": [
       "26"
      ],
      "text/latex": [
       "26"
      ],
      "text/markdown": [
       "26"
      ],
      "text/plain": [
       "[1] 26"
      ]
     },
     "metadata": {},
     "output_type": "display_data"
    }
   ],
   "source": [
    "length(ASD_National[1, ]) # number of features/columns"
   ]
  },
  {
   "cell_type": "code",
   "execution_count": 29,
   "metadata": {},
   "outputs": [
    {
     "data": {
      "text/html": [
       "42"
      ],
      "text/latex": [
       "42"
      ],
      "text/markdown": [
       "42"
      ],
      "text/plain": [
       "[1] 42"
      ]
     },
     "metadata": {},
     "output_type": "display_data"
    }
   ],
   "source": [
    "length(ASD_National[, 1]) # number of elements(rows) in column 1"
   ]
  },
  {
   "cell_type": "code",
   "execution_count": 30,
   "metadata": {},
   "outputs": [
    {
     "data": {
      "text/html": [
       "42"
      ],
      "text/latex": [
       "42"
      ],
      "text/markdown": [
       "42"
      ],
      "text/plain": [
       "[1] 42"
      ]
     },
     "metadata": {},
     "output_type": "display_data"
    }
   ],
   "source": [
    "length(ASD_National[, \"Source\"]) # same as above"
   ]
  },
  {
   "cell_type": "code",
   "execution_count": 31,
   "metadata": {},
   "outputs": [
    {
     "data": {
      "text/html": [
       "42"
      ],
      "text/latex": [
       "42"
      ],
      "text/markdown": [
       "42"
      ],
      "text/plain": [
       "[1] 42"
      ]
     },
     "metadata": {},
     "output_type": "display_data"
    }
   ],
   "source": [
    "length(ASD_National$Source) # number of elements in chr list"
   ]
  },
  {
   "cell_type": "markdown",
   "metadata": {},
   "source": [
    "**Access elements from column 1, which is a list:**"
   ]
  },
  {
   "cell_type": "code",
   "execution_count": 32,
   "metadata": {},
   "outputs": [
    {
     "data": {
      "text/html": [
       "'addm'"
      ],
      "text/latex": [
       "'addm'"
      ],
      "text/markdown": [
       "'addm'"
      ],
      "text/plain": [
       "[1] \"addm\""
      ]
     },
     "metadata": {},
     "output_type": "display_data"
    }
   ],
   "source": [
    "# using column index\n",
    "ASD_National[1][1, ]"
   ]
  },
  {
   "cell_type": "code",
   "execution_count": 33,
   "metadata": {},
   "outputs": [
    {
     "data": {
      "text/html": [
       "'nsch'"
      ],
      "text/latex": [
       "'nsch'"
      ],
      "text/markdown": [
       "'nsch'"
      ],
      "text/plain": [
       "[1] \"nsch\""
      ]
     },
     "metadata": {},
     "output_type": "display_data"
    }
   ],
   "source": [
    "ASD_National[1][11, ]"
   ]
  },
  {
   "cell_type": "code",
   "execution_count": 34,
   "metadata": {},
   "outputs": [
    {
     "data": {
      "text/html": [
       "<ol class=list-inline>\n",
       "\t<li>'nsch'</li>\n",
       "\t<li>'nsch'</li>\n",
       "\t<li>'sped'</li>\n",
       "\t<li>'sped'</li>\n",
       "\t<li>'sped'</li>\n",
       "\t<li>'sped'</li>\n",
       "\t<li>'sped'</li>\n",
       "\t<li>'sped'</li>\n",
       "\t<li>'sped'</li>\n",
       "\t<li>'sped'</li>\n",
       "</ol>\n"
      ],
      "text/latex": [
       "\\begin{enumerate*}\n",
       "\\item 'nsch'\n",
       "\\item 'nsch'\n",
       "\\item 'sped'\n",
       "\\item 'sped'\n",
       "\\item 'sped'\n",
       "\\item 'sped'\n",
       "\\item 'sped'\n",
       "\\item 'sped'\n",
       "\\item 'sped'\n",
       "\\item 'sped'\n",
       "\\end{enumerate*}\n"
      ],
      "text/markdown": [
       "1. 'nsch'\n",
       "2. 'nsch'\n",
       "3. 'sped'\n",
       "4. 'sped'\n",
       "5. 'sped'\n",
       "6. 'sped'\n",
       "7. 'sped'\n",
       "8. 'sped'\n",
       "9. 'sped'\n",
       "10. 'sped'\n",
       "\n",
       "\n"
      ],
      "text/plain": [
       " [1] \"nsch\" \"nsch\" \"sped\" \"sped\" \"sped\" \"sped\" \"sped\" \"sped\" \"sped\" \"sped\""
      ]
     },
     "metadata": {},
     "output_type": "display_data"
    }
   ],
   "source": [
    "ASD_National[1][11:20, ]"
   ]
  },
  {
   "cell_type": "code",
   "execution_count": 39,
   "metadata": {},
   "outputs": [
    {
     "data": {
      "text/html": [
       "'addm'"
      ],
      "text/latex": [
       "'addm'"
      ],
      "text/markdown": [
       "'addm'"
      ],
      "text/plain": [
       "[1] \"addm\""
      ]
     },
     "metadata": {},
     "output_type": "display_data"
    }
   ],
   "source": [
    "# using column name\n",
    "ASD_National[\"Source\"][1, ]"
   ]
  },
  {
   "cell_type": "code",
   "execution_count": 40,
   "metadata": {},
   "outputs": [
    {
     "data": {
      "text/html": [
       "'nsch'"
      ],
      "text/latex": [
       "'nsch'"
      ],
      "text/markdown": [
       "'nsch'"
      ],
      "text/plain": [
       "[1] \"nsch\""
      ]
     },
     "metadata": {},
     "output_type": "display_data"
    }
   ],
   "source": [
    "ASD_National[\"Source\"][11, ]"
   ]
  },
  {
   "cell_type": "code",
   "execution_count": 41,
   "metadata": {},
   "outputs": [
    {
     "data": {
      "text/html": [
       "<ol class=list-inline>\n",
       "\t<li>'nsch'</li>\n",
       "\t<li>'nsch'</li>\n",
       "\t<li>'sped'</li>\n",
       "\t<li>'sped'</li>\n",
       "\t<li>'sped'</li>\n",
       "\t<li>'sped'</li>\n",
       "\t<li>'sped'</li>\n",
       "\t<li>'sped'</li>\n",
       "\t<li>'sped'</li>\n",
       "\t<li>'sped'</li>\n",
       "</ol>\n"
      ],
      "text/latex": [
       "\\begin{enumerate*}\n",
       "\\item 'nsch'\n",
       "\\item 'nsch'\n",
       "\\item 'sped'\n",
       "\\item 'sped'\n",
       "\\item 'sped'\n",
       "\\item 'sped'\n",
       "\\item 'sped'\n",
       "\\item 'sped'\n",
       "\\item 'sped'\n",
       "\\item 'sped'\n",
       "\\end{enumerate*}\n"
      ],
      "text/markdown": [
       "1. 'nsch'\n",
       "2. 'nsch'\n",
       "3. 'sped'\n",
       "4. 'sped'\n",
       "5. 'sped'\n",
       "6. 'sped'\n",
       "7. 'sped'\n",
       "8. 'sped'\n",
       "9. 'sped'\n",
       "10. 'sped'\n",
       "\n",
       "\n"
      ],
      "text/plain": [
       " [1] \"nsch\" \"nsch\" \"sped\" \"sped\" \"sped\" \"sped\" \"sped\" \"sped\" \"sped\" \"sped\""
      ]
     },
     "metadata": {},
     "output_type": "display_data"
    }
   ],
   "source": [
    "ASD_National[\"Source\"][11:20, ]"
   ]
  },
  {
   "cell_type": "markdown",
   "metadata": {},
   "source": [
    "**Access elements from column 1, which is a set of string/chr:**"
   ]
  },
  {
   "cell_type": "code",
   "execution_count": 42,
   "metadata": {},
   "outputs": [
    {
     "data": {
      "text/html": [
       "'addm'"
      ],
      "text/latex": [
       "'addm'"
      ],
      "text/markdown": [
       "'addm'"
      ],
      "text/plain": [
       "[1] \"addm\""
      ]
     },
     "metadata": {},
     "output_type": "display_data"
    }
   ],
   "source": [
    "# using column index\n",
    "ASD_National[, 1][1]"
   ]
  },
  {
   "cell_type": "code",
   "execution_count": 43,
   "metadata": {},
   "outputs": [
    {
     "data": {
      "text/html": [
       "'nsch'"
      ],
      "text/latex": [
       "'nsch'"
      ],
      "text/markdown": [
       "'nsch'"
      ],
      "text/plain": [
       "[1] \"nsch\""
      ]
     },
     "metadata": {},
     "output_type": "display_data"
    }
   ],
   "source": [
    "ASD_National[, 1][11]"
   ]
  },
  {
   "cell_type": "code",
   "execution_count": 44,
   "metadata": {},
   "outputs": [
    {
     "data": {
      "text/html": [
       "<ol class=list-inline>\n",
       "\t<li>'nsch'</li>\n",
       "\t<li>'nsch'</li>\n",
       "\t<li>'sped'</li>\n",
       "\t<li>'sped'</li>\n",
       "\t<li>'sped'</li>\n",
       "\t<li>'sped'</li>\n",
       "\t<li>'sped'</li>\n",
       "\t<li>'sped'</li>\n",
       "\t<li>'sped'</li>\n",
       "\t<li>'sped'</li>\n",
       "</ol>\n"
      ],
      "text/latex": [
       "\\begin{enumerate*}\n",
       "\\item 'nsch'\n",
       "\\item 'nsch'\n",
       "\\item 'sped'\n",
       "\\item 'sped'\n",
       "\\item 'sped'\n",
       "\\item 'sped'\n",
       "\\item 'sped'\n",
       "\\item 'sped'\n",
       "\\item 'sped'\n",
       "\\item 'sped'\n",
       "\\end{enumerate*}\n"
      ],
      "text/markdown": [
       "1. 'nsch'\n",
       "2. 'nsch'\n",
       "3. 'sped'\n",
       "4. 'sped'\n",
       "5. 'sped'\n",
       "6. 'sped'\n",
       "7. 'sped'\n",
       "8. 'sped'\n",
       "9. 'sped'\n",
       "10. 'sped'\n",
       "\n",
       "\n"
      ],
      "text/plain": [
       " [1] \"nsch\" \"nsch\" \"sped\" \"sped\" \"sped\" \"sped\" \"sped\" \"sped\" \"sped\" \"sped\""
      ]
     },
     "metadata": {},
     "output_type": "display_data"
    }
   ],
   "source": [
    "ASD_National[, 1][11:20]"
   ]
  },
  {
   "cell_type": "code",
   "execution_count": 45,
   "metadata": {},
   "outputs": [
    {
     "data": {
      "text/html": [
       "'addm'"
      ],
      "text/latex": [
       "'addm'"
      ],
      "text/markdown": [
       "'addm'"
      ],
      "text/plain": [
       "[1] \"addm\""
      ]
     },
     "metadata": {},
     "output_type": "display_data"
    }
   ],
   "source": [
    "# using column name\n",
    "ASD_National[, \"Source\"][1]"
   ]
  },
  {
   "cell_type": "code",
   "execution_count": 46,
   "metadata": {},
   "outputs": [
    {
     "data": {
      "text/html": [
       "'nsch'"
      ],
      "text/latex": [
       "'nsch'"
      ],
      "text/markdown": [
       "'nsch'"
      ],
      "text/plain": [
       "[1] \"nsch\""
      ]
     },
     "metadata": {},
     "output_type": "display_data"
    }
   ],
   "source": [
    "# using column name\n",
    "ASD_National[, \"Source\"][11]"
   ]
  },
  {
   "cell_type": "code",
   "execution_count": 47,
   "metadata": {},
   "outputs": [
    {
     "data": {
      "text/html": [
       "<ol class=list-inline>\n",
       "\t<li>'nsch'</li>\n",
       "\t<li>'nsch'</li>\n",
       "\t<li>'sped'</li>\n",
       "\t<li>'sped'</li>\n",
       "\t<li>'sped'</li>\n",
       "\t<li>'sped'</li>\n",
       "\t<li>'sped'</li>\n",
       "\t<li>'sped'</li>\n",
       "\t<li>'sped'</li>\n",
       "\t<li>'sped'</li>\n",
       "</ol>\n"
      ],
      "text/latex": [
       "\\begin{enumerate*}\n",
       "\\item 'nsch'\n",
       "\\item 'nsch'\n",
       "\\item 'sped'\n",
       "\\item 'sped'\n",
       "\\item 'sped'\n",
       "\\item 'sped'\n",
       "\\item 'sped'\n",
       "\\item 'sped'\n",
       "\\item 'sped'\n",
       "\\item 'sped'\n",
       "\\end{enumerate*}\n"
      ],
      "text/markdown": [
       "1. 'nsch'\n",
       "2. 'nsch'\n",
       "3. 'sped'\n",
       "4. 'sped'\n",
       "5. 'sped'\n",
       "6. 'sped'\n",
       "7. 'sped'\n",
       "8. 'sped'\n",
       "9. 'sped'\n",
       "10. 'sped'\n",
       "\n",
       "\n"
      ],
      "text/plain": [
       " [1] \"nsch\" \"nsch\" \"sped\" \"sped\" \"sped\" \"sped\" \"sped\" \"sped\" \"sped\" \"sped\""
      ]
     },
     "metadata": {},
     "output_type": "display_data"
    }
   ],
   "source": [
    "# using column name\n",
    "ASD_National[, \"Source\"][11:20]"
   ]
  },
  {
   "cell_type": "code",
   "execution_count": 48,
   "metadata": {},
   "outputs": [
    {
     "data": {
      "text/html": [
       "'addm'"
      ],
      "text/latex": [
       "'addm'"
      ],
      "text/markdown": [
       "'addm'"
      ],
      "text/plain": [
       "[1] \"addm\""
      ]
     },
     "metadata": {},
     "output_type": "display_data"
    }
   ],
   "source": [
    "# using $ operator\n",
    "ASD_National$Source[1]"
   ]
  },
  {
   "cell_type": "code",
   "execution_count": 49,
   "metadata": {},
   "outputs": [
    {
     "data": {
      "text/html": [
       "'nsch'"
      ],
      "text/latex": [
       "'nsch'"
      ],
      "text/markdown": [
       "'nsch'"
      ],
      "text/plain": [
       "[1] \"nsch\""
      ]
     },
     "metadata": {},
     "output_type": "display_data"
    }
   ],
   "source": [
    "ASD_National$Source[11]"
   ]
  },
  {
   "cell_type": "code",
   "execution_count": 50,
   "metadata": {},
   "outputs": [
    {
     "data": {
      "text/html": [
       "<ol class=list-inline>\n",
       "\t<li>'nsch'</li>\n",
       "\t<li>'nsch'</li>\n",
       "\t<li>'sped'</li>\n",
       "\t<li>'sped'</li>\n",
       "\t<li>'sped'</li>\n",
       "\t<li>'sped'</li>\n",
       "\t<li>'sped'</li>\n",
       "\t<li>'sped'</li>\n",
       "\t<li>'sped'</li>\n",
       "\t<li>'sped'</li>\n",
       "</ol>\n"
      ],
      "text/latex": [
       "\\begin{enumerate*}\n",
       "\\item 'nsch'\n",
       "\\item 'nsch'\n",
       "\\item 'sped'\n",
       "\\item 'sped'\n",
       "\\item 'sped'\n",
       "\\item 'sped'\n",
       "\\item 'sped'\n",
       "\\item 'sped'\n",
       "\\item 'sped'\n",
       "\\item 'sped'\n",
       "\\end{enumerate*}\n"
      ],
      "text/markdown": [
       "1. 'nsch'\n",
       "2. 'nsch'\n",
       "3. 'sped'\n",
       "4. 'sped'\n",
       "5. 'sped'\n",
       "6. 'sped'\n",
       "7. 'sped'\n",
       "8. 'sped'\n",
       "9. 'sped'\n",
       "10. 'sped'\n",
       "\n",
       "\n"
      ],
      "text/plain": [
       " [1] \"nsch\" \"nsch\" \"sped\" \"sped\" \"sped\" \"sped\" \"sped\" \"sped\" \"sped\" \"sped\""
      ]
     },
     "metadata": {},
     "output_type": "display_data"
    }
   ],
   "source": [
    "ASD_National$Source[11:20]"
   ]
  },
  {
   "cell_type": "markdown",
   "metadata": {},
   "source": [
    "**Access elements of different column:**"
   ]
  },
  {
   "cell_type": "code",
   "execution_count": 52,
   "metadata": {
    "scrolled": true
   },
   "outputs": [
    {
     "data": {
      "text/html": [
       "<table>\n",
       "<caption>A matrix: 26 × 2 of type chr</caption>\n",
       "<tbody>\n",
       "\t<tr><td>Source                              </td><td>1 </td></tr>\n",
       "\t<tr><td>Year                                </td><td>2 </td></tr>\n",
       "\t<tr><td>Prevalence                          </td><td>3 </td></tr>\n",
       "\t<tr><td>Upper.CI                            </td><td>4 </td></tr>\n",
       "\t<tr><td>Lower.CI                            </td><td>5 </td></tr>\n",
       "\t<tr><td>Prevalence_dup                      </td><td>6 </td></tr>\n",
       "\t<tr><td>Source_Full1                        </td><td>7 </td></tr>\n",
       "\t<tr><td>Source_Full2                        </td><td>8 </td></tr>\n",
       "\t<tr><td>Male.Prevalence                     </td><td>9 </td></tr>\n",
       "\t<tr><td>Male.Lower.CI                       </td><td>10</td></tr>\n",
       "\t<tr><td>Male.Upper.CI                       </td><td>11</td></tr>\n",
       "\t<tr><td>Female.Prevalence                   </td><td>12</td></tr>\n",
       "\t<tr><td>Female.Lower.CI                     </td><td>13</td></tr>\n",
       "\t<tr><td>Female.Upper.CI                     </td><td>14</td></tr>\n",
       "\t<tr><td>Non.hispanic.white.Prevalence       </td><td>15</td></tr>\n",
       "\t<tr><td>Non.hispanic.white.Lower.CI         </td><td>16</td></tr>\n",
       "\t<tr><td>Non.hispanic.white.Upper.CI         </td><td>17</td></tr>\n",
       "\t<tr><td>Non.hispanic.black.Prevalence       </td><td>18</td></tr>\n",
       "\t<tr><td>Non.hispanic.black.Lower.CI         </td><td>19</td></tr>\n",
       "\t<tr><td>Non.hispanic.black.Upper.CI         </td><td>20</td></tr>\n",
       "\t<tr><td>Hispanic.Prevalence                 </td><td>21</td></tr>\n",
       "\t<tr><td>Hispanic.Lower.CI                   </td><td>22</td></tr>\n",
       "\t<tr><td>Hispanic.Upper.CI                   </td><td>23</td></tr>\n",
       "\t<tr><td>Asian.or.Pacific.Islander.Prevalence</td><td>24</td></tr>\n",
       "\t<tr><td>Asian.or.Pacific.Islander.Lower.CI  </td><td>25</td></tr>\n",
       "\t<tr><td>Asian.or.Pacific.Islander.Upper.CI  </td><td>26</td></tr>\n",
       "</tbody>\n",
       "</table>\n"
      ],
      "text/latex": [
       "A matrix: 26 × 2 of type chr\n",
       "\\begin{tabular}{ll}\n",
       "\t Source                               & 1 \\\\\n",
       "\t Year                                 & 2 \\\\\n",
       "\t Prevalence                           & 3 \\\\\n",
       "\t Upper.CI                             & 4 \\\\\n",
       "\t Lower.CI                             & 5 \\\\\n",
       "\t Prevalence\\_dup                       & 6 \\\\\n",
       "\t Source\\_Full1                         & 7 \\\\\n",
       "\t Source\\_Full2                         & 8 \\\\\n",
       "\t Male.Prevalence                      & 9 \\\\\n",
       "\t Male.Lower.CI                        & 10\\\\\n",
       "\t Male.Upper.CI                        & 11\\\\\n",
       "\t Female.Prevalence                    & 12\\\\\n",
       "\t Female.Lower.CI                      & 13\\\\\n",
       "\t Female.Upper.CI                      & 14\\\\\n",
       "\t Non.hispanic.white.Prevalence        & 15\\\\\n",
       "\t Non.hispanic.white.Lower.CI          & 16\\\\\n",
       "\t Non.hispanic.white.Upper.CI          & 17\\\\\n",
       "\t Non.hispanic.black.Prevalence        & 18\\\\\n",
       "\t Non.hispanic.black.Lower.CI          & 19\\\\\n",
       "\t Non.hispanic.black.Upper.CI          & 20\\\\\n",
       "\t Hispanic.Prevalence                  & 21\\\\\n",
       "\t Hispanic.Lower.CI                    & 22\\\\\n",
       "\t Hispanic.Upper.CI                    & 23\\\\\n",
       "\t Asian.or.Pacific.Islander.Prevalence & 24\\\\\n",
       "\t Asian.or.Pacific.Islander.Lower.CI   & 25\\\\\n",
       "\t Asian.or.Pacific.Islander.Upper.CI   & 26\\\\\n",
       "\\end{tabular}\n"
      ],
      "text/markdown": [
       "\n",
       "A matrix: 26 × 2 of type chr\n",
       "\n",
       "| Source                               | 1  |\n",
       "| Year                                 | 2  |\n",
       "| Prevalence                           | 3  |\n",
       "| Upper.CI                             | 4  |\n",
       "| Lower.CI                             | 5  |\n",
       "| Prevalence_dup                       | 6  |\n",
       "| Source_Full1                         | 7  |\n",
       "| Source_Full2                         | 8  |\n",
       "| Male.Prevalence                      | 9  |\n",
       "| Male.Lower.CI                        | 10 |\n",
       "| Male.Upper.CI                        | 11 |\n",
       "| Female.Prevalence                    | 12 |\n",
       "| Female.Lower.CI                      | 13 |\n",
       "| Female.Upper.CI                      | 14 |\n",
       "| Non.hispanic.white.Prevalence        | 15 |\n",
       "| Non.hispanic.white.Lower.CI          | 16 |\n",
       "| Non.hispanic.white.Upper.CI          | 17 |\n",
       "| Non.hispanic.black.Prevalence        | 18 |\n",
       "| Non.hispanic.black.Lower.CI          | 19 |\n",
       "| Non.hispanic.black.Upper.CI          | 20 |\n",
       "| Hispanic.Prevalence                  | 21 |\n",
       "| Hispanic.Lower.CI                    | 22 |\n",
       "| Hispanic.Upper.CI                    | 23 |\n",
       "| Asian.or.Pacific.Islander.Prevalence | 24 |\n",
       "| Asian.or.Pacific.Islander.Lower.CI   | 25 |\n",
       "| Asian.or.Pacific.Islander.Upper.CI   | 26 |\n",
       "\n"
      ],
      "text/plain": [
       "      [,1]                                 [,2]\n",
       " [1,] Source                               1   \n",
       " [2,] Year                                 2   \n",
       " [3,] Prevalence                           3   \n",
       " [4,] Upper.CI                             4   \n",
       " [5,] Lower.CI                             5   \n",
       " [6,] Prevalence_dup                       6   \n",
       " [7,] Source_Full1                         7   \n",
       " [8,] Source_Full2                         8   \n",
       " [9,] Male.Prevalence                      9   \n",
       "[10,] Male.Lower.CI                        10  \n",
       "[11,] Male.Upper.CI                        11  \n",
       "[12,] Female.Prevalence                    12  \n",
       "[13,] Female.Lower.CI                      13  \n",
       "[14,] Female.Upper.CI                      14  \n",
       "[15,] Non.hispanic.white.Prevalence        15  \n",
       "[16,] Non.hispanic.white.Lower.CI          16  \n",
       "[17,] Non.hispanic.white.Upper.CI          17  \n",
       "[18,] Non.hispanic.black.Prevalence        18  \n",
       "[19,] Non.hispanic.black.Lower.CI          19  \n",
       "[20,] Non.hispanic.black.Upper.CI          20  \n",
       "[21,] Hispanic.Prevalence                  21  \n",
       "[22,] Hispanic.Lower.CI                    22  \n",
       "[23,] Hispanic.Upper.CI                    23  \n",
       "[24,] Asian.or.Pacific.Islander.Prevalence 24  \n",
       "[25,] Asian.or.Pacific.Islander.Lower.CI   25  \n",
       "[26,] Asian.or.Pacific.Islander.Upper.CI   26  "
      ]
     },
     "metadata": {},
     "output_type": "display_data"
    }
   ],
   "source": [
    "cbind(names(ASD_National), c(1:length(names(ASD_National))))"
   ]
  },
  {
   "cell_type": "code",
   "execution_count": 57,
   "metadata": {},
   "outputs": [
    {
     "data": {
      "text/html": [
       "'addm'"
      ],
      "text/latex": [
       "'addm'"
      ],
      "text/markdown": [
       "'addm'"
      ],
      "text/plain": [
       "[1] \"addm\""
      ]
     },
     "metadata": {},
     "output_type": "display_data"
    }
   ],
   "source": [
    "ASD_National[1, 1] # row 1, column 1: \"Source\" "
   ]
  },
  {
   "cell_type": "code",
   "execution_count": 58,
   "metadata": {},
   "outputs": [
    {
     "data": {
      "text/html": [
       "'nsch'"
      ],
      "text/latex": [
       "'nsch'"
      ],
      "text/markdown": [
       "'nsch'"
      ],
      "text/plain": [
       "[1] \"nsch\""
      ]
     },
     "metadata": {},
     "output_type": "display_data"
    }
   ],
   "source": [
    "ASD_National[10, 1] # row 10, column 1: \"Source\""
   ]
  },
  {
   "cell_type": "code",
   "execution_count": 59,
   "metadata": {},
   "outputs": [
    {
     "data": {
      "text/html": [
       "6.7"
      ],
      "text/latex": [
       "6.7"
      ],
      "text/markdown": [
       "6.7"
      ],
      "text/plain": [
       "[1] 6.7"
      ]
     },
     "metadata": {},
     "output_type": "display_data"
    }
   ],
   "source": [
    "ASD_National[1, 3] # row 1, column 3: \"Prevalence\""
   ]
  },
  {
   "cell_type": "code",
   "execution_count": 60,
   "metadata": {},
   "outputs": [
    {
     "data": {
      "text/html": [
       "16.2"
      ],
      "text/latex": [
       "16.2"
      ],
      "text/markdown": [
       "16.2"
      ],
      "text/plain": [
       "[1] 16.2"
      ]
     },
     "metadata": {},
     "output_type": "display_data"
    }
   ],
   "source": [
    "ASD_National[10, 3] # row 10, column 3: \"Prevalence\""
   ]
  },
  {
   "cell_type": "code",
   "execution_count": 61,
   "metadata": {
    "scrolled": true
   },
   "outputs": [
    {
     "data": {
      "text/html": [
       "<table>\n",
       "<caption>A data.frame: 10 × 3</caption>\n",
       "<thead>\n",
       "\t<tr><th scope=col>Source</th><th scope=col>Year</th><th scope=col>Prevalence</th></tr>\n",
       "\t<tr><th scope=col>&lt;chr&gt;</th><th scope=col>&lt;int&gt;</th><th scope=col>&lt;dbl&gt;</th></tr>\n",
       "</thead>\n",
       "<tbody>\n",
       "\t<tr><td>addm</td><td>2000</td><td> 6.7</td></tr>\n",
       "\t<tr><td>addm</td><td>2002</td><td> 6.6</td></tr>\n",
       "\t<tr><td>addm</td><td>2004</td><td> 8.0</td></tr>\n",
       "\t<tr><td>addm</td><td>2006</td><td> 9.0</td></tr>\n",
       "\t<tr><td>addm</td><td>2008</td><td>11.3</td></tr>\n",
       "\t<tr><td>addm</td><td>2010</td><td>14.7</td></tr>\n",
       "\t<tr><td>addm</td><td>2012</td><td>14.8</td></tr>\n",
       "\t<tr><td>addm</td><td>2014</td><td>16.8</td></tr>\n",
       "\t<tr><td>nsch</td><td>2004</td><td> 9.5</td></tr>\n",
       "\t<tr><td>nsch</td><td>2008</td><td>16.2</td></tr>\n",
       "</tbody>\n",
       "</table>\n"
      ],
      "text/latex": [
       "A data.frame: 10 × 3\n",
       "\\begin{tabular}{r|lll}\n",
       " Source & Year & Prevalence\\\\\n",
       " <chr> & <int> & <dbl>\\\\\n",
       "\\hline\n",
       "\t addm & 2000 &  6.7\\\\\n",
       "\t addm & 2002 &  6.6\\\\\n",
       "\t addm & 2004 &  8.0\\\\\n",
       "\t addm & 2006 &  9.0\\\\\n",
       "\t addm & 2008 & 11.3\\\\\n",
       "\t addm & 2010 & 14.7\\\\\n",
       "\t addm & 2012 & 14.8\\\\\n",
       "\t addm & 2014 & 16.8\\\\\n",
       "\t nsch & 2004 &  9.5\\\\\n",
       "\t nsch & 2008 & 16.2\\\\\n",
       "\\end{tabular}\n"
      ],
      "text/markdown": [
       "\n",
       "A data.frame: 10 × 3\n",
       "\n",
       "| Source &lt;chr&gt; | Year &lt;int&gt; | Prevalence &lt;dbl&gt; |\n",
       "|---|---|---|\n",
       "| addm | 2000 |  6.7 |\n",
       "| addm | 2002 |  6.6 |\n",
       "| addm | 2004 |  8.0 |\n",
       "| addm | 2006 |  9.0 |\n",
       "| addm | 2008 | 11.3 |\n",
       "| addm | 2010 | 14.7 |\n",
       "| addm | 2012 | 14.8 |\n",
       "| addm | 2014 | 16.8 |\n",
       "| nsch | 2004 |  9.5 |\n",
       "| nsch | 2008 | 16.2 |\n",
       "\n"
      ],
      "text/plain": [
       "   Source Year Prevalence\n",
       "1  addm   2000  6.7      \n",
       "2  addm   2002  6.6      \n",
       "3  addm   2004  8.0      \n",
       "4  addm   2006  9.0      \n",
       "5  addm   2008 11.3      \n",
       "6  addm   2010 14.7      \n",
       "7  addm   2012 14.8      \n",
       "8  addm   2014 16.8      \n",
       "9  nsch   2004  9.5      \n",
       "10 nsch   2008 16.2      "
      ]
     },
     "metadata": {},
     "output_type": "display_data"
    }
   ],
   "source": [
    "ASD_National[1:10, 1:3] # row 1 to 10 from column 1 to 3"
   ]
  },
  {
   "cell_type": "code",
   "execution_count": 62,
   "metadata": {
    "scrolled": true
   },
   "outputs": [
    {
     "data": {
      "text/html": [
       "<table>\n",
       "<caption>A data.frame: 10 × 3</caption>\n",
       "<thead>\n",
       "\t<tr><th scope=col>Source</th><th scope=col>Year</th><th scope=col>Prevalence</th></tr>\n",
       "\t<tr><th scope=col>&lt;chr&gt;</th><th scope=col>&lt;int&gt;</th><th scope=col>&lt;dbl&gt;</th></tr>\n",
       "</thead>\n",
       "<tbody>\n",
       "\t<tr><td>addm</td><td>2000</td><td> 6.7</td></tr>\n",
       "\t<tr><td>addm</td><td>2002</td><td> 6.6</td></tr>\n",
       "\t<tr><td>addm</td><td>2004</td><td> 8.0</td></tr>\n",
       "\t<tr><td>addm</td><td>2006</td><td> 9.0</td></tr>\n",
       "\t<tr><td>addm</td><td>2008</td><td>11.3</td></tr>\n",
       "\t<tr><td>addm</td><td>2010</td><td>14.7</td></tr>\n",
       "\t<tr><td>addm</td><td>2012</td><td>14.8</td></tr>\n",
       "\t<tr><td>addm</td><td>2014</td><td>16.8</td></tr>\n",
       "\t<tr><td>nsch</td><td>2004</td><td> 9.5</td></tr>\n",
       "\t<tr><td>nsch</td><td>2008</td><td>16.2</td></tr>\n",
       "</tbody>\n",
       "</table>\n"
      ],
      "text/latex": [
       "A data.frame: 10 × 3\n",
       "\\begin{tabular}{r|lll}\n",
       " Source & Year & Prevalence\\\\\n",
       " <chr> & <int> & <dbl>\\\\\n",
       "\\hline\n",
       "\t addm & 2000 &  6.7\\\\\n",
       "\t addm & 2002 &  6.6\\\\\n",
       "\t addm & 2004 &  8.0\\\\\n",
       "\t addm & 2006 &  9.0\\\\\n",
       "\t addm & 2008 & 11.3\\\\\n",
       "\t addm & 2010 & 14.7\\\\\n",
       "\t addm & 2012 & 14.8\\\\\n",
       "\t addm & 2014 & 16.8\\\\\n",
       "\t nsch & 2004 &  9.5\\\\\n",
       "\t nsch & 2008 & 16.2\\\\\n",
       "\\end{tabular}\n"
      ],
      "text/markdown": [
       "\n",
       "A data.frame: 10 × 3\n",
       "\n",
       "| Source &lt;chr&gt; | Year &lt;int&gt; | Prevalence &lt;dbl&gt; |\n",
       "|---|---|---|\n",
       "| addm | 2000 |  6.7 |\n",
       "| addm | 2002 |  6.6 |\n",
       "| addm | 2004 |  8.0 |\n",
       "| addm | 2006 |  9.0 |\n",
       "| addm | 2008 | 11.3 |\n",
       "| addm | 2010 | 14.7 |\n",
       "| addm | 2012 | 14.8 |\n",
       "| addm | 2014 | 16.8 |\n",
       "| nsch | 2004 |  9.5 |\n",
       "| nsch | 2008 | 16.2 |\n",
       "\n"
      ],
      "text/plain": [
       "   Source Year Prevalence\n",
       "1  addm   2000  6.7      \n",
       "2  addm   2002  6.6      \n",
       "3  addm   2004  8.0      \n",
       "4  addm   2006  9.0      \n",
       "5  addm   2008 11.3      \n",
       "6  addm   2010 14.7      \n",
       "7  addm   2012 14.8      \n",
       "8  addm   2014 16.8      \n",
       "9  nsch   2004  9.5      \n",
       "10 nsch   2008 16.2      "
      ]
     },
     "metadata": {},
     "output_type": "display_data"
    }
   ],
   "source": [
    "# or using columns names\n",
    "ASD_National[1:10, c('Source', 'Year', 'Prevalence')]"
   ]
  },
  {
   "cell_type": "code",
   "execution_count": 64,
   "metadata": {},
   "outputs": [
    {
     "data": {
      "text/html": [
       "<table>\n",
       "<caption>A data.frame: 17 × 5</caption>\n",
       "<thead>\n",
       "\t<tr><th></th><th scope=col>Source</th><th scope=col>Year</th><th scope=col>Prevalence</th><th scope=col>Male.Prevalence</th><th scope=col>Female.Prevalence</th></tr>\n",
       "\t<tr><th></th><th scope=col>&lt;chr&gt;</th><th scope=col>&lt;int&gt;</th><th scope=col>&lt;dbl&gt;</th><th scope=col>&lt;chr&gt;</th><th scope=col>&lt;chr&gt;</th></tr>\n",
       "</thead>\n",
       "<tbody>\n",
       "\t<tr><th scope=row>1</th><td>addm</td><td>2000</td><td> 6.7</td><td>No data</td><td>No data</td></tr>\n",
       "\t<tr><th scope=row>2</th><td>addm</td><td>2002</td><td> 6.6</td><td>11.5   </td><td>2.7    </td></tr>\n",
       "\t<tr><th scope=row>3</th><td>addm</td><td>2004</td><td> 8.0</td><td>12.9   </td><td>2.9    </td></tr>\n",
       "\t<tr><th scope=row>4</th><td>addm</td><td>2006</td><td> 9.0</td><td>14.5   </td><td>3.2    </td></tr>\n",
       "\t<tr><th scope=row>5</th><td>addm</td><td>2008</td><td>11.3</td><td>18.4   </td><td>4      </td></tr>\n",
       "\t<tr><th scope=row>6</th><td>addm</td><td>2010</td><td>14.7</td><td>23.7   </td><td>5.3    </td></tr>\n",
       "\t<tr><th scope=row>7</th><td>addm</td><td>2012</td><td>14.8</td><td>23.4   </td><td>5.2    </td></tr>\n",
       "\t<tr><th scope=row>8</th><td>addm</td><td>2014</td><td>16.8</td><td>26.6   </td><td>6.6    </td></tr>\n",
       "\t<tr><th scope=row>9</th><td>nsch</td><td>2004</td><td> 9.5</td><td>       </td><td>       </td></tr>\n",
       "\t<tr><th scope=row>10</th><td>nsch</td><td>2008</td><td>16.2</td><td>       </td><td>       </td></tr>\n",
       "\t<tr><th scope=row>20</th><td>sped</td><td>2007</td><td> 5.4</td><td>       </td><td>       </td></tr>\n",
       "\t<tr><th scope=row>30</th><td>medi</td><td>2000</td><td> 2.3</td><td>       </td><td>       </td></tr>\n",
       "\t<tr><th scope=row>31</th><td>medi</td><td>2001</td><td> 2.6</td><td>       </td><td>       </td></tr>\n",
       "\t<tr><th scope=row>32</th><td>medi</td><td>2002</td><td> 2.8</td><td>       </td><td>       </td></tr>\n",
       "\t<tr><th scope=row>33</th><td>medi</td><td>2003</td><td> 3.0</td><td>       </td><td>       </td></tr>\n",
       "\t<tr><th scope=row>34</th><td>medi</td><td>2004</td><td> 3.5</td><td>       </td><td>       </td></tr>\n",
       "\t<tr><th scope=row>35</th><td>medi</td><td>2005</td><td> 3.9</td><td>       </td><td>       </td></tr>\n",
       "</tbody>\n",
       "</table>\n"
      ],
      "text/latex": [
       "A data.frame: 17 × 5\n",
       "\\begin{tabular}{r|lllll}\n",
       "  & Source & Year & Prevalence & Male.Prevalence & Female.Prevalence\\\\\n",
       "  & <chr> & <int> & <dbl> & <chr> & <chr>\\\\\n",
       "\\hline\n",
       "\t1 & addm & 2000 &  6.7 & No data & No data\\\\\n",
       "\t2 & addm & 2002 &  6.6 & 11.5    & 2.7    \\\\\n",
       "\t3 & addm & 2004 &  8.0 & 12.9    & 2.9    \\\\\n",
       "\t4 & addm & 2006 &  9.0 & 14.5    & 3.2    \\\\\n",
       "\t5 & addm & 2008 & 11.3 & 18.4    & 4      \\\\\n",
       "\t6 & addm & 2010 & 14.7 & 23.7    & 5.3    \\\\\n",
       "\t7 & addm & 2012 & 14.8 & 23.4    & 5.2    \\\\\n",
       "\t8 & addm & 2014 & 16.8 & 26.6    & 6.6    \\\\\n",
       "\t9 & nsch & 2004 &  9.5 &         &        \\\\\n",
       "\t10 & nsch & 2008 & 16.2 &         &        \\\\\n",
       "\t20 & sped & 2007 &  5.4 &         &        \\\\\n",
       "\t30 & medi & 2000 &  2.3 &         &        \\\\\n",
       "\t31 & medi & 2001 &  2.6 &         &        \\\\\n",
       "\t32 & medi & 2002 &  2.8 &         &        \\\\\n",
       "\t33 & medi & 2003 &  3.0 &         &        \\\\\n",
       "\t34 & medi & 2004 &  3.5 &         &        \\\\\n",
       "\t35 & medi & 2005 &  3.9 &         &        \\\\\n",
       "\\end{tabular}\n"
      ],
      "text/markdown": [
       "\n",
       "A data.frame: 17 × 5\n",
       "\n",
       "| <!--/--> | Source &lt;chr&gt; | Year &lt;int&gt; | Prevalence &lt;dbl&gt; | Male.Prevalence &lt;chr&gt; | Female.Prevalence &lt;chr&gt; |\n",
       "|---|---|---|---|---|---|\n",
       "| 1 | addm | 2000 |  6.7 | No data | No data |\n",
       "| 2 | addm | 2002 |  6.6 | 11.5    | 2.7     |\n",
       "| 3 | addm | 2004 |  8.0 | 12.9    | 2.9     |\n",
       "| 4 | addm | 2006 |  9.0 | 14.5    | 3.2     |\n",
       "| 5 | addm | 2008 | 11.3 | 18.4    | 4       |\n",
       "| 6 | addm | 2010 | 14.7 | 23.7    | 5.3     |\n",
       "| 7 | addm | 2012 | 14.8 | 23.4    | 5.2     |\n",
       "| 8 | addm | 2014 | 16.8 | 26.6    | 6.6     |\n",
       "| 9 | nsch | 2004 |  9.5 | <!----> | <!----> |\n",
       "| 10 | nsch | 2008 | 16.2 | <!----> | <!----> |\n",
       "| 20 | sped | 2007 |  5.4 | <!----> | <!----> |\n",
       "| 30 | medi | 2000 |  2.3 | <!----> | <!----> |\n",
       "| 31 | medi | 2001 |  2.6 | <!----> | <!----> |\n",
       "| 32 | medi | 2002 |  2.8 | <!----> | <!----> |\n",
       "| 33 | medi | 2003 |  3.0 | <!----> | <!----> |\n",
       "| 34 | medi | 2004 |  3.5 | <!----> | <!----> |\n",
       "| 35 | medi | 2005 |  3.9 | <!----> | <!----> |\n",
       "\n"
      ],
      "text/plain": [
       "   Source Year Prevalence Male.Prevalence Female.Prevalence\n",
       "1  addm   2000  6.7       No data         No data          \n",
       "2  addm   2002  6.6       11.5            2.7              \n",
       "3  addm   2004  8.0       12.9            2.9              \n",
       "4  addm   2006  9.0       14.5            3.2              \n",
       "5  addm   2008 11.3       18.4            4                \n",
       "6  addm   2010 14.7       23.7            5.3              \n",
       "7  addm   2012 14.8       23.4            5.2              \n",
       "8  addm   2014 16.8       26.6            6.6              \n",
       "9  nsch   2004  9.5                                        \n",
       "10 nsch   2008 16.2                                        \n",
       "20 sped   2007  5.4                                        \n",
       "30 medi   2000  2.3                                        \n",
       "31 medi   2001  2.6                                        \n",
       "32 medi   2002  2.8                                        \n",
       "33 medi   2003  3.0                                        \n",
       "34 medi   2004  3.5                                        \n",
       "35 medi   2005  3.9                                        "
      ]
     },
     "metadata": {},
     "output_type": "display_data"
    }
   ],
   "source": [
    "ASD_National[c(1:10, 20, 30:35), c(1:3, 9, 12)] # row 1 to 10, 20, and 20 to 25 from column 1 to 3, 9, and 12"
   ]
  },
  {
   "cell_type": "markdown",
   "metadata": {},
   "source": [
    "**<span style=\"color:blue\">[ Tips ]</span> We notice missing data from above.**"
   ]
  },
  {
   "cell_type": "markdown",
   "metadata": {},
   "source": [
    "<div class=\"alert alert-block alert-info\" style=\"margin-top: 20px\">\n",
    "    <h3>\n",
    "    R Fundamentals - Process missing data\n",
    "    </h3>\n",
    "</div>\n"
   ]
  },
  {
   "cell_type": "markdown",
   "metadata": {},
   "source": [
    "**Count missing values in dataframe:**"
   ]
  },
  {
   "cell_type": "code",
   "execution_count": 65,
   "metadata": {},
   "outputs": [
    {
     "data": {
      "text/html": [
       "0"
      ],
      "text/latex": [
       "0"
      ],
      "text/markdown": [
       "0"
      ],
      "text/plain": [
       "[1] 0"
      ]
     },
     "metadata": {},
     "output_type": "display_data"
    }
   ],
   "source": [
    "sum(is.na(ASD_National)) # No missing data recognised by R (NA)"
   ]
  },
  {
   "cell_type": "code",
   "execution_count": 66,
   "metadata": {},
   "outputs": [
    {
     "data": {
      "text/html": [
       "14454"
      ],
      "text/latex": [
       "14454"
      ],
      "text/markdown": [
       "14454"
      ],
      "text/plain": [
       "[1] 14454"
      ]
     },
     "metadata": {},
     "output_type": "display_data"
    }
   ],
   "source": [
    "sum(is.na(ASD_State)) # Some missing data recognised by R (NA)"
   ]
  },
  {
   "cell_type": "markdown",
   "metadata": {},
   "source": [
    "**Empty string, \"No data\" arenot considered as missing value by R, thus we need to handle them manually.**"
   ]
  },
  {
   "cell_type": "code",
   "execution_count": 67,
   "metadata": {},
   "outputs": [],
   "source": [
    "# Define several offending strings\n",
    "na_strings <- c(\"\", \"No data\", \"NA\", \"N A\", \"N / A\", \"N/A\", \"N/ A\", \"Not Available\", \"NOt available\")"
   ]
  },
  {
   "cell_type": "code",
   "execution_count": 69,
   "metadata": {
    "scrolled": false
   },
   "outputs": [],
   "source": [
    "# Load required function from packages:\n",
    "if(!require(naniar)){install.packages(\"naniar\")}\n",
    "library(naniar)\n",
    "if(!require(dplyr)){install.packages(\"dplyr\")}\n",
    "library(dplyr)"
   ]
  },
  {
   "cell_type": "code",
   "execution_count": 149,
   "metadata": {},
   "outputs": [],
   "source": [
    "?replace_with_na_all # Documentation"
   ]
  },
  {
   "cell_type": "markdown",
   "metadata": {},
   "source": [
    "**Replace these defined missing/offending values to R's internal NA**"
   ]
  },
  {
   "cell_type": "code",
   "execution_count": 71,
   "metadata": {},
   "outputs": [],
   "source": [
    "# \"~.x\" is a reserved keyword of this function:\n",
    "ASD_National = replace_with_na_all(ASD_National, condition = ~.x %in% na_strings) "
   ]
  },
  {
   "cell_type": "code",
   "execution_count": 73,
   "metadata": {},
   "outputs": [
    {
     "data": {
      "text/html": [
       "650"
      ],
      "text/latex": [
       "650"
      ],
      "text/markdown": [
       "650"
      ],
      "text/plain": [
       "[1] 650"
      ]
     },
     "metadata": {},
     "output_type": "display_data"
    }
   ],
   "source": [
    "# Count missing values (R's internal NA) in dataframe:\n",
    "sum(is.na(ASD_National))"
   ]
  },
  {
   "cell_type": "markdown",
   "metadata": {},
   "source": [
    "<div class=\"alert alert-block alert-info\" style=\"margin-top: 20px\">\n",
    "    <h3>\n",
    "    R Fundamentals - Process invalid characters\n",
    "    </h3>\n",
    "</div>\n"
   ]
  },
  {
   "cell_type": "markdown",
   "metadata": {},
   "source": [
    "**Remove invalid unicode char/string: \\x92**"
   ]
  },
  {
   "cell_type": "code",
   "execution_count": 74,
   "metadata": {},
   "outputs": [],
   "source": [
    "ASD_National$Source_Full1[ASD_National$Source_Full1 == \"National Survey of Children\\x92s Health\"] <- \n",
    "\"National Survey of Children's Health\""
   ]
  },
  {
   "cell_type": "code",
   "execution_count": 75,
   "metadata": {},
   "outputs": [],
   "source": [
    "ASD_National$Source_Full2[ASD_National$Source_Full2 == \"nsch-National Survey of Children\\x92s Health\"] <- \n",
    "\"nsch-National Survey of Children's Health\""
   ]
  },
  {
   "cell_type": "markdown",
   "metadata": {},
   "source": [
    "<div class=\"alert alert-block alert-info\" style=\"margin-top: 20px\">\n",
    "    <h3>\n",
    "    R Fundamentals - Delete/Drop dataframe variable\n",
    "    </h3>\n",
    "</div>\n"
   ]
  },
  {
   "cell_type": "markdown",
   "metadata": {},
   "source": [
    "**Delete/Drop duplicate variable: Prevalence_dup**"
   ]
  },
  {
   "cell_type": "code",
   "execution_count": 77,
   "metadata": {},
   "outputs": [],
   "source": [
    "drop <- c(\"Prevalence_dup\", \"Dummy Variable Name\")"
   ]
  },
  {
   "cell_type": "code",
   "execution_count": 78,
   "metadata": {},
   "outputs": [],
   "source": [
    "ASD_National = ASD_National[, !(names(ASD_National) %in% drop)] # Recall Dataframe[rows,columns]"
   ]
  },
  {
   "cell_type": "markdown",
   "metadata": {},
   "source": [
    "<div class=\"alert alert-block alert-info\" style=\"margin-top: 20px\">\n",
    "    <h3>\n",
    "    R Fundamentals - Create/Add dataframe variable\n",
    "    </h3>\n",
    "</div>\n"
   ]
  },
  {
   "cell_type": "markdown",
   "metadata": {},
   "source": [
    "**Create one new variable: Source_UC by converting to uppercase letters**"
   ]
  },
  {
   "cell_type": "code",
   "execution_count": 80,
   "metadata": {},
   "outputs": [],
   "source": [
    "ASD_National$Source_UC <- paste(toupper(ASD_National$Source))"
   ]
  },
  {
   "cell_type": "markdown",
   "metadata": {},
   "source": [
    "**Create one new variable: Source_Full3 by combining Source and Source_Full1**"
   ]
  },
  {
   "cell_type": "code",
   "execution_count": 81,
   "metadata": {},
   "outputs": [],
   "source": [
    "ASD_National$Source_Full3 <- paste(toupper(ASD_National$Source), ASD_National$Source_Full1)"
   ]
  },
  {
   "cell_type": "markdown",
   "metadata": {},
   "source": [
    "<div class=\"alert alert-block alert-info\" style=\"margin-top: 20px\">\n",
    "    <h3>\n",
    "    R Fundamentals - Convert to correct data types\n",
    "    </h3>\n",
    "</div>\n"
   ]
  },
  {
   "cell_type": "markdown",
   "metadata": {},
   "source": [
    "**Review data structure and variable names:**"
   ]
  },
  {
   "cell_type": "code",
   "execution_count": 203,
   "metadata": {
    "scrolled": true
   },
   "outputs": [
    {
     "name": "stdout",
     "output_type": "stream",
     "text": [
      "Classes ‘tbl_df’, ‘tbl’ and 'data.frame':\t42 obs. of  28 variables:\n",
      " $ Source                              : Factor w/ 4 levels \"addm\",\"medi\",..: 1 1 1 1 1 1 1 1 3 3 ...\n",
      " $ Year                                : int  2000 2002 2004 2006 2008 2010 2012 2014 2004 2008 ...\n",
      " $ Prevalence                          : num  6.7 6.6 8 9 11.3 14.7 14.8 16.8 9.5 16.2 ...\n",
      " $ Upper.CI                            : num  7 6.8 8.4 9.3 11.7 15.1 15.2 17.3 12 18.1 ...\n",
      " $ Lower.CI                            : num  6.3 6.3 7.6 8.6 11 14.3 14.4 16.4 7.4 14.5 ...\n",
      " $ Source_Full1                        : Factor w/ 4 levels \"Autism & Developmental Disabilities Monitoring Network\",..: 1 1 1 1 1 1 1 1 3 3 ...\n",
      " $ Source_Full2                        : Factor w/ 4 levels \"addm-Autism & Developmental Disabilities Monitoring Network\",..: 1 1 1 1 1 1 1 1 3 3 ...\n",
      " $ Male.Prevalence                     : num  NA 11.5 12.9 14.5 18.4 23.7 23.4 26.6 NA NA ...\n",
      " $ Male.Lower.CI                       : num  NA NA 12.2 13.9 17.7 23 22.7 25.8 NA NA ...\n",
      " $ Male.Upper.CI                       : num  NA NA 13.7 15.1 19 24.4 24.1 27.4 NA NA ...\n",
      " $ Female.Prevalence                   : num  NA 2.7 2.9 3.2 4 5.3 5.2 6.6 NA NA ...\n",
      " $ Female.Lower.CI                     : num  NA NA 2.6 2.9 3.7 5 4.9 6.2 NA NA ...\n",
      " $ Female.Upper.CI                     : num  NA NA 3.3 3.5 4.3 5.7 5.6 7 NA NA ...\n",
      " $ Non.hispanic.white.Prevalence       : num  NA 7.7 9.7 9.9 12 15.8 15.3 17.2 NA NA ...\n",
      " $ Non.hispanic.white.Lower.CI         : num  NA NA 9.1 9.4 11.5 15.2 14.7 16.5 NA NA ...\n",
      " $ Non.hispanic.white.Upper.CI         : num  NA NA 10.4 10.4 12.5 16.3 15.9 17.8 NA NA ...\n",
      " $ Non.hispanic.black.Prevalence       : num  NA 6.5 6.9 7.2 10.2 12.3 13.1 16 NA NA ...\n",
      " $ Non.hispanic.black.Lower.CI         : num  NA NA 6.2 6.6 9.5 11.5 12.3 15.1 NA NA ...\n",
      " $ Non.hispanic.black.Upper.CI         : num  NA NA 7.6 7.8 10.9 13.1 13.9 16.9 NA NA ...\n",
      " $ Hispanic.Prevalence                 : num  NA NA 6.2 5.9 7.9 10.8 10.1 14 NA NA ...\n",
      " $ Hispanic.Lower.CI                   : num  NA NA 5 5.3 7.2 10 9.4 13.1 NA NA ...\n",
      " $ Hispanic.Upper.CI                   : num  NA NA 7.5 6.6 8.6 11.6 10.9 14.9 NA NA ...\n",
      " $ Asian.or.Pacific.Islander.Prevalence: num  NA NA NA NA 9.7 12.3 11.4 13.5 NA NA ...\n",
      " $ Asian.or.Pacific.Islander.Lower.CI  : num  NA NA NA NA 8.1 10.7 9.9 11.8 NA NA ...\n",
      " $ Asian.or.Pacific.Islander.Upper.CI  : num  NA NA NA NA 11.6 14.2 13.1 15.4 NA NA ...\n",
      " $ Source_UC                           : Factor w/ 4 levels \"ADDM\",\"MEDI\",..: 1 1 1 1 1 1 1 1 3 3 ...\n",
      " $ Source_Full3                        : Factor w/ 4 levels \"ADDM Autism & Developmental Disabilities Monitoring Network\",..: 1 1 1 1 1 1 1 1 3 3 ...\n",
      " $ Year_Factor                         : Ord.factor w/ 17 levels \"2000\"<\"2001\"<..: 1 3 5 7 9 11 13 15 5 9 ...\n"
     ]
    },
    {
     "data": {
      "text/html": [
       "<table>\n",
       "<caption>A matrix: 28 × 2 of type chr</caption>\n",
       "<tbody>\n",
       "\t<tr><td>Source                              </td><td>1 </td></tr>\n",
       "\t<tr><td>Year                                </td><td>2 </td></tr>\n",
       "\t<tr><td>Prevalence                          </td><td>3 </td></tr>\n",
       "\t<tr><td>Upper.CI                            </td><td>4 </td></tr>\n",
       "\t<tr><td>Lower.CI                            </td><td>5 </td></tr>\n",
       "\t<tr><td>Source_Full1                        </td><td>6 </td></tr>\n",
       "\t<tr><td>Source_Full2                        </td><td>7 </td></tr>\n",
       "\t<tr><td>Male.Prevalence                     </td><td>8 </td></tr>\n",
       "\t<tr><td>Male.Lower.CI                       </td><td>9 </td></tr>\n",
       "\t<tr><td>Male.Upper.CI                       </td><td>10</td></tr>\n",
       "\t<tr><td>Female.Prevalence                   </td><td>11</td></tr>\n",
       "\t<tr><td>Female.Lower.CI                     </td><td>12</td></tr>\n",
       "\t<tr><td>Female.Upper.CI                     </td><td>13</td></tr>\n",
       "\t<tr><td>Non.hispanic.white.Prevalence       </td><td>14</td></tr>\n",
       "\t<tr><td>Non.hispanic.white.Lower.CI         </td><td>15</td></tr>\n",
       "\t<tr><td>Non.hispanic.white.Upper.CI         </td><td>16</td></tr>\n",
       "\t<tr><td>Non.hispanic.black.Prevalence       </td><td>17</td></tr>\n",
       "\t<tr><td>Non.hispanic.black.Lower.CI         </td><td>18</td></tr>\n",
       "\t<tr><td>Non.hispanic.black.Upper.CI         </td><td>19</td></tr>\n",
       "\t<tr><td>Hispanic.Prevalence                 </td><td>20</td></tr>\n",
       "\t<tr><td>Hispanic.Lower.CI                   </td><td>21</td></tr>\n",
       "\t<tr><td>Hispanic.Upper.CI                   </td><td>22</td></tr>\n",
       "\t<tr><td>Asian.or.Pacific.Islander.Prevalence</td><td>23</td></tr>\n",
       "\t<tr><td>Asian.or.Pacific.Islander.Lower.CI  </td><td>24</td></tr>\n",
       "\t<tr><td>Asian.or.Pacific.Islander.Upper.CI  </td><td>25</td></tr>\n",
       "\t<tr><td>Source_UC                           </td><td>26</td></tr>\n",
       "\t<tr><td>Source_Full3                        </td><td>27</td></tr>\n",
       "\t<tr><td>Year_Factor                         </td><td>28</td></tr>\n",
       "</tbody>\n",
       "</table>\n"
      ],
      "text/latex": [
       "A matrix: 28 × 2 of type chr\n",
       "\\begin{tabular}{ll}\n",
       "\t Source                               & 1 \\\\\n",
       "\t Year                                 & 2 \\\\\n",
       "\t Prevalence                           & 3 \\\\\n",
       "\t Upper.CI                             & 4 \\\\\n",
       "\t Lower.CI                             & 5 \\\\\n",
       "\t Source\\_Full1                         & 6 \\\\\n",
       "\t Source\\_Full2                         & 7 \\\\\n",
       "\t Male.Prevalence                      & 8 \\\\\n",
       "\t Male.Lower.CI                        & 9 \\\\\n",
       "\t Male.Upper.CI                        & 10\\\\\n",
       "\t Female.Prevalence                    & 11\\\\\n",
       "\t Female.Lower.CI                      & 12\\\\\n",
       "\t Female.Upper.CI                      & 13\\\\\n",
       "\t Non.hispanic.white.Prevalence        & 14\\\\\n",
       "\t Non.hispanic.white.Lower.CI          & 15\\\\\n",
       "\t Non.hispanic.white.Upper.CI          & 16\\\\\n",
       "\t Non.hispanic.black.Prevalence        & 17\\\\\n",
       "\t Non.hispanic.black.Lower.CI          & 18\\\\\n",
       "\t Non.hispanic.black.Upper.CI          & 19\\\\\n",
       "\t Hispanic.Prevalence                  & 20\\\\\n",
       "\t Hispanic.Lower.CI                    & 21\\\\\n",
       "\t Hispanic.Upper.CI                    & 22\\\\\n",
       "\t Asian.or.Pacific.Islander.Prevalence & 23\\\\\n",
       "\t Asian.or.Pacific.Islander.Lower.CI   & 24\\\\\n",
       "\t Asian.or.Pacific.Islander.Upper.CI   & 25\\\\\n",
       "\t Source\\_UC                            & 26\\\\\n",
       "\t Source\\_Full3                         & 27\\\\\n",
       "\t Year\\_Factor                          & 28\\\\\n",
       "\\end{tabular}\n"
      ],
      "text/markdown": [
       "\n",
       "A matrix: 28 × 2 of type chr\n",
       "\n",
       "| Source                               | 1  |\n",
       "| Year                                 | 2  |\n",
       "| Prevalence                           | 3  |\n",
       "| Upper.CI                             | 4  |\n",
       "| Lower.CI                             | 5  |\n",
       "| Source_Full1                         | 6  |\n",
       "| Source_Full2                         | 7  |\n",
       "| Male.Prevalence                      | 8  |\n",
       "| Male.Lower.CI                        | 9  |\n",
       "| Male.Upper.CI                        | 10 |\n",
       "| Female.Prevalence                    | 11 |\n",
       "| Female.Lower.CI                      | 12 |\n",
       "| Female.Upper.CI                      | 13 |\n",
       "| Non.hispanic.white.Prevalence        | 14 |\n",
       "| Non.hispanic.white.Lower.CI          | 15 |\n",
       "| Non.hispanic.white.Upper.CI          | 16 |\n",
       "| Non.hispanic.black.Prevalence        | 17 |\n",
       "| Non.hispanic.black.Lower.CI          | 18 |\n",
       "| Non.hispanic.black.Upper.CI          | 19 |\n",
       "| Hispanic.Prevalence                  | 20 |\n",
       "| Hispanic.Lower.CI                    | 21 |\n",
       "| Hispanic.Upper.CI                    | 22 |\n",
       "| Asian.or.Pacific.Islander.Prevalence | 23 |\n",
       "| Asian.or.Pacific.Islander.Lower.CI   | 24 |\n",
       "| Asian.or.Pacific.Islander.Upper.CI   | 25 |\n",
       "| Source_UC                            | 26 |\n",
       "| Source_Full3                         | 27 |\n",
       "| Year_Factor                          | 28 |\n",
       "\n"
      ],
      "text/plain": [
       "      [,1]                                 [,2]\n",
       " [1,] Source                               1   \n",
       " [2,] Year                                 2   \n",
       " [3,] Prevalence                           3   \n",
       " [4,] Upper.CI                             4   \n",
       " [5,] Lower.CI                             5   \n",
       " [6,] Source_Full1                         6   \n",
       " [7,] Source_Full2                         7   \n",
       " [8,] Male.Prevalence                      8   \n",
       " [9,] Male.Lower.CI                        9   \n",
       "[10,] Male.Upper.CI                        10  \n",
       "[11,] Female.Prevalence                    11  \n",
       "[12,] Female.Lower.CI                      12  \n",
       "[13,] Female.Upper.CI                      13  \n",
       "[14,] Non.hispanic.white.Prevalence        14  \n",
       "[15,] Non.hispanic.white.Lower.CI          15  \n",
       "[16,] Non.hispanic.white.Upper.CI          16  \n",
       "[17,] Non.hispanic.black.Prevalence        17  \n",
       "[18,] Non.hispanic.black.Lower.CI          18  \n",
       "[19,] Non.hispanic.black.Upper.CI          19  \n",
       "[20,] Hispanic.Prevalence                  20  \n",
       "[21,] Hispanic.Lower.CI                    21  \n",
       "[22,] Hispanic.Upper.CI                    22  \n",
       "[23,] Asian.or.Pacific.Islander.Prevalence 23  \n",
       "[24,] Asian.or.Pacific.Islander.Lower.CI   24  \n",
       "[25,] Asian.or.Pacific.Islander.Upper.CI   25  \n",
       "[26,] Source_UC                            26  \n",
       "[27,] Source_Full3                         27  \n",
       "[28,] Year_Factor                          28  "
      ]
     },
     "metadata": {},
     "output_type": "display_data"
    }
   ],
   "source": [
    "str(ASD_National)\n",
    "cbind(names(ASD_National), c(1:length(names(ASD_National))))"
   ]
  },
  {
   "cell_type": "markdown",
   "metadata": {},
   "source": [
    "**Convert Prevalence and CIs from categorical/chr to numeric, column 8 to 25**"
   ]
  },
  {
   "cell_type": "code",
   "execution_count": 125,
   "metadata": {},
   "outputs": [],
   "source": [
    "ix <- 8:25 # define an index\n",
    "# apply()\n",
    "ASD_National[ix] <- apply(ASD_National[ix], 2, as.numeric) # \"2\" meand column-wise; \"1\" means row-wise.\n",
    "# or lapply()\n",
    "ASD_National[ix] <- lapply(ASD_National[ix], as.numeric) # column-wise"
   ]
  },
  {
   "cell_type": "code",
   "execution_count": 126,
   "metadata": {},
   "outputs": [],
   "source": [
    "?apply # Documentation"
   ]
  },
  {
   "cell_type": "code",
   "execution_count": 127,
   "metadata": {},
   "outputs": [],
   "source": [
    "?lapply # Documentation"
   ]
  },
  {
   "cell_type": "markdown",
   "metadata": {},
   "source": [
    "**Convert Source from categorical/chr to categorical/factor**"
   ]
  },
  {
   "cell_type": "code",
   "execution_count": 128,
   "metadata": {},
   "outputs": [],
   "source": [
    "ix <- c(1, 6, 7, 26, 27) # define an index\n",
    "ASD_National[ix] <- lapply(ASD_National[ix], as.factor)"
   ]
  },
  {
   "cell_type": "markdown",
   "metadata": {},
   "source": [
    "**Create new ordered factor Year_Factor from Year**"
   ]
  },
  {
   "cell_type": "code",
   "execution_count": 129,
   "metadata": {},
   "outputs": [],
   "source": [
    "ASD_National$Year_Factor <- factor(ASD_National$Year, ordered = TRUE)"
   ]
  },
  {
   "cell_type": "code",
   "execution_count": 130,
   "metadata": {},
   "outputs": [
    {
     "data": {
      "text/html": [
       "<ol class=list-inline>\n",
       "\t<li>2000</li>\n",
       "\t<li>2002</li>\n",
       "\t<li>2004</li>\n",
       "\t<li>2006</li>\n",
       "\t<li>2008</li>\n",
       "\t<li>2010</li>\n",
       "\t<li>2012</li>\n",
       "\t<li>2014</li>\n",
       "\t<li>2004</li>\n",
       "\t<li>2008</li>\n",
       "\t<li>2012</li>\n",
       "\t<li>2016</li>\n",
       "\t<li>2000</li>\n",
       "\t<li>2001</li>\n",
       "\t<li>2002</li>\n",
       "\t<li>2003</li>\n",
       "\t<li>2004</li>\n",
       "\t<li>2005</li>\n",
       "\t<li>2006</li>\n",
       "\t<li>2007</li>\n",
       "\t<li>2008</li>\n",
       "\t<li>2009</li>\n",
       "\t<li>2010</li>\n",
       "\t<li>2011</li>\n",
       "\t<li>2012</li>\n",
       "\t<li>2013</li>\n",
       "\t<li>2014</li>\n",
       "\t<li>2015</li>\n",
       "\t<li>2016</li>\n",
       "\t<li>2000</li>\n",
       "\t<li>2001</li>\n",
       "\t<li>2002</li>\n",
       "\t<li>2003</li>\n",
       "\t<li>2004</li>\n",
       "\t<li>2005</li>\n",
       "\t<li>2006</li>\n",
       "\t<li>2007</li>\n",
       "\t<li>2008</li>\n",
       "\t<li>2009</li>\n",
       "\t<li>2010</li>\n",
       "\t<li>2011</li>\n",
       "\t<li>2012</li>\n",
       "</ol>\n",
       "\n",
       "<details>\n",
       "\t<summary style=display:list-item;cursor:pointer>\n",
       "\t\t<strong>Levels</strong>:\n",
       "\t</summary>\n",
       "\t<ol class=list-inline>\n",
       "\t\t<li>'2000'</li>\n",
       "\t\t<li>'2001'</li>\n",
       "\t\t<li>'2002'</li>\n",
       "\t\t<li>'2003'</li>\n",
       "\t\t<li>'2004'</li>\n",
       "\t\t<li>'2005'</li>\n",
       "\t\t<li>'2006'</li>\n",
       "\t\t<li>'2007'</li>\n",
       "\t\t<li>'2008'</li>\n",
       "\t\t<li>'2009'</li>\n",
       "\t\t<li>'2010'</li>\n",
       "\t\t<li>'2011'</li>\n",
       "\t\t<li>'2012'</li>\n",
       "\t\t<li>'2013'</li>\n",
       "\t\t<li>'2014'</li>\n",
       "\t\t<li>'2015'</li>\n",
       "\t\t<li>'2016'</li>\n",
       "\t</ol>\n",
       "</details>"
      ],
      "text/latex": [
       "\\begin{enumerate*}\n",
       "\\item 2000\n",
       "\\item 2002\n",
       "\\item 2004\n",
       "\\item 2006\n",
       "\\item 2008\n",
       "\\item 2010\n",
       "\\item 2012\n",
       "\\item 2014\n",
       "\\item 2004\n",
       "\\item 2008\n",
       "\\item 2012\n",
       "\\item 2016\n",
       "\\item 2000\n",
       "\\item 2001\n",
       "\\item 2002\n",
       "\\item 2003\n",
       "\\item 2004\n",
       "\\item 2005\n",
       "\\item 2006\n",
       "\\item 2007\n",
       "\\item 2008\n",
       "\\item 2009\n",
       "\\item 2010\n",
       "\\item 2011\n",
       "\\item 2012\n",
       "\\item 2013\n",
       "\\item 2014\n",
       "\\item 2015\n",
       "\\item 2016\n",
       "\\item 2000\n",
       "\\item 2001\n",
       "\\item 2002\n",
       "\\item 2003\n",
       "\\item 2004\n",
       "\\item 2005\n",
       "\\item 2006\n",
       "\\item 2007\n",
       "\\item 2008\n",
       "\\item 2009\n",
       "\\item 2010\n",
       "\\item 2011\n",
       "\\item 2012\n",
       "\\end{enumerate*}\n",
       "\n",
       "\\emph{Levels}: \\begin{enumerate*}\n",
       "\\item '2000'\n",
       "\\item '2001'\n",
       "\\item '2002'\n",
       "\\item '2003'\n",
       "\\item '2004'\n",
       "\\item '2005'\n",
       "\\item '2006'\n",
       "\\item '2007'\n",
       "\\item '2008'\n",
       "\\item '2009'\n",
       "\\item '2010'\n",
       "\\item '2011'\n",
       "\\item '2012'\n",
       "\\item '2013'\n",
       "\\item '2014'\n",
       "\\item '2015'\n",
       "\\item '2016'\n",
       "\\end{enumerate*}\n"
      ],
      "text/markdown": [
       "1. 2000\n",
       "2. 2002\n",
       "3. 2004\n",
       "4. 2006\n",
       "5. 2008\n",
       "6. 2010\n",
       "7. 2012\n",
       "8. 2014\n",
       "9. 2004\n",
       "10. 2008\n",
       "11. 2012\n",
       "12. 2016\n",
       "13. 2000\n",
       "14. 2001\n",
       "15. 2002\n",
       "16. 2003\n",
       "17. 2004\n",
       "18. 2005\n",
       "19. 2006\n",
       "20. 2007\n",
       "21. 2008\n",
       "22. 2009\n",
       "23. 2010\n",
       "24. 2011\n",
       "25. 2012\n",
       "26. 2013\n",
       "27. 2014\n",
       "28. 2015\n",
       "29. 2016\n",
       "30. 2000\n",
       "31. 2001\n",
       "32. 2002\n",
       "33. 2003\n",
       "34. 2004\n",
       "35. 2005\n",
       "36. 2006\n",
       "37. 2007\n",
       "38. 2008\n",
       "39. 2009\n",
       "40. 2010\n",
       "41. 2011\n",
       "42. 2012\n",
       "\n",
       "\n",
       "\n",
       "**Levels**: 1. '2000'\n",
       "2. '2001'\n",
       "3. '2002'\n",
       "4. '2003'\n",
       "5. '2004'\n",
       "6. '2005'\n",
       "7. '2006'\n",
       "8. '2007'\n",
       "9. '2008'\n",
       "10. '2009'\n",
       "11. '2010'\n",
       "12. '2011'\n",
       "13. '2012'\n",
       "14. '2013'\n",
       "15. '2014'\n",
       "16. '2015'\n",
       "17. '2016'\n",
       "\n",
       "\n"
      ],
      "text/plain": [
       " [1] 2000 2002 2004 2006 2008 2010 2012 2014 2004 2008 2012 2016 2000 2001 2002\n",
       "[16] 2003 2004 2005 2006 2007 2008 2009 2010 2011 2012 2013 2014 2015 2016 2000\n",
       "[31] 2001 2002 2003 2004 2005 2006 2007 2008 2009 2010 2011 2012\n",
       "17 Levels: 2000 < 2001 < 2002 < 2003 < 2004 < 2005 < 2006 < 2007 < ... < 2016"
      ]
     },
     "metadata": {},
     "output_type": "display_data"
    },
    {
     "name": "stdout",
     "output_type": "stream",
     "text": [
      " Ord.factor w/ 17 levels \"2000\"<\"2001\"<..: 1 3 5 7 9 11 13 15 5 9 ...\n"
     ]
    },
    {
     "data": {
      "text/html": [
       "<ol class=list-inline>\n",
       "\t<li>addm</li>\n",
       "\t<li>addm</li>\n",
       "\t<li>addm</li>\n",
       "\t<li>addm</li>\n",
       "\t<li>addm</li>\n",
       "\t<li>addm</li>\n",
       "\t<li>addm</li>\n",
       "\t<li>addm</li>\n",
       "\t<li>nsch</li>\n",
       "\t<li>nsch</li>\n",
       "\t<li>nsch</li>\n",
       "\t<li>nsch</li>\n",
       "\t<li>sped</li>\n",
       "\t<li>sped</li>\n",
       "\t<li>sped</li>\n",
       "\t<li>sped</li>\n",
       "\t<li>sped</li>\n",
       "\t<li>sped</li>\n",
       "\t<li>sped</li>\n",
       "\t<li>sped</li>\n",
       "\t<li>sped</li>\n",
       "\t<li>sped</li>\n",
       "\t<li>sped</li>\n",
       "\t<li>sped</li>\n",
       "\t<li>sped</li>\n",
       "\t<li>sped</li>\n",
       "\t<li>sped</li>\n",
       "\t<li>sped</li>\n",
       "\t<li>sped</li>\n",
       "\t<li>medi</li>\n",
       "\t<li>medi</li>\n",
       "\t<li>medi</li>\n",
       "\t<li>medi</li>\n",
       "\t<li>medi</li>\n",
       "\t<li>medi</li>\n",
       "\t<li>medi</li>\n",
       "\t<li>medi</li>\n",
       "\t<li>medi</li>\n",
       "\t<li>medi</li>\n",
       "\t<li>medi</li>\n",
       "\t<li>medi</li>\n",
       "\t<li>medi</li>\n",
       "</ol>\n",
       "\n",
       "<details>\n",
       "\t<summary style=display:list-item;cursor:pointer>\n",
       "\t\t<strong>Levels</strong>:\n",
       "\t</summary>\n",
       "\t<ol class=list-inline>\n",
       "\t\t<li>'addm'</li>\n",
       "\t\t<li>'medi'</li>\n",
       "\t\t<li>'nsch'</li>\n",
       "\t\t<li>'sped'</li>\n",
       "\t</ol>\n",
       "</details>"
      ],
      "text/latex": [
       "\\begin{enumerate*}\n",
       "\\item addm\n",
       "\\item addm\n",
       "\\item addm\n",
       "\\item addm\n",
       "\\item addm\n",
       "\\item addm\n",
       "\\item addm\n",
       "\\item addm\n",
       "\\item nsch\n",
       "\\item nsch\n",
       "\\item nsch\n",
       "\\item nsch\n",
       "\\item sped\n",
       "\\item sped\n",
       "\\item sped\n",
       "\\item sped\n",
       "\\item sped\n",
       "\\item sped\n",
       "\\item sped\n",
       "\\item sped\n",
       "\\item sped\n",
       "\\item sped\n",
       "\\item sped\n",
       "\\item sped\n",
       "\\item sped\n",
       "\\item sped\n",
       "\\item sped\n",
       "\\item sped\n",
       "\\item sped\n",
       "\\item medi\n",
       "\\item medi\n",
       "\\item medi\n",
       "\\item medi\n",
       "\\item medi\n",
       "\\item medi\n",
       "\\item medi\n",
       "\\item medi\n",
       "\\item medi\n",
       "\\item medi\n",
       "\\item medi\n",
       "\\item medi\n",
       "\\item medi\n",
       "\\end{enumerate*}\n",
       "\n",
       "\\emph{Levels}: \\begin{enumerate*}\n",
       "\\item 'addm'\n",
       "\\item 'medi'\n",
       "\\item 'nsch'\n",
       "\\item 'sped'\n",
       "\\end{enumerate*}\n"
      ],
      "text/markdown": [
       "1. addm\n",
       "2. addm\n",
       "3. addm\n",
       "4. addm\n",
       "5. addm\n",
       "6. addm\n",
       "7. addm\n",
       "8. addm\n",
       "9. nsch\n",
       "10. nsch\n",
       "11. nsch\n",
       "12. nsch\n",
       "13. sped\n",
       "14. sped\n",
       "15. sped\n",
       "16. sped\n",
       "17. sped\n",
       "18. sped\n",
       "19. sped\n",
       "20. sped\n",
       "21. sped\n",
       "22. sped\n",
       "23. sped\n",
       "24. sped\n",
       "25. sped\n",
       "26. sped\n",
       "27. sped\n",
       "28. sped\n",
       "29. sped\n",
       "30. medi\n",
       "31. medi\n",
       "32. medi\n",
       "33. medi\n",
       "34. medi\n",
       "35. medi\n",
       "36. medi\n",
       "37. medi\n",
       "38. medi\n",
       "39. medi\n",
       "40. medi\n",
       "41. medi\n",
       "42. medi\n",
       "\n",
       "\n",
       "\n",
       "**Levels**: 1. 'addm'\n",
       "2. 'medi'\n",
       "3. 'nsch'\n",
       "4. 'sped'\n",
       "\n",
       "\n"
      ],
      "text/plain": [
       " [1] addm addm addm addm addm addm addm addm nsch nsch nsch nsch sped sped sped\n",
       "[16] sped sped sped sped sped sped sped sped sped sped sped sped sped sped medi\n",
       "[31] medi medi medi medi medi medi medi medi medi medi medi medi\n",
       "Levels: addm medi nsch sped"
      ]
     },
     "metadata": {},
     "output_type": "display_data"
    },
    {
     "name": "stdout",
     "output_type": "stream",
     "text": [
      " Factor w/ 4 levels \"addm\",\"medi\",..: 1 1 1 1 1 1 1 1 3 3 ...\n"
     ]
    }
   ],
   "source": [
    "# Observe the difference of 'Levels' in below two factors\n",
    "ASD_National$Year_Factor # Ordinal categorical variable\n",
    "str(ASD_National$Year_Factor)\n",
    "\n",
    "ASD_National$Source # Nominal categorical variable\n",
    "str(ASD_National$Source)"
   ]
  },
  {
   "cell_type": "code",
   "execution_count": 131,
   "metadata": {},
   "outputs": [],
   "source": [
    "# Optionally, below is manual conversion examples:\n",
    "# ASD_National$Male.Prevalence = as.numeric(ASD_National$Male.Prevalence)\n",
    "# ASD_National$Source = as.factor(ASD_National$Source)"
   ]
  },
  {
   "cell_type": "markdown",
   "metadata": {},
   "source": [
    "**Optionally, export the processed dataframe data to CSV file.**"
   ]
  },
  {
   "cell_type": "code",
   "execution_count": 132,
   "metadata": {},
   "outputs": [],
   "source": [
    "write.csv(ASD_National, file = \"../dataset/ADV_ASD_National_R.csv\", row.names = FALSE)"
   ]
  },
  {
   "cell_type": "code",
   "execution_count": 133,
   "metadata": {},
   "outputs": [],
   "source": [
    "# Read back in above saved file:\n",
    "# ASD_National <- read.csv(\"../dataset/ADV_ASD_National_R.csv\")\n",
    "# ASD_National$Year_Factor <- factor(ASD_National$Year_Factor, ordered = TRUE) # Convert Year_Factor to ordered.factor"
   ]
  },
  {
   "cell_type": "markdown",
   "metadata": {},
   "source": [
    "<div class=\"alert alert-block alert-info\" style=\"margin-top: 20px\">\n",
    "</div>\n"
   ]
  },
  {
   "cell_type": "markdown",
   "metadata": {},
   "source": [
    "\n",
    "## <span style=\"color:blue\">Data Summarization </span>\n"
   ]
  },
  {
   "cell_type": "markdown",
   "metadata": {},
   "source": [
    "<div class=\"alert alert-block alert-info\" style=\"margin-top: 20px\">\n",
    "    <h3>\n",
    "    Data Summarization - High Level Data Summary\n",
    "    </h3>\n",
    "</div>\n"
   ]
  },
  {
   "cell_type": "code",
   "execution_count": 202,
   "metadata": {
    "scrolled": true
   },
   "outputs": [
    {
     "data": {
      "text/plain": [
       "  Source        Year        Prevalence        Upper.CI         Lower.CI     \n",
       " addm: 8   Min.   :2000   Min.   : 1.800   Min.   : 1.800   Min.   : 1.700  \n",
       " medi:13   1st Qu.:2004   1st Qu.: 3.950   1st Qu.: 3.950   1st Qu.: 3.875  \n",
       " nsch: 4   Median :2008   Median : 6.650   Median : 6.900   Median : 6.350  \n",
       " sped:17   Mean   :2007   Mean   : 7.952   Mean   : 8.207   Mean   : 7.712  \n",
       "           3rd Qu.:2011   3rd Qu.: 9.725   3rd Qu.:10.350   3rd Qu.: 9.625  \n",
       "           Max.   :2016   Max.   :29.200   Max.   :30.700   Max.   :27.700  \n",
       "                                                                            \n",
       "                                                 Source_Full1\n",
       " Autism & Developmental Disabilities Monitoring Network: 8   \n",
       " Medicaid                                              :13   \n",
       " National Survey of Children's Health                  : 4   \n",
       " Special Education Child Count                         :17   \n",
       "                                                             \n",
       "                                                             \n",
       "                                                             \n",
       "                                                      Source_Full2\n",
       " addm-Autism & Developmental Disabilities Monitoring Network: 8   \n",
       " medi-Medicaid                                              :13   \n",
       " nsch-National Survey of Children's Health                  : 4   \n",
       " sped-Special Education Child Count                         :17   \n",
       "                                                                  \n",
       "                                                                  \n",
       "                                                                  \n",
       " Male.Prevalence Male.Lower.CI   Male.Upper.CI   Female.Prevalence\n",
       " Min.   :11.50   Min.   :12.20   Min.   :13.70   Min.   :2.700    \n",
       " 1st Qu.:13.70   1st Qu.:14.85   1st Qu.:16.07   1st Qu.:3.050    \n",
       " Median :18.40   Median :20.20   Median :21.55   Median :4.000    \n",
       " Mean   :18.71   Mean   :19.22   Mean   :20.62   Mean   :4.271    \n",
       " 3rd Qu.:23.55   3rd Qu.:22.93   3rd Qu.:24.32   3rd Qu.:5.250    \n",
       " Max.   :26.60   Max.   :25.80   Max.   :27.40   Max.   :6.600    \n",
       " NA's   :35      NA's   :36      NA's   :36      NA's   :35       \n",
       " Female.Lower.CI Female.Upper.CI Non.hispanic.white.Prevalence\n",
       " Min.   :2.600   Min.   :3.300   Min.   : 7.70                \n",
       " 1st Qu.:3.100   1st Qu.:3.700   1st Qu.: 9.80                \n",
       " Median :4.300   Median :4.950   Median :12.00                \n",
       " Mean   :4.217   Mean   :4.900   Mean   :12.51                \n",
       " 3rd Qu.:4.975   3rd Qu.:5.675   3rd Qu.:15.55                \n",
       " Max.   :6.200   Max.   :7.000   Max.   :17.20                \n",
       " NA's   :36      NA's   :36      NA's   :35                   \n",
       " Non.hispanic.white.Lower.CI Non.hispanic.white.Upper.CI\n",
       " Min.   : 9.100              Min.   :10.40              \n",
       " 1st Qu.: 9.925              1st Qu.:10.93              \n",
       " Median :13.100              Median :14.20              \n",
       " Mean   :12.733              Mean   :13.88              \n",
       " 3rd Qu.:15.075              3rd Qu.:16.20              \n",
       " Max.   :16.500              Max.   :17.80              \n",
       " NA's   :36                  NA's   :36                 \n",
       " Non.hispanic.black.Prevalence Non.hispanic.black.Lower.CI\n",
       " Min.   : 6.50                 Min.   : 6.200             \n",
       " 1st Qu.: 7.05                 1st Qu.: 7.325             \n",
       " Median :10.20                 Median :10.500             \n",
       " Mean   :10.31                 Mean   :10.200             \n",
       " 3rd Qu.:12.70                 3rd Qu.:12.100             \n",
       " Max.   :16.00                 Max.   :15.100             \n",
       " NA's   :35                    NA's   :36                 \n",
       " Non.hispanic.black.Upper.CI Hispanic.Prevalence Hispanic.Lower.CI\n",
       " Min.   : 7.600              Min.   : 5.900      Min.   : 5.000   \n",
       " 1st Qu.: 8.575              1st Qu.: 6.625      1st Qu.: 5.775   \n",
       " Median :12.000              Median : 9.000      Median : 8.300   \n",
       " Mean   :11.700              Mean   : 9.150      Mean   : 8.333   \n",
       " 3rd Qu.:13.700              3rd Qu.:10.625      3rd Qu.: 9.850   \n",
       " Max.   :16.900              Max.   :14.000      Max.   :13.100   \n",
       " NA's   :36                  NA's   :36          NA's   :36       \n",
       " Hispanic.Upper.CI Asian.or.Pacific.Islander.Prevalence\n",
       " Min.   : 6.600    Min.   : 9.70                       \n",
       " 1st Qu.: 7.775    1st Qu.:10.97                       \n",
       " Median : 9.750    Median :11.85                       \n",
       " Mean   :10.017    Mean   :11.72                       \n",
       " 3rd Qu.:11.425    3rd Qu.:12.60                       \n",
       " Max.   :14.900    Max.   :13.50                       \n",
       " NA's   :36        NA's   :38                          \n",
       " Asian.or.Pacific.Islander.Lower.CI Asian.or.Pacific.Islander.Upper.CI\n",
       " Min.   : 8.10                      Min.   :11.60                     \n",
       " 1st Qu.: 9.45                      1st Qu.:12.72                     \n",
       " Median :10.30                      Median :13.65                     \n",
       " Mean   :10.12                      Mean   :13.57                     \n",
       " 3rd Qu.:10.97                      3rd Qu.:14.50                     \n",
       " Max.   :11.80                      Max.   :15.40                     \n",
       " NA's   :38                         NA's   :38                        \n",
       " Source_UC                                                      Source_Full3\n",
       " ADDM: 8   ADDM Autism & Developmental Disabilities Monitoring Network: 8   \n",
       " MEDI:13   MEDI Medicaid                                              :13   \n",
       " NSCH: 4   NSCH National Survey of Children's Health                  : 4   \n",
       " SPED:17   SPED Special Education Child Count                         :17   \n",
       "                                                                            \n",
       "                                                                            \n",
       "                                                                            \n",
       "  Year_Factor\n",
       " 2004   : 4  \n",
       " 2008   : 4  \n",
       " 2012   : 4  \n",
       " 2000   : 3  \n",
       " 2002   : 3  \n",
       " 2006   : 3  \n",
       " (Other):21  "
      ]
     },
     "metadata": {},
     "output_type": "display_data"
    }
   ],
   "source": [
    "summary(ASD_National)"
   ]
  },
  {
   "cell_type": "markdown",
   "metadata": {},
   "source": [
    "<div class=\"alert alert-block alert-info\" style=\"margin-top: 20px\">\n",
    "    <h3>\n",
    "    Data Summarization - Summary of <span style=\"color:blue\">numeric</span> variables\n",
    "    </h3>\n",
    "</div>\n"
   ]
  },
  {
   "cell_type": "code",
   "execution_count": 135,
   "metadata": {
    "scrolled": true
   },
   "outputs": [
    {
     "data": {
      "text/html": [
       "<table>\n",
       "<caption>A tibble: 42 × 22</caption>\n",
       "<thead>\n",
       "\t<tr><th scope=col>Year</th><th scope=col>Prevalence</th><th scope=col>Upper.CI</th><th scope=col>Lower.CI</th><th scope=col>Male.Prevalence</th><th scope=col>Male.Lower.CI</th><th scope=col>Male.Upper.CI</th><th scope=col>Female.Prevalence</th><th scope=col>Female.Lower.CI</th><th scope=col>Female.Upper.CI</th><th scope=col>⋯</th><th scope=col>Non.hispanic.white.Upper.CI</th><th scope=col>Non.hispanic.black.Prevalence</th><th scope=col>Non.hispanic.black.Lower.CI</th><th scope=col>Non.hispanic.black.Upper.CI</th><th scope=col>Hispanic.Prevalence</th><th scope=col>Hispanic.Lower.CI</th><th scope=col>Hispanic.Upper.CI</th><th scope=col>Asian.or.Pacific.Islander.Prevalence</th><th scope=col>Asian.or.Pacific.Islander.Lower.CI</th><th scope=col>Asian.or.Pacific.Islander.Upper.CI</th></tr>\n",
       "\t<tr><th scope=col>&lt;int&gt;</th><th scope=col>&lt;dbl&gt;</th><th scope=col>&lt;dbl&gt;</th><th scope=col>&lt;dbl&gt;</th><th scope=col>&lt;dbl&gt;</th><th scope=col>&lt;dbl&gt;</th><th scope=col>&lt;dbl&gt;</th><th scope=col>&lt;dbl&gt;</th><th scope=col>&lt;dbl&gt;</th><th scope=col>&lt;dbl&gt;</th><th scope=col>⋯</th><th scope=col>&lt;dbl&gt;</th><th scope=col>&lt;dbl&gt;</th><th scope=col>&lt;dbl&gt;</th><th scope=col>&lt;dbl&gt;</th><th scope=col>&lt;dbl&gt;</th><th scope=col>&lt;dbl&gt;</th><th scope=col>&lt;dbl&gt;</th><th scope=col>&lt;dbl&gt;</th><th scope=col>&lt;dbl&gt;</th><th scope=col>&lt;dbl&gt;</th></tr>\n",
       "</thead>\n",
       "<tbody>\n",
       "\t<tr><td>2000</td><td> 6.7</td><td> 7.0</td><td> 6.3</td><td>  NA</td><td>  NA</td><td>  NA</td><td> NA</td><td> NA</td><td> NA</td><td>⋯</td><td>  NA</td><td>  NA</td><td>  NA</td><td>  NA</td><td>  NA</td><td>  NA</td><td>  NA</td><td>  NA</td><td>  NA</td><td>  NA</td></tr>\n",
       "\t<tr><td>2002</td><td> 6.6</td><td> 6.8</td><td> 6.3</td><td>11.5</td><td>  NA</td><td>  NA</td><td>2.7</td><td> NA</td><td> NA</td><td>⋯</td><td>  NA</td><td> 6.5</td><td>  NA</td><td>  NA</td><td>  NA</td><td>  NA</td><td>  NA</td><td>  NA</td><td>  NA</td><td>  NA</td></tr>\n",
       "\t<tr><td>2004</td><td> 8.0</td><td> 8.4</td><td> 7.6</td><td>12.9</td><td>12.2</td><td>13.7</td><td>2.9</td><td>2.6</td><td>3.3</td><td>⋯</td><td>10.4</td><td> 6.9</td><td> 6.2</td><td> 7.6</td><td> 6.2</td><td> 5.0</td><td> 7.5</td><td>  NA</td><td>  NA</td><td>  NA</td></tr>\n",
       "\t<tr><td>2006</td><td> 9.0</td><td> 9.3</td><td> 8.6</td><td>14.5</td><td>13.9</td><td>15.1</td><td>3.2</td><td>2.9</td><td>3.5</td><td>⋯</td><td>10.4</td><td> 7.2</td><td> 6.6</td><td> 7.8</td><td> 5.9</td><td> 5.3</td><td> 6.6</td><td>  NA</td><td>  NA</td><td>  NA</td></tr>\n",
       "\t<tr><td>2008</td><td>11.3</td><td>11.7</td><td>11.0</td><td>18.4</td><td>17.7</td><td>19.0</td><td>4.0</td><td>3.7</td><td>4.3</td><td>⋯</td><td>12.5</td><td>10.2</td><td> 9.5</td><td>10.9</td><td> 7.9</td><td> 7.2</td><td> 8.6</td><td> 9.7</td><td> 8.1</td><td>11.6</td></tr>\n",
       "\t<tr><td>2010</td><td>14.7</td><td>15.1</td><td>14.3</td><td>23.7</td><td>23.0</td><td>24.4</td><td>5.3</td><td>5.0</td><td>5.7</td><td>⋯</td><td>16.3</td><td>12.3</td><td>11.5</td><td>13.1</td><td>10.8</td><td>10.0</td><td>11.6</td><td>12.3</td><td>10.7</td><td>14.2</td></tr>\n",
       "\t<tr><td>2012</td><td>14.8</td><td>15.2</td><td>14.4</td><td>23.4</td><td>22.7</td><td>24.1</td><td>5.2</td><td>4.9</td><td>5.6</td><td>⋯</td><td>15.9</td><td>13.1</td><td>12.3</td><td>13.9</td><td>10.1</td><td> 9.4</td><td>10.9</td><td>11.4</td><td> 9.9</td><td>13.1</td></tr>\n",
       "\t<tr><td>2014</td><td>16.8</td><td>17.3</td><td>16.4</td><td>26.6</td><td>25.8</td><td>27.4</td><td>6.6</td><td>6.2</td><td>7.0</td><td>⋯</td><td>17.8</td><td>16.0</td><td>15.1</td><td>16.9</td><td>14.0</td><td>13.1</td><td>14.9</td><td>13.5</td><td>11.8</td><td>15.4</td></tr>\n",
       "\t<tr><td>2004</td><td> 9.5</td><td>12.0</td><td> 7.4</td><td>  NA</td><td>  NA</td><td>  NA</td><td> NA</td><td> NA</td><td> NA</td><td>⋯</td><td>  NA</td><td>  NA</td><td>  NA</td><td>  NA</td><td>  NA</td><td>  NA</td><td>  NA</td><td>  NA</td><td>  NA</td><td>  NA</td></tr>\n",
       "\t<tr><td>2008</td><td>16.2</td><td>18.1</td><td>14.5</td><td>  NA</td><td>  NA</td><td>  NA</td><td> NA</td><td> NA</td><td> NA</td><td>⋯</td><td>  NA</td><td>  NA</td><td>  NA</td><td>  NA</td><td>  NA</td><td>  NA</td><td>  NA</td><td>  NA</td><td>  NA</td><td>  NA</td></tr>\n",
       "\t<tr><td>2012</td><td>21.2</td><td>22.3</td><td>20.1</td><td>  NA</td><td>  NA</td><td>  NA</td><td> NA</td><td> NA</td><td> NA</td><td>⋯</td><td>  NA</td><td>  NA</td><td>  NA</td><td>  NA</td><td>  NA</td><td>  NA</td><td>  NA</td><td>  NA</td><td>  NA</td><td>  NA</td></tr>\n",
       "\t<tr><td>2016</td><td>29.2</td><td>30.7</td><td>27.7</td><td>  NA</td><td>  NA</td><td>  NA</td><td> NA</td><td> NA</td><td> NA</td><td>⋯</td><td>  NA</td><td>  NA</td><td>  NA</td><td>  NA</td><td>  NA</td><td>  NA</td><td>  NA</td><td>  NA</td><td>  NA</td><td>  NA</td></tr>\n",
       "\t<tr><td>2000</td><td> 1.8</td><td> 1.8</td><td> 1.7</td><td>  NA</td><td>  NA</td><td>  NA</td><td> NA</td><td> NA</td><td> NA</td><td>⋯</td><td>  NA</td><td>  NA</td><td>  NA</td><td>  NA</td><td>  NA</td><td>  NA</td><td>  NA</td><td>  NA</td><td>  NA</td><td>  NA</td></tr>\n",
       "\t<tr><td>2001</td><td> 2.1</td><td> 2.1</td><td> 2.1</td><td>  NA</td><td>  NA</td><td>  NA</td><td> NA</td><td> NA</td><td> NA</td><td>⋯</td><td>  NA</td><td>  NA</td><td>  NA</td><td>  NA</td><td>  NA</td><td>  NA</td><td>  NA</td><td>  NA</td><td>  NA</td><td>  NA</td></tr>\n",
       "\t<tr><td>2002</td><td> 2.6</td><td> 2.6</td><td> 2.6</td><td>  NA</td><td>  NA</td><td>  NA</td><td> NA</td><td> NA</td><td> NA</td><td>⋯</td><td>  NA</td><td>  NA</td><td>  NA</td><td>  NA</td><td>  NA</td><td>  NA</td><td>  NA</td><td>  NA</td><td>  NA</td><td>  NA</td></tr>\n",
       "\t<tr><td>2003</td><td> 3.0</td><td> 3.0</td><td> 3.0</td><td>  NA</td><td>  NA</td><td>  NA</td><td> NA</td><td> NA</td><td> NA</td><td>⋯</td><td>  NA</td><td>  NA</td><td>  NA</td><td>  NA</td><td>  NA</td><td>  NA</td><td>  NA</td><td>  NA</td><td>  NA</td><td>  NA</td></tr>\n",
       "\t<tr><td>2004</td><td> 3.6</td><td> 3.6</td><td> 3.5</td><td>  NA</td><td>  NA</td><td>  NA</td><td> NA</td><td> NA</td><td> NA</td><td>⋯</td><td>  NA</td><td>  NA</td><td>  NA</td><td>  NA</td><td>  NA</td><td>  NA</td><td>  NA</td><td>  NA</td><td>  NA</td><td>  NA</td></tr>\n",
       "\t<tr><td>2005</td><td> 4.1</td><td> 4.1</td><td> 4.1</td><td>  NA</td><td>  NA</td><td>  NA</td><td> NA</td><td> NA</td><td> NA</td><td>⋯</td><td>  NA</td><td>  NA</td><td>  NA</td><td>  NA</td><td>  NA</td><td>  NA</td><td>  NA</td><td>  NA</td><td>  NA</td><td>  NA</td></tr>\n",
       "\t<tr><td>2006</td><td> 4.8</td><td> 4.8</td><td> 4.7</td><td>  NA</td><td>  NA</td><td>  NA</td><td> NA</td><td> NA</td><td> NA</td><td>⋯</td><td>  NA</td><td>  NA</td><td>  NA</td><td>  NA</td><td>  NA</td><td>  NA</td><td>  NA</td><td>  NA</td><td>  NA</td><td>  NA</td></tr>\n",
       "\t<tr><td>2007</td><td> 5.4</td><td> 5.5</td><td> 5.4</td><td>  NA</td><td>  NA</td><td>  NA</td><td> NA</td><td> NA</td><td> NA</td><td>⋯</td><td>  NA</td><td>  NA</td><td>  NA</td><td>  NA</td><td>  NA</td><td>  NA</td><td>  NA</td><td>  NA</td><td>  NA</td><td>  NA</td></tr>\n",
       "\t<tr><td>2008</td><td> 6.2</td><td> 6.2</td><td> 6.2</td><td>  NA</td><td>  NA</td><td>  NA</td><td> NA</td><td> NA</td><td> NA</td><td>⋯</td><td>  NA</td><td>  NA</td><td>  NA</td><td>  NA</td><td>  NA</td><td>  NA</td><td>  NA</td><td>  NA</td><td>  NA</td><td>  NA</td></tr>\n",
       "\t<tr><td>2009</td><td> 7.0</td><td> 7.0</td><td> 7.0</td><td>  NA</td><td>  NA</td><td>  NA</td><td> NA</td><td> NA</td><td> NA</td><td>⋯</td><td>  NA</td><td>  NA</td><td>  NA</td><td>  NA</td><td>  NA</td><td>  NA</td><td>  NA</td><td>  NA</td><td>  NA</td><td>  NA</td></tr>\n",
       "\t<tr><td>2010</td><td> 7.7</td><td> 7.7</td><td> 7.7</td><td>  NA</td><td>  NA</td><td>  NA</td><td> NA</td><td> NA</td><td> NA</td><td>⋯</td><td>  NA</td><td>  NA</td><td>  NA</td><td>  NA</td><td>  NA</td><td>  NA</td><td>  NA</td><td>  NA</td><td>  NA</td><td>  NA</td></tr>\n",
       "\t<tr><td>2011</td><td> 8.4</td><td> 8.5</td><td> 8.4</td><td>  NA</td><td>  NA</td><td>  NA</td><td> NA</td><td> NA</td><td> NA</td><td>⋯</td><td>  NA</td><td>  NA</td><td>  NA</td><td>  NA</td><td>  NA</td><td>  NA</td><td>  NA</td><td>  NA</td><td>  NA</td><td>  NA</td></tr>\n",
       "\t<tr><td>2012</td><td> 9.1</td><td> 9.2</td><td> 9.1</td><td>  NA</td><td>  NA</td><td>  NA</td><td> NA</td><td> NA</td><td> NA</td><td>⋯</td><td>  NA</td><td>  NA</td><td>  NA</td><td>  NA</td><td>  NA</td><td>  NA</td><td>  NA</td><td>  NA</td><td>  NA</td><td>  NA</td></tr>\n",
       "\t<tr><td>2013</td><td> 9.8</td><td> 9.9</td><td> 9.8</td><td>  NA</td><td>  NA</td><td>  NA</td><td> NA</td><td> NA</td><td> NA</td><td>⋯</td><td>  NA</td><td>  NA</td><td>  NA</td><td>  NA</td><td>  NA</td><td>  NA</td><td>  NA</td><td>  NA</td><td>  NA</td><td>  NA</td></tr>\n",
       "\t<tr><td>2014</td><td>10.5</td><td>10.5</td><td>10.5</td><td>  NA</td><td>  NA</td><td>  NA</td><td> NA</td><td> NA</td><td> NA</td><td>⋯</td><td>  NA</td><td>  NA</td><td>  NA</td><td>  NA</td><td>  NA</td><td>  NA</td><td>  NA</td><td>  NA</td><td>  NA</td><td>  NA</td></tr>\n",
       "\t<tr><td>2015</td><td>11.2</td><td>11.2</td><td>11.2</td><td>  NA</td><td>  NA</td><td>  NA</td><td> NA</td><td> NA</td><td> NA</td><td>⋯</td><td>  NA</td><td>  NA</td><td>  NA</td><td>  NA</td><td>  NA</td><td>  NA</td><td>  NA</td><td>  NA</td><td>  NA</td><td>  NA</td></tr>\n",
       "\t<tr><td>2016</td><td>11.9</td><td>11.9</td><td>11.9</td><td>  NA</td><td>  NA</td><td>  NA</td><td> NA</td><td> NA</td><td> NA</td><td>⋯</td><td>  NA</td><td>  NA</td><td>  NA</td><td>  NA</td><td>  NA</td><td>  NA</td><td>  NA</td><td>  NA</td><td>  NA</td><td>  NA</td></tr>\n",
       "\t<tr><td>2000</td><td> 2.3</td><td> 2.4</td><td> 2.3</td><td>  NA</td><td>  NA</td><td>  NA</td><td> NA</td><td> NA</td><td> NA</td><td>⋯</td><td>  NA</td><td>  NA</td><td>  NA</td><td>  NA</td><td>  NA</td><td>  NA</td><td>  NA</td><td>  NA</td><td>  NA</td><td>  NA</td></tr>\n",
       "\t<tr><td>2001</td><td> 2.6</td><td> 2.6</td><td> 2.6</td><td>  NA</td><td>  NA</td><td>  NA</td><td> NA</td><td> NA</td><td> NA</td><td>⋯</td><td>  NA</td><td>  NA</td><td>  NA</td><td>  NA</td><td>  NA</td><td>  NA</td><td>  NA</td><td>  NA</td><td>  NA</td><td>  NA</td></tr>\n",
       "\t<tr><td>2002</td><td> 2.8</td><td> 2.8</td><td> 2.7</td><td>  NA</td><td>  NA</td><td>  NA</td><td> NA</td><td> NA</td><td> NA</td><td>⋯</td><td>  NA</td><td>  NA</td><td>  NA</td><td>  NA</td><td>  NA</td><td>  NA</td><td>  NA</td><td>  NA</td><td>  NA</td><td>  NA</td></tr>\n",
       "\t<tr><td>2003</td><td> 3.0</td><td> 3.0</td><td> 3.0</td><td>  NA</td><td>  NA</td><td>  NA</td><td> NA</td><td> NA</td><td> NA</td><td>⋯</td><td>  NA</td><td>  NA</td><td>  NA</td><td>  NA</td><td>  NA</td><td>  NA</td><td>  NA</td><td>  NA</td><td>  NA</td><td>  NA</td></tr>\n",
       "\t<tr><td>2004</td><td> 3.5</td><td> 3.6</td><td> 3.5</td><td>  NA</td><td>  NA</td><td>  NA</td><td> NA</td><td> NA</td><td> NA</td><td>⋯</td><td>  NA</td><td>  NA</td><td>  NA</td><td>  NA</td><td>  NA</td><td>  NA</td><td>  NA</td><td>  NA</td><td>  NA</td><td>  NA</td></tr>\n",
       "\t<tr><td>2005</td><td> 3.9</td><td> 3.9</td><td> 3.8</td><td>  NA</td><td>  NA</td><td>  NA</td><td> NA</td><td> NA</td><td> NA</td><td>⋯</td><td>  NA</td><td>  NA</td><td>  NA</td><td>  NA</td><td>  NA</td><td>  NA</td><td>  NA</td><td>  NA</td><td>  NA</td><td>  NA</td></tr>\n",
       "\t<tr><td>2006</td><td> 4.4</td><td> 4.5</td><td> 4.4</td><td>  NA</td><td>  NA</td><td>  NA</td><td> NA</td><td> NA</td><td> NA</td><td>⋯</td><td>  NA</td><td>  NA</td><td>  NA</td><td>  NA</td><td>  NA</td><td>  NA</td><td>  NA</td><td>  NA</td><td>  NA</td><td>  NA</td></tr>\n",
       "\t<tr><td>2007</td><td> 5.1</td><td> 5.1</td><td> 5.0</td><td>  NA</td><td>  NA</td><td>  NA</td><td> NA</td><td> NA</td><td> NA</td><td>⋯</td><td>  NA</td><td>  NA</td><td>  NA</td><td>  NA</td><td>  NA</td><td>  NA</td><td>  NA</td><td>  NA</td><td>  NA</td><td>  NA</td></tr>\n",
       "\t<tr><td>2008</td><td> 5.6</td><td> 5.6</td><td> 5.5</td><td>  NA</td><td>  NA</td><td>  NA</td><td> NA</td><td> NA</td><td> NA</td><td>⋯</td><td>  NA</td><td>  NA</td><td>  NA</td><td>  NA</td><td>  NA</td><td>  NA</td><td>  NA</td><td>  NA</td><td>  NA</td><td>  NA</td></tr>\n",
       "\t<tr><td>2009</td><td> 5.9</td><td> 5.9</td><td> 5.9</td><td>  NA</td><td>  NA</td><td>  NA</td><td> NA</td><td> NA</td><td> NA</td><td>⋯</td><td>  NA</td><td>  NA</td><td>  NA</td><td>  NA</td><td>  NA</td><td>  NA</td><td>  NA</td><td>  NA</td><td>  NA</td><td>  NA</td></tr>\n",
       "\t<tr><td>2010</td><td> 6.4</td><td> 6.4</td><td> 6.4</td><td>  NA</td><td>  NA</td><td>  NA</td><td> NA</td><td> NA</td><td> NA</td><td>⋯</td><td>  NA</td><td>  NA</td><td>  NA</td><td>  NA</td><td>  NA</td><td>  NA</td><td>  NA</td><td>  NA</td><td>  NA</td><td>  NA</td></tr>\n",
       "\t<tr><td>2011</td><td> 7.1</td><td> 7.1</td><td> 7.1</td><td>  NA</td><td>  NA</td><td>  NA</td><td> NA</td><td> NA</td><td> NA</td><td>⋯</td><td>  NA</td><td>  NA</td><td>  NA</td><td>  NA</td><td>  NA</td><td>  NA</td><td>  NA</td><td>  NA</td><td>  NA</td><td>  NA</td></tr>\n",
       "\t<tr><td>2012</td><td> 8.2</td><td> 8.3</td><td> 8.2</td><td>  NA</td><td>  NA</td><td>  NA</td><td> NA</td><td> NA</td><td> NA</td><td>⋯</td><td>  NA</td><td>  NA</td><td>  NA</td><td>  NA</td><td>  NA</td><td>  NA</td><td>  NA</td><td>  NA</td><td>  NA</td><td>  NA</td></tr>\n",
       "</tbody>\n",
       "</table>\n"
      ],
      "text/latex": [
       "A tibble: 42 × 22\n",
       "\\begin{tabular}{r|llllllllllllllllllllll}\n",
       " Year & Prevalence & Upper.CI & Lower.CI & Male.Prevalence & Male.Lower.CI & Male.Upper.CI & Female.Prevalence & Female.Lower.CI & Female.Upper.CI & Non.hispanic.white.Prevalence & Non.hispanic.white.Lower.CI & Non.hispanic.white.Upper.CI & Non.hispanic.black.Prevalence & Non.hispanic.black.Lower.CI & Non.hispanic.black.Upper.CI & Hispanic.Prevalence & Hispanic.Lower.CI & Hispanic.Upper.CI & Asian.or.Pacific.Islander.Prevalence & Asian.or.Pacific.Islander.Lower.CI & Asian.or.Pacific.Islander.Upper.CI\\\\\n",
       " <int> & <dbl> & <dbl> & <dbl> & <dbl> & <dbl> & <dbl> & <dbl> & <dbl> & <dbl> & <dbl> & <dbl> & <dbl> & <dbl> & <dbl> & <dbl> & <dbl> & <dbl> & <dbl> & <dbl> & <dbl> & <dbl>\\\\\n",
       "\\hline\n",
       "\t 2000 &  6.7 &  7.0 &  6.3 &   NA &   NA &   NA &  NA &  NA &  NA &   NA &   NA &   NA &   NA &   NA &   NA &   NA &   NA &   NA &   NA &   NA &   NA\\\\\n",
       "\t 2002 &  6.6 &  6.8 &  6.3 & 11.5 &   NA &   NA & 2.7 &  NA &  NA &  7.7 &   NA &   NA &  6.5 &   NA &   NA &   NA &   NA &   NA &   NA &   NA &   NA\\\\\n",
       "\t 2004 &  8.0 &  8.4 &  7.6 & 12.9 & 12.2 & 13.7 & 2.9 & 2.6 & 3.3 &  9.7 &  9.1 & 10.4 &  6.9 &  6.2 &  7.6 &  6.2 &  5.0 &  7.5 &   NA &   NA &   NA\\\\\n",
       "\t 2006 &  9.0 &  9.3 &  8.6 & 14.5 & 13.9 & 15.1 & 3.2 & 2.9 & 3.5 &  9.9 &  9.4 & 10.4 &  7.2 &  6.6 &  7.8 &  5.9 &  5.3 &  6.6 &   NA &   NA &   NA\\\\\n",
       "\t 2008 & 11.3 & 11.7 & 11.0 & 18.4 & 17.7 & 19.0 & 4.0 & 3.7 & 4.3 & 12.0 & 11.5 & 12.5 & 10.2 &  9.5 & 10.9 &  7.9 &  7.2 &  8.6 &  9.7 &  8.1 & 11.6\\\\\n",
       "\t 2010 & 14.7 & 15.1 & 14.3 & 23.7 & 23.0 & 24.4 & 5.3 & 5.0 & 5.7 & 15.8 & 15.2 & 16.3 & 12.3 & 11.5 & 13.1 & 10.8 & 10.0 & 11.6 & 12.3 & 10.7 & 14.2\\\\\n",
       "\t 2012 & 14.8 & 15.2 & 14.4 & 23.4 & 22.7 & 24.1 & 5.2 & 4.9 & 5.6 & 15.3 & 14.7 & 15.9 & 13.1 & 12.3 & 13.9 & 10.1 &  9.4 & 10.9 & 11.4 &  9.9 & 13.1\\\\\n",
       "\t 2014 & 16.8 & 17.3 & 16.4 & 26.6 & 25.8 & 27.4 & 6.6 & 6.2 & 7.0 & 17.2 & 16.5 & 17.8 & 16.0 & 15.1 & 16.9 & 14.0 & 13.1 & 14.9 & 13.5 & 11.8 & 15.4\\\\\n",
       "\t 2004 &  9.5 & 12.0 &  7.4 &   NA &   NA &   NA &  NA &  NA &  NA &   NA &   NA &   NA &   NA &   NA &   NA &   NA &   NA &   NA &   NA &   NA &   NA\\\\\n",
       "\t 2008 & 16.2 & 18.1 & 14.5 &   NA &   NA &   NA &  NA &  NA &  NA &   NA &   NA &   NA &   NA &   NA &   NA &   NA &   NA &   NA &   NA &   NA &   NA\\\\\n",
       "\t 2012 & 21.2 & 22.3 & 20.1 &   NA &   NA &   NA &  NA &  NA &  NA &   NA &   NA &   NA &   NA &   NA &   NA &   NA &   NA &   NA &   NA &   NA &   NA\\\\\n",
       "\t 2016 & 29.2 & 30.7 & 27.7 &   NA &   NA &   NA &  NA &  NA &  NA &   NA &   NA &   NA &   NA &   NA &   NA &   NA &   NA &   NA &   NA &   NA &   NA\\\\\n",
       "\t 2000 &  1.8 &  1.8 &  1.7 &   NA &   NA &   NA &  NA &  NA &  NA &   NA &   NA &   NA &   NA &   NA &   NA &   NA &   NA &   NA &   NA &   NA &   NA\\\\\n",
       "\t 2001 &  2.1 &  2.1 &  2.1 &   NA &   NA &   NA &  NA &  NA &  NA &   NA &   NA &   NA &   NA &   NA &   NA &   NA &   NA &   NA &   NA &   NA &   NA\\\\\n",
       "\t 2002 &  2.6 &  2.6 &  2.6 &   NA &   NA &   NA &  NA &  NA &  NA &   NA &   NA &   NA &   NA &   NA &   NA &   NA &   NA &   NA &   NA &   NA &   NA\\\\\n",
       "\t 2003 &  3.0 &  3.0 &  3.0 &   NA &   NA &   NA &  NA &  NA &  NA &   NA &   NA &   NA &   NA &   NA &   NA &   NA &   NA &   NA &   NA &   NA &   NA\\\\\n",
       "\t 2004 &  3.6 &  3.6 &  3.5 &   NA &   NA &   NA &  NA &  NA &  NA &   NA &   NA &   NA &   NA &   NA &   NA &   NA &   NA &   NA &   NA &   NA &   NA\\\\\n",
       "\t 2005 &  4.1 &  4.1 &  4.1 &   NA &   NA &   NA &  NA &  NA &  NA &   NA &   NA &   NA &   NA &   NA &   NA &   NA &   NA &   NA &   NA &   NA &   NA\\\\\n",
       "\t 2006 &  4.8 &  4.8 &  4.7 &   NA &   NA &   NA &  NA &  NA &  NA &   NA &   NA &   NA &   NA &   NA &   NA &   NA &   NA &   NA &   NA &   NA &   NA\\\\\n",
       "\t 2007 &  5.4 &  5.5 &  5.4 &   NA &   NA &   NA &  NA &  NA &  NA &   NA &   NA &   NA &   NA &   NA &   NA &   NA &   NA &   NA &   NA &   NA &   NA\\\\\n",
       "\t 2008 &  6.2 &  6.2 &  6.2 &   NA &   NA &   NA &  NA &  NA &  NA &   NA &   NA &   NA &   NA &   NA &   NA &   NA &   NA &   NA &   NA &   NA &   NA\\\\\n",
       "\t 2009 &  7.0 &  7.0 &  7.0 &   NA &   NA &   NA &  NA &  NA &  NA &   NA &   NA &   NA &   NA &   NA &   NA &   NA &   NA &   NA &   NA &   NA &   NA\\\\\n",
       "\t 2010 &  7.7 &  7.7 &  7.7 &   NA &   NA &   NA &  NA &  NA &  NA &   NA &   NA &   NA &   NA &   NA &   NA &   NA &   NA &   NA &   NA &   NA &   NA\\\\\n",
       "\t 2011 &  8.4 &  8.5 &  8.4 &   NA &   NA &   NA &  NA &  NA &  NA &   NA &   NA &   NA &   NA &   NA &   NA &   NA &   NA &   NA &   NA &   NA &   NA\\\\\n",
       "\t 2012 &  9.1 &  9.2 &  9.1 &   NA &   NA &   NA &  NA &  NA &  NA &   NA &   NA &   NA &   NA &   NA &   NA &   NA &   NA &   NA &   NA &   NA &   NA\\\\\n",
       "\t 2013 &  9.8 &  9.9 &  9.8 &   NA &   NA &   NA &  NA &  NA &  NA &   NA &   NA &   NA &   NA &   NA &   NA &   NA &   NA &   NA &   NA &   NA &   NA\\\\\n",
       "\t 2014 & 10.5 & 10.5 & 10.5 &   NA &   NA &   NA &  NA &  NA &  NA &   NA &   NA &   NA &   NA &   NA &   NA &   NA &   NA &   NA &   NA &   NA &   NA\\\\\n",
       "\t 2015 & 11.2 & 11.2 & 11.2 &   NA &   NA &   NA &  NA &  NA &  NA &   NA &   NA &   NA &   NA &   NA &   NA &   NA &   NA &   NA &   NA &   NA &   NA\\\\\n",
       "\t 2016 & 11.9 & 11.9 & 11.9 &   NA &   NA &   NA &  NA &  NA &  NA &   NA &   NA &   NA &   NA &   NA &   NA &   NA &   NA &   NA &   NA &   NA &   NA\\\\\n",
       "\t 2000 &  2.3 &  2.4 &  2.3 &   NA &   NA &   NA &  NA &  NA &  NA &   NA &   NA &   NA &   NA &   NA &   NA &   NA &   NA &   NA &   NA &   NA &   NA\\\\\n",
       "\t 2001 &  2.6 &  2.6 &  2.6 &   NA &   NA &   NA &  NA &  NA &  NA &   NA &   NA &   NA &   NA &   NA &   NA &   NA &   NA &   NA &   NA &   NA &   NA\\\\\n",
       "\t 2002 &  2.8 &  2.8 &  2.7 &   NA &   NA &   NA &  NA &  NA &  NA &   NA &   NA &   NA &   NA &   NA &   NA &   NA &   NA &   NA &   NA &   NA &   NA\\\\\n",
       "\t 2003 &  3.0 &  3.0 &  3.0 &   NA &   NA &   NA &  NA &  NA &  NA &   NA &   NA &   NA &   NA &   NA &   NA &   NA &   NA &   NA &   NA &   NA &   NA\\\\\n",
       "\t 2004 &  3.5 &  3.6 &  3.5 &   NA &   NA &   NA &  NA &  NA &  NA &   NA &   NA &   NA &   NA &   NA &   NA &   NA &   NA &   NA &   NA &   NA &   NA\\\\\n",
       "\t 2005 &  3.9 &  3.9 &  3.8 &   NA &   NA &   NA &  NA &  NA &  NA &   NA &   NA &   NA &   NA &   NA &   NA &   NA &   NA &   NA &   NA &   NA &   NA\\\\\n",
       "\t 2006 &  4.4 &  4.5 &  4.4 &   NA &   NA &   NA &  NA &  NA &  NA &   NA &   NA &   NA &   NA &   NA &   NA &   NA &   NA &   NA &   NA &   NA &   NA\\\\\n",
       "\t 2007 &  5.1 &  5.1 &  5.0 &   NA &   NA &   NA &  NA &  NA &  NA &   NA &   NA &   NA &   NA &   NA &   NA &   NA &   NA &   NA &   NA &   NA &   NA\\\\\n",
       "\t 2008 &  5.6 &  5.6 &  5.5 &   NA &   NA &   NA &  NA &  NA &  NA &   NA &   NA &   NA &   NA &   NA &   NA &   NA &   NA &   NA &   NA &   NA &   NA\\\\\n",
       "\t 2009 &  5.9 &  5.9 &  5.9 &   NA &   NA &   NA &  NA &  NA &  NA &   NA &   NA &   NA &   NA &   NA &   NA &   NA &   NA &   NA &   NA &   NA &   NA\\\\\n",
       "\t 2010 &  6.4 &  6.4 &  6.4 &   NA &   NA &   NA &  NA &  NA &  NA &   NA &   NA &   NA &   NA &   NA &   NA &   NA &   NA &   NA &   NA &   NA &   NA\\\\\n",
       "\t 2011 &  7.1 &  7.1 &  7.1 &   NA &   NA &   NA &  NA &  NA &  NA &   NA &   NA &   NA &   NA &   NA &   NA &   NA &   NA &   NA &   NA &   NA &   NA\\\\\n",
       "\t 2012 &  8.2 &  8.3 &  8.2 &   NA &   NA &   NA &  NA &  NA &  NA &   NA &   NA &   NA &   NA &   NA &   NA &   NA &   NA &   NA &   NA &   NA &   NA\\\\\n",
       "\\end{tabular}\n"
      ],
      "text/markdown": [
       "\n",
       "A tibble: 42 × 22\n",
       "\n",
       "| Year &lt;int&gt; | Prevalence &lt;dbl&gt; | Upper.CI &lt;dbl&gt; | Lower.CI &lt;dbl&gt; | Male.Prevalence &lt;dbl&gt; | Male.Lower.CI &lt;dbl&gt; | Male.Upper.CI &lt;dbl&gt; | Female.Prevalence &lt;dbl&gt; | Female.Lower.CI &lt;dbl&gt; | Female.Upper.CI &lt;dbl&gt; | ⋯ ⋯ | Non.hispanic.white.Upper.CI &lt;dbl&gt; | Non.hispanic.black.Prevalence &lt;dbl&gt; | Non.hispanic.black.Lower.CI &lt;dbl&gt; | Non.hispanic.black.Upper.CI &lt;dbl&gt; | Hispanic.Prevalence &lt;dbl&gt; | Hispanic.Lower.CI &lt;dbl&gt; | Hispanic.Upper.CI &lt;dbl&gt; | Asian.or.Pacific.Islander.Prevalence &lt;dbl&gt; | Asian.or.Pacific.Islander.Lower.CI &lt;dbl&gt; | Asian.or.Pacific.Islander.Upper.CI &lt;dbl&gt; |\n",
       "|---|---|---|---|---|---|---|---|---|---|---|---|---|---|---|---|---|---|---|---|---|\n",
       "| 2000 |  6.7 |  7.0 |  6.3 |   NA |   NA |   NA |  NA |  NA |  NA | ⋯ |   NA |   NA |   NA |   NA |   NA |   NA |   NA |   NA |   NA |   NA |\n",
       "| 2002 |  6.6 |  6.8 |  6.3 | 11.5 |   NA |   NA | 2.7 |  NA |  NA | ⋯ |   NA |  6.5 |   NA |   NA |   NA |   NA |   NA |   NA |   NA |   NA |\n",
       "| 2004 |  8.0 |  8.4 |  7.6 | 12.9 | 12.2 | 13.7 | 2.9 | 2.6 | 3.3 | ⋯ | 10.4 |  6.9 |  6.2 |  7.6 |  6.2 |  5.0 |  7.5 |   NA |   NA |   NA |\n",
       "| 2006 |  9.0 |  9.3 |  8.6 | 14.5 | 13.9 | 15.1 | 3.2 | 2.9 | 3.5 | ⋯ | 10.4 |  7.2 |  6.6 |  7.8 |  5.9 |  5.3 |  6.6 |   NA |   NA |   NA |\n",
       "| 2008 | 11.3 | 11.7 | 11.0 | 18.4 | 17.7 | 19.0 | 4.0 | 3.7 | 4.3 | ⋯ | 12.5 | 10.2 |  9.5 | 10.9 |  7.9 |  7.2 |  8.6 |  9.7 |  8.1 | 11.6 |\n",
       "| 2010 | 14.7 | 15.1 | 14.3 | 23.7 | 23.0 | 24.4 | 5.3 | 5.0 | 5.7 | ⋯ | 16.3 | 12.3 | 11.5 | 13.1 | 10.8 | 10.0 | 11.6 | 12.3 | 10.7 | 14.2 |\n",
       "| 2012 | 14.8 | 15.2 | 14.4 | 23.4 | 22.7 | 24.1 | 5.2 | 4.9 | 5.6 | ⋯ | 15.9 | 13.1 | 12.3 | 13.9 | 10.1 |  9.4 | 10.9 | 11.4 |  9.9 | 13.1 |\n",
       "| 2014 | 16.8 | 17.3 | 16.4 | 26.6 | 25.8 | 27.4 | 6.6 | 6.2 | 7.0 | ⋯ | 17.8 | 16.0 | 15.1 | 16.9 | 14.0 | 13.1 | 14.9 | 13.5 | 11.8 | 15.4 |\n",
       "| 2004 |  9.5 | 12.0 |  7.4 |   NA |   NA |   NA |  NA |  NA |  NA | ⋯ |   NA |   NA |   NA |   NA |   NA |   NA |   NA |   NA |   NA |   NA |\n",
       "| 2008 | 16.2 | 18.1 | 14.5 |   NA |   NA |   NA |  NA |  NA |  NA | ⋯ |   NA |   NA |   NA |   NA |   NA |   NA |   NA |   NA |   NA |   NA |\n",
       "| 2012 | 21.2 | 22.3 | 20.1 |   NA |   NA |   NA |  NA |  NA |  NA | ⋯ |   NA |   NA |   NA |   NA |   NA |   NA |   NA |   NA |   NA |   NA |\n",
       "| 2016 | 29.2 | 30.7 | 27.7 |   NA |   NA |   NA |  NA |  NA |  NA | ⋯ |   NA |   NA |   NA |   NA |   NA |   NA |   NA |   NA |   NA |   NA |\n",
       "| 2000 |  1.8 |  1.8 |  1.7 |   NA |   NA |   NA |  NA |  NA |  NA | ⋯ |   NA |   NA |   NA |   NA |   NA |   NA |   NA |   NA |   NA |   NA |\n",
       "| 2001 |  2.1 |  2.1 |  2.1 |   NA |   NA |   NA |  NA |  NA |  NA | ⋯ |   NA |   NA |   NA |   NA |   NA |   NA |   NA |   NA |   NA |   NA |\n",
       "| 2002 |  2.6 |  2.6 |  2.6 |   NA |   NA |   NA |  NA |  NA |  NA | ⋯ |   NA |   NA |   NA |   NA |   NA |   NA |   NA |   NA |   NA |   NA |\n",
       "| 2003 |  3.0 |  3.0 |  3.0 |   NA |   NA |   NA |  NA |  NA |  NA | ⋯ |   NA |   NA |   NA |   NA |   NA |   NA |   NA |   NA |   NA |   NA |\n",
       "| 2004 |  3.6 |  3.6 |  3.5 |   NA |   NA |   NA |  NA |  NA |  NA | ⋯ |   NA |   NA |   NA |   NA |   NA |   NA |   NA |   NA |   NA |   NA |\n",
       "| 2005 |  4.1 |  4.1 |  4.1 |   NA |   NA |   NA |  NA |  NA |  NA | ⋯ |   NA |   NA |   NA |   NA |   NA |   NA |   NA |   NA |   NA |   NA |\n",
       "| 2006 |  4.8 |  4.8 |  4.7 |   NA |   NA |   NA |  NA |  NA |  NA | ⋯ |   NA |   NA |   NA |   NA |   NA |   NA |   NA |   NA |   NA |   NA |\n",
       "| 2007 |  5.4 |  5.5 |  5.4 |   NA |   NA |   NA |  NA |  NA |  NA | ⋯ |   NA |   NA |   NA |   NA |   NA |   NA |   NA |   NA |   NA |   NA |\n",
       "| 2008 |  6.2 |  6.2 |  6.2 |   NA |   NA |   NA |  NA |  NA |  NA | ⋯ |   NA |   NA |   NA |   NA |   NA |   NA |   NA |   NA |   NA |   NA |\n",
       "| 2009 |  7.0 |  7.0 |  7.0 |   NA |   NA |   NA |  NA |  NA |  NA | ⋯ |   NA |   NA |   NA |   NA |   NA |   NA |   NA |   NA |   NA |   NA |\n",
       "| 2010 |  7.7 |  7.7 |  7.7 |   NA |   NA |   NA |  NA |  NA |  NA | ⋯ |   NA |   NA |   NA |   NA |   NA |   NA |   NA |   NA |   NA |   NA |\n",
       "| 2011 |  8.4 |  8.5 |  8.4 |   NA |   NA |   NA |  NA |  NA |  NA | ⋯ |   NA |   NA |   NA |   NA |   NA |   NA |   NA |   NA |   NA |   NA |\n",
       "| 2012 |  9.1 |  9.2 |  9.1 |   NA |   NA |   NA |  NA |  NA |  NA | ⋯ |   NA |   NA |   NA |   NA |   NA |   NA |   NA |   NA |   NA |   NA |\n",
       "| 2013 |  9.8 |  9.9 |  9.8 |   NA |   NA |   NA |  NA |  NA |  NA | ⋯ |   NA |   NA |   NA |   NA |   NA |   NA |   NA |   NA |   NA |   NA |\n",
       "| 2014 | 10.5 | 10.5 | 10.5 |   NA |   NA |   NA |  NA |  NA |  NA | ⋯ |   NA |   NA |   NA |   NA |   NA |   NA |   NA |   NA |   NA |   NA |\n",
       "| 2015 | 11.2 | 11.2 | 11.2 |   NA |   NA |   NA |  NA |  NA |  NA | ⋯ |   NA |   NA |   NA |   NA |   NA |   NA |   NA |   NA |   NA |   NA |\n",
       "| 2016 | 11.9 | 11.9 | 11.9 |   NA |   NA |   NA |  NA |  NA |  NA | ⋯ |   NA |   NA |   NA |   NA |   NA |   NA |   NA |   NA |   NA |   NA |\n",
       "| 2000 |  2.3 |  2.4 |  2.3 |   NA |   NA |   NA |  NA |  NA |  NA | ⋯ |   NA |   NA |   NA |   NA |   NA |   NA |   NA |   NA |   NA |   NA |\n",
       "| 2001 |  2.6 |  2.6 |  2.6 |   NA |   NA |   NA |  NA |  NA |  NA | ⋯ |   NA |   NA |   NA |   NA |   NA |   NA |   NA |   NA |   NA |   NA |\n",
       "| 2002 |  2.8 |  2.8 |  2.7 |   NA |   NA |   NA |  NA |  NA |  NA | ⋯ |   NA |   NA |   NA |   NA |   NA |   NA |   NA |   NA |   NA |   NA |\n",
       "| 2003 |  3.0 |  3.0 |  3.0 |   NA |   NA |   NA |  NA |  NA |  NA | ⋯ |   NA |   NA |   NA |   NA |   NA |   NA |   NA |   NA |   NA |   NA |\n",
       "| 2004 |  3.5 |  3.6 |  3.5 |   NA |   NA |   NA |  NA |  NA |  NA | ⋯ |   NA |   NA |   NA |   NA |   NA |   NA |   NA |   NA |   NA |   NA |\n",
       "| 2005 |  3.9 |  3.9 |  3.8 |   NA |   NA |   NA |  NA |  NA |  NA | ⋯ |   NA |   NA |   NA |   NA |   NA |   NA |   NA |   NA |   NA |   NA |\n",
       "| 2006 |  4.4 |  4.5 |  4.4 |   NA |   NA |   NA |  NA |  NA |  NA | ⋯ |   NA |   NA |   NA |   NA |   NA |   NA |   NA |   NA |   NA |   NA |\n",
       "| 2007 |  5.1 |  5.1 |  5.0 |   NA |   NA |   NA |  NA |  NA |  NA | ⋯ |   NA |   NA |   NA |   NA |   NA |   NA |   NA |   NA |   NA |   NA |\n",
       "| 2008 |  5.6 |  5.6 |  5.5 |   NA |   NA |   NA |  NA |  NA |  NA | ⋯ |   NA |   NA |   NA |   NA |   NA |   NA |   NA |   NA |   NA |   NA |\n",
       "| 2009 |  5.9 |  5.9 |  5.9 |   NA |   NA |   NA |  NA |  NA |  NA | ⋯ |   NA |   NA |   NA |   NA |   NA |   NA |   NA |   NA |   NA |   NA |\n",
       "| 2010 |  6.4 |  6.4 |  6.4 |   NA |   NA |   NA |  NA |  NA |  NA | ⋯ |   NA |   NA |   NA |   NA |   NA |   NA |   NA |   NA |   NA |   NA |\n",
       "| 2011 |  7.1 |  7.1 |  7.1 |   NA |   NA |   NA |  NA |  NA |  NA | ⋯ |   NA |   NA |   NA |   NA |   NA |   NA |   NA |   NA |   NA |   NA |\n",
       "| 2012 |  8.2 |  8.3 |  8.2 |   NA |   NA |   NA |  NA |  NA |  NA | ⋯ |   NA |   NA |   NA |   NA |   NA |   NA |   NA |   NA |   NA |   NA |\n",
       "\n"
      ],
      "text/plain": [
       "   Year Prevalence Upper.CI Lower.CI Male.Prevalence Male.Lower.CI\n",
       "1  2000  6.7        7.0      6.3       NA              NA         \n",
       "2  2002  6.6        6.8      6.3     11.5              NA         \n",
       "3  2004  8.0        8.4      7.6     12.9            12.2         \n",
       "4  2006  9.0        9.3      8.6     14.5            13.9         \n",
       "5  2008 11.3       11.7     11.0     18.4            17.7         \n",
       "6  2010 14.7       15.1     14.3     23.7            23.0         \n",
       "7  2012 14.8       15.2     14.4     23.4            22.7         \n",
       "8  2014 16.8       17.3     16.4     26.6            25.8         \n",
       "9  2004  9.5       12.0      7.4       NA              NA         \n",
       "10 2008 16.2       18.1     14.5       NA              NA         \n",
       "11 2012 21.2       22.3     20.1       NA              NA         \n",
       "12 2016 29.2       30.7     27.7       NA              NA         \n",
       "13 2000  1.8        1.8      1.7       NA              NA         \n",
       "14 2001  2.1        2.1      2.1       NA              NA         \n",
       "15 2002  2.6        2.6      2.6       NA              NA         \n",
       "16 2003  3.0        3.0      3.0       NA              NA         \n",
       "17 2004  3.6        3.6      3.5       NA              NA         \n",
       "18 2005  4.1        4.1      4.1       NA              NA         \n",
       "19 2006  4.8        4.8      4.7       NA              NA         \n",
       "20 2007  5.4        5.5      5.4       NA              NA         \n",
       "21 2008  6.2        6.2      6.2       NA              NA         \n",
       "22 2009  7.0        7.0      7.0       NA              NA         \n",
       "23 2010  7.7        7.7      7.7       NA              NA         \n",
       "24 2011  8.4        8.5      8.4       NA              NA         \n",
       "25 2012  9.1        9.2      9.1       NA              NA         \n",
       "26 2013  9.8        9.9      9.8       NA              NA         \n",
       "27 2014 10.5       10.5     10.5       NA              NA         \n",
       "28 2015 11.2       11.2     11.2       NA              NA         \n",
       "29 2016 11.9       11.9     11.9       NA              NA         \n",
       "30 2000  2.3        2.4      2.3       NA              NA         \n",
       "31 2001  2.6        2.6      2.6       NA              NA         \n",
       "32 2002  2.8        2.8      2.7       NA              NA         \n",
       "33 2003  3.0        3.0      3.0       NA              NA         \n",
       "34 2004  3.5        3.6      3.5       NA              NA         \n",
       "35 2005  3.9        3.9      3.8       NA              NA         \n",
       "36 2006  4.4        4.5      4.4       NA              NA         \n",
       "37 2007  5.1        5.1      5.0       NA              NA         \n",
       "38 2008  5.6        5.6      5.5       NA              NA         \n",
       "39 2009  5.9        5.9      5.9       NA              NA         \n",
       "40 2010  6.4        6.4      6.4       NA              NA         \n",
       "41 2011  7.1        7.1      7.1       NA              NA         \n",
       "42 2012  8.2        8.3      8.2       NA              NA         \n",
       "   Male.Upper.CI Female.Prevalence Female.Lower.CI Female.Upper.CI ⋯\n",
       "1    NA           NA                NA              NA             ⋯\n",
       "2    NA          2.7                NA              NA             ⋯\n",
       "3  13.7          2.9               2.6             3.3             ⋯\n",
       "4  15.1          3.2               2.9             3.5             ⋯\n",
       "5  19.0          4.0               3.7             4.3             ⋯\n",
       "6  24.4          5.3               5.0             5.7             ⋯\n",
       "7  24.1          5.2               4.9             5.6             ⋯\n",
       "8  27.4          6.6               6.2             7.0             ⋯\n",
       "9    NA           NA                NA              NA             ⋯\n",
       "10   NA           NA                NA              NA             ⋯\n",
       "11   NA           NA                NA              NA             ⋯\n",
       "12   NA           NA                NA              NA             ⋯\n",
       "13   NA           NA                NA              NA             ⋯\n",
       "14   NA           NA                NA              NA             ⋯\n",
       "15   NA           NA                NA              NA             ⋯\n",
       "16   NA           NA                NA              NA             ⋯\n",
       "17   NA           NA                NA              NA             ⋯\n",
       "18   NA           NA                NA              NA             ⋯\n",
       "19   NA           NA                NA              NA             ⋯\n",
       "20   NA           NA                NA              NA             ⋯\n",
       "21   NA           NA                NA              NA             ⋯\n",
       "22   NA           NA                NA              NA             ⋯\n",
       "23   NA           NA                NA              NA             ⋯\n",
       "24   NA           NA                NA              NA             ⋯\n",
       "25   NA           NA                NA              NA             ⋯\n",
       "26   NA           NA                NA              NA             ⋯\n",
       "27   NA           NA                NA              NA             ⋯\n",
       "28   NA           NA                NA              NA             ⋯\n",
       "29   NA           NA                NA              NA             ⋯\n",
       "30   NA           NA                NA              NA             ⋯\n",
       "31   NA           NA                NA              NA             ⋯\n",
       "32   NA           NA                NA              NA             ⋯\n",
       "33   NA           NA                NA              NA             ⋯\n",
       "34   NA           NA                NA              NA             ⋯\n",
       "35   NA           NA                NA              NA             ⋯\n",
       "36   NA           NA                NA              NA             ⋯\n",
       "37   NA           NA                NA              NA             ⋯\n",
       "38   NA           NA                NA              NA             ⋯\n",
       "39   NA           NA                NA              NA             ⋯\n",
       "40   NA           NA                NA              NA             ⋯\n",
       "41   NA           NA                NA              NA             ⋯\n",
       "42   NA           NA                NA              NA             ⋯\n",
       "   Non.hispanic.white.Upper.CI Non.hispanic.black.Prevalence\n",
       "1    NA                          NA                         \n",
       "2    NA                         6.5                         \n",
       "3  10.4                         6.9                         \n",
       "4  10.4                         7.2                         \n",
       "5  12.5                        10.2                         \n",
       "6  16.3                        12.3                         \n",
       "7  15.9                        13.1                         \n",
       "8  17.8                        16.0                         \n",
       "9    NA                          NA                         \n",
       "10   NA                          NA                         \n",
       "11   NA                          NA                         \n",
       "12   NA                          NA                         \n",
       "13   NA                          NA                         \n",
       "14   NA                          NA                         \n",
       "15   NA                          NA                         \n",
       "16   NA                          NA                         \n",
       "17   NA                          NA                         \n",
       "18   NA                          NA                         \n",
       "19   NA                          NA                         \n",
       "20   NA                          NA                         \n",
       "21   NA                          NA                         \n",
       "22   NA                          NA                         \n",
       "23   NA                          NA                         \n",
       "24   NA                          NA                         \n",
       "25   NA                          NA                         \n",
       "26   NA                          NA                         \n",
       "27   NA                          NA                         \n",
       "28   NA                          NA                         \n",
       "29   NA                          NA                         \n",
       "30   NA                          NA                         \n",
       "31   NA                          NA                         \n",
       "32   NA                          NA                         \n",
       "33   NA                          NA                         \n",
       "34   NA                          NA                         \n",
       "35   NA                          NA                         \n",
       "36   NA                          NA                         \n",
       "37   NA                          NA                         \n",
       "38   NA                          NA                         \n",
       "39   NA                          NA                         \n",
       "40   NA                          NA                         \n",
       "41   NA                          NA                         \n",
       "42   NA                          NA                         \n",
       "   Non.hispanic.black.Lower.CI Non.hispanic.black.Upper.CI Hispanic.Prevalence\n",
       "1    NA                          NA                          NA               \n",
       "2    NA                          NA                          NA               \n",
       "3   6.2                         7.6                         6.2               \n",
       "4   6.6                         7.8                         5.9               \n",
       "5   9.5                        10.9                         7.9               \n",
       "6  11.5                        13.1                        10.8               \n",
       "7  12.3                        13.9                        10.1               \n",
       "8  15.1                        16.9                        14.0               \n",
       "9    NA                          NA                          NA               \n",
       "10   NA                          NA                          NA               \n",
       "11   NA                          NA                          NA               \n",
       "12   NA                          NA                          NA               \n",
       "13   NA                          NA                          NA               \n",
       "14   NA                          NA                          NA               \n",
       "15   NA                          NA                          NA               \n",
       "16   NA                          NA                          NA               \n",
       "17   NA                          NA                          NA               \n",
       "18   NA                          NA                          NA               \n",
       "19   NA                          NA                          NA               \n",
       "20   NA                          NA                          NA               \n",
       "21   NA                          NA                          NA               \n",
       "22   NA                          NA                          NA               \n",
       "23   NA                          NA                          NA               \n",
       "24   NA                          NA                          NA               \n",
       "25   NA                          NA                          NA               \n",
       "26   NA                          NA                          NA               \n",
       "27   NA                          NA                          NA               \n",
       "28   NA                          NA                          NA               \n",
       "29   NA                          NA                          NA               \n",
       "30   NA                          NA                          NA               \n",
       "31   NA                          NA                          NA               \n",
       "32   NA                          NA                          NA               \n",
       "33   NA                          NA                          NA               \n",
       "34   NA                          NA                          NA               \n",
       "35   NA                          NA                          NA               \n",
       "36   NA                          NA                          NA               \n",
       "37   NA                          NA                          NA               \n",
       "38   NA                          NA                          NA               \n",
       "39   NA                          NA                          NA               \n",
       "40   NA                          NA                          NA               \n",
       "41   NA                          NA                          NA               \n",
       "42   NA                          NA                          NA               \n",
       "   Hispanic.Lower.CI Hispanic.Upper.CI Asian.or.Pacific.Islander.Prevalence\n",
       "1    NA                NA                NA                                \n",
       "2    NA                NA                NA                                \n",
       "3   5.0               7.5                NA                                \n",
       "4   5.3               6.6                NA                                \n",
       "5   7.2               8.6               9.7                                \n",
       "6  10.0              11.6              12.3                                \n",
       "7   9.4              10.9              11.4                                \n",
       "8  13.1              14.9              13.5                                \n",
       "9    NA                NA                NA                                \n",
       "10   NA                NA                NA                                \n",
       "11   NA                NA                NA                                \n",
       "12   NA                NA                NA                                \n",
       "13   NA                NA                NA                                \n",
       "14   NA                NA                NA                                \n",
       "15   NA                NA                NA                                \n",
       "16   NA                NA                NA                                \n",
       "17   NA                NA                NA                                \n",
       "18   NA                NA                NA                                \n",
       "19   NA                NA                NA                                \n",
       "20   NA                NA                NA                                \n",
       "21   NA                NA                NA                                \n",
       "22   NA                NA                NA                                \n",
       "23   NA                NA                NA                                \n",
       "24   NA                NA                NA                                \n",
       "25   NA                NA                NA                                \n",
       "26   NA                NA                NA                                \n",
       "27   NA                NA                NA                                \n",
       "28   NA                NA                NA                                \n",
       "29   NA                NA                NA                                \n",
       "30   NA                NA                NA                                \n",
       "31   NA                NA                NA                                \n",
       "32   NA                NA                NA                                \n",
       "33   NA                NA                NA                                \n",
       "34   NA                NA                NA                                \n",
       "35   NA                NA                NA                                \n",
       "36   NA                NA                NA                                \n",
       "37   NA                NA                NA                                \n",
       "38   NA                NA                NA                                \n",
       "39   NA                NA                NA                                \n",
       "40   NA                NA                NA                                \n",
       "41   NA                NA                NA                                \n",
       "42   NA                NA                NA                                \n",
       "   Asian.or.Pacific.Islander.Lower.CI Asian.or.Pacific.Islander.Upper.CI\n",
       "1    NA                                 NA                              \n",
       "2    NA                                 NA                              \n",
       "3    NA                                 NA                              \n",
       "4    NA                                 NA                              \n",
       "5   8.1                               11.6                              \n",
       "6  10.7                               14.2                              \n",
       "7   9.9                               13.1                              \n",
       "8  11.8                               15.4                              \n",
       "9    NA                                 NA                              \n",
       "10   NA                                 NA                              \n",
       "11   NA                                 NA                              \n",
       "12   NA                                 NA                              \n",
       "13   NA                                 NA                              \n",
       "14   NA                                 NA                              \n",
       "15   NA                                 NA                              \n",
       "16   NA                                 NA                              \n",
       "17   NA                                 NA                              \n",
       "18   NA                                 NA                              \n",
       "19   NA                                 NA                              \n",
       "20   NA                                 NA                              \n",
       "21   NA                                 NA                              \n",
       "22   NA                                 NA                              \n",
       "23   NA                                 NA                              \n",
       "24   NA                                 NA                              \n",
       "25   NA                                 NA                              \n",
       "26   NA                                 NA                              \n",
       "27   NA                                 NA                              \n",
       "28   NA                                 NA                              \n",
       "29   NA                                 NA                              \n",
       "30   NA                                 NA                              \n",
       "31   NA                                 NA                              \n",
       "32   NA                                 NA                              \n",
       "33   NA                                 NA                              \n",
       "34   NA                                 NA                              \n",
       "35   NA                                 NA                              \n",
       "36   NA                                 NA                              \n",
       "37   NA                                 NA                              \n",
       "38   NA                                 NA                              \n",
       "39   NA                                 NA                              \n",
       "40   NA                                 NA                              \n",
       "41   NA                                 NA                              \n",
       "42   NA                                 NA                              "
      ]
     },
     "metadata": {},
     "output_type": "display_data"
    }
   ],
   "source": [
    "# Filter only numeric variables/columns\n",
    "select_if(ASD_National, is.numeric) # library(dplyr)"
   ]
  },
  {
   "cell_type": "code",
   "execution_count": 137,
   "metadata": {
    "scrolled": true
   },
   "outputs": [
    {
     "data": {
      "text/plain": [
       "      Year        Prevalence        Upper.CI         Lower.CI     \n",
       " Min.   :2000   Min.   : 1.800   Min.   : 1.800   Min.   : 1.700  \n",
       " 1st Qu.:2004   1st Qu.: 3.950   1st Qu.: 3.950   1st Qu.: 3.875  \n",
       " Median :2008   Median : 6.650   Median : 6.900   Median : 6.350  \n",
       " Mean   :2007   Mean   : 7.952   Mean   : 8.207   Mean   : 7.712  \n",
       " 3rd Qu.:2011   3rd Qu.: 9.725   3rd Qu.:10.350   3rd Qu.: 9.625  \n",
       " Max.   :2016   Max.   :29.200   Max.   :30.700   Max.   :27.700  \n",
       "                                                                  \n",
       " Male.Prevalence Male.Lower.CI   Male.Upper.CI   Female.Prevalence\n",
       " Min.   :11.50   Min.   :12.20   Min.   :13.70   Min.   :2.700    \n",
       " 1st Qu.:13.70   1st Qu.:14.85   1st Qu.:16.07   1st Qu.:3.050    \n",
       " Median :18.40   Median :20.20   Median :21.55   Median :4.000    \n",
       " Mean   :18.71   Mean   :19.22   Mean   :20.62   Mean   :4.271    \n",
       " 3rd Qu.:23.55   3rd Qu.:22.93   3rd Qu.:24.32   3rd Qu.:5.250    \n",
       " Max.   :26.60   Max.   :25.80   Max.   :27.40   Max.   :6.600    \n",
       " NA's   :35      NA's   :36      NA's   :36      NA's   :35       \n",
       " Female.Lower.CI Female.Upper.CI Non.hispanic.white.Prevalence\n",
       " Min.   :2.600   Min.   :3.300   Min.   : 7.70                \n",
       " 1st Qu.:3.100   1st Qu.:3.700   1st Qu.: 9.80                \n",
       " Median :4.300   Median :4.950   Median :12.00                \n",
       " Mean   :4.217   Mean   :4.900   Mean   :12.51                \n",
       " 3rd Qu.:4.975   3rd Qu.:5.675   3rd Qu.:15.55                \n",
       " Max.   :6.200   Max.   :7.000   Max.   :17.20                \n",
       " NA's   :36      NA's   :36      NA's   :35                   \n",
       " Non.hispanic.white.Lower.CI Non.hispanic.white.Upper.CI\n",
       " Min.   : 9.100              Min.   :10.40              \n",
       " 1st Qu.: 9.925              1st Qu.:10.93              \n",
       " Median :13.100              Median :14.20              \n",
       " Mean   :12.733              Mean   :13.88              \n",
       " 3rd Qu.:15.075              3rd Qu.:16.20              \n",
       " Max.   :16.500              Max.   :17.80              \n",
       " NA's   :36                  NA's   :36                 \n",
       " Non.hispanic.black.Prevalence Non.hispanic.black.Lower.CI\n",
       " Min.   : 6.50                 Min.   : 6.200             \n",
       " 1st Qu.: 7.05                 1st Qu.: 7.325             \n",
       " Median :10.20                 Median :10.500             \n",
       " Mean   :10.31                 Mean   :10.200             \n",
       " 3rd Qu.:12.70                 3rd Qu.:12.100             \n",
       " Max.   :16.00                 Max.   :15.100             \n",
       " NA's   :35                    NA's   :36                 \n",
       " Non.hispanic.black.Upper.CI Hispanic.Prevalence Hispanic.Lower.CI\n",
       " Min.   : 7.600              Min.   : 5.900      Min.   : 5.000   \n",
       " 1st Qu.: 8.575              1st Qu.: 6.625      1st Qu.: 5.775   \n",
       " Median :12.000              Median : 9.000      Median : 8.300   \n",
       " Mean   :11.700              Mean   : 9.150      Mean   : 8.333   \n",
       " 3rd Qu.:13.700              3rd Qu.:10.625      3rd Qu.: 9.850   \n",
       " Max.   :16.900              Max.   :14.000      Max.   :13.100   \n",
       " NA's   :36                  NA's   :36          NA's   :36       \n",
       " Hispanic.Upper.CI Asian.or.Pacific.Islander.Prevalence\n",
       " Min.   : 6.600    Min.   : 9.70                       \n",
       " 1st Qu.: 7.775    1st Qu.:10.97                       \n",
       " Median : 9.750    Median :11.85                       \n",
       " Mean   :10.017    Mean   :11.72                       \n",
       " 3rd Qu.:11.425    3rd Qu.:12.60                       \n",
       " Max.   :14.900    Max.   :13.50                       \n",
       " NA's   :36        NA's   :38                          \n",
       " Asian.or.Pacific.Islander.Lower.CI Asian.or.Pacific.Islander.Upper.CI\n",
       " Min.   : 8.10                      Min.   :11.60                     \n",
       " 1st Qu.: 9.45                      1st Qu.:12.72                     \n",
       " Median :10.30                      Median :13.65                     \n",
       " Mean   :10.12                      Mean   :13.57                     \n",
       " 3rd Qu.:10.97                      3rd Qu.:14.50                     \n",
       " Max.   :11.80                      Max.   :15.40                     \n",
       " NA's   :38                         NA's   :38                        "
      ]
     },
     "metadata": {},
     "output_type": "display_data"
    }
   ],
   "source": [
    "# Data summarization\n",
    "summary(select_if(ASD_National, is.numeric))"
   ]
  },
  {
   "cell_type": "markdown",
   "metadata": {},
   "source": [
    "**<span style=\"color:blue\">[ Tips ]</span> We notice missing data in a few Prevalence variables.**"
   ]
  },
  {
   "cell_type": "code",
   "execution_count": 138,
   "metadata": {},
   "outputs": [
    {
     "data": {
      "text/html": [
       "7.95238095238095"
      ],
      "text/latex": [
       "7.95238095238095"
      ],
      "text/markdown": [
       "7.95238095238095"
      ],
      "text/plain": [
       "[1] 7.952381"
      ]
     },
     "metadata": {},
     "output_type": "display_data"
    },
    {
     "data": {
      "text/html": [
       "10.9875"
      ],
      "text/latex": [
       "10.9875"
      ],
      "text/markdown": [
       "10.9875"
      ],
      "text/plain": [
       "[1] 10.9875"
      ]
     },
     "metadata": {},
     "output_type": "display_data"
    },
    {
     "data": {
      "text/html": [
       "4.67692307692308"
      ],
      "text/latex": [
       "4.67692307692308"
      ],
      "text/markdown": [
       "4.67692307692308"
      ],
      "text/plain": [
       "[1] 4.676923"
      ]
     },
     "metadata": {},
     "output_type": "display_data"
    },
    {
     "data": {
      "text/html": [
       "19.025"
      ],
      "text/latex": [
       "19.025"
      ],
      "text/markdown": [
       "19.025"
      ],
      "text/plain": [
       "[1] 19.025"
      ]
     },
     "metadata": {},
     "output_type": "display_data"
    },
    {
     "data": {
      "text/html": [
       "6.42352941176471"
      ],
      "text/latex": [
       "6.42352941176471"
      ],
      "text/markdown": [
       "6.42352941176471"
      ],
      "text/plain": [
       "[1] 6.423529"
      ]
     },
     "metadata": {},
     "output_type": "display_data"
    }
   ],
   "source": [
    "# Calculate average Prevalence, no error\n",
    "mean(ASD_National$Prevalence)\n",
    "mean(ASD_National$Prevalence[ASD_National$Source == 'addm'])\n",
    "mean(ASD_National$Prevalence[ASD_National$Source == 'medi'])\n",
    "mean(ASD_National$Prevalence[ASD_National$Source == 'nsch'])\n",
    "mean(ASD_National$Prevalence[ASD_National$Source == 'sped'])"
   ]
  },
  {
   "cell_type": "code",
   "execution_count": 144,
   "metadata": {},
   "outputs": [
    {
     "data": {
      "text/html": [
       "&lt;NA&gt;"
      ],
      "text/latex": [
       "<NA>"
      ],
      "text/markdown": [
       "&lt;NA&gt;"
      ],
      "text/plain": [
       "[1] NA"
      ]
     },
     "metadata": {},
     "output_type": "display_data"
    }
   ],
   "source": [
    "# Calculate average Male.Prevalence, there is error!\n",
    "mean(ASD_National$Male.Prevalence)"
   ]
  },
  {
   "cell_type": "code",
   "execution_count": 145,
   "metadata": {},
   "outputs": [
    {
     "data": {
      "text/html": [
       "18.7142857142857"
      ],
      "text/latex": [
       "18.7142857142857"
      ],
      "text/markdown": [
       "18.7142857142857"
      ],
      "text/plain": [
       "[1] 18.71429"
      ]
     },
     "metadata": {},
     "output_type": "display_data"
    }
   ],
   "source": [
    "# Because of NA, mean() cannot process, thus we use na.rm to ignore NAs\n",
    "mean(ASD_National$Male.Prevalence, na.rm = TRUE)"
   ]
  },
  {
   "cell_type": "code",
   "execution_count": 146,
   "metadata": {},
   "outputs": [
    {
     "data": {
      "text/html": [
       "4.27142857142857"
      ],
      "text/latex": [
       "4.27142857142857"
      ],
      "text/markdown": [
       "4.27142857142857"
      ],
      "text/plain": [
       "[1] 4.271429"
      ]
     },
     "metadata": {},
     "output_type": "display_data"
    }
   ],
   "source": [
    "mean(ASD_National$Female.Prevalence, na.rm = TRUE)"
   ]
  },
  {
   "cell_type": "code",
   "execution_count": 147,
   "metadata": {},
   "outputs": [
    {
     "data": {
      "text/plain": [
       "\n",
       "2000 2001 2002 2003 2004 2005 2006 2007 2008 2009 2010 2011 2012 2013 2014 2015 \n",
       "   3    2    3    2    4    2    3    2    4    2    3    2    4    1    2    1 \n",
       "2016 \n",
       "   2 "
      ]
     },
     "metadata": {},
     "output_type": "display_data"
    }
   ],
   "source": [
    "# Count occurrences of uniques values in a variable/column: number of rows (of data entry) per year\n",
    "table(ASD_National$Year) # ?table"
   ]
  },
  {
   "cell_type": "markdown",
   "metadata": {},
   "source": [
    "<div class=\"alert alert-block alert-info\" style=\"margin-top: 20px\">\n",
    "    <h3>\n",
    "    Data Summarization - Summary of <span style=\"color:blue\">categorical</span> variables\n",
    "    </h3>\n",
    "</div>\n"
   ]
  },
  {
   "cell_type": "code",
   "execution_count": 151,
   "metadata": {},
   "outputs": [
    {
     "data": {
      "text/html": [
       "<ol class=list-inline>\n",
       "\t<li>'Source'</li>\n",
       "\t<li>'Source_Full1'</li>\n",
       "\t<li>'Source_Full2'</li>\n",
       "\t<li>'Source_UC'</li>\n",
       "\t<li>'Source_Full3'</li>\n",
       "\t<li>'Year_Factor'</li>\n",
       "</ol>\n"
      ],
      "text/latex": [
       "\\begin{enumerate*}\n",
       "\\item 'Source'\n",
       "\\item 'Source\\_Full1'\n",
       "\\item 'Source\\_Full2'\n",
       "\\item 'Source\\_UC'\n",
       "\\item 'Source\\_Full3'\n",
       "\\item 'Year\\_Factor'\n",
       "\\end{enumerate*}\n"
      ],
      "text/markdown": [
       "1. 'Source'\n",
       "2. 'Source_Full1'\n",
       "3. 'Source_Full2'\n",
       "4. 'Source_UC'\n",
       "5. 'Source_Full3'\n",
       "6. 'Year_Factor'\n",
       "\n",
       "\n"
      ],
      "text/plain": [
       "[1] \"Source\"       \"Source_Full1\" \"Source_Full2\" \"Source_UC\"    \"Source_Full3\"\n",
       "[6] \"Year_Factor\" "
      ]
     },
     "metadata": {},
     "output_type": "display_data"
    },
    {
     "data": {
      "text/html": [],
      "text/latex": [],
      "text/markdown": [],
      "text/plain": [
       "character(0)"
      ]
     },
     "metadata": {},
     "output_type": "display_data"
    }
   ],
   "source": [
    "# List of categorical variables\n",
    "names(select_if(ASD_National, is.factor)) # All categorical variables are factor data type\n",
    "names(select_if(ASD_National, is.character)) # No categorical variable is character data type"
   ]
  },
  {
   "cell_type": "code",
   "execution_count": 156,
   "metadata": {},
   "outputs": [
    {
     "data": {
      "text/plain": [
       "  Source                                                   Source_Full1\n",
       " addm: 8   Autism & Developmental Disabilities Monitoring Network: 8   \n",
       " medi:13   Medicaid                                              :13   \n",
       " nsch: 4   National Survey of Children's Health                  : 4   \n",
       " sped:17   Special Education Child Count                         :17   \n",
       "                                                                       \n",
       "                                                                       \n",
       "                                                                       \n",
       "                                                      Source_Full2 Source_UC\n",
       " addm-Autism & Developmental Disabilities Monitoring Network: 8    ADDM: 8  \n",
       " medi-Medicaid                                              :13    MEDI:13  \n",
       " nsch-National Survey of Children's Health                  : 4    NSCH: 4  \n",
       " sped-Special Education Child Count                         :17    SPED:17  \n",
       "                                                                            \n",
       "                                                                            \n",
       "                                                                            \n",
       "                                                      Source_Full3  Year_Factor\n",
       " ADDM Autism & Developmental Disabilities Monitoring Network: 8    2004   : 4  \n",
       " MEDI Medicaid                                              :13    2008   : 4  \n",
       " NSCH National Survey of Children's Health                  : 4    2012   : 4  \n",
       " SPED Special Education Child Count                         :17    2000   : 3  \n",
       "                                                                   2002   : 3  \n",
       "                                                                   2006   : 3  \n",
       "                                                                   (Other):21  "
      ]
     },
     "metadata": {},
     "output_type": "display_data"
    }
   ],
   "source": [
    "# Look at summary\n",
    "summary(select_if(ASD_National, is.factor))"
   ]
  },
  {
   "cell_type": "code",
   "execution_count": 157,
   "metadata": {},
   "outputs": [
    {
     "data": {
      "text/plain": [
       "< table of extent 0 x 0 >"
      ]
     },
     "metadata": {},
     "output_type": "display_data"
    }
   ],
   "source": [
    "summary(select_if(ASD_National, is.character))"
   ]
  },
  {
   "cell_type": "code",
   "execution_count": 159,
   "metadata": {},
   "outputs": [
    {
     "data": {
      "text/plain": [
       "\n",
       "addm medi nsch sped \n",
       "   8   13    4   17 "
      ]
     },
     "metadata": {},
     "output_type": "display_data"
    }
   ],
   "source": [
    "# Count occurrences of uniques values in a variable/column\n",
    "table(ASD_National$Source)"
   ]
  },
  {
   "cell_type": "code",
   "execution_count": 160,
   "metadata": {},
   "outputs": [
    {
     "data": {
      "text/plain": [
       "\n",
       "ADDM Autism & Developmental Disabilities Monitoring Network \n",
       "                                                          8 \n",
       "                                              MEDI Medicaid \n",
       "                                                         13 \n",
       "                  NSCH National Survey of Children's Health \n",
       "                                                          4 \n",
       "                         SPED Special Education Child Count \n",
       "                                                         17 "
      ]
     },
     "metadata": {},
     "output_type": "display_data"
    }
   ],
   "source": [
    "table(ASD_National$Source_Full3)"
   ]
  },
  {
   "cell_type": "code",
   "execution_count": 161,
   "metadata": {},
   "outputs": [
    {
     "data": {
      "text/plain": [
       "\n",
       "2000 2001 2002 2003 2004 2005 2006 2007 2008 2009 2010 2011 2012 2013 2014 2015 \n",
       "   3    2    3    2    4    2    3    2    4    2    3    2    4    1    2    1 \n",
       "2016 \n",
       "   2 "
      ]
     },
     "metadata": {},
     "output_type": "display_data"
    }
   ],
   "source": [
    "table(ASD_National$Year_Factor)"
   ]
  },
  {
   "cell_type": "code",
   "execution_count": 162,
   "metadata": {},
   "outputs": [
    {
     "data": {
      "text/plain": [
       "\n",
       " 1.8  2.1  2.3  2.6  2.8    3  3.5  3.6  3.9  4.1  4.4  4.8  5.1  5.4  5.6  5.9 \n",
       "   1    1    1    2    1    2    1    1    1    1    1    1    1    1    1    1 \n",
       " 6.2  6.4  6.6  6.7    7  7.1  7.7    8  8.2  8.4    9  9.1  9.5  9.8 10.5 11.2 \n",
       "   1    1    1    1    1    1    1    1    1    1    1    1    1    1    1    1 \n",
       "11.3 11.9 14.7 14.8 16.2 16.8 21.2 29.2 \n",
       "   1    1    1    1    1    1    1    1 "
      ]
     },
     "metadata": {},
     "output_type": "display_data"
    }
   ],
   "source": [
    "table(ASD_National$Prevalence) # numeric is also possible"
   ]
  },
  {
   "cell_type": "code",
   "execution_count": 163,
   "metadata": {},
   "outputs": [
    {
     "data": {
      "text/html": [
       "<dl>\n",
       "\t<dt>$Source</dt>\n",
       "\t\t<dd><ol class=list-inline>\n",
       "\t<li>'addm'</li>\n",
       "\t<li>'medi'</li>\n",
       "\t<li>'nsch'</li>\n",
       "\t<li>'sped'</li>\n",
       "</ol>\n",
       "</dd>\n",
       "\t<dt>$Source_Full1</dt>\n",
       "\t\t<dd><ol class=list-inline>\n",
       "\t<li>'Autism &amp; Developmental Disabilities Monitoring Network'</li>\n",
       "\t<li>'Medicaid'</li>\n",
       "\t<li>'National Survey of Children\\'s Health'</li>\n",
       "\t<li>'Special Education Child Count'</li>\n",
       "</ol>\n",
       "</dd>\n",
       "\t<dt>$Source_Full2</dt>\n",
       "\t\t<dd><ol class=list-inline>\n",
       "\t<li>'addm-Autism &amp; Developmental Disabilities Monitoring Network'</li>\n",
       "\t<li>'medi-Medicaid'</li>\n",
       "\t<li>'nsch-National Survey of Children\\'s Health'</li>\n",
       "\t<li>'sped-Special Education Child Count'</li>\n",
       "</ol>\n",
       "</dd>\n",
       "\t<dt>$Source_UC</dt>\n",
       "\t\t<dd><ol class=list-inline>\n",
       "\t<li>'ADDM'</li>\n",
       "\t<li>'MEDI'</li>\n",
       "\t<li>'NSCH'</li>\n",
       "\t<li>'SPED'</li>\n",
       "</ol>\n",
       "</dd>\n",
       "\t<dt>$Source_Full3</dt>\n",
       "\t\t<dd><ol class=list-inline>\n",
       "\t<li>'ADDM Autism &amp; Developmental Disabilities Monitoring Network'</li>\n",
       "\t<li>'MEDI Medicaid'</li>\n",
       "\t<li>'NSCH National Survey of Children\\'s Health'</li>\n",
       "\t<li>'SPED Special Education Child Count'</li>\n",
       "</ol>\n",
       "</dd>\n",
       "\t<dt>$Year_Factor</dt>\n",
       "\t\t<dd><ol class=list-inline>\n",
       "\t<li>'2000'</li>\n",
       "\t<li>'2001'</li>\n",
       "\t<li>'2002'</li>\n",
       "\t<li>'2003'</li>\n",
       "\t<li>'2004'</li>\n",
       "\t<li>'2005'</li>\n",
       "\t<li>'2006'</li>\n",
       "\t<li>'2007'</li>\n",
       "\t<li>'2008'</li>\n",
       "\t<li>'2009'</li>\n",
       "\t<li>'2010'</li>\n",
       "\t<li>'2011'</li>\n",
       "\t<li>'2012'</li>\n",
       "\t<li>'2013'</li>\n",
       "\t<li>'2014'</li>\n",
       "\t<li>'2015'</li>\n",
       "\t<li>'2016'</li>\n",
       "</ol>\n",
       "</dd>\n",
       "</dl>\n"
      ],
      "text/latex": [
       "\\begin{description}\n",
       "\\item[\\$Source] \\begin{enumerate*}\n",
       "\\item 'addm'\n",
       "\\item 'medi'\n",
       "\\item 'nsch'\n",
       "\\item 'sped'\n",
       "\\end{enumerate*}\n",
       "\n",
       "\\item[\\$Source\\_Full1] \\begin{enumerate*}\n",
       "\\item 'Autism \\& Developmental Disabilities Monitoring Network'\n",
       "\\item 'Medicaid'\n",
       "\\item 'National Survey of Children\\textbackslash{}'s Health'\n",
       "\\item 'Special Education Child Count'\n",
       "\\end{enumerate*}\n",
       "\n",
       "\\item[\\$Source\\_Full2] \\begin{enumerate*}\n",
       "\\item 'addm-Autism \\& Developmental Disabilities Monitoring Network'\n",
       "\\item 'medi-Medicaid'\n",
       "\\item 'nsch-National Survey of Children\\textbackslash{}'s Health'\n",
       "\\item 'sped-Special Education Child Count'\n",
       "\\end{enumerate*}\n",
       "\n",
       "\\item[\\$Source\\_UC] \\begin{enumerate*}\n",
       "\\item 'ADDM'\n",
       "\\item 'MEDI'\n",
       "\\item 'NSCH'\n",
       "\\item 'SPED'\n",
       "\\end{enumerate*}\n",
       "\n",
       "\\item[\\$Source\\_Full3] \\begin{enumerate*}\n",
       "\\item 'ADDM Autism \\& Developmental Disabilities Monitoring Network'\n",
       "\\item 'MEDI Medicaid'\n",
       "\\item 'NSCH National Survey of Children\\textbackslash{}'s Health'\n",
       "\\item 'SPED Special Education Child Count'\n",
       "\\end{enumerate*}\n",
       "\n",
       "\\item[\\$Year\\_Factor] \\begin{enumerate*}\n",
       "\\item '2000'\n",
       "\\item '2001'\n",
       "\\item '2002'\n",
       "\\item '2003'\n",
       "\\item '2004'\n",
       "\\item '2005'\n",
       "\\item '2006'\n",
       "\\item '2007'\n",
       "\\item '2008'\n",
       "\\item '2009'\n",
       "\\item '2010'\n",
       "\\item '2011'\n",
       "\\item '2012'\n",
       "\\item '2013'\n",
       "\\item '2014'\n",
       "\\item '2015'\n",
       "\\item '2016'\n",
       "\\end{enumerate*}\n",
       "\n",
       "\\end{description}\n"
      ],
      "text/markdown": [
       "$Source\n",
       ":   1. 'addm'\n",
       "2. 'medi'\n",
       "3. 'nsch'\n",
       "4. 'sped'\n",
       "\n",
       "\n",
       "\n",
       "$Source_Full1\n",
       ":   1. 'Autism &amp; Developmental Disabilities Monitoring Network'\n",
       "2. 'Medicaid'\n",
       "3. 'National Survey of Children\\'s Health'\n",
       "4. 'Special Education Child Count'\n",
       "\n",
       "\n",
       "\n",
       "$Source_Full2\n",
       ":   1. 'addm-Autism &amp; Developmental Disabilities Monitoring Network'\n",
       "2. 'medi-Medicaid'\n",
       "3. 'nsch-National Survey of Children\\'s Health'\n",
       "4. 'sped-Special Education Child Count'\n",
       "\n",
       "\n",
       "\n",
       "$Source_UC\n",
       ":   1. 'ADDM'\n",
       "2. 'MEDI'\n",
       "3. 'NSCH'\n",
       "4. 'SPED'\n",
       "\n",
       "\n",
       "\n",
       "$Source_Full3\n",
       ":   1. 'ADDM Autism &amp; Developmental Disabilities Monitoring Network'\n",
       "2. 'MEDI Medicaid'\n",
       "3. 'NSCH National Survey of Children\\'s Health'\n",
       "4. 'SPED Special Education Child Count'\n",
       "\n",
       "\n",
       "\n",
       "$Year_Factor\n",
       ":   1. '2000'\n",
       "2. '2001'\n",
       "3. '2002'\n",
       "4. '2003'\n",
       "5. '2004'\n",
       "6. '2005'\n",
       "7. '2006'\n",
       "8. '2007'\n",
       "9. '2008'\n",
       "10. '2009'\n",
       "11. '2010'\n",
       "12. '2011'\n",
       "13. '2012'\n",
       "14. '2013'\n",
       "15. '2014'\n",
       "16. '2015'\n",
       "17. '2016'\n",
       "\n",
       "\n",
       "\n",
       "\n",
       "\n"
      ],
      "text/plain": [
       "$Source\n",
       "[1] \"addm\" \"medi\" \"nsch\" \"sped\"\n",
       "\n",
       "$Source_Full1\n",
       "[1] \"Autism & Developmental Disabilities Monitoring Network\"\n",
       "[2] \"Medicaid\"                                              \n",
       "[3] \"National Survey of Children's Health\"                  \n",
       "[4] \"Special Education Child Count\"                         \n",
       "\n",
       "$Source_Full2\n",
       "[1] \"addm-Autism & Developmental Disabilities Monitoring Network\"\n",
       "[2] \"medi-Medicaid\"                                              \n",
       "[3] \"nsch-National Survey of Children's Health\"                  \n",
       "[4] \"sped-Special Education Child Count\"                         \n",
       "\n",
       "$Source_UC\n",
       "[1] \"ADDM\" \"MEDI\" \"NSCH\" \"SPED\"\n",
       "\n",
       "$Source_Full3\n",
       "[1] \"ADDM Autism & Developmental Disabilities Monitoring Network\"\n",
       "[2] \"MEDI Medicaid\"                                              \n",
       "[3] \"NSCH National Survey of Children's Health\"                  \n",
       "[4] \"SPED Special Education Child Count\"                         \n",
       "\n",
       "$Year_Factor\n",
       " [1] \"2000\" \"2001\" \"2002\" \"2003\" \"2004\" \"2005\" \"2006\" \"2007\" \"2008\" \"2009\"\n",
       "[11] \"2010\" \"2011\" \"2012\" \"2013\" \"2014\" \"2015\" \"2016\"\n"
      ]
     },
     "metadata": {},
     "output_type": "display_data"
    }
   ],
   "source": [
    "# Display unique values (levels) of a factor categorical \n",
    "lapply(select_if(ASD_National, is.factor), levels)"
   ]
  },
  {
   "cell_type": "code",
   "execution_count": 164,
   "metadata": {},
   "outputs": [
    {
     "data": {
      "text/html": [
       "<dl>\n",
       "\t<dt>$Source_UC</dt>\n",
       "\t\t<dd><ol class=list-inline>\n",
       "\t<li>'ADDM'</li>\n",
       "\t<li>'MEDI'</li>\n",
       "\t<li>'NSCH'</li>\n",
       "\t<li>'SPED'</li>\n",
       "</ol>\n",
       "</dd>\n",
       "\t<dt>$Year_Factor</dt>\n",
       "\t\t<dd><ol class=list-inline>\n",
       "\t<li>'2000'</li>\n",
       "\t<li>'2001'</li>\n",
       "\t<li>'2002'</li>\n",
       "\t<li>'2003'</li>\n",
       "\t<li>'2004'</li>\n",
       "\t<li>'2005'</li>\n",
       "\t<li>'2006'</li>\n",
       "\t<li>'2007'</li>\n",
       "\t<li>'2008'</li>\n",
       "\t<li>'2009'</li>\n",
       "\t<li>'2010'</li>\n",
       "\t<li>'2011'</li>\n",
       "\t<li>'2012'</li>\n",
       "\t<li>'2013'</li>\n",
       "\t<li>'2014'</li>\n",
       "\t<li>'2015'</li>\n",
       "\t<li>'2016'</li>\n",
       "</ol>\n",
       "</dd>\n",
       "</dl>\n"
      ],
      "text/latex": [
       "\\begin{description}\n",
       "\\item[\\$Source\\_UC] \\begin{enumerate*}\n",
       "\\item 'ADDM'\n",
       "\\item 'MEDI'\n",
       "\\item 'NSCH'\n",
       "\\item 'SPED'\n",
       "\\end{enumerate*}\n",
       "\n",
       "\\item[\\$Year\\_Factor] \\begin{enumerate*}\n",
       "\\item '2000'\n",
       "\\item '2001'\n",
       "\\item '2002'\n",
       "\\item '2003'\n",
       "\\item '2004'\n",
       "\\item '2005'\n",
       "\\item '2006'\n",
       "\\item '2007'\n",
       "\\item '2008'\n",
       "\\item '2009'\n",
       "\\item '2010'\n",
       "\\item '2011'\n",
       "\\item '2012'\n",
       "\\item '2013'\n",
       "\\item '2014'\n",
       "\\item '2015'\n",
       "\\item '2016'\n",
       "\\end{enumerate*}\n",
       "\n",
       "\\end{description}\n"
      ],
      "text/markdown": [
       "$Source_UC\n",
       ":   1. 'ADDM'\n",
       "2. 'MEDI'\n",
       "3. 'NSCH'\n",
       "4. 'SPED'\n",
       "\n",
       "\n",
       "\n",
       "$Year_Factor\n",
       ":   1. '2000'\n",
       "2. '2001'\n",
       "3. '2002'\n",
       "4. '2003'\n",
       "5. '2004'\n",
       "6. '2005'\n",
       "7. '2006'\n",
       "8. '2007'\n",
       "9. '2008'\n",
       "10. '2009'\n",
       "11. '2010'\n",
       "12. '2011'\n",
       "13. '2012'\n",
       "14. '2013'\n",
       "15. '2014'\n",
       "16. '2015'\n",
       "17. '2016'\n",
       "\n",
       "\n",
       "\n",
       "\n",
       "\n"
      ],
      "text/plain": [
       "$Source_UC\n",
       "[1] \"ADDM\" \"MEDI\" \"NSCH\" \"SPED\"\n",
       "\n",
       "$Year_Factor\n",
       " [1] \"2000\" \"2001\" \"2002\" \"2003\" \"2004\" \"2005\" \"2006\" \"2007\" \"2008\" \"2009\"\n",
       "[11] \"2010\" \"2011\" \"2012\" \"2013\" \"2014\" \"2015\" \"2016\"\n"
      ]
     },
     "metadata": {},
     "output_type": "display_data"
    }
   ],
   "source": [
    "# or using variable names\n",
    "lapply(ASD_National[c('Source_UC', 'Year_Factor')], levels)"
   ]
  },
  {
   "cell_type": "code",
   "execution_count": 165,
   "metadata": {
    "scrolled": true
   },
   "outputs": [
    {
     "data": {
      "text/plain": [
       "                                                             \n",
       "                                                              2000 2001 2002\n",
       "  ADDM Autism & Developmental Disabilities Monitoring Network    1    0    1\n",
       "  MEDI Medicaid                                                  1    1    1\n",
       "  NSCH National Survey of Children's Health                      0    0    0\n",
       "  SPED Special Education Child Count                             1    1    1\n",
       "                                                             \n",
       "                                                              2003 2004 2005\n",
       "  ADDM Autism & Developmental Disabilities Monitoring Network    0    1    0\n",
       "  MEDI Medicaid                                                  1    1    1\n",
       "  NSCH National Survey of Children's Health                      0    1    0\n",
       "  SPED Special Education Child Count                             1    1    1\n",
       "                                                             \n",
       "                                                              2006 2007 2008\n",
       "  ADDM Autism & Developmental Disabilities Monitoring Network    1    0    1\n",
       "  MEDI Medicaid                                                  1    1    1\n",
       "  NSCH National Survey of Children's Health                      0    0    1\n",
       "  SPED Special Education Child Count                             1    1    1\n",
       "                                                             \n",
       "                                                              2009 2010 2011\n",
       "  ADDM Autism & Developmental Disabilities Monitoring Network    0    1    0\n",
       "  MEDI Medicaid                                                  1    1    1\n",
       "  NSCH National Survey of Children's Health                      0    0    0\n",
       "  SPED Special Education Child Count                             1    1    1\n",
       "                                                             \n",
       "                                                              2012 2013 2014\n",
       "  ADDM Autism & Developmental Disabilities Monitoring Network    1    0    1\n",
       "  MEDI Medicaid                                                  1    0    0\n",
       "  NSCH National Survey of Children's Health                      1    0    0\n",
       "  SPED Special Education Child Count                             1    1    1\n",
       "                                                             \n",
       "                                                              2015 2016\n",
       "  ADDM Autism & Developmental Disabilities Monitoring Network    0    0\n",
       "  MEDI Medicaid                                                  0    0\n",
       "  NSCH National Survey of Children's Health                      0    1\n",
       "  SPED Special Education Child Count                             1    1"
      ]
     },
     "metadata": {},
     "output_type": "display_data"
    }
   ],
   "source": [
    "# Pivot of counting occurrences\n",
    "table(ASD_National$Source_Full3, ASD_National$Year) # table(ASD_National$Year, ASD_National$Source_Full3)"
   ]
  },
  {
   "cell_type": "markdown",
   "metadata": {},
   "source": [
    "<div class=\"alert alert-block alert-info\" style=\"margin-top: 20px\">\n",
    "</div>\n"
   ]
  },
  {
   "cell_type": "markdown",
   "metadata": {},
   "source": [
    "\n",
    "## <span style=\"color:blue\">Data Visualisation</span>\n"
   ]
  },
  {
   "cell_type": "code",
   "execution_count": 195,
   "metadata": {},
   "outputs": [],
   "source": [
    "# library(repr)\n",
    "# Change plot size to M x N\n",
    "options(repr.plot.width=8, repr.plot.height=4)"
   ]
  },
  {
   "cell_type": "markdown",
   "metadata": {},
   "source": [
    "<div class=\"alert alert-block alert-info\" style=\"margin-top: 20px\">\n",
    "    <h3>\n",
    "    Data Visualisation - Histogram (distribution of binned continuous variable)\n",
    "    </h3>\n",
    "</div>\n"
   ]
  },
  {
   "cell_type": "markdown",
   "metadata": {},
   "source": [
    "https://www.statmethods.net/graphs/density.html"
   ]
  },
  {
   "cell_type": "code",
   "execution_count": 261,
   "metadata": {},
   "outputs": [
    {
     "data": {
      "image/png": "[encoded data removed]",
      "text/plain": [
       "Plot with title “Histogram of ASD_National$Prevalence”"
      ]
     },
     "metadata": {},
     "output_type": "display_data"
    }
   ],
   "source": [
    "hist(ASD_National$Prevalence)"
   ]
  },
  {
   "cell_type": "code",
   "execution_count": 262,
   "metadata": {},
   "outputs": [
    {
     "data": {
      "image/png": "[encoded data removed]",
      "text/plain": [
       "Plot with title “Histogram of ASD_National$Female.Prevalence”"
      ]
     },
     "metadata": {},
     "output_type": "display_data"
    }
   ],
   "source": [
    "par(mfrow=c(1, 2)) # multiple plots on one page: row split to: 1,column split to: 2\n",
    "hist(ASD_National$Male.Prevalence)\n",
    "hist(ASD_National$Female.Prevalence)\n",
    "par(mfrow=c(1, 1)) # Reset to one plot on one page"
   ]
  },
  {
   "cell_type": "code",
   "execution_count": 252,
   "metadata": {
    "scrolled": true
   },
   "outputs": [
    {
     "data": {
      "image/png": "[encoded data removed]",
      "text/plain": [
       "Plot with title “Frequency of National ASD Prevalence”"
      ]
     },
     "metadata": {},
     "output_type": "display_data"
    }
   ],
   "source": [
    "# Histogram with annotations\n",
    "hist(ASD_National$Prevalence,\n",
    "     main = \"Frequency of National ASD Prevalence\", # Chart title\n",
    "     xlab = \"Prevalence per 1,000 Children\", # x axis label\n",
    "     ylab = \"Frequency or Occurrences\",# y axis label\n",
    "     sub  = \"Year 2000 - 2016\", # Chart subtitle at bottom\n",
    "     col.main=\"blue\", col.lab=\"black\", col.sub=\"darkgrey\") # Colours"
   ]
  },
  {
   "cell_type": "markdown",
   "metadata": {},
   "source": [
    "<div class=\"alert alert-block alert-info\" style=\"margin-top: 20px\">\n",
    "    <h3>\n",
    "    Density plot (distribution for continuous variable normalized to 100% area under curve)\n",
    "    </h3>\n",
    "</div>\n"
   ]
  },
  {
   "cell_type": "markdown",
   "metadata": {},
   "source": [
    "https://www.statmethods.net/graphs/density.html"
   ]
  },
  {
   "cell_type": "code",
   "execution_count": 253,
   "metadata": {},
   "outputs": [
    {
     "data": {
      "image/png": "[encoded data removed]",
      "text/plain": [
       "Plot with title “Density of National ASD Prevalence”"
      ]
     },
     "metadata": {},
     "output_type": "display_data"
    }
   ],
   "source": [
    "par(mfrow=c(1, 2)) # multiple plots on one page: row split to: 1,column split to: 2\n",
    "\n",
    "plot(density(ASD_National$Prevalence))\n",
    "\n",
    "# Density plot with annotations\n",
    "plot(density(ASD_National$Prevalence),\n",
    "     main = \"Density of National ASD Prevalence\",\n",
    "     xlab = \"Prevalence per 1,000 Children\",\n",
    "     ylab = \"Frequency or Occurrences\",\n",
    "     sub  = \"Year 2000 - 2016\",\n",
    "     col.main=\"blue\", col.lab=\"black\", col.sub=\"darkgrey\")\n",
    "\n",
    "par(mfrow=c(1, 1))"
   ]
  },
  {
   "cell_type": "markdown",
   "metadata": {},
   "source": [
    "<div class=\"alert alert-block alert-info\" style=\"margin-top: 20px\">\n",
    "    <h3>\n",
    "    Boxplot plot (median, 25% quantile,75% quantile)\n",
    "    </h3>\n",
    "</div>\n"
   ]
  },
  {
   "cell_type": "markdown",
   "metadata": {},
   "source": [
    "https://www.statmethods.net/graphs/boxplot.html"
   ]
  },
  {
   "cell_type": "markdown",
   "metadata": {},
   "source": [
    "\n",
    "https://stats.stackexchange.com/questions/156778/percentile-vs-quantile-vs-quartile\n",
    "\n",
    "0 quartile = 0 quantile = 0 percentile\n",
    "\n",
    "1 quartile = 0.25 quantile = 25 percentile\n",
    "\n",
    "2 quartile = .5 quantile = 50 percentile (median)\n",
    "\n",
    "3 quartile = .75 quantile = 75 percentile\n",
    "\n",
    "4 quartile = 1 quantile = 100 percentile"
   ]
  },
  {
   "cell_type": "code",
   "execution_count": 254,
   "metadata": {},
   "outputs": [
    {
     "data": {
      "image/png": "[encoded data removed]",
      "text/plain": [
       "plot without title"
      ]
     },
     "metadata": {},
     "output_type": "display_data"
    }
   ],
   "source": [
    "par(mfrow=c(1, 2)) # multiple plots on one page: row split to: 1,column split to: 2\n",
    "\n",
    "# All children prevalence with and without 95% confidence side by side:\n",
    "boxplot(ASD_National$Prevalence, notch = TRUE) # 95% confidence interval - a notch is drawn in each side of the boxes. If the notches of two plots do not overlap this is ‘strong evidence’ that the two medians differ\n",
    "boxplot(ASD_National$Prevalence) # All children\n",
    "\n",
    "par(mfrow=c(1, 1))"
   ]
  },
  {
   "cell_type": "code",
   "execution_count": 255,
   "metadata": {},
   "outputs": [
    {
     "name": "stderr",
     "output_type": "stream",
     "text": [
      "Warning message in bxp(list(stats = structure(c(11.5, 13.7, 18.4, 23.55, 26.6), .Dim = c(5L, :\n",
      "“some notches went outside hinges ('box'): maybe set notch=FALSE”Warning message in bxp(list(stats = structure(c(2.7, 3.05, 4, 5.25, 6.6), .Dim = c(5L, :\n",
      "“some notches went outside hinges ('box'): maybe set notch=FALSE”"
     ]
    },
    {
     "data": {
      "image/png": "[encoded data removed]",
      "text/plain": [
       "plot without title"
      ]
     },
     "metadata": {},
     "output_type": "display_data"
    }
   ],
   "source": [
    "par(mfrow=c(1, 2)) # multiple plots on one page: row split to: 1,column split to: 2\n",
    "\n",
    "# Male prevalence and Female prevalence side by side:\n",
    "boxplot(ASD_National$Male.Prevalence, ylim = c(0, 35), notch = TRUE) # Male children\n",
    "boxplot(ASD_National$Female.Prevalence, ylim = c(0, 35), notch = TRUE) # Female children\n",
    "\n",
    "par(mfrow=c(1, 1))"
   ]
  },
  {
   "cell_type": "code",
   "execution_count": 256,
   "metadata": {},
   "outputs": [
    {
     "data": {
      "text/html": [
       "<ol class=list-inline>\n",
       "\t<li>1.8</li>\n",
       "\t<li>29.2</li>\n",
       "</ol>\n"
      ],
      "text/latex": [
       "\\begin{enumerate*}\n",
       "\\item 1.8\n",
       "\\item 29.2\n",
       "\\end{enumerate*}\n"
      ],
      "text/markdown": [
       "1. 1.8\n",
       "2. 29.2\n",
       "\n",
       "\n"
      ],
      "text/plain": [
       "[1]  1.8 29.2"
      ]
     },
     "metadata": {},
     "output_type": "display_data"
    }
   ],
   "source": [
    "# Display value ranges\n",
    "# numeric:\n",
    "range(ASD_National$Prevalence)"
   ]
  },
  {
   "cell_type": "code",
   "execution_count": 257,
   "metadata": {},
   "outputs": [
    {
     "data": {
      "text/html": [
       "<ol class=list-inline>\n",
       "\t<li>2000</li>\n",
       "\t<li>2016</li>\n",
       "</ol>\n"
      ],
      "text/latex": [
       "\\begin{enumerate*}\n",
       "\\item 2000\n",
       "\\item 2016\n",
       "\\end{enumerate*}\n"
      ],
      "text/markdown": [
       "1. 2000\n",
       "2. 2016\n",
       "\n",
       "\n"
      ],
      "text/plain": [
       "[1] 2000 2016"
      ]
     },
     "metadata": {},
     "output_type": "display_data"
    }
   ],
   "source": [
    "range(ASD_National$Year)"
   ]
  },
  {
   "cell_type": "code",
   "execution_count": 258,
   "metadata": {},
   "outputs": [
    {
     "data": {
      "text/html": [
       "2000\n",
       "<details>\n",
       "\t<summary style=display:list-item;cursor:pointer>\n",
       "\t\t<strong>Levels</strong>:\n",
       "\t</summary>\n",
       "\t<ol class=list-inline>\n",
       "\t\t<li>'2000'</li>\n",
       "\t\t<li>'2001'</li>\n",
       "\t\t<li>'2002'</li>\n",
       "\t\t<li>'2003'</li>\n",
       "\t\t<li>'2004'</li>\n",
       "\t\t<li>'2005'</li>\n",
       "\t\t<li>'2006'</li>\n",
       "\t\t<li>'2007'</li>\n",
       "\t\t<li>'2008'</li>\n",
       "\t\t<li>'2009'</li>\n",
       "\t\t<li>'2010'</li>\n",
       "\t\t<li>'2011'</li>\n",
       "\t\t<li>'2012'</li>\n",
       "\t\t<li>'2013'</li>\n",
       "\t\t<li>'2014'</li>\n",
       "\t\t<li>'2015'</li>\n",
       "\t\t<li>'2016'</li>\n",
       "\t</ol>\n",
       "</details>"
      ],
      "text/latex": [
       "2000\n",
       "\\emph{Levels}: \\begin{enumerate*}\n",
       "\\item '2000'\n",
       "\\item '2001'\n",
       "\\item '2002'\n",
       "\\item '2003'\n",
       "\\item '2004'\n",
       "\\item '2005'\n",
       "\\item '2006'\n",
       "\\item '2007'\n",
       "\\item '2008'\n",
       "\\item '2009'\n",
       "\\item '2010'\n",
       "\\item '2011'\n",
       "\\item '2012'\n",
       "\\item '2013'\n",
       "\\item '2014'\n",
       "\\item '2015'\n",
       "\\item '2016'\n",
       "\\end{enumerate*}\n"
      ],
      "text/markdown": [
       "2000\n",
       "**Levels**: 1. '2000'\n",
       "2. '2001'\n",
       "3. '2002'\n",
       "4. '2003'\n",
       "5. '2004'\n",
       "6. '2005'\n",
       "7. '2006'\n",
       "8. '2007'\n",
       "9. '2008'\n",
       "10. '2009'\n",
       "11. '2010'\n",
       "12. '2011'\n",
       "13. '2012'\n",
       "14. '2013'\n",
       "15. '2014'\n",
       "16. '2015'\n",
       "17. '2016'\n",
       "\n",
       "\n"
      ],
      "text/plain": [
       "[1] 2000\n",
       "17 Levels: 2000 < 2001 < 2002 < 2003 < 2004 < 2005 < 2006 < 2007 < ... < 2016"
      ]
     },
     "metadata": {},
     "output_type": "display_data"
    }
   ],
   "source": [
    "# categorical:\n",
    "min(ASD_National$Year_Factor)"
   ]
  },
  {
   "cell_type": "code",
   "execution_count": 259,
   "metadata": {},
   "outputs": [
    {
     "data": {
      "text/html": [
       "2016\n",
       "<details>\n",
       "\t<summary style=display:list-item;cursor:pointer>\n",
       "\t\t<strong>Levels</strong>:\n",
       "\t</summary>\n",
       "\t<ol class=list-inline>\n",
       "\t\t<li>'2000'</li>\n",
       "\t\t<li>'2001'</li>\n",
       "\t\t<li>'2002'</li>\n",
       "\t\t<li>'2003'</li>\n",
       "\t\t<li>'2004'</li>\n",
       "\t\t<li>'2005'</li>\n",
       "\t\t<li>'2006'</li>\n",
       "\t\t<li>'2007'</li>\n",
       "\t\t<li>'2008'</li>\n",
       "\t\t<li>'2009'</li>\n",
       "\t\t<li>'2010'</li>\n",
       "\t\t<li>'2011'</li>\n",
       "\t\t<li>'2012'</li>\n",
       "\t\t<li>'2013'</li>\n",
       "\t\t<li>'2014'</li>\n",
       "\t\t<li>'2015'</li>\n",
       "\t\t<li>'2016'</li>\n",
       "\t</ol>\n",
       "</details>"
      ],
      "text/latex": [
       "2016\n",
       "\\emph{Levels}: \\begin{enumerate*}\n",
       "\\item '2000'\n",
       "\\item '2001'\n",
       "\\item '2002'\n",
       "\\item '2003'\n",
       "\\item '2004'\n",
       "\\item '2005'\n",
       "\\item '2006'\n",
       "\\item '2007'\n",
       "\\item '2008'\n",
       "\\item '2009'\n",
       "\\item '2010'\n",
       "\\item '2011'\n",
       "\\item '2012'\n",
       "\\item '2013'\n",
       "\\item '2014'\n",
       "\\item '2015'\n",
       "\\item '2016'\n",
       "\\end{enumerate*}\n"
      ],
      "text/markdown": [
       "2016\n",
       "**Levels**: 1. '2000'\n",
       "2. '2001'\n",
       "3. '2002'\n",
       "4. '2003'\n",
       "5. '2004'\n",
       "6. '2005'\n",
       "7. '2006'\n",
       "8. '2007'\n",
       "9. '2008'\n",
       "10. '2009'\n",
       "11. '2010'\n",
       "12. '2011'\n",
       "13. '2012'\n",
       "14. '2013'\n",
       "15. '2014'\n",
       "16. '2015'\n",
       "17. '2016'\n",
       "\n",
       "\n"
      ],
      "text/plain": [
       "[1] 2016\n",
       "17 Levels: 2000 < 2001 < 2002 < 2003 < 2004 < 2005 < 2006 < 2007 < ... < 2016"
      ]
     },
     "metadata": {},
     "output_type": "display_data"
    }
   ],
   "source": [
    "max(ASD_National$Year_Factor)"
   ]
  },
  {
   "cell_type": "code",
   "execution_count": 260,
   "metadata": {
    "scrolled": false
   },
   "outputs": [
    {
     "data": {
      "image/png": "[encoded data removed]",
      "text/plain": [
       "Plot with title “National ASD Prevalence by Data Source”"
      ]
     },
     "metadata": {},
     "output_type": "display_data"
    }
   ],
   "source": [
    "# Create 'Prevalence' box plots break by 'Source'\n",
    "boxplot(ASD_National$Prevalence ~ ASD_National$Source,\n",
    "        main = \"National ASD Prevalence by Data Source\",\n",
    "        xlab = \"Data Source\",\n",
    "        ylab = \"Prevalence per 1,000 Children\",\n",
    "        sub  = \"Year 2000 - 2016\",\n",
    "        col.main=\"blue\", col.lab=\"black\", col.sub=\"darkgrey\")"
   ]
  },
  {
   "cell_type": "markdown",
   "metadata": {},
   "source": [
    "<div class=\"alert alert-danger alertdanger\" style=\"margin-top: 20px\">\n",
    "    <h3>\n",
    "        Quiz:\n",
    "    </h3>\n",
    "    <p>\n",
    "        Set noth=TRUE to above boxplot. Are there overlapping among four data sources?\n",
    "    </p>\n",
    "</div>"
   ]
  },
  {
   "cell_type": "code",
   "execution_count": 15,
   "metadata": {},
   "outputs": [],
   "source": [
    "# Write your code below and press Shift+Enter to execute \n"
   ]
  },
  {
   "cell_type": "markdown",
   "metadata": {},
   "source": [
    "Double-click <b>here</b> for the solution.\n",
    "\n",
    "<!-- The answer is below:\n",
    "\n",
    "# Write your code below and press Shift+Enter to execute \n",
    "# Create 'Prevalence' box plots break by 'Source'\n",
    "boxplot(ASD_National$Prevalence ~ ASD_National$Source,\n",
    "        main = \"National ASD Prevalence by Data Source\", notch=TRUE,\n",
    "        xlab = \"Data Source\",\n",
    "        ylab = \"Prevalence per 1,000 Children\",\n",
    "        sub  = \"Year 2000 - 2016\",\n",
    "        col.main=\"blue\", col.lab=\"black\", col.sub=\"darkgrey\")\n",
    "\n",
    "-->"
   ]
  },
  {
   "cell_type": "markdown",
   "metadata": {},
   "source": [
    "<div class=\"alert alert-block alert-info\" style=\"margin-top: 20px\">\n",
    "    <h3>\n",
    "    Data Visualisation - Line chart\n",
    "    </h3>\n",
    "</div>\n"
   ]
  },
  {
   "cell_type": "code",
   "execution_count": 265,
   "metadata": {},
   "outputs": [],
   "source": [
    "# Change plot size to M x N\n",
    "options(repr.plot.width=8, repr.plot.height=6)"
   ]
  },
  {
   "cell_type": "code",
   "execution_count": 266,
   "metadata": {},
   "outputs": [
    {
     "data": {
      "image/png": "[encoded data removed]",
      "text/plain": [
       "plot without title"
      ]
     },
     "metadata": {},
     "output_type": "display_data"
    }
   ],
   "source": [
    "# ----------------------------------\n",
    "# [National] < Prevalence has changed over Time >\n",
    "# ----------------------------------\n",
    "# Prevalence over Year\n",
    "# Use Year        as x-axis: y value Prevalence is NOT aggregated for different data sources\n",
    "plot(ASD_National$Year, ASD_National$Prevalence) "
   ]
  },
  {
   "cell_type": "code",
   "execution_count": 267,
   "metadata": {},
   "outputs": [
    {
     "data": {
      "image/png": "[encoded data removed]",
      "text/plain": [
       "plot without title"
      ]
     },
     "metadata": {},
     "output_type": "display_data"
    }
   ],
   "source": [
    "# Use Year_factor as x-axis: y value Prevalence is     aggregated for different data sources\n",
    "plot(ASD_National$Year_Factor, ASD_National$Prevalence) "
   ]
  },
  {
   "cell_type": "code",
   "execution_count": 268,
   "metadata": {},
   "outputs": [],
   "source": [
    "# table(ASD_National$Source_Full3)"
   ]
  },
  {
   "cell_type": "code",
   "execution_count": 269,
   "metadata": {},
   "outputs": [
    {
     "data": {
      "image/png": "[encoded data removed]",
      "text/plain": [
       "plot without title"
      ]
     },
     "metadata": {},
     "output_type": "display_data"
    }
   ],
   "source": [
    "par(mfrow=c(2, 2))\n",
    "\n",
    "# Prevalence over Year, from data source: \n",
    "# addm-Autism & Developmental Disabilities Monitoring Network\n",
    "plot(ASD_National$Year[ASD_National$Source == 'addm'], \n",
    "     ASD_National$Prevalence[ASD_National$Source == 'addm'])\n",
    "\n",
    "# Prevalence over Year, from data source: \n",
    "# medi-Medicaid\n",
    "plot(ASD_National$Year[ASD_National$Source == 'medi'], \n",
    "     ASD_National$Prevalence[ASD_National$Source == 'medi'])\n",
    "\n",
    "# Prevalence over Year, from data source: \n",
    "# nsch-National Survey of Children Health\n",
    "plot(ASD_National$Year[ASD_National$Source == 'nsch'], \n",
    "     ASD_National$Prevalence[ASD_National$Source == 'nsch'])\n",
    "\n",
    "# Prevalence over Year, from data source: \n",
    "# sped-Special Education Child Count\n",
    "plot(ASD_National$Year[ASD_National$Source == 'sped'], \n",
    "     ASD_National$Prevalence[ASD_National$Source == 'sped'])\n",
    "\n",
    "par(mfrow=c(1, 1)) # Reset to one plot on one page"
   ]
  },
  {
   "cell_type": "code",
   "execution_count": 270,
   "metadata": {
    "scrolled": false
   },
   "outputs": [
    {
     "data": {
      "image/png": "[encoded data removed]",
      "text/plain": [
       "Plot with title “[sped] Prevalence Estimates Over Time”"
      ]
     },
     "metadata": {},
     "output_type": "display_data"
    }
   ],
   "source": [
    "# ----------------------------------\n",
    "# Add more annotations to above plots\n",
    "# ----------------------------------\n",
    "# Color list\n",
    "# addm : darkblue\n",
    "# medi : orange\n",
    "# nsch : darkred\n",
    "# sped : skyblue\n",
    "\n",
    "par(mfrow=c(2, 2))\n",
    "\n",
    "# Prevalence over Year, from data source: \n",
    "# addm-Autism & Developmental Disabilities Monitoring Network\n",
    "plot(ASD_National$Year[ASD_National$Source == 'addm'], \n",
    "     ASD_National$Prevalence[ASD_National$Source == 'addm'],\n",
    "     type=\"l\", # dot/point type\n",
    "     lty=1, # line type\n",
    "     lwd=3, # line width\n",
    "     col=\"darkblue\", # line color\n",
    "     xlab=\"Year\", \n",
    "     ylab=\"Prevalence per 1,000 Children\", \n",
    "     ylim = c(0, 30), # Set value range of y axis\n",
    "     main=\"[addm] Prevalence Estimates Over Time\",\n",
    "     sub  = \"zhan.gu@nus.edu.sg\",\n",
    "     col.main=\"blue\", col.lab=\"black\", col.sub=\"darkgrey\")\n",
    "\n",
    "# Prevalence over Year, from data source: \n",
    "# medi-Medicaid\n",
    "plot(ASD_National$Year[ASD_National$Source == 'medi'], \n",
    "     ASD_National$Prevalence[ASD_National$Source == 'medi'],\n",
    "     type=\"b\", lty=1, lwd=3,  col=\"orange\",\n",
    "     xlab=\"Year\", \n",
    "     ylab=\"Prevalence per 1,000 Children\", \n",
    "     ylim = c(0, 30), # Set value range of y axis\n",
    "     main=\"[medi] Prevalence Estimates Over Time\",\n",
    "     sub  = \"zhan.gu@nus.edu.sg\",\n",
    "     col.main=\"blue\", col.lab=\"black\", col.sub=\"darkgrey\")\n",
    "\n",
    "# Prevalence over Year, from data source: \n",
    "# nsch-National Survey of Children Health\n",
    "plot(ASD_National$Year[ASD_National$Source == 'nsch'], \n",
    "     ASD_National$Prevalence[ASD_National$Source == 'nsch'],\n",
    "     type=\"l\", lty=2, lwd=3,  col=\"darkred\",\n",
    "     xlab=\"Year\", \n",
    "     ylab=\"Prevalence per 1,000 Children\", \n",
    "     ylim = c(0, 30), # Set value range of y axis\n",
    "     main=\"[nsch] Prevalence Estimates Over Time\",\n",
    "     sub  = \"zhan.gu@nus.edu.sg\",\n",
    "     col.main=\"blue\", col.lab=\"black\", col.sub=\"darkgrey\")\n",
    "\n",
    "# Prevalence over Year, from data source: \n",
    "# sped-Special Education Child Count\n",
    "plot(ASD_National$Year[ASD_National$Source == 'sped'], \n",
    "     ASD_National$Prevalence[ASD_National$Source == 'sped'],\n",
    "     type=\"l\", lty=3, lwd=3,  col=\"skyblue\",\n",
    "     xlab=\"Year\", \n",
    "     ylab=\"Prevalence per 1,000 Children\", \n",
    "     ylim = c(0, 30), # Set value range of y axis\n",
    "     main=\"[sped] Prevalence Estimates Over Time\",\n",
    "     sub  = \"zhan.gu@nus.edu.sg\",\n",
    "     col.main=\"blue\", col.lab=\"black\", col.sub=\"darkgrey\")\n",
    "\n",
    "par(mfrow=c(1, 1)) # Reset to one plot on one page"
   ]
  },
  {
   "cell_type": "markdown",
   "metadata": {},
   "source": [
    "<div class=\"alert alert-block alert-info\" style=\"margin-top: 20px\">\n",
    "    <h3>\n",
    "    Data Visualisation - <span style=\"color:blue\">[ CDC ] REPORTED PREVALENCE HAS CHANGED OVER TIME</span>\n",
    "    </h3>\n",
    "</div>\n"
   ]
  },
  {
   "cell_type": "markdown",
   "metadata": {},
   "source": [
    "\n",
    "<img src=\"../reference/CDC_ASD/ADV [addm] Prevalence Estimates Over Time.png\" align=\"left\">\n"
   ]
  },
  {
   "cell_type": "markdown",
   "metadata": {},
   "source": [
    "<div class=\"alert alert-block alert-info\" style=\"margin-top: 20px\">\n",
    "    <h3>\n",
    "    Data Visualisation - <span style=\"color:blue\">[ R ] REPORTED PREVALENCE HAS CHANGED OVER TIME</span> by [ Data Source ]\n",
    "    </h3>\n",
    "</div>\n"
   ]
  },
  {
   "cell_type": "markdown",
   "metadata": {},
   "source": [
    "**Create multiple lines within a single chart**"
   ]
  },
  {
   "cell_type": "code",
   "execution_count": 271,
   "metadata": {
    "scrolled": false
   },
   "outputs": [
    {
     "data": {
      "image/png": "[encoded data removed]",
      "text/plain": [
       "Plot with title “Prevalence Estimates Over Time by Data Source”"
      ]
     },
     "metadata": {},
     "output_type": "display_data"
    }
   ],
   "source": [
    "# ----------------------------------\n",
    "# [National] < Prevalence Varies over Time/Year by Data Source >\n",
    "# ----------------------------------\n",
    "# Create a first line\n",
    "plot(ASD_National$Year[ASD_National$Source == 'addm'], \n",
    "     ASD_National$Prevalence[ASD_National$Source == 'addm'], \n",
    "     col = \"darkblue\", lty = 1, lwd = 2,\n",
    "     type = \"b\", # use dot/point\n",
    "     pch = 0, # dot/point type: http://www.endmemo.com/program/R/pchsymbols.php\n",
    "     xlab=\"Year\", \n",
    "     xlim=c(2000, 2016), # Set x axis value range\n",
    "     ylab=\"Prevalence per 1,000 Children\", \n",
    "     ylim=c(0, 30), # Set y axis value range\n",
    "     main=\"Prevalence Estimates Over Time by Data Source\",\n",
    "     col.main=\"black\", col.lab=\"black\", col.sub=\"grey\",\n",
    "     frame = FALSE, # Remove frame\n",
    "     axes=FALSE # Remove x and y axis\n",
    ")\n",
    "axis(1, at=seq(2000, 2016, 1)) # Customize x axis\n",
    "axis(2, at=seq(0, 30, 5)) # Customize y axis\n",
    "\n",
    "# Add another line\n",
    "lines(ASD_National$Year[ASD_National$Source == 'medi'], \n",
    "      ASD_National$Prevalence[ASD_National$Source == 'medi'], \n",
    "      pch = 1, col = \"orange\", type = \"b\", lty = 1, lwd = 2\n",
    ")\n",
    "# Add another line\n",
    "lines(ASD_National$Year[ASD_National$Source == 'nsch'], \n",
    "      ASD_National$Prevalence[ASD_National$Source == 'nsch'], \n",
    "      pch = 2, col = \"darkred\", type = \"b\", lty = 1, lwd = 2\n",
    ")\n",
    "# Add another line\n",
    "lines(ASD_National$Year[ASD_National$Source == 'sped'], \n",
    "      ASD_National$Prevalence[ASD_National$Source == 'sped'], \n",
    "      pch = 5, col = \"skyblue\", type = \"b\", lty = 1, lwd = 2\n",
    ")\n",
    "# Add a legend to the plot\n",
    "legend(\"topleft\", legend=levels(ASD_National$Source),\n",
    "       col=c(\"darkblue\", \"orange\", \"darkred\", \"skyblue\"), \n",
    "       pch = 20, # dot in a line\n",
    "       lty = 1, # line type\n",
    "       lwd = 2, # line width\n",
    "       cex=0.8, # size of text\n",
    "       bty = 'n' # Without frame\n",
    ")\n"
   ]
  },
  {
   "cell_type": "markdown",
   "metadata": {},
   "source": [
    "R pch: dot/point type: http://www.endmemo.com/program/R/pchsymbols.php\n",
    "\n",
    "R plot colour list: https://www.r-graph-gallery.com/42-colors-names.html\n"
   ]
  },
  {
   "cell_type": "markdown",
   "metadata": {},
   "source": [
    "<div class=\"alert alert-block alert-info\" style=\"margin-top: 20px\">\n",
    "    <h3>\n",
    "    Data Visualisation - <span style=\"color:blue\">REPORTED PREVALENCE VARIES BY SEX</span>\n",
    "    </h3>\n",
    "</div>\n"
   ]
  },
  {
   "cell_type": "markdown",
   "metadata": {},
   "source": [
    "\n",
    "<img src=\"../reference/CDC_ASD/ADV [addm] [2014] Prevalence Estimates by Sex.png\" align=\"left\">\n"
   ]
  },
  {
   "cell_type": "markdown",
   "metadata": {},
   "source": [
    "<div class=\"alert alert-block alert-info\" style=\"margin-top: 20px\">\n",
    "    <h3>\n",
    "    Data Visualisation - <span style=\"color:blue\">REPORTED PREVALENCE VARIES BY SEX</span> [ Source: ADDM ] over [ Year ]\n",
    "    </h3>\n",
    "</div>\n"
   ]
  },
  {
   "cell_type": "code",
   "execution_count": 272,
   "metadata": {},
   "outputs": [
    {
     "data": {
      "image/png": "[encoded data removed]",
      "text/plain": [
       "Plot with title “Prevalence Estimates by Sex [ADDM]”"
      ]
     },
     "metadata": {},
     "output_type": "display_data"
    }
   ],
   "source": [
    "# ----------------------------------\n",
    "# [addm] < Prevalence Varies by Sex >\n",
    "# ----------------------------------\n",
    "# Create a first line\n",
    "plot(ASD_National$Year[ASD_National$Source == 'addm'], \n",
    "     ASD_National$Prevalence[ASD_National$Source == 'addm'], \n",
    "     col = \"grey\", lty = 1, lwd = 2,\n",
    "     type = \"l\", # use dot/point\n",
    "     pch = 0, # dot/point type: http://www.endmemo.com/program/R/pchsymbols.php\n",
    "     xlab=\"Year\", \n",
    "     xlim=c(2000, 2016), # Set x axis value range\n",
    "     ylab=\"Prevalence per 1,000 Children\", \n",
    "     ylim=c(0, 30), # Set y axis value range\n",
    "     main=\"Prevalence Estimates by Sex [ADDM]\",\n",
    "     col.main=\"black\", col.lab=\"black\", col.sub=\"grey\",\n",
    "     frame = FALSE, # Remove frame\n",
    "     axes=FALSE # Remove x and y axis\n",
    ")\n",
    "axis(1, at=seq(2000, 2016, 1)) # Customize x axis\n",
    "axis(2, at=seq(0, 30, 5)) # Customize y axis\n",
    "\n",
    "# Add Female prevalence\n",
    "lines(ASD_National$Year[ASD_National$Source == 'addm'], \n",
    "      ASD_National$Female.Prevalence[ASD_National$Source == 'addm'], \n",
    "      pch = 1, col = \"orange\", type = \"l\", lty = 1, lwd = 2)\n",
    "# Add Female prevalence lower CI\n",
    "lines(ASD_National$Year[ASD_National$Source == 'addm'], \n",
    "      ASD_National$Female.Lower.CI[ASD_National$Source == 'addm'], \n",
    "      pch = 1, col = \"orange\", type = \"l\", lty = 3, lwd = 1)\n",
    "# Add Female prevalence upper CI\n",
    "lines(ASD_National$Year[ASD_National$Source == 'addm'], \n",
    "      ASD_National$Female.Upper.CI[ASD_National$Source == 'addm'], \n",
    "      pch = 1, col = \"orange\", type = \"l\", lty = 3, lwd = 1)\n",
    "\n",
    "# Add Male prevalence\n",
    "lines(ASD_National$Year[ASD_National$Source == 'addm'], \n",
    "      ASD_National$Male.Prevalence[ASD_National$Source == 'addm'], \n",
    "      pch = 1, col = \"blue\", type = \"l\", lty = 1, lwd = 2)\n",
    "# Add Male prevalence lower CI\n",
    "lines(ASD_National$Year[ASD_National$Source == 'addm'], \n",
    "      ASD_National$Male.Lower.CI[ASD_National$Source == 'addm'], \n",
    "      pch = 1, col = \"blue\", type = \"l\", lty = 3, lwd = 1)\n",
    "# Add Male prevalence upper CI\n",
    "lines(ASD_National$Year[ASD_National$Source == 'addm'], \n",
    "      ASD_National$Male.Upper.CI[ASD_National$Source == 'addm'], \n",
    "      pch = 1, col = \"blue\", type = \"l\", lty = 3, lwd = 1)\n",
    "# Add a legend to the plot\n",
    "legend(\"topleft\", legend=c('ADDM Average', 'Female with 95% CI', 'Male with 95% CI'),\n",
    "       col=c(\"grey\", \"orange\", \"blue\"), \n",
    "       #       pch = 20, # dot in a line\n",
    "       lty = 1, # line type\n",
    "       lwd = 2, # line width\n",
    "       cex=0.8, # size of text\n",
    "       bty = 'n' # Without frame\n",
    ")\n"
   ]
  },
  {
   "cell_type": "code",
   "execution_count": null,
   "metadata": {},
   "outputs": [],
   "source": []
  },
  {
   "cell_type": "markdown",
   "metadata": {},
   "source": [
    "<div class=\"alert alert-block alert-info\" style=\"margin-top: 20px\">\n",
    "    <h3>\n",
    "    Data Visualisation - <span style=\"color:blue\">REPORTED PREVALENCE VARIES BY RACE AND ETHNICITY</span>\n",
    "    </h3>\n",
    "</div>\n"
   ]
  },
  {
   "cell_type": "markdown",
   "metadata": {},
   "source": [
    "\n",
    "<img src=\"../reference/CDC_ASD/ADV [addm] Prevalence Estimates by Race Ethnicity.png\" align=\"left\">\n"
   ]
  },
  {
   "cell_type": "markdown",
   "metadata": {},
   "source": [
    "<div class=\"alert alert-block alert-info\" style=\"margin-top: 20px\">\n",
    "    <h3>\n",
    "    Data Visualisation - <span style=\"color:blue\">REPORTED PREVALENCE VARIES BY RACE AND ETHNICITY</span> [ Source: ADDM ]\n",
    "    </h3>\n",
    "</div>\n"
   ]
  },
  {
   "cell_type": "code",
   "execution_count": 274,
   "metadata": {},
   "outputs": [
    {
     "data": {
      "image/png": "[encoded data removed]",
      "text/plain": [
       "Plot with title “Prevalence Estimates by Race/Ethnicity [ADDM]”"
      ]
     },
     "metadata": {},
     "output_type": "display_data"
    }
   ],
   "source": [
    "# ----------------------------------\n",
    "# [addm] < Prevalence Varies by Race and Ethnicity >\n",
    "# ----------------------------------\n",
    "# Create a first line\n",
    "plot(ASD_National$Year[ASD_National$Source == 'addm'], \n",
    "     ASD_National$Prevalence[ASD_National$Source == 'addm'], \n",
    "     col = \"grey\", lty = 1, lwd = 2,\n",
    "     type = \"l\", # use dot/point\n",
    "     pch = 0, # dot/point type: http://www.endmemo.com/program/R/pchsymbols.php\n",
    "     xlab=\"Year\", \n",
    "     xlim=c(2000, 2016), # Set x axis value range\n",
    "     ylab=\"Prevalence per 1,000 Children\", \n",
    "     ylim=c(0, 30), # Set y axis value range\n",
    "     main=\"Prevalence Estimates by Race/Ethnicity [ADDM]\",\n",
    "     col.main=\"black\", col.lab=\"black\", col.sub=\"grey\",\n",
    "     frame = FALSE, # Remove frame\n",
    "     axes=FALSE # Remove x and y axis\n",
    ")\n",
    "axis(1, at=seq(2000, 2016, 1)) # Customize x axis\n",
    "axis(2, at=seq(0, 30, 5)) # Customize y axis\n",
    "\n",
    "# R plot colour list: https://www.r-graph-gallery.com/42-colors-names.html\n",
    "\n",
    "# Add Asian.or.Pacific.Islander.Prevalence\n",
    "lines(ASD_National$Year[ASD_National$Source == 'addm'], \n",
    "      ASD_National$Asian.or.Pacific.Islander.Prevalence[ASD_National$Source == 'addm'], \n",
    "      pch = 20, col = \"darkred\", type = \"b\", lty = 1, lwd = 2)\n",
    "# Add Hispanic.Prevalence\n",
    "lines(ASD_National$Year[ASD_National$Source == 'addm'], \n",
    "      ASD_National$Hispanic.Prevalence[ASD_National$Source == 'addm'], \n",
    "      pch = 20, col = \"darkorchid3\", type = \"b\", lty = 1, lwd = 2)\n",
    "# Add Non.hispanic.black.Prevalence\n",
    "lines(ASD_National$Year[ASD_National$Source == 'addm'], \n",
    "      ASD_National$Non.hispanic.black.Prevalence[ASD_National$Source == 'addm'], \n",
    "      pch = 20, col = \"deepskyblue3\", type = \"b\", lty = 1, lwd = 2)\n",
    "# Add Non.hispanic.white.Prevalence\n",
    "lines(ASD_National$Year[ASD_National$Source == 'addm'], \n",
    "      ASD_National$Non.hispanic.white.Prevalence[ASD_National$Source == 'addm'], \n",
    "      pch = 20, col = \"chartreuse3\", type = \"b\", lty = 1, lwd = 2)\n",
    "\n",
    "# Add a legend to the plot\n",
    "legend(\"topleft\", legend=c('ADDM Average', \n",
    "                           'Non-Hispanic White',\n",
    "                           'Non-Hispanic Black',\n",
    "                           'Hispanic', \n",
    "                           'Asian/Pacific Islander'),\n",
    "       col=c(\"grey\", \"chartreuse3\", \"deepskyblue3\", \"darkorchid3\", \"darkred\"), \n",
    "       pch = 20, # dot in a line\n",
    "       lty = 1, # line type\n",
    "       lwd = 2, # line width\n",
    "       cex=0.8, # size of text\n",
    "       bty = 'n' # Without frame\n",
    ")\n"
   ]
  },
  {
   "cell_type": "code",
   "execution_count": null,
   "metadata": {},
   "outputs": [],
   "source": []
  },
  {
   "cell_type": "markdown",
   "metadata": {},
   "source": [
    "<div class=\"alert alert-danger alertdanger\" style=\"margin-top: 20px\">\n",
    "    <h3>\n",
    "        Quiz:\n",
    "    </h3>\n",
    "    <p>\n",
    "        Add 95% Confidence Interval to above plot\n",
    "    </p>\n",
    "</div>"
   ]
  },
  {
   "cell_type": "code",
   "execution_count": 275,
   "metadata": {},
   "outputs": [],
   "source": [
    "# Write your code below and press Shift+Enter to execute \n"
   ]
  },
  {
   "cell_type": "markdown",
   "metadata": {},
   "source": [
    "Double-click <b>here</b> for the solution.\n",
    "\n",
    "<!-- The answer is below:\n",
    "\n",
    "# Write your code below and press Shift+Enter to execute \n",
    "# TBD\n",
    "\n",
    "-->"
   ]
  },
  {
   "cell_type": "code",
   "execution_count": null,
   "metadata": {},
   "outputs": [],
   "source": []
  },
  {
   "cell_type": "code",
   "execution_count": null,
   "metadata": {},
   "outputs": [],
   "source": []
  },
  {
   "cell_type": "code",
   "execution_count": null,
   "metadata": {},
   "outputs": [],
   "source": []
  },
  {
   "cell_type": "code",
   "execution_count": null,
   "metadata": {},
   "outputs": [],
   "source": []
  },
  {
   "cell_type": "code",
   "execution_count": null,
   "metadata": {},
   "outputs": [],
   "source": []
  },
  {
   "cell_type": "code",
   "execution_count": null,
   "metadata": {},
   "outputs": [],
   "source": []
  },
  {
   "cell_type": "code",
   "execution_count": null,
   "metadata": {},
   "outputs": [],
   "source": []
  },
  {
   "cell_type": "code",
   "execution_count": null,
   "metadata": {},
   "outputs": [],
   "source": []
  },
  {
   "cell_type": "code",
   "execution_count": null,
   "metadata": {},
   "outputs": [],
   "source": []
  },
  {
   "cell_type": "code",
   "execution_count": null,
   "metadata": {},
   "outputs": [],
   "source": []
  },
  {
   "cell_type": "code",
   "execution_count": null,
   "metadata": {},
   "outputs": [],
   "source": []
  },
  {
   "cell_type": "code",
   "execution_count": null,
   "metadata": {},
   "outputs": [],
   "source": []
  },
  {
   "cell_type": "code",
   "execution_count": null,
   "metadata": {},
   "outputs": [],
   "source": []
  },
  {
   "cell_type": "code",
   "execution_count": null,
   "metadata": {},
   "outputs": [],
   "source": []
  },
  {
   "cell_type": "code",
   "execution_count": null,
   "metadata": {},
   "outputs": [],
   "source": []
  },
  {
   "cell_type": "code",
   "execution_count": null,
   "metadata": {},
   "outputs": [],
   "source": []
  },
  {
   "cell_type": "code",
   "execution_count": null,
   "metadata": {},
   "outputs": [],
   "source": []
  },
  {
   "cell_type": "code",
   "execution_count": null,
   "metadata": {},
   "outputs": [],
   "source": []
  },
  {
   "cell_type": "code",
   "execution_count": null,
   "metadata": {},
   "outputs": [],
   "source": []
  },
  {
   "cell_type": "code",
   "execution_count": null,
   "metadata": {},
   "outputs": [],
   "source": []
  },
  {
   "cell_type": "code",
   "execution_count": null,
   "metadata": {},
   "outputs": [],
   "source": []
  },
  {
   "cell_type": "code",
   "execution_count": null,
   "metadata": {},
   "outputs": [],
   "source": []
  },
  {
   "cell_type": "code",
   "execution_count": null,
   "metadata": {},
   "outputs": [],
   "source": []
  },
  {
   "cell_type": "code",
   "execution_count": null,
   "metadata": {},
   "outputs": [],
   "source": []
  },
  {
   "cell_type": "code",
   "execution_count": null,
   "metadata": {},
   "outputs": [],
   "source": []
  },
  {
   "cell_type": "code",
   "execution_count": null,
   "metadata": {},
   "outputs": [],
   "source": []
  },
  {
   "cell_type": "code",
   "execution_count": null,
   "metadata": {},
   "outputs": [],
   "source": []
  },
  {
   "cell_type": "code",
   "execution_count": null,
   "metadata": {},
   "outputs": [],
   "source": []
  },
  {
   "cell_type": "code",
   "execution_count": null,
   "metadata": {},
   "outputs": [],
   "source": []
  },
  {
   "cell_type": "code",
   "execution_count": null,
   "metadata": {},
   "outputs": [],
   "source": []
  },
  {
   "cell_type": "code",
   "execution_count": null,
   "metadata": {},
   "outputs": [],
   "source": []
  },
  {
   "cell_type": "code",
   "execution_count": null,
   "metadata": {},
   "outputs": [],
   "source": []
  },
  {
   "cell_type": "code",
   "execution_count": null,
   "metadata": {},
   "outputs": [],
   "source": []
  },
  {
   "cell_type": "code",
   "execution_count": null,
   "metadata": {},
   "outputs": [],
   "source": []
  },
  {
   "cell_type": "code",
   "execution_count": null,
   "metadata": {},
   "outputs": [],
   "source": []
  },
  {
   "cell_type": "code",
   "execution_count": null,
   "metadata": {},
   "outputs": [],
   "source": []
  },
  {
   "cell_type": "code",
   "execution_count": null,
   "metadata": {},
   "outputs": [],
   "source": []
  },
  {
   "cell_type": "code",
   "execution_count": null,
   "metadata": {},
   "outputs": [],
   "source": []
  },
  {
   "cell_type": "code",
   "execution_count": null,
   "metadata": {},
   "outputs": [],
   "source": []
  },
  {
   "cell_type": "code",
   "execution_count": null,
   "metadata": {},
   "outputs": [],
   "source": []
  },
  {
   "cell_type": "code",
   "execution_count": null,
   "metadata": {},
   "outputs": [],
   "source": []
  },
  {
   "cell_type": "code",
   "execution_count": null,
   "metadata": {},
   "outputs": [],
   "source": []
  },
  {
   "cell_type": "code",
   "execution_count": null,
   "metadata": {},
   "outputs": [],
   "source": []
  },
  {
   "cell_type": "code",
   "execution_count": null,
   "metadata": {},
   "outputs": [],
   "source": []
  },
  {
   "cell_type": "code",
   "execution_count": null,
   "metadata": {},
   "outputs": [],
   "source": []
  },
  {
   "cell_type": "code",
   "execution_count": null,
   "metadata": {},
   "outputs": [],
   "source": []
  },
  {
   "cell_type": "code",
   "execution_count": null,
   "metadata": {},
   "outputs": [],
   "source": []
  },
  {
   "cell_type": "code",
   "execution_count": null,
   "metadata": {},
   "outputs": [],
   "source": []
  },
  {
   "cell_type": "code",
   "execution_count": null,
   "metadata": {},
   "outputs": [],
   "source": []
  },
  {
   "cell_type": "code",
   "execution_count": null,
   "metadata": {},
   "outputs": [],
   "source": []
  },
  {
   "cell_type": "code",
   "execution_count": null,
   "metadata": {},
   "outputs": [],
   "source": []
  },
  {
   "cell_type": "code",
   "execution_count": null,
   "metadata": {},
   "outputs": [],
   "source": []
  },
  {
   "cell_type": "code",
   "execution_count": null,
   "metadata": {},
   "outputs": [],
   "source": []
  },
  {
   "cell_type": "code",
   "execution_count": null,
   "metadata": {},
   "outputs": [],
   "source": []
  },
  {
   "cell_type": "code",
   "execution_count": null,
   "metadata": {},
   "outputs": [],
   "source": []
  },
  {
   "cell_type": "code",
   "execution_count": null,
   "metadata": {},
   "outputs": [],
   "source": []
  },
  {
   "cell_type": "code",
   "execution_count": null,
   "metadata": {},
   "outputs": [],
   "source": []
  },
  {
   "cell_type": "code",
   "execution_count": null,
   "metadata": {},
   "outputs": [],
   "source": []
  },
  {
   "cell_type": "code",
   "execution_count": null,
   "metadata": {},
   "outputs": [],
   "source": []
  },
  {
   "cell_type": "code",
   "execution_count": null,
   "metadata": {},
   "outputs": [],
   "source": []
  },
  {
   "cell_type": "code",
   "execution_count": null,
   "metadata": {},
   "outputs": [],
   "source": []
  },
  {
   "cell_type": "code",
   "execution_count": null,
   "metadata": {},
   "outputs": [],
   "source": []
  },
  {
   "cell_type": "code",
   "execution_count": null,
   "metadata": {},
   "outputs": [],
   "source": []
  },
  {
   "cell_type": "code",
   "execution_count": null,
   "metadata": {},
   "outputs": [],
   "source": []
  },
  {
   "cell_type": "code",
   "execution_count": null,
   "metadata": {},
   "outputs": [],
   "source": []
  },
  {
   "cell_type": "code",
   "execution_count": null,
   "metadata": {},
   "outputs": [],
   "source": []
  },
  {
   "cell_type": "code",
   "execution_count": null,
   "metadata": {},
   "outputs": [],
   "source": []
  },
  {
   "cell_type": "code",
   "execution_count": null,
   "metadata": {},
   "outputs": [],
   "source": []
  },
  {
   "cell_type": "code",
   "execution_count": null,
   "metadata": {},
   "outputs": [],
   "source": []
  },
  {
   "cell_type": "code",
   "execution_count": null,
   "metadata": {},
   "outputs": [],
   "source": []
  },
  {
   "cell_type": "code",
   "execution_count": null,
   "metadata": {},
   "outputs": [],
   "source": []
  },
  {
   "cell_type": "code",
   "execution_count": null,
   "metadata": {},
   "outputs": [],
   "source": []
  },
  {
   "cell_type": "code",
   "execution_count": null,
   "metadata": {},
   "outputs": [],
   "source": []
  },
  {
   "cell_type": "code",
   "execution_count": null,
   "metadata": {},
   "outputs": [],
   "source": []
  },
  {
   "cell_type": "code",
   "execution_count": null,
   "metadata": {},
   "outputs": [],
   "source": []
  },
  {
   "cell_type": "code",
   "execution_count": null,
   "metadata": {},
   "outputs": [],
   "source": []
  },
  {
   "cell_type": "code",
   "execution_count": null,
   "metadata": {},
   "outputs": [],
   "source": []
  },
  {
   "cell_type": "code",
   "execution_count": null,
   "metadata": {},
   "outputs": [],
   "source": []
  },
  {
   "cell_type": "code",
   "execution_count": null,
   "metadata": {},
   "outputs": [],
   "source": []
  },
  {
   "cell_type": "code",
   "execution_count": null,
   "metadata": {},
   "outputs": [],
   "source": []
  },
  {
   "cell_type": "code",
   "execution_count": null,
   "metadata": {},
   "outputs": [],
   "source": []
  },
  {
   "cell_type": "code",
   "execution_count": null,
   "metadata": {},
   "outputs": [],
   "source": []
  },
  {
   "cell_type": "code",
   "execution_count": null,
   "metadata": {},
   "outputs": [],
   "source": []
  },
  {
   "cell_type": "code",
   "execution_count": null,
   "metadata": {},
   "outputs": [],
   "source": []
  },
  {
   "cell_type": "code",
   "execution_count": null,
   "metadata": {},
   "outputs": [],
   "source": []
  },
  {
   "cell_type": "code",
   "execution_count": null,
   "metadata": {},
   "outputs": [],
   "source": []
  },
  {
   "cell_type": "code",
   "execution_count": null,
   "metadata": {},
   "outputs": [],
   "source": []
  },
  {
   "cell_type": "code",
   "execution_count": null,
   "metadata": {},
   "outputs": [],
   "source": []
  },
  {
   "cell_type": "code",
   "execution_count": null,
   "metadata": {},
   "outputs": [],
   "source": []
  },
  {
   "cell_type": "code",
   "execution_count": null,
   "metadata": {},
   "outputs": [],
   "source": []
  },
  {
   "cell_type": "code",
   "execution_count": null,
   "metadata": {},
   "outputs": [],
   "source": []
  },
  {
   "cell_type": "markdown",
   "metadata": {},
   "source": [
    "### Excellent! You have completed the workship notebook!"
   ]
  },
  {
   "cell_type": "markdown",
   "metadata": {},
   "source": [
    "**Connect with the author:**\n",
    "\n",
    "This notebook was written by [GU Zhan (Sam)](https://sg.linkedin.com/in/zhan-gu-27a82823 \"GU Zhan (Sam)\").\n",
    "\n",
    "[Sam](https://www.iss.nus.edu.sg/about-us/staff/detail/201/GU%20Zhan \"GU Zhan (Sam)\") is currently a lecturer in [Institute of Systems Science](https://www.iss.nus.edu.sg/ \"NUS-ISS\") in [National University of Singapore](http://www.nus.edu.sg/ \"NUS\"). He devotes himself into pedagogy & andragogy, and is very passionate in inspiring next generation of artificial intelligence lovers and leaders.\n"
   ]
  },
  {
   "cell_type": "markdown",
   "metadata": {},
   "source": [
    "Copyright &copy; 2020 GU Zhan\n",
    "\n",
    "This notebook and its source code are released under the terms of the [MIT License](https://en.wikipedia.org/wiki/MIT_License \"Copyright (c) 2020 GU ZHAN\").\n",
    "\n",
    "Permission is hereby granted, free of charge, to any person obtaining a copy\n",
    "of this software and associated documentation files (the \"Software\"), to deal\n",
    "in the Software without restriction, including without limitation the rights\n",
    "to use, copy, modify, merge, publish, distribute, sublicense, and/or sell\n",
    "copies of the Software, and to permit persons to whom the Software is\n",
    "furnished to do so, subject to the following conditions:\n",
    "\n",
    "The above copyright notice and this permission notice shall be included in all\n",
    "copies or substantial portions of the Software.\n",
    "\n",
    "THE SOFTWARE IS PROVIDED \"AS IS\", WITHOUT WARRANTY OF ANY KIND, EXPRESS OR\n",
    "IMPLIED, INCLUDING BUT NOT LIMITED TO THE WARRANTIES OF MERCHANTABILITY,\n",
    "FITNESS FOR A PARTICULAR PURPOSE AND NONINFRINGEMENT. IN NO EVENT SHALL THE\n",
    "AUTHORS OR COPYRIGHT HOLDERS BE LIABLE FOR ANY CLAIM, DAMAGES OR OTHER\n",
    "LIABILITY, WHETHER IN AN ACTION OF CONTRACT, TORT OR OTHERWISE, ARISING FROM,\n",
    "OUT OF OR IN CONNECTION WITH THE SOFTWARE OR THE USE OR OTHER DEALINGS IN THE\n",
    "SOFTWARE.\n"
   ]
  },
  {
   "cell_type": "markdown",
   "metadata": {},
   "source": [
    "<div class=\"alert alert-block alert-info\" style=\"margin-top: 20px\">\n",
    "    <a href=\"\">\n",
    "         <img src=\"\" width=\"750\" align=\"center\">\n",
    "    </a>\n",
    "</div>\n"
   ]
  },
  {
   "cell_type": "code",
   "execution_count": null,
   "metadata": {},
   "outputs": [],
   "source": []
  },
  {
   "cell_type": "code",
   "execution_count": null,
   "metadata": {},
   "outputs": [],
   "source": []
  },
  {
   "cell_type": "code",
   "execution_count": null,
   "metadata": {},
   "outputs": [],
   "source": []
  },
  {
   "cell_type": "markdown",
   "metadata": {},
   "source": [
    "\n",
    "## <span style=\"color:blue\">R Fundamentals</span>\n"
   ]
  },
  {
   "cell_type": "markdown",
   "metadata": {},
   "source": [
    "<div class=\"alert alert-block alert-info\" style=\"margin-top: 20px\">\n",
    "    <h3>\n",
    "    Work with dataframe\n",
    "    </h3>\n",
    "</div>\n"
   ]
  },
  {
   "cell_type": "code",
   "execution_count": null,
   "metadata": {},
   "outputs": [],
   "source": []
  },
  {
   "cell_type": "markdown",
   "metadata": {},
   "source": [
    "**<span style=\"color:blue\">[ Tips ]</span> We notice missing data from above.**"
   ]
  },
  {
   "cell_type": "code",
   "execution_count": null,
   "metadata": {},
   "outputs": [],
   "source": []
  },
  {
   "cell_type": "markdown",
   "metadata": {},
   "source": [
    "<div class=\"alert alert-danger alertdanger\" style=\"margin-top: 20px\">\n",
    "    <h3>\n",
    "        Quiz:\n",
    "    </h3>\n",
    "    <p>\n",
    "        Obtain feature/column names and column index of dataframe: ASD_State\n",
    "    </p>\n",
    "</div>"
   ]
  },
  {
   "cell_type": "code",
   "execution_count": 15,
   "metadata": {},
   "outputs": [],
   "source": [
    "# Write your code below and press Shift+Enter to execute \n"
   ]
  },
  {
   "cell_type": "markdown",
   "metadata": {},
   "source": [
    "Double-click <b>here</b> for the solution.\n",
    "\n",
    "<!-- The answer is below:\n",
    "\n",
    "# Write your code below and press Shift+Enter to execute \n",
    "cbind(names(ASD_State), c(1:length(names(ASD_State))))\n",
    "\n",
    "-->"
   ]
  }
 ],
 "metadata": {
  "kernelspec": {
   "display_name": "R",
   "language": "R",
   "name": "ir"
  },
  "language_info": {
   "codemirror_mode": "r",
   "file_extension": ".r",
   "mimetype": "text/x-r-source",
   "name": "R",
   "pygments_lexer": "r",
   "version": "3.6.1"
  }
 },
 "nbformat": 4,
 "nbformat_minor": 2
}
