{
 "cells": [
  {
   "cell_type": "markdown",
   "metadata": {},
   "source": [
    "<div class=\"alert alert-block alert-info\" style=\"margin-top: 20px\">\n",
    "    <a href=\"https://github.com/dd-consulting\">\n",
    "         <img src=\"../reference/GZ_logo.png\" width=\"60\" align=\"right\">\n",
    "    </a>\n",
    "    <h1>\n",
    "        One-Stop Analytics: Exploratory Data Analysis (EDA)\n",
    "    </h1>\n",
    "</div>\n"
   ]
  },
  {
   "cell_type": "markdown",
   "metadata": {},
   "source": [
    "# Case Study of Autism Spectrum Disorder (ASD) with R\n",
    "\n",
    "---\n",
    "\n",
    "![](../reference/CDC_ASD/CDC_ASD_01.jpg)\n",
    "\n",
    "![](../reference/CDC_ASD/CDC_ASD_02.png)\n"
   ]
  },
  {
   "cell_type": "markdown",
   "metadata": {},
   "source": [
    "## <span style=\"color:blue\">[ United States ]</span> \n",
    "\n",
    "## Centers for Disease Control and Prevention (CDC) - Autism Spectrum Disorder (ASD)\n",
    "\n",
    "Autism spectrum disorder (ASD) is a developmental disability that can cause significant social, communication and behavioral challenges. CDC is committed to continuing to provide essential data on ASD, search for factors that put children at risk for ASD and possible causes, and develop resources that help identify children with ASD as early as possible.\n",
    "\n",
    "https://www.cdc.gov/ncbddd/autism/data/index.html\n"
   ]
  },
  {
   "cell_type": "markdown",
   "metadata": {},
   "source": [
    "## <span style=\"color:blue\">[ Singapore ]</span> \n",
    "\n",
    "## TODAY Online - More preschoolers diagnosed with developmental issues\n",
    "\n",
    "Doctors cited better awareness among parents and preschool teachers, leading to early referrals for diagnosis.\n",
    "\n",
    "https://www.todayonline.com/singapore/more-preschoolers-diagnosed-developmental-issues\n",
    "\n",
    "![](../reference/SG_ASD/SG_ASD_01.png)\n",
    "\n"
   ]
  },
  {
   "cell_type": "markdown",
   "metadata": {},
   "source": [
    "![](../reference/SG_ASD/SG_ASD_04.png) \n",
    "\n",
    "https://www.pathlight.org.sg/"
   ]
  },
  {
   "cell_type": "markdown",
   "metadata": {},
   "source": [
    "<div class=\"alert alert-block alert-info\" style=\"margin-top: 20px\">\n",
    "    <a href=\"\">\n",
    "    </a>\n",
    "</div>\n"
   ]
  },
  {
   "cell_type": "markdown",
   "metadata": {},
   "source": [
    "# Workshop Objective: \n",
    "\n",
    "## Use R to analyze Autism Spectrum Disorder (ASD) data from CDC USA. \n",
    "\n",
    "https://www.cdc.gov/ncbddd/autism/data/index.html\n",
    "\n",
    "* ## EDA - Summarization\n",
    "\n",
    "* ## Data Visualisation (Enhanced)\n",
    "\n",
    "* ## Workshop Submission\n",
    "\n",
    "* ## Appendices\n"
   ]
  },
  {
   "cell_type": "markdown",
   "metadata": {},
   "source": [
    "<div class=\"alert alert-block alert-info\" style=\"margin-top: 20px\">\n",
    "    <a href=\"\">\n",
    "    </a>\n",
    "</div>"
   ]
  },
  {
   "cell_type": "markdown",
   "metadata": {},
   "source": [
    "**Obtain current R <span style=\"color:blue\">working directory</span>**"
   ]
  },
  {
   "cell_type": "code",
   "execution_count": null,
   "metadata": {},
   "outputs": [],
   "source": [
    "getwd()"
   ]
  },
  {
   "cell_type": "markdown",
   "metadata": {},
   "source": [
    "**Set new R working directory**"
   ]
  },
  {
   "cell_type": "code",
   "execution_count": null,
   "metadata": {},
   "outputs": [],
   "source": [
    "# setwd(\"/media/sf_vm_shared_folder/git/DDC/DDC-ASD/model_R\")\n",
    "# setwd('~/Desktop/admin-desktop/vm_shared_folder/git/DDC-ASD/model_R')\n",
    "getwd()"
   ]
  },
  {
   "cell_type": "markdown",
   "metadata": {},
   "source": [
    "**Read in CSV data, storing as R <span style=\"color:blue\">dataframe</span>**"
   ]
  },
  {
   "cell_type": "code",
   "execution_count": null,
   "metadata": {},
   "outputs": [],
   "source": [
    "# Read back in above saved file:\n",
    "ASD_National <- read.csv(\"../dataset/ADV_ASD_National_R.csv\")\n",
    "# Convert Year_Factor to ordered.factor\n",
    "ASD_National$Year_Factor <- factor(ASD_National$Year_Factor, ordered = TRUE) "
   ]
  },
  {
   "cell_type": "markdown",
   "metadata": {},
   "source": [
    "<div class=\"alert alert-block alert-info\" style=\"margin-top: 20px\">\n",
    "</div>\n",
    "\n"
   ]
  },
  {
   "cell_type": "markdown",
   "metadata": {},
   "source": [
    "## <span style=\"color:blue\">EDA - Summarization </span>\n"
   ]
  },
  {
   "cell_type": "markdown",
   "metadata": {},
   "source": [
    "<div class=\"alert alert-block alert-info\" style=\"margin-top: 20px\">\n",
    "    <h3>\n",
    "    EDA - Summarization - High Level Data Summary\n",
    "    </h3>\n",
    "</div>\n"
   ]
  },
  {
   "cell_type": "code",
   "execution_count": null,
   "metadata": {},
   "outputs": [],
   "source": [
    "summary(ASD_National)"
   ]
  },
  {
   "cell_type": "markdown",
   "metadata": {},
   "source": [
    "<div class=\"alert alert-block alert-info\" style=\"margin-top: 20px\">\n",
    "</div>\n",
    "\n"
   ]
  },
  {
   "cell_type": "markdown",
   "metadata": {},
   "source": [
    "## <span style=\"color:blue\">Data Visualisation (Enhanced)</span>\n"
   ]
  },
  {
   "cell_type": "code",
   "execution_count": null,
   "metadata": {},
   "outputs": [],
   "source": [
    "if(!require(ggplot2)){install.packages(\"ggplot2\")}\n",
    "library(ggplot2)"
   ]
  },
  {
   "cell_type": "code",
   "execution_count": null,
   "metadata": {},
   "outputs": [],
   "source": [
    "# Adjust in-line plot size to M x N\n",
    "options(repr.plot.width=8, repr.plot.height=4)"
   ]
  },
  {
   "cell_type": "markdown",
   "metadata": {},
   "source": [
    "<div class=\"alert alert-block alert-info\" style=\"margin-top: 20px\">\n",
    "    <h3>\n",
    "    Data Visualisation (Enhanced) - <span style=\"color:blue\">[ CDC ] Explore the Data</span>\n",
    "    </h3>\n",
    "</div>\n",
    "\n"
   ]
  },
  {
   "cell_type": "markdown",
   "metadata": {},
   "source": [
    "![](../reference/CDC_ASD/ADV_Years_Data_Available.png)\n"
   ]
  },
  {
   "cell_type": "markdown",
   "metadata": {},
   "source": [
    "<div class=\"alert alert-block alert-info\" style=\"margin-top: 20px\">\n",
    "    <h3>\n",
    "    Data Visualisation (Enhanced) - <span style=\"color:blue\">[ R ] Explore the Data</span>\n",
    "    </h3>\n",
    "</div>\n"
   ]
  },
  {
   "cell_type": "code",
   "execution_count": null,
   "metadata": {},
   "outputs": [],
   "source": [
    "# ----------------------------------\n",
    "# [National] < Years Data Available >\n",
    "# ----------------------------------\n",
    "p = ggplot(ASD_National, aes(x = 1, fill = Source)) + \n",
    "  geom_bar() + theme(axis.text.x=element_blank(),  # Hide axis\n",
    "                     axis.ticks.x=element_blank(), # Hide axis\n",
    "                     axis.text.y=element_blank(),  # Hide axis\n",
    "                     axis.ticks.y=element_blank(), # Hide axis\n",
    "                     panel.background = element_blank(), # Remove panel background\n",
    "                     legend.position=\"top\"\n",
    "  ) + \n",
    "  scale_fill_manual(\"Data Source:\", values = c(\"addm\" = \"darkblue\", \n",
    "                                               \"medi\" = \"orange\", \n",
    "                                               \"nsch\" = \"darkred\",\n",
    "                                               \"sped\" = \"skyblue\")) +\n",
    "  labs(x=\"\", y=\"\", title=\"Years Data Available\") + # layers of graphics\n",
    "  facet_grid(facets = Source~Year)\n",
    "# Show plot\n",
    "p"
   ]
  },
  {
   "cell_type": "markdown",
   "metadata": {},
   "source": [
    "<div class=\"alert alert-block alert-info\" style=\"margin-top: 20px\">\n",
    "    <h3>\n",
    "    Data Visualisation (Enhanced) - Barplot\n",
    "    </h3>\n",
    "</div>\n"
   ]
  },
  {
   "cell_type": "code",
   "execution_count": null,
   "metadata": {},
   "outputs": [],
   "source": [
    "# Create bar chart using R graphics\n",
    "barplot(table(ASD_National$Source))"
   ]
  },
  {
   "cell_type": "code",
   "execution_count": null,
   "metadata": {},
   "outputs": [],
   "source": [
    "# Create bar chart using ggplot2\n",
    "ggplot(ASD_National, aes(x = Source)) + geom_bar(fill = \"blue\", alpha=0.5)"
   ]
  },
  {
   "cell_type": "code",
   "execution_count": null,
   "metadata": {},
   "outputs": [],
   "source": [
    "# Use color to differentiate sub-group data (Year)\n",
    "ggplot(ASD_National, aes(x = Source, fill = factor(Year))) + geom_bar() + \n",
    "  theme(legend.position=\"top\") + labs(fill = \"Legend: Year\")"
   ]
  },
  {
   "cell_type": "code",
   "execution_count": null,
   "metadata": {},
   "outputs": [],
   "source": [
    "# Split chart to mutiple columns by using: facets = . ~ Year\n",
    "ggplot(ASD_National, aes(x = Source, fill = Source)) + geom_bar() + \n",
    "  theme(legend.position=\"top\") + \n",
    "  scale_fill_manual(\"Data Source:\", values = c(\"addm\" = \"darkblue\", \n",
    "                                               \"medi\" = \"orange\", \n",
    "                                               \"nsch\" = \"darkred\",\n",
    "                                               \"sped\" = \"skyblue\")) +\n",
    "  facet_grid(facets = . ~ Year)"
   ]
  },
  {
   "cell_type": "code",
   "execution_count": null,
   "metadata": {},
   "outputs": [],
   "source": [
    "# Split chart to mutiple rows and columns by using: facets = Source ~ Year\n",
    "ggplot(ASD_National, aes(x = Source, fill = Source)) + geom_bar() + \n",
    "  theme(legend.position=\"top\") + \n",
    "  scale_fill_manual(\"Data Source:\", values = c(\"addm\" = \"darkblue\", \n",
    "                                               \"medi\" = \"orange\", \n",
    "                                               \"nsch\" = \"darkred\",\n",
    "                                               \"sped\" = \"skyblue\")) +\n",
    "  facet_grid(facets = Source~Year)"
   ]
  },
  {
   "cell_type": "markdown",
   "metadata": {},
   "source": [
    "**Above chart is now very similar to earlier [National] < Years Data Available >.**"
   ]
  },
  {
   "cell_type": "markdown",
   "metadata": {},
   "source": [
    "<div class=\"alert alert-block alert-info\" style=\"margin-top: 20px\">\n",
    "    <h3>\n",
    "    Data Visualisation (Enhanced) - <span style=\"color:blue\">[ R ] Prevalence by Data Sources and Risk Levels</span>\n",
    "    </h3>\n",
    "</div>\n"
   ]
  },
  {
   "cell_type": "code",
   "execution_count": null,
   "metadata": {},
   "outputs": [],
   "source": [
    "# Use color to differentiate sub-group data (Year)\n",
    "ggplot(ASD_National, aes(x = Source, fill = Prevalence_Risk4)) + \n",
    "  geom_bar(alpha=0.95, position = position_stack(reverse = TRUE)) + # Reverse default colour/fill order\n",
    "  scale_fill_manual(\"Data Source:\", values = c(\"Low\" = \"lightyellow\", \n",
    "                                               \"Medium\" = \"orange\", \n",
    "                                               \"High\" = \"red\",\n",
    "                                               \"Very High\" = \"darkred\")) +\n",
    "  labs(x=\"Data Sources\", y=\"Occurrences\", title=\"Prevalence by Data Sources and Risk Levels\") + # layers of graphics\n",
    "  theme(legend.position=\"top\") + labs(fill = \"Legend: Risk\")"
   ]
  },
  {
   "cell_type": "markdown",
   "metadata": {},
   "source": [
    "**Barplot / Column plot**"
   ]
  },
  {
   "cell_type": "markdown",
   "metadata": {},
   "source": [
    "<div class=\"alert alert-block alert-info\" style=\"margin-top: 20px\">\n",
    "    <h3>\n",
    "    Data Visualisation (Enhanced) - <span style=\"color:blue\">[ CDC ] REPORTED PREVALENCE VARIES BY SEX</span>\n",
    "    </h3>\n",
    "</div>\n",
    "\n"
   ]
  },
  {
   "cell_type": "markdown",
   "metadata": {},
   "source": [
    "![](../reference/CDC_ASD/ADV_addm_2014_Prevalence_Estimates_by_Sex.png)\n"
   ]
  },
  {
   "cell_type": "markdown",
   "metadata": {},
   "source": [
    "<div class=\"alert alert-block alert-info\" style=\"margin-top: 20px\">\n",
    "    <h3>\n",
    "    Data Visualisation (Enhanced) - <span style=\"color:blue\">[ R ] REPORTED PREVALENCE VARIES BY SEX</span> [ Source: ADDM ] [ Year: 2014 ]\n",
    "    </h3>\n",
    "</div>\n"
   ]
  },
  {
   "cell_type": "code",
   "execution_count": null,
   "metadata": {},
   "outputs": [],
   "source": [
    "# Filter only data of ADDM\n",
    "ASD_National_ADDM <- subset(ASD_National, Source == 'addm')\n",
    "#\n",
    "ASD_National_ADDM"
   ]
  },
  {
   "cell_type": "code",
   "execution_count": null,
   "metadata": {},
   "outputs": [],
   "source": [
    "# Construct a new re-shaped dataframe of [ Source: ADDM ] [Year: 2014]\n",
    "#\n",
    "Process_Source = 'addm'\n",
    "Process_Year = 2014"
   ]
  },
  {
   "cell_type": "markdown",
   "metadata": {},
   "source": [
    "**Define a function to create a re-shaped dataframe:**"
   ]
  },
  {
   "cell_type": "code",
   "execution_count": null,
   "metadata": {},
   "outputs": [],
   "source": [
    "Function_Reshape_ASD_National_ADDM <- function(Process_Source, Process_Year) {\n",
    "    # Create the vectors:\n",
    "    Sex.Group  = c('Overall', \n",
    "                   'Boys', \n",
    "                   'Girls')\n",
    "    Sex.Group\n",
    "\n",
    "    Prevalence = c(ASD_National_ADDM$Prevalence[ASD_National_ADDM$Year == Process_Year],\n",
    "                   ASD_National_ADDM$Male.Prevalence[ASD_National_ADDM$Year == Process_Year],\n",
    "                   ASD_National_ADDM$Female.Prevalence[ASD_National_ADDM$Year == Process_Year])\n",
    "    Prevalence\n",
    "\n",
    "    # Combine all the vectors into a data frame:\n",
    "    ASD_National_ADDM_Reshaped_DF = data.frame(Sex.Group, Prevalence, stringsAsFactors=T)\n",
    "\n",
    "    # Add new columns:\n",
    "    ASD_National_ADDM_Reshaped_DF$Source = Process_Source\n",
    "    ASD_National_ADDM_Reshaped_DF$Year = Process_Year\n",
    "    return(ASD_National_ADDM_Reshaped_DF) # Return a dataframe\n",
    "}"
   ]
  },
  {
   "cell_type": "markdown",
   "metadata": {},
   "source": [
    "**Use defined function <span style=\"color:blue\">Function_Reshape_ASD_National_ADDM( )</span> for a specific year:**"
   ]
  },
  {
   "cell_type": "code",
   "execution_count": null,
   "metadata": {},
   "outputs": [],
   "source": [
    "ASD_National_ADDM_Reshaped_DF <- Function_Reshape_ASD_National_ADDM(Process_Source = 'addm', Process_Year = 2014)\n",
    "ASD_National_ADDM_Reshaped_DF"
   ]
  },
  {
   "cell_type": "markdown",
   "metadata": {},
   "source": [
    "Visualise: **Prevalence Estimates by Sex [ Source: ADDM ] [ Year: 2014 ]**"
   ]
  },
  {
   "cell_type": "code",
   "execution_count": null,
   "metadata": {},
   "outputs": [],
   "source": [
    "# Adjust in-line plot size to M x N\n",
    "options(repr.plot.width=8, repr.plot.height=3)"
   ]
  },
  {
   "cell_type": "code",
   "execution_count": null,
   "metadata": {},
   "outputs": [],
   "source": [
    "ggplot(ASD_National_ADDM_Reshaped_DF, aes(Sex.Group, Prevalence)) +\n",
    "  geom_col(aes(fill = Sex.Group), alpha=0.5) + # Use column chart\n",
    "  geom_text(aes(label = Prevalence), vjust = +0.75, hjust = -0.2, size = 3) +\n",
    "  scale_y_continuous(name = \"Prevalence per 1,000 Children\",\n",
    "                     breaks = seq(0, 30, 5),\n",
    "                     limits=c(0, 30)) +\n",
    "  scale_x_discrete(name = \"\") +\n",
    "  scale_fill_manual(\"Sex Group:\", values = c(\"Overall\" = \"purple\", \n",
    "                                             \"Boys\" = \"blue\",\n",
    "                                             \"Girls\" = \"orange\")) + \n",
    "  ggtitle(\"Prevalence Estimates by Sex [ Source: ADDM ] [ Year: 2014 ]\") +\n",
    "  theme(title = element_text(face = 'bold.italic', color = \"darkslategrey\"), \n",
    "        axis.title = element_text(face = 'plain', color = \"darkslategrey\"),\n",
    "        legend.position = 'none') + \n",
    "  coord_flip()  # Rotate chart\n",
    "#  facet_grid(facets = Year ~ .)"
   ]
  },
  {
   "cell_type": "markdown",
   "metadata": {},
   "source": [
    "<div class=\"alert alert-block alert-info\" style=\"margin-top: 20px\">\n",
    "    <h3>\n",
    "    Data Visualisation (Enhanced) - <span style=\"color:blue\">[ R ] REPORTED PREVALENCE VARIES BY SEX</span> [ Source: ADDM ] [ Year: ALL ]\n",
    "    </h3>\n",
    "</div>\n"
   ]
  },
  {
   "cell_type": "code",
   "execution_count": null,
   "metadata": {},
   "outputs": [],
   "source": [
    "# Create a new datafarme to hold re-shaped data for all years.\n",
    "ASD_National_ADDM_Reshaped_DF_All = ASD_National_ADDM_Reshaped_DF # Loaded with initial [ Year: 2014 ] data"
   ]
  },
  {
   "cell_type": "code",
   "execution_count": null,
   "metadata": {},
   "outputs": [],
   "source": [
    "Process_Source = 'addm'\n",
    "unique(ASD_National_ADDM$Year)"
   ]
  },
  {
   "cell_type": "markdown",
   "metadata": {},
   "source": [
    "**Use defined function <span style=\"color:blue\">Function_Reshape_ASD_National_ADDM( )</span> for <span style=\"color:blue\">ALL remaining</span> years:**"
   ]
  },
  {
   "cell_type": "code",
   "execution_count": null,
   "metadata": {},
   "outputs": [],
   "source": [
    "ASD_National_ADDM_Reshaped_DF <- Function_Reshape_ASD_National_ADDM(Process_Source = 'addm', Process_Year = 2012)\n",
    "ASD_National_ADDM_Reshaped_DF\n",
    "# Append rows to existing dataframe, using Row Bind function: rbind()\n",
    "ASD_National_ADDM_Reshaped_DF_All = rbind(ASD_National_ADDM_Reshaped_DF_All, ASD_National_ADDM_Reshaped_DF)"
   ]
  },
  {
   "cell_type": "code",
   "execution_count": null,
   "metadata": {},
   "outputs": [],
   "source": [
    "ASD_National_ADDM_Reshaped_DF <- Function_Reshape_ASD_National_ADDM(Process_Source = 'addm', Process_Year = 2010)\n",
    "ASD_National_ADDM_Reshaped_DF\n",
    "# Append rows to existing dataframe, using Row Bind function: rbind()\n",
    "ASD_National_ADDM_Reshaped_DF_All = rbind(ASD_National_ADDM_Reshaped_DF_All, ASD_National_ADDM_Reshaped_DF)"
   ]
  },
  {
   "cell_type": "code",
   "execution_count": null,
   "metadata": {},
   "outputs": [],
   "source": [
    "ASD_National_ADDM_Reshaped_DF <- Function_Reshape_ASD_National_ADDM(Process_Source = 'addm', Process_Year = 2008)\n",
    "ASD_National_ADDM_Reshaped_DF\n",
    "# Append rows to existing dataframe, using Row Bind function: rbind()\n",
    "ASD_National_ADDM_Reshaped_DF_All = rbind(ASD_National_ADDM_Reshaped_DF_All, ASD_National_ADDM_Reshaped_DF)"
   ]
  },
  {
   "cell_type": "code",
   "execution_count": null,
   "metadata": {},
   "outputs": [],
   "source": [
    "ASD_National_ADDM_Reshaped_DF <- Function_Reshape_ASD_National_ADDM(Process_Source = 'addm', Process_Year = 2006)\n",
    "ASD_National_ADDM_Reshaped_DF\n",
    "# Append rows to existing dataframe, using Row Bind function: rbind()\n",
    "ASD_National_ADDM_Reshaped_DF_All = rbind(ASD_National_ADDM_Reshaped_DF_All, ASD_National_ADDM_Reshaped_DF)"
   ]
  },
  {
   "cell_type": "code",
   "execution_count": null,
   "metadata": {},
   "outputs": [],
   "source": [
    "ASD_National_ADDM_Reshaped_DF <- Function_Reshape_ASD_National_ADDM(Process_Source = 'addm', Process_Year = 2004)\n",
    "ASD_National_ADDM_Reshaped_DF\n",
    "# Append rows to existing dataframe, using Row Bind function: rbind()\n",
    "ASD_National_ADDM_Reshaped_DF_All = rbind(ASD_National_ADDM_Reshaped_DF_All, ASD_National_ADDM_Reshaped_DF)"
   ]
  },
  {
   "cell_type": "code",
   "execution_count": null,
   "metadata": {},
   "outputs": [],
   "source": [
    "ASD_National_ADDM_Reshaped_DF <- Function_Reshape_ASD_National_ADDM(Process_Source = 'addm', Process_Year = 2002)\n",
    "ASD_National_ADDM_Reshaped_DF\n",
    "# Append rows to existing dataframe, using Row Bind function: rbind()\n",
    "ASD_National_ADDM_Reshaped_DF_All = rbind(ASD_National_ADDM_Reshaped_DF_All, ASD_National_ADDM_Reshaped_DF)"
   ]
  },
  {
   "cell_type": "code",
   "execution_count": null,
   "metadata": {},
   "outputs": [],
   "source": [
    "ASD_National_ADDM_Reshaped_DF <- Function_Reshape_ASD_National_ADDM(Process_Source = 'addm', Process_Year = 2000)\n",
    "ASD_National_ADDM_Reshaped_DF\n",
    "# Append rows to existing dataframe, using Row Bind function: rbind()\n",
    "ASD_National_ADDM_Reshaped_DF_All = rbind(ASD_National_ADDM_Reshaped_DF_All, ASD_National_ADDM_Reshaped_DF)"
   ]
  },
  {
   "cell_type": "code",
   "execution_count": null,
   "metadata": {},
   "outputs": [],
   "source": [
    "# Re-shaped ADDM data for ALL years:\n",
    "ASD_National_ADDM_Reshaped_DF_All"
   ]
  },
  {
   "cell_type": "markdown",
   "metadata": {},
   "source": [
    "Visualise: **Prevalence Estimates by Sex [ Source: ADDM ] [ Year: ALL ]**"
   ]
  },
  {
   "cell_type": "code",
   "execution_count": null,
   "metadata": {},
   "outputs": [],
   "source": [
    "# Adjust in-line plot size to M x N\n",
    "options(repr.plot.width=8, repr.plot.height=6)"
   ]
  },
  {
   "cell_type": "code",
   "execution_count": null,
   "metadata": {},
   "outputs": [],
   "source": [
    "ggplot(ASD_National_ADDM_Reshaped_DF_All, aes(Sex.Group, Prevalence)) +\n",
    "  geom_col(aes(fill = Sex.Group), alpha=0.75) + # Use column chart\n",
    "  geom_text(aes(label = Prevalence), vjust = +0.5, hjust = -0.2, size = 2.5) +\n",
    "  scale_y_continuous(name = \"Prevalence per 1,000 Children\",\n",
    "                     breaks = seq(0, 30, 5),\n",
    "                     limits=c(0, 30)) +\n",
    "  scale_x_discrete(name = \"\") +\n",
    "  scale_fill_manual(\"Sex Group:\", values = c(\"Overall\" = \"purple\", \n",
    "                                             \"Boys\" = \"blue\",\n",
    "                                             \"Girls\" = \"orange\")) + \n",
    "  ggtitle(\"Prevalence Estimates by Sex [ Source: ADDM ] [ Year: ALL ]\") +\n",
    "  theme(title = element_text(face = 'bold.italic', color = \"darkslategrey\"), \n",
    "        axis.title = element_text(face = 'plain', color = \"darkslategrey\"),\n",
    "        legend.position = 'none') + \n",
    "  coord_flip() + # Rotate chart\n",
    "  facet_grid(facets = Year ~ .)\n"
   ]
  },
  {
   "cell_type": "markdown",
   "metadata": {},
   "source": [
    "<div class=\"alert alert-block alert-info\" style=\"margin-top: 20px\">\n",
    "    <h3>\n",
    "    Data Visualisation (Enhanced) - Histogram (distribution of binned continuous variable)\n",
    "    </h3>\n",
    "</div>\n"
   ]
  },
  {
   "cell_type": "code",
   "execution_count": null,
   "metadata": {},
   "outputs": [],
   "source": [
    "# Adjust in-line plot size to M x N\n",
    "options(repr.plot.width=8, repr.plot.height=4)"
   ]
  },
  {
   "cell_type": "code",
   "execution_count": null,
   "metadata": {},
   "outputs": [],
   "source": [
    "# Create histogram using R graphics\n",
    "hist(ASD_National$Prevalence)"
   ]
  },
  {
   "cell_type": "code",
   "execution_count": null,
   "metadata": {},
   "outputs": [],
   "source": [
    "# Create histogram using ggplot2\n",
    "ggplot(ASD_National, aes(x=Prevalence)) + \n",
    "  geom_histogram(binwidth = 5, fill = \"blue\", color = \"lightgrey\", alpha=0.5)"
   ]
  },
  {
   "cell_type": "code",
   "execution_count": null,
   "metadata": {},
   "outputs": [],
   "source": [
    "# Use color to differentiate sub-group data (Data Source)\n",
    "ggplot(ASD_National, aes(x=Prevalence, fill = Source)) +\n",
    "  geom_histogram(binwidth = 5) +\n",
    "  theme_bw() + theme(legend.position=\"right\") +\n",
    "  scale_fill_manual(\"Data Source:\", values = c(\"addm\" = \"darkblue\", \n",
    "                                               \"medi\" = \"orange\", \n",
    "                                               \"nsch\" = \"darkred\",\n",
    "                                               \"sped\" = \"skyblue\"))"
   ]
  },
  {
   "cell_type": "code",
   "execution_count": null,
   "metadata": {},
   "outputs": [],
   "source": [
    "# Plot sub-group data side by side, using position=\"dodge\"\n",
    "ggplot(ASD_National, aes(x=Prevalence, fill = Source)) +\n",
    "  geom_histogram(binwidth = 5, position=\"dodge\") +\n",
    "  theme_bw() + theme(legend.position=\"right\") +\n",
    "  scale_fill_manual(\"Data Source:\", values = c(\"addm\" = \"darkblue\", \n",
    "                                               \"medi\" = \"orange\", \n",
    "                                               \"nsch\" = \"darkred\",\n",
    "                                               \"sped\" = \"skyblue\"))"
   ]
  },
  {
   "cell_type": "code",
   "execution_count": null,
   "metadata": {},
   "outputs": [],
   "source": [
    "# Split plots using facet_grid()\n",
    "ggplot(ASD_National, aes(x=Prevalence, fill = Source)) +\n",
    "  geom_histogram(binwidth = 5) +\n",
    "  theme(legend.position=\"right\") + \n",
    "  scale_fill_manual(\"Data Source:\", values = c(\"addm\" = \"darkblue\", \n",
    "                                               \"medi\" = \"orange\", \n",
    "                                               \"nsch\" = \"darkred\",\n",
    "                                               \"sped\" = \"skyblue\")) +\n",
    "  facet_grid(facets = Source ~ .)"
   ]
  },
  {
   "cell_type": "code",
   "execution_count": null,
   "metadata": {},
   "outputs": [],
   "source": [
    "# Add title and caption using ggplot2\n",
    "ggplot(ASD_National, aes(x=Prevalence, fill = Source)) +\n",
    "  geom_histogram(binwidth = 5) +\n",
    "  theme(legend.position=\"top\") + \n",
    "  scale_fill_manual(\"Data Source:\", values = c(\"addm\" = \"darkblue\", \n",
    "                                               \"medi\" = \"orange\", \n",
    "                                               \"nsch\" = \"darkred\",\n",
    "                                               \"sped\" = \"skyblue\")) + \n",
    "  labs(x=\"Prevalence per 1,000 Children\",\n",
    "       y=\"Frequency\",\n",
    "       title=\"Distribution of Prevalence by Data Source\") +\n",
    "  facet_grid(facets = Source ~ .)"
   ]
  },
  {
   "cell_type": "markdown",
   "metadata": {},
   "source": [
    "<div class=\"alert alert-block alert-info\" style=\"margin-top: 20px\">\n",
    "    <h3>\n",
    "    Data Visualisation (Enhanced) - Density plot (distribution for continuous variable normalized to 100% area under curve)\n",
    "    </h3>\n",
    "</div>\n"
   ]
  },
  {
   "cell_type": "code",
   "execution_count": null,
   "metadata": {},
   "outputs": [],
   "source": [
    "# Adjust in-line plot size to M x N\n",
    "# options(repr.plot.width=8, repr.plot.height=4)"
   ]
  },
  {
   "cell_type": "code",
   "execution_count": null,
   "metadata": {},
   "outputs": [],
   "source": [
    "# Create plot using R graphics\n",
    "plot(density(ASD_National$Prevalence))\n",
    "# Optionally, overlay histogram\n",
    "hist(ASD_National$Prevalence, probability = TRUE, add = TRUE)"
   ]
  },
  {
   "cell_type": "code",
   "execution_count": null,
   "metadata": {},
   "outputs": [],
   "source": [
    "# Create plot using ggplot2\n",
    "p <- ggplot(ASD_National) +\n",
    "  geom_density(aes(x=Prevalence), fill = \"grey\", color = \"white\", alpha=0.75) \n",
    "p # Show"
   ]
  },
  {
   "cell_type": "code",
   "execution_count": null,
   "metadata": {},
   "outputs": [],
   "source": [
    "# Optionally, overlay histogram\n",
    "p <- p + geom_histogram(aes(x = Prevalence, y = ..density..), binwidth = 1, fill = \"blue\", colour = \"lightgrey\", alpha=0.4) \n",
    "p # Show"
   ]
  },
  {
   "cell_type": "code",
   "execution_count": null,
   "metadata": {},
   "outputs": [],
   "source": [
    "# Optionally, overlay Prevalence mean\n",
    "p <- p + geom_vline(aes(xintercept = mean(ASD_National$Prevalence)), colour=\"darkorange\")\n",
    "p # Show"
   ]
  },
  {
   "cell_type": "code",
   "execution_count": null,
   "metadata": {},
   "outputs": [],
   "source": [
    "# Lastly, add other captions\n",
    "p <- p + coord_cartesian(xlim=c(0, 35), ylim=c(0, 0.2)) +\n",
    "  labs(x=\"Prevalence per 1,000 Children\", y=\"Density\", \n",
    "       title=paste(\"Density of Prevalence ( mean =\", mean(ASD_National$Prevalence), \")\")) +\n",
    "  theme(title = element_text(face = 'bold.italic', color = \"darkslategrey\"), \n",
    "        axis.title = element_text(face = 'plain', color = \"darkslategrey\"))\n",
    "p # Show"
   ]
  },
  {
   "cell_type": "markdown",
   "metadata": {},
   "source": [
    "**< Prevelance distribution by Data Source >**"
   ]
  },
  {
   "cell_type": "code",
   "execution_count": null,
   "metadata": {},
   "outputs": [],
   "source": [
    "# Prevelance distribution by Data Source\n",
    "ggplot(ASD_National) + geom_density(aes(x = Prevalence, fill = Source), alpha = 0.5) + \n",
    "  scale_fill_manual(\"Data Source:\", values = c(\"addm\" = \"darkblue\", \n",
    "                                               \"medi\" = \"orange\", \n",
    "                                               \"nsch\" = \"darkred\",\n",
    "                                               \"sped\" = \"skyblue\")) +\n",
    "  labs(x=\"Prevalence per 1,000 Children\",\n",
    "       y=\"Density\",\n",
    "       title=\"Density of Prevalence by Data Source\") +\n",
    "  theme(title = element_text(face = 'bold.italic', color = \"darkslategrey\"), \n",
    "        axis.title = element_text(face = 'plain', color = \"darkslategrey\"))"
   ]
  },
  {
   "cell_type": "markdown",
   "metadata": {},
   "source": [
    "**< Prevelance distribution by Data Source with split >**"
   ]
  },
  {
   "cell_type": "code",
   "execution_count": null,
   "metadata": {},
   "outputs": [],
   "source": [
    "# Prevelance distribution by Data Source with split\n",
    "ggplot(ASD_National) + geom_density(aes(x = Prevalence, fill = Source), colour = 'lightgrey', alpha = 0.75) + \n",
    "  scale_fill_manual(\"Data Source:\", values = c(\"addm\" = \"darkblue\", \n",
    "                                               \"medi\" = \"orange\", \n",
    "                                               \"nsch\" = \"darkred\",\n",
    "                                               \"sped\" = \"skyblue\")) + \n",
    "  labs(x=\"Prevalence per 1,000 Children\",\n",
    "       y=\"Density\",\n",
    "       title=\"Density of Prevalence by Data Source\") +\n",
    "  theme(title = element_text(face = 'bold.italic', color = \"darkslategrey\"), \n",
    "        axis.title = element_text(face = 'plain', color = \"darkslategrey\")) + \n",
    "  facet_wrap(~Source)"
   ]
  },
  {
   "cell_type": "markdown",
   "metadata": {},
   "source": [
    "<div class=\"alert alert-block alert-info\" style=\"margin-top: 20px\">\n",
    "    <h3>\n",
    "    Data Visualisation (Enhanced) - Box plot\n",
    "    </h3>\n",
    "</div>\n"
   ]
  },
  {
   "cell_type": "code",
   "execution_count": null,
   "metadata": {},
   "outputs": [],
   "source": [
    "# Adjust in-line plot size to M x N\n",
    "options(repr.plot.width=8, repr.plot.height=4)"
   ]
  },
  {
   "cell_type": "code",
   "execution_count": null,
   "metadata": {},
   "outputs": [],
   "source": [
    "# Create plot using R graphics\n",
    "# Create 'Prevalence' box plots break by 'Source'\n",
    "boxplot(ASD_National$Prevalence ~ ASD_National$Source,\n",
    "        main = \"National ASD Prevalence by Data Source\",\n",
    "        xlab = \"Data Source\",\n",
    "        ylab = \"Prevalence per 1,000 Children\",\n",
    "        sub  = \"Year 2000 - 2016\",\n",
    "        col.main=\"blue\", col.lab=\"black\", col.sub=\"darkgrey\")"
   ]
  },
  {
   "cell_type": "code",
   "execution_count": null,
   "metadata": {},
   "outputs": [],
   "source": [
    "# Create box plot using ggplot2\n",
    "ggplot(ASD_National, aes(x = Source, y = Prevalence, fill = Source)) + \n",
    "  geom_boxplot(alpha = 0.5) + \n",
    "  scale_y_continuous(name = \"Prevalence per 1,000 Children\",\n",
    "                     breaks = seq(0, 30, 5),\n",
    "                     limits=c(0, 30)) +\n",
    "  scale_x_discrete(name = \"Data Source (Year 2000 - 2016)\") +\n",
    "  ggtitle(\"National ASD Prevalence by Data Source\") +\n",
    "  theme(title = element_text(face = 'bold.italic', color = \"darkslategrey\"), \n",
    "        axis.title = element_text(face = 'plain', color = \"darkslategrey\"))\n"
   ]
  },
  {
   "cell_type": "markdown",
   "metadata": {},
   "source": [
    "<div class=\"alert alert-block alert-info\" style=\"margin-top: 20px\">\n",
    "    <h3>\n",
    "    Data Visualisation (Enhanced) - Violin plot\n",
    "    </h3>\n",
    "</div>\n"
   ]
  },
  {
   "cell_type": "code",
   "execution_count": null,
   "metadata": {},
   "outputs": [],
   "source": [
    "# Adjust in-line plot size to M x N\n",
    "# options(repr.plot.width=8, repr.plot.height=4)"
   ]
  },
  {
   "cell_type": "code",
   "execution_count": null,
   "metadata": {},
   "outputs": [],
   "source": [
    "# Create plot using ggplot2\n",
    "ggplot(ASD_National, aes(x = Source, y = Prevalence, fill = Source)) + \n",
    "  geom_violin(alpha = 0.5) + \n",
    "  scale_y_continuous(name = \"Prevalence per 1,000 Children\",\n",
    "                     breaks = seq(0, 30, 5),\n",
    "                     limits=c(0, 30)) +\n",
    "  scale_x_discrete(name = \"Data Source (Year 2000 - 2016)\") +\n",
    "  ggtitle(\"National ASD Prevalence by Data Source\") +\n",
    "  theme(title = element_text(face = 'bold.italic', color = \"darkslategrey\"), \n",
    "        axis.title = element_text(face = 'plain', color = \"darkslategrey\"))\n"
   ]
  },
  {
   "cell_type": "code",
   "execution_count": null,
   "metadata": {},
   "outputs": [],
   "source": [
    "# Create plot using ggplot2\n",
    "ggplot(ASD_National, aes(x = Source, y = Prevalence, fill = Source)) + \n",
    "  geom_violin(alpha = 0.5) + \n",
    "  geom_jitter(alpha = 0.5, position = position_jitter(width = 0.1)) + # Overlay datapoints\n",
    "#  coord_flip() + # Uncomment to flip x-y axis\n",
    "  scale_y_continuous(name = \"Prevalence per 1,000 Children\",\n",
    "                     breaks = seq(0, 30, 5),\n",
    "                     limits=c(0, 30)) +\n",
    "  scale_x_discrete(name = \"Data Source (Year 2000 - 2016)\") +\n",
    "  ggtitle(\"National ASD Prevalence by Data Source\") +\n",
    "  theme(title = element_text(face = 'bold.italic', color = \"darkslategrey\"), \n",
    "        axis.title = element_text(face = 'plain', color = \"darkslategrey\"))\n"
   ]
  },
  {
   "cell_type": "markdown",
   "metadata": {},
   "source": [
    "<div class=\"alert alert-block alert-info\" style=\"margin-top: 20px\">\n",
    "    <h3>\n",
    "    Data Visualisation (Enhanced) - Line chart\n",
    "    </h3>\n",
    "</div>\n"
   ]
  },
  {
   "cell_type": "markdown",
   "metadata": {},
   "source": [
    "<div class=\"alert alert-block alert-info\" style=\"margin-top: 20px\">\n",
    "    <h3>\n",
    "    Data Visualisation (Enhanced) - <span style=\"color:blue\">[ CDC ] REPORTED PREVALENCE HAS CHANGED OVER TIME</span>\n",
    "    </h3>\n",
    "</div>\n",
    "\n"
   ]
  },
  {
   "cell_type": "markdown",
   "metadata": {},
   "source": [
    "![](../reference/CDC_ASD/ADV_addm_Prevalence_Estimates_Over_Time.png)\n"
   ]
  },
  {
   "cell_type": "markdown",
   "metadata": {},
   "source": [
    "<div class=\"alert alert-block alert-info\" style=\"margin-top: 20px\">\n",
    "    <h3>\n",
    "    Data Visualisation (Enhanced) - <span style=\"color:blue\">[ R ] REPORTED PREVALENCE HAS CHANGED OVER TIME</span> [Source: ALL]\n",
    "    </h3>\n",
    "</div>\n"
   ]
  },
  {
   "cell_type": "code",
   "execution_count": null,
   "metadata": {},
   "outputs": [],
   "source": [
    "# Adjust in-line plot size to M x N\n",
    "options(repr.plot.width=8, repr.plot.height=4)"
   ]
  },
  {
   "cell_type": "code",
   "execution_count": null,
   "metadata": {},
   "outputs": [],
   "source": [
    "# ----------------------------------\n",
    "# Build chart/plot layer by layer\n",
    "# ----------------------------------\n",
    "\n",
    "# Define a ggplot graphic object; provide data and x y for use\n",
    "p <- ggplot(ASD_National, aes(x = Year, y = Prevalence))\n",
    "# Show plot\n",
    "p\n"
   ]
  },
  {
   "cell_type": "code",
   "execution_count": null,
   "metadata": {},
   "outputs": [],
   "source": [
    "# Select (add) line chart type:\n",
    "p <- p + geom_line(aes(color = Source),\n",
    "                   linetype = \"solid\",  # http://sape.inf.usi.ch/quick-reference/ggplot2/linetype\n",
    "                   size=1,\n",
    "                   alpha=0.5) \n",
    "# Show plot\n",
    "p"
   ]
  },
  {
   "cell_type": "code",
   "execution_count": null,
   "metadata": {},
   "outputs": [],
   "source": [
    "# Select (add) points to chart:\n",
    "p <- p + geom_point(aes(color = Source),\n",
    "                    size=2, \n",
    "                    shape=20,\n",
    "                    alpha=0.5) \n",
    "# Show plot\n",
    "p"
   ]
  },
  {
   "cell_type": "code",
   "execution_count": null,
   "metadata": {},
   "outputs": [],
   "source": [
    "# Customize line color and legend name:\n",
    "p <- p + scale_color_manual(\"Data Source:\", \n",
    "                            labels = c('ADDM', 'MEDI', 'NSCH', 'SPED'),\n",
    "                            values = c(\"addm\" = \"darkblue\", \n",
    "                                       \"medi\" = \"orange\", \n",
    "                                       \"nsch\" = \"darkred\",\n",
    "                                       \"sped\" = \"skyblue\"))\n",
    "# Show plot\n",
    "p"
   ]
  },
  {
   "cell_type": "code",
   "execution_count": null,
   "metadata": {},
   "outputs": [],
   "source": [
    "# Adjust x and y axis, scale, limit and labels:\n",
    "p <- p + scale_y_continuous(name = \"Prevalence per 1,000 Children\",\n",
    "                            breaks = seq(0, 30, 5),\n",
    "                            limits=c(0, 30)) +\n",
    "  scale_x_continuous(name = \"Year\", \n",
    "                     breaks = seq(2000, 2016, 1), \n",
    "                     limits = c(2000, 2016)) \n",
    "# Show plot\n",
    "p"
   ]
  },
  {
   "cell_type": "code",
   "execution_count": null,
   "metadata": {},
   "outputs": [],
   "source": [
    "# Customise chart title:\n",
    "p <- p + ggtitle(\"Prevalence Estimates Over Time [ Source: ALL ]\") \n",
    "# Show plot\n",
    "p"
   ]
  },
  {
   "cell_type": "code",
   "execution_count": null,
   "metadata": {},
   "outputs": [],
   "source": [
    "# Customise chart title and axis labels:\n",
    "p <- p + theme(title = element_text(face = 'bold.italic', color = \"darkslategrey\"), \n",
    "               axis.title = element_text(face = 'plain', color = \"darkslategrey\")) \n",
    "# Show plot\n",
    "p"
   ]
  },
  {
   "cell_type": "markdown",
   "metadata": {},
   "source": [
    "**Consolidate above code into one chunk:**"
   ]
  },
  {
   "cell_type": "code",
   "execution_count": null,
   "metadata": {},
   "outputs": [],
   "source": [
    "# ----------------------------------\n",
    "# Consolidate above code into one chunk\n",
    "# ----------------------------------\n",
    "p <- ggplot(ASD_National, aes(x = Year, y = Prevalence)) +\n",
    "  geom_line(aes(color = Source),\n",
    "            linetype = \"solid\",  # http://sape.inf.usi.ch/quick-reference/ggplot2/linetype\n",
    "            size=1,\n",
    "            alpha=0.5) +\n",
    "  geom_point(aes(color = Source),\n",
    "             size=2, \n",
    "             shape=20,\n",
    "             alpha=0.5) + \n",
    "  scale_color_manual(\"Data Source:\", \n",
    "                     labels = c('ADDM', 'MEDI', 'NSCH', 'SPED'),\n",
    "                     values = c(\"addm\" = \"darkblue\", \n",
    "                                \"medi\" = \"orange\", \n",
    "                                \"nsch\" = \"darkred\",\n",
    "                                \"sped\" = \"skyblue\")) +\n",
    "  scale_y_continuous(name = \"Prevalence per 1,000 Children\",\n",
    "                     breaks = seq(0, 30, 5),\n",
    "                     limits=c(0, 30)) +\n",
    "  scale_x_continuous(name = \"Year\", \n",
    "                     breaks = seq(2000, 2016, 1), \n",
    "                     limits = c(2000, 2016)) +\n",
    "  ggtitle(\"Prevalence Estimates Over Time [ Source: ALL ]\") +\n",
    "  theme(title = element_text(face = 'bold.italic', color = \"darkslategrey\"), \n",
    "        axis.title = element_text(face = 'plain', color = \"darkslategrey\"))\n",
    "# Show plot\n",
    "p"
   ]
  },
  {
   "cell_type": "markdown",
   "metadata": {},
   "source": [
    "**Optionally, display data values/labels:**"
   ]
  },
  {
   "cell_type": "code",
   "execution_count": null,
   "metadata": {},
   "outputs": [],
   "source": [
    "# Optionally, displaydata values/labels\n",
    "p + geom_text(aes(label = round(Prevalence, 1)), # Values are rounded for display\n",
    "              vjust = \"outward\", \n",
    "              #          nudge_y = 0.2, # optionally life the text\n",
    "              hjust = \"outward\", \n",
    "              check_overlap = TRUE,\n",
    "              size = 3, # size of textual data label\n",
    "              col = 'darkslategrey')"
   ]
  },
  {
   "cell_type": "markdown",
   "metadata": {},
   "source": [
    "<div class=\"alert alert-block alert-info\" style=\"margin-top: 20px\">\n",
    "    <h3>\n",
    "    Data Visualisation (Enhanced) - Dynamic Visualisation with plotly\n",
    "    </h3>\n",
    "</div>\n"
   ]
  },
  {
   "cell_type": "code",
   "execution_count": null,
   "metadata": {},
   "outputs": [],
   "source": [
    "if(!require(knitr)){install.packages(\"knitr\")}\n",
    "library(\"knitr\")\n",
    "if(!require(plotly)){install.packages(\"plotly\")}\n",
    "library(\"plotly\")"
   ]
  },
  {
   "cell_type": "markdown",
   "metadata": {},
   "source": [
    "**Create ployly graph object from ggplot graph object:**"
   ]
  },
  {
   "cell_type": "code",
   "execution_count": null,
   "metadata": {},
   "outputs": [],
   "source": [
    "p_dynamic <- p\n",
    "p_dynamic <- ggplotly(p_dynamic)\n",
    "p_dynamic"
   ]
  },
  {
   "cell_type": "markdown",
   "metadata": {},
   "source": [
    "<div class=\"alert alert-block alert-info\" style=\"margin-top: 20px\">\n",
    "    <h3>\n",
    "    Data Visualisation (Enhanced) - Use themes as aesthetic template\n",
    "    </h3>\n",
    "</div>\n"
   ]
  },
  {
   "cell_type": "code",
   "execution_count": null,
   "metadata": {},
   "outputs": [],
   "source": [
    "if(!require(ggthemes)){install.packages(\"ggthemes\")}\n",
    "library('ggthemes')"
   ]
  },
  {
   "cell_type": "markdown",
   "metadata": {},
   "source": [
    "**Theme of the Economist magazine:**"
   ]
  },
  {
   "cell_type": "code",
   "execution_count": null,
   "metadata": {},
   "outputs": [],
   "source": [
    "# Theme of the economist magazine:\n",
    "p + theme_economist() + scale_colour_economist()"
   ]
  },
  {
   "cell_type": "markdown",
   "metadata": {},
   "source": [
    "**Theme of the Wall Street Journal:**"
   ]
  },
  {
   "cell_type": "code",
   "execution_count": null,
   "metadata": {},
   "outputs": [],
   "source": [
    "# Theme of the Wall Street Journal:\n",
    "p + theme_wsj() + scale_colour_wsj(\"colors6\")"
   ]
  },
  {
   "cell_type": "markdown",
   "metadata": {},
   "source": [
    "**Dynamic chart with theme of the economist magazine:**"
   ]
  },
  {
   "cell_type": "code",
   "execution_count": null,
   "metadata": {},
   "outputs": [],
   "source": [
    "# Dynamic chart with theme of the economist magazine:\n",
    "p_dynamic <- p + theme_economist() + scale_colour_economist()\n",
    "p_dynamic <- ggplotly(p_dynamic)\n",
    "p_dynamic"
   ]
  },
  {
   "cell_type": "markdown",
   "metadata": {},
   "source": [
    "<div class=\"alert alert-block alert-info\" style=\"margin-top: 20px\">\n",
    "    <h3>\n",
    "    Data Visualisation (Enhanced) - <span style=\"color:blue\">[ CDC ] ADDM Network estimates for overall ASD prevalence in US over time</span> [ Source: ADDM ] over [ Year ]\n",
    "    </h3>\n",
    "</div>\n",
    "\n"
   ]
  },
  {
   "cell_type": "markdown",
   "metadata": {},
   "source": [
    "![](../reference/CDC_ASD/ADV_addm_2014_ADDM_Network_estimates_for_overall_ASD_prevalence_in_US_over_time_with_CI.png)\n"
   ]
  },
  {
   "cell_type": "markdown",
   "metadata": {},
   "source": [
    "<div class=\"alert alert-block alert-info\" style=\"margin-top: 20px\">\n",
    "    <h3>\n",
    "    Data Visualisation (Enhanced) - <span style=\"color:blue\">[ R ] ADDM Network estimates for overall ASD prevalence in US over time</span> [ Source: ADDM ] over [ Year ]\n",
    "    </h3>\n",
    "</div>\n"
   ]
  },
  {
   "cell_type": "code",
   "execution_count": null,
   "metadata": {},
   "outputs": [],
   "source": [
    "# Adjust in-line plot size to M x N\n",
    "options(repr.plot.width=8, repr.plot.height=4)"
   ]
  },
  {
   "cell_type": "code",
   "execution_count": null,
   "metadata": {},
   "outputs": [],
   "source": [
    "# Filter only data of ADDM\n",
    "ASD_National_ADDM <- subset(ASD_National, Source == 'addm')"
   ]
  },
  {
   "cell_type": "code",
   "execution_count": null,
   "metadata": {},
   "outputs": [],
   "source": [
    "# ----------------------------------\n",
    "# [addm] ADDM Network estimates for overall ASD prevalence in US over time\n",
    "# ----------------------------------\n",
    "\n",
    "#  Color:\n",
    "# 'ADDM_Average' \"purple\"\n",
    "\n",
    "p <- ggplot(ASD_National_ADDM, aes(x = Year, y = Prevalence)) +\n",
    "  geom_point(aes(y = Prevalence, color = 'ADDM_Average'), # Name for manual colour mapping\n",
    "             size=2, \n",
    "             shape=20,\n",
    "             alpha=0.95) +\n",
    "  # Add point for Upper.CI\n",
    "  geom_point(aes(y = Upper.CI, color = 'ADDM_U_CI'), # Name for manual colour mapping\n",
    "             size=0.1, \n",
    "             shape=20,\n",
    "             alpha=0.95) +\n",
    "  # Add point for Upper.CI\n",
    "  geom_point(aes(y = Lower.CI, color = 'ADDM_L_CI'), # Name for manual colour mapping\n",
    "             size=0.1, \n",
    "             shape=20,\n",
    "             alpha=0.95) +\n",
    "  scale_colour_manual(name=\"\",\n",
    "                      labels = c(\"US (ADDM)\", \"Upper CI\", \"Lower CI\"), # Names shown in legend \n",
    "                      values = c(ADDM_Average=\"purple\", ADDM_U_CI=\"red\", ADDM_L_CI=\"red\")) # Manual colour mapping\n",
    "# Add title, axis label, and axis scale\n",
    "p <- p + scale_y_continuous(name = \"Prevalence per 1,000 Children\",\n",
    "                            breaks = seq(0, 18, 2),\n",
    "                            limits=c(0, 18)) +\n",
    "  scale_x_continuous(name = \"Year\", \n",
    "                     breaks = seq(2000, 2014, 2), \n",
    "                     limits = c(2000, 2014)) +\n",
    "  ggtitle(\"ADDM Network estimates for overall ASD prevalence in US over time\\nwith confidence interval\") +\n",
    "  theme(title = element_text(face = 'bold.italic', color = \"darkslategrey\"), \n",
    "        axis.title = element_text(face = 'plain', color = \"darkslategrey\"),\n",
    "        panel.background = element_blank(), # Remove chart backgroun colour\n",
    "        legend.position = 'top',\n",
    "        panel.grid.major = element_line(size = 0.2, linetype = 'solid', colour = \"lightgrey\") # grid colour et al\n",
    "       )\n",
    "# Show plot\n",
    "p"
   ]
  },
  {
   "cell_type": "code",
   "execution_count": null,
   "metadata": {},
   "outputs": [],
   "source": [
    "# Add smooth curve to go through date points, using interpolation with splines:\n",
    "# https://stackoverflow.com/questions/35205795/plotting-smooth-line-through-all-data-points\n",
    "spline_ADDM_Prevalence <- as.data.frame(spline(ASD_National_ADDM$Year, ASD_National_ADDM$Prevalence))\n",
    "spline_ADDM_Prevalence_U_CI <- as.data.frame(spline(ASD_National_ADDM$Year, ASD_National_ADDM$Upper.CI))\n",
    "spline_ADDM_Prevalence_L_CI <- as.data.frame(spline(ASD_National_ADDM$Year, ASD_National_ADDM$Lower.CI))\n",
    "# Show plot\n",
    "p + geom_line(data = spline_ADDM_Prevalence, aes(x = x, y = y, color = 'ADDM_Average'), linetype = \"solid\", size=0.6) + \n",
    "  geom_line(data = spline_ADDM_Prevalence_U_CI, aes(x = x, y = y, color = 'ADDM_U_CI'), linetype = 2, size=0.3) +\n",
    "  geom_line(data = spline_ADDM_Prevalence_L_CI, aes(x = x, y = y, color = 'ADDM_L_CI'), linetype = 2, size=0.3)"
   ]
  },
  {
   "cell_type": "markdown",
   "metadata": {},
   "source": [
    "<div class=\"alert alert-block alert-info\" style=\"margin-top: 20px\">\n",
    "    <h3>\n",
    "    Data Visualisation (Enhanced) - <span style=\"color:blue\">[ R ] REPORTED PREVALENCE VARIES BY SEX</span> [ Source: ADDM ] over [ Year ]\n",
    "    </h3>\n",
    "</div>\n"
   ]
  },
  {
   "cell_type": "code",
   "execution_count": null,
   "metadata": {},
   "outputs": [],
   "source": [
    "# Adjust in-line plot size to M x N\n",
    "# options(repr.plot.width=8, repr.plot.height=4)"
   ]
  },
  {
   "cell_type": "code",
   "execution_count": null,
   "metadata": {},
   "outputs": [],
   "source": [
    "# ----------------------------------\n",
    "# [addm] < Prevalence Varies by Sex >\n",
    "# ----------------------------------\n",
    "\n",
    "#  Color:\n",
    "# 'ADDM_Average' \"darkslategrey\"\n",
    "# 'Female_Prevalence' \"orange\"\n",
    "# 'Male_Prevalence' \"blue\"\n",
    "\n",
    "p <- ggplot(ASD_National_ADDM, aes(x = Year, y = Prevalence)) +\n",
    "  geom_line(aes(y = Prevalence, colour = 'ADDM_Average'),\n",
    "            linetype = \"solid\",  # http://sape.inf.usi.ch/quick-reference/ggplot2/linetype\n",
    "            size=1,\n",
    "            alpha=0.5) +\n",
    "  geom_point(aes(y = Prevalence, color = 'ADDM_Average'),\n",
    "             size=2, \n",
    "             shape=20,\n",
    "             alpha=0.5) +\n",
    "  # Add line for Female\n",
    "  geom_line(aes(y = Female.Prevalence, colour = 'Female_Prevalence'),\n",
    "            linetype = \"solid\",  # http://sape.inf.usi.ch/quick-reference/ggplot2/linetype\n",
    "            size=1,\n",
    "            alpha=0.5) +\n",
    "  geom_point(aes(y = Female.Prevalence, color = 'Female_Prevalence'),\n",
    "             size=2, \n",
    "             shape=20,\n",
    "             alpha=0.5) +\n",
    "  # Add line for Male\n",
    "  geom_line(aes(y = Male.Prevalence, colour = 'Male_Prevalence'),\n",
    "            linetype = \"solid\",  # http://sape.inf.usi.ch/quick-reference/ggplot2/linetype\n",
    "            size=1,\n",
    "            alpha=0.5) +\n",
    "  geom_point(aes(y = Male.Prevalence, color = 'Male_Prevalence'),\n",
    "             size=2, \n",
    "             shape=20,\n",
    "             alpha=0.5) +\n",
    "  scale_colour_manual(name=\"\",\n",
    "                      labels = c(\"ADDM Average\", \"Female Prevalence\", \"Male Prevalence\"),\n",
    "                      values = c(ADDM_Average=\"darkslategrey\", Female_Prevalence=\"orange\", Male_Prevalence=\"blue\"))\n",
    "# Add title, axis label, and axis scale\n",
    "p <- p + scale_y_continuous(name = \"Prevalence per 1,000 Children\",\n",
    "                            breaks = seq(0, 30, 5),\n",
    "                            limits=c(0, 30)) +\n",
    "  scale_x_continuous(name = \"Year\", \n",
    "                     breaks = seq(2000, 2016, 1), \n",
    "                     limits = c(2000, 2016)) +\n",
    "  ggtitle(\"Prevalence Estimates by Sex [ Source: ADDM ]\") +\n",
    "  theme(title = element_text(face = 'bold.italic', color = \"darkslategrey\"), \n",
    "        axis.title = element_text(face = 'plain', color = \"darkslategrey\")) \n",
    "# Show plot\n",
    "p"
   ]
  },
  {
   "cell_type": "code",
   "execution_count": null,
   "metadata": {},
   "outputs": [],
   "source": [
    "# Apply theme\n",
    "p + theme_economist() + scale_colour_economist() # p + theme_wsj() + scale_colour_wsj(\"colors6\")"
   ]
  },
  {
   "cell_type": "code",
   "execution_count": null,
   "metadata": {},
   "outputs": [],
   "source": [
    "# Dynamic chart:\n",
    "p_dynamic <- p + theme_economist() + scale_colour_economist()\n",
    "p_dynamic <- ggplotly(p_dynamic)\n",
    "p_dynamic"
   ]
  },
  {
   "cell_type": "markdown",
   "metadata": {},
   "source": [
    "<div class=\"alert alert-danger alertdanger\" style=\"margin-top: 20px\">\n",
    "    <h3>\n",
    "        Quiz:\n",
    "    </h3>\n",
    "    <p>\n",
    "        Add 95% Confidence Interval to above plot (Use ggplot)\n",
    "    </p>\n",
    "</div>"
   ]
  },
  {
   "cell_type": "code",
   "execution_count": null,
   "metadata": {},
   "outputs": [],
   "source": [
    "# Write your code below and press Shift+Enter to execute \n"
   ]
  },
  {
   "cell_type": "markdown",
   "metadata": {},
   "source": [
    "Double-click <b>here</b> for the solution.\n",
    "\n",
    "<!-- The answer is below:\n",
    "\n",
    "# Write your code below and press Shift+Enter to execute \n",
    "# TBD\n",
    "\n",
    "-->"
   ]
  },
  {
   "cell_type": "markdown",
   "metadata": {},
   "source": [
    "<div class=\"alert alert-block alert-info\" style=\"margin-top: 20px\">\n",
    "    <h3>\n",
    "    Data Visualisation (Enhanced) - <span style=\"color:blue\">[ CDC ] REPORTED PREVALENCE VARIES BY RACE AND ETHNICITY</span>\n",
    "    </h3>\n",
    "</div>\n",
    "\n"
   ]
  },
  {
   "cell_type": "markdown",
   "metadata": {},
   "source": [
    "![](../reference/CDC_ASD/ADV_addm_Prevalence_Estimates_by_Race_Ethnicity.png)\n"
   ]
  },
  {
   "cell_type": "markdown",
   "metadata": {},
   "source": [
    "<div class=\"alert alert-block alert-info\" style=\"margin-top: 20px\">\n",
    "    <h3>\n",
    "    Data Visualisation (Enhanced) - <span style=\"color:blue\">[ R ] REPORTED PREVALENCE VARIES BY RACE AND ETHNICITY</span> [ Source: ADDM ] With Average\n",
    "    </h3>\n",
    "</div>\n"
   ]
  },
  {
   "cell_type": "code",
   "execution_count": null,
   "metadata": {},
   "outputs": [],
   "source": [
    "# Adjust in-line plot size to M x N\n",
    "# options(repr.plot.width=8, repr.plot.height=4)"
   ]
  },
  {
   "cell_type": "code",
   "execution_count": null,
   "metadata": {},
   "outputs": [],
   "source": [
    "# ----------------------------------\n",
    "# [addm] < Prevalence Varies by Race and Ethnicity >\n",
    "# ----------------------------------\n",
    "\n",
    "#  Color:\n",
    "# 'ADDM_Average' \"darkslategrey\"\n",
    "# 'Asian_Pacific_Islander' \"darkred\"\n",
    "# 'Hispanic' \"darkorchid3\"\n",
    "# 'Non_Hispanic_Black' \"deepskyblue3\"\n",
    "# 'Non_Hispanic_White' \"chartreuse3\"\n",
    "\n",
    "p <- ggplot(ASD_National_ADDM, aes(x = Year, y = Prevalence)) +\n",
    "  geom_line(aes(y = Prevalence, colour = 'ADDM_Average'),\n",
    "            linetype = \"dotted\",  # http://sape.inf.usi.ch/quick-reference/ggplot2/linetype\n",
    "            size=1,\n",
    "            alpha=0.5) +\n",
    "  geom_point(aes(y = Prevalence, color = 'ADDM_Average'),\n",
    "             size=2, \n",
    "             shape=20,\n",
    "             alpha=0) +\n",
    "  # Add line for Asian.or.Pacific.Islander.Prevalence\n",
    "  geom_line(aes(y = Asian.or.Pacific.Islander.Prevalence, colour = 'Asian_Pacific_Islander'),\n",
    "            linetype = \"solid\",  # http://sape.inf.usi.ch/quick-reference/ggplot2/linetype\n",
    "            size=1,\n",
    "            alpha=0.5) +\n",
    "  geom_point(aes(y = Asian.or.Pacific.Islander.Prevalence, colour = 'Asian_Pacific_Islander'),\n",
    "             size=2, \n",
    "             shape=20,\n",
    "             alpha=0.5) +\n",
    "  # Add line for Hispanic.Prevalence\n",
    "  geom_line(aes(y = Hispanic.Prevalence, colour = 'Hispanic'),\n",
    "            linetype = \"solid\",  # http://sape.inf.usi.ch/quick-reference/ggplot2/linetype\n",
    "            size=1,\n",
    "            alpha=0.5) +\n",
    "  geom_point(aes(y = Hispanic.Prevalence, colour = 'Hispanic'),\n",
    "             size=2, \n",
    "             shape=20,\n",
    "             alpha=0.5) +\n",
    "  # Add line for Non.hispanic.black.Prevalence\n",
    "  geom_line(aes(y = Non.hispanic.black.Prevalence, colour = 'Non_Hispanic_Black'),\n",
    "            linetype = \"solid\",  # http://sape.inf.usi.ch/quick-reference/ggplot2/linetype\n",
    "            size=1,\n",
    "            alpha=0.5) +\n",
    "  geom_point(aes(y = Non.hispanic.black.Prevalence, colour = 'Non_Hispanic_Black'),\n",
    "             size=2, \n",
    "             shape=20,\n",
    "             alpha=0.5) +\n",
    "  # Add line for Non.hispanic.white.Prevalence\n",
    "  geom_line(aes(y = Non.hispanic.white.Prevalence, colour = 'Non_Hispanic_White'),\n",
    "            linetype = \"solid\",  # http://sape.inf.usi.ch/quick-reference/ggplot2/linetype\n",
    "            size=1,\n",
    "            alpha=0.5) +\n",
    "  geom_point(aes(y = Non.hispanic.white.Prevalence, colour = 'Non_Hispanic_White'),\n",
    "             size=2, \n",
    "             shape=20,\n",
    "             alpha=0.5) +\n",
    "  scale_colour_manual(name=\"\",\n",
    "                      labels = c(\"ADDM Average\", \n",
    "                                 \"Asian/Pacific Islander\", \n",
    "                                 \"Hispanic\", \n",
    "                                 \"Non-Hispanic Black\", \n",
    "                                 \"Non-Hispanic White\"),\n",
    "                      values = c(ADDM_Average=\"darkslategrey\", \n",
    "                                 Asian_Pacific_Islander =\"darkred\", \n",
    "                                 Hispanic =\"darkorchid3\", \n",
    "                                 Non_Hispanic_Black =\"deepskyblue3\", \n",
    "                                 Non_Hispanic_White =\"chartreuse3\"))\n",
    "# Add title, axis label, and axis scale\n",
    "p <- p + scale_y_continuous(name = \"Prevalence per 1,000 Children\",\n",
    "                            breaks = seq(5, 20, 5),\n",
    "                            limits=c(5, 20)) +\n",
    "  scale_x_continuous(name = \"Year\", \n",
    "                     breaks = seq(2000, 2016, 1), \n",
    "                     limits = c(2000, 2016)) +\n",
    "  ggtitle(\"Prevalence Estimates by Race/Ethnicity [ Source: ADDM ]\") +\n",
    "  theme(title = element_text(face = 'bold.italic', color = \"darkslategrey\"), \n",
    "        axis.title = element_text(face = 'plain', color = \"darkslategrey\")) \n",
    "# Show plot\n",
    "p"
   ]
  },
  {
   "cell_type": "code",
   "execution_count": null,
   "metadata": {},
   "outputs": [],
   "source": [
    "# Apply theme\n",
    "# p + theme_economist() + scale_colour_economist() # p + theme_wsj() + scale_colour_wsj(\"colors6\")"
   ]
  },
  {
   "cell_type": "code",
   "execution_count": null,
   "metadata": {},
   "outputs": [],
   "source": [
    "# Dynamic chart:\n",
    "p_dynamic <- p + theme_economist() + scale_colour_economist()\n",
    "p_dynamic <- ggplotly(p_dynamic)\n",
    "p_dynamic"
   ]
  },
  {
   "cell_type": "markdown",
   "metadata": {},
   "source": [
    "<div class=\"alert alert-danger alertdanger\" style=\"margin-top: 20px\">\n",
    "    <h3>\n",
    "        Quiz:\n",
    "    </h3>\n",
    "    <p>\n",
    "        Change above zig-zag lines to spline/smooth lines.\n",
    "    </p>\n",
    "    <p>\n",
    "        Hints: Refer to <span style=\"color:blue\">ADDM Network estimates for overall ASD prevalence in US over time</span>.\n",
    "    </p>\n",
    "</div>"
   ]
  },
  {
   "cell_type": "code",
   "execution_count": null,
   "metadata": {},
   "outputs": [],
   "source": [
    "# Write your code below and press Shift+Enter to execute \n"
   ]
  },
  {
   "cell_type": "markdown",
   "metadata": {},
   "source": [
    "Double-click <b>here</b> for the solution.\n",
    "\n",
    "<!-- The answer is below:\n",
    "\n",
    "# Write your code below and press Shift+Enter to execute \n",
    "# TBD\n",
    "\n",
    "-->"
   ]
  },
  {
   "cell_type": "markdown",
   "metadata": {},
   "source": [
    "<div class=\"alert alert-block alert-info\" style=\"margin-top: 20px\">\n",
    "    <a href=\"\">\n",
    "    </a>\n",
    "</div>\n"
   ]
  },
  {
   "cell_type": "markdown",
   "metadata": {},
   "source": [
    "<div class=\"alert alert-block alert-info\" style=\"margin-top: 20px\">\n",
    "    <h3>\n",
    "    Data Visualisation (Enhanced) - <span style=\"color:blue\">US. State Level Data Processing</span>\n",
    "    </h3>\n",
    "</div>\n"
   ]
  },
  {
   "cell_type": "code",
   "execution_count": null,
   "metadata": {},
   "outputs": [],
   "source": [
    "# ----------------------------------\n",
    "# Dataset: US. State Level Children ASD Prevalence\n",
    "# ----------------------------------\n",
    "\n",
    "ASD_State    <- read.csv(\"../dataset/ADV_ASD_State.csv\", stringsAsFactors = FALSE)\n",
    "\n",
    "# Obtain number of rows and number of columns/features/variables\n",
    "dim(ASD_State)\n",
    "# Obtain overview (data structure/types)\n",
    "str(ASD_State)"
   ]
  },
  {
   "cell_type": "markdown",
   "metadata": {},
   "source": [
    "<div class=\"alert alert-block alert-info\" style=\"margin-top: 20px\">\n",
    "    <h3>\n",
    "    Data Visualisation (Enhanced) - <span style=\"color:blue\">US. State Level Data</span> Pre-Process data\n",
    "    </h3>\n",
    "</div>\n"
   ]
  },
  {
   "cell_type": "markdown",
   "metadata": {},
   "source": [
    "**Pre-Process data: Missing data**"
   ]
  },
  {
   "cell_type": "code",
   "execution_count": null,
   "metadata": {},
   "outputs": [],
   "source": [
    "# Load required function from packages:\n",
    "if(!require(naniar)){install.packages(\"naniar\")}\n",
    "library(naniar)\n",
    "if(!require(dplyr)){install.packages(\"dplyr\")}\n",
    "library(dplyr)\n"
   ]
  },
  {
   "cell_type": "code",
   "execution_count": null,
   "metadata": {},
   "outputs": [],
   "source": [
    "# Count missing values in dataframe:\n",
    "sum(is.na(ASD_State)) # missing data recognised by R (NA)\n",
    "# Define several offending strings\n",
    "na_strings <- c(\"\", \"No data\", \"NA\", \"N A\", \"N / A\", \"N/A\", \"N/ A\", \"Not Available\", \"NOt available\")\n",
    "# Replace these defined missing values to R's internal NA\n",
    "ASD_State = replace_with_na_all(ASD_State, condition = ~.x %in% na_strings)\n",
    "# Count missing values in dataframe:\n",
    "sum(is.na(ASD_State))"
   ]
  },
  {
   "cell_type": "markdown",
   "metadata": {},
   "source": [
    "**Remove invalid unicode char/string: \\x92**"
   ]
  },
  {
   "cell_type": "code",
   "execution_count": null,
   "metadata": {},
   "outputs": [],
   "source": [
    "# Remove invalid unicode char/string: \\x92\n",
    "ASD_State$Source_Full1[ASD_State$Source_Full1 == \"National Survey of Children\\x92s Health\"] <- \"National Survey of Children's Health\""
   ]
  },
  {
   "cell_type": "markdown",
   "metadata": {},
   "source": [
    "**Delete/Drop variable by index: column from 14 to 26, 29, and 30**"
   ]
  },
  {
   "cell_type": "code",
   "execution_count": null,
   "metadata": {},
   "outputs": [],
   "source": [
    "cbind(names(ASD_State), c(1:length(names(ASD_State))))"
   ]
  },
  {
   "cell_type": "code",
   "execution_count": null,
   "metadata": {},
   "outputs": [],
   "source": [
    "# Delete/Drop variable by index: column from 14 to 26, 29, and 30\n",
    "# names(ASD_State)\n",
    "ASD_State <- ASD_State[ -c(14:26, 29, 30) ]"
   ]
  },
  {
   "cell_type": "markdown",
   "metadata": {},
   "source": [
    "**Create new variables**"
   ]
  },
  {
   "cell_type": "code",
   "execution_count": null,
   "metadata": {},
   "outputs": [],
   "source": [
    "# Create one new variable: Source_UC as uppercase of Source\n",
    "ASD_State$Source_UC <- paste(toupper(ASD_State$Source))\n",
    "# Create one new variable: Source_Full3 by combining Source_UC and Source_Full1\n",
    "ASD_State$Source_Full3 <- paste(ASD_State$Source_UC, ASD_State$Source_Full1)"
   ]
  },
  {
   "cell_type": "markdown",
   "metadata": {},
   "source": [
    "**Create one new ordinal categorical variable: Prevalence_Rank2 (\"Low\", \"High\") by binning Prevalence**"
   ]
  },
  {
   "cell_type": "code",
   "execution_count": null,
   "metadata": {},
   "outputs": [],
   "source": [
    "# Recode Risk into category from Prevalence\n",
    "\n",
    "# Low [0, 5)\n",
    "# High [5, +oo) \n",
    "\n",
    "ASD_State$Prevalence_Risk2[ASD_State$Prevalence < 5] = \"Low\"\n",
    "ASD_State$Prevalence_Risk2[ASD_State$Prevalence >= 5 ] = \"High\"\n",
    "#\n",
    "# head(ASD_State)"
   ]
  },
  {
   "cell_type": "markdown",
   "metadata": {},
   "source": [
    "**Create one new ordinal categorical variable: Prevalence_Rank4 (\"Low\", \"Medium\", \"High\", \"Very High\") by binning Prevalence**"
   ]
  },
  {
   "cell_type": "code",
   "execution_count": null,
   "metadata": {},
   "outputs": [],
   "source": [
    "# Recode Risk into category from Prevalence\n",
    "\n",
    "# Low [0, 5)\n",
    "# Medium [5, 10)\n",
    "# High [10, 20)\n",
    "# Very High [20, +oo) \n",
    "\n",
    "ASD_State$Prevalence_Risk4 = \"Very High\"\n",
    "ASD_State$Prevalence_Risk4[ASD_State$Prevalence < 20 ] = \"High\"\n",
    "ASD_State$Prevalence_Risk4[ASD_State$Prevalence < 10 ] = \"Medium\"\n",
    "ASD_State$Prevalence_Risk4[ASD_State$Prevalence < 5] = \"Low\"\n",
    "#\n",
    "# head(ASD_State)"
   ]
  },
  {
   "cell_type": "markdown",
   "metadata": {},
   "source": [
    "**Convert to correct data types**"
   ]
  },
  {
   "cell_type": "code",
   "execution_count": null,
   "metadata": {},
   "outputs": [],
   "source": [
    "str(ASD_State)"
   ]
  },
  {
   "cell_type": "code",
   "execution_count": null,
   "metadata": {},
   "outputs": [],
   "source": [
    "# cbind(names(ASD_State), c(1:length(names(ASD_State))))"
   ]
  },
  {
   "cell_type": "markdown",
   "metadata": {},
   "source": [
    "**Convert variables to numeric**"
   ]
  },
  {
   "cell_type": "code",
   "execution_count": null,
   "metadata": {},
   "outputs": [],
   "source": [
    "# Convert Prevalence and CIs from categorical/chr to numeric\n",
    "ix <- 13:33 # define an index\n",
    "ASD_State[ix] <- lapply(ASD_State[ix], as.numeric)"
   ]
  },
  {
   "cell_type": "markdown",
   "metadata": {},
   "source": [
    "**Convert variables to categorical/factor**"
   ]
  },
  {
   "cell_type": "code",
   "execution_count": null,
   "metadata": {},
   "outputs": [],
   "source": [
    "# Convert Source from categorical/chr to categorical/factor\n",
    "ix <- c(1, 7, 8, 9, 10, 34, 35, 36) # define an index\n",
    "ASD_State[ix] <- lapply(ASD_State[ix], as.factor)\n",
    "\n",
    "# Create new ordered factor Year_Factor from Year\n",
    "ASD_State$Year_Factor <- factor(ASD_State$Year, ordered = TRUE)"
   ]
  },
  {
   "cell_type": "markdown",
   "metadata": {},
   "source": [
    "**Convert Prevalence_Rank2 & Prevalence_Rank4 to ordered factor**"
   ]
  },
  {
   "cell_type": "code",
   "execution_count": null,
   "metadata": {},
   "outputs": [],
   "source": [
    "# Convert to factor\n",
    "ASD_State$Prevalence_Risk2 = factor(ASD_State$Prevalence_Risk2, ordered=TRUE,\n",
    "                                           levels=c(\"Low\", \"High\"))\n",
    "# Convert to factor\n",
    "ASD_State$Prevalence_Risk4 = factor(ASD_State$Prevalence_Risk4, ordered=TRUE,\n",
    "                                           levels=c(\"Low\", \"Medium\", \"High\", \"Very High\"))"
   ]
  },
  {
   "cell_type": "code",
   "execution_count": null,
   "metadata": {},
   "outputs": [],
   "source": [
    "# Display unique values (levels) of a factor categrotical \n",
    "lapply(select_if(ASD_State, is.factor), levels)"
   ]
  },
  {
   "cell_type": "markdown",
   "metadata": {},
   "source": [
    "**Optionally, export the processed dataframe data to CSV file.**"
   ]
  },
  {
   "cell_type": "code",
   "execution_count": null,
   "metadata": {},
   "outputs": [],
   "source": [
    "write.csv(ASD_State, file = \"../dataset/ADV_ASD_State_R.csv\", row.names = FALSE)"
   ]
  },
  {
   "cell_type": "code",
   "execution_count": null,
   "metadata": {},
   "outputs": [],
   "source": [
    "# Read back in above saved file:\n",
    "# ASD_State <- read.csv(\"../dataset/ADV_ASD_State_R.csv\")\n",
    "# ASD_State$Year_Factor <- factor(ASD_State$Year_Factor, ordered = TRUE) # Convert Year_Factor to ordered.factor\n",
    "# ASD_State$Prevalence_Risk2 = factor(ASD_State$Prevalence_Risk2, ordered=TRUE, levels=c(\"Low\", \"High\"))\n",
    "# ASD_State$Prevalence_Risk4 = factor(ASD_State$Prevalence_Risk4, ordered=TRUE, levels=c(\"Low\", \"Medium\", \"High\", \"Very High\"))\n"
   ]
  },
  {
   "cell_type": "markdown",
   "metadata": {},
   "source": [
    "<div class=\"alert alert-block alert-info\" style=\"margin-top: 20px\">\n",
    "    <h3>\n",
    "    Data Visualisation (Enhanced) - <span style=\"color:blue\">US. State Level Data Visualisation</span>\n",
    "    </h3>\n",
    "</div>\n",
    "\n"
   ]
  },
  {
   "cell_type": "markdown",
   "metadata": {},
   "source": [
    "![](../reference/CDC_ASD/ADV_Years_Data_Available.png)\n"
   ]
  },
  {
   "cell_type": "markdown",
   "metadata": {},
   "source": [
    "<div class=\"alert alert-block alert-info\" style=\"margin-top: 20px\">\n",
    "    <h3>\n",
    "    <span style=\"color:blue\">Above chat shows at data source level, we'd also like to know State level data availbility. How?</span>\n",
    "    </h3>\n",
    "    <h3>\n",
    "    Data Visualisation (Enhanced) - <span style=\"color:blue\">[ R ] Explore the Data</span> [ Years Data Available by State ]\n",
    "    </h3>\n",
    "</div>\n"
   ]
  },
  {
   "cell_type": "code",
   "execution_count": null,
   "metadata": {},
   "outputs": [],
   "source": [
    "# Adjust in-line plot size to M x N\n",
    "options(repr.plot.width=8, repr.plot.height=12)"
   ]
  },
  {
   "cell_type": "code",
   "execution_count": null,
   "metadata": {},
   "outputs": [],
   "source": [
    "# ----------------------------------\n",
    "# [State] < Years Data Available by State >\n",
    "# ----------------------------------\n",
    "p <- ggplot(ASD_State, aes(x = Source, fill = Source)) + \n",
    "  geom_bar() + theme(axis.text.x=element_blank(),  # Hide axis\n",
    "                     axis.ticks.x=element_blank(), # Hide axis\n",
    "                     axis.text.y=element_blank(),  # Hide axis\n",
    "                     axis.ticks.y=element_blank(), # Hide axis\n",
    "                     panel.background = element_blank(), # Remove panel background\n",
    "                     legend.position=\"top\",\n",
    "                     strip.text.y = element_text(angle=0) # Rotate text to horizontal\n",
    "  ) + \n",
    "  scale_fill_manual(\"Data Source:\", values = c(\"addm\" = \"darkblue\", \n",
    "                                               \"medi\" = \"orange\", \n",
    "                                               \"nsch\" = \"darkred\",\n",
    "                                               \"sped\" = \"skyblue\")) +\n",
    "  facet_grid(facets = State_Full2 ~ Year) +\n",
    "  labs(x=\"\", y=\"\", title=\"Years Data Available by State\") # layers of graphics"
   ]
  },
  {
   "cell_type": "code",
   "execution_count": null,
   "metadata": {},
   "outputs": [],
   "source": [
    "# Below plot may run for a while\n",
    "# Show plot\n",
    "p"
   ]
  },
  {
   "cell_type": "markdown",
   "metadata": {},
   "source": [
    "**Filter and create dataframe of different data sources, for easy data access**"
   ]
  },
  {
   "cell_type": "code",
   "execution_count": null,
   "metadata": {},
   "outputs": [],
   "source": [
    "# Filter and create dataframe of different data sources, for easy data access\n",
    "ASD_State_ADDM <- subset(ASD_State, Source == 'addm')\n",
    "ASD_State_MEDI <- subset(ASD_State, Source == 'medi')\n",
    "ASD_State_NSCH <- subset(ASD_State, Source == 'nsch')\n",
    "ASD_State_SPED <- subset(ASD_State, Source == 'sped')"
   ]
  },
  {
   "cell_type": "markdown",
   "metadata": {},
   "source": [
    "<div class=\"alert alert-block alert-info\" style=\"margin-top: 20px\">\n",
    "    <h3>\n",
    "    Data Visualisation (Enhanced) - <span style=\"color:blue\">[ R ] Explore the Data</span> Years Data Available by State [ Source: ADDM ]\n",
    "    </h3>\n",
    "</div>\n"
   ]
  },
  {
   "cell_type": "code",
   "execution_count": null,
   "metadata": {},
   "outputs": [],
   "source": [
    "# Adjust in-line plot size to M x N\n",
    "options(repr.plot.width=8, repr.plot.height=6)"
   ]
  },
  {
   "cell_type": "markdown",
   "metadata": {},
   "source": [
    "**Years Data Available by State [ Source: ADDM ]**"
   ]
  },
  {
   "cell_type": "code",
   "execution_count": null,
   "metadata": {},
   "outputs": [],
   "source": [
    "# Years Data Available by State [ Source: ADDM ]\n",
    "p <- ggplot(ASD_State_ADDM, aes(x = 1, fill = State_Full2)) + \n",
    "  geom_bar() + theme(axis.text.x=element_blank(),  # Hide axis\n",
    "                     axis.ticks.x=element_blank(), # Hide axis\n",
    "                     axis.text.y=element_blank(),  # Hide axis\n",
    "                     axis.ticks.y=element_blank(), # Hide axis\n",
    "                     panel.background = element_blank(), # Remove panel background\n",
    "                     legend.position=\"none\",\n",
    "                     strip.text.y = element_text(angle=0) # Rotate text to horizontal\n",
    "  ) +\n",
    "  facet_grid(facets = State_Full2 ~ Year_Factor) +\n",
    "  labs(x=\"\", y=\"\", title=\"Years Data Available by State [ Source: ADDM ]\") # layers of graphics"
   ]
  },
  {
   "cell_type": "code",
   "execution_count": null,
   "metadata": {},
   "outputs": [],
   "source": [
    "# Show plot\n",
    "p"
   ]
  },
  {
   "cell_type": "markdown",
   "metadata": {},
   "source": [
    "<div class=\"alert alert-danger alertdanger\" style=\"margin-top: 20px\">\n",
    "    <h3>\n",
    "        Quiz:\n",
    "    </h3>\n",
    "    <p>\n",
    "        Create <span style=\"color:blue\">Years Data Available by State [ Source: XXXX ]</span> for other three data sources:\n",
    "    </p>\n",
    "</div>"
   ]
  },
  {
   "cell_type": "code",
   "execution_count": null,
   "metadata": {},
   "outputs": [],
   "source": [
    "# Write your code below and press Shift+Enter to execute \n"
   ]
  },
  {
   "cell_type": "markdown",
   "metadata": {},
   "source": [
    "Double-click <b>here</b> for the solution.\n",
    "\n",
    "<!-- The answer is below:\n",
    "\n",
    "# Write your code below and press Shift+Enter to execute \n",
    "# TBD\n",
    "\n",
    "-->"
   ]
  },
  {
   "cell_type": "markdown",
   "metadata": {},
   "source": [
    "<div class=\"alert alert-block alert-info\" style=\"margin-top: 20px\">\n",
    "    <h3>\n",
    "    Data Visualisation (Enhanced) - <span style=\"color:blue\">[ R ] REPORTED PREVALENCE VARIES BY GEOGRAPHIC LOCATION (States)</span> Prevalence Estimates by State [ Source: ADDM ]\n",
    "    </h3>\n",
    "</div>\n"
   ]
  },
  {
   "cell_type": "code",
   "execution_count": null,
   "metadata": {},
   "outputs": [],
   "source": [
    "# Adjust in-line plot size to M x N\n",
    "options(repr.plot.width=8, repr.plot.height=4)"
   ]
  },
  {
   "cell_type": "markdown",
   "metadata": {},
   "source": [
    "Visualise: **Prevalence Estimates by State [ Source: ADDM ]**"
   ]
  },
  {
   "cell_type": "code",
   "execution_count": null,
   "metadata": {},
   "outputs": [],
   "source": [
    "# Prevalence Estimates by State [ Source: ADDM ] , aggregated for different years\n",
    "p <- ggplot(ASD_State_ADDM, aes(x = reorder(State_Full2, Prevalence, FUN = median), # Order States by median of Prevalence  \n",
    "                                y = Prevalence)) + \n",
    "  geom_boxplot(aes(fill = reorder(State_Full2, Prevalence, FUN = median))) + # fill color by State\n",
    "  scale_fill_discrete(guide = guide_legend(title = \"US. States\")) + # Legend Name\n",
    "  #  geom_boxplot(fill = 'darkslategrey', alpha = 0.2) + \n",
    "  scale_y_continuous(name = \"Prevalence per 1,000 Children\",\n",
    "                     breaks = seq(0, 30, 5),\n",
    "                     limits=c(0, 30)) +\n",
    "  scale_x_discrete(name = \"\") +\n",
    "  ggtitle(\"Prevalence Estimates by State [ Source: ADDM ]\") +\n",
    "  theme(title = element_text(face = 'bold.italic', color = \"darkslategrey\"), \n",
    "        axis.title = element_text(face = 'plain', color = \"darkslategrey\"),\n",
    "        legend.position = 'none') + \n",
    "  coord_flip() + # Rotate chart\n",
    "  geom_jitter(alpha = 0.5, position = position_jitter(width = 0.1)) # Add actual data points"
   ]
  },
  {
   "cell_type": "code",
   "execution_count": null,
   "metadata": {},
   "outputs": [],
   "source": [
    "# Show plot\n",
    "p"
   ]
  },
  {
   "cell_type": "code",
   "execution_count": null,
   "metadata": {},
   "outputs": [],
   "source": [
    "# Theme of the economist magazine:\n",
    "# p + theme_economist() + scale_colour_economist() + theme(legend.position = 'none')"
   ]
  },
  {
   "cell_type": "code",
   "execution_count": null,
   "metadata": {},
   "outputs": [],
   "source": [
    "# Dynamic chart\n",
    "p_dynamic <- p + theme_economist() + scale_colour_economist() + theme(legend.position = 'none')\n",
    "p_dynamic <- ggplotly(p_dynamic)\n",
    "p_dynamic"
   ]
  },
  {
   "cell_type": "markdown",
   "metadata": {},
   "source": [
    "<div class=\"alert alert-danger alertdanger\" style=\"margin-top: 20px\">\n",
    "    <h3>\n",
    "        Quiz:\n",
    "    </h3>\n",
    "    <p>\n",
    "        Create <span style=\"color:blue\">Prevalence Estimates by State [ Source: XXXX ]</span> for other three data sources:\n",
    "    </p>\n",
    "</div>"
   ]
  },
  {
   "cell_type": "code",
   "execution_count": null,
   "metadata": {},
   "outputs": [],
   "source": [
    "# Write your code below and press Shift+Enter to execute \n"
   ]
  },
  {
   "cell_type": "markdown",
   "metadata": {},
   "source": [
    "Double-click <b>here</b> for the solution.\n",
    "\n",
    "<!-- The answer is below:\n",
    "\n",
    "# Write your code below and press Shift+Enter to execute \n",
    "# TBD\n",
    "\n",
    "-->"
   ]
  },
  {
   "cell_type": "markdown",
   "metadata": {},
   "source": [
    "<div class=\"alert alert-block alert-info\" style=\"margin-top: 20px\">\n",
    "    <h3>\n",
    "    Data Visualisation (Enhanced) - <span style=\"color:blue\">[ R ] US. State Level</span> No. Children Surveyed by State [ Source: ADDM ] [Year 2014]\n",
    "    </h3>\n",
    "</div>\n"
   ]
  },
  {
   "cell_type": "code",
   "execution_count": null,
   "metadata": {},
   "outputs": [],
   "source": [
    "# Adjust in-line plot size to M x N\n",
    "options(repr.plot.width=8, repr.plot.height=4)"
   ]
  },
  {
   "cell_type": "markdown",
   "metadata": {},
   "source": [
    "Visualise: **No. Children Surveyed by State [ Source: ADDM ] [Year 2014]**"
   ]
  },
  {
   "cell_type": "code",
   "execution_count": null,
   "metadata": {},
   "outputs": [],
   "source": [
    "# All State Prevalence data with: Source == 'addm' & Year == 2014\n",
    "# filter using dataframe: ASD_State_ADDM\n",
    "ASD_State_Subset <- subset(ASD_State_ADDM, Year == 2014)\n",
    "# or filer using dataframe: ASD_State\n",
    "ASD_State_Subset <- subset(ASD_State, Source == 'addm' & Year == 2014)"
   ]
  },
  {
   "cell_type": "code",
   "execution_count": null,
   "metadata": {},
   "outputs": [],
   "source": [
    "# Bar plot/chart for < No. Children surveyed by State [ADDM] [Year 2014] >\n",
    "p <- ggplot(ASD_State_Subset, aes(x = reorder(State_Full1, Denominator, FUN = median), # Order States by median of Denominator  \n",
    "                                  y = Denominator)) + \n",
    "  geom_bar(stat=\"identity\", aes(fill = reorder(State_Full1, Denominator, FUN = median))) + # fill color by State\n",
    "  scale_fill_discrete(guide = guide_legend(title = \"US. States\")) + # Legend Name\n",
    "  scale_x_discrete(name = \"US. States\") +\n",
    "  scale_y_continuous(name = \"No. Children (Denominator)\") +\n",
    "  ggtitle(\"No. Children Surveyed by State [ Source: ADDM ] [Year 2014]\") +\n",
    "  #  geom_text(aes(label=Denominator), vjust=1.6, color=\"darkslategrey\", size=3.5) + # Show data label inside bars\n",
    "  theme(title = element_text(face = 'bold.italic', color = \"darkslategrey\"), \n",
    "        axis.title = element_text(face = 'plain', color = \"darkslategrey\"),\n",
    "        legend.position=\"none\") "
   ]
  },
  {
   "cell_type": "code",
   "execution_count": null,
   "metadata": {},
   "outputs": [],
   "source": [
    "# Show plot\n",
    "p"
   ]
  },
  {
   "cell_type": "code",
   "execution_count": null,
   "metadata": {},
   "outputs": [],
   "source": [
    "# Theme of the economist magazine:\n",
    "# p + theme_economist() + scale_colour_economist() + theme(legend.position = 'none')"
   ]
  },
  {
   "cell_type": "code",
   "execution_count": null,
   "metadata": {},
   "outputs": [],
   "source": [
    "# Dynamic chart\n",
    "p_dynamic <- p + theme_economist() + scale_colour_economist() + theme(legend.position = 'none')\n",
    "p_dynamic <- ggplotly(p_dynamic)\n",
    "p_dynamic"
   ]
  },
  {
   "cell_type": "markdown",
   "metadata": {},
   "source": [
    "<div class=\"alert alert-danger alertdanger\" style=\"margin-top: 20px\">\n",
    "    <h3>\n",
    "        Quiz:\n",
    "    </h3>\n",
    "    <p>\n",
    "        Create <span style=\"color:blue\">No. Children Surveyed by State [ Source: XXXX ] [Year CCYY]</span> for other data sources & years:\n",
    "    </p>\n",
    "</div>"
   ]
  },
  {
   "cell_type": "code",
   "execution_count": null,
   "metadata": {},
   "outputs": [],
   "source": [
    "# Write your code below and press Shift+Enter to execute \n"
   ]
  },
  {
   "cell_type": "markdown",
   "metadata": {},
   "source": [
    "Double-click <b>here</b> for the solution.\n",
    "\n",
    "<!-- The answer is below:\n",
    "\n",
    "# Write your code below and press Shift+Enter to execute \n",
    "# TBD\n",
    "\n",
    "-->"
   ]
  },
  {
   "cell_type": "markdown",
   "metadata": {},
   "source": [
    "<div class=\"alert alert-danger alertdanger\" style=\"margin-top: 20px\">\n",
    "    <h3>\n",
    "        Quiz:\n",
    "    </h3>\n",
    "    <p>\n",
    "        Create <span style=\"color:blue\">No. ASD Children by State [ Source: XXXX ] [Year CCYY]</span> for other data sources & years:\n",
    "    </p>\n",
    "    <p>\n",
    "        Hint: Use variable: ASD_State_ADDM$Numerator_ASD\n",
    "    </p>\n",
    "</div>"
   ]
  },
  {
   "cell_type": "code",
   "execution_count": null,
   "metadata": {},
   "outputs": [],
   "source": [
    "# Write your code below and press Shift+Enter to execute \n"
   ]
  },
  {
   "cell_type": "markdown",
   "metadata": {},
   "source": [
    "Double-click <b>here</b> for the solution.\n",
    "\n",
    "<!-- The answer is below:\n",
    "\n",
    "# Write your code below and press Shift+Enter to execute \n",
    "# TBD\n",
    "\n",
    "-->"
   ]
  },
  {
   "cell_type": "markdown",
   "metadata": {},
   "source": [
    "<div class=\"alert alert-block alert-info\" style=\"margin-top: 20px\">\n",
    "    <h3>\n",
    "    Data Visualisation (Enhanced) - <span style=\"color:blue\">[ R ] US. State Level</span> Prevalence Estimates with 95% CI by State [ Source: ADDM ] [ Year 2014 ]\n",
    "    </h3>\n",
    "</div>\n"
   ]
  },
  {
   "cell_type": "code",
   "execution_count": null,
   "metadata": {},
   "outputs": [],
   "source": [
    "# Adjust in-line plot size to M x N\n",
    "# options(repr.plot.width=8, repr.plot.height=4)"
   ]
  },
  {
   "cell_type": "markdown",
   "metadata": {},
   "source": [
    "Visualise: **Prevalence Estimates with 95% CI by State [ Source: ADDM ] [ Year 2014 ]**"
   ]
  },
  {
   "cell_type": "code",
   "execution_count": null,
   "metadata": {},
   "outputs": [],
   "source": [
    "# ASD_State_Subset <- subset(ASD_State_ADDM, Year == 2014)\n",
    "# or\n",
    "# ASD_State_Subset <- subset(ASD_State, Source == 'addm' & Year == 2014)\n",
    "\n",
    "# Point plot/chart \n",
    "p = ggplot(ASD_State_Subset, aes(x = reorder(State_Full1, Prevalence, median), # Order States by median of Prevalence  \n",
    "                                 y = Prevalence)) + \n",
    "  geom_point(stat=\"identity\", aes(colour = reorder(State_Full1, Prevalence, median)), size = 10, alpha = 0.1, pch = 15) + # fill color by State\n",
    "  scale_colour_discrete(guide = guide_legend(title = \"US. States\")) + # Legend Name\n",
    "  scale_y_continuous(name = \"Prevalence per 1,000 Children\",\n",
    "                     breaks = seq(10, 35, 5),\n",
    "                     limits=c(10, 35)) +\n",
    "  scale_x_discrete(name = \"US. States\") +\n",
    "  ggtitle(\"Prevalence Estimates with 95% CI by State [ Source: ADDM ] [ Year 2014 ]\") +\n",
    "  theme(title = element_text(face = 'bold.italic', color = \"darkslategrey\"), \n",
    "        axis.title = element_text(face = 'plain', color = \"darkslategrey\"),\n",
    "        legend.position = 'none') +\n",
    "  geom_text(aes(label=Prevalence), hjust=0.5, color=\"black\", size=3.5)  # Show data label inside bars"
   ]
  },
  {
   "cell_type": "code",
   "execution_count": null,
   "metadata": {},
   "outputs": [],
   "source": [
    "# Show plot\n",
    "p"
   ]
  },
  {
   "cell_type": "code",
   "execution_count": null,
   "metadata": {},
   "outputs": [],
   "source": [
    "# Add Lower.CI\n",
    "p = p + geom_point(data = ASD_State_Subset, aes(x = reorder(State_Full1, Prevalence, median), y = Lower.CI,\n",
    "                                                shape=Source # point shape\n",
    "), \n",
    "size = 2 # point size\n",
    ") +\n",
    "  #  geom_text(aes(label=Lower.CI), hjust=-0.1, vjust=3, color=\"darkslategrey\", size=2.5) + # Show data label inside bars \n",
    "  scale_shape_manual(values=3)  # manual define point shape\n",
    "# Show plot\n",
    "p"
   ]
  },
  {
   "cell_type": "code",
   "execution_count": null,
   "metadata": {},
   "outputs": [],
   "source": [
    "# Add Upper.CI\n",
    "p = p + geom_point(data = ASD_State_Subset, aes(x = reorder(State_Full1, Prevalence, median), y = Upper.CI, \n",
    "                                                shape=Source # point shape\n",
    "), \n",
    "size = 2 # point size\n",
    ") \n",
    "#  geom_text(aes(label=Upper.CI), hjust=-0.1, vjust=-3, color=\"darkslategrey\", size=2.5) # Show data label inside bars \n",
    "# Show plot\n",
    "p"
   ]
  },
  {
   "cell_type": "code",
   "execution_count": null,
   "metadata": {},
   "outputs": [],
   "source": [
    "# theme of the economist magazine:\n",
    "# p + theme_economist() + scale_colour_economist() + scale_colour_discrete(guide = guide_legend(title = \"US. States\")) + theme(legend.position = 'none')"
   ]
  },
  {
   "cell_type": "code",
   "execution_count": null,
   "metadata": {},
   "outputs": [],
   "source": [
    "# Dynamic chart\n",
    "p_dynamic <- p + theme_economist() + scale_colour_economist() + scale_colour_discrete(guide = guide_legend(title = \"US. States\")) + theme(legend.position = 'none')\n",
    "p_dynamic <- ggplotly(p_dynamic)\n",
    "p_dynamic"
   ]
  },
  {
   "cell_type": "markdown",
   "metadata": {},
   "source": [
    "<div class=\"alert alert-danger alertdanger\" style=\"margin-top: 20px\">\n",
    "    <h3>\n",
    "        Quiz:\n",
    "    </h3>\n",
    "    <p>\n",
    "        Create <span style=\"color:blue\">Prevalence Estimates with 95% CI by State [ Source: ADDM ] [Year CCYY]</span> for other data sources & years:\n",
    "    </p>\n",
    "</div>"
   ]
  },
  {
   "cell_type": "code",
   "execution_count": null,
   "metadata": {},
   "outputs": [],
   "source": [
    "# Write your code below and press Shift+Enter to execute \n"
   ]
  },
  {
   "cell_type": "markdown",
   "metadata": {},
   "source": [
    "Double-click <b>here</b> for the solution.\n",
    "\n",
    "<!-- The answer is below:\n",
    "\n",
    "# Write your code below and press Shift+Enter to execute \n",
    "# TBD\n",
    "\n",
    "-->"
   ]
  },
  {
   "cell_type": "markdown",
   "metadata": {},
   "source": [
    "<div class=\"alert alert-block alert-info\" style=\"margin-top: 20px\">\n",
    "    <h3>\n",
    "    Data Visualisation (Enhanced) - <span style=\"color:blue\">[ R ] US. State Level</span> Prevalence Estimates over Year [ Source: ADDM ] [ State: AZ-Arizona ]\n",
    "    </h3>\n",
    "</div>\n"
   ]
  },
  {
   "cell_type": "code",
   "execution_count": null,
   "metadata": {},
   "outputs": [],
   "source": [
    "# Adjust in-line plot size to M x N\n",
    "# options(repr.plot.width=8, repr.plot.height=4)"
   ]
  },
  {
   "cell_type": "markdown",
   "metadata": {},
   "source": [
    "Visualise: **Prevalence Estimates over Year [ Source: ADDM ] [ State: AZ-Arizona ]**"
   ]
  },
  {
   "cell_type": "code",
   "execution_count": null,
   "metadata": {},
   "outputs": [],
   "source": [
    "# All year/time Prevalence data with: Source_UC == 'ADDM' & State_Full2 == 'AZ-Arizona'\n",
    "ASD_State_Subset <- subset(ASD_State, Source_UC == 'ADDM' & State_Full2 == 'AZ-Arizona')\n",
    "\n",
    "# Line plot/chart for < State ASD Prevalence [ADDM] [AZ-Arizona] >\n",
    "p <- ggplot(ASD_State_Subset, aes(x = Year, y = Prevalence))\n",
    "# Select (add) line chart type:\n",
    "p <- p + geom_line(aes(color = State_Full2),\n",
    "                   linetype = \"solid\",  # http://sape.inf.usi.ch/quick-reference/ggplot2/linetype\n",
    "                   size=1,\n",
    "                   alpha=0.5) \n",
    "# Select (add) points to chart:\n",
    "p <- p + geom_point(aes(color = State_Full2),\n",
    "                    size=3, \n",
    "                    shape=20,\n",
    "                    alpha=0.5) \n",
    "# Customize legend name:\n",
    "p <- p + labs(color = \"US. State\")\n",
    "# Adjust x and y axis, scale, limit and labels:\n",
    "p <- p + scale_y_continuous(name = \"Prevalence per 1,000 Children\",\n",
    "                            breaks = seq(0, 30, 5),\n",
    "                            limits=c(0, 30)) +\n",
    "  scale_x_continuous(name = \"Year\", \n",
    "                     breaks = seq(2000, 2016, 1), \n",
    "                     limits = c(2000, 2016)) \n",
    "# Customize chart title:\n",
    "p <- p + ggtitle(\"Prevalence Estimates over Year [ Source: ADDM ] [ State: AZ-Arizona ]\") \n",
    "# Customize chart title and axis labels:\n",
    "p <- p + theme(title = element_text(face = 'bold.italic', color = \"darkslategrey\"), \n",
    "               axis.title = element_text(face = 'plain', color = \"darkslategrey\")) "
   ]
  },
  {
   "cell_type": "code",
   "execution_count": null,
   "metadata": {},
   "outputs": [],
   "source": [
    "# Show plot\n",
    "p"
   ]
  },
  {
   "cell_type": "code",
   "execution_count": null,
   "metadata": {},
   "outputs": [],
   "source": [
    "# Theme of the economist magazine:\n",
    "p + theme_economist() + scale_colour_economist()"
   ]
  },
  {
   "cell_type": "markdown",
   "metadata": {},
   "source": [
    "<div class=\"alert alert-block alert-info\" style=\"margin-top: 20px\">\n",
    "    <h3>\n",
    "    Data Visualisation (Enhanced) - <span style=\"color:blue\">[ R ] US. State Level</span> Prevalence Estimates over Year [ Source: ADDM ] [ State: ALL ]\n",
    "    </h3>\n",
    "</div>\n"
   ]
  },
  {
   "cell_type": "code",
   "execution_count": null,
   "metadata": {},
   "outputs": [],
   "source": [
    "# Adjust in-line plot size to M x N\n",
    "# options(repr.plot.width=8, repr.plot.height=4)"
   ]
  },
  {
   "cell_type": "markdown",
   "metadata": {},
   "source": [
    "Visualise: **Prevalence Estimates over Year [ Source: ADDM ] [ State: ALL ]**"
   ]
  },
  {
   "cell_type": "code",
   "execution_count": null,
   "metadata": {},
   "outputs": [],
   "source": [
    "p <- ggplot(ASD_State_ADDM, aes(x = Year, y = Prevalence))\n",
    "# Select (add) line chart type:\n",
    "p <- p + geom_line(aes(color = State_Full2),\n",
    "                   linetype = \"solid\",  # http://sape.inf.usi.ch/quick-reference/ggplot2/linetype\n",
    "                   size=1,\n",
    "                   alpha=0.5) \n",
    "# Select (add) points to chart:\n",
    "p <- p + geom_point(aes(color = State_Full2),\n",
    "                    size=3, \n",
    "                    shape=20,\n",
    "                    alpha=0.5) \n",
    "# Show plot\n",
    "# p\n",
    "# Customize line color and legend name:\n",
    "p <- p + labs(color = \"US. State\")\n",
    "# Adjust x and y axis, scale, limit and labels:\n",
    "p <- p + scale_y_continuous(name = \"Prevalence per 1,000 Children\",\n",
    "                            breaks = seq(0, 30, 5),\n",
    "                            limits=c(0, 30)) +\n",
    "  scale_x_continuous(name = \"Year (2000 - 2016)\", \n",
    "                     breaks = seq(2000, 2016, 1), \n",
    "                     limits = c(2000, 2016)) \n",
    "# Customize chart title:\n",
    "p <- p + ggtitle(\"Prevalence Estimates over Year [ Source: ADDM ] [ State: ALL ]\") \n",
    "# Customize chart title and axis labels:\n",
    "p <- p + theme(title = element_text(face = 'bold.italic', color = \"darkslategrey\"), \n",
    "               axis.title = element_text(face = 'plain', color = \"darkslategrey\"),\n",
    "               legend.position=\"right\")\n"
   ]
  },
  {
   "cell_type": "code",
   "execution_count": null,
   "metadata": {},
   "outputs": [],
   "source": [
    "# Show plot\n",
    "p"
   ]
  },
  {
   "cell_type": "code",
   "execution_count": null,
   "metadata": {},
   "outputs": [],
   "source": [
    "# Dynamic chart\n",
    "p_dynamic <- p + theme_economist() + scale_colour_economist() + scale_colour_discrete(guide = guide_legend(title = \"US. States\"))\n",
    "p_dynamic <- ggplotly(p_dynamic)\n",
    "p_dynamic"
   ]
  },
  {
   "cell_type": "markdown",
   "metadata": {},
   "source": [
    "**Split chart by state**"
   ]
  },
  {
   "cell_type": "code",
   "execution_count": null,
   "metadata": {},
   "outputs": [],
   "source": [
    "# Show plot in facet_grid\n",
    "p + facet_grid(facets = . ~ State) + \n",
    "  theme(legend.position = \"none\", # Hide legend\n",
    "        axis.text.x=element_blank(),  # Hide axis\n",
    "        axis.ticks.x=element_blank(), # Hide axis\n",
    "        panel.background = element_blank(), # Remove panel background\n",
    "        panel.grid.major = element_line(size = 0.1, linetype = 1, colour = \"lightgrey\")\n",
    "  ) "
   ]
  },
  {
   "cell_type": "markdown",
   "metadata": {},
   "source": [
    "<div class=\"alert alert-block alert-info\" style=\"margin-top: 20px\">\n",
    "    <h3>\n",
    "    Data Visualisation (Enhanced) - Plotting on Map\n",
    "    </h3>\n",
    "</div>\n"
   ]
  },
  {
   "cell_type": "code",
   "execution_count": null,
   "metadata": {},
   "outputs": [],
   "source": [
    "# ----------------------------------\n",
    "# EDA - Visualisation on map\n",
    "# ----------------------------------\n",
    "if(!require(usmap)){install.packages(\"usmap\")}\n",
    "library(usmap) # usmap: Mapping the US"
   ]
  },
  {
   "cell_type": "markdown",
   "metadata": {},
   "source": [
    "<div class=\"alert alert-block alert-info\" style=\"margin-top: 20px\">\n",
    "    <h3>\n",
    "    Data Visualisation (Enhanced) - Plotting on Map <span style=\"color:blue\">[ CDC ] REPORTED PREVALENCE VARIES BY GEOGRAPHIC LOCATION</span>\n",
    "    </h3>\n",
    "</div>\n",
    "\n"
   ]
  },
  {
   "cell_type": "markdown",
   "metadata": {},
   "source": [
    "![](../reference/CDC_ASD/ADV_addm_2014_Prevalence_Estimates_by_Geographic_Area.png)\n"
   ]
  },
  {
   "cell_type": "markdown",
   "metadata": {},
   "source": [
    "<div class=\"alert alert-block alert-info\" style=\"margin-top: 20px\">\n",
    "    <h3>\n",
    "    Data Visualisation (Enhanced) - Plotting on Map <span style=\"color:blue\">[ R ] REPORTED PREVALENCE VARIES BY GEOGRAPHIC LOCATION</span>\n",
    "    </h3>\n",
    "</div>\n"
   ]
  },
  {
   "cell_type": "markdown",
   "metadata": {},
   "source": [
    "**Let's review data availability by data Sources & Years:**\n",
    "\n",
    "* ASD_State_ADDM in Years: 2000, 2002, 2004, 2006, 2008, 2010, 2012, 2014\n",
    "\n",
    "* ASD_State_MEDI in Years: 2000 ~ 2012\n",
    "\n",
    "* ASD_State_NSCH in Years: 2004, 2008, 2012, 2016\n",
    "\n",
    "* ASD_State_SPED in Years: 2000 ~ 2016\n"
   ]
  },
  {
   "cell_type": "markdown",
   "metadata": {},
   "source": [
    "![](../reference/R/plot_Barplot_Years_Data_Available.png)\n"
   ]
  },
  {
   "cell_type": "markdown",
   "metadata": {},
   "source": [
    "![](../reference/R/plot_Barplot_Years_Data_Available_by_State.png)\n"
   ]
  },
  {
   "cell_type": "markdown",
   "metadata": {},
   "source": [
    "<div class=\"alert alert-block alert-info\" style=\"margin-top: 20px\">\n",
    "    <h3>\n",
    "    Data Visualisation (Enhanced) - Plotting on Map <span style=\"color:blue\">[ R ] REPORTED PREVALENCE VARIES BY GEOGRAPHIC LOCATION</span> [ Source: ADDM ] [ Year: 2014 ]\n",
    "    </h3>\n",
    "</div>\n"
   ]
  },
  {
   "cell_type": "code",
   "execution_count": null,
   "metadata": {},
   "outputs": [],
   "source": [
    "# Adjust in-line plot size to M x N\n",
    "# options(repr.plot.width=8, repr.plot.height=4)"
   ]
  },
  {
   "cell_type": "markdown",
   "metadata": {},
   "source": [
    "**Prepare US State level data:** [ Source: ADDM ] [ Year: 2014 ]"
   ]
  },
  {
   "cell_type": "code",
   "execution_count": null,
   "metadata": {},
   "outputs": [],
   "source": [
    "# Prepare data - addm 2014\n",
    "Map_Data_Source = 'addm' # Available values lowercase: 'addm', 'medi', 'nsch', 'sped'.\n",
    "Map_Data_Value = 'Prevalence' # variable must be numeric, variable name in 'quotation'. Or else Error: Discrete value supplied to continuous scale\n",
    "\n",
    "# Uncomment below to use Prevalence of different groups:\n",
    "# Map_Data_Value = 'Male.Prevalence' # variable must be numeric, variable name in 'quotation'. Or else Error: Discrete value supplied to continuous scale\n",
    "# Map_Data_Value = 'Female.Prevalence' # variable must be numeric, variable name in 'quotation'. Or else Error: Discrete value supplied to continuous scale\n",
    "# Map_Data_Value = 'Asian.or.Pacific.Islander.Prevalence' # variable must be numeric, variable name in 'quotation'. Or else Error: Discrete value supplied to continuous scale\n",
    "\n",
    "Map_Data_Year = 2014 # must be integer\n",
    "ASD_State_Subset = subset(ASD_State, Source == Map_Data_Source & Year == Map_Data_Year)"
   ]
  },
  {
   "cell_type": "markdown",
   "metadata": {},
   "source": [
    "**The usmap package/function requires input data to have a column of  <span style=\"color:blue\">state</span>, or  <span style=\"color:blue\">fips</span>.** (case sensitive)\n",
    "\n",
    "* state: Name of US state\n",
    "\n",
    "* fips: FIPS code for either a US state\n",
    "\n",
    "https://cran.r-project.org/web/packages/usmap/vignettes/mapping.html\n",
    "\n",
    "https://cran.r-project.org/web/packages/usmap/usmap.pdf"
   ]
  },
  {
   "cell_type": "code",
   "execution_count": null,
   "metadata": {},
   "outputs": [],
   "source": [
    "# The usmap package/function requires input data to have a column of 'state', or 'fips'. (case sensitive)\n",
    "ASD_State_Subset$state = ASD_State_Subset$State \n",
    "# Glance\n",
    "head(ASD_State_Subset)"
   ]
  },
  {
   "cell_type": "markdown",
   "metadata": {},
   "source": [
    "Visualise: **Prevalence Estimates by Geographic Area** [ Source: ADDM ] [ Year: 2014 ]"
   ]
  },
  {
   "cell_type": "code",
   "execution_count": null,
   "metadata": {},
   "outputs": [],
   "source": [
    "# Show data on map\n",
    "p_map_addm_2014 <- plot_usmap(data = ASD_State_Subset, values = Map_Data_Value, \n",
    "                              color = \"white\", # map line colour\n",
    "                              labels = TRUE,  # State name shown\n",
    "                              label_color = 'white' # State name colour\n",
    ") + \n",
    "  scale_fill_continuous(\n",
    "    na.value = \"lightgrey\", # Set colour with no State data\n",
    "    low=\"lightblue1\", high = \"darkblue\", \n",
    "    name = \"Prevalence\\nper 1,000\\nChildren\", \n",
    "    limits=c(0, 40) #same colour levels/limits for plots\n",
    "  ) +\n",
    "  labs(title = paste(\"Prevalence Estimates by Geographic Area\", '\\n[ Measure :', Map_Data_Value, \"] [ Source :\", Map_Data_Source, \"] [ Year :\", Map_Data_Year, \"]\"),\n",
    "       subtitle = 'https://www.cdc.gov/ncbddd/autism'\n",
    "  ) + \n",
    "  theme(panel.background = element_rect(color = \"white\", fill = \"white\"),\n",
    "        legend.position = \"right\")\n",
    "# Show map\n",
    "p_map_addm_2014"
   ]
  },
  {
   "cell_type": "code",
   "execution_count": null,
   "metadata": {},
   "outputs": [],
   "source": [
    "# Dynamic map\n",
    "p_dynamic <- p_map_addm_2014\n",
    "p_dynamic <- ggplotly(p_dynamic)\n",
    "p_dynamic"
   ]
  },
  {
   "cell_type": "markdown",
   "metadata": {},
   "source": [
    "<div class=\"alert alert-block alert-info\" style=\"margin-top: 20px\">\n",
    "    <h3>\n",
    "    Data Visualisation (Enhanced) - Plotting on Map <span style=\"color:blue\">[ R ] REPORTED PREVALENCE VARIES BY GEOGRAPHIC LOCATION</span> [ Source: NSCH] [ Year: 2004, 2008, 2012, 2016 ]\n",
    "    </h3>\n",
    "</div>\n"
   ]
  },
  {
   "cell_type": "markdown",
   "metadata": {},
   "source": [
    "**Prepare US State level data:** [ Source: NSCH ] [ Year: ALL ]"
   ]
  },
  {
   "cell_type": "code",
   "execution_count": null,
   "metadata": {},
   "outputs": [],
   "source": [
    "Map_Data_Source = 'nsch' # Available values lowercase: 'addm', 'medi', 'nsch', 'sped'.\n",
    "Map_Data_Value = 'Prevalence' # variable must be numeric, variable name in 'quotation'. Or else Error: Discrete value supplied to continuous scale"
   ]
  },
  {
   "cell_type": "markdown",
   "metadata": {},
   "source": [
    "Visualise: **Prevalence Estimates by Geographic Area** [ Source: NSCH ] [ Year: 2004 ]"
   ]
  },
  {
   "cell_type": "code",
   "execution_count": null,
   "metadata": {},
   "outputs": [],
   "source": [
    "# Prepare data - nsch 2004\n",
    "Map_Data_Year = 2004 # must be integer\n",
    "ASD_State_Subset = subset(ASD_State, Source == Map_Data_Source & Year == Map_Data_Year)\n",
    "ASD_State_Subset$state = ASD_State_Subset$State\n",
    "# Plot on map\n",
    "p_map_nsch_2004 <- plot_usmap(data = ASD_State_Subset, values = Map_Data_Value, color = \"white\", labels = F, label_color = 'white' ) + scale_fill_continuous(na.value = \"lightgrey\", low=\"lightblue1\", high = \"darkblue\", name = \"Prevalence\\nper 1,000\\nChildren\", limits=c(0, 40) ) + labs(title = paste(\"Prevalence Estimates by Geographic Area\", '\\n[ Measure :', Map_Data_Value, \"] [ Source :\", Map_Data_Source, \"] [ Year :\", Map_Data_Year, \"]\"), subtitle = 'https://www.cdc.gov/ncbddd/autism' ) + theme(panel.background = element_rect(color = \"white\", fill = \"white\"), legend.position = \"right\")\n",
    "p_map_nsch_2004"
   ]
  },
  {
   "cell_type": "markdown",
   "metadata": {},
   "source": [
    "Visualise: **Prevalence Estimates by Geographic Area** [ Source: NSCH ] [ Year: 2008 ]"
   ]
  },
  {
   "cell_type": "code",
   "execution_count": null,
   "metadata": {},
   "outputs": [],
   "source": [
    "# Prepare data - nsch 2008\n",
    "Map_Data_Year = 2008 # must be integer\n",
    "ASD_State_Subset = subset(ASD_State, Source == Map_Data_Source & Year == Map_Data_Year)\n",
    "ASD_State_Subset$state = ASD_State_Subset$State\n",
    "p_map_nsch_2008 <- plot_usmap(data = ASD_State_Subset, values = Map_Data_Value, color = \"white\", labels = F, label_color = 'white' ) + scale_fill_continuous(na.value = \"lightgrey\", low=\"lightblue1\", high = \"darkblue\", name = \"Prevalence\\nper 1,000\\nChildren\", limits=c(0, 40) ) + labs(title = paste(\"Prevalence Estimates by Geographic Area\", '\\n[ Measure :', Map_Data_Value, \"] [ Source :\", Map_Data_Source, \"] [ Year :\", Map_Data_Year, \"]\"), subtitle = 'https://www.cdc.gov/ncbddd/autism' ) + theme(panel.background = element_rect(color = \"white\", fill = \"white\"), legend.position = \"right\")\n",
    "p_map_nsch_2008"
   ]
  },
  {
   "cell_type": "markdown",
   "metadata": {},
   "source": [
    "Visualise: **Prevalence Estimates by Geographic Area** [ Source: NSCH ] [ Year: 2012 ]"
   ]
  },
  {
   "cell_type": "code",
   "execution_count": null,
   "metadata": {},
   "outputs": [],
   "source": [
    "# Prepare data - nsch 2012\n",
    "Map_Data_Year = 2012 # must be integer\n",
    "ASD_State_Subset = subset(ASD_State, Source == Map_Data_Source & Year == Map_Data_Year)\n",
    "ASD_State_Subset$state = ASD_State_Subset$State\n",
    "p_map_nsch_2012 <- plot_usmap(data = ASD_State_Subset, values = Map_Data_Value, color = \"white\", labels = F, label_color = 'white' ) + scale_fill_continuous(na.value = \"lightgrey\", low=\"lightblue1\", high = \"darkblue\", name = \"Prevalence\\nper 1,000\\nChildren\", limits=c(0, 40) ) + labs(title = paste(\"Prevalence Estimates by Geographic Area\", '\\n[ Measure :', Map_Data_Value, \"] [ Source :\", Map_Data_Source, \"] [ Year :\", Map_Data_Year, \"]\"), subtitle = 'https://www.cdc.gov/ncbddd/autism' ) + theme(panel.background = element_rect(color = \"white\", fill = \"white\"), legend.position = \"right\")\n",
    "p_map_nsch_2012"
   ]
  },
  {
   "cell_type": "markdown",
   "metadata": {},
   "source": [
    "Visualise: **Prevalence Estimates by Geographic Area** [ Source: NSCH ] [ Year: 2016 ]"
   ]
  },
  {
   "cell_type": "code",
   "execution_count": null,
   "metadata": {},
   "outputs": [],
   "source": [
    "# Prepare data - nsch 2016\n",
    "Map_Data_Year = 2016 # must be integer\n",
    "ASD_State_Subset = subset(ASD_State, Source == Map_Data_Source & Year == Map_Data_Year)\n",
    "ASD_State_Subset$state = ASD_State_Subset$State\n",
    "p_map_nsch_2016 <- plot_usmap(data = ASD_State_Subset, values = Map_Data_Value, color = \"white\", labels = F, label_color = 'white' ) + scale_fill_continuous(na.value = \"lightgrey\", low=\"lightblue1\", high = \"darkblue\", name = \"Prevalence\\nper 1,000\\nChildren\", limits=c(0, 40) ) + labs(title = paste(\"Prevalence Estimates by Geographic Area\", '\\n[ Measure :', Map_Data_Value, \"] [ Source :\", Map_Data_Source, \"] [ Year :\", Map_Data_Year, \"]\"), subtitle = 'https://www.cdc.gov/ncbddd/autism' ) + theme(panel.background = element_rect(color = \"white\", fill = \"white\"), legend.position = \"right\")\n",
    "p_map_nsch_2016"
   ]
  },
  {
   "cell_type": "code",
   "execution_count": null,
   "metadata": {},
   "outputs": [],
   "source": [
    "# Dynamic map\n",
    "p_dynamic <- p_map_nsch_2016 # [ Source: NSCH ] [ Year: 2016 ]\n",
    "p_dynamic <- ggplotly(p_dynamic)\n",
    "p_dynamic"
   ]
  },
  {
   "cell_type": "markdown",
   "metadata": {},
   "source": [
    "**Combine multiple plots to show in one page/screen:**"
   ]
  },
  {
   "cell_type": "code",
   "execution_count": null,
   "metadata": {},
   "outputs": [],
   "source": [
    "# Adjust in-line plot size to M x N\n",
    "options(repr.plot.width=8, repr.plot.height=6)"
   ]
  },
  {
   "cell_type": "code",
   "execution_count": null,
   "metadata": {},
   "outputs": [],
   "source": [
    "# ----------------------------------\n",
    "# Combine multiple plots \n",
    "# ----------------------------------\n",
    "if(!require(cowplot)){install.packages(\"cowplot\")}\n",
    "library('cowplot')\n",
    "cowplot::plot_grid(\n",
    "  p_map_nsch_2004,\n",
    "  p_map_nsch_2008,\n",
    "  p_map_nsch_2012,\n",
    "  p_map_nsch_2016,\n",
    "  nrow = 2)"
   ]
  },
  {
   "cell_type": "markdown",
   "metadata": {},
   "source": [
    "**Export current plot as image file:**"
   ]
  },
  {
   "cell_type": "code",
   "execution_count": null,
   "metadata": {},
   "outputs": [],
   "source": [
    "# ----------------------------------\n",
    "# Export current plot as image file\n",
    "# ----------------------------------\n",
    "ggsave(\"plot Map Prevalence Estimates by Geographic Area [NSCH] [2004-2016].png\", \n",
    "       width = 60, height = 30, units = 'cm')"
   ]
  },
  {
   "cell_type": "markdown",
   "metadata": {},
   "source": [
    "<div class=\"alert alert-block alert-info\" style=\"margin-top: 20px\">\n",
    "    <a href=\"\">\n",
    "    </a>\n",
    "</div>\n",
    "\n"
   ]
  },
  {
   "cell_type": "markdown",
   "metadata": {},
   "source": [
    "## <span style=\"color:blue\">Workshop Submission</span>\n"
   ]
  },
  {
   "cell_type": "markdown",
   "metadata": {},
   "source": [
    "<div class=\"alert alert-danger alertdanger\" style=\"margin-top: 20px\">\n",
    "    <h3>\n",
    "        What to submit?\n",
    "    </h3>\n",
    "    <p>\n",
    "        Choose one of below visualisations/charts, use R to construct the chart nicely.\n",
    "    </p>\n",
    "    <p>\n",
    "        Optionally, enhance it with additional data dimensions to be better than original chart.\n",
    "    </p>\n",
    "</div>"
   ]
  },
  {
   "cell_type": "markdown",
   "metadata": {},
   "source": [
    "https://www.cdc.gov/ncbddd/autism/data/index.html\n",
    "\n"
   ]
  },
  {
   "cell_type": "markdown",
   "metadata": {},
   "source": [
    "![](../reference/CDC_ASD/ADV_ASD_Data_Collection_Locations_US_States.png)"
   ]
  },
  {
   "cell_type": "markdown",
   "metadata": {},
   "source": [
    "![](../reference/CDC_ASD/ADV_addm_2014_ADDM_NETWORK_DATA.png)\n"
   ]
  },
  {
   "cell_type": "markdown",
   "metadata": {},
   "source": [
    "![](../reference/CDC_ASD/ADV_addm_Prevalence_Estimates_by_Race_Ethnicity.png)\n"
   ]
  },
  {
   "cell_type": "markdown",
   "metadata": {},
   "source": [
    "![](../reference/CDC_ASD/ADV_addm_2012_Confidence_Intervals_by_Data_Set_Location.png)\n"
   ]
  },
  {
   "cell_type": "code",
   "execution_count": null,
   "metadata": {},
   "outputs": [],
   "source": [
    "# Write your code below and press Shift+Enter to execute \n"
   ]
  },
  {
   "cell_type": "markdown",
   "metadata": {},
   "source": [
    "<div class=\"alert alert-block alert-info\" style=\"margin-top: 20px\">\n",
    "</div>\n"
   ]
  },
  {
   "cell_type": "markdown",
   "metadata": {},
   "source": [
    "### Excellent! You have completed the workshop notebook!"
   ]
  },
  {
   "cell_type": "markdown",
   "metadata": {},
   "source": [
    "**Connect with the author:**\n",
    "\n",
    "This notebook was written by [GU Zhan (Sam)](https://sg.linkedin.com/in/zhan-gu-27a82823 \"GU Zhan (Sam)\").\n",
    "\n",
    "[Sam](https://www.iss.nus.edu.sg/about-us/staff/detail/201/GU_Zhan \"GU Zhan (Sam)\") is currently a lecturer in [Institute of Systems Science](https://www.iss.nus.edu.sg/ \"NUS-ISS\") in [National University of Singapore](http://www.nus.edu.sg/ \"NUS\"). He devotes himself into pedagogy & andragogy, and is very passionate in inspiring next generation of artificial intelligence lovers and leaders.\n"
   ]
  },
  {
   "cell_type": "markdown",
   "metadata": {},
   "source": [
    "Copyright &copy; 2020 GU Zhan\n",
    "\n",
    "This notebook and its source code are released under the terms of the [MIT License](https://en.wikipedia.org/wiki/MIT_License \"Copyright (c) 2020 GU ZHAN\").\n",
    "\n",
    "Permission is hereby granted, free of charge, to any person obtaining a copy\n",
    "of this software and associated documentation files (the \"Software\"), to deal\n",
    "in the Software without restriction, including without limitation the rights\n",
    "to use, copy, modify, merge, publish, distribute, sublicense, and/or sell\n",
    "copies of the Software, and to permit persons to whom the Software is\n",
    "furnished to do so, subject to the following conditions:\n",
    "\n",
    "The above copyright notice and this permission notice shall be included in all\n",
    "copies or substantial portions of the Software.\n",
    "\n",
    "THE SOFTWARE IS PROVIDED \"AS IS\", WITHOUT WARRANTY OF ANY KIND, EXPRESS OR\n",
    "IMPLIED, INCLUDING BUT NOT LIMITED TO THE WARRANTIES OF MERCHANTABILITY,\n",
    "FITNESS FOR A PARTICULAR PURPOSE AND NONINFRINGEMENT. IN NO EVENT SHALL THE\n",
    "AUTHORS OR COPYRIGHT HOLDERS BE LIABLE FOR ANY CLAIM, DAMAGES OR OTHER\n",
    "LIABILITY, WHETHER IN AN ACTION OF CONTRACT, TORT OR OTHERWISE, ARISING FROM,\n",
    "OUT OF OR IN CONNECTION WITH THE SOFTWARE OR THE USE OR OTHER DEALINGS IN THE\n",
    "SOFTWARE.\n"
   ]
  },
  {
   "cell_type": "markdown",
   "metadata": {},
   "source": [
    "<div class=\"alert alert-block alert-info\" style=\"margin-top: 20px\">\n",
    "    <a href=\"\">\n",
    "    </a>\n",
    "</div>\n"
   ]
  },
  {
   "cell_type": "markdown",
   "metadata": {},
   "source": [
    "## <span style=\"color:blue\">Appendices</span>\n"
   ]
  },
  {
   "cell_type": "markdown",
   "metadata": {},
   "source": [
    "<div class=\"alert alert-block alert-info\" style=\"margin-top: 20px\">\n",
    "    <h3>\n",
    "    Interactive workshops: < Learning R inside R > using swirl() (in R/RStudio)\n",
    "    </h3>\n",
    "</div>\n"
   ]
  },
  {
   "cell_type": "markdown",
   "metadata": {},
   "source": [
    "https://github.com/telescopeuser/S-SB-Workshop\n"
   ]
  },
  {
   "cell_type": "markdown",
   "metadata": {},
   "source": [
    "<div class=\"alert alert-block alert-info\" style=\"margin-top: 20px\">\n",
    "    <h3>\n",
    "    Correlation of Numeric Variables\n",
    "    </h3>\n",
    "</div>\n"
   ]
  },
  {
   "cell_type": "code",
   "execution_count": null,
   "metadata": {},
   "outputs": [],
   "source": [
    "# ----------------------------------\n",
    "# Correlation of Numeric Variables\n",
    "# ----------------------------------\n",
    "cor_df = select_if(ASD_State, is.numeric) # Select only numeric variables\n",
    "cor_df = cor_df[, colSums(is.na(cor_df)) == 0] #  Select vaariables without NA\n",
    "\n",
    "# Compute correlation matrix for No-NA numeric variables:\n",
    "cor_table = cor(cor_df)\n",
    "cor_table"
   ]
  },
  {
   "cell_type": "code",
   "execution_count": null,
   "metadata": {},
   "outputs": [],
   "source": [
    "# ----------------------------------\n",
    "# Visualise Correlation Matrix\n",
    "# ----------------------------------\n",
    "\n",
    "if(!require(corrplot)){install.packages(\"corrplot\")}\n",
    "library('corrplot')"
   ]
  },
  {
   "cell_type": "code",
   "execution_count": null,
   "metadata": {},
   "outputs": [],
   "source": [
    "# Sort on decreasing correlations with Prevalence\n",
    "cor_table_sorted <- as.matrix(sort(cor_table[,'Prevalence'], decreasing = TRUE))\n",
    "#\n",
    "cor_table_sorted"
   ]
  },
  {
   "cell_type": "code",
   "execution_count": null,
   "metadata": {},
   "outputs": [],
   "source": [
    "# Select corelations variables based on threshold:\n",
    "#cor_var_high <- names(which(apply(cor_table_sorted, 1, function(x) abs(x)>0.25)))\n",
    "cor_var_high <- names(which(apply(cor_table_sorted, 1, function(x) abs(x)>0.05)))\n",
    "#\n",
    "cor_var_high"
   ]
  },
  {
   "cell_type": "code",
   "execution_count": null,
   "metadata": {},
   "outputs": [],
   "source": [
    "# Visualise:\n",
    "cor_table_plot <- cor_table[cor_var_high, cor_var_high]\n",
    "# cor_table_plot\n",
    "#\n",
    "corrplot(cor_table_plot, tl.col=\"black\", tl.pos = \"lt\")"
   ]
  },
  {
   "cell_type": "markdown",
   "metadata": {},
   "source": [
    "<div class=\"alert alert-block alert-info\" style=\"margin-top: 20px\">\n",
    "    <a href=\"https://github.com/dd-consulting\">\n",
    "         <img src=\"../reference/GZ_logo.png\" width=\"60\" align=\"right\">\n",
    "    </a>\n",
    "</div>\n"
   ]
  },
  {
   "cell_type": "markdown",
   "metadata": {},
   "source": [
    "---"
   ]
  }
 ],
 "metadata": {
  "jupytext": {
   "formats": "ipynb,Rmd"
  },
  "kernelspec": {
   "display_name": "R",
   "language": "R",
   "name": "ir"
  },
  "language_info": {
   "codemirror_mode": "r",
   "file_extension": ".r",
   "mimetype": "text/x-r-source",
   "name": "R",
   "pygments_lexer": "r",
   "version": "3.6.1"
  }
 },
 "nbformat": 4,
 "nbformat_minor": 2
}
